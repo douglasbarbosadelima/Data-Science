{
  "nbformat": 4,
  "nbformat_minor": 0,
  "metadata": {
    "colab": {
      "name": "testdrive.ipynb",
      "provenance": [],
      "include_colab_link": true
    },
    "kernelspec": {
      "name": "python3",
      "display_name": "Python 3"
    }
  },
  "cells": [
    {
      "cell_type": "markdown",
      "metadata": {
        "id": "view-in-github",
        "colab_type": "text"
      },
      "source": [
        "<a href=\"https://colab.research.google.com/github/douglasbarbosadelima/Data-Science/blob/master/testdrive.ipynb\" target=\"_parent\"><img src=\"https://colab.research.google.com/assets/colab-badge.svg\" alt=\"Open In Colab\"/></a>"
      ]
    },
    {
      "cell_type": "markdown",
      "metadata": {
        "id": "gg3MF2vt43xW",
        "colab_type": "text"
      },
      "source": [
        "Test Drive com tensorflow 2.0+keras em classificação binária (Iris dataset..setosa ou não)"
      ]
    },
    {
      "cell_type": "code",
      "metadata": {
        "id": "dvUsUmzja9vm",
        "colab_type": "code",
        "colab": {}
      },
      "source": [
        "import tensorflow as tf\n",
        "import numpy as np\n",
        "from sklearn.datasets import load_iris\n",
        "import matplotlib.pyplot as plt\n",
        "from sklearn.model_selection import train_test_split"
      ],
      "execution_count": 0,
      "outputs": []
    },
    {
      "cell_type": "code",
      "metadata": {
        "id": "dd3mi_XUbADj",
        "colab_type": "code",
        "outputId": "399db210-3843-43a7-9960-e8e705633314",
        "colab": {
          "base_uri": "https://localhost:8080/",
          "height": 34
        }
      },
      "source": [
        "print(tf.__version__)"
      ],
      "execution_count": 2,
      "outputs": [
        {
          "output_type": "stream",
          "text": [
            "2.0.0\n"
          ],
          "name": "stdout"
        }
      ]
    },
    {
      "cell_type": "markdown",
      "metadata": {
        "id": "bhDfTUgcuj0_",
        "colab_type": "text"
      },
      "source": [
        "Vamos instalar tensorflow 2.0...se necessário"
      ]
    },
    {
      "cell_type": "code",
      "metadata": {
        "id": "SKZzATyUfsG5",
        "colab_type": "code",
        "outputId": "974365e2-558c-4da2-d48b-7cfda66c77c7",
        "colab": {
          "base_uri": "https://localhost:8080/",
          "height": 1000
        }
      },
      "source": [
        "!pip install tensorflow==2.0.0"
      ],
      "execution_count": 3,
      "outputs": [
        {
          "output_type": "stream",
          "text": [
            "Collecting tensorflow==2.0.0\n",
            "\u001b[?25l  Downloading https://files.pythonhosted.org/packages/46/0f/7bd55361168bb32796b360ad15a25de6966c9c1beb58a8e30c01c8279862/tensorflow-2.0.0-cp36-cp36m-manylinux2010_x86_64.whl (86.3MB)\n",
            "\u001b[K     |████████████████████████████████| 86.3MB 63kB/s \n",
            "\u001b[?25hRequirement already satisfied: astor>=0.6.0 in /usr/local/lib/python3.6/dist-packages (from tensorflow==2.0.0) (0.8.1)\n",
            "Requirement already satisfied: six>=1.10.0 in /usr/local/lib/python3.6/dist-packages (from tensorflow==2.0.0) (1.12.0)\n",
            "Collecting tensorboard<2.1.0,>=2.0.0\n",
            "\u001b[?25l  Downloading https://files.pythonhosted.org/packages/76/54/99b9d5d52d5cb732f099baaaf7740403e83fe6b0cedde940fabd2b13d75a/tensorboard-2.0.2-py3-none-any.whl (3.8MB)\n",
            "\u001b[K     |████████████████████████████████| 3.8MB 38.5MB/s \n",
            "\u001b[?25hRequirement already satisfied: numpy<2.0,>=1.16.0 in /usr/local/lib/python3.6/dist-packages (from tensorflow==2.0.0) (1.17.5)\n",
            "Collecting tensorflow-estimator<2.1.0,>=2.0.0\n",
            "\u001b[?25l  Downloading https://files.pythonhosted.org/packages/fc/08/8b927337b7019c374719145d1dceba21a8bb909b93b1ad6f8fb7d22c1ca1/tensorflow_estimator-2.0.1-py2.py3-none-any.whl (449kB)\n",
            "\u001b[K     |████████████████████████████████| 450kB 57.7MB/s \n",
            "\u001b[?25hRequirement already satisfied: wheel>=0.26 in /usr/local/lib/python3.6/dist-packages (from tensorflow==2.0.0) (0.34.2)\n",
            "Requirement already satisfied: gast==0.2.2 in /usr/local/lib/python3.6/dist-packages (from tensorflow==2.0.0) (0.2.2)\n",
            "Requirement already satisfied: grpcio>=1.8.6 in /usr/local/lib/python3.6/dist-packages (from tensorflow==2.0.0) (1.15.0)\n",
            "Requirement already satisfied: opt-einsum>=2.3.2 in /usr/local/lib/python3.6/dist-packages (from tensorflow==2.0.0) (3.1.0)\n",
            "Requirement already satisfied: wrapt>=1.11.1 in /usr/local/lib/python3.6/dist-packages (from tensorflow==2.0.0) (1.11.2)\n",
            "Requirement already satisfied: absl-py>=0.7.0 in /usr/local/lib/python3.6/dist-packages (from tensorflow==2.0.0) (0.9.0)\n",
            "Requirement already satisfied: google-pasta>=0.1.6 in /usr/local/lib/python3.6/dist-packages (from tensorflow==2.0.0) (0.1.8)\n",
            "Requirement already satisfied: keras-applications>=1.0.8 in /usr/local/lib/python3.6/dist-packages (from tensorflow==2.0.0) (1.0.8)\n",
            "Requirement already satisfied: protobuf>=3.6.1 in /usr/local/lib/python3.6/dist-packages (from tensorflow==2.0.0) (3.10.0)\n",
            "Requirement already satisfied: keras-preprocessing>=1.0.5 in /usr/local/lib/python3.6/dist-packages (from tensorflow==2.0.0) (1.1.0)\n",
            "Requirement already satisfied: termcolor>=1.1.0 in /usr/local/lib/python3.6/dist-packages (from tensorflow==2.0.0) (1.1.0)\n",
            "Requirement already satisfied: google-auth-oauthlib<0.5,>=0.4.1 in /usr/local/lib/python3.6/dist-packages (from tensorboard<2.1.0,>=2.0.0->tensorflow==2.0.0) (0.4.1)\n",
            "Requirement already satisfied: werkzeug>=0.11.15 in /usr/local/lib/python3.6/dist-packages (from tensorboard<2.1.0,>=2.0.0->tensorflow==2.0.0) (0.16.1)\n",
            "Collecting google-auth<2,>=1.6.3\n",
            "\u001b[?25l  Downloading https://files.pythonhosted.org/packages/1c/6d/7aae38a9022f982cf8167775c7fc299f203417b698c27080ce09060bba07/google_auth-1.11.0-py2.py3-none-any.whl (76kB)\n",
            "\u001b[K     |████████████████████████████████| 81kB 11.9MB/s \n",
            "\u001b[?25hRequirement already satisfied: requests<3,>=2.21.0 in /usr/local/lib/python3.6/dist-packages (from tensorboard<2.1.0,>=2.0.0->tensorflow==2.0.0) (2.21.0)\n",
            "Requirement already satisfied: markdown>=2.6.8 in /usr/local/lib/python3.6/dist-packages (from tensorboard<2.1.0,>=2.0.0->tensorflow==2.0.0) (3.1.1)\n",
            "Requirement already satisfied: setuptools>=41.0.0 in /usr/local/lib/python3.6/dist-packages (from tensorboard<2.1.0,>=2.0.0->tensorflow==2.0.0) (45.1.0)\n",
            "Requirement already satisfied: h5py in /usr/local/lib/python3.6/dist-packages (from keras-applications>=1.0.8->tensorflow==2.0.0) (2.8.0)\n",
            "Requirement already satisfied: requests-oauthlib>=0.7.0 in /usr/local/lib/python3.6/dist-packages (from google-auth-oauthlib<0.5,>=0.4.1->tensorboard<2.1.0,>=2.0.0->tensorflow==2.0.0) (1.3.0)\n",
            "Requirement already satisfied: cachetools<5.0,>=2.0.0 in /usr/local/lib/python3.6/dist-packages (from google-auth<2,>=1.6.3->tensorboard<2.1.0,>=2.0.0->tensorflow==2.0.0) (4.0.0)\n",
            "Requirement already satisfied: pyasn1-modules>=0.2.1 in /usr/local/lib/python3.6/dist-packages (from google-auth<2,>=1.6.3->tensorboard<2.1.0,>=2.0.0->tensorflow==2.0.0) (0.2.8)\n",
            "Requirement already satisfied: rsa<4.1,>=3.1.4 in /usr/local/lib/python3.6/dist-packages (from google-auth<2,>=1.6.3->tensorboard<2.1.0,>=2.0.0->tensorflow==2.0.0) (4.0)\n",
            "Requirement already satisfied: chardet<3.1.0,>=3.0.2 in /usr/local/lib/python3.6/dist-packages (from requests<3,>=2.21.0->tensorboard<2.1.0,>=2.0.0->tensorflow==2.0.0) (3.0.4)\n",
            "Requirement already satisfied: certifi>=2017.4.17 in /usr/local/lib/python3.6/dist-packages (from requests<3,>=2.21.0->tensorboard<2.1.0,>=2.0.0->tensorflow==2.0.0) (2019.11.28)\n",
            "Requirement already satisfied: urllib3<1.25,>=1.21.1 in /usr/local/lib/python3.6/dist-packages (from requests<3,>=2.21.0->tensorboard<2.1.0,>=2.0.0->tensorflow==2.0.0) (1.24.3)\n",
            "Requirement already satisfied: idna<2.9,>=2.5 in /usr/local/lib/python3.6/dist-packages (from requests<3,>=2.21.0->tensorboard<2.1.0,>=2.0.0->tensorflow==2.0.0) (2.8)\n",
            "Requirement already satisfied: oauthlib>=3.0.0 in /usr/local/lib/python3.6/dist-packages (from requests-oauthlib>=0.7.0->google-auth-oauthlib<0.5,>=0.4.1->tensorboard<2.1.0,>=2.0.0->tensorflow==2.0.0) (3.1.0)\n",
            "Requirement already satisfied: pyasn1<0.5.0,>=0.4.6 in /usr/local/lib/python3.6/dist-packages (from pyasn1-modules>=0.2.1->google-auth<2,>=1.6.3->tensorboard<2.1.0,>=2.0.0->tensorflow==2.0.0) (0.4.8)\n",
            "\u001b[31mERROR: tensorboard 2.0.2 has requirement grpcio>=1.24.3, but you'll have grpcio 1.15.0 which is incompatible.\u001b[0m\n",
            "\u001b[31mERROR: google-colab 1.0.0 has requirement google-auth~=1.4.0, but you'll have google-auth 1.11.0 which is incompatible.\u001b[0m\n",
            "Installing collected packages: google-auth, tensorboard, tensorflow-estimator, tensorflow\n",
            "  Found existing installation: google-auth 1.4.2\n",
            "    Uninstalling google-auth-1.4.2:\n",
            "      Successfully uninstalled google-auth-1.4.2\n",
            "  Found existing installation: tensorboard 1.15.0\n",
            "    Uninstalling tensorboard-1.15.0:\n",
            "      Successfully uninstalled tensorboard-1.15.0\n",
            "  Found existing installation: tensorflow-estimator 1.15.1\n",
            "    Uninstalling tensorflow-estimator-1.15.1:\n",
            "      Successfully uninstalled tensorflow-estimator-1.15.1\n",
            "  Found existing installation: tensorflow 1.15.0\n",
            "    Uninstalling tensorflow-1.15.0:\n",
            "      Successfully uninstalled tensorflow-1.15.0\n",
            "Successfully installed google-auth-1.11.0 tensorboard-2.0.2 tensorflow-2.0.0 tensorflow-estimator-2.0.1\n"
          ],
          "name": "stdout"
        },
        {
          "output_type": "display_data",
          "data": {
            "application/vnd.colab-display-data+json": {
              "pip_warning": {
                "packages": [
                  "google",
                  "tensorboard",
                  "tensorflow",
                  "tensorflow_core",
                  "tensorflow_estimator"
                ]
              }
            }
          },
          "metadata": {
            "tags": []
          }
        }
      ]
    },
    {
      "cell_type": "code",
      "metadata": {
        "id": "9QwGidtdiS_Q",
        "colab_type": "code",
        "outputId": "0765bc7b-5c5e-4274-9e1f-e5814366301a",
        "colab": {
          "base_uri": "https://localhost:8080/",
          "height": 187
        }
      },
      "source": [
        "iris = load_iris()\n",
        "X = iris['data']\n",
        "y = iris['target']\n",
        "X[:10],y[:10]"
      ],
      "execution_count": 3,
      "outputs": [
        {
          "output_type": "execute_result",
          "data": {
            "text/plain": [
              "(array([[5.1, 3.5, 1.4, 0.2],\n",
              "        [4.9, 3. , 1.4, 0.2],\n",
              "        [4.7, 3.2, 1.3, 0.2],\n",
              "        [4.6, 3.1, 1.5, 0.2],\n",
              "        [5. , 3.6, 1.4, 0.2],\n",
              "        [5.4, 3.9, 1.7, 0.4],\n",
              "        [4.6, 3.4, 1.4, 0.3],\n",
              "        [5. , 3.4, 1.5, 0.2],\n",
              "        [4.4, 2.9, 1.4, 0.2],\n",
              "        [4.9, 3.1, 1.5, 0.1]]), array([0, 0, 0, 0, 0, 0, 0, 0, 0, 0]))"
            ]
          },
          "metadata": {
            "tags": []
          },
          "execution_count": 3
        }
      ]
    },
    {
      "cell_type": "markdown",
      "metadata": {
        "id": "TGakF9bywwn6",
        "colab_type": "text"
      },
      "source": [
        "Vamos fazer classificação binária (classe 0 (Setosa) ou não).\n",
        "Para isso, temos que alterar o target (0, vira 1, o resto vira 0)"
      ]
    },
    {
      "cell_type": "code",
      "metadata": {
        "id": "gOR9tLB-ibep",
        "colab_type": "code",
        "outputId": "1f1fa219-406a-4895-ac02-dfe1544c1e49",
        "colab": {
          "base_uri": "https://localhost:8080/",
          "height": 136
        }
      },
      "source": [
        "for i in range(len(y)) :\n",
        "  if y[i]==0:y[i]=1\n",
        "  else: y[i]=0\n",
        "y"
      ],
      "execution_count": 5,
      "outputs": [
        {
          "output_type": "execute_result",
          "data": {
            "text/plain": [
              "array([0, 0, 0, 0, 0, 0, 0, 0, 0, 0, 0, 0, 0, 0, 0, 0, 0, 0, 0, 0, 0, 0,\n",
              "       0, 0, 0, 0, 0, 0, 0, 0, 0, 0, 0, 0, 0, 0, 0, 0, 0, 0, 0, 0, 0, 0,\n",
              "       0, 0, 0, 0, 0, 0, 1, 1, 1, 1, 1, 1, 1, 1, 1, 1, 1, 1, 1, 1, 1, 1,\n",
              "       1, 1, 1, 1, 1, 1, 1, 1, 1, 1, 1, 1, 1, 1, 1, 1, 1, 1, 1, 1, 1, 1,\n",
              "       1, 1, 1, 1, 1, 1, 1, 1, 1, 1, 1, 1, 1, 1, 1, 1, 1, 1, 1, 1, 1, 1,\n",
              "       1, 1, 1, 1, 1, 1, 1, 1, 1, 1, 1, 1, 1, 1, 1, 1, 1, 1, 1, 1, 1, 1,\n",
              "       1, 1, 1, 1, 1, 1, 1, 1, 1, 1, 1, 1, 1, 1, 1, 1, 1, 1])"
            ]
          },
          "metadata": {
            "tags": []
          },
          "execution_count": 5
        }
      ]
    },
    {
      "cell_type": "markdown",
      "metadata": {
        "id": "mUniF8aTxasu",
        "colab_type": "text"
      },
      "source": [
        "O Target para Tensorflow/Keras deve ser um vetor de n linhas e 1 coluna. Vamos alterar o shape.."
      ]
    },
    {
      "cell_type": "code",
      "metadata": {
        "id": "Bsr_P1vAlLFR",
        "colab_type": "code",
        "colab": {
          "base_uri": "https://localhost:8080/",
          "height": 187
        },
        "outputId": "c41038e9-8cf5-42c1-91b9-634d69bee55c"
      },
      "source": [
        "y=y.reshape((-1,1))\n",
        "print(y[:10])\n",
        "X_train, X_test, y_train, y_test = train_test_split(\n",
        "    X, y, test_size=0.3, random_state=42)"
      ],
      "execution_count": 6,
      "outputs": [
        {
          "output_type": "stream",
          "text": [
            "[[0]\n",
            " [0]\n",
            " [0]\n",
            " [0]\n",
            " [0]\n",
            " [0]\n",
            " [0]\n",
            " [0]\n",
            " [0]\n",
            " [0]]\n"
          ],
          "name": "stdout"
        }
      ]
    },
    {
      "cell_type": "code",
      "metadata": {
        "id": "cvQ8xbgij4gB",
        "colab_type": "code",
        "outputId": "6fba30c1-258a-4044-85eb-74a1b6723608",
        "colab": {
          "base_uri": "https://localhost:8080/",
          "height": 1000
        }
      },
      "source": [
        "model = tf.keras.models.Sequential()\n",
        "model.add(tf.keras.layers.Dense(1,\n",
        "                                activation=tf.nn.sigmoid,\n",
        "                                input_shape=(X.shape[1], )))\n",
        "model.compile(optimizer='adam',\n",
        "              loss='binary_crossentropy',\n",
        "              metrics=['accuracy'])\n",
        "hist = model.fit(X_train,\n",
        "                 y_train,\n",
        "                 validation_data=(X_test,y_test),\n",
        "                 epochs=300,\n",
        "                 verbose=1)\n"
      ],
      "execution_count": 13,
      "outputs": [
        {
          "output_type": "stream",
          "text": [
            "Train on 105 samples, validate on 45 samples\n",
            "Epoch 1/300\n",
            "105/105 [==============================] - 0s 4ms/sample - loss: 3.2839 - accuracy: 0.2952 - val_loss: 2.7180 - val_accuracy: 0.4222\n",
            "Epoch 2/300\n",
            "105/105 [==============================] - 0s 228us/sample - loss: 3.2380 - accuracy: 0.2952 - val_loss: 2.6805 - val_accuracy: 0.4222\n",
            "Epoch 3/300\n",
            "105/105 [==============================] - 0s 239us/sample - loss: 3.1917 - accuracy: 0.2952 - val_loss: 2.6422 - val_accuracy: 0.4222\n",
            "Epoch 4/300\n",
            "105/105 [==============================] - 0s 234us/sample - loss: 3.1466 - accuracy: 0.2952 - val_loss: 2.6033 - val_accuracy: 0.4222\n",
            "Epoch 5/300\n",
            "105/105 [==============================] - 0s 275us/sample - loss: 3.1003 - accuracy: 0.2952 - val_loss: 2.5646 - val_accuracy: 0.4222\n",
            "Epoch 6/300\n",
            "105/105 [==============================] - 0s 236us/sample - loss: 3.0553 - accuracy: 0.2952 - val_loss: 2.5259 - val_accuracy: 0.4222\n",
            "Epoch 7/300\n",
            "105/105 [==============================] - 0s 237us/sample - loss: 3.0096 - accuracy: 0.2952 - val_loss: 2.4873 - val_accuracy: 0.4222\n",
            "Epoch 8/300\n",
            "105/105 [==============================] - 0s 207us/sample - loss: 2.9638 - accuracy: 0.2952 - val_loss: 2.4489 - val_accuracy: 0.4222\n",
            "Epoch 9/300\n",
            "105/105 [==============================] - 0s 222us/sample - loss: 2.9175 - accuracy: 0.2952 - val_loss: 2.4105 - val_accuracy: 0.4222\n",
            "Epoch 10/300\n",
            "105/105 [==============================] - 0s 200us/sample - loss: 2.8720 - accuracy: 0.2952 - val_loss: 2.3723 - val_accuracy: 0.4222\n",
            "Epoch 11/300\n",
            "105/105 [==============================] - 0s 230us/sample - loss: 2.8268 - accuracy: 0.2952 - val_loss: 2.3342 - val_accuracy: 0.4222\n",
            "Epoch 12/300\n",
            "105/105 [==============================] - 0s 224us/sample - loss: 2.7822 - accuracy: 0.2952 - val_loss: 2.2961 - val_accuracy: 0.4222\n",
            "Epoch 13/300\n",
            "105/105 [==============================] - 0s 208us/sample - loss: 2.7361 - accuracy: 0.2952 - val_loss: 2.2587 - val_accuracy: 0.4222\n",
            "Epoch 14/300\n",
            "105/105 [==============================] - 0s 275us/sample - loss: 2.6915 - accuracy: 0.2952 - val_loss: 2.2212 - val_accuracy: 0.4222\n",
            "Epoch 15/300\n",
            "105/105 [==============================] - 0s 239us/sample - loss: 2.6465 - accuracy: 0.2952 - val_loss: 2.1837 - val_accuracy: 0.4222\n",
            "Epoch 16/300\n",
            "105/105 [==============================] - 0s 203us/sample - loss: 2.6021 - accuracy: 0.2952 - val_loss: 2.1464 - val_accuracy: 0.4222\n",
            "Epoch 17/300\n",
            "105/105 [==============================] - 0s 206us/sample - loss: 2.5592 - accuracy: 0.2952 - val_loss: 2.1091 - val_accuracy: 0.4222\n",
            "Epoch 18/300\n",
            "105/105 [==============================] - 0s 212us/sample - loss: 2.5148 - accuracy: 0.2952 - val_loss: 2.0721 - val_accuracy: 0.4222\n",
            "Epoch 19/300\n",
            "105/105 [==============================] - 0s 228us/sample - loss: 2.4702 - accuracy: 0.2952 - val_loss: 2.0355 - val_accuracy: 0.4222\n",
            "Epoch 20/300\n",
            "105/105 [==============================] - 0s 213us/sample - loss: 2.4276 - accuracy: 0.2952 - val_loss: 1.9986 - val_accuracy: 0.4222\n",
            "Epoch 21/300\n",
            "105/105 [==============================] - 0s 228us/sample - loss: 2.3822 - accuracy: 0.2952 - val_loss: 1.9620 - val_accuracy: 0.4222\n",
            "Epoch 22/300\n",
            "105/105 [==============================] - 0s 221us/sample - loss: 2.3391 - accuracy: 0.2952 - val_loss: 1.9249 - val_accuracy: 0.4222\n",
            "Epoch 23/300\n",
            "105/105 [==============================] - 0s 280us/sample - loss: 2.2957 - accuracy: 0.2952 - val_loss: 1.8884 - val_accuracy: 0.4222\n",
            "Epoch 24/300\n",
            "105/105 [==============================] - 0s 238us/sample - loss: 2.2508 - accuracy: 0.2952 - val_loss: 1.8521 - val_accuracy: 0.4222\n",
            "Epoch 25/300\n",
            "105/105 [==============================] - 0s 222us/sample - loss: 2.2088 - accuracy: 0.2952 - val_loss: 1.8157 - val_accuracy: 0.4222\n",
            "Epoch 26/300\n",
            "105/105 [==============================] - 0s 227us/sample - loss: 2.1665 - accuracy: 0.2952 - val_loss: 1.7797 - val_accuracy: 0.4222\n",
            "Epoch 27/300\n",
            "105/105 [==============================] - 0s 217us/sample - loss: 2.1241 - accuracy: 0.2952 - val_loss: 1.7445 - val_accuracy: 0.4222\n",
            "Epoch 28/300\n",
            "105/105 [==============================] - 0s 218us/sample - loss: 2.0808 - accuracy: 0.2952 - val_loss: 1.7097 - val_accuracy: 0.4222\n",
            "Epoch 29/300\n",
            "105/105 [==============================] - 0s 215us/sample - loss: 2.0417 - accuracy: 0.2952 - val_loss: 1.6744 - val_accuracy: 0.4222\n",
            "Epoch 30/300\n",
            "105/105 [==============================] - 0s 244us/sample - loss: 1.9986 - accuracy: 0.2952 - val_loss: 1.6401 - val_accuracy: 0.4222\n",
            "Epoch 31/300\n",
            "105/105 [==============================] - 0s 205us/sample - loss: 1.9575 - accuracy: 0.2952 - val_loss: 1.6057 - val_accuracy: 0.4222\n",
            "Epoch 32/300\n",
            "105/105 [==============================] - 0s 280us/sample - loss: 1.9166 - accuracy: 0.2952 - val_loss: 1.5713 - val_accuracy: 0.4222\n",
            "Epoch 33/300\n",
            "105/105 [==============================] - 0s 224us/sample - loss: 1.8761 - accuracy: 0.2952 - val_loss: 1.5374 - val_accuracy: 0.4222\n",
            "Epoch 34/300\n",
            "105/105 [==============================] - 0s 217us/sample - loss: 1.8349 - accuracy: 0.2952 - val_loss: 1.5036 - val_accuracy: 0.4222\n",
            "Epoch 35/300\n",
            "105/105 [==============================] - 0s 227us/sample - loss: 1.7956 - accuracy: 0.2952 - val_loss: 1.4698 - val_accuracy: 0.4222\n",
            "Epoch 36/300\n",
            "105/105 [==============================] - 0s 217us/sample - loss: 1.7544 - accuracy: 0.2952 - val_loss: 1.4368 - val_accuracy: 0.4222\n",
            "Epoch 37/300\n",
            "105/105 [==============================] - 0s 201us/sample - loss: 1.7153 - accuracy: 0.2952 - val_loss: 1.4035 - val_accuracy: 0.4222\n",
            "Epoch 38/300\n",
            "105/105 [==============================] - 0s 221us/sample - loss: 1.6771 - accuracy: 0.2952 - val_loss: 1.3706 - val_accuracy: 0.4222\n",
            "Epoch 39/300\n",
            "105/105 [==============================] - 0s 237us/sample - loss: 1.6375 - accuracy: 0.2952 - val_loss: 1.3385 - val_accuracy: 0.4222\n",
            "Epoch 40/300\n",
            "105/105 [==============================] - 0s 262us/sample - loss: 1.5989 - accuracy: 0.2952 - val_loss: 1.3063 - val_accuracy: 0.4222\n",
            "Epoch 41/300\n",
            "105/105 [==============================] - 0s 255us/sample - loss: 1.5609 - accuracy: 0.2952 - val_loss: 1.2746 - val_accuracy: 0.4222\n",
            "Epoch 42/300\n",
            "105/105 [==============================] - 0s 318us/sample - loss: 1.5229 - accuracy: 0.2952 - val_loss: 1.2436 - val_accuracy: 0.4222\n",
            "Epoch 43/300\n",
            "105/105 [==============================] - 0s 285us/sample - loss: 1.4869 - accuracy: 0.2952 - val_loss: 1.2127 - val_accuracy: 0.4222\n",
            "Epoch 44/300\n",
            "105/105 [==============================] - 0s 256us/sample - loss: 1.4500 - accuracy: 0.2952 - val_loss: 1.1824 - val_accuracy: 0.4222\n",
            "Epoch 45/300\n",
            "105/105 [==============================] - 0s 229us/sample - loss: 1.4136 - accuracy: 0.2952 - val_loss: 1.1532 - val_accuracy: 0.4222\n",
            "Epoch 46/300\n",
            "105/105 [==============================] - 0s 239us/sample - loss: 1.3779 - accuracy: 0.2952 - val_loss: 1.1247 - val_accuracy: 0.4222\n",
            "Epoch 47/300\n",
            "105/105 [==============================] - 0s 248us/sample - loss: 1.3444 - accuracy: 0.2952 - val_loss: 1.0963 - val_accuracy: 0.4222\n",
            "Epoch 48/300\n",
            "105/105 [==============================] - 0s 231us/sample - loss: 1.3103 - accuracy: 0.2952 - val_loss: 1.0684 - val_accuracy: 0.4222\n",
            "Epoch 49/300\n",
            "105/105 [==============================] - 0s 264us/sample - loss: 1.2778 - accuracy: 0.2952 - val_loss: 1.0406 - val_accuracy: 0.4222\n",
            "Epoch 50/300\n",
            "105/105 [==============================] - 0s 362us/sample - loss: 1.2449 - accuracy: 0.2952 - val_loss: 1.0137 - val_accuracy: 0.4222\n",
            "Epoch 51/300\n",
            "105/105 [==============================] - 0s 249us/sample - loss: 1.2121 - accuracy: 0.2952 - val_loss: 0.9876 - val_accuracy: 0.4222\n",
            "Epoch 52/300\n",
            "105/105 [==============================] - 0s 254us/sample - loss: 1.1809 - accuracy: 0.2952 - val_loss: 0.9618 - val_accuracy: 0.4222\n",
            "Epoch 53/300\n",
            "105/105 [==============================] - 0s 239us/sample - loss: 1.1490 - accuracy: 0.2952 - val_loss: 0.9366 - val_accuracy: 0.4222\n",
            "Epoch 54/300\n",
            "105/105 [==============================] - 0s 229us/sample - loss: 1.1196 - accuracy: 0.2952 - val_loss: 0.9115 - val_accuracy: 0.4222\n",
            "Epoch 55/300\n",
            "105/105 [==============================] - 0s 237us/sample - loss: 1.0888 - accuracy: 0.2952 - val_loss: 0.8873 - val_accuracy: 0.4222\n",
            "Epoch 56/300\n",
            "105/105 [==============================] - 0s 236us/sample - loss: 1.0607 - accuracy: 0.2952 - val_loss: 0.8632 - val_accuracy: 0.4222\n",
            "Epoch 57/300\n",
            "105/105 [==============================] - 0s 272us/sample - loss: 1.0316 - accuracy: 0.2952 - val_loss: 0.8401 - val_accuracy: 0.4222\n",
            "Epoch 58/300\n",
            "105/105 [==============================] - 0s 262us/sample - loss: 1.0040 - accuracy: 0.3048 - val_loss: 0.8178 - val_accuracy: 0.4222\n",
            "Epoch 59/300\n",
            "105/105 [==============================] - 0s 282us/sample - loss: 0.9770 - accuracy: 0.3048 - val_loss: 0.7961 - val_accuracy: 0.4222\n",
            "Epoch 60/300\n",
            "105/105 [==============================] - 0s 282us/sample - loss: 0.9511 - accuracy: 0.3048 - val_loss: 0.7751 - val_accuracy: 0.4222\n",
            "Epoch 61/300\n",
            "105/105 [==============================] - 0s 230us/sample - loss: 0.9252 - accuracy: 0.3048 - val_loss: 0.7548 - val_accuracy: 0.4222\n",
            "Epoch 62/300\n",
            "105/105 [==============================] - 0s 261us/sample - loss: 0.9010 - accuracy: 0.3143 - val_loss: 0.7349 - val_accuracy: 0.4222\n",
            "Epoch 63/300\n",
            "105/105 [==============================] - 0s 236us/sample - loss: 0.8769 - accuracy: 0.3143 - val_loss: 0.7159 - val_accuracy: 0.4222\n",
            "Epoch 64/300\n",
            "105/105 [==============================] - 0s 284us/sample - loss: 0.8538 - accuracy: 0.3333 - val_loss: 0.6977 - val_accuracy: 0.4222\n",
            "Epoch 65/300\n",
            "105/105 [==============================] - 0s 270us/sample - loss: 0.8323 - accuracy: 0.3429 - val_loss: 0.6800 - val_accuracy: 0.4222\n",
            "Epoch 66/300\n",
            "105/105 [==============================] - 0s 262us/sample - loss: 0.8102 - accuracy: 0.3714 - val_loss: 0.6629 - val_accuracy: 0.4222\n",
            "Epoch 67/300\n",
            "105/105 [==============================] - 0s 233us/sample - loss: 0.7896 - accuracy: 0.3905 - val_loss: 0.6464 - val_accuracy: 0.4667\n",
            "Epoch 68/300\n",
            "105/105 [==============================] - 0s 239us/sample - loss: 0.7694 - accuracy: 0.3905 - val_loss: 0.6307 - val_accuracy: 0.4889\n",
            "Epoch 69/300\n",
            "105/105 [==============================] - 0s 239us/sample - loss: 0.7505 - accuracy: 0.4000 - val_loss: 0.6155 - val_accuracy: 0.5778\n",
            "Epoch 70/300\n",
            "105/105 [==============================] - 0s 196us/sample - loss: 0.7313 - accuracy: 0.4190 - val_loss: 0.6008 - val_accuracy: 0.5778\n",
            "Epoch 71/300\n",
            "105/105 [==============================] - 0s 220us/sample - loss: 0.7135 - accuracy: 0.4190 - val_loss: 0.5864 - val_accuracy: 0.5778\n",
            "Epoch 72/300\n",
            "105/105 [==============================] - 0s 241us/sample - loss: 0.6959 - accuracy: 0.4190 - val_loss: 0.5727 - val_accuracy: 0.6000\n",
            "Epoch 73/300\n",
            "105/105 [==============================] - 0s 252us/sample - loss: 0.6793 - accuracy: 0.4286 - val_loss: 0.5595 - val_accuracy: 0.6222\n",
            "Epoch 74/300\n",
            "105/105 [==============================] - 0s 272us/sample - loss: 0.6632 - accuracy: 0.4381 - val_loss: 0.5472 - val_accuracy: 0.6222\n",
            "Epoch 75/300\n",
            "105/105 [==============================] - 0s 264us/sample - loss: 0.6471 - accuracy: 0.4857 - val_loss: 0.5355 - val_accuracy: 0.6444\n",
            "Epoch 76/300\n",
            "105/105 [==============================] - 0s 208us/sample - loss: 0.6324 - accuracy: 0.5143 - val_loss: 0.5239 - val_accuracy: 0.6667\n",
            "Epoch 77/300\n",
            "105/105 [==============================] - 0s 228us/sample - loss: 0.6178 - accuracy: 0.5429 - val_loss: 0.5128 - val_accuracy: 0.6667\n",
            "Epoch 78/300\n",
            "105/105 [==============================] - 0s 245us/sample - loss: 0.6042 - accuracy: 0.5429 - val_loss: 0.5020 - val_accuracy: 0.6889\n",
            "Epoch 79/300\n",
            "105/105 [==============================] - 0s 245us/sample - loss: 0.5906 - accuracy: 0.5524 - val_loss: 0.4915 - val_accuracy: 0.6889\n",
            "Epoch 80/300\n",
            "105/105 [==============================] - 0s 236us/sample - loss: 0.5770 - accuracy: 0.5810 - val_loss: 0.4815 - val_accuracy: 0.6889\n",
            "Epoch 81/300\n",
            "105/105 [==============================] - 0s 316us/sample - loss: 0.5642 - accuracy: 0.6095 - val_loss: 0.4719 - val_accuracy: 0.6889\n",
            "Epoch 82/300\n",
            "105/105 [==============================] - 0s 231us/sample - loss: 0.5528 - accuracy: 0.6476 - val_loss: 0.4626 - val_accuracy: 0.6889\n",
            "Epoch 83/300\n",
            "105/105 [==============================] - 0s 236us/sample - loss: 0.5407 - accuracy: 0.6476 - val_loss: 0.4537 - val_accuracy: 0.6889\n",
            "Epoch 84/300\n",
            "105/105 [==============================] - 0s 244us/sample - loss: 0.5290 - accuracy: 0.6571 - val_loss: 0.4455 - val_accuracy: 0.7111\n",
            "Epoch 85/300\n",
            "105/105 [==============================] - 0s 242us/sample - loss: 0.5189 - accuracy: 0.6762 - val_loss: 0.4375 - val_accuracy: 0.7333\n",
            "Epoch 86/300\n",
            "105/105 [==============================] - 0s 242us/sample - loss: 0.5080 - accuracy: 0.6857 - val_loss: 0.4302 - val_accuracy: 0.8000\n",
            "Epoch 87/300\n",
            "105/105 [==============================] - 0s 250us/sample - loss: 0.4989 - accuracy: 0.7143 - val_loss: 0.4230 - val_accuracy: 0.8000\n",
            "Epoch 88/300\n",
            "105/105 [==============================] - 0s 227us/sample - loss: 0.4895 - accuracy: 0.7333 - val_loss: 0.4162 - val_accuracy: 0.8000\n",
            "Epoch 89/300\n",
            "105/105 [==============================] - 0s 284us/sample - loss: 0.4804 - accuracy: 0.7333 - val_loss: 0.4096 - val_accuracy: 0.8000\n",
            "Epoch 90/300\n",
            "105/105 [==============================] - 0s 333us/sample - loss: 0.4717 - accuracy: 0.7429 - val_loss: 0.4033 - val_accuracy: 0.8222\n",
            "Epoch 91/300\n",
            "105/105 [==============================] - 0s 236us/sample - loss: 0.4637 - accuracy: 0.7619 - val_loss: 0.3971 - val_accuracy: 0.8444\n",
            "Epoch 92/300\n",
            "105/105 [==============================] - 0s 252us/sample - loss: 0.4553 - accuracy: 0.8095 - val_loss: 0.3914 - val_accuracy: 0.8667\n",
            "Epoch 93/300\n",
            "105/105 [==============================] - 0s 238us/sample - loss: 0.4478 - accuracy: 0.8190 - val_loss: 0.3858 - val_accuracy: 0.8889\n",
            "Epoch 94/300\n",
            "105/105 [==============================] - 0s 248us/sample - loss: 0.4402 - accuracy: 0.8190 - val_loss: 0.3806 - val_accuracy: 0.8889\n",
            "Epoch 95/300\n",
            "105/105 [==============================] - 0s 222us/sample - loss: 0.4332 - accuracy: 0.8381 - val_loss: 0.3756 - val_accuracy: 0.8889\n",
            "Epoch 96/300\n",
            "105/105 [==============================] - 0s 283us/sample - loss: 0.4266 - accuracy: 0.8571 - val_loss: 0.3707 - val_accuracy: 0.8889\n",
            "Epoch 97/300\n",
            "105/105 [==============================] - 0s 250us/sample - loss: 0.4196 - accuracy: 0.8952 - val_loss: 0.3661 - val_accuracy: 0.9333\n",
            "Epoch 98/300\n",
            "105/105 [==============================] - 0s 222us/sample - loss: 0.4135 - accuracy: 0.9333 - val_loss: 0.3618 - val_accuracy: 0.9333\n",
            "Epoch 99/300\n",
            "105/105 [==============================] - 0s 214us/sample - loss: 0.4075 - accuracy: 0.9333 - val_loss: 0.3577 - val_accuracy: 1.0000\n",
            "Epoch 100/300\n",
            "105/105 [==============================] - 0s 233us/sample - loss: 0.4017 - accuracy: 0.9429 - val_loss: 0.3538 - val_accuracy: 1.0000\n",
            "Epoch 101/300\n",
            "105/105 [==============================] - 0s 254us/sample - loss: 0.3961 - accuracy: 0.9524 - val_loss: 0.3502 - val_accuracy: 1.0000\n",
            "Epoch 102/300\n",
            "105/105 [==============================] - 0s 259us/sample - loss: 0.3913 - accuracy: 0.9524 - val_loss: 0.3467 - val_accuracy: 1.0000\n",
            "Epoch 103/300\n",
            "105/105 [==============================] - 0s 280us/sample - loss: 0.3864 - accuracy: 0.9619 - val_loss: 0.3434 - val_accuracy: 1.0000\n",
            "Epoch 104/300\n",
            "105/105 [==============================] - 0s 259us/sample - loss: 0.3813 - accuracy: 0.9714 - val_loss: 0.3402 - val_accuracy: 1.0000\n",
            "Epoch 105/300\n",
            "105/105 [==============================] - 0s 233us/sample - loss: 0.3768 - accuracy: 0.9714 - val_loss: 0.3371 - val_accuracy: 1.0000\n",
            "Epoch 106/300\n",
            "105/105 [==============================] - 0s 314us/sample - loss: 0.3723 - accuracy: 0.9714 - val_loss: 0.3340 - val_accuracy: 1.0000\n",
            "Epoch 107/300\n",
            "105/105 [==============================] - 0s 221us/sample - loss: 0.3678 - accuracy: 0.9714 - val_loss: 0.3311 - val_accuracy: 1.0000\n",
            "Epoch 108/300\n",
            "105/105 [==============================] - 0s 237us/sample - loss: 0.3635 - accuracy: 0.9714 - val_loss: 0.3284 - val_accuracy: 1.0000\n",
            "Epoch 109/300\n",
            "105/105 [==============================] - 0s 232us/sample - loss: 0.3596 - accuracy: 0.9905 - val_loss: 0.3257 - val_accuracy: 1.0000\n",
            "Epoch 110/300\n",
            "105/105 [==============================] - 0s 257us/sample - loss: 0.3557 - accuracy: 1.0000 - val_loss: 0.3233 - val_accuracy: 1.0000\n",
            "Epoch 111/300\n",
            "105/105 [==============================] - 0s 254us/sample - loss: 0.3520 - accuracy: 1.0000 - val_loss: 0.3210 - val_accuracy: 1.0000\n",
            "Epoch 112/300\n",
            "105/105 [==============================] - 0s 234us/sample - loss: 0.3484 - accuracy: 1.0000 - val_loss: 0.3189 - val_accuracy: 1.0000\n",
            "Epoch 113/300\n",
            "105/105 [==============================] - 0s 225us/sample - loss: 0.3454 - accuracy: 1.0000 - val_loss: 0.3168 - val_accuracy: 1.0000\n",
            "Epoch 114/300\n",
            "105/105 [==============================] - 0s 219us/sample - loss: 0.3422 - accuracy: 1.0000 - val_loss: 0.3148 - val_accuracy: 1.0000\n",
            "Epoch 115/300\n",
            "105/105 [==============================] - 0s 252us/sample - loss: 0.3391 - accuracy: 1.0000 - val_loss: 0.3129 - val_accuracy: 1.0000\n",
            "Epoch 116/300\n",
            "105/105 [==============================] - 0s 229us/sample - loss: 0.3362 - accuracy: 1.0000 - val_loss: 0.3111 - val_accuracy: 1.0000\n",
            "Epoch 117/300\n",
            "105/105 [==============================] - 0s 239us/sample - loss: 0.3332 - accuracy: 1.0000 - val_loss: 0.3094 - val_accuracy: 1.0000\n",
            "Epoch 118/300\n",
            "105/105 [==============================] - 0s 207us/sample - loss: 0.3304 - accuracy: 1.0000 - val_loss: 0.3078 - val_accuracy: 1.0000\n",
            "Epoch 119/300\n",
            "105/105 [==============================] - 0s 285us/sample - loss: 0.3276 - accuracy: 1.0000 - val_loss: 0.3062 - val_accuracy: 1.0000\n",
            "Epoch 120/300\n",
            "105/105 [==============================] - 0s 239us/sample - loss: 0.3253 - accuracy: 1.0000 - val_loss: 0.3046 - val_accuracy: 1.0000\n",
            "Epoch 121/300\n",
            "105/105 [==============================] - 0s 248us/sample - loss: 0.3224 - accuracy: 1.0000 - val_loss: 0.3032 - val_accuracy: 1.0000\n",
            "Epoch 122/300\n",
            "105/105 [==============================] - 0s 345us/sample - loss: 0.3200 - accuracy: 1.0000 - val_loss: 0.3018 - val_accuracy: 1.0000\n",
            "Epoch 123/300\n",
            "105/105 [==============================] - 0s 299us/sample - loss: 0.3177 - accuracy: 1.0000 - val_loss: 0.3005 - val_accuracy: 1.0000\n",
            "Epoch 124/300\n",
            "105/105 [==============================] - 0s 237us/sample - loss: 0.3155 - accuracy: 1.0000 - val_loss: 0.2992 - val_accuracy: 1.0000\n",
            "Epoch 125/300\n",
            "105/105 [==============================] - 0s 234us/sample - loss: 0.3132 - accuracy: 1.0000 - val_loss: 0.2979 - val_accuracy: 1.0000\n",
            "Epoch 126/300\n",
            "105/105 [==============================] - 0s 261us/sample - loss: 0.3110 - accuracy: 1.0000 - val_loss: 0.2967 - val_accuracy: 1.0000\n",
            "Epoch 127/300\n",
            "105/105 [==============================] - 0s 231us/sample - loss: 0.3089 - accuracy: 1.0000 - val_loss: 0.2955 - val_accuracy: 1.0000\n",
            "Epoch 128/300\n",
            "105/105 [==============================] - 0s 237us/sample - loss: 0.3069 - accuracy: 1.0000 - val_loss: 0.2945 - val_accuracy: 1.0000\n",
            "Epoch 129/300\n",
            "105/105 [==============================] - 0s 252us/sample - loss: 0.3050 - accuracy: 1.0000 - val_loss: 0.2934 - val_accuracy: 1.0000\n",
            "Epoch 130/300\n",
            "105/105 [==============================] - 0s 273us/sample - loss: 0.3031 - accuracy: 1.0000 - val_loss: 0.2925 - val_accuracy: 1.0000\n",
            "Epoch 131/300\n",
            "105/105 [==============================] - 0s 271us/sample - loss: 0.3015 - accuracy: 1.0000 - val_loss: 0.2916 - val_accuracy: 1.0000\n",
            "Epoch 132/300\n",
            "105/105 [==============================] - 0s 292us/sample - loss: 0.2997 - accuracy: 1.0000 - val_loss: 0.2908 - val_accuracy: 1.0000\n",
            "Epoch 133/300\n",
            "105/105 [==============================] - 0s 270us/sample - loss: 0.2982 - accuracy: 1.0000 - val_loss: 0.2899 - val_accuracy: 1.0000\n",
            "Epoch 134/300\n",
            "105/105 [==============================] - 0s 239us/sample - loss: 0.2965 - accuracy: 1.0000 - val_loss: 0.2891 - val_accuracy: 1.0000\n",
            "Epoch 135/300\n",
            "105/105 [==============================] - 0s 232us/sample - loss: 0.2948 - accuracy: 1.0000 - val_loss: 0.2883 - val_accuracy: 1.0000\n",
            "Epoch 136/300\n",
            "105/105 [==============================] - 0s 349us/sample - loss: 0.2933 - accuracy: 1.0000 - val_loss: 0.2875 - val_accuracy: 1.0000\n",
            "Epoch 137/300\n",
            "105/105 [==============================] - 0s 244us/sample - loss: 0.2917 - accuracy: 1.0000 - val_loss: 0.2868 - val_accuracy: 1.0000\n",
            "Epoch 138/300\n",
            "105/105 [==============================] - 0s 250us/sample - loss: 0.2901 - accuracy: 1.0000 - val_loss: 0.2861 - val_accuracy: 1.0000\n",
            "Epoch 139/300\n",
            "105/105 [==============================] - 0s 225us/sample - loss: 0.2887 - accuracy: 1.0000 - val_loss: 0.2854 - val_accuracy: 1.0000\n",
            "Epoch 140/300\n",
            "105/105 [==============================] - 0s 237us/sample - loss: 0.2872 - accuracy: 1.0000 - val_loss: 0.2848 - val_accuracy: 1.0000\n",
            "Epoch 141/300\n",
            "105/105 [==============================] - 0s 280us/sample - loss: 0.2859 - accuracy: 1.0000 - val_loss: 0.2842 - val_accuracy: 1.0000\n",
            "Epoch 142/300\n",
            "105/105 [==============================] - 0s 227us/sample - loss: 0.2847 - accuracy: 1.0000 - val_loss: 0.2837 - val_accuracy: 1.0000\n",
            "Epoch 143/300\n",
            "105/105 [==============================] - 0s 221us/sample - loss: 0.2835 - accuracy: 1.0000 - val_loss: 0.2831 - val_accuracy: 1.0000\n",
            "Epoch 144/300\n",
            "105/105 [==============================] - 0s 258us/sample - loss: 0.2824 - accuracy: 1.0000 - val_loss: 0.2827 - val_accuracy: 1.0000\n",
            "Epoch 145/300\n",
            "105/105 [==============================] - 0s 237us/sample - loss: 0.2814 - accuracy: 1.0000 - val_loss: 0.2822 - val_accuracy: 1.0000\n",
            "Epoch 146/300\n",
            "105/105 [==============================] - 0s 247us/sample - loss: 0.2803 - accuracy: 1.0000 - val_loss: 0.2817 - val_accuracy: 1.0000\n",
            "Epoch 147/300\n",
            "105/105 [==============================] - 0s 252us/sample - loss: 0.2794 - accuracy: 1.0000 - val_loss: 0.2813 - val_accuracy: 1.0000\n",
            "Epoch 148/300\n",
            "105/105 [==============================] - 0s 229us/sample - loss: 0.2783 - accuracy: 1.0000 - val_loss: 0.2808 - val_accuracy: 1.0000\n",
            "Epoch 149/300\n",
            "105/105 [==============================] - 0s 245us/sample - loss: 0.2774 - accuracy: 1.0000 - val_loss: 0.2804 - val_accuracy: 1.0000\n",
            "Epoch 150/300\n",
            "105/105 [==============================] - 0s 219us/sample - loss: 0.2764 - accuracy: 1.0000 - val_loss: 0.2800 - val_accuracy: 1.0000\n",
            "Epoch 151/300\n",
            "105/105 [==============================] - 0s 228us/sample - loss: 0.2754 - accuracy: 1.0000 - val_loss: 0.2796 - val_accuracy: 1.0000\n",
            "Epoch 152/300\n",
            "105/105 [==============================] - 0s 276us/sample - loss: 0.2745 - accuracy: 1.0000 - val_loss: 0.2793 - val_accuracy: 1.0000\n",
            "Epoch 153/300\n",
            "105/105 [==============================] - 0s 222us/sample - loss: 0.2737 - accuracy: 1.0000 - val_loss: 0.2789 - val_accuracy: 1.0000\n",
            "Epoch 154/300\n",
            "105/105 [==============================] - 0s 271us/sample - loss: 0.2728 - accuracy: 1.0000 - val_loss: 0.2786 - val_accuracy: 1.0000\n",
            "Epoch 155/300\n",
            "105/105 [==============================] - 0s 254us/sample - loss: 0.2719 - accuracy: 1.0000 - val_loss: 0.2782 - val_accuracy: 1.0000\n",
            "Epoch 156/300\n",
            "105/105 [==============================] - 0s 262us/sample - loss: 0.2711 - accuracy: 1.0000 - val_loss: 0.2779 - val_accuracy: 1.0000\n",
            "Epoch 157/300\n",
            "105/105 [==============================] - 0s 231us/sample - loss: 0.2702 - accuracy: 1.0000 - val_loss: 0.2776 - val_accuracy: 1.0000\n",
            "Epoch 158/300\n",
            "105/105 [==============================] - 0s 237us/sample - loss: 0.2695 - accuracy: 1.0000 - val_loss: 0.2773 - val_accuracy: 1.0000\n",
            "Epoch 159/300\n",
            "105/105 [==============================] - 0s 274us/sample - loss: 0.2688 - accuracy: 1.0000 - val_loss: 0.2770 - val_accuracy: 1.0000\n",
            "Epoch 160/300\n",
            "105/105 [==============================] - 0s 282us/sample - loss: 0.2680 - accuracy: 1.0000 - val_loss: 0.2768 - val_accuracy: 1.0000\n",
            "Epoch 161/300\n",
            "105/105 [==============================] - 0s 274us/sample - loss: 0.2673 - accuracy: 1.0000 - val_loss: 0.2765 - val_accuracy: 1.0000\n",
            "Epoch 162/300\n",
            "105/105 [==============================] - 0s 257us/sample - loss: 0.2665 - accuracy: 1.0000 - val_loss: 0.2762 - val_accuracy: 1.0000\n",
            "Epoch 163/300\n",
            "105/105 [==============================] - 0s 231us/sample - loss: 0.2659 - accuracy: 1.0000 - val_loss: 0.2760 - val_accuracy: 1.0000\n",
            "Epoch 164/300\n",
            "105/105 [==============================] - 0s 259us/sample - loss: 0.2652 - accuracy: 1.0000 - val_loss: 0.2758 - val_accuracy: 1.0000\n",
            "Epoch 165/300\n",
            "105/105 [==============================] - 0s 264us/sample - loss: 0.2645 - accuracy: 1.0000 - val_loss: 0.2755 - val_accuracy: 1.0000\n",
            "Epoch 166/300\n",
            "105/105 [==============================] - 0s 276us/sample - loss: 0.2639 - accuracy: 1.0000 - val_loss: 0.2753 - val_accuracy: 1.0000\n",
            "Epoch 167/300\n",
            "105/105 [==============================] - 0s 276us/sample - loss: 0.2633 - accuracy: 1.0000 - val_loss: 0.2750 - val_accuracy: 1.0000\n",
            "Epoch 168/300\n",
            "105/105 [==============================] - 0s 249us/sample - loss: 0.2628 - accuracy: 1.0000 - val_loss: 0.2747 - val_accuracy: 1.0000\n",
            "Epoch 169/300\n",
            "105/105 [==============================] - 0s 253us/sample - loss: 0.2623 - accuracy: 1.0000 - val_loss: 0.2745 - val_accuracy: 1.0000\n",
            "Epoch 170/300\n",
            "105/105 [==============================] - 0s 232us/sample - loss: 0.2618 - accuracy: 1.0000 - val_loss: 0.2742 - val_accuracy: 1.0000\n",
            "Epoch 171/300\n",
            "105/105 [==============================] - 0s 259us/sample - loss: 0.2612 - accuracy: 1.0000 - val_loss: 0.2740 - val_accuracy: 1.0000\n",
            "Epoch 172/300\n",
            "105/105 [==============================] - 0s 245us/sample - loss: 0.2607 - accuracy: 1.0000 - val_loss: 0.2738 - val_accuracy: 1.0000\n",
            "Epoch 173/300\n",
            "105/105 [==============================] - 0s 226us/sample - loss: 0.2601 - accuracy: 1.0000 - val_loss: 0.2735 - val_accuracy: 1.0000\n",
            "Epoch 174/300\n",
            "105/105 [==============================] - 0s 266us/sample - loss: 0.2597 - accuracy: 1.0000 - val_loss: 0.2733 - val_accuracy: 1.0000\n",
            "Epoch 175/300\n",
            "105/105 [==============================] - 0s 288us/sample - loss: 0.2591 - accuracy: 1.0000 - val_loss: 0.2731 - val_accuracy: 1.0000\n",
            "Epoch 176/300\n",
            "105/105 [==============================] - 0s 280us/sample - loss: 0.2586 - accuracy: 1.0000 - val_loss: 0.2728 - val_accuracy: 1.0000\n",
            "Epoch 177/300\n",
            "105/105 [==============================] - 0s 257us/sample - loss: 0.2581 - accuracy: 1.0000 - val_loss: 0.2726 - val_accuracy: 1.0000\n",
            "Epoch 178/300\n",
            "105/105 [==============================] - 0s 244us/sample - loss: 0.2576 - accuracy: 1.0000 - val_loss: 0.2724 - val_accuracy: 1.0000\n",
            "Epoch 179/300\n",
            "105/105 [==============================] - 0s 249us/sample - loss: 0.2571 - accuracy: 1.0000 - val_loss: 0.2723 - val_accuracy: 1.0000\n",
            "Epoch 180/300\n",
            "105/105 [==============================] - 0s 234us/sample - loss: 0.2566 - accuracy: 1.0000 - val_loss: 0.2721 - val_accuracy: 1.0000\n",
            "Epoch 181/300\n",
            "105/105 [==============================] - 0s 231us/sample - loss: 0.2561 - accuracy: 1.0000 - val_loss: 0.2718 - val_accuracy: 1.0000\n",
            "Epoch 182/300\n",
            "105/105 [==============================] - 0s 270us/sample - loss: 0.2557 - accuracy: 1.0000 - val_loss: 0.2716 - val_accuracy: 1.0000\n",
            "Epoch 183/300\n",
            "105/105 [==============================] - 0s 248us/sample - loss: 0.2552 - accuracy: 1.0000 - val_loss: 0.2714 - val_accuracy: 1.0000\n",
            "Epoch 184/300\n",
            "105/105 [==============================] - 0s 223us/sample - loss: 0.2548 - accuracy: 1.0000 - val_loss: 0.2712 - val_accuracy: 1.0000\n",
            "Epoch 185/300\n",
            "105/105 [==============================] - 0s 221us/sample - loss: 0.2543 - accuracy: 1.0000 - val_loss: 0.2710 - val_accuracy: 1.0000\n",
            "Epoch 186/300\n",
            "105/105 [==============================] - 0s 222us/sample - loss: 0.2539 - accuracy: 1.0000 - val_loss: 0.2709 - val_accuracy: 1.0000\n",
            "Epoch 187/300\n",
            "105/105 [==============================] - 0s 222us/sample - loss: 0.2534 - accuracy: 1.0000 - val_loss: 0.2707 - val_accuracy: 1.0000\n",
            "Epoch 188/300\n",
            "105/105 [==============================] - 0s 275us/sample - loss: 0.2530 - accuracy: 1.0000 - val_loss: 0.2705 - val_accuracy: 1.0000\n",
            "Epoch 189/300\n",
            "105/105 [==============================] - 0s 211us/sample - loss: 0.2525 - accuracy: 1.0000 - val_loss: 0.2703 - val_accuracy: 1.0000\n",
            "Epoch 190/300\n",
            "105/105 [==============================] - 0s 242us/sample - loss: 0.2521 - accuracy: 1.0000 - val_loss: 0.2702 - val_accuracy: 1.0000\n",
            "Epoch 191/300\n",
            "105/105 [==============================] - 0s 234us/sample - loss: 0.2517 - accuracy: 1.0000 - val_loss: 0.2700 - val_accuracy: 1.0000\n",
            "Epoch 192/300\n",
            "105/105 [==============================] - 0s 206us/sample - loss: 0.2513 - accuracy: 1.0000 - val_loss: 0.2697 - val_accuracy: 1.0000\n",
            "Epoch 193/300\n",
            "105/105 [==============================] - 0s 251us/sample - loss: 0.2509 - accuracy: 1.0000 - val_loss: 0.2695 - val_accuracy: 1.0000\n",
            "Epoch 194/300\n",
            "105/105 [==============================] - 0s 233us/sample - loss: 0.2505 - accuracy: 1.0000 - val_loss: 0.2693 - val_accuracy: 1.0000\n",
            "Epoch 195/300\n",
            "105/105 [==============================] - 0s 205us/sample - loss: 0.2501 - accuracy: 1.0000 - val_loss: 0.2691 - val_accuracy: 1.0000\n",
            "Epoch 196/300\n",
            "105/105 [==============================] - 0s 270us/sample - loss: 0.2497 - accuracy: 1.0000 - val_loss: 0.2689 - val_accuracy: 1.0000\n",
            "Epoch 197/300\n",
            "105/105 [==============================] - 0s 235us/sample - loss: 0.2494 - accuracy: 1.0000 - val_loss: 0.2688 - val_accuracy: 1.0000\n",
            "Epoch 198/300\n",
            "105/105 [==============================] - 0s 261us/sample - loss: 0.2489 - accuracy: 1.0000 - val_loss: 0.2686 - val_accuracy: 1.0000\n",
            "Epoch 199/300\n",
            "105/105 [==============================] - 0s 227us/sample - loss: 0.2486 - accuracy: 1.0000 - val_loss: 0.2684 - val_accuracy: 1.0000\n",
            "Epoch 200/300\n",
            "105/105 [==============================] - 0s 209us/sample - loss: 0.2482 - accuracy: 1.0000 - val_loss: 0.2682 - val_accuracy: 1.0000\n",
            "Epoch 201/300\n",
            "105/105 [==============================] - 0s 251us/sample - loss: 0.2479 - accuracy: 1.0000 - val_loss: 0.2680 - val_accuracy: 1.0000\n",
            "Epoch 202/300\n",
            "105/105 [==============================] - 0s 254us/sample - loss: 0.2475 - accuracy: 1.0000 - val_loss: 0.2677 - val_accuracy: 1.0000\n",
            "Epoch 203/300\n",
            "105/105 [==============================] - 0s 235us/sample - loss: 0.2471 - accuracy: 1.0000 - val_loss: 0.2675 - val_accuracy: 1.0000\n",
            "Epoch 204/300\n",
            "105/105 [==============================] - 0s 219us/sample - loss: 0.2468 - accuracy: 1.0000 - val_loss: 0.2672 - val_accuracy: 1.0000\n",
            "Epoch 205/300\n",
            "105/105 [==============================] - 0s 203us/sample - loss: 0.2464 - accuracy: 1.0000 - val_loss: 0.2670 - val_accuracy: 1.0000\n",
            "Epoch 206/300\n",
            "105/105 [==============================] - 0s 225us/sample - loss: 0.2461 - accuracy: 1.0000 - val_loss: 0.2667 - val_accuracy: 1.0000\n",
            "Epoch 207/300\n",
            "105/105 [==============================] - 0s 253us/sample - loss: 0.2457 - accuracy: 1.0000 - val_loss: 0.2666 - val_accuracy: 1.0000\n",
            "Epoch 208/300\n",
            "105/105 [==============================] - 0s 226us/sample - loss: 0.2454 - accuracy: 1.0000 - val_loss: 0.2664 - val_accuracy: 1.0000\n",
            "Epoch 209/300\n",
            "105/105 [==============================] - 0s 218us/sample - loss: 0.2450 - accuracy: 1.0000 - val_loss: 0.2662 - val_accuracy: 1.0000\n",
            "Epoch 210/300\n",
            "105/105 [==============================] - 0s 236us/sample - loss: 0.2446 - accuracy: 1.0000 - val_loss: 0.2660 - val_accuracy: 1.0000\n",
            "Epoch 211/300\n",
            "105/105 [==============================] - 0s 240us/sample - loss: 0.2443 - accuracy: 1.0000 - val_loss: 0.2658 - val_accuracy: 1.0000\n",
            "Epoch 212/300\n",
            "105/105 [==============================] - 0s 295us/sample - loss: 0.2439 - accuracy: 1.0000 - val_loss: 0.2655 - val_accuracy: 1.0000\n",
            "Epoch 213/300\n",
            "105/105 [==============================] - 0s 231us/sample - loss: 0.2436 - accuracy: 1.0000 - val_loss: 0.2653 - val_accuracy: 1.0000\n",
            "Epoch 214/300\n",
            "105/105 [==============================] - 0s 223us/sample - loss: 0.2433 - accuracy: 1.0000 - val_loss: 0.2651 - val_accuracy: 1.0000\n",
            "Epoch 215/300\n",
            "105/105 [==============================] - 0s 260us/sample - loss: 0.2430 - accuracy: 1.0000 - val_loss: 0.2649 - val_accuracy: 1.0000\n",
            "Epoch 216/300\n",
            "105/105 [==============================] - 0s 221us/sample - loss: 0.2426 - accuracy: 1.0000 - val_loss: 0.2647 - val_accuracy: 1.0000\n",
            "Epoch 217/300\n",
            "105/105 [==============================] - 0s 221us/sample - loss: 0.2423 - accuracy: 1.0000 - val_loss: 0.2644 - val_accuracy: 1.0000\n",
            "Epoch 218/300\n",
            "105/105 [==============================] - 0s 216us/sample - loss: 0.2419 - accuracy: 1.0000 - val_loss: 0.2641 - val_accuracy: 1.0000\n",
            "Epoch 219/300\n",
            "105/105 [==============================] - 0s 240us/sample - loss: 0.2416 - accuracy: 1.0000 - val_loss: 0.2638 - val_accuracy: 1.0000\n",
            "Epoch 220/300\n",
            "105/105 [==============================] - 0s 219us/sample - loss: 0.2413 - accuracy: 1.0000 - val_loss: 0.2635 - val_accuracy: 1.0000\n",
            "Epoch 221/300\n",
            "105/105 [==============================] - 0s 249us/sample - loss: 0.2410 - accuracy: 1.0000 - val_loss: 0.2632 - val_accuracy: 1.0000\n",
            "Epoch 222/300\n",
            "105/105 [==============================] - 0s 223us/sample - loss: 0.2406 - accuracy: 1.0000 - val_loss: 0.2629 - val_accuracy: 1.0000\n",
            "Epoch 223/300\n",
            "105/105 [==============================] - 0s 220us/sample - loss: 0.2403 - accuracy: 1.0000 - val_loss: 0.2626 - val_accuracy: 1.0000\n",
            "Epoch 224/300\n",
            "105/105 [==============================] - 0s 219us/sample - loss: 0.2400 - accuracy: 1.0000 - val_loss: 0.2623 - val_accuracy: 1.0000\n",
            "Epoch 225/300\n",
            "105/105 [==============================] - 0s 223us/sample - loss: 0.2397 - accuracy: 1.0000 - val_loss: 0.2620 - val_accuracy: 1.0000\n",
            "Epoch 226/300\n",
            "105/105 [==============================] - 0s 222us/sample - loss: 0.2393 - accuracy: 1.0000 - val_loss: 0.2617 - val_accuracy: 1.0000\n",
            "Epoch 227/300\n",
            "105/105 [==============================] - 0s 242us/sample - loss: 0.2390 - accuracy: 1.0000 - val_loss: 0.2615 - val_accuracy: 1.0000\n",
            "Epoch 228/300\n",
            "105/105 [==============================] - 0s 237us/sample - loss: 0.2387 - accuracy: 1.0000 - val_loss: 0.2612 - val_accuracy: 1.0000\n",
            "Epoch 229/300\n",
            "105/105 [==============================] - 0s 256us/sample - loss: 0.2384 - accuracy: 1.0000 - val_loss: 0.2610 - val_accuracy: 1.0000\n",
            "Epoch 230/300\n",
            "105/105 [==============================] - 0s 231us/sample - loss: 0.2380 - accuracy: 1.0000 - val_loss: 0.2606 - val_accuracy: 1.0000\n",
            "Epoch 231/300\n",
            "105/105 [==============================] - 0s 221us/sample - loss: 0.2377 - accuracy: 1.0000 - val_loss: 0.2603 - val_accuracy: 1.0000\n",
            "Epoch 232/300\n",
            "105/105 [==============================] - 0s 235us/sample - loss: 0.2374 - accuracy: 1.0000 - val_loss: 0.2600 - val_accuracy: 1.0000\n",
            "Epoch 233/300\n",
            "105/105 [==============================] - 0s 238us/sample - loss: 0.2371 - accuracy: 1.0000 - val_loss: 0.2596 - val_accuracy: 1.0000\n",
            "Epoch 234/300\n",
            "105/105 [==============================] - 0s 221us/sample - loss: 0.2368 - accuracy: 1.0000 - val_loss: 0.2592 - val_accuracy: 1.0000\n",
            "Epoch 235/300\n",
            "105/105 [==============================] - 0s 215us/sample - loss: 0.2365 - accuracy: 1.0000 - val_loss: 0.2588 - val_accuracy: 1.0000\n",
            "Epoch 236/300\n",
            "105/105 [==============================] - 0s 208us/sample - loss: 0.2361 - accuracy: 1.0000 - val_loss: 0.2584 - val_accuracy: 1.0000\n",
            "Epoch 237/300\n",
            "105/105 [==============================] - 0s 267us/sample - loss: 0.2359 - accuracy: 1.0000 - val_loss: 0.2579 - val_accuracy: 1.0000\n",
            "Epoch 238/300\n",
            "105/105 [==============================] - 0s 215us/sample - loss: 0.2355 - accuracy: 1.0000 - val_loss: 0.2575 - val_accuracy: 1.0000\n",
            "Epoch 239/300\n",
            "105/105 [==============================] - 0s 230us/sample - loss: 0.2352 - accuracy: 1.0000 - val_loss: 0.2571 - val_accuracy: 1.0000\n",
            "Epoch 240/300\n",
            "105/105 [==============================] - 0s 230us/sample - loss: 0.2349 - accuracy: 1.0000 - val_loss: 0.2568 - val_accuracy: 1.0000\n",
            "Epoch 241/300\n",
            "105/105 [==============================] - 0s 219us/sample - loss: 0.2346 - accuracy: 1.0000 - val_loss: 0.2564 - val_accuracy: 1.0000\n",
            "Epoch 242/300\n",
            "105/105 [==============================] - 0s 215us/sample - loss: 0.2342 - accuracy: 1.0000 - val_loss: 0.2561 - val_accuracy: 1.0000\n",
            "Epoch 243/300\n",
            "105/105 [==============================] - 0s 219us/sample - loss: 0.2339 - accuracy: 1.0000 - val_loss: 0.2557 - val_accuracy: 1.0000\n",
            "Epoch 244/300\n",
            "105/105 [==============================] - 0s 216us/sample - loss: 0.2336 - accuracy: 1.0000 - val_loss: 0.2554 - val_accuracy: 1.0000\n",
            "Epoch 245/300\n",
            "105/105 [==============================] - 0s 227us/sample - loss: 0.2333 - accuracy: 1.0000 - val_loss: 0.2550 - val_accuracy: 1.0000\n",
            "Epoch 246/300\n",
            "105/105 [==============================] - 0s 204us/sample - loss: 0.2330 - accuracy: 1.0000 - val_loss: 0.2547 - val_accuracy: 1.0000\n",
            "Epoch 247/300\n",
            "105/105 [==============================] - 0s 253us/sample - loss: 0.2327 - accuracy: 1.0000 - val_loss: 0.2543 - val_accuracy: 1.0000\n",
            "Epoch 248/300\n",
            "105/105 [==============================] - 0s 225us/sample - loss: 0.2323 - accuracy: 1.0000 - val_loss: 0.2539 - val_accuracy: 1.0000\n",
            "Epoch 249/300\n",
            "105/105 [==============================] - 0s 252us/sample - loss: 0.2320 - accuracy: 1.0000 - val_loss: 0.2536 - val_accuracy: 1.0000\n",
            "Epoch 250/300\n",
            "105/105 [==============================] - 0s 232us/sample - loss: 0.2317 - accuracy: 1.0000 - val_loss: 0.2532 - val_accuracy: 1.0000\n",
            "Epoch 251/300\n",
            "105/105 [==============================] - 0s 221us/sample - loss: 0.2314 - accuracy: 1.0000 - val_loss: 0.2529 - val_accuracy: 1.0000\n",
            "Epoch 252/300\n",
            "105/105 [==============================] - 0s 210us/sample - loss: 0.2311 - accuracy: 1.0000 - val_loss: 0.2526 - val_accuracy: 1.0000\n",
            "Epoch 253/300\n",
            "105/105 [==============================] - 0s 237us/sample - loss: 0.2307 - accuracy: 1.0000 - val_loss: 0.2524 - val_accuracy: 1.0000\n",
            "Epoch 254/300\n",
            "105/105 [==============================] - 0s 226us/sample - loss: 0.2304 - accuracy: 1.0000 - val_loss: 0.2521 - val_accuracy: 1.0000\n",
            "Epoch 255/300\n",
            "105/105 [==============================] - 0s 236us/sample - loss: 0.2301 - accuracy: 1.0000 - val_loss: 0.2518 - val_accuracy: 1.0000\n",
            "Epoch 256/300\n",
            "105/105 [==============================] - 0s 227us/sample - loss: 0.2298 - accuracy: 1.0000 - val_loss: 0.2515 - val_accuracy: 1.0000\n",
            "Epoch 257/300\n",
            "105/105 [==============================] - 0s 232us/sample - loss: 0.2295 - accuracy: 1.0000 - val_loss: 0.2513 - val_accuracy: 1.0000\n",
            "Epoch 258/300\n",
            "105/105 [==============================] - 0s 238us/sample - loss: 0.2292 - accuracy: 1.0000 - val_loss: 0.2510 - val_accuracy: 1.0000\n",
            "Epoch 259/300\n",
            "105/105 [==============================] - 0s 255us/sample - loss: 0.2288 - accuracy: 1.0000 - val_loss: 0.2507 - val_accuracy: 1.0000\n",
            "Epoch 260/300\n",
            "105/105 [==============================] - 0s 242us/sample - loss: 0.2285 - accuracy: 1.0000 - val_loss: 0.2503 - val_accuracy: 1.0000\n",
            "Epoch 261/300\n",
            "105/105 [==============================] - 0s 258us/sample - loss: 0.2282 - accuracy: 1.0000 - val_loss: 0.2499 - val_accuracy: 1.0000\n",
            "Epoch 262/300\n",
            "105/105 [==============================] - 0s 261us/sample - loss: 0.2279 - accuracy: 1.0000 - val_loss: 0.2495 - val_accuracy: 1.0000\n",
            "Epoch 263/300\n",
            "105/105 [==============================] - 0s 219us/sample - loss: 0.2276 - accuracy: 1.0000 - val_loss: 0.2491 - val_accuracy: 1.0000\n",
            "Epoch 264/300\n",
            "105/105 [==============================] - 0s 241us/sample - loss: 0.2273 - accuracy: 1.0000 - val_loss: 0.2488 - val_accuracy: 1.0000\n",
            "Epoch 265/300\n",
            "105/105 [==============================] - 0s 227us/sample - loss: 0.2269 - accuracy: 1.0000 - val_loss: 0.2485 - val_accuracy: 1.0000\n",
            "Epoch 266/300\n",
            "105/105 [==============================] - 0s 218us/sample - loss: 0.2266 - accuracy: 1.0000 - val_loss: 0.2482 - val_accuracy: 1.0000\n",
            "Epoch 267/300\n",
            "105/105 [==============================] - 0s 230us/sample - loss: 0.2263 - accuracy: 1.0000 - val_loss: 0.2477 - val_accuracy: 1.0000\n",
            "Epoch 268/300\n",
            "105/105 [==============================] - 0s 237us/sample - loss: 0.2260 - accuracy: 1.0000 - val_loss: 0.2473 - val_accuracy: 1.0000\n",
            "Epoch 269/300\n",
            "105/105 [==============================] - 0s 250us/sample - loss: 0.2257 - accuracy: 1.0000 - val_loss: 0.2469 - val_accuracy: 1.0000\n",
            "Epoch 270/300\n",
            "105/105 [==============================] - 0s 250us/sample - loss: 0.2253 - accuracy: 1.0000 - val_loss: 0.2465 - val_accuracy: 1.0000\n",
            "Epoch 271/300\n",
            "105/105 [==============================] - 0s 232us/sample - loss: 0.2250 - accuracy: 1.0000 - val_loss: 0.2461 - val_accuracy: 1.0000\n",
            "Epoch 272/300\n",
            "105/105 [==============================] - 0s 249us/sample - loss: 0.2247 - accuracy: 1.0000 - val_loss: 0.2457 - val_accuracy: 1.0000\n",
            "Epoch 273/300\n",
            "105/105 [==============================] - 0s 222us/sample - loss: 0.2244 - accuracy: 1.0000 - val_loss: 0.2453 - val_accuracy: 1.0000\n",
            "Epoch 274/300\n",
            "105/105 [==============================] - 0s 223us/sample - loss: 0.2241 - accuracy: 1.0000 - val_loss: 0.2449 - val_accuracy: 1.0000\n",
            "Epoch 275/300\n",
            "105/105 [==============================] - 0s 223us/sample - loss: 0.2238 - accuracy: 1.0000 - val_loss: 0.2445 - val_accuracy: 1.0000\n",
            "Epoch 276/300\n",
            "105/105 [==============================] - 0s 232us/sample - loss: 0.2235 - accuracy: 1.0000 - val_loss: 0.2442 - val_accuracy: 1.0000\n",
            "Epoch 277/300\n",
            "105/105 [==============================] - 0s 225us/sample - loss: 0.2232 - accuracy: 1.0000 - val_loss: 0.2438 - val_accuracy: 1.0000\n",
            "Epoch 278/300\n",
            "105/105 [==============================] - 0s 257us/sample - loss: 0.2228 - accuracy: 1.0000 - val_loss: 0.2435 - val_accuracy: 1.0000\n",
            "Epoch 279/300\n",
            "105/105 [==============================] - 0s 229us/sample - loss: 0.2225 - accuracy: 1.0000 - val_loss: 0.2432 - val_accuracy: 1.0000\n",
            "Epoch 280/300\n",
            "105/105 [==============================] - 0s 230us/sample - loss: 0.2222 - accuracy: 1.0000 - val_loss: 0.2430 - val_accuracy: 1.0000\n",
            "Epoch 281/300\n",
            "105/105 [==============================] - 0s 242us/sample - loss: 0.2219 - accuracy: 1.0000 - val_loss: 0.2427 - val_accuracy: 1.0000\n",
            "Epoch 282/300\n",
            "105/105 [==============================] - 0s 221us/sample - loss: 0.2216 - accuracy: 1.0000 - val_loss: 0.2424 - val_accuracy: 1.0000\n",
            "Epoch 283/300\n",
            "105/105 [==============================] - 0s 220us/sample - loss: 0.2212 - accuracy: 1.0000 - val_loss: 0.2421 - val_accuracy: 1.0000\n",
            "Epoch 284/300\n",
            "105/105 [==============================] - 0s 214us/sample - loss: 0.2209 - accuracy: 1.0000 - val_loss: 0.2418 - val_accuracy: 1.0000\n",
            "Epoch 285/300\n",
            "105/105 [==============================] - 0s 254us/sample - loss: 0.2206 - accuracy: 1.0000 - val_loss: 0.2416 - val_accuracy: 1.0000\n",
            "Epoch 286/300\n",
            "105/105 [==============================] - 0s 222us/sample - loss: 0.2203 - accuracy: 1.0000 - val_loss: 0.2414 - val_accuracy: 1.0000\n",
            "Epoch 287/300\n",
            "105/105 [==============================] - 0s 229us/sample - loss: 0.2200 - accuracy: 1.0000 - val_loss: 0.2411 - val_accuracy: 1.0000\n",
            "Epoch 288/300\n",
            "105/105 [==============================] - 0s 208us/sample - loss: 0.2197 - accuracy: 1.0000 - val_loss: 0.2408 - val_accuracy: 1.0000\n",
            "Epoch 289/300\n",
            "105/105 [==============================] - 0s 229us/sample - loss: 0.2193 - accuracy: 1.0000 - val_loss: 0.2405 - val_accuracy: 1.0000\n",
            "Epoch 290/300\n",
            "105/105 [==============================] - 0s 236us/sample - loss: 0.2190 - accuracy: 1.0000 - val_loss: 0.2402 - val_accuracy: 1.0000\n",
            "Epoch 291/300\n",
            "105/105 [==============================] - 0s 238us/sample - loss: 0.2187 - accuracy: 1.0000 - val_loss: 0.2400 - val_accuracy: 1.0000\n",
            "Epoch 292/300\n",
            "105/105 [==============================] - 0s 212us/sample - loss: 0.2184 - accuracy: 1.0000 - val_loss: 0.2398 - val_accuracy: 1.0000\n",
            "Epoch 293/300\n",
            "105/105 [==============================] - 0s 242us/sample - loss: 0.2181 - accuracy: 1.0000 - val_loss: 0.2394 - val_accuracy: 1.0000\n",
            "Epoch 294/300\n",
            "105/105 [==============================] - 0s 233us/sample - loss: 0.2178 - accuracy: 1.0000 - val_loss: 0.2391 - val_accuracy: 1.0000\n",
            "Epoch 295/300\n",
            "105/105 [==============================] - 0s 226us/sample - loss: 0.2175 - accuracy: 1.0000 - val_loss: 0.2388 - val_accuracy: 1.0000\n",
            "Epoch 296/300\n",
            "105/105 [==============================] - 0s 249us/sample - loss: 0.2172 - accuracy: 1.0000 - val_loss: 0.2386 - val_accuracy: 1.0000\n",
            "Epoch 297/300\n",
            "105/105 [==============================] - 0s 233us/sample - loss: 0.2169 - accuracy: 1.0000 - val_loss: 0.2384 - val_accuracy: 1.0000\n",
            "Epoch 298/300\n",
            "105/105 [==============================] - 0s 222us/sample - loss: 0.2166 - accuracy: 1.0000 - val_loss: 0.2381 - val_accuracy: 1.0000\n",
            "Epoch 299/300\n",
            "105/105 [==============================] - 0s 207us/sample - loss: 0.2163 - accuracy: 1.0000 - val_loss: 0.2378 - val_accuracy: 1.0000\n",
            "Epoch 300/300\n",
            "105/105 [==============================] - 0s 243us/sample - loss: 0.2160 - accuracy: 1.0000 - val_loss: 0.2374 - val_accuracy: 1.0000\n"
          ],
          "name": "stdout"
        }
      ]
    },
    {
      "cell_type": "markdown",
      "metadata": {
        "id": "367pGaFc3RW0",
        "colab_type": "text"
      },
      "source": [
        "Acompanhamento da convergência do modelo"
      ]
    },
    {
      "cell_type": "code",
      "metadata": {
        "id": "VZiQs4Muic1e",
        "colab_type": "code",
        "outputId": "8b22dcae-915c-4c62-9eee-676814637264",
        "colab": {
          "base_uri": "https://localhost:8080/",
          "height": 295
        }
      },
      "source": [
        "plt.plot(hist.history['loss'])\n",
        "plt.plot(hist.history['val_loss'])\n",
        "plt.title('Model loss')\n",
        "plt.ylabel('Loss')\n",
        "plt.xlabel('Epoch')\n",
        "plt.legend(['Train', 'Test'], loc='upper right')\n",
        "plt.show()"
      ],
      "execution_count": 14,
      "outputs": [
        {
          "output_type": "display_data",
          "data": {
            "image/png": "[encoded data removed]",
            "text/plain": [
              "<Figure size 432x288 with 1 Axes>"
            ]
          },
          "metadata": {
            "tags": []
          }
        }
      ]
    },
    {
      "cell_type": "code",
      "metadata": {
        "id": "IqqAxytM2k-L",
        "colab_type": "code",
        "outputId": "e389fcf2-6845-4981-f409-4446df43b3eb",
        "colab": {
          "base_uri": "https://localhost:8080/",
          "height": 295
        }
      },
      "source": [
        "plt.plot(hist.history['accuracy'])\n",
        "plt.plot(hist.history['val_accuracy'])\n",
        "plt.title('Model Accuracy')\n",
        "plt.ylabel('Accuracy')\n",
        "plt.xlabel('Epoch')\n",
        "plt.legend(['Train', 'Test'], loc='upper left')\n",
        "plt.show()"
      ],
      "execution_count": 17,
      "outputs": [
        {
          "output_type": "display_data",
          "data": {
            "image/png": "[encoded data removed]",
            "text/plain": [
              "<Figure size 432x288 with 1 Axes>"
            ]
          },
          "metadata": {
            "tags": []
          }
        }
      ]
    },
    {
      "cell_type": "markdown",
      "metadata": {
        "id": "LEjej8Yi3prN",
        "colab_type": "text"
      },
      "source": [
        "Dados sobre o modelo"
      ]
    },
    {
      "cell_type": "code",
      "metadata": {
        "id": "ZQM8r4ML3rnc",
        "colab_type": "code",
        "outputId": "9ca0f744-856f-4f28-fc0e-b701918913d6",
        "colab": {
          "base_uri": "https://localhost:8080/",
          "height": 187
        }
      },
      "source": [
        "model.summary()"
      ],
      "execution_count": 20,
      "outputs": [
        {
          "output_type": "stream",
          "text": [
            "Model: \"sequential_1\"\n",
            "_________________________________________________________________\n",
            "Layer (type)                 Output Shape              Param #   \n",
            "=================================================================\n",
            "dense_1 (Dense)              (None, 1)                 5         \n",
            "=================================================================\n",
            "Total params: 5\n",
            "Trainable params: 5\n",
            "Non-trainable params: 0\n",
            "_________________________________________________________________\n"
          ],
          "name": "stdout"
        }
      ]
    },
    {
      "cell_type": "code",
      "metadata": {
        "id": "Bx_nO1Mp3t0_",
        "colab_type": "code",
        "outputId": "64c0650c-0dac-4d0f-895f-87cb7dea228b",
        "colab": {
          "base_uri": "https://localhost:8080/",
          "height": 119
        }
      },
      "source": [
        "model.weights #os parâmetros do modelo"
      ],
      "execution_count": 21,
      "outputs": [
        {
          "output_type": "execute_result",
          "data": {
            "text/plain": [
              "[<tf.Variable 'dense_1/kernel:0' shape=(4, 1) dtype=float32, numpy=\n",
              " array([[-0.23687287],\n",
              "        [-0.17132577],\n",
              "        [ 0.27488634],\n",
              "        [ 1.5097218 ]], dtype=float32)>,\n",
              " <tf.Variable 'dense_1/bias:0' shape=(1,) dtype=float32, numpy=array([0.3467143], dtype=float32)>]"
            ]
          },
          "metadata": {
            "tags": []
          },
          "execution_count": 21
        }
      ]
    },
    {
      "cell_type": "code",
      "metadata": {
        "id": "uzOL3O6_f-Ab",
        "colab_type": "code",
        "outputId": "0d63e123-ac52-4b81-def9-842af1c2a5fd",
        "colab": {
          "base_uri": "https://localhost:8080/",
          "height": 34
        }
      },
      "source": [
        "model.predict_classes([X[0:1]])"
      ],
      "execution_count": 22,
      "outputs": [
        {
          "output_type": "execute_result",
          "data": {
            "text/plain": [
              "array([[0]], dtype=int32)"
            ]
          },
          "metadata": {
            "tags": []
          },
          "execution_count": 22
        }
      ]
    },
    {
      "cell_type": "code",
      "metadata": {
        "id": "FUjcOy_QhE6u",
        "colab_type": "code",
        "outputId": "bdeee0fa-b61c-49d1-ca97-ea98c46eba5f",
        "colab": {
          "base_uri": "https://localhost:8080/",
          "height": 71
        }
      },
      "source": [
        "model.evaluate(X_test,y_test)"
      ],
      "execution_count": 23,
      "outputs": [
        {
          "output_type": "stream",
          "text": [
            "\r45/1 [======================================================================================================================================================================================================================================================================================================================================================================================================================================================================================================================================================================================================================================================================================================================================================================================================================================================================================================================================================================================================================================================================================================================================================================================================================================================================================================================================================================================================] - 0s 90us/sample - loss: 0.2523 - accuracy: 1.0000\n"
          ],
          "name": "stdout"
        },
        {
          "output_type": "execute_result",
          "data": {
            "text/plain": [
              "[0.2374152276251051, 1.0]"
            ]
          },
          "metadata": {
            "tags": []
          },
          "execution_count": 23
        }
      ]
    },
    {
      "cell_type": "markdown",
      "metadata": {
        "id": "9pz6BXb3gL-7",
        "colab_type": "text"
      },
      "source": [
        ""
      ]
    }
  ]
}