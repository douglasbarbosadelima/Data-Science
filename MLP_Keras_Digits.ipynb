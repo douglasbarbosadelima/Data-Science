{
  "nbformat": 4,
  "nbformat_minor": 0,
  "metadata": {
    "colab": {
      "name": "MLP_Keras_Digits.ipynb",
      "provenance": [],
      "include_colab_link": true
    },
    "kernelspec": {
      "name": "python3",
      "display_name": "Python 3"
    },
    "accelerator": "TPU"
  },
  "cells": [
    {
      "cell_type": "markdown",
      "metadata": {
        "id": "view-in-github",
        "colab_type": "text"
      },
      "source": [
        "<a href=\"https://colab.research.google.com/github/douglasbarbosadelima/Data-Science/blob/master/MLP_Keras_Digits.ipynb\" target=\"_parent\"><img src=\"https://colab.research.google.com/assets/colab-badge.svg\" alt=\"Open In Colab\"/></a>"
      ]
    },
    {
      "cell_type": "markdown",
      "metadata": {
        "id": "0Bb5jeeeBWHn",
        "colab_type": "text"
      },
      "source": [
        "MLP Keras Digits"
      ]
    },
    {
      "cell_type": "code",
      "metadata": {
        "id": "XBOioRp5aDzO",
        "colab_type": "code",
        "outputId": "9efc9081-543f-4d3d-e3a1-8313431e5909",
        "colab": {
          "base_uri": "https://localhost:8080/",
          "height": 1000
        }
      },
      "source": [
        "import keras\n",
        "from keras.models import Sequential\n",
        "from keras.layers import Dense, Dropout, Activation\n",
        "from keras.optimizers import SGD\n",
        "import numpy as np\n",
        "from sklearn.datasets import load_digits\n",
        "import matplotlib.pyplot as plt\n",
        "from sklearn.preprocessing import OneHotEncoder\n",
        "\n",
        "digits1 = load_digits(return_X_y=True)\n",
        "# em digits1[0] : vetores da imagem\n",
        "# em digits1[1] : classes reais das imagens (dígitos)\n",
        "X=np.array(list(digits1[0]))\n",
        "Y=np.array(list(digits1[1]))\n",
        "\n",
        "enc = OneHotEncoder()\n",
        "YC=Y.copy()\n",
        "YR=YC.reshape((-1,1))\n",
        "print(YR)\n",
        "enc.fit(YR)\n",
        "YH=enc.transform(YR).toarray()\n",
        "\n",
        "model = Sequential()\n",
        "model.add(Dense(20, activation='relu', input_dim=64))\n",
        "model.add(Dense(20, activation='relu'))\n",
        "model.add(Dense(10, activation='softmax'))\n",
        "\n",
        "sgd = SGD(lr=0.001, decay=1e-6, momentum=0.9, nesterov=True)\n",
        "model.compile(loss='categorical_crossentropy',\n",
        "              optimizer=sgd,\n",
        "              metrics=['accuracy'])\n",
        "\n",
        "model.fit(X, YH,\n",
        "          epochs=100, validation_data=(X, YH)\n",
        ")\n",
        "score = model.evaluate(X, YH)\n"
      ],
      "execution_count": 1,
      "outputs": [
        {
          "output_type": "stream",
          "text": [
            "Using TensorFlow backend.\n"
          ],
          "name": "stderr"
        },
        {
          "output_type": "stream",
          "text": [
            "[[0]\n",
            " [1]\n",
            " [2]\n",
            " ...\n",
            " [8]\n",
            " [9]\n",
            " [8]]\n",
            "WARNING:tensorflow:From /usr/local/lib/python3.6/dist-packages/keras/backend/tensorflow_backend.py:66: The name tf.get_default_graph is deprecated. Please use tf.compat.v1.get_default_graph instead.\n",
            "\n",
            "WARNING:tensorflow:From /usr/local/lib/python3.6/dist-packages/keras/backend/tensorflow_backend.py:541: The name tf.placeholder is deprecated. Please use tf.compat.v1.placeholder instead.\n",
            "\n",
            "WARNING:tensorflow:From /usr/local/lib/python3.6/dist-packages/keras/backend/tensorflow_backend.py:4432: The name tf.random_uniform is deprecated. Please use tf.random.uniform instead.\n",
            "\n",
            "WARNING:tensorflow:From /usr/local/lib/python3.6/dist-packages/keras/optimizers.py:793: The name tf.train.Optimizer is deprecated. Please use tf.compat.v1.train.Optimizer instead.\n",
            "\n",
            "WARNING:tensorflow:From /usr/local/lib/python3.6/dist-packages/keras/backend/tensorflow_backend.py:3576: The name tf.log is deprecated. Please use tf.math.log instead.\n",
            "\n"
          ],
          "name": "stdout"
        },
        {
          "output_type": "stream",
          "text": [
            "/usr/local/lib/python3.6/dist-packages/sklearn/preprocessing/_encoders.py:415: FutureWarning: The handling of integer data will change in version 0.22. Currently, the categories are determined based on the range [0, max(values)], while in the future they will be determined based on the unique values.\n",
            "If you want the future behaviour and silence this warning, you can specify \"categories='auto'\".\n",
            "In case you used a LabelEncoder before this OneHotEncoder to convert the categories to integers, then you can now use the OneHotEncoder directly.\n",
            "  warnings.warn(msg, FutureWarning)\n"
          ],
          "name": "stderr"
        },
        {
          "output_type": "stream",
          "text": [
            "WARNING:tensorflow:From /usr/local/lib/python3.6/dist-packages/tensorflow_core/python/ops/math_grad.py:1424: where (from tensorflow.python.ops.array_ops) is deprecated and will be removed in a future version.\n",
            "Instructions for updating:\n",
            "Use tf.where in 2.0, which has the same broadcast rule as np.where\n",
            "WARNING:tensorflow:From /usr/local/lib/python3.6/dist-packages/keras/backend/tensorflow_backend.py:1033: The name tf.assign_add is deprecated. Please use tf.compat.v1.assign_add instead.\n",
            "\n",
            "WARNING:tensorflow:From /usr/local/lib/python3.6/dist-packages/keras/backend/tensorflow_backend.py:1020: The name tf.assign is deprecated. Please use tf.compat.v1.assign instead.\n",
            "\n",
            "WARNING:tensorflow:From /usr/local/lib/python3.6/dist-packages/keras/backend/tensorflow_backend.py:3005: The name tf.Session is deprecated. Please use tf.compat.v1.Session instead.\n",
            "\n",
            "Train on 1797 samples, validate on 1797 samples\n",
            "Epoch 1/100\n",
            "WARNING:tensorflow:From /usr/local/lib/python3.6/dist-packages/keras/backend/tensorflow_backend.py:190: The name tf.get_default_session is deprecated. Please use tf.compat.v1.get_default_session instead.\n",
            "\n",
            "WARNING:tensorflow:From /usr/local/lib/python3.6/dist-packages/keras/backend/tensorflow_backend.py:197: The name tf.ConfigProto is deprecated. Please use tf.compat.v1.ConfigProto instead.\n",
            "\n",
            "WARNING:tensorflow:From /usr/local/lib/python3.6/dist-packages/keras/backend/tensorflow_backend.py:207: The name tf.global_variables is deprecated. Please use tf.compat.v1.global_variables instead.\n",
            "\n",
            "WARNING:tensorflow:From /usr/local/lib/python3.6/dist-packages/keras/backend/tensorflow_backend.py:216: The name tf.is_variable_initialized is deprecated. Please use tf.compat.v1.is_variable_initialized instead.\n",
            "\n",
            "WARNING:tensorflow:From /usr/local/lib/python3.6/dist-packages/keras/backend/tensorflow_backend.py:223: The name tf.variables_initializer is deprecated. Please use tf.compat.v1.variables_initializer instead.\n",
            "\n",
            "1797/1797 [==============================] - 1s 509us/step - loss: 3.0781 - acc: 0.2988 - val_loss: 1.2088 - val_acc: 0.6132\n",
            "Epoch 2/100\n",
            "1797/1797 [==============================] - 0s 67us/step - loss: 0.9170 - acc: 0.7173 - val_loss: 0.6642 - val_acc: 0.7902\n",
            "Epoch 3/100\n",
            "1797/1797 [==============================] - 0s 65us/step - loss: 0.5526 - acc: 0.8242 - val_loss: 0.4278 - val_acc: 0.8720\n",
            "Epoch 4/100\n",
            "1797/1797 [==============================] - 0s 60us/step - loss: 0.3939 - acc: 0.8776 - val_loss: 0.3321 - val_acc: 0.8959\n",
            "Epoch 5/100\n",
            "1797/1797 [==============================] - 0s 60us/step - loss: 0.3140 - acc: 0.9037 - val_loss: 0.2686 - val_acc: 0.9154\n",
            "Epoch 6/100\n",
            "1797/1797 [==============================] - 0s 63us/step - loss: 0.2575 - acc: 0.9260 - val_loss: 0.2354 - val_acc: 0.9282\n",
            "Epoch 7/100\n",
            "1797/1797 [==============================] - 0s 62us/step - loss: 0.2293 - acc: 0.9260 - val_loss: 0.1966 - val_acc: 0.9471\n",
            "Epoch 8/100\n",
            "1797/1797 [==============================] - 0s 65us/step - loss: 0.2024 - acc: 0.9399 - val_loss: 0.1738 - val_acc: 0.9499\n",
            "Epoch 9/100\n",
            "1797/1797 [==============================] - 0s 66us/step - loss: 0.1772 - acc: 0.9460 - val_loss: 0.1560 - val_acc: 0.9549\n",
            "Epoch 10/100\n",
            "1797/1797 [==============================] - 0s 71us/step - loss: 0.1609 - acc: 0.9499 - val_loss: 0.1531 - val_acc: 0.9527\n",
            "Epoch 11/100\n",
            "1797/1797 [==============================] - 0s 62us/step - loss: 0.1478 - acc: 0.9533 - val_loss: 0.1391 - val_acc: 0.9622\n",
            "Epoch 12/100\n",
            "1797/1797 [==============================] - 0s 60us/step - loss: 0.1352 - acc: 0.9599 - val_loss: 0.1162 - val_acc: 0.9644\n",
            "Epoch 13/100\n",
            "1797/1797 [==============================] - 0s 63us/step - loss: 0.1222 - acc: 0.9649 - val_loss: 0.1120 - val_acc: 0.9688\n",
            "Epoch 14/100\n",
            "1797/1797 [==============================] - 0s 61us/step - loss: 0.1145 - acc: 0.9649 - val_loss: 0.0995 - val_acc: 0.9738\n",
            "Epoch 15/100\n",
            "1797/1797 [==============================] - 0s 65us/step - loss: 0.1036 - acc: 0.9694 - val_loss: 0.1029 - val_acc: 0.9722\n",
            "Epoch 16/100\n",
            "1797/1797 [==============================] - 0s 61us/step - loss: 0.1010 - acc: 0.9711 - val_loss: 0.0898 - val_acc: 0.9727\n",
            "Epoch 17/100\n",
            "1797/1797 [==============================] - 0s 61us/step - loss: 0.0892 - acc: 0.9755 - val_loss: 0.0839 - val_acc: 0.9761\n",
            "Epoch 18/100\n",
            "1797/1797 [==============================] - 0s 68us/step - loss: 0.0845 - acc: 0.9761 - val_loss: 0.0788 - val_acc: 0.9789\n",
            "Epoch 19/100\n",
            "1797/1797 [==============================] - 0s 59us/step - loss: 0.0832 - acc: 0.9744 - val_loss: 0.0765 - val_acc: 0.9783\n",
            "Epoch 20/100\n",
            "1797/1797 [==============================] - 0s 63us/step - loss: 0.0777 - acc: 0.9766 - val_loss: 0.0732 - val_acc: 0.9777\n",
            "Epoch 21/100\n",
            "1797/1797 [==============================] - 0s 60us/step - loss: 0.0708 - acc: 0.9805 - val_loss: 0.0649 - val_acc: 0.9844\n",
            "Epoch 22/100\n",
            "1797/1797 [==============================] - 0s 61us/step - loss: 0.0734 - acc: 0.9761 - val_loss: 0.0599 - val_acc: 0.9833\n",
            "Epoch 23/100\n",
            "1797/1797 [==============================] - 0s 60us/step - loss: 0.0621 - acc: 0.9850 - val_loss: 0.0565 - val_acc: 0.9861\n",
            "Epoch 24/100\n",
            "1797/1797 [==============================] - 0s 59us/step - loss: 0.0602 - acc: 0.9827 - val_loss: 0.0540 - val_acc: 0.9861\n",
            "Epoch 25/100\n",
            "1797/1797 [==============================] - 0s 64us/step - loss: 0.0585 - acc: 0.9839 - val_loss: 0.0553 - val_acc: 0.9866\n",
            "Epoch 26/100\n",
            "1797/1797 [==============================] - 0s 69us/step - loss: 0.0576 - acc: 0.9839 - val_loss: 0.0483 - val_acc: 0.9878\n",
            "Epoch 27/100\n",
            "1797/1797 [==============================] - 0s 74us/step - loss: 0.0507 - acc: 0.9861 - val_loss: 0.0440 - val_acc: 0.9894\n",
            "Epoch 28/100\n",
            "1797/1797 [==============================] - 0s 62us/step - loss: 0.0476 - acc: 0.9872 - val_loss: 0.0428 - val_acc: 0.9889\n",
            "Epoch 29/100\n",
            "1797/1797 [==============================] - 0s 61us/step - loss: 0.0453 - acc: 0.9889 - val_loss: 0.0412 - val_acc: 0.9917\n",
            "Epoch 30/100\n",
            "1797/1797 [==============================] - 0s 59us/step - loss: 0.0447 - acc: 0.9883 - val_loss: 0.0422 - val_acc: 0.9894\n",
            "Epoch 31/100\n",
            "1797/1797 [==============================] - 0s 62us/step - loss: 0.0426 - acc: 0.9889 - val_loss: 0.0466 - val_acc: 0.9878\n",
            "Epoch 32/100\n",
            "1797/1797 [==============================] - 0s 60us/step - loss: 0.0427 - acc: 0.9878 - val_loss: 0.0464 - val_acc: 0.9866\n",
            "Epoch 33/100\n",
            "1797/1797 [==============================] - 0s 61us/step - loss: 0.0407 - acc: 0.9883 - val_loss: 0.0370 - val_acc: 0.9900\n",
            "Epoch 34/100\n",
            "1797/1797 [==============================] - 0s 65us/step - loss: 0.0379 - acc: 0.9911 - val_loss: 0.0338 - val_acc: 0.9922\n",
            "Epoch 35/100\n",
            "1797/1797 [==============================] - 0s 66us/step - loss: 0.0362 - acc: 0.9905 - val_loss: 0.0339 - val_acc: 0.9939\n",
            "Epoch 36/100\n",
            "1797/1797 [==============================] - 0s 66us/step - loss: 0.0342 - acc: 0.9922 - val_loss: 0.0316 - val_acc: 0.9950\n",
            "Epoch 37/100\n",
            "1797/1797 [==============================] - 0s 64us/step - loss: 0.0341 - acc: 0.9905 - val_loss: 0.0295 - val_acc: 0.9933\n",
            "Epoch 38/100\n",
            "1797/1797 [==============================] - 0s 60us/step - loss: 0.0324 - acc: 0.9917 - val_loss: 0.0295 - val_acc: 0.9944\n",
            "Epoch 39/100\n",
            "1797/1797 [==============================] - 0s 58us/step - loss: 0.0302 - acc: 0.9922 - val_loss: 0.0274 - val_acc: 0.9950\n",
            "Epoch 40/100\n",
            "1797/1797 [==============================] - 0s 63us/step - loss: 0.0293 - acc: 0.9922 - val_loss: 0.0269 - val_acc: 0.9955\n",
            "Epoch 41/100\n",
            "1797/1797 [==============================] - 0s 68us/step - loss: 0.0294 - acc: 0.9939 - val_loss: 0.0247 - val_acc: 0.9972\n",
            "Epoch 42/100\n",
            "1797/1797 [==============================] - 0s 63us/step - loss: 0.0290 - acc: 0.9933 - val_loss: 0.0244 - val_acc: 0.9950\n",
            "Epoch 43/100\n",
            "1797/1797 [==============================] - 0s 63us/step - loss: 0.0268 - acc: 0.9944 - val_loss: 0.0243 - val_acc: 0.9972\n",
            "Epoch 44/100\n",
            "1797/1797 [==============================] - 0s 63us/step - loss: 0.0266 - acc: 0.9944 - val_loss: 0.0243 - val_acc: 0.9955\n",
            "Epoch 45/100\n",
            "1797/1797 [==============================] - 0s 60us/step - loss: 0.0249 - acc: 0.9961 - val_loss: 0.0229 - val_acc: 0.9972\n",
            "Epoch 46/100\n",
            "1797/1797 [==============================] - 0s 65us/step - loss: 0.0252 - acc: 0.9961 - val_loss: 0.0242 - val_acc: 0.9961\n",
            "Epoch 47/100\n",
            "1797/1797 [==============================] - 0s 59us/step - loss: 0.0250 - acc: 0.9944 - val_loss: 0.0208 - val_acc: 0.9983\n",
            "Epoch 48/100\n",
            "1797/1797 [==============================] - 0s 65us/step - loss: 0.0226 - acc: 0.9983 - val_loss: 0.0199 - val_acc: 0.9989\n",
            "Epoch 49/100\n",
            "1797/1797 [==============================] - 0s 63us/step - loss: 0.0214 - acc: 0.9972 - val_loss: 0.0209 - val_acc: 0.9978\n",
            "Epoch 50/100\n",
            "1797/1797 [==============================] - 0s 60us/step - loss: 0.0214 - acc: 0.9972 - val_loss: 0.0184 - val_acc: 0.9983\n",
            "Epoch 51/100\n",
            "1797/1797 [==============================] - 0s 60us/step - loss: 0.0198 - acc: 0.9972 - val_loss: 0.0176 - val_acc: 0.9978\n",
            "Epoch 52/100\n",
            "1797/1797 [==============================] - 0s 63us/step - loss: 0.0195 - acc: 0.9983 - val_loss: 0.0212 - val_acc: 0.9972\n",
            "Epoch 53/100\n",
            "1797/1797 [==============================] - 0s 62us/step - loss: 0.0189 - acc: 0.9983 - val_loss: 0.0172 - val_acc: 0.9994\n",
            "Epoch 54/100\n",
            "1797/1797 [==============================] - 0s 61us/step - loss: 0.0188 - acc: 0.9967 - val_loss: 0.0176 - val_acc: 0.9983\n",
            "Epoch 55/100\n",
            "1797/1797 [==============================] - 0s 58us/step - loss: 0.0187 - acc: 0.9978 - val_loss: 0.0168 - val_acc: 0.9989\n",
            "Epoch 56/100\n",
            "1797/1797 [==============================] - 0s 63us/step - loss: 0.0178 - acc: 0.9978 - val_loss: 0.0168 - val_acc: 0.9983\n",
            "Epoch 57/100\n",
            "1797/1797 [==============================] - 0s 59us/step - loss: 0.0170 - acc: 0.9989 - val_loss: 0.0151 - val_acc: 0.9994\n",
            "Epoch 58/100\n",
            "1797/1797 [==============================] - 0s 71us/step - loss: 0.0167 - acc: 0.9978 - val_loss: 0.0152 - val_acc: 0.9994\n",
            "Epoch 59/100\n",
            "1797/1797 [==============================] - 0s 63us/step - loss: 0.0162 - acc: 0.9978 - val_loss: 0.0139 - val_acc: 0.9994\n",
            "Epoch 60/100\n",
            "1797/1797 [==============================] - 0s 62us/step - loss: 0.0156 - acc: 0.9989 - val_loss: 0.0145 - val_acc: 0.9983\n",
            "Epoch 61/100\n",
            "1797/1797 [==============================] - 0s 63us/step - loss: 0.0144 - acc: 0.9989 - val_loss: 0.0142 - val_acc: 0.9994\n",
            "Epoch 62/100\n",
            "1797/1797 [==============================] - 0s 59us/step - loss: 0.0145 - acc: 0.9983 - val_loss: 0.0144 - val_acc: 0.9983\n",
            "Epoch 63/100\n",
            "1797/1797 [==============================] - 0s 68us/step - loss: 0.0144 - acc: 0.9994 - val_loss: 0.0130 - val_acc: 0.9989\n",
            "Epoch 64/100\n",
            "1797/1797 [==============================] - 0s 60us/step - loss: 0.0166 - acc: 0.9972 - val_loss: 0.0125 - val_acc: 0.9994\n",
            "Epoch 65/100\n",
            "1797/1797 [==============================] - 0s 58us/step - loss: 0.0138 - acc: 0.9994 - val_loss: 0.0117 - val_acc: 1.0000\n",
            "Epoch 66/100\n",
            "1797/1797 [==============================] - 0s 59us/step - loss: 0.0128 - acc: 0.9989 - val_loss: 0.0119 - val_acc: 0.9994\n",
            "Epoch 67/100\n",
            "1797/1797 [==============================] - 0s 64us/step - loss: 0.0128 - acc: 0.9983 - val_loss: 0.0114 - val_acc: 1.0000\n",
            "Epoch 68/100\n",
            "1797/1797 [==============================] - 0s 63us/step - loss: 0.0122 - acc: 0.9994 - val_loss: 0.0115 - val_acc: 0.9989\n",
            "Epoch 69/100\n",
            "1797/1797 [==============================] - 0s 69us/step - loss: 0.0120 - acc: 1.0000 - val_loss: 0.0112 - val_acc: 0.9994\n",
            "Epoch 70/100\n",
            "1797/1797 [==============================] - 0s 65us/step - loss: 0.0121 - acc: 0.9994 - val_loss: 0.0109 - val_acc: 1.0000\n",
            "Epoch 71/100\n",
            "1797/1797 [==============================] - 0s 68us/step - loss: 0.0118 - acc: 0.9994 - val_loss: 0.0110 - val_acc: 0.9994\n",
            "Epoch 72/100\n",
            "1797/1797 [==============================] - 0s 66us/step - loss: 0.0111 - acc: 0.9994 - val_loss: 0.0112 - val_acc: 0.9994\n",
            "Epoch 73/100\n",
            "1797/1797 [==============================] - 0s 65us/step - loss: 0.0112 - acc: 0.9994 - val_loss: 0.0106 - val_acc: 0.9994\n",
            "Epoch 74/100\n",
            "1797/1797 [==============================] - 0s 67us/step - loss: 0.0119 - acc: 0.9994 - val_loss: 0.0104 - val_acc: 0.9994\n",
            "Epoch 75/100\n",
            "1797/1797 [==============================] - 0s 63us/step - loss: 0.0105 - acc: 0.9994 - val_loss: 0.0097 - val_acc: 1.0000\n",
            "Epoch 76/100\n",
            "1797/1797 [==============================] - 0s 61us/step - loss: 0.0101 - acc: 1.0000 - val_loss: 0.0090 - val_acc: 1.0000\n",
            "Epoch 77/100\n",
            "1797/1797 [==============================] - 0s 62us/step - loss: 0.0100 - acc: 1.0000 - val_loss: 0.0089 - val_acc: 1.0000\n",
            "Epoch 78/100\n",
            "1797/1797 [==============================] - 0s 62us/step - loss: 0.0097 - acc: 1.0000 - val_loss: 0.0087 - val_acc: 1.0000\n",
            "Epoch 79/100\n",
            "1797/1797 [==============================] - 0s 64us/step - loss: 0.0095 - acc: 1.0000 - val_loss: 0.0084 - val_acc: 1.0000\n",
            "Epoch 80/100\n",
            "1797/1797 [==============================] - 0s 59us/step - loss: 0.0092 - acc: 1.0000 - val_loss: 0.0086 - val_acc: 1.0000\n",
            "Epoch 81/100\n",
            "1797/1797 [==============================] - 0s 60us/step - loss: 0.0089 - acc: 1.0000 - val_loss: 0.0087 - val_acc: 1.0000\n",
            "Epoch 82/100\n",
            "1797/1797 [==============================] - 0s 56us/step - loss: 0.0093 - acc: 1.0000 - val_loss: 0.0081 - val_acc: 1.0000\n",
            "Epoch 83/100\n",
            "1797/1797 [==============================] - 0s 62us/step - loss: 0.0087 - acc: 1.0000 - val_loss: 0.0080 - val_acc: 1.0000\n",
            "Epoch 84/100\n",
            "1797/1797 [==============================] - 0s 60us/step - loss: 0.0089 - acc: 1.0000 - val_loss: 0.0086 - val_acc: 1.0000\n",
            "Epoch 85/100\n",
            "1797/1797 [==============================] - 0s 61us/step - loss: 0.0087 - acc: 1.0000 - val_loss: 0.0075 - val_acc: 1.0000\n",
            "Epoch 86/100\n",
            "1797/1797 [==============================] - 0s 64us/step - loss: 0.0079 - acc: 1.0000 - val_loss: 0.0074 - val_acc: 1.0000\n",
            "Epoch 87/100\n",
            "1797/1797 [==============================] - 0s 62us/step - loss: 0.0077 - acc: 1.0000 - val_loss: 0.0074 - val_acc: 1.0000\n",
            "Epoch 88/100\n",
            "1797/1797 [==============================] - 0s 62us/step - loss: 0.0117 - acc: 0.9978 - val_loss: 0.0075 - val_acc: 1.0000\n",
            "Epoch 89/100\n",
            "1797/1797 [==============================] - 0s 58us/step - loss: 0.0078 - acc: 1.0000 - val_loss: 0.0068 - val_acc: 1.0000\n",
            "Epoch 90/100\n",
            "1797/1797 [==============================] - 0s 62us/step - loss: 0.0074 - acc: 1.0000 - val_loss: 0.0067 - val_acc: 1.0000\n",
            "Epoch 91/100\n",
            "1797/1797 [==============================] - 0s 56us/step - loss: 0.0072 - acc: 1.0000 - val_loss: 0.0067 - val_acc: 1.0000\n",
            "Epoch 92/100\n",
            "1797/1797 [==============================] - 0s 58us/step - loss: 0.0070 - acc: 1.0000 - val_loss: 0.0066 - val_acc: 1.0000\n",
            "Epoch 93/100\n",
            "1797/1797 [==============================] - 0s 59us/step - loss: 0.0070 - acc: 1.0000 - val_loss: 0.0065 - val_acc: 1.0000\n",
            "Epoch 94/100\n",
            "1797/1797 [==============================] - 0s 61us/step - loss: 0.0069 - acc: 1.0000 - val_loss: 0.0063 - val_acc: 1.0000\n",
            "Epoch 95/100\n",
            "1797/1797 [==============================] - 0s 61us/step - loss: 0.0067 - acc: 1.0000 - val_loss: 0.0065 - val_acc: 1.0000\n",
            "Epoch 96/100\n",
            "1797/1797 [==============================] - 0s 57us/step - loss: 0.0065 - acc: 1.0000 - val_loss: 0.0065 - val_acc: 1.0000\n",
            "Epoch 97/100\n",
            "1797/1797 [==============================] - 0s 62us/step - loss: 0.0066 - acc: 1.0000 - val_loss: 0.0060 - val_acc: 1.0000\n",
            "Epoch 98/100\n",
            "1797/1797 [==============================] - 0s 65us/step - loss: 0.0064 - acc: 1.0000 - val_loss: 0.0060 - val_acc: 1.0000\n",
            "Epoch 99/100\n",
            "1797/1797 [==============================] - 0s 57us/step - loss: 0.0064 - acc: 1.0000 - val_loss: 0.0058 - val_acc: 1.0000\n",
            "Epoch 100/100\n",
            "1797/1797 [==============================] - 0s 61us/step - loss: 0.0062 - acc: 1.0000 - val_loss: 0.0057 - val_acc: 1.0000\n",
            "1797/1797 [==============================] - 0s 19us/step\n"
          ],
          "name": "stdout"
        }
      ]
    },
    {
      "cell_type": "code",
      "metadata": {
        "id": "HM0O3oxFdbgN",
        "colab_type": "code",
        "colab": {}
      },
      "source": [
        "ye=model.predict(np.array([X[0]]))"
      ],
      "execution_count": 0,
      "outputs": []
    },
    {
      "cell_type": "code",
      "metadata": {
        "id": "ZfE-3BH_gkaC",
        "colab_type": "code",
        "outputId": "c3fcd1f1-4299-4509-9ee8-f3ced836d787",
        "colab": {
          "base_uri": "https://localhost:8080/",
          "height": 68
        }
      },
      "source": [
        "ye"
      ],
      "execution_count": 3,
      "outputs": [
        {
          "output_type": "execute_result",
          "data": {
            "text/plain": [
              "array([[1.0000000e+00, 5.4339950e-19, 2.5740165e-18, 9.3640822e-15,\n",
              "        6.1317347e-13, 6.6048691e-09, 1.8118865e-14, 3.1806879e-10,\n",
              "        1.4198126e-15, 2.3507968e-17]], dtype=float32)"
            ]
          },
          "metadata": {
            "tags": []
          },
          "execution_count": 3
        }
      ]
    },
    {
      "cell_type": "code",
      "metadata": {
        "id": "d-a1GJogLymH",
        "colab_type": "code",
        "colab": {
          "base_uri": "https://localhost:8080/",
          "height": 34
        },
        "outputId": "924dd4a1-91d2-44ce-c1c3-8cb69dc71606"
      },
      "source": [
        "score"
      ],
      "execution_count": 4,
      "outputs": [
        {
          "output_type": "execute_result",
          "data": {
            "text/plain": [
              "[0.00568553158996806, 1.0]"
            ]
          },
          "metadata": {
            "tags": []
          },
          "execution_count": 4
        }
      ]
    }
  ]
}