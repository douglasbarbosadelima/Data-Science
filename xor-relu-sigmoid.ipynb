{
  "nbformat": 4,
  "nbformat_minor": 0,
  "metadata": {
    "colab": {
      "name": "Untitled2.ipynb",
      "provenance": [],
      "include_colab_link": true
    },
    "kernelspec": {
      "name": "python3",
      "display_name": "Python 3"
    }
  },
  "cells": [
    {
      "cell_type": "markdown",
      "metadata": {
        "id": "view-in-github",
        "colab_type": "text"
      },
      "source": [
        "<a href=\"https://colab.research.google.com/github/douglasbarbosadelima/Data-Science/blob/master/xor-relu-sigmoid.ipynb\" target=\"_parent\"><img src=\"https://colab.research.google.com/assets/colab-badge.svg\" alt=\"Open In Colab\"/></a>"
      ]
    },
    {
      "cell_type": "code",
      "metadata": {
        "id": "qnE92irtOGvt",
        "colab_type": "code",
        "colab": {
          "base_uri": "https://localhost:8080/",
          "height": 34
        },
        "outputId": "8a854d83-1c88-419b-fbe5-d13f53996a76"
      },
      "source": [
        "'''\n",
        "  This problem implements an Neural Network to handle with XOR Operator\n",
        "'''"
      ],
      "execution_count": 1,
      "outputs": [
        {
          "output_type": "execute_result",
          "data": {
            "text/plain": [
              "'\\n  This problem implements an Neural Network to handle with XOR Operator\\n'"
            ]
          },
          "metadata": {
            "tags": []
          },
          "execution_count": 1
        }
      ]
    },
    {
      "cell_type": "code",
      "metadata": {
        "id": "n3GXMyP3OSoY",
        "colab_type": "code",
        "colab": {}
      },
      "source": [
        "import numpy as np\n",
        "from sklearn.linear_model import LinearRegression \n",
        "from sklearn.svm import LinearSVC\n",
        "from sklearn.metrics import accuracy_score\n",
        "from sklearn.model_selection import train_test_split\n",
        "from sklearn.neural_network import MLPClassifier"
      ],
      "execution_count": 0,
      "outputs": []
    },
    {
      "cell_type": "code",
      "metadata": {
        "id": "zfSLCpKXOqHR",
        "colab_type": "code",
        "colab": {
          "base_uri": "https://localhost:8080/",
          "height": 51
        },
        "outputId": "e65bb790-22d4-4557-d8d6-0c09a9725e53"
      },
      "source": [
        "inputs = np.array([[1, 1], [1, 0], [0, 1], [0, 0]])\n",
        "outputs = np.array([0, 1, 1, 0])\n",
        "\n",
        "# Here Relu is the activtation function\n",
        "reluModel = MLPClassifier(\n",
        "    activation='relu', max_iter=10000, hidden_layer_sizes=(4,2))\n",
        "reluModel.fit(inputs, outputs)\n",
        "print(reluModel.predict(inputs), accuracy_score(reluModel.predict(inputs), outputs))\n",
        "\n",
        "# Here Sigmoid is the activtation function\n",
        "sigModel = MLPClassifier(\n",
        "    activation='logistic', max_iter=10000, hidden_layer_sizes=(4,2))\n",
        "sigModel.fit(inputs, outputs)\n",
        "print(sigModel.predict(inputs), accuracy_score(sigModel.predict(inputs), outputs))\n"
      ],
      "execution_count": 85,
      "outputs": [
        {
          "output_type": "stream",
          "text": [
            "[0 1 1 0] 1.0\n",
            "[0 0 0 0] 0.5\n"
          ],
          "name": "stdout"
        }
      ]
    }
  ]
}