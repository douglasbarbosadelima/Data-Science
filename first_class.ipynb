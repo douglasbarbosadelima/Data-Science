{
  "nbformat": 4,
  "nbformat_minor": 0,
  "metadata": {
    "kernelspec": {
      "display_name": "Python 3",
      "language": "python",
      "name": "python3"
    },
    "language_info": {
      "codemirror_mode": {
        "name": "ipython",
        "version": 3
      },
      "file_extension": ".py",
      "mimetype": "text/x-python",
      "name": "python",
      "nbconvert_exporter": "python",
      "pygments_lexer": "ipython3",
      "version": "3.6.3"
    },
    "colab": {
      "name": "primeiros_passos.ipynb",
      "provenance": [],
      "collapsed_sections": [],
      "include_colab_link": true
    }
  },
  "cells": [
    {
      "cell_type": "markdown",
      "metadata": {
        "id": "view-in-github",
        "colab_type": "text"
      },
      "source": [
        "<a href=\"https://colab.research.google.com/github/douglasbarbosadelima/Data-Science/blob/master/first_class.ipynb\" target=\"_parent\"><img src=\"https://colab.research.google.com/assets/colab-badge.svg\" alt=\"Open In Colab\"/></a>"
      ]
    },
    {
      "cell_type": "markdown",
      "metadata": {
        "id": "1v2Fq8VyenHT",
        "colab_type": "text"
      },
      "source": [
        "# Primeiros Passos em Python"
      ]
    },
    {
      "cell_type": "markdown",
      "metadata": {
        "id": "_QvLf7SoenHU",
        "colab_type": "text"
      },
      "source": [
        "Atenção : cada exercício deve ser resolvido na(s) célula(s) abaixo do seu enunciado"
      ]
    },
    {
      "cell_type": "markdown",
      "metadata": {
        "id": "LGSjg2KLenHV",
        "colab_type": "text"
      },
      "source": [
        "Exercício 1: Crie uma lista \"ls\" com os inteiros 1,2,3 e 4 e a fruta \"abacate\". Depois, insira os carros \"fusca\" e \"corcel\"."
      ]
    },
    {
      "cell_type": "code",
      "metadata": {
        "id": "3UpZHd-BenHW",
        "colab_type": "code",
        "outputId": "314da49d-19d2-4810-a66d-c1e7dad04e82",
        "colab": {
          "base_uri": "https://localhost:8080/",
          "height": 34
        }
      },
      "source": [
        "ls = [1, 2, 3, 4, 'abacate']\n",
        "ls.append('fusca')\n",
        "ls.append('corcel')\n",
        "\n",
        "ls"
      ],
      "execution_count": 0,
      "outputs": [
        {
          "output_type": "execute_result",
          "data": {
            "text/plain": [
              "[1, 2, 3, 4, 'abacate', 'fusca', 'corcel']"
            ]
          },
          "metadata": {
            "tags": []
          },
          "execution_count": 1
        }
      ]
    },
    {
      "cell_type": "markdown",
      "metadata": {
        "id": "NMRf4cV_enHY",
        "colab_type": "text"
      },
      "source": [
        "Exercício 2: apresente o número de elementos da lista \"ls\", além de seu primeiro e último elementos."
      ]
    },
    {
      "cell_type": "code",
      "metadata": {
        "id": "EyZFWAA-enHZ",
        "colab_type": "code",
        "outputId": "3bf7f501-8d16-458a-c0cf-897adbe30bf9",
        "colab": {
          "base_uri": "https://localhost:8080/",
          "height": 34
        }
      },
      "source": [
        "len(ls), ls[0], ls[-1]"
      ],
      "execution_count": 0,
      "outputs": [
        {
          "output_type": "execute_result",
          "data": {
            "text/plain": [
              "(7, 1, 'corcel')"
            ]
          },
          "metadata": {
            "tags": []
          },
          "execution_count": 2
        }
      ]
    },
    {
      "cell_type": "markdown",
      "metadata": {
        "id": "n21ZN-fKenHb",
        "colab_type": "text"
      },
      "source": [
        "Exercício 3: Usando \"slices\", crie a lista \"ls2\", pegando do segundo ao quinto elemento de ls. ...Depois altere na ls abacate para abacateiro (é possível? por que?) e verifique se isso altera ls2"
      ]
    },
    {
      "cell_type": "code",
      "metadata": {
        "id": "2egQhp1XenHb",
        "colab_type": "code",
        "outputId": "be5efba6-8972-453e-8c49-966c22ec996e",
        "colab": {
          "base_uri": "https://localhost:8080/",
          "height": 34
        }
      },
      "source": [
        "ls2 = ls[1:5]\n",
        "ls[4] = 'abacateiro'\n",
        "ls"
      ],
      "execution_count": 0,
      "outputs": [
        {
          "output_type": "execute_result",
          "data": {
            "text/plain": [
              "[1, 2, 3, 4, 'abacateiro', 'fusca', 'corcel']"
            ]
          },
          "metadata": {
            "tags": []
          },
          "execution_count": 3
        }
      ]
    },
    {
      "cell_type": "markdown",
      "metadata": {
        "id": "7uwfnKqNenHd",
        "colab_type": "text"
      },
      "source": [
        "Exercício 4:Faça ls3=ls ..Foi feita uma cópia? Altere em ls 1 para 5 e verifique o efeito em ls3. Explique"
      ]
    },
    {
      "cell_type": "code",
      "metadata": {
        "id": "1hdXbfQUenHe",
        "colab_type": "code",
        "outputId": "ccdad2c2-4f9f-4f7d-92c8-0fa8e09f48f6",
        "colab": {
          "base_uri": "https://localhost:8080/",
          "height": 68
        }
      },
      "source": [
        "ls3 = ls\n",
        "print(id(ls3), id(ls))\n",
        "ls[1] = 5\n",
        "\n",
        "ls3, ls"
      ],
      "execution_count": 0,
      "outputs": [
        {
          "output_type": "stream",
          "text": [
            "139784082005128 139784082005128\n"
          ],
          "name": "stdout"
        },
        {
          "output_type": "execute_result",
          "data": {
            "text/plain": [
              "([1, 5, 3, 4, 'abacateiro', 'fusca', 'corcel'],\n",
              " [1, 5, 3, 4, 'abacateiro', 'fusca', 'corcel'])"
            ]
          },
          "metadata": {
            "tags": []
          },
          "execution_count": 5
        }
      ]
    },
    {
      "cell_type": "markdown",
      "metadata": {
        "id": "k2v3JfzsenHf",
        "colab_type": "text"
      },
      "source": [
        "ls3 e ls nomeiam o mesmo objeto. Podemos verificar isso pelo id(ls3) e id(ls)"
      ]
    },
    {
      "cell_type": "markdown",
      "metadata": {
        "id": "dnTHzvntenHg",
        "colab_type": "text"
      },
      "source": [
        "Exercicio 5: usando .copy(), crie lsc como cópia de ls, altere o primeiro elemento e note que lsc não se alterou!"
      ]
    },
    {
      "cell_type": "code",
      "metadata": {
        "id": "7g78l5Eqfif2",
        "colab_type": "code",
        "outputId": "ae7e935d-7a21-4b19-8603-c919c11fc074",
        "colab": {
          "base_uri": "https://localhost:8080/",
          "height": 51
        }
      },
      "source": [
        "lsCopy = ls.copy()\n",
        "lsCopy[2] = 1000000\n",
        "\n",
        "ls, lsCopy"
      ],
      "execution_count": 0,
      "outputs": [
        {
          "output_type": "execute_result",
          "data": {
            "text/plain": [
              "([1, 5, 3, 4, 'abacateiro', 'fusca', 'corcel'],\n",
              " [1, 5, 1000000, 4, 'abacateiro', 'fusca', 'corcel'])"
            ]
          },
          "metadata": {
            "tags": []
          },
          "execution_count": 6
        }
      ]
    },
    {
      "cell_type": "markdown",
      "metadata": {
        "id": "LP_qp6nvenHg",
        "colab_type": "text"
      },
      "source": [
        "Exercício 6: crie a tupla tl=(1,2). Tente alterar o primeiro elemento. Verifique o resultado. Tupla é imutável!"
      ]
    },
    {
      "cell_type": "code",
      "metadata": {
        "id": "2kMa6BbYenHh",
        "colab_type": "code",
        "outputId": "cc28286a-abb3-40f3-975d-54a8ab6fb7ae",
        "colab": {
          "base_uri": "https://localhost:8080/",
          "height": 181
        }
      },
      "source": [
        "tl = (1, 2)\n",
        "tl[0] = 100"
      ],
      "execution_count": 0,
      "outputs": [
        {
          "output_type": "error",
          "ename": "TypeError",
          "evalue": "ignored",
          "traceback": [
            "\u001b[0;31m---------------------------------------------------------------------------\u001b[0m",
            "\u001b[0;31mTypeError\u001b[0m                                 Traceback (most recent call last)",
            "\u001b[0;32m<ipython-input-7-e69043a3e678>\u001b[0m in \u001b[0;36m<module>\u001b[0;34m()\u001b[0m\n\u001b[1;32m      1\u001b[0m \u001b[0mtl\u001b[0m \u001b[0;34m=\u001b[0m \u001b[0;34m(\u001b[0m\u001b[0;36m1\u001b[0m\u001b[0;34m,\u001b[0m \u001b[0;36m2\u001b[0m\u001b[0;34m)\u001b[0m\u001b[0;34m\u001b[0m\u001b[0;34m\u001b[0m\u001b[0m\n\u001b[0;32m----> 2\u001b[0;31m \u001b[0mtl\u001b[0m\u001b[0;34m[\u001b[0m\u001b[0;36m0\u001b[0m\u001b[0;34m]\u001b[0m \u001b[0;34m=\u001b[0m \u001b[0;36m100\u001b[0m\u001b[0;34m\u001b[0m\u001b[0;34m\u001b[0m\u001b[0m\n\u001b[0m",
            "\u001b[0;31mTypeError\u001b[0m: 'tuple' object does not support item assignment"
          ]
        }
      ]
    },
    {
      "cell_type": "markdown",
      "metadata": {
        "id": "pFQ4DZk1enHj",
        "colab_type": "text"
      },
      "source": [
        "Exercício 7: Crie um dicionário \"dct\" de telefones(ints) joão: 1234, maria :5678, carlos: 7899. Depois insira marcelo:7777. Tente mostrar o número de uma chave inexistente 'ana' e de uma existente (carlos)."
      ]
    },
    {
      "cell_type": "code",
      "metadata": {
        "id": "0Cx-wdeYenHj",
        "colab_type": "code",
        "outputId": "aca91b1d-4452-429d-a89a-cff799ade095",
        "colab": {
          "base_uri": "https://localhost:8080/",
          "height": 34
        }
      },
      "source": [
        "dct = { 'joao': 1234, 'maria': 5678, 'carlos': 7899 }\n",
        "dct['marcelo'] = 7777\n",
        "dct"
      ],
      "execution_count": 0,
      "outputs": [
        {
          "output_type": "execute_result",
          "data": {
            "text/plain": [
              "{'carlos': 7899, 'joao': 1234, 'marcelo': 7777, 'maria': 5678}"
            ]
          },
          "metadata": {
            "tags": []
          },
          "execution_count": 13
        }
      ]
    },
    {
      "cell_type": "code",
      "metadata": {
        "id": "YpTpbl-ZenHl",
        "colab_type": "code",
        "colab": {}
      },
      "source": [
        ""
      ],
      "execution_count": 0,
      "outputs": []
    },
    {
      "cell_type": "markdown",
      "metadata": {
        "id": "mxlakgLaenHn",
        "colab_type": "text"
      },
      "source": [
        "Exercício 8: Crie um conjunto de inteiros s1={1,2,3} e s2={3,4,5}. Obtenha a intersecção."
      ]
    },
    {
      "cell_type": "code",
      "metadata": {
        "id": "fy3mGk5WenHn",
        "colab_type": "code",
        "outputId": "b1cd8398-8e38-4509-fcda-e4af17b7c4ed",
        "colab": {
          "base_uri": "https://localhost:8080/",
          "height": 34
        }
      },
      "source": [
        "s1 = {1, 2, 3}\n",
        "s2 = {3, 4, 5}\n",
        "\n",
        "s1&s2, 3 in s1 #interseccao\n",
        "\n",
        "lx = [1, 1, 2, 2, 3, 3];\n",
        "lx=list(set(lx))\n",
        "lx\n"
      ],
      "execution_count": 0,
      "outputs": [
        {
          "output_type": "execute_result",
          "data": {
            "text/plain": [
              "[1, 2, 3]"
            ]
          },
          "metadata": {
            "tags": []
          },
          "execution_count": 20
        }
      ]
    },
    {
      "cell_type": "markdown",
      "metadata": {
        "id": "pKF9l4n6enHp",
        "colab_type": "text"
      },
      "source": [
        "Exercício 9:crie uma lista de inteiros li=[1,2,4,6,7,12,0,22], crie uma lista vazia lp=[], percorra a lista li e insira em lp, os elementos pares de li. Eis nosso primeiro laço e primeiro if. Observe indentação para definir o início e final do laço (observe o :)"
      ]
    },
    {
      "cell_type": "code",
      "metadata": {
        "id": "ukoQw9ipenHq",
        "colab_type": "code",
        "outputId": "503b6635-8e98-4253-fa2a-85399a6d390a",
        "colab": {
          "base_uri": "https://localhost:8080/",
          "height": 34
        }
      },
      "source": [
        "li = [1,2,4,6,7,12,0,22]\n",
        "lp = []\n",
        "\n",
        "for x in li:\n",
        "  if x % 2 == 0:\n",
        "    lp.append(x)\n",
        "\n",
        "lp\n"
      ],
      "execution_count": 0,
      "outputs": [
        {
          "output_type": "execute_result",
          "data": {
            "text/plain": [
              "[2, 4, 6, 12, 0, 22]"
            ]
          },
          "metadata": {
            "tags": []
          },
          "execution_count": 25
        }
      ]
    },
    {
      "cell_type": "markdown",
      "metadata": {
        "id": "5CmrYg0oenHr",
        "colab_type": "text"
      },
      "source": [
        "Exercício 10:Ordene a lista l=[1,9,2,3,12,0] em ordem crescente. Depois ordene a lista l1=[(1,3),(7,2),(4,2)] pelo primeiro elemento"
      ]
    },
    {
      "cell_type": "code",
      "metadata": {
        "id": "qBkxasngenHs",
        "colab_type": "code",
        "outputId": "bcc198fc-2f13-41fb-8eed-b353ac3523d5",
        "colab": {
          "base_uri": "https://localhost:8080/",
          "height": 51
        }
      },
      "source": [
        "l = [1, 9, 2, 3, 12, 0]\n",
        "l.sort()\n",
        "l\n",
        "\n",
        "l1 = [(1, 3), (7, 2), (4, 2)]\n",
        "l1.sort(key = lambda x: x[1]) # order by second element\n",
        "print(l1)\n",
        "\n",
        "l1.sort(key = lambda x: x[0] + x[1]) # order by sum of elements\n",
        "print(l1)"
      ],
      "execution_count": 0,
      "outputs": [
        {
          "output_type": "stream",
          "text": [
            "[(7, 2), (4, 2), (1, 3)]\n",
            "[(1, 3), (4, 2), (7, 2)]\n"
          ],
          "name": "stdout"
        }
      ]
    },
    {
      "cell_type": "markdown",
      "metadata": {
        "id": "xGR2BcKMenHt",
        "colab_type": "text"
      },
      "source": [
        "Exercício 11:Crie uma lista de tuplas lt=[(0,4),(0,5),(1,6),(0,4),(2,6),(1,8)] o primeiro elemento da tupla é o id do usuário, o segundo é o produto adquirido.Apresente um dicionário com a lista dos produtos comprados por usuário."
      ]
    },
    {
      "cell_type": "code",
      "metadata": {
        "id": "X-oNc_wCenHu",
        "colab_type": "code",
        "outputId": "b6ae07cc-5a6d-4735-8c3c-c1a8958accc8",
        "colab": {
          "base_uri": "https://localhost:8080/",
          "height": 34
        }
      },
      "source": [
        "lt=[(0,4),(0,5),(1,6),(0,4),(2,6),(1,8)]\n",
        "produtos = {}\n",
        "\n",
        "for x, x1 in lt:\n",
        "  if x in produtos:\n",
        "    produtos[x].append(x1)\n",
        "  else:\n",
        "    produtos[x] = [x1]\n",
        "  \n",
        "print(produtos)"
      ],
      "execution_count": 0,
      "outputs": [
        {
          "output_type": "stream",
          "text": [
            "{0: [4, 5, 4], 1: [6, 8], 2: [6]}\n"
          ],
          "name": "stdout"
        }
      ]
    },
    {
      "cell_type": "markdown",
      "metadata": {
        "id": "w87INNVVenHv",
        "colab_type": "text"
      },
      "source": [
        "Exercício 12: Partindo do dicionário dct do exerício 11, crie uma matriz produtos (0 a 9) nas colunas e usuários (0 a 2). A matriz será uma lista de listas. Cada lista será uma linha da matriz \"A\"."
      ]
    },
    {
      "cell_type": "code",
      "metadata": {
        "id": "mQ0oq-K5enHw",
        "colab_type": "code",
        "outputId": "75ba20f1-db86-457c-9dde-19558bc1a713",
        "colab": {
          "base_uri": "https://localhost:8080/",
          "height": 68
        }
      },
      "source": [
        "arr = []\n",
        "for i in produtos:\n",
        "  aux = []\n",
        "  for y in range(10):\n",
        "    aux.append(produtos[i].count(y))\n",
        "  arr.append(aux)\n",
        "  \n",
        "arr"
      ],
      "execution_count": 0,
      "outputs": [
        {
          "output_type": "execute_result",
          "data": {
            "text/plain": [
              "[[0, 0, 0, 0, 2, 1, 0, 0, 0, 0],\n",
              " [0, 0, 0, 0, 0, 0, 1, 0, 1, 0],\n",
              " [0, 0, 0, 0, 0, 0, 1, 0, 0, 0]]"
            ]
          },
          "metadata": {
            "tags": []
          },
          "execution_count": 83
        }
      ]
    },
    {
      "cell_type": "markdown",
      "metadata": {
        "id": "4C-9R0sienHy",
        "colab_type": "text"
      },
      "source": [
        "Exercício 13: obtenha, a partir de dct[i], quantos produtos diferentes o usuário  \"i\" comprou"
      ]
    },
    {
      "cell_type": "code",
      "metadata": {
        "id": "QLt7a15ienHy",
        "colab_type": "code",
        "outputId": "063e44fb-9db5-422c-c110-e183c361c149",
        "colab": {
          "base_uri": "https://localhost:8080/",
          "height": 34
        }
      },
      "source": [
        "len(set(produtos[0]))"
      ],
      "execution_count": 0,
      "outputs": [
        {
          "output_type": "execute_result",
          "data": {
            "text/plain": [
              "2"
            ]
          },
          "metadata": {
            "tags": []
          },
          "execution_count": 73
        }
      ]
    },
    {
      "cell_type": "markdown",
      "metadata": {
        "id": "-aj8RVGmenH0",
        "colab_type": "text"
      },
      "source": [
        "Exercício 14: crie uma função que devolve (com base em dct) os produtos comprados em comum por i e j"
      ]
    },
    {
      "cell_type": "code",
      "metadata": {
        "id": "j8NdMT5XenH0",
        "colab_type": "code",
        "outputId": "695b8a3c-c704-4b19-fcac-6c9f688c1c49",
        "colab": {
          "base_uri": "https://localhost:8080/",
          "height": 34
        }
      },
      "source": [
        "def intersect(i, j, l):\n",
        "  a1 = set(l[i])\n",
        "  a2 = set(l[j])\n",
        "  return a1&a2\n",
        "\n",
        "intersect(1, 2, produtos)"
      ],
      "execution_count": 0,
      "outputs": [
        {
          "output_type": "execute_result",
          "data": {
            "text/plain": [
              "{6}"
            ]
          },
          "metadata": {
            "tags": []
          },
          "execution_count": 78
        }
      ]
    },
    {
      "cell_type": "markdown",
      "metadata": {
        "id": "LxSl88NuenH2",
        "colab_type": "text"
      },
      "source": [
        "Exercício 15: Obtenha a matriz C pela multiplicação de A por B A=[[1,2],[3,4]] , B=[[3,1],[0,5]]"
      ]
    },
    {
      "cell_type": "code",
      "metadata": {
        "id": "O44mXuhkzukk",
        "colab_type": "code",
        "outputId": "a8b5d3fb-4dff-4b77-b1d8-f43a3669542a",
        "colab": {
          "base_uri": "https://localhost:8080/",
          "height": 68
        }
      },
      "source": [
        "a = [[1, 2], [3, 4]]\n",
        "b = [[3, 1], [0, 5]]\n",
        "c = [[0, 0], [0, 0]]\n",
        "\n",
        "for i in range(2) :\n",
        "  for j in range(2) :\n",
        "    for k in range(2):\n",
        "      c[i][j] += a[i][k] * b[k][j]\n",
        "\n",
        "c\n",
        " "
      ],
      "execution_count": 0,
      "outputs": [
        {
          "output_type": "stream",
          "text": [
            "0\n",
            "1\n"
          ],
          "name": "stdout"
        },
        {
          "output_type": "execute_result",
          "data": {
            "text/plain": [
              "[[3, 11], [9, 23]]"
            ]
          },
          "metadata": {
            "tags": []
          },
          "execution_count": 90
        }
      ]
    },
    {
      "cell_type": "code",
      "metadata": {
        "id": "eptwtUUSenH2",
        "colab_type": "code",
        "colab": {}
      },
      "source": [
        "* "
      ],
      "execution_count": 0,
      "outputs": []
    },
    {
      "cell_type": "markdown",
      "metadata": {
        "id": "dB26IPWnenH4",
        "colab_type": "text"
      },
      "source": [
        "Exercicio 16: crie uma função norma(x) que recebe uma lista de inteiros e devolve a norma euclidiana desse \"vetor\". Teste-a com o vetor v=[1,0,3]"
      ]
    },
    {
      "cell_type": "code",
      "metadata": {
        "id": "Q4-_oT5CenH5",
        "colab_type": "code",
        "outputId": "535562af-5809-4ccc-dcdd-705740c23055",
        "colab": {
          "base_uri": "https://localhost:8080/",
          "height": 34
        }
      },
      "source": [
        "import math\n",
        "\n",
        "v = [1, 0, 3]\n",
        "def norma(x) :\n",
        "  r = 0\n",
        "  for i in x:\n",
        "    r += i*i\n",
        "  return math.sqrt(r)\n",
        "\n",
        "norma(v)"
      ],
      "execution_count": 0,
      "outputs": [
        {
          "output_type": "execute_result",
          "data": {
            "text/plain": [
              "3.1622776601683795"
            ]
          },
          "metadata": {
            "tags": []
          },
          "execution_count": 95
        }
      ]
    },
    {
      "cell_type": "markdown",
      "metadata": {
        "id": "dT9j9o61enH9",
        "colab_type": "text"
      },
      "source": [
        "Exercício 17:crie uma função intern(x) que recebe duas listas de inteiros (mesma dimensão) e devolve o produto interno desses \"vetores\""
      ]
    },
    {
      "cell_type": "code",
      "metadata": {
        "id": "y-egKr5w9dt3",
        "colab_type": "code",
        "colab": {}
      },
      "source": [
        ""
      ],
      "execution_count": 0,
      "outputs": []
    },
    {
      "cell_type": "code",
      "metadata": {
        "id": "yqxUS_b0enH9",
        "colab_type": "code",
        "outputId": "aff47bc9-3885-42cf-f5ff-500c5a076c34",
        "colab": {
          "base_uri": "https://localhost:8080/",
          "height": 34
        }
      },
      "source": [
        "def intern(x, y):\n",
        "  s = 0\n",
        "  for i in range(len(x)):\n",
        "    s += x[i]*y[i]\n",
        "  return s\n",
        "\n",
        "intern([100, 200, 300], [400, 500, 600])\n",
        "    "
      ],
      "execution_count": 0,
      "outputs": [
        {
          "output_type": "execute_result",
          "data": {
            "text/plain": [
              "320000"
            ]
          },
          "metadata": {
            "tags": []
          },
          "execution_count": 105
        }
      ]
    },
    {
      "cell_type": "markdown",
      "metadata": {
        "id": "pI4bR0aXenIA",
        "colab_type": "text"
      },
      "source": [
        "Exercício 18: o cos entre dois vetores é dado por v1.v2/||v1||||v2|| . Crie a função cosvect que recebe duas listas e devolve o cos entre elas.Utilize as funçõae intern e norma já criadas"
      ]
    },
    {
      "cell_type": "code",
      "metadata": {
        "id": "VPW6L5FqenIA",
        "colab_type": "code",
        "outputId": "051883ce-e28c-4cba-effa-227f20a7711b",
        "colab": {
          "base_uri": "https://localhost:8080/",
          "height": 34
        }
      },
      "source": [
        "def cosvect(x, y):\n",
        "  i = intern(x, y)\n",
        "  nx = norma(x)\n",
        "  ny = norma(y)\n",
        "\n",
        "  return i / (nx * ny)\n",
        "\n",
        "cosvect([100, 200, 300], [400, 500, 600])\n",
        "  "
      ],
      "execution_count": 0,
      "outputs": [
        {
          "output_type": "execute_result",
          "data": {
            "text/plain": [
              "0.9746318461970762"
            ]
          },
          "metadata": {
            "tags": []
          },
          "execution_count": 109
        }
      ]
    },
    {
      "cell_type": "markdown",
      "metadata": {
        "id": "2e7I1fP4enIB",
        "colab_type": "text"
      },
      "source": [
        "Exercício 19: use a função cosvect como indicador de similaridade entre vetores. Obtenha a similaridade entre os usuários 1 e 2 do exercício 12, em função da similaridade entre as linhas 1 e 2 da matriz AA."
      ]
    },
    {
      "cell_type": "code",
      "metadata": {
        "id": "a-kaq8KrenIC",
        "colab_type": "code",
        "colab": {
          "base_uri": "https://localhost:8080/",
          "height": 34
        },
        "outputId": "f22d24a0-35a9-41dd-f487-33c34732b82b"
      },
      "source": [
        "def emq(x, y):\n",
        "  s = 0\n",
        "  for i in range(len(x)):\n",
        "    s += (x[i] - y[i]) ** 2\n",
        "  return s / len(x)\n",
        "\n",
        "emq([5, 8, 10], [4.5, 8, 11])"
      ],
      "execution_count": 111,
      "outputs": [
        {
          "output_type": "execute_result",
          "data": {
            "text/plain": [
              "0.4166666666666667"
            ]
          },
          "metadata": {
            "tags": []
          },
          "execution_count": 111
        }
      ]
    },
    {
      "cell_type": "markdown",
      "metadata": {
        "id": "4SGa6HXAenIE",
        "colab_type": "text"
      },
      "source": [
        "Exercício 20:Crie a função emq(ye,y) \"erro médio quadrático\" que dá a soma dos quadrados das diferenças entre os valores estimados \"vetor ye\" e os valores reais \"y\". A soma deverá ser dividida pelo número de elementos de ye."
      ]
    },
    {
      "cell_type": "code",
      "metadata": {
        "id": "Czql0xJfenIE",
        "colab_type": "code",
        "colab": {}
      },
      "source": [
        ""
      ],
      "execution_count": 0,
      "outputs": []
    },
    {
      "cell_type": "markdown",
      "metadata": {
        "id": "p1iLAyoEenIF",
        "colab_type": "text"
      },
      "source": [
        "Exercício 21: Faça o gráfico (com bolas) da função y=x**2 para x=1,2,3,4 e 5. Use a biblioteca pyplot de matplotlib."
      ]
    },
    {
      "cell_type": "code",
      "metadata": {
        "id": "gy309tiqenIG",
        "colab_type": "code",
        "colab": {}
      },
      "source": [
        ""
      ],
      "execution_count": 0,
      "outputs": []
    },
    {
      "cell_type": "markdown",
      "metadata": {
        "id": "b4IT4AqOenIK",
        "colab_type": "text"
      },
      "source": [
        "Exercício 22: Faça o gráfico (com bolas) da função sigmoid sig(x)=1/(1+e**-x) para x de -10 a +10 de 0.1 em 0.1. Crie a função sigmoid."
      ]
    },
    {
      "cell_type": "code",
      "metadata": {
        "id": "Qdr6qvfAenIK",
        "colab_type": "code",
        "colab": {}
      },
      "source": [
        ""
      ],
      "execution_count": 0,
      "outputs": []
    }
  ]
}