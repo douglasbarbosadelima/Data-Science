{
  "nbformat": 4,
  "nbformat_minor": 0,
  "metadata": {
    "kernelspec": {
      "display_name": "Python 3",
      "language": "python",
      "name": "python3"
    },
    "language_info": {
      "codemirror_mode": {
        "name": "ipython",
        "version": 3
      },
      "file_extension": ".py",
      "mimetype": "text/x-python",
      "name": "python",
      "nbconvert_exporter": "python",
      "pygments_lexer": "ipython3",
      "version": "3.6.3"
    },
    "colab": {
      "name": "Regularization.ipynb",
      "provenance": [],
      "collapsed_sections": [],
      "include_colab_link": true
    }
  },
  "cells": [
    {
      "cell_type": "markdown",
      "metadata": {
        "id": "view-in-github",
        "colab_type": "text"
      },
      "source": [
        "<a href=\"https://colab.research.google.com/github/douglasbarbosadelima/Data-Science/blob/master/Regularization.ipynb\" target=\"_parent\"><img src=\"https://colab.research.google.com/assets/colab-badge.svg\" alt=\"Open In Colab\"/></a>"
      ]
    },
    {
      "cell_type": "markdown",
      "metadata": {
        "id": "DSya8ImSP5Hg",
        "colab_type": "text"
      },
      "source": [
        "# Regularização"
      ]
    },
    {
      "cell_type": "code",
      "metadata": {
        "id": "V85NVJgOP5Hi",
        "colab_type": "code",
        "colab": {}
      },
      "source": [
        "import numpy as np\n",
        "import pandas as pd\n",
        "import math\n",
        "import matplotlib.pyplot as plt"
      ],
      "execution_count": 0,
      "outputs": []
    },
    {
      "cell_type": "code",
      "metadata": {
        "id": "00ulPTu1P5Hm",
        "colab_type": "code",
        "colab": {
          "base_uri": "https://localhost:8080/",
          "height": 204
        },
        "outputId": "7c3b6152-524d-46de-d8fa-04b790f8ec0e"
      },
      "source": [
        "df=pd.read_csv('https://raw.githubusercontent.com/douglasbarbosadelima/Data-Science/master/cars-uci-linked.csv')\n",
        "df=df.dropna()\n",
        "df.head()"
      ],
      "execution_count": 49,
      "outputs": [
        {
          "output_type": "execute_result",
          "data": {
            "text/html": [
              "<div>\n",
              "<style scoped>\n",
              "    .dataframe tbody tr th:only-of-type {\n",
              "        vertical-align: middle;\n",
              "    }\n",
              "\n",
              "    .dataframe tbody tr th {\n",
              "        vertical-align: top;\n",
              "    }\n",
              "\n",
              "    .dataframe thead th {\n",
              "        text-align: right;\n",
              "    }\n",
              "</style>\n",
              "<table border=\"1\" class=\"dataframe\">\n",
              "  <thead>\n",
              "    <tr style=\"text-align: right;\">\n",
              "      <th></th>\n",
              "      <th>mpg</th>\n",
              "      <th>cylinders</th>\n",
              "      <th>displacement</th>\n",
              "      <th>horsepower</th>\n",
              "      <th>weight</th>\n",
              "      <th>acceleration</th>\n",
              "      <th>year</th>\n",
              "      <th>origin</th>\n",
              "      <th>name</th>\n",
              "    </tr>\n",
              "  </thead>\n",
              "  <tbody>\n",
              "    <tr>\n",
              "      <th>0</th>\n",
              "      <td>18.0</td>\n",
              "      <td>8</td>\n",
              "      <td>3070</td>\n",
              "      <td>130.0</td>\n",
              "      <td>3504</td>\n",
              "      <td>120</td>\n",
              "      <td>70</td>\n",
              "      <td>1</td>\n",
              "      <td>chevrolet chevelle malibu</td>\n",
              "    </tr>\n",
              "    <tr>\n",
              "      <th>1</th>\n",
              "      <td>15.0</td>\n",
              "      <td>8</td>\n",
              "      <td>3500</td>\n",
              "      <td>165.0</td>\n",
              "      <td>3693</td>\n",
              "      <td>115</td>\n",
              "      <td>70</td>\n",
              "      <td>1</td>\n",
              "      <td>buick skylark 320</td>\n",
              "    </tr>\n",
              "    <tr>\n",
              "      <th>2</th>\n",
              "      <td>18.0</td>\n",
              "      <td>8</td>\n",
              "      <td>3180</td>\n",
              "      <td>150.0</td>\n",
              "      <td>3436</td>\n",
              "      <td>110</td>\n",
              "      <td>70</td>\n",
              "      <td>1</td>\n",
              "      <td>plymouth satellite</td>\n",
              "    </tr>\n",
              "    <tr>\n",
              "      <th>3</th>\n",
              "      <td>16.0</td>\n",
              "      <td>8</td>\n",
              "      <td>3040</td>\n",
              "      <td>150.0</td>\n",
              "      <td>3433</td>\n",
              "      <td>120</td>\n",
              "      <td>70</td>\n",
              "      <td>1</td>\n",
              "      <td>amc rebel sst</td>\n",
              "    </tr>\n",
              "    <tr>\n",
              "      <th>4</th>\n",
              "      <td>17.0</td>\n",
              "      <td>8</td>\n",
              "      <td>3020</td>\n",
              "      <td>140.0</td>\n",
              "      <td>3449</td>\n",
              "      <td>105</td>\n",
              "      <td>70</td>\n",
              "      <td>1</td>\n",
              "      <td>ford torino</td>\n",
              "    </tr>\n",
              "  </tbody>\n",
              "</table>\n",
              "</div>"
            ],
            "text/plain": [
              "    mpg  cylinders  displacement  ...  year  origin                       name\n",
              "0  18.0          8          3070  ...    70       1  chevrolet chevelle malibu\n",
              "1  15.0          8          3500  ...    70       1          buick skylark 320\n",
              "2  18.0          8          3180  ...    70       1         plymouth satellite\n",
              "3  16.0          8          3040  ...    70       1              amc rebel sst\n",
              "4  17.0          8          3020  ...    70       1                ford torino\n",
              "\n",
              "[5 rows x 9 columns]"
            ]
          },
          "metadata": {
            "tags": []
          },
          "execution_count": 49
        }
      ]
    },
    {
      "cell_type": "code",
      "metadata": {
        "id": "b2gfz226P5Hr",
        "colab_type": "code",
        "colab": {}
      },
      "source": [
        "def standard(s):\n",
        "    m=s.mean()\n",
        "    d=s.std()\n",
        "    s=(s-m)/d\n",
        "    return (s)"
      ],
      "execution_count": 0,
      "outputs": []
    },
    {
      "cell_type": "code",
      "metadata": {
        "id": "tkz1oMgPP5Hv",
        "colab_type": "code",
        "colab": {}
      },
      "source": [
        "df['hps']=standard(df['horsepower'])"
      ],
      "execution_count": 0,
      "outputs": []
    },
    {
      "cell_type": "code",
      "metadata": {
        "id": "SJuOg5XjP5Hy",
        "colab_type": "code",
        "colab": {
          "base_uri": "https://localhost:8080/",
          "height": 204
        },
        "outputId": "8b0dd576-28a5-4046-fcd2-708bc0e3ee89"
      },
      "source": [
        "df.head()"
      ],
      "execution_count": 52,
      "outputs": [
        {
          "output_type": "execute_result",
          "data": {
            "text/html": [
              "<div>\n",
              "<style scoped>\n",
              "    .dataframe tbody tr th:only-of-type {\n",
              "        vertical-align: middle;\n",
              "    }\n",
              "\n",
              "    .dataframe tbody tr th {\n",
              "        vertical-align: top;\n",
              "    }\n",
              "\n",
              "    .dataframe thead th {\n",
              "        text-align: right;\n",
              "    }\n",
              "</style>\n",
              "<table border=\"1\" class=\"dataframe\">\n",
              "  <thead>\n",
              "    <tr style=\"text-align: right;\">\n",
              "      <th></th>\n",
              "      <th>mpg</th>\n",
              "      <th>cylinders</th>\n",
              "      <th>displacement</th>\n",
              "      <th>horsepower</th>\n",
              "      <th>weight</th>\n",
              "      <th>acceleration</th>\n",
              "      <th>year</th>\n",
              "      <th>origin</th>\n",
              "      <th>name</th>\n",
              "      <th>hps</th>\n",
              "    </tr>\n",
              "  </thead>\n",
              "  <tbody>\n",
              "    <tr>\n",
              "      <th>0</th>\n",
              "      <td>18.0</td>\n",
              "      <td>8</td>\n",
              "      <td>3070</td>\n",
              "      <td>130.0</td>\n",
              "      <td>3504</td>\n",
              "      <td>120</td>\n",
              "      <td>70</td>\n",
              "      <td>1</td>\n",
              "      <td>chevrolet chevelle malibu</td>\n",
              "      <td>0.663285</td>\n",
              "    </tr>\n",
              "    <tr>\n",
              "      <th>1</th>\n",
              "      <td>15.0</td>\n",
              "      <td>8</td>\n",
              "      <td>3500</td>\n",
              "      <td>165.0</td>\n",
              "      <td>3693</td>\n",
              "      <td>115</td>\n",
              "      <td>70</td>\n",
              "      <td>1</td>\n",
              "      <td>buick skylark 320</td>\n",
              "      <td>1.572585</td>\n",
              "    </tr>\n",
              "    <tr>\n",
              "      <th>2</th>\n",
              "      <td>18.0</td>\n",
              "      <td>8</td>\n",
              "      <td>3180</td>\n",
              "      <td>150.0</td>\n",
              "      <td>3436</td>\n",
              "      <td>110</td>\n",
              "      <td>70</td>\n",
              "      <td>1</td>\n",
              "      <td>plymouth satellite</td>\n",
              "      <td>1.182885</td>\n",
              "    </tr>\n",
              "    <tr>\n",
              "      <th>3</th>\n",
              "      <td>16.0</td>\n",
              "      <td>8</td>\n",
              "      <td>3040</td>\n",
              "      <td>150.0</td>\n",
              "      <td>3433</td>\n",
              "      <td>120</td>\n",
              "      <td>70</td>\n",
              "      <td>1</td>\n",
              "      <td>amc rebel sst</td>\n",
              "      <td>1.182885</td>\n",
              "    </tr>\n",
              "    <tr>\n",
              "      <th>4</th>\n",
              "      <td>17.0</td>\n",
              "      <td>8</td>\n",
              "      <td>3020</td>\n",
              "      <td>140.0</td>\n",
              "      <td>3449</td>\n",
              "      <td>105</td>\n",
              "      <td>70</td>\n",
              "      <td>1</td>\n",
              "      <td>ford torino</td>\n",
              "      <td>0.923085</td>\n",
              "    </tr>\n",
              "  </tbody>\n",
              "</table>\n",
              "</div>"
            ],
            "text/plain": [
              "    mpg  cylinders  displacement  ...  origin                       name       hps\n",
              "0  18.0          8          3070  ...       1  chevrolet chevelle malibu  0.663285\n",
              "1  15.0          8          3500  ...       1          buick skylark 320  1.572585\n",
              "2  18.0          8          3180  ...       1         plymouth satellite  1.182885\n",
              "3  16.0          8          3040  ...       1              amc rebel sst  1.182885\n",
              "4  17.0          8          3020  ...       1                ford torino  0.923085\n",
              "\n",
              "[5 rows x 10 columns]"
            ]
          },
          "metadata": {
            "tags": []
          },
          "execution_count": 52
        }
      ]
    },
    {
      "cell_type": "markdown",
      "metadata": {
        "id": "gHr98jfnP5H0",
        "colab_type": "text"
      },
      "source": [
        "Escrever as funções Erro médio quadrático e o respectivo gradiente (já fizemos isso em outra aula...)"
      ]
    },
    {
      "cell_type": "code",
      "metadata": {
        "id": "GP1jLz27P5H1",
        "colab_type": "code",
        "colab": {}
      },
      "source": [
        "#complete o código\n",
        "def grademq(X,theta,y):\n",
        "    return (1/len(y)) * (np.dot(X.T, np.dot(X, theta) - y))"
      ],
      "execution_count": 0,
      "outputs": []
    },
    {
      "cell_type": "code",
      "metadata": {
        "id": "dsWXYy9BP5H3",
        "colab_type": "code",
        "colab": {}
      },
      "source": [
        "#complete o código\n",
        "def emq(ye,y):\n",
        "    dif = ye - y\n",
        "    return (1 / len(y)) * np.inner(dif, dif)\n",
        "    "
      ],
      "execution_count": 0,
      "outputs": []
    },
    {
      "cell_type": "code",
      "metadata": {
        "id": "ZMFlLqSrP5H7",
        "colab_type": "code",
        "colab": {}
      },
      "source": [
        "Crie as matrizes X e y com potência com expoente 1 a 7"
      ],
      "execution_count": 0,
      "outputs": []
    },
    {
      "cell_type": "code",
      "metadata": {
        "id": "nXzeBqp6P5H9",
        "colab_type": "code",
        "colab": {
          "base_uri": "https://localhost:8080/",
          "height": 85
        },
        "outputId": "1095eb15-4939-439d-b7e4-0a6343e01a5e"
      },
      "source": [
        "X = np.ones((len(df), 8))\n",
        "for i in range(1, 8):\n",
        "  X[:, i] = df['hps'] ** i\n",
        "\n",
        "y = np.array(df['mpg'])\n",
        "X[:2]"
      ],
      "execution_count": 56,
      "outputs": [
        {
          "output_type": "execute_result",
          "data": {
            "text/plain": [
              "array([[ 1.        ,  0.66328508,  0.4399471 ,  0.29181035,  0.19355345,\n",
              "         0.12838112,  0.08515328,  0.0564809 ],\n",
              "       [ 1.        ,  1.57258478,  2.47302289,  3.88903815,  6.1158422 ,\n",
              "         9.61768036, 15.12461775, 23.78474366]])"
            ]
          },
          "metadata": {
            "tags": []
          },
          "execution_count": 56
        }
      ]
    },
    {
      "cell_type": "markdown",
      "metadata": {
        "id": "VcD6zp9FP5IA",
        "colab_type": "text"
      },
      "source": [
        "Faça Gradient descent até boa convergência (?). Registre o EMQ a cada iteração "
      ]
    },
    {
      "cell_type": "code",
      "metadata": {
        "id": "qbIjAMTaP5IA",
        "colab_type": "code",
        "colab": {
          "base_uri": "https://localhost:8080/",
          "height": 221
        },
        "outputId": "98e9f852-d05b-4464-affb-c736b1752f2b"
      },
      "source": [
        "theta = np.array([0.5, 0.5, 0.5, 0.5, 0.5, 0.5, 0.5, 0.5])\n",
        "errorList = []\n",
        "yEstimate = np.dot(X, theta)\n",
        "\n",
        "errorList.append(emq(yEstimate, y))\n",
        "\n",
        "for i in range(50000):\n",
        "  g = grademq(X, theta, y)\n",
        "  theta = theta - 0.00001 * g\n",
        "  yEstimate = np.dot(X, theta)\n",
        "  errorList.append(emq(yEstimate, y))\n",
        "\n",
        "theta, errorList[-10:]\n"
      ],
      "execution_count": 61,
      "outputs": [
        {
          "output_type": "execute_result",
          "data": {
            "text/plain": [
              "(array([ 7.91941078, -2.02980169,  3.81681903, -1.09123422,  2.56834392,\n",
              "        -1.92323118,  0.40616424, -0.0144262 ]),\n",
              " [172.90274939036846,\n",
              "  172.8999266037186,\n",
              "  172.89710388482266,\n",
              "  172.8942812336784,\n",
              "  172.8914586502836,\n",
              "  172.888636134636,\n",
              "  172.8858136867334,\n",
              "  172.88299130657353,\n",
              "  172.88016899415425,\n",
              "  172.87734674947316])"
            ]
          },
          "metadata": {
            "tags": []
          },
          "execution_count": 61
        }
      ]
    },
    {
      "cell_type": "markdown",
      "metadata": {
        "id": "31pG2bjuP5ID",
        "colab_type": "text"
      },
      "source": [
        "Apresente os thetas e o gráfico do erro médio quadrático"
      ]
    },
    {
      "cell_type": "code",
      "metadata": {
        "collapsed": true,
        "id": "p6AJQwwSP5IE",
        "colab_type": "code",
        "colab": {
          "base_uri": "https://localhost:8080/",
          "height": 265
        },
        "outputId": "f5230d8d-49c8-434e-fd85-2bc4a06a8d73"
      },
      "source": [
        "plt.plot(errorList[1:20], 'bo')\n",
        "plt.show()"
      ],
      "execution_count": 63,
      "outputs": [
        {
          "output_type": "display_data",
          "data": {
            "image/png": "[encoded data removed]",
            "text/plain": [
              "<Figure size 432x288 with 1 Axes>"
            ]
          },
          "metadata": {
            "tags": []
          }
        }
      ]
    },
    {
      "cell_type": "markdown",
      "metadata": {
        "id": "WoDTbsWaP5IG",
        "colab_type": "text"
      },
      "source": [
        "Apresente o gráfico com emq ao longo das iterações"
      ]
    },
    {
      "cell_type": "code",
      "metadata": {
        "collapsed": true,
        "id": "weHFNegcP5IH",
        "colab_type": "code",
        "colab": {
          "base_uri": "https://localhost:8080/",
          "height": 265
        },
        "outputId": "456ca567-e77e-46e7-c14e-c14bc505d2cb"
      },
      "source": [
        "plt.plot(errorList[1:],'bo')\n",
        "plt.show()"
      ],
      "execution_count": 64,
      "outputs": [
        {
          "output_type": "display_data",
          "data": {
            "image/png": "[encoded data removed]",
            "text/plain": [
              "<Figure size 432x288 with 1 Axes>"
            ]
          },
          "metadata": {
            "tags": []
          }
        }
      ]
    },
    {
      "cell_type": "markdown",
      "metadata": {
        "id": "G_pO6WYOP5IK",
        "colab_type": "text"
      },
      "source": [
        "Apresente a predição para todo o dataset sem regularização (gráfico)"
      ]
    },
    {
      "cell_type": "code",
      "metadata": {
        "collapsed": true,
        "id": "WN6ZJELdP5IK",
        "colab_type": "code",
        "colab": {
          "base_uri": "https://localhost:8080/",
          "height": 267
        },
        "outputId": "479a32e2-379a-40fc-da47-e014684f1248"
      },
      "source": [
        "\n",
        "plt.plot(df['horsepower'],df['mpg'],'yo')\n",
        "plt.plot(df['horsepower'],yEstimate,'ro')\n",
        "plt.show()"
      ],
      "execution_count": 66,
      "outputs": [
        {
          "output_type": "display_data",
          "data": {
            "image/png": "[encoded data removed]",
            "text/plain": [
              "<Figure size 432x288 with 1 Axes>"
            ]
          },
          "metadata": {
            "tags": []
          }
        }
      ]
    },
    {
      "cell_type": "markdown",
      "metadata": {
        "id": "uKOMLWb3P5IO",
        "colab_type": "text"
      },
      "source": [
        "Incluir Regularização em uma nova função gradiente"
      ]
    },
    {
      "cell_type": "code",
      "metadata": {
        "id": "JumCqVqPP5IP",
        "colab_type": "code",
        "colab": {}
      },
      "source": [
        "def grademqr(X,theta,y,lamb):\n",
        "    reg = lamb * theta\n",
        "    reg[0] = 0.0\n",
        "    return (1/len(y))*(np.dot(X.T,np.dot(X,theta)-y)+reg)"
      ],
      "execution_count": 0,
      "outputs": []
    },
    {
      "cell_type": "markdown",
      "metadata": {
        "id": "o56p3_kLP5IR",
        "colab_type": "text"
      },
      "source": [
        "Refazer gradient descent com gradiente regularizado "
      ]
    },
    {
      "cell_type": "code",
      "metadata": {
        "id": "vWpX_adsP5IS",
        "colab_type": "code",
        "colab": {
          "base_uri": "https://localhost:8080/",
          "height": 255
        },
        "outputId": "c96be7c1-2cc4-49c7-e9ae-36c2be921d02"
      },
      "source": [
        "thetaAux = np.array([0.5, 0.5, 0.5, 0.5, 0.5, 0.5, 0.5, 0.5])\n",
        "errorListAux = []\n",
        "yEstimateAux = np.dot(X, theta)\n",
        "\n",
        "errorListAux.append(emq(yEstimateAux, y))\n",
        "\n",
        "for i in range(50000):\n",
        "  g = grademqr(X, thetaAux, y, 100)\n",
        "  thetaAux = thetaAux - 0.00001 * g\n",
        "  yEstimateAux = np.dot(X, thetaAux)\n",
        "  errorListAux.append(emq(yEstimateAux, y))\n",
        "\n",
        "thetaAux, theta, errorListAux[-10:]"
      ],
      "execution_count": 77,
      "outputs": [
        {
          "output_type": "execute_result",
          "data": {
            "text/plain": [
              "(array([ 7.96428616, -1.93709865,  3.57264914, -1.06067515,  2.42153199,\n",
              "        -1.85049249,  0.42980635, -0.02427396]),\n",
              " array([ 7.91941078, -2.02980169,  3.81681903, -1.09123422,  2.56834392,\n",
              "        -1.92323118,  0.40616424, -0.0144262 ]),\n",
              " [174.96120460071205,\n",
              "  174.95838051013695,\n",
              "  174.95555648684083,\n",
              "  174.95273253082138,\n",
              "  174.94990864207654,\n",
              "  174.94708482060418,\n",
              "  174.94426106640182,\n",
              "  174.9414373794675,\n",
              "  174.93861375979884,\n",
              "  174.93579020739364])"
            ]
          },
          "metadata": {
            "tags": []
          },
          "execution_count": 77
        }
      ]
    },
    {
      "cell_type": "markdown",
      "metadata": {
        "id": "t0-9lMaKP5IU",
        "colab_type": "text"
      },
      "source": [
        "Apresente o gráfico das predições com regularização"
      ]
    },
    {
      "cell_type": "code",
      "metadata": {
        "collapsed": true,
        "id": "JeDsV2NFP5IV",
        "colab_type": "code",
        "colab": {
          "base_uri": "https://localhost:8080/",
          "height": 267
        },
        "outputId": "b0cfe376-e8ff-473e-b08b-c41ea5dc2f76"
      },
      "source": [
        "yEstimateAux = np.dot(X, thetaAux)\n",
        "plt.plot(df['horsepower'], df['mpg'], 'yo')\n",
        "plt.plot(df['horsepower'], yEstimateAux, 'bo')\n",
        "plt.plot(df['horsepower'], yEstimate, 'ro')\n",
        "plt.show()"
      ],
      "execution_count": 79,
      "outputs": [
        {
          "output_type": "display_data",
          "data": {
            "image/png": "[encoded data removed]",
            "text/plain": [
              "<Figure size 432x288 with 1 Axes>"
            ]
          },
          "metadata": {
            "tags": []
          }
        }
      ]
    },
    {
      "cell_type": "markdown",
      "metadata": {
        "id": "2sWOSXtiP5IX",
        "colab_type": "text"
      },
      "source": [
        "Compare thetas (com e sem regularização)"
      ]
    },
    {
      "cell_type": "code",
      "metadata": {
        "collapsed": true,
        "id": "xST6GCf_P5IY",
        "colab_type": "code",
        "colab": {
          "base_uri": "https://localhost:8080/",
          "height": 85
        },
        "outputId": "f20f1fec-7060-4a58-adc4-61d989926096"
      },
      "source": [
        "theta,thetaAux"
      ],
      "execution_count": 81,
      "outputs": [
        {
          "output_type": "execute_result",
          "data": {
            "text/plain": [
              "(array([ 7.91941078, -2.02980169,  3.81681903, -1.09123422,  2.56834392,\n",
              "        -1.92323118,  0.40616424, -0.0144262 ]),\n",
              " array([ 7.96428616, -1.93709865,  3.57264914, -1.06067515,  2.42153199,\n",
              "        -1.85049249,  0.42980635, -0.02427396]))"
            ]
          },
          "metadata": {
            "tags": []
          },
          "execution_count": 81
        }
      ]
    },
    {
      "cell_type": "markdown",
      "metadata": {
        "id": "H7AaVWqKP5Id",
        "colab_type": "text"
      },
      "source": [
        "Compare pos erros médios quadráticos finais (sem penalização). Explique'"
      ]
    },
    {
      "cell_type": "code",
      "metadata": {
        "collapsed": true,
        "id": "j7QbFHi6P5Ie",
        "colab_type": "code",
        "colab": {
          "base_uri": "https://localhost:8080/",
          "height": 34
        },
        "outputId": "cfbe3acc-8745-4ee7-b386-d757608537d4"
      },
      "source": [
        "errorList[-1],errorListAux[-1]"
      ],
      "execution_count": 83,
      "outputs": [
        {
          "output_type": "execute_result",
          "data": {
            "text/plain": [
              "(172.87734674947316, 174.93579020739364)"
            ]
          },
          "metadata": {
            "tags": []
          },
          "execution_count": 83
        }
      ]
    }
  ]
}