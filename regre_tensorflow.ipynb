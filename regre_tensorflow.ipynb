{
  "nbformat": 4,
  "nbformat_minor": 0,
  "metadata": {
    "kernelspec": {
      "display_name": "Python 3",
      "language": "python",
      "name": "python3"
    },
    "language_info": {
      "codemirror_mode": {
        "name": "ipython",
        "version": 3
      },
      "file_extension": ".py",
      "mimetype": "text/x-python",
      "name": "python",
      "nbconvert_exporter": "python",
      "pygments_lexer": "ipython3",
      "version": "3.7.3"
    },
    "colab": {
      "name": "regre_tensorflow.ipynb",
      "provenance": [],
      "include_colab_link": true
    }
  },
  "cells": [
    {
      "cell_type": "markdown",
      "metadata": {
        "id": "view-in-github",
        "colab_type": "text"
      },
      "source": [
        "<a href=\"https://colab.research.google.com/github/douglasbarbosadelima/Data-Science/blob/master/regre_tensorflow.ipynb\" target=\"_parent\"><img src=\"https://colab.research.google.com/assets/colab-badge.svg\" alt=\"Open In Colab\"/></a>"
      ]
    },
    {
      "cell_type": "code",
      "metadata": {
        "id": "ObN8_efQst0i",
        "colab_type": "code",
        "outputId": "06e9a6c6-8661-40fc-cc87-e63d3617e3f3",
        "colab": {
          "base_uri": "https://localhost:8080/",
          "height": 63
        }
      },
      "source": [
        "import tensorflow as tf\n",
        "import numpy as np\n",
        "import matplotlib.pyplot as plt"
      ],
      "execution_count": 1,
      "outputs": [
        {
          "output_type": "display_data",
          "data": {
            "text/html": [
              "<p style=\"color: red;\">\n",
              "The default version of TensorFlow in Colab will soon switch to TensorFlow 2.x.<br>\n",
              "We recommend you <a href=\"https://www.tensorflow.org/guide/migrate\" target=\"_blank\">upgrade</a> now \n",
              "or ensure your notebook will continue to use TensorFlow 1.x via the <code>%tensorflow_version 1.x</code> magic:\n",
              "<a href=\"https://colab.research.google.com/notebooks/tensorflow_version.ipynb\" target=\"_blank\">more info</a>.</p>\n"
            ],
            "text/plain": [
              "<IPython.core.display.HTML object>"
            ]
          },
          "metadata": {
            "tags": []
          }
        }
      ]
    },
    {
      "cell_type": "code",
      "metadata": {
        "id": "EDxfnpf5st0o",
        "colab_type": "code",
        "outputId": "3aca99e4-ef4b-4f7a-b5ac-62f79fd43f8e",
        "colab": {
          "base_uri": "https://localhost:8080/",
          "height": 34
        }
      },
      "source": [
        "X=np.array([[1.0],[2.0],[3.0],[4.0],[5.0]])\n",
        "Y=np.array([[2.2],[4.8],[7.1],[8.8],[10.1]])\n",
        "x=tf.placeholder(dtype=tf.float64,shape=[None,1])\n",
        "y=tf.placeholder(dtype=tf.float64,shape=[None,1])\n",
        "a=tf.Variable(0.5,dtype=tf.float64)\n",
        "b=tf.Variable(0.5,dtype=tf.float64)\n",
        "X.shape"
      ],
      "execution_count": 2,
      "outputs": [
        {
          "output_type": "execute_result",
          "data": {
            "text/plain": [
              "(5, 1)"
            ]
          },
          "metadata": {
            "tags": []
          },
          "execution_count": 2
        }
      ]
    },
    {
      "cell_type": "code",
      "metadata": {
        "id": "PJp6XtCh8oZN",
        "colab_type": "code",
        "colab": {
          "base_uri": "https://localhost:8080/",
          "height": 265
        },
        "outputId": "8d93141a-fdc8-4050-aa2c-d8de883328ba"
      },
      "source": [
        "for i in range(len(X)):\n",
        "  plt.plot(X[i,0], Y[i,0], 'bo')\n",
        "plt.show()"
      ],
      "execution_count": 3,
      "outputs": [
        {
          "output_type": "display_data",
          "data": {
            "image/png": "[encoded data removed]",
            "text/plain": [
              "<Figure size 432x288 with 1 Axes>"
            ]
          },
          "metadata": {
            "tags": []
          }
        }
      ]
    },
    {
      "cell_type": "code",
      "metadata": {
        "id": "Xikhykqa9Cnd",
        "colab_type": "code",
        "colab": {
          "base_uri": "https://localhost:8080/",
          "height": 34
        },
        "outputId": "d627324f-7588-4e6f-8b6d-7d92925d162d"
      },
      "source": [
        "y_pred = tf.add(tf.multiply(x, a), b)\n",
        "y_pred"
      ],
      "execution_count": 5,
      "outputs": [
        {
          "output_type": "execute_result",
          "data": {
            "text/plain": [
              "<tf.Tensor 'Add_1:0' shape=(?, 1) dtype=float64>"
            ]
          },
          "metadata": {
            "tags": []
          },
          "execution_count": 5
        }
      ]
    },
    {
      "cell_type": "code",
      "metadata": {
        "id": "1ZrX1iAx9nLq",
        "colab_type": "code",
        "colab": {
          "base_uri": "https://localhost:8080/",
          "height": 51
        },
        "outputId": "e1f7201d-05ad-4547-eb71-6e614abf2cff"
      },
      "source": [
        "loss = tf.reduce_mean(0.5 * (y_pred - Y) * (y_pred - Y))\n",
        "opt = tf.train.GradientDescentOptimizer(0.01).minimize(loss)\n",
        "loss, opt"
      ],
      "execution_count": 9,
      "outputs": [
        {
          "output_type": "execute_result",
          "data": {
            "text/plain": [
              "(<tf.Tensor 'Mean_2:0' shape=() dtype=float64>,\n",
              " <tf.Operation 'GradientDescent_1' type=NoOp>)"
            ]
          },
          "metadata": {
            "tags": []
          },
          "execution_count": 9
        }
      ]
    },
    {
      "cell_type": "code",
      "metadata": {
        "id": "ZYHoiQO--40A",
        "colab_type": "code",
        "colab": {
          "base_uri": "https://localhost:8080/",
          "height": 1000
        },
        "outputId": "bd673b33-ddb6-4389-9905-440358868e3b"
      },
      "source": [
        "with tf.Session() as sess:\n",
        "  sess.run(tf.initializers.global_variables())\n",
        "  epochs = 100\n",
        "  for i in range(epochs):\n",
        "    sess.run(opt, feed_dict={x:X})\n",
        "    erro = sess.run(loss, feed_dict={x:X})\n",
        "    print(erro)\n",
        "  print(sess.run(a), sess.run(b))\n",
        "  \n",
        "  ye = sess.run(y_pred, feed_dict={x:X})\n",
        "  ye"
      ],
      "execution_count": 17,
      "outputs": [
        {
          "output_type": "stream",
          "text": [
            "10.002104539527497\n",
            "7.7928735884549045\n",
            "6.0754621896253695\n",
            "4.74038055653502\n",
            "3.7025137259509755\n",
            "2.895695188663074\n",
            "2.2684885488187234\n",
            "1.7809082782333043\n",
            "1.401870502576942\n",
            "1.1072112983608275\n",
            "0.8781461603957654\n",
            "0.7000724255181894\n",
            "0.5616383030108517\n",
            "0.45401915923169706\n",
            "0.37035491712715957\n",
            "0.30531270292967105\n",
            "0.25474685727439034\n",
            "0.21543463528402382\n",
            "0.18487074560054811\n",
            "0.16110762952620591\n",
            "0.14263129752416176\n",
            "0.12826480723216765\n",
            "0.11709322938334457\n",
            "0.10840531795556656\n",
            "0.10164816582248828\n",
            "0.09639195504928384\n",
            "0.09230255454420423\n",
            "0.08912021807276155\n",
            "0.08664302456027459\n",
            "0.08471400494557675\n",
            "0.08321113487889434\n",
            "0.08203955526424293\n",
            "0.08112552467938976\n",
            "0.08041171811951595\n",
            "0.07985357234345614\n",
            "0.07941644482586818\n",
            "0.0790734051888423\n",
            "0.07880351830918103\n",
            "0.07859050964358441\n",
            "0.0784217276816631\n",
            "0.07828733737962638\n",
            "0.07817969315328469\n",
            "0.07809285145653537\n",
            "0.07802219187054994\n",
            "0.07796412254679957\n",
            "0.0779158512249111\n",
            "0.07787520722696249\n",
            "0.07784050307974302\n",
            "0.07781042694292699\n",
            "0.07778395898509063\n",
            "0.07776030637625878\n",
            "0.077738852752532\n",
            "0.07771911893099401\n",
            "0.07770073237034063\n",
            "0.07768340343024106\n",
            "0.07766690691588357\n",
            "0.07765106773110989\n",
            "0.0776357497254754\n",
            "0.0776208470241972\n",
            "0.07760627728824476\n",
            "0.0775919764748835\n",
            "0.07757789476463275\n",
            "0.0775639933949737\n",
            "0.07755024219894217\n",
            "0.07753661769168498\n",
            "0.07752310158298883\n",
            "0.07750967962095293\n",
            "0.07749634069308685\n",
            "0.0774830761275205\n",
            "0.07746987914978129\n",
            "0.07745674446050395\n",
            "0.07744366790715124\n",
            "0.07743064622881571\n",
            "0.07741767685783457\n",
            "0.07740475776556839\n",
            "0.07739188734251326\n",
            "0.07737906430510148\n",
            "0.07736628762325029\n",
            "0.07735355646403999\n",
            "0.07734087014792944\n",
            "0.07732822811471834\n",
            "0.07731562989708893\n",
            "0.07730307510003409\n",
            "0.07729056338486713\n",
            "0.07727809445679114\n",
            "0.07726566805523317\n",
            "0.07725328394633293\n",
            "0.07724094191710061\n",
            "0.0772286417708761\n",
            "0.07721638332379935\n",
            "0.07720416640206443\n",
            "0.07719199083978655\n",
            "0.07717985647734218\n",
            "0.07716776316007853\n",
            "0.07715571073731033\n",
            "0.0771436990615398\n",
            "0.07713172798784952\n",
            "0.07711979737342971\n",
            "0.07710790707721103\n",
            "0.07709605695957915\n",
            "1.9257073779938894 0.8559948754026603\n"
          ],
          "name": "stdout"
        }
      ]
    },
    {
      "cell_type": "code",
      "metadata": {
        "id": "hs_zGKwAA6oN",
        "colab_type": "code",
        "colab": {
          "base_uri": "https://localhost:8080/",
          "height": 265
        },
        "outputId": "ed0a7d57-69ba-4083-bb1c-389f8e9ed03f"
      },
      "source": [
        "for i in range(len(X)):\n",
        "  plt.plot(X[i,0], Y[i,0], 'bo')\n",
        "  plt.plot(X[i,0], ye[i,0], 'ro')\n",
        "plt.show()"
      ],
      "execution_count": 16,
      "outputs": [
        {
          "output_type": "display_data",
          "data": {
            "image/png": "[encoded data removed]",
            "text/plain": [
              "<Figure size 432x288 with 1 Axes>"
            ]
          },
          "metadata": {
            "tags": []
          }
        }
      ]
    }
  ]
}