{
  "nbformat": 4,
  "nbformat_minor": 0,
  "metadata": {
    "kernelspec": {
      "name": "python3",
      "display_name": "Python 3"
    },
    "language_info": {
      "codemirror_mode": {
        "name": "ipython",
        "version": 3
      },
      "file_extension": ".py",
      "mimetype": "text/x-python",
      "name": "python",
      "nbconvert_exporter": "python",
      "pygments_lexer": "ipython3",
      "version": "3.6.5"
    },
    "colab": {
      "name": "deep_iris.ipynb",
      "provenance": [],
      "collapsed_sections": [],
      "include_colab_link": true
    },
    "accelerator": "GPU"
  },
  "cells": [
    {
      "cell_type": "markdown",
      "metadata": {
        "id": "view-in-github",
        "colab_type": "text"
      },
      "source": [
        "<a href=\"https://colab.research.google.com/github/douglasbarbosadelima/Data-Science/blob/master/deep_iris_X.ipynb\" target=\"_parent\"><img src=\"https://colab.research.google.com/assets/colab-badge.svg\" alt=\"Open In Colab\"/></a>"
      ]
    },
    {
      "cell_type": "markdown",
      "metadata": {
        "id": "nFFlrJEyR_iN",
        "colab_type": "text"
      },
      "source": [
        "Classificação Multiclasse com Iris e TF 2.0"
      ]
    },
    {
      "cell_type": "markdown",
      "metadata": {
        "id": "0ehhQFEK449e",
        "colab_type": "text"
      },
      "source": [
        "Parte 1: montando e calibrando o modelo"
      ]
    },
    {
      "cell_type": "code",
      "metadata": {
        "id": "PLY0Ut32SMMb",
        "colab_type": "code",
        "colab": {
          "base_uri": "https://localhost:8080/",
          "height": 1000
        },
        "outputId": "989c73c4-dde1-464b-b604-562179ffeba5"
      },
      "source": [
        "!pip install tensorflow-gpu==2.0.0 #com GPU"
      ],
      "execution_count": 1,
      "outputs": [
        {
          "output_type": "stream",
          "text": [
            "Collecting tensorflow-gpu==2.0.0\n",
            "\u001b[?25l  Downloading https://files.pythonhosted.org/packages/25/44/47f0722aea081697143fbcf5d2aa60d1aee4aaacb5869aee2b568974777b/tensorflow_gpu-2.0.0-cp36-cp36m-manylinux2010_x86_64.whl (380.8MB)\n",
            "\u001b[K     |████████████████████████████████| 380.8MB 41kB/s \n",
            "\u001b[?25hRequirement already satisfied: keras-preprocessing>=1.0.5 in /usr/local/lib/python3.6/dist-packages (from tensorflow-gpu==2.0.0) (1.1.0)\n",
            "Requirement already satisfied: keras-applications>=1.0.8 in /usr/local/lib/python3.6/dist-packages (from tensorflow-gpu==2.0.0) (1.0.8)\n",
            "Requirement already satisfied: wrapt>=1.11.1 in /usr/local/lib/python3.6/dist-packages (from tensorflow-gpu==2.0.0) (1.11.2)\n",
            "Requirement already satisfied: astor>=0.6.0 in /usr/local/lib/python3.6/dist-packages (from tensorflow-gpu==2.0.0) (0.8.1)\n",
            "Requirement already satisfied: google-pasta>=0.1.6 in /usr/local/lib/python3.6/dist-packages (from tensorflow-gpu==2.0.0) (0.1.8)\n",
            "Collecting tensorflow-estimator<2.1.0,>=2.0.0\n",
            "\u001b[?25l  Downloading https://files.pythonhosted.org/packages/fc/08/8b927337b7019c374719145d1dceba21a8bb909b93b1ad6f8fb7d22c1ca1/tensorflow_estimator-2.0.1-py2.py3-none-any.whl (449kB)\n",
            "\u001b[K     |████████████████████████████████| 450kB 46.4MB/s \n",
            "\u001b[?25hRequirement already satisfied: gast==0.2.2 in /usr/local/lib/python3.6/dist-packages (from tensorflow-gpu==2.0.0) (0.2.2)\n",
            "Requirement already satisfied: numpy<2.0,>=1.16.0 in /usr/local/lib/python3.6/dist-packages (from tensorflow-gpu==2.0.0) (1.17.5)\n",
            "Requirement already satisfied: wheel>=0.26 in /usr/local/lib/python3.6/dist-packages (from tensorflow-gpu==2.0.0) (0.34.2)\n",
            "Requirement already satisfied: termcolor>=1.1.0 in /usr/local/lib/python3.6/dist-packages (from tensorflow-gpu==2.0.0) (1.1.0)\n",
            "Requirement already satisfied: opt-einsum>=2.3.2 in /usr/local/lib/python3.6/dist-packages (from tensorflow-gpu==2.0.0) (3.1.0)\n",
            "Requirement already satisfied: absl-py>=0.7.0 in /usr/local/lib/python3.6/dist-packages (from tensorflow-gpu==2.0.0) (0.9.0)\n",
            "Requirement already satisfied: protobuf>=3.6.1 in /usr/local/lib/python3.6/dist-packages (from tensorflow-gpu==2.0.0) (3.10.0)\n",
            "Collecting tensorboard<2.1.0,>=2.0.0\n",
            "\u001b[?25l  Downloading https://files.pythonhosted.org/packages/76/54/99b9d5d52d5cb732f099baaaf7740403e83fe6b0cedde940fabd2b13d75a/tensorboard-2.0.2-py3-none-any.whl (3.8MB)\n",
            "\u001b[K     |████████████████████████████████| 3.8MB 47.0MB/s \n",
            "\u001b[?25hRequirement already satisfied: six>=1.10.0 in /usr/local/lib/python3.6/dist-packages (from tensorflow-gpu==2.0.0) (1.12.0)\n",
            "Requirement already satisfied: grpcio>=1.8.6 in /usr/local/lib/python3.6/dist-packages (from tensorflow-gpu==2.0.0) (1.27.1)\n",
            "Requirement already satisfied: h5py in /usr/local/lib/python3.6/dist-packages (from keras-applications>=1.0.8->tensorflow-gpu==2.0.0) (2.8.0)\n",
            "Requirement already satisfied: setuptools in /usr/local/lib/python3.6/dist-packages (from protobuf>=3.6.1->tensorflow-gpu==2.0.0) (45.1.0)\n",
            "Collecting google-auth<2,>=1.6.3\n",
            "\u001b[?25l  Downloading https://files.pythonhosted.org/packages/8a/61/a836d1d71a87ca4e7034a9f9ac06eab288c403ecc611432a508edd908f8c/google_auth-1.11.1-py2.py3-none-any.whl (76kB)\n",
            "\u001b[K     |████████████████████████████████| 81kB 12.6MB/s \n",
            "\u001b[?25hRequirement already satisfied: google-auth-oauthlib<0.5,>=0.4.1 in /usr/local/lib/python3.6/dist-packages (from tensorboard<2.1.0,>=2.0.0->tensorflow-gpu==2.0.0) (0.4.1)\n",
            "Requirement already satisfied: werkzeug>=0.11.15 in /usr/local/lib/python3.6/dist-packages (from tensorboard<2.1.0,>=2.0.0->tensorflow-gpu==2.0.0) (1.0.0)\n",
            "Requirement already satisfied: markdown>=2.6.8 in /usr/local/lib/python3.6/dist-packages (from tensorboard<2.1.0,>=2.0.0->tensorflow-gpu==2.0.0) (3.2)\n",
            "Requirement already satisfied: requests<3,>=2.21.0 in /usr/local/lib/python3.6/dist-packages (from tensorboard<2.1.0,>=2.0.0->tensorflow-gpu==2.0.0) (2.21.0)\n",
            "Requirement already satisfied: rsa<4.1,>=3.1.4 in /usr/local/lib/python3.6/dist-packages (from google-auth<2,>=1.6.3->tensorboard<2.1.0,>=2.0.0->tensorflow-gpu==2.0.0) (4.0)\n",
            "Requirement already satisfied: cachetools<5.0,>=2.0.0 in /usr/local/lib/python3.6/dist-packages (from google-auth<2,>=1.6.3->tensorboard<2.1.0,>=2.0.0->tensorflow-gpu==2.0.0) (4.0.0)\n",
            "Requirement already satisfied: pyasn1-modules>=0.2.1 in /usr/local/lib/python3.6/dist-packages (from google-auth<2,>=1.6.3->tensorboard<2.1.0,>=2.0.0->tensorflow-gpu==2.0.0) (0.2.8)\n",
            "Requirement already satisfied: requests-oauthlib>=0.7.0 in /usr/local/lib/python3.6/dist-packages (from google-auth-oauthlib<0.5,>=0.4.1->tensorboard<2.1.0,>=2.0.0->tensorflow-gpu==2.0.0) (1.3.0)\n",
            "Requirement already satisfied: idna<2.9,>=2.5 in /usr/local/lib/python3.6/dist-packages (from requests<3,>=2.21.0->tensorboard<2.1.0,>=2.0.0->tensorflow-gpu==2.0.0) (2.8)\n",
            "Requirement already satisfied: urllib3<1.25,>=1.21.1 in /usr/local/lib/python3.6/dist-packages (from requests<3,>=2.21.0->tensorboard<2.1.0,>=2.0.0->tensorflow-gpu==2.0.0) (1.24.3)\n",
            "Requirement already satisfied: chardet<3.1.0,>=3.0.2 in /usr/local/lib/python3.6/dist-packages (from requests<3,>=2.21.0->tensorboard<2.1.0,>=2.0.0->tensorflow-gpu==2.0.0) (3.0.4)\n",
            "Requirement already satisfied: certifi>=2017.4.17 in /usr/local/lib/python3.6/dist-packages (from requests<3,>=2.21.0->tensorboard<2.1.0,>=2.0.0->tensorflow-gpu==2.0.0) (2019.11.28)\n",
            "Requirement already satisfied: pyasn1>=0.1.3 in /usr/local/lib/python3.6/dist-packages (from rsa<4.1,>=3.1.4->google-auth<2,>=1.6.3->tensorboard<2.1.0,>=2.0.0->tensorflow-gpu==2.0.0) (0.4.8)\n",
            "Requirement already satisfied: oauthlib>=3.0.0 in /usr/local/lib/python3.6/dist-packages (from requests-oauthlib>=0.7.0->google-auth-oauthlib<0.5,>=0.4.1->tensorboard<2.1.0,>=2.0.0->tensorflow-gpu==2.0.0) (3.1.0)\n",
            "\u001b[31mERROR: tensorflow 1.15.0 has requirement tensorboard<1.16.0,>=1.15.0, but you'll have tensorboard 2.0.2 which is incompatible.\u001b[0m\n",
            "\u001b[31mERROR: tensorflow 1.15.0 has requirement tensorflow-estimator==1.15.1, but you'll have tensorflow-estimator 2.0.1 which is incompatible.\u001b[0m\n",
            "\u001b[31mERROR: google-colab 1.0.0 has requirement google-auth~=1.4.0, but you'll have google-auth 1.11.1 which is incompatible.\u001b[0m\n",
            "Installing collected packages: tensorflow-estimator, google-auth, tensorboard, tensorflow-gpu\n",
            "  Found existing installation: tensorflow-estimator 1.15.1\n",
            "    Uninstalling tensorflow-estimator-1.15.1:\n",
            "      Successfully uninstalled tensorflow-estimator-1.15.1\n",
            "  Found existing installation: google-auth 1.4.2\n",
            "    Uninstalling google-auth-1.4.2:\n",
            "      Successfully uninstalled google-auth-1.4.2\n",
            "  Found existing installation: tensorboard 1.15.0\n",
            "    Uninstalling tensorboard-1.15.0:\n",
            "      Successfully uninstalled tensorboard-1.15.0\n",
            "Successfully installed google-auth-1.11.1 tensorboard-2.0.2 tensorflow-estimator-2.0.1 tensorflow-gpu-2.0.0\n"
          ],
          "name": "stdout"
        },
        {
          "output_type": "display_data",
          "data": {
            "application/vnd.colab-display-data+json": {
              "pip_warning": {
                "packages": [
                  "google"
                ]
              }
            }
          },
          "metadata": {
            "tags": []
          }
        }
      ]
    },
    {
      "cell_type": "code",
      "metadata": {
        "id": "Jte8_L_eTN26",
        "colab_type": "code",
        "outputId": "31c29712-4225-4553-e873-100a95398923",
        "colab": {
          "base_uri": "https://localhost:8080/",
          "height": 34
        }
      },
      "source": [
        "import tensorflow as tf\n",
        "import numpy as np\n",
        "print(tf.__version__)"
      ],
      "execution_count": 1,
      "outputs": [
        {
          "output_type": "stream",
          "text": [
            "2.0.0\n"
          ],
          "name": "stdout"
        }
      ]
    },
    {
      "cell_type": "code",
      "metadata": {
        "id": "M1vkzIf8Y3eP",
        "colab_type": "code",
        "colab": {
          "base_uri": "https://localhost:8080/",
          "height": 1000
        },
        "outputId": "07d9d275-ad82-45cc-df9e-c9d43a8d0233"
      },
      "source": [
        "from sklearn import datasets\n",
        "iris = datasets.load_iris()\n",
        "\n",
        "X = iris.data\n",
        "X"
      ],
      "execution_count": 2,
      "outputs": [
        {
          "output_type": "execute_result",
          "data": {
            "text/plain": [
              "array([[5.1, 3.5, 1.4, 0.2],\n",
              "       [4.9, 3. , 1.4, 0.2],\n",
              "       [4.7, 3.2, 1.3, 0.2],\n",
              "       [4.6, 3.1, 1.5, 0.2],\n",
              "       [5. , 3.6, 1.4, 0.2],\n",
              "       [5.4, 3.9, 1.7, 0.4],\n",
              "       [4.6, 3.4, 1.4, 0.3],\n",
              "       [5. , 3.4, 1.5, 0.2],\n",
              "       [4.4, 2.9, 1.4, 0.2],\n",
              "       [4.9, 3.1, 1.5, 0.1],\n",
              "       [5.4, 3.7, 1.5, 0.2],\n",
              "       [4.8, 3.4, 1.6, 0.2],\n",
              "       [4.8, 3. , 1.4, 0.1],\n",
              "       [4.3, 3. , 1.1, 0.1],\n",
              "       [5.8, 4. , 1.2, 0.2],\n",
              "       [5.7, 4.4, 1.5, 0.4],\n",
              "       [5.4, 3.9, 1.3, 0.4],\n",
              "       [5.1, 3.5, 1.4, 0.3],\n",
              "       [5.7, 3.8, 1.7, 0.3],\n",
              "       [5.1, 3.8, 1.5, 0.3],\n",
              "       [5.4, 3.4, 1.7, 0.2],\n",
              "       [5.1, 3.7, 1.5, 0.4],\n",
              "       [4.6, 3.6, 1. , 0.2],\n",
              "       [5.1, 3.3, 1.7, 0.5],\n",
              "       [4.8, 3.4, 1.9, 0.2],\n",
              "       [5. , 3. , 1.6, 0.2],\n",
              "       [5. , 3.4, 1.6, 0.4],\n",
              "       [5.2, 3.5, 1.5, 0.2],\n",
              "       [5.2, 3.4, 1.4, 0.2],\n",
              "       [4.7, 3.2, 1.6, 0.2],\n",
              "       [4.8, 3.1, 1.6, 0.2],\n",
              "       [5.4, 3.4, 1.5, 0.4],\n",
              "       [5.2, 4.1, 1.5, 0.1],\n",
              "       [5.5, 4.2, 1.4, 0.2],\n",
              "       [4.9, 3.1, 1.5, 0.2],\n",
              "       [5. , 3.2, 1.2, 0.2],\n",
              "       [5.5, 3.5, 1.3, 0.2],\n",
              "       [4.9, 3.6, 1.4, 0.1],\n",
              "       [4.4, 3. , 1.3, 0.2],\n",
              "       [5.1, 3.4, 1.5, 0.2],\n",
              "       [5. , 3.5, 1.3, 0.3],\n",
              "       [4.5, 2.3, 1.3, 0.3],\n",
              "       [4.4, 3.2, 1.3, 0.2],\n",
              "       [5. , 3.5, 1.6, 0.6],\n",
              "       [5.1, 3.8, 1.9, 0.4],\n",
              "       [4.8, 3. , 1.4, 0.3],\n",
              "       [5.1, 3.8, 1.6, 0.2],\n",
              "       [4.6, 3.2, 1.4, 0.2],\n",
              "       [5.3, 3.7, 1.5, 0.2],\n",
              "       [5. , 3.3, 1.4, 0.2],\n",
              "       [7. , 3.2, 4.7, 1.4],\n",
              "       [6.4, 3.2, 4.5, 1.5],\n",
              "       [6.9, 3.1, 4.9, 1.5],\n",
              "       [5.5, 2.3, 4. , 1.3],\n",
              "       [6.5, 2.8, 4.6, 1.5],\n",
              "       [5.7, 2.8, 4.5, 1.3],\n",
              "       [6.3, 3.3, 4.7, 1.6],\n",
              "       [4.9, 2.4, 3.3, 1. ],\n",
              "       [6.6, 2.9, 4.6, 1.3],\n",
              "       [5.2, 2.7, 3.9, 1.4],\n",
              "       [5. , 2. , 3.5, 1. ],\n",
              "       [5.9, 3. , 4.2, 1.5],\n",
              "       [6. , 2.2, 4. , 1. ],\n",
              "       [6.1, 2.9, 4.7, 1.4],\n",
              "       [5.6, 2.9, 3.6, 1.3],\n",
              "       [6.7, 3.1, 4.4, 1.4],\n",
              "       [5.6, 3. , 4.5, 1.5],\n",
              "       [5.8, 2.7, 4.1, 1. ],\n",
              "       [6.2, 2.2, 4.5, 1.5],\n",
              "       [5.6, 2.5, 3.9, 1.1],\n",
              "       [5.9, 3.2, 4.8, 1.8],\n",
              "       [6.1, 2.8, 4. , 1.3],\n",
              "       [6.3, 2.5, 4.9, 1.5],\n",
              "       [6.1, 2.8, 4.7, 1.2],\n",
              "       [6.4, 2.9, 4.3, 1.3],\n",
              "       [6.6, 3. , 4.4, 1.4],\n",
              "       [6.8, 2.8, 4.8, 1.4],\n",
              "       [6.7, 3. , 5. , 1.7],\n",
              "       [6. , 2.9, 4.5, 1.5],\n",
              "       [5.7, 2.6, 3.5, 1. ],\n",
              "       [5.5, 2.4, 3.8, 1.1],\n",
              "       [5.5, 2.4, 3.7, 1. ],\n",
              "       [5.8, 2.7, 3.9, 1.2],\n",
              "       [6. , 2.7, 5.1, 1.6],\n",
              "       [5.4, 3. , 4.5, 1.5],\n",
              "       [6. , 3.4, 4.5, 1.6],\n",
              "       [6.7, 3.1, 4.7, 1.5],\n",
              "       [6.3, 2.3, 4.4, 1.3],\n",
              "       [5.6, 3. , 4.1, 1.3],\n",
              "       [5.5, 2.5, 4. , 1.3],\n",
              "       [5.5, 2.6, 4.4, 1.2],\n",
              "       [6.1, 3. , 4.6, 1.4],\n",
              "       [5.8, 2.6, 4. , 1.2],\n",
              "       [5. , 2.3, 3.3, 1. ],\n",
              "       [5.6, 2.7, 4.2, 1.3],\n",
              "       [5.7, 3. , 4.2, 1.2],\n",
              "       [5.7, 2.9, 4.2, 1.3],\n",
              "       [6.2, 2.9, 4.3, 1.3],\n",
              "       [5.1, 2.5, 3. , 1.1],\n",
              "       [5.7, 2.8, 4.1, 1.3],\n",
              "       [6.3, 3.3, 6. , 2.5],\n",
              "       [5.8, 2.7, 5.1, 1.9],\n",
              "       [7.1, 3. , 5.9, 2.1],\n",
              "       [6.3, 2.9, 5.6, 1.8],\n",
              "       [6.5, 3. , 5.8, 2.2],\n",
              "       [7.6, 3. , 6.6, 2.1],\n",
              "       [4.9, 2.5, 4.5, 1.7],\n",
              "       [7.3, 2.9, 6.3, 1.8],\n",
              "       [6.7, 2.5, 5.8, 1.8],\n",
              "       [7.2, 3.6, 6.1, 2.5],\n",
              "       [6.5, 3.2, 5.1, 2. ],\n",
              "       [6.4, 2.7, 5.3, 1.9],\n",
              "       [6.8, 3. , 5.5, 2.1],\n",
              "       [5.7, 2.5, 5. , 2. ],\n",
              "       [5.8, 2.8, 5.1, 2.4],\n",
              "       [6.4, 3.2, 5.3, 2.3],\n",
              "       [6.5, 3. , 5.5, 1.8],\n",
              "       [7.7, 3.8, 6.7, 2.2],\n",
              "       [7.7, 2.6, 6.9, 2.3],\n",
              "       [6. , 2.2, 5. , 1.5],\n",
              "       [6.9, 3.2, 5.7, 2.3],\n",
              "       [5.6, 2.8, 4.9, 2. ],\n",
              "       [7.7, 2.8, 6.7, 2. ],\n",
              "       [6.3, 2.7, 4.9, 1.8],\n",
              "       [6.7, 3.3, 5.7, 2.1],\n",
              "       [7.2, 3.2, 6. , 1.8],\n",
              "       [6.2, 2.8, 4.8, 1.8],\n",
              "       [6.1, 3. , 4.9, 1.8],\n",
              "       [6.4, 2.8, 5.6, 2.1],\n",
              "       [7.2, 3. , 5.8, 1.6],\n",
              "       [7.4, 2.8, 6.1, 1.9],\n",
              "       [7.9, 3.8, 6.4, 2. ],\n",
              "       [6.4, 2.8, 5.6, 2.2],\n",
              "       [6.3, 2.8, 5.1, 1.5],\n",
              "       [6.1, 2.6, 5.6, 1.4],\n",
              "       [7.7, 3. , 6.1, 2.3],\n",
              "       [6.3, 3.4, 5.6, 2.4],\n",
              "       [6.4, 3.1, 5.5, 1.8],\n",
              "       [6. , 3. , 4.8, 1.8],\n",
              "       [6.9, 3.1, 5.4, 2.1],\n",
              "       [6.7, 3.1, 5.6, 2.4],\n",
              "       [6.9, 3.1, 5.1, 2.3],\n",
              "       [5.8, 2.7, 5.1, 1.9],\n",
              "       [6.8, 3.2, 5.9, 2.3],\n",
              "       [6.7, 3.3, 5.7, 2.5],\n",
              "       [6.7, 3. , 5.2, 2.3],\n",
              "       [6.3, 2.5, 5. , 1.9],\n",
              "       [6.5, 3. , 5.2, 2. ],\n",
              "       [6.2, 3.4, 5.4, 2.3],\n",
              "       [5.9, 3. , 5.1, 1.8]])"
            ]
          },
          "metadata": {
            "tags": []
          },
          "execution_count": 2
        }
      ]
    },
    {
      "cell_type": "code",
      "metadata": {
        "id": "oq3WFyBxY3eW",
        "colab_type": "code",
        "outputId": "eba0677d-4a5d-414d-bcc5-12499d87b27c",
        "colab": {
          "base_uri": "https://localhost:8080/",
          "height": 34
        }
      },
      "source": [
        "y = iris.target\n",
        "y[:10]"
      ],
      "execution_count": 3,
      "outputs": [
        {
          "output_type": "execute_result",
          "data": {
            "text/plain": [
              "array([0, 0, 0, 0, 0, 0, 0, 0, 0, 0])"
            ]
          },
          "metadata": {
            "tags": []
          },
          "execution_count": 3
        }
      ]
    },
    {
      "cell_type": "code",
      "metadata": {
        "id": "H9z8YRhTY3ee",
        "colab_type": "code",
        "outputId": "7553a6b0-2d1a-4375-c728-6e86ab044d6d",
        "colab": {
          "base_uri": "https://localhost:8080/",
          "height": 34
        }
      },
      "source": [
        "from sklearn.preprocessing import OneHotEncoder\n",
        "onehot = OneHotEncoder()\n",
        "y.shape"
      ],
      "execution_count": 4,
      "outputs": [
        {
          "output_type": "execute_result",
          "data": {
            "text/plain": [
              "(150,)"
            ]
          },
          "metadata": {
            "tags": []
          },
          "execution_count": 4
        }
      ]
    },
    {
      "cell_type": "code",
      "metadata": {
        "id": "FEHyEASzY3eh",
        "colab_type": "code",
        "colab": {
          "base_uri": "https://localhost:8080/",
          "height": 1000
        },
        "outputId": "3ac92277-4621-4a1c-af6f-7e1132802d7e"
      },
      "source": [
        "y = y.reshape((150, 1))\n",
        "y"
      ],
      "execution_count": 9,
      "outputs": [
        {
          "output_type": "execute_result",
          "data": {
            "text/plain": [
              "array([[0],\n",
              "       [0],\n",
              "       [0],\n",
              "       [0],\n",
              "       [0],\n",
              "       [0],\n",
              "       [0],\n",
              "       [0],\n",
              "       [0],\n",
              "       [0],\n",
              "       [0],\n",
              "       [0],\n",
              "       [0],\n",
              "       [0],\n",
              "       [0],\n",
              "       [0],\n",
              "       [0],\n",
              "       [0],\n",
              "       [0],\n",
              "       [0],\n",
              "       [0],\n",
              "       [0],\n",
              "       [0],\n",
              "       [0],\n",
              "       [0],\n",
              "       [0],\n",
              "       [0],\n",
              "       [0],\n",
              "       [0],\n",
              "       [0],\n",
              "       [0],\n",
              "       [0],\n",
              "       [0],\n",
              "       [0],\n",
              "       [0],\n",
              "       [0],\n",
              "       [0],\n",
              "       [0],\n",
              "       [0],\n",
              "       [0],\n",
              "       [0],\n",
              "       [0],\n",
              "       [0],\n",
              "       [0],\n",
              "       [0],\n",
              "       [0],\n",
              "       [0],\n",
              "       [0],\n",
              "       [0],\n",
              "       [0],\n",
              "       [1],\n",
              "       [1],\n",
              "       [1],\n",
              "       [1],\n",
              "       [1],\n",
              "       [1],\n",
              "       [1],\n",
              "       [1],\n",
              "       [1],\n",
              "       [1],\n",
              "       [1],\n",
              "       [1],\n",
              "       [1],\n",
              "       [1],\n",
              "       [1],\n",
              "       [1],\n",
              "       [1],\n",
              "       [1],\n",
              "       [1],\n",
              "       [1],\n",
              "       [1],\n",
              "       [1],\n",
              "       [1],\n",
              "       [1],\n",
              "       [1],\n",
              "       [1],\n",
              "       [1],\n",
              "       [1],\n",
              "       [1],\n",
              "       [1],\n",
              "       [1],\n",
              "       [1],\n",
              "       [1],\n",
              "       [1],\n",
              "       [1],\n",
              "       [1],\n",
              "       [1],\n",
              "       [1],\n",
              "       [1],\n",
              "       [1],\n",
              "       [1],\n",
              "       [1],\n",
              "       [1],\n",
              "       [1],\n",
              "       [1],\n",
              "       [1],\n",
              "       [1],\n",
              "       [1],\n",
              "       [1],\n",
              "       [1],\n",
              "       [2],\n",
              "       [2],\n",
              "       [2],\n",
              "       [2],\n",
              "       [2],\n",
              "       [2],\n",
              "       [2],\n",
              "       [2],\n",
              "       [2],\n",
              "       [2],\n",
              "       [2],\n",
              "       [2],\n",
              "       [2],\n",
              "       [2],\n",
              "       [2],\n",
              "       [2],\n",
              "       [2],\n",
              "       [2],\n",
              "       [2],\n",
              "       [2],\n",
              "       [2],\n",
              "       [2],\n",
              "       [2],\n",
              "       [2],\n",
              "       [2],\n",
              "       [2],\n",
              "       [2],\n",
              "       [2],\n",
              "       [2],\n",
              "       [2],\n",
              "       [2],\n",
              "       [2],\n",
              "       [2],\n",
              "       [2],\n",
              "       [2],\n",
              "       [2],\n",
              "       [2],\n",
              "       [2],\n",
              "       [2],\n",
              "       [2],\n",
              "       [2],\n",
              "       [2],\n",
              "       [2],\n",
              "       [2],\n",
              "       [2],\n",
              "       [2],\n",
              "       [2],\n",
              "       [2],\n",
              "       [2],\n",
              "       [2]])"
            ]
          },
          "metadata": {
            "tags": []
          },
          "execution_count": 9
        }
      ]
    },
    {
      "cell_type": "code",
      "metadata": {
        "id": "kMpv9Vg4Y3el",
        "colab_type": "code",
        "outputId": "0cd5be30-363c-4931-d557-9433e29b3e63",
        "colab": {
          "base_uri": "https://localhost:8080/",
          "height": 187
        }
      },
      "source": [
        "y = onehot.fit_transform(y).toarray()\n",
        "y[:10]"
      ],
      "execution_count": 10,
      "outputs": [
        {
          "output_type": "execute_result",
          "data": {
            "text/plain": [
              "array([[1., 0., 0.],\n",
              "       [1., 0., 0.],\n",
              "       [1., 0., 0.],\n",
              "       [1., 0., 0.],\n",
              "       [1., 0., 0.],\n",
              "       [1., 0., 0.],\n",
              "       [1., 0., 0.],\n",
              "       [1., 0., 0.],\n",
              "       [1., 0., 0.],\n",
              "       [1., 0., 0.]])"
            ]
          },
          "metadata": {
            "tags": []
          },
          "execution_count": 10
        }
      ]
    },
    {
      "cell_type": "code",
      "metadata": {
        "id": "qKeMwtJbY3eo",
        "colab_type": "code",
        "colab": {}
      },
      "source": [
        "from sklearn.model_selection import train_test_split\n",
        "X_train, X_test, y_train, y_test = train_test_split(X, y, test_size = 0.3)"
      ],
      "execution_count": 0,
      "outputs": []
    },
    {
      "cell_type": "code",
      "metadata": {
        "id": "3PbP4TDkY3e3",
        "colab_type": "code",
        "colab": {}
      },
      "source": [
        "#crie o modelo com duas hidden layers de 4 perceptrons, relu e 3 outputs\n",
        "#com softmax \n",
        "model = tf.keras.models.Sequential([\n",
        "  tf.keras.layers.Dense(2, activation='relu', input_shape=(4,)),\n",
        "  tf.keras.layers.Dense(2, activation='relu'),\n",
        "  tf.keras.layers.Dense(3, activation='softmax')\n",
        "])\n",
        "\n",
        "#continue o código"
      ],
      "execution_count": 0,
      "outputs": []
    },
    {
      "cell_type": "code",
      "metadata": {
        "id": "bmzH-Rh42JN_",
        "colab_type": "code",
        "colab": {
          "base_uri": "https://localhost:8080/",
          "height": 255
        },
        "outputId": "28902e1e-1654-48e0-f34d-32504cd0b6d9"
      },
      "source": [
        "model.summary()"
      ],
      "execution_count": 14,
      "outputs": [
        {
          "output_type": "stream",
          "text": [
            "Model: \"sequential\"\n",
            "_________________________________________________________________\n",
            "Layer (type)                 Output Shape              Param #   \n",
            "=================================================================\n",
            "dense (Dense)                (None, 2)                 10        \n",
            "_________________________________________________________________\n",
            "dense_1 (Dense)              (None, 2)                 6         \n",
            "_________________________________________________________________\n",
            "dense_2 (Dense)              (None, 3)                 9         \n",
            "=================================================================\n",
            "Total params: 25\n",
            "Trainable params: 25\n",
            "Non-trainable params: 0\n",
            "_________________________________________________________________\n"
          ],
          "name": "stdout"
        }
      ]
    },
    {
      "cell_type": "code",
      "metadata": {
        "id": "gXrntr4DZvvQ",
        "colab_type": "code",
        "colab": {
          "base_uri": "https://localhost:8080/",
          "height": 1000
        },
        "outputId": "766147b4-d22f-46bb-ba1f-a6c7ec0849a8"
      },
      "source": [
        "ephocs = 300\n",
        "model.compile(optimizer='adam', loss='categorical_crossentropy', metrics=['accuracy'])\n",
        "hist=model.fit(x=X_train,y=y_train, validation_data=(X_test, y_test),epochs=ephocs)\n",
        "hist"
      ],
      "execution_count": 15,
      "outputs": [
        {
          "output_type": "stream",
          "text": [
            "Train on 105 samples, validate on 45 samples\n",
            "Epoch 1/300\n",
            "105/105 [==============================] - 2s 18ms/sample - loss: 1.1042 - accuracy: 0.2476 - val_loss: 1.1029 - val_accuracy: 0.2889\n",
            "Epoch 2/300\n",
            "105/105 [==============================] - 0s 298us/sample - loss: 1.1011 - accuracy: 0.2571 - val_loss: 1.1004 - val_accuracy: 0.3111\n",
            "Epoch 3/300\n",
            "105/105 [==============================] - 0s 261us/sample - loss: 1.0992 - accuracy: 0.1619 - val_loss: 1.0989 - val_accuracy: 0.0889\n",
            "Epoch 4/300\n",
            "105/105 [==============================] - 0s 267us/sample - loss: 1.0982 - accuracy: 0.1714 - val_loss: 1.0980 - val_accuracy: 0.3556\n",
            "Epoch 5/300\n",
            "105/105 [==============================] - 0s 260us/sample - loss: 1.0973 - accuracy: 0.2952 - val_loss: 1.0974 - val_accuracy: 0.1778\n",
            "Epoch 6/300\n",
            "105/105 [==============================] - 0s 239us/sample - loss: 1.0967 - accuracy: 0.1333 - val_loss: 1.0971 - val_accuracy: 0.1778\n",
            "Epoch 7/300\n",
            "105/105 [==============================] - 0s 256us/sample - loss: 1.0964 - accuracy: 0.2476 - val_loss: 1.0970 - val_accuracy: 0.2889\n",
            "Epoch 8/300\n",
            "105/105 [==============================] - 0s 290us/sample - loss: 1.0960 - accuracy: 0.3619 - val_loss: 1.0969 - val_accuracy: 0.3111\n",
            "Epoch 9/300\n",
            "105/105 [==============================] - 0s 238us/sample - loss: 1.0958 - accuracy: 0.3524 - val_loss: 1.0969 - val_accuracy: 0.2889\n",
            "Epoch 10/300\n",
            "105/105 [==============================] - 0s 278us/sample - loss: 1.0956 - accuracy: 0.3524 - val_loss: 1.0968 - val_accuracy: 0.2889\n",
            "Epoch 11/300\n",
            "105/105 [==============================] - 0s 249us/sample - loss: 1.0953 - accuracy: 0.3524 - val_loss: 1.0966 - val_accuracy: 0.2889\n",
            "Epoch 12/300\n",
            "105/105 [==============================] - 0s 274us/sample - loss: 1.0950 - accuracy: 0.3524 - val_loss: 1.0963 - val_accuracy: 0.2889\n",
            "Epoch 13/300\n",
            "105/105 [==============================] - 0s 256us/sample - loss: 1.0947 - accuracy: 0.3524 - val_loss: 1.0961 - val_accuracy: 0.2889\n",
            "Epoch 14/300\n",
            "105/105 [==============================] - 0s 251us/sample - loss: 1.0942 - accuracy: 0.3524 - val_loss: 1.0959 - val_accuracy: 0.2889\n",
            "Epoch 15/300\n",
            "105/105 [==============================] - 0s 277us/sample - loss: 1.0936 - accuracy: 0.3524 - val_loss: 1.0957 - val_accuracy: 0.2889\n",
            "Epoch 16/300\n",
            "105/105 [==============================] - 0s 299us/sample - loss: 1.0931 - accuracy: 0.3524 - val_loss: 1.0953 - val_accuracy: 0.2889\n",
            "Epoch 17/300\n",
            "105/105 [==============================] - 0s 1ms/sample - loss: 1.0925 - accuracy: 0.3524 - val_loss: 1.0947 - val_accuracy: 0.2889\n",
            "Epoch 18/300\n",
            "105/105 [==============================] - 0s 261us/sample - loss: 1.0918 - accuracy: 0.3524 - val_loss: 1.0942 - val_accuracy: 0.3111\n",
            "Epoch 19/300\n",
            "105/105 [==============================] - 0s 294us/sample - loss: 1.0910 - accuracy: 0.3524 - val_loss: 1.0936 - val_accuracy: 0.3556\n",
            "Epoch 20/300\n",
            "105/105 [==============================] - 0s 314us/sample - loss: 1.0898 - accuracy: 0.3714 - val_loss: 1.0930 - val_accuracy: 0.3333\n",
            "Epoch 21/300\n",
            "105/105 [==============================] - 0s 276us/sample - loss: 1.0889 - accuracy: 0.3905 - val_loss: 1.0923 - val_accuracy: 0.3333\n",
            "Epoch 22/300\n",
            "105/105 [==============================] - 0s 245us/sample - loss: 1.0880 - accuracy: 0.3905 - val_loss: 1.0916 - val_accuracy: 0.3333\n",
            "Epoch 23/300\n",
            "105/105 [==============================] - 0s 245us/sample - loss: 1.0869 - accuracy: 0.4000 - val_loss: 1.0909 - val_accuracy: 0.3333\n",
            "Epoch 24/300\n",
            "105/105 [==============================] - 0s 253us/sample - loss: 1.0860 - accuracy: 0.4000 - val_loss: 1.0904 - val_accuracy: 0.3556\n",
            "Epoch 25/300\n",
            "105/105 [==============================] - 0s 248us/sample - loss: 1.0843 - accuracy: 0.4095 - val_loss: 1.0899 - val_accuracy: 0.3556\n",
            "Epoch 26/300\n",
            "105/105 [==============================] - 0s 277us/sample - loss: 1.0827 - accuracy: 0.4190 - val_loss: 1.0894 - val_accuracy: 0.3556\n",
            "Epoch 27/300\n",
            "105/105 [==============================] - 0s 315us/sample - loss: 1.0816 - accuracy: 0.4286 - val_loss: 1.0887 - val_accuracy: 0.4222\n",
            "Epoch 28/300\n",
            "105/105 [==============================] - 0s 285us/sample - loss: 1.0799 - accuracy: 0.4381 - val_loss: 1.0875 - val_accuracy: 0.4222\n",
            "Epoch 29/300\n",
            "105/105 [==============================] - 0s 229us/sample - loss: 1.0782 - accuracy: 0.4762 - val_loss: 1.0860 - val_accuracy: 0.5111\n",
            "Epoch 30/300\n",
            "105/105 [==============================] - 0s 255us/sample - loss: 1.0768 - accuracy: 0.5429 - val_loss: 1.0847 - val_accuracy: 0.5333\n",
            "Epoch 31/300\n",
            "105/105 [==============================] - 0s 266us/sample - loss: 1.0752 - accuracy: 0.6000 - val_loss: 1.0834 - val_accuracy: 0.5778\n",
            "Epoch 32/300\n",
            "105/105 [==============================] - 0s 268us/sample - loss: 1.0741 - accuracy: 0.6476 - val_loss: 1.0821 - val_accuracy: 0.5778\n",
            "Epoch 33/300\n",
            "105/105 [==============================] - 0s 277us/sample - loss: 1.0727 - accuracy: 0.6476 - val_loss: 1.0809 - val_accuracy: 0.5778\n",
            "Epoch 34/300\n",
            "105/105 [==============================] - 0s 259us/sample - loss: 1.0715 - accuracy: 0.6381 - val_loss: 1.0798 - val_accuracy: 0.5778\n",
            "Epoch 35/300\n",
            "105/105 [==============================] - 0s 245us/sample - loss: 1.0701 - accuracy: 0.6381 - val_loss: 1.0785 - val_accuracy: 0.5778\n",
            "Epoch 36/300\n",
            "105/105 [==============================] - 0s 307us/sample - loss: 1.0683 - accuracy: 0.6476 - val_loss: 1.0772 - val_accuracy: 0.6000\n",
            "Epoch 37/300\n",
            "105/105 [==============================] - 0s 271us/sample - loss: 1.0666 - accuracy: 0.6476 - val_loss: 1.0760 - val_accuracy: 0.6222\n",
            "Epoch 38/300\n",
            "105/105 [==============================] - 0s 240us/sample - loss: 1.0645 - accuracy: 0.6571 - val_loss: 1.0746 - val_accuracy: 0.6222\n",
            "Epoch 39/300\n",
            "105/105 [==============================] - 0s 280us/sample - loss: 1.0627 - accuracy: 0.6667 - val_loss: 1.0733 - val_accuracy: 0.6222\n",
            "Epoch 40/300\n",
            "105/105 [==============================] - 0s 383us/sample - loss: 1.0606 - accuracy: 0.5048 - val_loss: 1.0717 - val_accuracy: 0.4222\n",
            "Epoch 41/300\n",
            "105/105 [==============================] - 0s 256us/sample - loss: 1.0590 - accuracy: 0.4000 - val_loss: 1.0702 - val_accuracy: 0.4222\n",
            "Epoch 42/300\n",
            "105/105 [==============================] - 0s 245us/sample - loss: 1.0572 - accuracy: 0.4095 - val_loss: 1.0686 - val_accuracy: 0.4222\n",
            "Epoch 43/300\n",
            "105/105 [==============================] - 0s 270us/sample - loss: 1.0553 - accuracy: 0.4000 - val_loss: 1.0669 - val_accuracy: 0.4444\n",
            "Epoch 44/300\n",
            "105/105 [==============================] - 0s 274us/sample - loss: 1.0538 - accuracy: 0.4095 - val_loss: 1.0652 - val_accuracy: 0.4444\n",
            "Epoch 45/300\n",
            "105/105 [==============================] - 0s 260us/sample - loss: 1.0518 - accuracy: 0.4095 - val_loss: 1.0635 - val_accuracy: 0.4222\n",
            "Epoch 46/300\n",
            "105/105 [==============================] - 0s 238us/sample - loss: 1.0501 - accuracy: 0.4000 - val_loss: 1.0617 - val_accuracy: 0.4222\n",
            "Epoch 47/300\n",
            "105/105 [==============================] - 0s 267us/sample - loss: 1.0479 - accuracy: 0.4095 - val_loss: 1.0599 - val_accuracy: 0.4222\n",
            "Epoch 48/300\n",
            "105/105 [==============================] - 0s 265us/sample - loss: 1.0460 - accuracy: 0.4095 - val_loss: 1.0583 - val_accuracy: 0.4222\n",
            "Epoch 49/300\n",
            "105/105 [==============================] - 0s 252us/sample - loss: 1.0442 - accuracy: 0.4095 - val_loss: 1.0566 - val_accuracy: 0.4222\n",
            "Epoch 50/300\n",
            "105/105 [==============================] - 0s 252us/sample - loss: 1.0422 - accuracy: 0.4000 - val_loss: 1.0549 - val_accuracy: 0.4222\n",
            "Epoch 51/300\n",
            "105/105 [==============================] - 0s 248us/sample - loss: 1.0402 - accuracy: 0.4000 - val_loss: 1.0532 - val_accuracy: 0.4222\n",
            "Epoch 52/300\n",
            "105/105 [==============================] - 0s 261us/sample - loss: 1.0384 - accuracy: 0.4000 - val_loss: 1.0515 - val_accuracy: 0.4222\n",
            "Epoch 53/300\n",
            "105/105 [==============================] - 0s 270us/sample - loss: 1.0363 - accuracy: 0.4000 - val_loss: 1.0496 - val_accuracy: 0.4222\n",
            "Epoch 54/300\n",
            "105/105 [==============================] - 0s 275us/sample - loss: 1.0339 - accuracy: 0.3905 - val_loss: 1.0475 - val_accuracy: 0.4000\n",
            "Epoch 55/300\n",
            "105/105 [==============================] - 0s 281us/sample - loss: 1.0315 - accuracy: 0.3714 - val_loss: 1.0453 - val_accuracy: 0.4000\n",
            "Epoch 56/300\n",
            "105/105 [==============================] - 0s 262us/sample - loss: 1.0285 - accuracy: 0.3714 - val_loss: 1.0436 - val_accuracy: 0.4000\n",
            "Epoch 57/300\n",
            "105/105 [==============================] - 0s 255us/sample - loss: 1.0265 - accuracy: 0.3619 - val_loss: 1.0418 - val_accuracy: 0.3778\n",
            "Epoch 58/300\n",
            "105/105 [==============================] - 0s 255us/sample - loss: 1.0239 - accuracy: 0.3524 - val_loss: 1.0397 - val_accuracy: 0.3556\n",
            "Epoch 59/300\n",
            "105/105 [==============================] - 0s 283us/sample - loss: 1.0217 - accuracy: 0.3429 - val_loss: 1.0374 - val_accuracy: 0.3556\n",
            "Epoch 60/300\n",
            "105/105 [==============================] - 0s 269us/sample - loss: 1.0190 - accuracy: 0.3333 - val_loss: 1.0351 - val_accuracy: 0.3556\n",
            "Epoch 61/300\n",
            "105/105 [==============================] - 0s 244us/sample - loss: 1.0164 - accuracy: 0.3333 - val_loss: 1.0328 - val_accuracy: 0.3556\n",
            "Epoch 62/300\n",
            "105/105 [==============================] - 0s 361us/sample - loss: 1.0138 - accuracy: 0.3429 - val_loss: 1.0304 - val_accuracy: 0.3556\n",
            "Epoch 63/300\n",
            "105/105 [==============================] - 0s 295us/sample - loss: 1.0112 - accuracy: 0.3333 - val_loss: 1.0280 - val_accuracy: 0.3556\n",
            "Epoch 64/300\n",
            "105/105 [==============================] - 0s 327us/sample - loss: 1.0084 - accuracy: 0.3333 - val_loss: 1.0255 - val_accuracy: 0.3556\n",
            "Epoch 65/300\n",
            "105/105 [==============================] - 0s 283us/sample - loss: 1.0060 - accuracy: 0.3333 - val_loss: 1.0231 - val_accuracy: 0.3556\n",
            "Epoch 66/300\n",
            "105/105 [==============================] - 0s 250us/sample - loss: 1.0030 - accuracy: 0.3333 - val_loss: 1.0207 - val_accuracy: 0.3556\n",
            "Epoch 67/300\n",
            "105/105 [==============================] - 0s 253us/sample - loss: 0.9998 - accuracy: 0.3333 - val_loss: 1.0179 - val_accuracy: 0.3556\n",
            "Epoch 68/300\n",
            "105/105 [==============================] - 0s 245us/sample - loss: 0.9969 - accuracy: 0.3333 - val_loss: 1.0155 - val_accuracy: 0.3556\n",
            "Epoch 69/300\n",
            "105/105 [==============================] - 0s 249us/sample - loss: 0.9938 - accuracy: 0.3333 - val_loss: 1.0127 - val_accuracy: 0.3556\n",
            "Epoch 70/300\n",
            "105/105 [==============================] - 0s 260us/sample - loss: 0.9911 - accuracy: 0.3333 - val_loss: 1.0100 - val_accuracy: 0.3556\n",
            "Epoch 71/300\n",
            "105/105 [==============================] - 0s 252us/sample - loss: 0.9879 - accuracy: 0.3333 - val_loss: 1.0067 - val_accuracy: 0.3556\n",
            "Epoch 72/300\n",
            "105/105 [==============================] - 0s 269us/sample - loss: 0.9848 - accuracy: 0.3333 - val_loss: 1.0039 - val_accuracy: 0.3778\n",
            "Epoch 73/300\n",
            "105/105 [==============================] - 0s 278us/sample - loss: 0.9822 - accuracy: 0.3333 - val_loss: 1.0011 - val_accuracy: 0.3778\n",
            "Epoch 74/300\n",
            "105/105 [==============================] - 0s 275us/sample - loss: 0.9784 - accuracy: 0.3333 - val_loss: 0.9977 - val_accuracy: 0.3556\n",
            "Epoch 75/300\n",
            "105/105 [==============================] - 0s 265us/sample - loss: 0.9755 - accuracy: 0.3333 - val_loss: 0.9948 - val_accuracy: 0.3556\n",
            "Epoch 76/300\n",
            "105/105 [==============================] - 0s 241us/sample - loss: 0.9723 - accuracy: 0.3333 - val_loss: 0.9920 - val_accuracy: 0.3778\n",
            "Epoch 77/300\n",
            "105/105 [==============================] - 0s 263us/sample - loss: 0.9691 - accuracy: 0.3333 - val_loss: 0.9895 - val_accuracy: 0.3778\n",
            "Epoch 78/300\n",
            "105/105 [==============================] - 0s 255us/sample - loss: 0.9662 - accuracy: 0.3333 - val_loss: 0.9867 - val_accuracy: 0.3778\n",
            "Epoch 79/300\n",
            "105/105 [==============================] - 0s 310us/sample - loss: 0.9626 - accuracy: 0.3333 - val_loss: 0.9841 - val_accuracy: 0.3556\n",
            "Epoch 80/300\n",
            "105/105 [==============================] - 0s 262us/sample - loss: 0.9595 - accuracy: 0.3333 - val_loss: 0.9816 - val_accuracy: 0.3556\n",
            "Epoch 81/300\n",
            "105/105 [==============================] - 0s 263us/sample - loss: 0.9564 - accuracy: 0.3333 - val_loss: 0.9783 - val_accuracy: 0.3556\n",
            "Epoch 82/300\n",
            "105/105 [==============================] - 0s 242us/sample - loss: 0.9531 - accuracy: 0.3333 - val_loss: 0.9745 - val_accuracy: 0.3556\n",
            "Epoch 83/300\n",
            "105/105 [==============================] - 0s 255us/sample - loss: 0.9497 - accuracy: 0.3333 - val_loss: 0.9709 - val_accuracy: 0.3556\n",
            "Epoch 84/300\n",
            "105/105 [==============================] - 0s 248us/sample - loss: 0.9464 - accuracy: 0.3333 - val_loss: 0.9673 - val_accuracy: 0.3556\n",
            "Epoch 85/300\n",
            "105/105 [==============================] - 0s 237us/sample - loss: 0.9433 - accuracy: 0.3333 - val_loss: 0.9636 - val_accuracy: 0.3556\n",
            "Epoch 86/300\n",
            "105/105 [==============================] - 0s 232us/sample - loss: 0.9402 - accuracy: 0.3333 - val_loss: 0.9602 - val_accuracy: 0.3556\n",
            "Epoch 87/300\n",
            "105/105 [==============================] - 0s 278us/sample - loss: 0.9368 - accuracy: 0.3333 - val_loss: 0.9575 - val_accuracy: 0.3556\n",
            "Epoch 88/300\n",
            "105/105 [==============================] - 0s 264us/sample - loss: 0.9333 - accuracy: 0.3333 - val_loss: 0.9550 - val_accuracy: 0.3556\n",
            "Epoch 89/300\n",
            "105/105 [==============================] - 0s 263us/sample - loss: 0.9303 - accuracy: 0.3333 - val_loss: 0.9528 - val_accuracy: 0.3556\n",
            "Epoch 90/300\n",
            "105/105 [==============================] - 0s 247us/sample - loss: 0.9272 - accuracy: 0.5333 - val_loss: 0.9499 - val_accuracy: 0.5778\n",
            "Epoch 91/300\n",
            "105/105 [==============================] - 0s 249us/sample - loss: 0.9238 - accuracy: 0.6571 - val_loss: 0.9453 - val_accuracy: 0.5778\n",
            "Epoch 92/300\n",
            "105/105 [==============================] - 0s 249us/sample - loss: 0.9209 - accuracy: 0.6667 - val_loss: 0.9411 - val_accuracy: 0.6222\n",
            "Epoch 93/300\n",
            "105/105 [==============================] - 0s 243us/sample - loss: 0.9174 - accuracy: 0.6762 - val_loss: 0.9379 - val_accuracy: 0.6222\n",
            "Epoch 94/300\n",
            "105/105 [==============================] - 0s 271us/sample - loss: 0.9142 - accuracy: 0.6762 - val_loss: 0.9344 - val_accuracy: 0.6222\n",
            "Epoch 95/300\n",
            "105/105 [==============================] - 0s 271us/sample - loss: 0.9114 - accuracy: 0.6762 - val_loss: 0.9310 - val_accuracy: 0.6222\n",
            "Epoch 96/300\n",
            "105/105 [==============================] - 0s 371us/sample - loss: 0.9085 - accuracy: 0.6762 - val_loss: 0.9279 - val_accuracy: 0.6444\n",
            "Epoch 97/300\n",
            "105/105 [==============================] - 0s 250us/sample - loss: 0.9051 - accuracy: 0.6762 - val_loss: 0.9249 - val_accuracy: 0.6222\n",
            "Epoch 98/300\n",
            "105/105 [==============================] - 0s 254us/sample - loss: 0.9016 - accuracy: 0.6762 - val_loss: 0.9222 - val_accuracy: 0.6222\n",
            "Epoch 99/300\n",
            "105/105 [==============================] - 0s 249us/sample - loss: 0.8982 - accuracy: 0.6762 - val_loss: 0.9202 - val_accuracy: 0.6222\n",
            "Epoch 100/300\n",
            "105/105 [==============================] - 0s 235us/sample - loss: 0.8948 - accuracy: 0.6762 - val_loss: 0.9183 - val_accuracy: 0.6222\n",
            "Epoch 101/300\n",
            "105/105 [==============================] - 0s 240us/sample - loss: 0.8919 - accuracy: 0.6762 - val_loss: 0.9158 - val_accuracy: 0.6222\n",
            "Epoch 102/300\n",
            "105/105 [==============================] - 0s 290us/sample - loss: 0.8889 - accuracy: 0.6762 - val_loss: 0.9126 - val_accuracy: 0.6222\n",
            "Epoch 103/300\n",
            "105/105 [==============================] - 0s 276us/sample - loss: 0.8857 - accuracy: 0.6762 - val_loss: 0.9094 - val_accuracy: 0.6222\n",
            "Epoch 104/300\n",
            "105/105 [==============================] - 0s 290us/sample - loss: 0.8824 - accuracy: 0.6762 - val_loss: 0.9065 - val_accuracy: 0.6222\n",
            "Epoch 105/300\n",
            "105/105 [==============================] - 0s 304us/sample - loss: 0.8793 - accuracy: 0.6762 - val_loss: 0.9035 - val_accuracy: 0.6222\n",
            "Epoch 106/300\n",
            "105/105 [==============================] - 0s 254us/sample - loss: 0.8760 - accuracy: 0.6762 - val_loss: 0.8999 - val_accuracy: 0.6444\n",
            "Epoch 107/300\n",
            "105/105 [==============================] - 0s 288us/sample - loss: 0.8730 - accuracy: 0.6762 - val_loss: 0.8959 - val_accuracy: 0.6444\n",
            "Epoch 108/300\n",
            "105/105 [==============================] - 0s 239us/sample - loss: 0.8693 - accuracy: 0.6762 - val_loss: 0.8927 - val_accuracy: 0.6444\n",
            "Epoch 109/300\n",
            "105/105 [==============================] - 0s 246us/sample - loss: 0.8663 - accuracy: 0.6762 - val_loss: 0.8890 - val_accuracy: 0.6444\n",
            "Epoch 110/300\n",
            "105/105 [==============================] - 0s 292us/sample - loss: 0.8629 - accuracy: 0.6762 - val_loss: 0.8858 - val_accuracy: 0.6444\n",
            "Epoch 111/300\n",
            "105/105 [==============================] - 0s 281us/sample - loss: 0.8596 - accuracy: 0.6762 - val_loss: 0.8819 - val_accuracy: 0.6444\n",
            "Epoch 112/300\n",
            "105/105 [==============================] - 0s 259us/sample - loss: 0.8567 - accuracy: 0.6762 - val_loss: 0.8777 - val_accuracy: 0.6444\n",
            "Epoch 113/300\n",
            "105/105 [==============================] - 0s 256us/sample - loss: 0.8535 - accuracy: 0.6762 - val_loss: 0.8743 - val_accuracy: 0.6444\n",
            "Epoch 114/300\n",
            "105/105 [==============================] - 0s 304us/sample - loss: 0.8509 - accuracy: 0.6762 - val_loss: 0.8710 - val_accuracy: 0.6444\n",
            "Epoch 115/300\n",
            "105/105 [==============================] - 0s 326us/sample - loss: 0.8477 - accuracy: 0.6762 - val_loss: 0.8681 - val_accuracy: 0.6444\n",
            "Epoch 116/300\n",
            "105/105 [==============================] - 0s 293us/sample - loss: 0.8442 - accuracy: 0.6762 - val_loss: 0.8660 - val_accuracy: 0.6444\n",
            "Epoch 117/300\n",
            "105/105 [==============================] - 0s 286us/sample - loss: 0.8407 - accuracy: 0.6762 - val_loss: 0.8637 - val_accuracy: 0.6444\n",
            "Epoch 118/300\n",
            "105/105 [==============================] - 0s 238us/sample - loss: 0.8377 - accuracy: 0.6762 - val_loss: 0.8610 - val_accuracy: 0.6444\n",
            "Epoch 119/300\n",
            "105/105 [==============================] - 0s 254us/sample - loss: 0.8347 - accuracy: 0.6762 - val_loss: 0.8582 - val_accuracy: 0.6444\n",
            "Epoch 120/300\n",
            "105/105 [==============================] - 0s 247us/sample - loss: 0.8318 - accuracy: 0.6762 - val_loss: 0.8547 - val_accuracy: 0.6444\n",
            "Epoch 121/300\n",
            "105/105 [==============================] - 0s 240us/sample - loss: 0.8285 - accuracy: 0.6762 - val_loss: 0.8519 - val_accuracy: 0.6444\n",
            "Epoch 122/300\n",
            "105/105 [==============================] - 0s 255us/sample - loss: 0.8255 - accuracy: 0.6762 - val_loss: 0.8481 - val_accuracy: 0.6444\n",
            "Epoch 123/300\n",
            "105/105 [==============================] - 0s 329us/sample - loss: 0.8223 - accuracy: 0.6762 - val_loss: 0.8442 - val_accuracy: 0.6444\n",
            "Epoch 124/300\n",
            "105/105 [==============================] - 0s 261us/sample - loss: 0.8192 - accuracy: 0.6762 - val_loss: 0.8409 - val_accuracy: 0.6444\n",
            "Epoch 125/300\n",
            "105/105 [==============================] - 0s 273us/sample - loss: 0.8162 - accuracy: 0.6762 - val_loss: 0.8379 - val_accuracy: 0.6444\n",
            "Epoch 126/300\n",
            "105/105 [==============================] - 0s 238us/sample - loss: 0.8133 - accuracy: 0.6762 - val_loss: 0.8344 - val_accuracy: 0.6444\n",
            "Epoch 127/300\n",
            "105/105 [==============================] - 0s 261us/sample - loss: 0.8101 - accuracy: 0.6857 - val_loss: 0.8313 - val_accuracy: 0.6444\n",
            "Epoch 128/300\n",
            "105/105 [==============================] - 0s 256us/sample - loss: 0.8070 - accuracy: 0.6857 - val_loss: 0.8286 - val_accuracy: 0.6444\n",
            "Epoch 129/300\n",
            "105/105 [==============================] - 0s 252us/sample - loss: 0.8039 - accuracy: 0.6857 - val_loss: 0.8260 - val_accuracy: 0.6444\n",
            "Epoch 130/300\n",
            "105/105 [==============================] - 0s 364us/sample - loss: 0.8009 - accuracy: 0.6857 - val_loss: 0.8234 - val_accuracy: 0.6444\n",
            "Epoch 131/300\n",
            "105/105 [==============================] - 0s 271us/sample - loss: 0.7981 - accuracy: 0.6762 - val_loss: 0.8215 - val_accuracy: 0.6444\n",
            "Epoch 132/300\n",
            "105/105 [==============================] - 0s 251us/sample - loss: 0.7951 - accuracy: 0.6762 - val_loss: 0.8187 - val_accuracy: 0.6444\n",
            "Epoch 133/300\n",
            "105/105 [==============================] - 0s 297us/sample - loss: 0.7922 - accuracy: 0.6762 - val_loss: 0.8155 - val_accuracy: 0.6444\n",
            "Epoch 134/300\n",
            "105/105 [==============================] - 0s 296us/sample - loss: 0.7891 - accuracy: 0.6762 - val_loss: 0.8119 - val_accuracy: 0.6444\n",
            "Epoch 135/300\n",
            "105/105 [==============================] - 0s 261us/sample - loss: 0.7859 - accuracy: 0.6857 - val_loss: 0.8076 - val_accuracy: 0.6444\n",
            "Epoch 136/300\n",
            "105/105 [==============================] - 0s 293us/sample - loss: 0.7830 - accuracy: 0.6857 - val_loss: 0.8038 - val_accuracy: 0.6444\n",
            "Epoch 137/300\n",
            "105/105 [==============================] - 0s 259us/sample - loss: 0.7802 - accuracy: 0.6857 - val_loss: 0.8011 - val_accuracy: 0.6444\n",
            "Epoch 138/300\n",
            "105/105 [==============================] - 0s 238us/sample - loss: 0.7772 - accuracy: 0.6952 - val_loss: 0.7978 - val_accuracy: 0.6444\n",
            "Epoch 139/300\n",
            "105/105 [==============================] - 0s 253us/sample - loss: 0.7742 - accuracy: 0.6857 - val_loss: 0.7953 - val_accuracy: 0.6444\n",
            "Epoch 140/300\n",
            "105/105 [==============================] - 0s 253us/sample - loss: 0.7712 - accuracy: 0.6857 - val_loss: 0.7925 - val_accuracy: 0.6444\n",
            "Epoch 141/300\n",
            "105/105 [==============================] - 0s 293us/sample - loss: 0.7682 - accuracy: 0.6952 - val_loss: 0.7893 - val_accuracy: 0.6444\n",
            "Epoch 142/300\n",
            "105/105 [==============================] - 0s 269us/sample - loss: 0.7652 - accuracy: 0.6952 - val_loss: 0.7864 - val_accuracy: 0.6444\n",
            "Epoch 143/300\n",
            "105/105 [==============================] - 0s 253us/sample - loss: 0.7622 - accuracy: 0.6952 - val_loss: 0.7836 - val_accuracy: 0.6444\n",
            "Epoch 144/300\n",
            "105/105 [==============================] - 0s 273us/sample - loss: 0.7593 - accuracy: 0.6952 - val_loss: 0.7808 - val_accuracy: 0.6444\n",
            "Epoch 145/300\n",
            "105/105 [==============================] - 0s 249us/sample - loss: 0.7563 - accuracy: 0.7048 - val_loss: 0.7777 - val_accuracy: 0.6444\n",
            "Epoch 146/300\n",
            "105/105 [==============================] - 0s 265us/sample - loss: 0.7533 - accuracy: 0.7048 - val_loss: 0.7744 - val_accuracy: 0.6444\n",
            "Epoch 147/300\n",
            "105/105 [==============================] - 0s 255us/sample - loss: 0.7504 - accuracy: 0.7048 - val_loss: 0.7714 - val_accuracy: 0.6444\n",
            "Epoch 148/300\n",
            "105/105 [==============================] - 0s 255us/sample - loss: 0.7476 - accuracy: 0.7048 - val_loss: 0.7683 - val_accuracy: 0.6444\n",
            "Epoch 149/300\n",
            "105/105 [==============================] - 0s 302us/sample - loss: 0.7446 - accuracy: 0.7048 - val_loss: 0.7653 - val_accuracy: 0.6667\n",
            "Epoch 150/300\n",
            "105/105 [==============================] - 0s 242us/sample - loss: 0.7417 - accuracy: 0.7048 - val_loss: 0.7627 - val_accuracy: 0.6667\n",
            "Epoch 151/300\n",
            "105/105 [==============================] - 0s 270us/sample - loss: 0.7388 - accuracy: 0.7048 - val_loss: 0.7597 - val_accuracy: 0.6889\n",
            "Epoch 152/300\n",
            "105/105 [==============================] - 0s 252us/sample - loss: 0.7359 - accuracy: 0.7048 - val_loss: 0.7571 - val_accuracy: 0.6889\n",
            "Epoch 153/300\n",
            "105/105 [==============================] - 0s 243us/sample - loss: 0.7332 - accuracy: 0.7048 - val_loss: 0.7540 - val_accuracy: 0.6889\n",
            "Epoch 154/300\n",
            "105/105 [==============================] - 0s 235us/sample - loss: 0.7304 - accuracy: 0.7048 - val_loss: 0.7509 - val_accuracy: 0.6889\n",
            "Epoch 155/300\n",
            "105/105 [==============================] - 0s 266us/sample - loss: 0.7275 - accuracy: 0.7048 - val_loss: 0.7480 - val_accuracy: 0.6889\n",
            "Epoch 156/300\n",
            "105/105 [==============================] - 0s 275us/sample - loss: 0.7246 - accuracy: 0.7048 - val_loss: 0.7460 - val_accuracy: 0.6889\n",
            "Epoch 157/300\n",
            "105/105 [==============================] - 0s 281us/sample - loss: 0.7221 - accuracy: 0.7048 - val_loss: 0.7426 - val_accuracy: 0.6889\n",
            "Epoch 158/300\n",
            "105/105 [==============================] - 0s 321us/sample - loss: 0.7191 - accuracy: 0.7048 - val_loss: 0.7391 - val_accuracy: 0.6889\n",
            "Epoch 159/300\n",
            "105/105 [==============================] - 0s 306us/sample - loss: 0.7163 - accuracy: 0.7143 - val_loss: 0.7359 - val_accuracy: 0.6889\n",
            "Epoch 160/300\n",
            "105/105 [==============================] - 0s 284us/sample - loss: 0.7135 - accuracy: 0.7143 - val_loss: 0.7328 - val_accuracy: 0.6889\n",
            "Epoch 161/300\n",
            "105/105 [==============================] - 0s 257us/sample - loss: 0.7110 - accuracy: 0.7143 - val_loss: 0.7296 - val_accuracy: 0.6889\n",
            "Epoch 162/300\n",
            "105/105 [==============================] - 0s 250us/sample - loss: 0.7082 - accuracy: 0.7238 - val_loss: 0.7271 - val_accuracy: 0.7111\n",
            "Epoch 163/300\n",
            "105/105 [==============================] - 0s 258us/sample - loss: 0.7052 - accuracy: 0.7238 - val_loss: 0.7255 - val_accuracy: 0.6889\n",
            "Epoch 164/300\n",
            "105/105 [==============================] - 0s 395us/sample - loss: 0.7024 - accuracy: 0.7238 - val_loss: 0.7234 - val_accuracy: 0.6889\n",
            "Epoch 165/300\n",
            "105/105 [==============================] - 0s 299us/sample - loss: 0.7001 - accuracy: 0.7238 - val_loss: 0.7213 - val_accuracy: 0.6889\n",
            "Epoch 166/300\n",
            "105/105 [==============================] - 0s 295us/sample - loss: 0.6974 - accuracy: 0.7238 - val_loss: 0.7177 - val_accuracy: 0.7111\n",
            "Epoch 167/300\n",
            "105/105 [==============================] - 0s 275us/sample - loss: 0.6945 - accuracy: 0.7333 - val_loss: 0.7138 - val_accuracy: 0.7111\n",
            "Epoch 168/300\n",
            "105/105 [==============================] - 0s 293us/sample - loss: 0.6915 - accuracy: 0.7333 - val_loss: 0.7103 - val_accuracy: 0.7111\n",
            "Epoch 169/300\n",
            "105/105 [==============================] - 0s 252us/sample - loss: 0.6889 - accuracy: 0.7333 - val_loss: 0.7070 - val_accuracy: 0.7111\n",
            "Epoch 170/300\n",
            "105/105 [==============================] - 0s 269us/sample - loss: 0.6864 - accuracy: 0.7333 - val_loss: 0.7039 - val_accuracy: 0.7111\n",
            "Epoch 171/300\n",
            "105/105 [==============================] - 0s 245us/sample - loss: 0.6839 - accuracy: 0.7333 - val_loss: 0.7014 - val_accuracy: 0.7111\n",
            "Epoch 172/300\n",
            "105/105 [==============================] - 0s 295us/sample - loss: 0.6812 - accuracy: 0.7333 - val_loss: 0.6989 - val_accuracy: 0.7111\n",
            "Epoch 173/300\n",
            "105/105 [==============================] - 0s 257us/sample - loss: 0.6784 - accuracy: 0.7333 - val_loss: 0.6972 - val_accuracy: 0.7111\n",
            "Epoch 174/300\n",
            "105/105 [==============================] - 0s 283us/sample - loss: 0.6758 - accuracy: 0.7333 - val_loss: 0.6947 - val_accuracy: 0.7111\n",
            "Epoch 175/300\n",
            "105/105 [==============================] - 0s 262us/sample - loss: 0.6733 - accuracy: 0.7333 - val_loss: 0.6922 - val_accuracy: 0.7111\n",
            "Epoch 176/300\n",
            "105/105 [==============================] - 0s 269us/sample - loss: 0.6705 - accuracy: 0.7333 - val_loss: 0.6883 - val_accuracy: 0.7333\n",
            "Epoch 177/300\n",
            "105/105 [==============================] - 0s 261us/sample - loss: 0.6681 - accuracy: 0.7524 - val_loss: 0.6846 - val_accuracy: 0.7333\n",
            "Epoch 178/300\n",
            "105/105 [==============================] - 0s 255us/sample - loss: 0.6658 - accuracy: 0.7524 - val_loss: 0.6817 - val_accuracy: 0.7333\n",
            "Epoch 179/300\n",
            "105/105 [==============================] - 0s 251us/sample - loss: 0.6631 - accuracy: 0.7524 - val_loss: 0.6797 - val_accuracy: 0.7333\n",
            "Epoch 180/300\n",
            "105/105 [==============================] - 0s 291us/sample - loss: 0.6602 - accuracy: 0.7524 - val_loss: 0.6777 - val_accuracy: 0.7333\n",
            "Epoch 181/300\n",
            "105/105 [==============================] - 0s 264us/sample - loss: 0.6577 - accuracy: 0.7524 - val_loss: 0.6756 - val_accuracy: 0.7333\n",
            "Epoch 182/300\n",
            "105/105 [==============================] - 0s 243us/sample - loss: 0.6556 - accuracy: 0.7524 - val_loss: 0.6737 - val_accuracy: 0.7333\n",
            "Epoch 183/300\n",
            "105/105 [==============================] - 0s 257us/sample - loss: 0.6526 - accuracy: 0.7524 - val_loss: 0.6696 - val_accuracy: 0.7333\n",
            "Epoch 184/300\n",
            "105/105 [==============================] - 0s 261us/sample - loss: 0.6499 - accuracy: 0.7810 - val_loss: 0.6659 - val_accuracy: 0.7333\n",
            "Epoch 185/300\n",
            "105/105 [==============================] - 0s 273us/sample - loss: 0.6482 - accuracy: 0.7905 - val_loss: 0.6628 - val_accuracy: 0.7333\n",
            "Epoch 186/300\n",
            "105/105 [==============================] - 0s 264us/sample - loss: 0.6460 - accuracy: 0.8000 - val_loss: 0.6605 - val_accuracy: 0.7556\n",
            "Epoch 187/300\n",
            "105/105 [==============================] - 0s 241us/sample - loss: 0.6431 - accuracy: 0.8000 - val_loss: 0.6587 - val_accuracy: 0.7556\n",
            "Epoch 188/300\n",
            "105/105 [==============================] - 0s 298us/sample - loss: 0.6404 - accuracy: 0.8000 - val_loss: 0.6572 - val_accuracy: 0.7333\n",
            "Epoch 189/300\n",
            "105/105 [==============================] - 0s 281us/sample - loss: 0.6380 - accuracy: 0.8000 - val_loss: 0.6557 - val_accuracy: 0.7333\n",
            "Epoch 190/300\n",
            "105/105 [==============================] - 0s 277us/sample - loss: 0.6358 - accuracy: 0.7905 - val_loss: 0.6545 - val_accuracy: 0.7333\n",
            "Epoch 191/300\n",
            "105/105 [==============================] - 0s 238us/sample - loss: 0.6343 - accuracy: 0.7905 - val_loss: 0.6532 - val_accuracy: 0.7333\n",
            "Epoch 192/300\n",
            "105/105 [==============================] - 0s 258us/sample - loss: 0.6317 - accuracy: 0.7905 - val_loss: 0.6495 - val_accuracy: 0.7333\n",
            "Epoch 193/300\n",
            "105/105 [==============================] - 0s 247us/sample - loss: 0.6289 - accuracy: 0.8000 - val_loss: 0.6459 - val_accuracy: 0.7556\n",
            "Epoch 194/300\n",
            "105/105 [==============================] - 0s 281us/sample - loss: 0.6262 - accuracy: 0.8190 - val_loss: 0.6418 - val_accuracy: 0.7778\n",
            "Epoch 195/300\n",
            "105/105 [==============================] - 0s 271us/sample - loss: 0.6246 - accuracy: 0.8762 - val_loss: 0.6386 - val_accuracy: 0.8000\n",
            "Epoch 196/300\n",
            "105/105 [==============================] - 0s 335us/sample - loss: 0.6227 - accuracy: 0.8762 - val_loss: 0.6363 - val_accuracy: 0.8000\n",
            "Epoch 197/300\n",
            "105/105 [==============================] - 0s 350us/sample - loss: 0.6204 - accuracy: 0.8762 - val_loss: 0.6345 - val_accuracy: 0.7778\n",
            "Epoch 198/300\n",
            "105/105 [==============================] - 0s 348us/sample - loss: 0.6178 - accuracy: 0.8762 - val_loss: 0.6329 - val_accuracy: 0.7778\n",
            "Epoch 199/300\n",
            "105/105 [==============================] - 0s 273us/sample - loss: 0.6151 - accuracy: 0.8762 - val_loss: 0.6312 - val_accuracy: 0.7778\n",
            "Epoch 200/300\n",
            "105/105 [==============================] - 0s 257us/sample - loss: 0.6129 - accuracy: 0.8667 - val_loss: 0.6295 - val_accuracy: 0.7556\n",
            "Epoch 201/300\n",
            "105/105 [==============================] - 0s 264us/sample - loss: 0.6107 - accuracy: 0.8571 - val_loss: 0.6279 - val_accuracy: 0.7556\n",
            "Epoch 202/300\n",
            "105/105 [==============================] - 0s 282us/sample - loss: 0.6089 - accuracy: 0.8286 - val_loss: 0.6265 - val_accuracy: 0.7556\n",
            "Epoch 203/300\n",
            "105/105 [==============================] - 0s 300us/sample - loss: 0.6066 - accuracy: 0.8286 - val_loss: 0.6239 - val_accuracy: 0.7556\n",
            "Epoch 204/300\n",
            "105/105 [==============================] - 0s 250us/sample - loss: 0.6043 - accuracy: 0.8571 - val_loss: 0.6206 - val_accuracy: 0.7778\n",
            "Epoch 205/300\n",
            "105/105 [==============================] - 0s 250us/sample - loss: 0.6019 - accuracy: 0.8762 - val_loss: 0.6177 - val_accuracy: 0.8000\n",
            "Epoch 206/300\n",
            "105/105 [==============================] - 0s 264us/sample - loss: 0.6001 - accuracy: 0.8762 - val_loss: 0.6146 - val_accuracy: 0.8000\n",
            "Epoch 207/300\n",
            "105/105 [==============================] - 0s 278us/sample - loss: 0.5979 - accuracy: 0.8857 - val_loss: 0.6122 - val_accuracy: 0.8000\n",
            "Epoch 208/300\n",
            "105/105 [==============================] - 0s 262us/sample - loss: 0.5957 - accuracy: 0.8857 - val_loss: 0.6105 - val_accuracy: 0.8000\n",
            "Epoch 209/300\n",
            "105/105 [==============================] - 0s 274us/sample - loss: 0.5936 - accuracy: 0.8857 - val_loss: 0.6089 - val_accuracy: 0.8000\n",
            "Epoch 210/300\n",
            "105/105 [==============================] - 0s 281us/sample - loss: 0.5914 - accuracy: 0.8762 - val_loss: 0.6064 - val_accuracy: 0.8000\n",
            "Epoch 211/300\n",
            "105/105 [==============================] - 0s 301us/sample - loss: 0.5893 - accuracy: 0.8857 - val_loss: 0.6042 - val_accuracy: 0.8222\n",
            "Epoch 212/300\n",
            "105/105 [==============================] - 0s 249us/sample - loss: 0.5872 - accuracy: 0.8857 - val_loss: 0.6022 - val_accuracy: 0.8222\n",
            "Epoch 213/300\n",
            "105/105 [==============================] - 0s 255us/sample - loss: 0.5852 - accuracy: 0.8857 - val_loss: 0.6012 - val_accuracy: 0.8000\n",
            "Epoch 214/300\n",
            "105/105 [==============================] - 0s 245us/sample - loss: 0.5831 - accuracy: 0.8762 - val_loss: 0.6002 - val_accuracy: 0.8000\n",
            "Epoch 215/300\n",
            "105/105 [==============================] - 0s 251us/sample - loss: 0.5812 - accuracy: 0.8762 - val_loss: 0.6000 - val_accuracy: 0.7778\n",
            "Epoch 216/300\n",
            "105/105 [==============================] - 0s 290us/sample - loss: 0.5801 - accuracy: 0.8667 - val_loss: 0.5986 - val_accuracy: 0.7778\n",
            "Epoch 217/300\n",
            "105/105 [==============================] - 0s 268us/sample - loss: 0.5779 - accuracy: 0.8762 - val_loss: 0.5959 - val_accuracy: 0.8000\n",
            "Epoch 218/300\n",
            "105/105 [==============================] - 0s 264us/sample - loss: 0.5757 - accuracy: 0.8762 - val_loss: 0.5939 - val_accuracy: 0.8000\n",
            "Epoch 219/300\n",
            "105/105 [==============================] - 0s 350us/sample - loss: 0.5736 - accuracy: 0.8762 - val_loss: 0.5918 - val_accuracy: 0.8000\n",
            "Epoch 220/300\n",
            "105/105 [==============================] - 0s 311us/sample - loss: 0.5721 - accuracy: 0.8762 - val_loss: 0.5887 - val_accuracy: 0.8000\n",
            "Epoch 221/300\n",
            "105/105 [==============================] - 0s 259us/sample - loss: 0.5695 - accuracy: 0.8762 - val_loss: 0.5856 - val_accuracy: 0.8222\n",
            "Epoch 222/300\n",
            "105/105 [==============================] - 0s 254us/sample - loss: 0.5674 - accuracy: 0.8857 - val_loss: 0.5831 - val_accuracy: 0.8222\n",
            "Epoch 223/300\n",
            "105/105 [==============================] - 0s 233us/sample - loss: 0.5654 - accuracy: 0.8857 - val_loss: 0.5820 - val_accuracy: 0.8222\n",
            "Epoch 224/300\n",
            "105/105 [==============================] - 0s 246us/sample - loss: 0.5636 - accuracy: 0.8857 - val_loss: 0.5799 - val_accuracy: 0.8222\n",
            "Epoch 225/300\n",
            "105/105 [==============================] - 0s 260us/sample - loss: 0.5616 - accuracy: 0.8857 - val_loss: 0.5779 - val_accuracy: 0.8222\n",
            "Epoch 226/300\n",
            "105/105 [==============================] - 0s 274us/sample - loss: 0.5599 - accuracy: 0.8857 - val_loss: 0.5769 - val_accuracy: 0.8222\n",
            "Epoch 227/300\n",
            "105/105 [==============================] - 0s 294us/sample - loss: 0.5581 - accuracy: 0.8857 - val_loss: 0.5757 - val_accuracy: 0.8222\n",
            "Epoch 228/300\n",
            "105/105 [==============================] - 0s 256us/sample - loss: 0.5559 - accuracy: 0.8857 - val_loss: 0.5735 - val_accuracy: 0.8222\n",
            "Epoch 229/300\n",
            "105/105 [==============================] - 0s 252us/sample - loss: 0.5542 - accuracy: 0.8857 - val_loss: 0.5710 - val_accuracy: 0.8222\n",
            "Epoch 230/300\n",
            "105/105 [==============================] - 0s 259us/sample - loss: 0.5522 - accuracy: 0.8952 - val_loss: 0.5690 - val_accuracy: 0.8222\n",
            "Epoch 231/300\n",
            "105/105 [==============================] - 0s 302us/sample - loss: 0.5498 - accuracy: 0.8952 - val_loss: 0.5654 - val_accuracy: 0.8222\n",
            "Epoch 232/300\n",
            "105/105 [==============================] - 0s 280us/sample - loss: 0.5483 - accuracy: 0.9143 - val_loss: 0.5622 - val_accuracy: 0.8222\n",
            "Epoch 233/300\n",
            "105/105 [==============================] - 0s 261us/sample - loss: 0.5474 - accuracy: 0.9143 - val_loss: 0.5594 - val_accuracy: 0.8444\n",
            "Epoch 234/300\n",
            "105/105 [==============================] - 0s 274us/sample - loss: 0.5452 - accuracy: 0.9143 - val_loss: 0.5579 - val_accuracy: 0.8222\n",
            "Epoch 235/300\n",
            "105/105 [==============================] - 0s 292us/sample - loss: 0.5430 - accuracy: 0.9143 - val_loss: 0.5563 - val_accuracy: 0.8222\n",
            "Epoch 236/300\n",
            "105/105 [==============================] - 0s 262us/sample - loss: 0.5411 - accuracy: 0.9143 - val_loss: 0.5547 - val_accuracy: 0.8222\n",
            "Epoch 237/300\n",
            "105/105 [==============================] - 0s 254us/sample - loss: 0.5389 - accuracy: 0.9143 - val_loss: 0.5531 - val_accuracy: 0.8222\n",
            "Epoch 238/300\n",
            "105/105 [==============================] - 0s 250us/sample - loss: 0.5370 - accuracy: 0.9143 - val_loss: 0.5521 - val_accuracy: 0.8222\n",
            "Epoch 239/300\n",
            "105/105 [==============================] - 0s 235us/sample - loss: 0.5350 - accuracy: 0.9143 - val_loss: 0.5503 - val_accuracy: 0.8222\n",
            "Epoch 240/300\n",
            "105/105 [==============================] - 0s 248us/sample - loss: 0.5333 - accuracy: 0.9143 - val_loss: 0.5492 - val_accuracy: 0.8222\n",
            "Epoch 241/300\n",
            "105/105 [==============================] - 0s 268us/sample - loss: 0.5317 - accuracy: 0.9048 - val_loss: 0.5489 - val_accuracy: 0.8222\n",
            "Epoch 242/300\n",
            "105/105 [==============================] - 0s 313us/sample - loss: 0.5301 - accuracy: 0.8952 - val_loss: 0.5472 - val_accuracy: 0.8222\n",
            "Epoch 243/300\n",
            "105/105 [==============================] - 0s 313us/sample - loss: 0.5281 - accuracy: 0.8952 - val_loss: 0.5446 - val_accuracy: 0.8222\n",
            "Epoch 244/300\n",
            "105/105 [==============================] - 0s 259us/sample - loss: 0.5264 - accuracy: 0.9143 - val_loss: 0.5411 - val_accuracy: 0.8222\n",
            "Epoch 245/300\n",
            "105/105 [==============================] - 0s 248us/sample - loss: 0.5245 - accuracy: 0.9143 - val_loss: 0.5388 - val_accuracy: 0.8444\n",
            "Epoch 246/300\n",
            "105/105 [==============================] - 0s 243us/sample - loss: 0.5226 - accuracy: 0.9143 - val_loss: 0.5361 - val_accuracy: 0.8667\n",
            "Epoch 247/300\n",
            "105/105 [==============================] - 0s 305us/sample - loss: 0.5217 - accuracy: 0.9429 - val_loss: 0.5338 - val_accuracy: 0.8667\n",
            "Epoch 248/300\n",
            "105/105 [==============================] - 0s 253us/sample - loss: 0.5200 - accuracy: 0.9524 - val_loss: 0.5322 - val_accuracy: 0.8667\n",
            "Epoch 249/300\n",
            "105/105 [==============================] - 0s 300us/sample - loss: 0.5180 - accuracy: 0.9524 - val_loss: 0.5310 - val_accuracy: 0.8667\n",
            "Epoch 250/300\n",
            "105/105 [==============================] - 0s 283us/sample - loss: 0.5160 - accuracy: 0.9333 - val_loss: 0.5299 - val_accuracy: 0.8667\n",
            "Epoch 251/300\n",
            "105/105 [==============================] - 0s 271us/sample - loss: 0.5142 - accuracy: 0.9143 - val_loss: 0.5285 - val_accuracy: 0.8444\n",
            "Epoch 252/300\n",
            "105/105 [==============================] - 0s 269us/sample - loss: 0.5124 - accuracy: 0.9333 - val_loss: 0.5261 - val_accuracy: 0.8667\n",
            "Epoch 253/300\n",
            "105/105 [==============================] - 0s 256us/sample - loss: 0.5108 - accuracy: 0.9429 - val_loss: 0.5246 - val_accuracy: 0.8667\n",
            "Epoch 254/300\n",
            "105/105 [==============================] - 0s 284us/sample - loss: 0.5090 - accuracy: 0.9333 - val_loss: 0.5244 - val_accuracy: 0.8222\n",
            "Epoch 255/300\n",
            "105/105 [==============================] - 0s 256us/sample - loss: 0.5072 - accuracy: 0.9143 - val_loss: 0.5237 - val_accuracy: 0.8222\n",
            "Epoch 256/300\n",
            "105/105 [==============================] - 0s 269us/sample - loss: 0.5058 - accuracy: 0.9143 - val_loss: 0.5224 - val_accuracy: 0.8222\n",
            "Epoch 257/300\n",
            "105/105 [==============================] - 0s 302us/sample - loss: 0.5043 - accuracy: 0.9143 - val_loss: 0.5207 - val_accuracy: 0.8222\n",
            "Epoch 258/300\n",
            "105/105 [==============================] - 0s 253us/sample - loss: 0.5026 - accuracy: 0.9143 - val_loss: 0.5193 - val_accuracy: 0.8222\n",
            "Epoch 259/300\n",
            "105/105 [==============================] - 0s 258us/sample - loss: 0.5009 - accuracy: 0.9143 - val_loss: 0.5171 - val_accuracy: 0.8222\n",
            "Epoch 260/300\n",
            "105/105 [==============================] - 0s 246us/sample - loss: 0.4992 - accuracy: 0.9143 - val_loss: 0.5150 - val_accuracy: 0.8222\n",
            "Epoch 261/300\n",
            "105/105 [==============================] - 0s 257us/sample - loss: 0.4975 - accuracy: 0.9143 - val_loss: 0.5127 - val_accuracy: 0.8444\n",
            "Epoch 262/300\n",
            "105/105 [==============================] - 0s 245us/sample - loss: 0.4956 - accuracy: 0.9333 - val_loss: 0.5100 - val_accuracy: 0.8667\n",
            "Epoch 263/300\n",
            "105/105 [==============================] - 0s 263us/sample - loss: 0.4941 - accuracy: 0.9524 - val_loss: 0.5074 - val_accuracy: 0.8667\n",
            "Epoch 264/300\n",
            "105/105 [==============================] - 0s 263us/sample - loss: 0.4932 - accuracy: 0.9619 - val_loss: 0.5049 - val_accuracy: 0.8667\n",
            "Epoch 265/300\n",
            "105/105 [==============================] - 0s 390us/sample - loss: 0.4917 - accuracy: 0.9619 - val_loss: 0.5030 - val_accuracy: 0.8889\n",
            "Epoch 266/300\n",
            "105/105 [==============================] - 0s 336us/sample - loss: 0.4903 - accuracy: 0.9619 - val_loss: 0.5014 - val_accuracy: 0.8889\n",
            "Epoch 267/300\n",
            "105/105 [==============================] - 0s 284us/sample - loss: 0.4882 - accuracy: 0.9619 - val_loss: 0.5007 - val_accuracy: 0.8667\n",
            "Epoch 268/300\n",
            "105/105 [==============================] - 0s 296us/sample - loss: 0.4864 - accuracy: 0.9619 - val_loss: 0.4996 - val_accuracy: 0.8667\n",
            "Epoch 269/300\n",
            "105/105 [==============================] - 0s 313us/sample - loss: 0.4846 - accuracy: 0.9619 - val_loss: 0.4983 - val_accuracy: 0.8667\n",
            "Epoch 270/300\n",
            "105/105 [==============================] - 0s 265us/sample - loss: 0.4831 - accuracy: 0.9619 - val_loss: 0.4966 - val_accuracy: 0.8667\n",
            "Epoch 271/300\n",
            "105/105 [==============================] - 0s 283us/sample - loss: 0.4814 - accuracy: 0.9619 - val_loss: 0.4944 - val_accuracy: 0.8667\n",
            "Epoch 272/300\n",
            "105/105 [==============================] - 0s 278us/sample - loss: 0.4801 - accuracy: 0.9619 - val_loss: 0.4923 - val_accuracy: 0.8889\n",
            "Epoch 273/300\n",
            "105/105 [==============================] - 0s 277us/sample - loss: 0.4784 - accuracy: 0.9619 - val_loss: 0.4910 - val_accuracy: 0.8667\n",
            "Epoch 274/300\n",
            "105/105 [==============================] - 0s 255us/sample - loss: 0.4768 - accuracy: 0.9619 - val_loss: 0.4896 - val_accuracy: 0.8667\n",
            "Epoch 275/300\n",
            "105/105 [==============================] - 0s 259us/sample - loss: 0.4750 - accuracy: 0.9619 - val_loss: 0.4885 - val_accuracy: 0.8667\n",
            "Epoch 276/300\n",
            "105/105 [==============================] - 0s 269us/sample - loss: 0.4737 - accuracy: 0.9619 - val_loss: 0.4878 - val_accuracy: 0.8667\n",
            "Epoch 277/300\n",
            "105/105 [==============================] - 0s 288us/sample - loss: 0.4720 - accuracy: 0.9524 - val_loss: 0.4861 - val_accuracy: 0.8667\n",
            "Epoch 278/300\n",
            "105/105 [==============================] - 0s 261us/sample - loss: 0.4707 - accuracy: 0.9619 - val_loss: 0.4838 - val_accuracy: 0.8667\n",
            "Epoch 279/300\n",
            "105/105 [==============================] - 0s 284us/sample - loss: 0.4687 - accuracy: 0.9619 - val_loss: 0.4819 - val_accuracy: 0.8889\n",
            "Epoch 280/300\n",
            "105/105 [==============================] - 0s 252us/sample - loss: 0.4677 - accuracy: 0.9619 - val_loss: 0.4801 - val_accuracy: 0.8889\n",
            "Epoch 281/300\n",
            "105/105 [==============================] - 0s 246us/sample - loss: 0.4662 - accuracy: 0.9619 - val_loss: 0.4789 - val_accuracy: 0.8889\n",
            "Epoch 282/300\n",
            "105/105 [==============================] - 0s 262us/sample - loss: 0.4642 - accuracy: 0.9619 - val_loss: 0.4773 - val_accuracy: 0.8889\n",
            "Epoch 283/300\n",
            "105/105 [==============================] - 0s 267us/sample - loss: 0.4627 - accuracy: 0.9619 - val_loss: 0.4759 - val_accuracy: 0.8889\n",
            "Epoch 284/300\n",
            "105/105 [==============================] - 0s 266us/sample - loss: 0.4612 - accuracy: 0.9619 - val_loss: 0.4744 - val_accuracy: 0.8889\n",
            "Epoch 285/300\n",
            "105/105 [==============================] - 0s 305us/sample - loss: 0.4597 - accuracy: 0.9619 - val_loss: 0.4730 - val_accuracy: 0.8889\n",
            "Epoch 286/300\n",
            "105/105 [==============================] - 0s 293us/sample - loss: 0.4580 - accuracy: 0.9619 - val_loss: 0.4720 - val_accuracy: 0.8889\n",
            "Epoch 287/300\n",
            "105/105 [==============================] - 0s 244us/sample - loss: 0.4566 - accuracy: 0.9619 - val_loss: 0.4708 - val_accuracy: 0.8889\n",
            "Epoch 288/300\n",
            "105/105 [==============================] - 0s 296us/sample - loss: 0.4552 - accuracy: 0.9619 - val_loss: 0.4691 - val_accuracy: 0.8889\n",
            "Epoch 289/300\n",
            "105/105 [==============================] - 0s 272us/sample - loss: 0.4536 - accuracy: 0.9619 - val_loss: 0.4669 - val_accuracy: 0.8889\n",
            "Epoch 290/300\n",
            "105/105 [==============================] - 0s 246us/sample - loss: 0.4523 - accuracy: 0.9619 - val_loss: 0.4650 - val_accuracy: 0.9333\n",
            "Epoch 291/300\n",
            "105/105 [==============================] - 0s 254us/sample - loss: 0.4509 - accuracy: 0.9619 - val_loss: 0.4638 - val_accuracy: 0.9111\n",
            "Epoch 292/300\n",
            "105/105 [==============================] - 0s 250us/sample - loss: 0.4497 - accuracy: 0.9619 - val_loss: 0.4628 - val_accuracy: 0.8889\n",
            "Epoch 293/300\n",
            "105/105 [==============================] - 0s 287us/sample - loss: 0.4479 - accuracy: 0.9619 - val_loss: 0.4614 - val_accuracy: 0.8889\n",
            "Epoch 294/300\n",
            "105/105 [==============================] - 0s 267us/sample - loss: 0.4464 - accuracy: 0.9619 - val_loss: 0.4599 - val_accuracy: 0.8889\n",
            "Epoch 295/300\n",
            "105/105 [==============================] - 0s 265us/sample - loss: 0.4450 - accuracy: 0.9619 - val_loss: 0.4590 - val_accuracy: 0.8889\n",
            "Epoch 296/300\n",
            "105/105 [==============================] - 0s 277us/sample - loss: 0.4437 - accuracy: 0.9619 - val_loss: 0.4582 - val_accuracy: 0.8889\n",
            "Epoch 297/300\n",
            "105/105 [==============================] - 0s 269us/sample - loss: 0.4422 - accuracy: 0.9619 - val_loss: 0.4567 - val_accuracy: 0.8889\n",
            "Epoch 298/300\n",
            "105/105 [==============================] - 0s 244us/sample - loss: 0.4409 - accuracy: 0.9619 - val_loss: 0.4555 - val_accuracy: 0.8889\n",
            "Epoch 299/300\n",
            "105/105 [==============================] - 0s 352us/sample - loss: 0.4394 - accuracy: 0.9619 - val_loss: 0.4537 - val_accuracy: 0.8889\n",
            "Epoch 300/300\n",
            "105/105 [==============================] - 0s 269us/sample - loss: 0.4381 - accuracy: 0.9619 - val_loss: 0.4523 - val_accuracy: 0.8889\n"
          ],
          "name": "stdout"
        },
        {
          "output_type": "execute_result",
          "data": {
            "text/plain": [
              "<tensorflow.python.keras.callbacks.History at 0x7f57fc3989e8>"
            ]
          },
          "metadata": {
            "tags": []
          },
          "execution_count": 15
        }
      ]
    },
    {
      "cell_type": "markdown",
      "metadata": {
        "id": "Km3ROLWBLQqv",
        "colab_type": "text"
      },
      "source": [
        "Faça o gráfico de acurácia e loss x epochs"
      ]
    },
    {
      "cell_type": "code",
      "metadata": {
        "id": "MTXz1X3z27_P",
        "colab_type": "code",
        "colab": {
          "base_uri": "https://localhost:8080/",
          "height": 281
        },
        "outputId": "e25cf00c-d6ad-4aa9-b3da-8e16a252e748"
      },
      "source": [
        "import matplotlib.pyplot as plt\n",
        "\n",
        "plt.title('Loss versus Ephocs')\n",
        "plt.plot(hist.history['loss'])\n",
        "plt.plot(hist.history['val_loss'])\n",
        "plt.legend(['train', 'test'])\n",
        "\n",
        "plt.show()"
      ],
      "execution_count": 18,
      "outputs": [
        {
          "output_type": "display_data",
          "data": {
            "image/png": "[encoded data removed]",
            "text/plain": [
              "<Figure size 432x288 with 1 Axes>"
            ]
          },
          "metadata": {
            "tags": []
          }
        }
      ]
    },
    {
      "cell_type": "code",
      "metadata": {
        "id": "cKeUy0nE39UZ",
        "colab_type": "code",
        "colab": {
          "base_uri": "https://localhost:8080/",
          "height": 281
        },
        "outputId": "27335fed-9b57-4b42-aaaf-842e5808e0ef"
      },
      "source": [
        "plt.title('Accuracy versus Ephocs')\n",
        "plt.plot(hist.history['accuracy'])\n",
        "plt.plot(hist.history['val_accuracy'])\n",
        "plt.legend(['accuracy', 'test'])\n",
        "\n",
        "plt.show()"
      ],
      "execution_count": 21,
      "outputs": [
        {
          "output_type": "display_data",
          "data": {
            "image/png": "[encoded data removed]",
            "text/plain": [
              "<Figure size 432x288 with 1 Axes>"
            ]
          },
          "metadata": {
            "tags": []
          }
        }
      ]
    },
    {
      "cell_type": "code",
      "metadata": {
        "id": "7g3FVbJBKsrH",
        "colab_type": "code",
        "outputId": "6c356af4-8738-4b75-94e0-bd481c8f9194",
        "colab": {
          "base_uri": "https://localhost:8080/",
          "height": 34
        }
      },
      "source": [
        "model.predict(X[:1])"
      ],
      "execution_count": 22,
      "outputs": [
        {
          "output_type": "execute_result",
          "data": {
            "text/plain": [
              "array([[0.6373685 , 0.25980306, 0.10282845]], dtype=float32)"
            ]
          },
          "metadata": {
            "tags": []
          },
          "execution_count": 22
        }
      ]
    },
    {
      "cell_type": "code",
      "metadata": {
        "id": "dMSJaBK64SNp",
        "colab_type": "code",
        "colab": {
          "base_uri": "https://localhost:8080/",
          "height": 102
        },
        "outputId": "51ab8a19-157e-4c44-ca60-40bb83092cb5"
      },
      "source": [
        "model.predict_classes(X[:100])"
      ],
      "execution_count": 28,
      "outputs": [
        {
          "output_type": "execute_result",
          "data": {
            "text/plain": [
              "array([0, 0, 0, 0, 0, 0, 0, 0, 0, 0, 0, 0, 0, 0, 0, 0, 0, 0, 0, 0, 0, 0,\n",
              "       0, 0, 0, 0, 0, 0, 0, 0, 0, 0, 0, 0, 0, 0, 0, 0, 0, 0, 0, 0, 0, 0,\n",
              "       0, 0, 0, 0, 0, 0, 1, 1, 1, 1, 1, 1, 2, 1, 1, 1, 1, 1, 1, 1, 1, 1,\n",
              "       2, 1, 1, 1, 2, 1, 2, 1, 1, 1, 1, 2, 2, 1, 1, 1, 1, 2, 2, 2, 1, 1,\n",
              "       1, 1, 1, 1, 1, 1, 1, 1, 1, 1, 1, 1])"
            ]
          },
          "metadata": {
            "tags": []
          },
          "execution_count": 28
        }
      ]
    },
    {
      "cell_type": "markdown",
      "metadata": {
        "id": "u_iUiLI25D95",
        "colab_type": "text"
      },
      "source": [
        "Parte 2: montando o modelo com base nos pesos"
      ]
    },
    {
      "cell_type": "markdown",
      "metadata": {
        "id": "T6p9IKxd6L5L",
        "colab_type": "text"
      },
      "source": [
        "Usaremos a função ativadora RELU"
      ]
    },
    {
      "cell_type": "code",
      "metadata": {
        "id": "mO0zdXb-6PRo",
        "colab_type": "code",
        "colab": {}
      },
      "source": [
        "def relu(x):\n",
        "  if x<=0:return 0.0\n",
        "  else: return x"
      ],
      "execution_count": 0,
      "outputs": []
    },
    {
      "cell_type": "markdown",
      "metadata": {
        "id": "AU6zJWKAHWbS",
        "colab_type": "text"
      },
      "source": [
        "Perceptron"
      ]
    },
    {
      "cell_type": "code",
      "metadata": {
        "id": "S_6C81daHZ3M",
        "colab_type": "code",
        "colab": {}
      },
      "source": [
        "def perceptron(inp,w,b,f):\n",
        "  return f(np.inner(inp,w)+b)"
      ],
      "execution_count": 0,
      "outputs": []
    },
    {
      "cell_type": "code",
      "metadata": {
        "id": "2Dem_FN3hzyB",
        "colab_type": "code",
        "outputId": "5cf90cb9-806d-45a8-afb2-05ce1ae96887",
        "colab": {
          "base_uri": "https://localhost:8080/",
          "height": 217
        }
      },
      "source": [
        "model.get_weights()"
      ],
      "execution_count": 0,
      "outputs": [
        {
          "output_type": "execute_result",
          "data": {
            "text/plain": [
              "[array([[-0.74580956, -0.19567741],\n",
              "        [ 0.45900488, -0.02527924],\n",
              "        [ 0.5814996 ,  0.8346908 ],\n",
              "        [-0.29675865,  0.84747934]], dtype=float32),\n",
              " array([ 0.        , -0.34895247], dtype=float32),\n",
              " array([[-0.58017397,  0.08825731],\n",
              "        [-0.7011869 ,  1.350685  ]], dtype=float32),\n",
              " array([ 0.       , -0.3502947], dtype=float32),\n",
              " array([[-0.48637426, -0.68442154,  0.5989504 ],\n",
              "        [-0.603194  ,  0.27456725,  0.43675938]], dtype=float32),\n",
              " array([ 0.8821742 , -0.0500871 , -0.65853524], dtype=float32)]"
            ]
          },
          "metadata": {
            "tags": []
          },
          "execution_count": 38
        }
      ]
    },
    {
      "cell_type": "code",
      "metadata": {
        "id": "4MP_AOzWh7YI",
        "colab_type": "code",
        "outputId": "93891b4f-a30f-4d22-cec1-045eaf125309",
        "colab": {
          "base_uri": "https://localhost:8080/",
          "height": 90
        }
      },
      "source": [
        "list_w=model.get_weights()\n",
        "w1=list_w[0]\n",
        "w1"
      ],
      "execution_count": 0,
      "outputs": [
        {
          "output_type": "execute_result",
          "data": {
            "text/plain": [
              "array([[-0.74580956, -0.19567741],\n",
              "       [ 0.45900488, -0.02527924],\n",
              "       [ 0.5814996 ,  0.8346908 ],\n",
              "       [-0.29675865,  0.84747934]], dtype=float32)"
            ]
          },
          "metadata": {
            "tags": []
          },
          "execution_count": 43
        }
      ]
    }
  ]
}