{
  "nbformat": 4,
  "nbformat_minor": 0,
  "metadata": {
    "kernelspec": {
      "name": "python3",
      "display_name": "Python 3"
    },
    "language_info": {
      "codemirror_mode": {
        "name": "ipython",
        "version": 3
      },
      "file_extension": ".py",
      "mimetype": "text/x-python",
      "name": "python",
      "nbconvert_exporter": "python",
      "pygments_lexer": "ipython3",
      "version": "3.6.5"
    },
    "colab": {
      "name": "deep_iris2 .ipynb",
      "provenance": [],
      "include_colab_link": true
    },
    "accelerator": "GPU"
  },
  "cells": [
    {
      "cell_type": "markdown",
      "metadata": {
        "id": "view-in-github",
        "colab_type": "text"
      },
      "source": [
        "<a href=\"https://colab.research.google.com/github/douglasbarbosadelima/Data-Science/blob/master/deep_iris2_multiclass_classify.ipynb\" target=\"_parent\"><img src=\"https://colab.research.google.com/assets/colab-badge.svg\" alt=\"Open In Colab\"/></a>"
      ]
    },
    {
      "cell_type": "markdown",
      "metadata": {
        "id": "nFFlrJEyR_iN",
        "colab_type": "text"
      },
      "source": [
        "Classificação Multiclasse com Iris e TF 2.0"
      ]
    },
    {
      "cell_type": "markdown",
      "metadata": {
        "id": "0ehhQFEK449e",
        "colab_type": "text"
      },
      "source": [
        "Parte 1: montando e calibrando o modelo"
      ]
    },
    {
      "cell_type": "code",
      "metadata": {
        "id": "PLY0Ut32SMMb",
        "colab_type": "code",
        "outputId": "09f89190-09c2-4415-dc17-726197f65729",
        "colab": {
          "base_uri": "https://localhost:8080/",
          "height": 894
        }
      },
      "source": [
        "!pip install tensorflow-gpu==2.0.0 #com GPU"
      ],
      "execution_count": 0,
      "outputs": [
        {
          "output_type": "stream",
          "text": [
            "Collecting tensorflow-gpu==2.0.0\n",
            "\u001b[?25l  Downloading https://files.pythonhosted.org/packages/25/44/47f0722aea081697143fbcf5d2aa60d1aee4aaacb5869aee2b568974777b/tensorflow_gpu-2.0.0-cp36-cp36m-manylinux2010_x86_64.whl (380.8MB)\n",
            "\u001b[K     |████████████████████████████████| 380.8MB 36kB/s \n",
            "\u001b[?25hRequirement already satisfied: numpy<2.0,>=1.16.0 in /usr/local/lib/python3.6/dist-packages (from tensorflow-gpu==2.0.0) (1.17.5)\n",
            "Requirement already satisfied: six>=1.10.0 in /usr/local/lib/python3.6/dist-packages (from tensorflow-gpu==2.0.0) (1.12.0)\n",
            "Requirement already satisfied: keras-preprocessing>=1.0.5 in /usr/local/lib/python3.6/dist-packages (from tensorflow-gpu==2.0.0) (1.1.0)\n",
            "Requirement already satisfied: wrapt>=1.11.1 in /usr/local/lib/python3.6/dist-packages (from tensorflow-gpu==2.0.0) (1.11.2)\n",
            "Requirement already satisfied: gast==0.2.2 in /usr/local/lib/python3.6/dist-packages (from tensorflow-gpu==2.0.0) (0.2.2)\n",
            "Requirement already satisfied: opt-einsum>=2.3.2 in /usr/local/lib/python3.6/dist-packages (from tensorflow-gpu==2.0.0) (3.1.0)\n",
            "Requirement already satisfied: wheel>=0.26 in /usr/local/lib/python3.6/dist-packages (from tensorflow-gpu==2.0.0) (0.34.2)\n",
            "Requirement already satisfied: astor>=0.6.0 in /usr/local/lib/python3.6/dist-packages (from tensorflow-gpu==2.0.0) (0.8.1)\n",
            "Collecting tensorboard<2.1.0,>=2.0.0\n",
            "\u001b[?25l  Downloading https://files.pythonhosted.org/packages/76/54/99b9d5d52d5cb732f099baaaf7740403e83fe6b0cedde940fabd2b13d75a/tensorboard-2.0.2-py3-none-any.whl (3.8MB)\n",
            "\u001b[K     |████████████████████████████████| 3.8MB 43.3MB/s \n",
            "\u001b[?25hRequirement already satisfied: termcolor>=1.1.0 in /usr/local/lib/python3.6/dist-packages (from tensorflow-gpu==2.0.0) (1.1.0)\n",
            "Requirement already satisfied: absl-py>=0.7.0 in /usr/local/lib/python3.6/dist-packages (from tensorflow-gpu==2.0.0) (0.9.0)\n",
            "Requirement already satisfied: google-pasta>=0.1.6 in /usr/local/lib/python3.6/dist-packages (from tensorflow-gpu==2.0.0) (0.1.8)\n",
            "Requirement already satisfied: grpcio>=1.8.6 in /usr/local/lib/python3.6/dist-packages (from tensorflow-gpu==2.0.0) (1.27.1)\n",
            "Requirement already satisfied: protobuf>=3.6.1 in /usr/local/lib/python3.6/dist-packages (from tensorflow-gpu==2.0.0) (3.10.0)\n",
            "Requirement already satisfied: keras-applications>=1.0.8 in /usr/local/lib/python3.6/dist-packages (from tensorflow-gpu==2.0.0) (1.0.8)\n",
            "Collecting tensorflow-estimator<2.1.0,>=2.0.0\n",
            "\u001b[?25l  Downloading https://files.pythonhosted.org/packages/fc/08/8b927337b7019c374719145d1dceba21a8bb909b93b1ad6f8fb7d22c1ca1/tensorflow_estimator-2.0.1-py2.py3-none-any.whl (449kB)\n",
            "\u001b[K     |████████████████████████████████| 450kB 49.8MB/s \n",
            "\u001b[?25hRequirement already satisfied: google-auth<2,>=1.6.3 in /usr/local/lib/python3.6/dist-packages (from tensorboard<2.1.0,>=2.0.0->tensorflow-gpu==2.0.0) (1.7.2)\n",
            "Requirement already satisfied: setuptools>=41.0.0 in /usr/local/lib/python3.6/dist-packages (from tensorboard<2.1.0,>=2.0.0->tensorflow-gpu==2.0.0) (45.1.0)\n",
            "Requirement already satisfied: requests<3,>=2.21.0 in /usr/local/lib/python3.6/dist-packages (from tensorboard<2.1.0,>=2.0.0->tensorflow-gpu==2.0.0) (2.21.0)\n",
            "Requirement already satisfied: werkzeug>=0.11.15 in /usr/local/lib/python3.6/dist-packages (from tensorboard<2.1.0,>=2.0.0->tensorflow-gpu==2.0.0) (1.0.0)\n",
            "Requirement already satisfied: markdown>=2.6.8 in /usr/local/lib/python3.6/dist-packages (from tensorboard<2.1.0,>=2.0.0->tensorflow-gpu==2.0.0) (3.2.1)\n",
            "Requirement already satisfied: google-auth-oauthlib<0.5,>=0.4.1 in /usr/local/lib/python3.6/dist-packages (from tensorboard<2.1.0,>=2.0.0->tensorflow-gpu==2.0.0) (0.4.1)\n",
            "Requirement already satisfied: h5py in /usr/local/lib/python3.6/dist-packages (from keras-applications>=1.0.8->tensorflow-gpu==2.0.0) (2.8.0)\n",
            "Requirement already satisfied: rsa<4.1,>=3.1.4 in /usr/local/lib/python3.6/dist-packages (from google-auth<2,>=1.6.3->tensorboard<2.1.0,>=2.0.0->tensorflow-gpu==2.0.0) (4.0)\n",
            "Requirement already satisfied: pyasn1-modules>=0.2.1 in /usr/local/lib/python3.6/dist-packages (from google-auth<2,>=1.6.3->tensorboard<2.1.0,>=2.0.0->tensorflow-gpu==2.0.0) (0.2.8)\n",
            "Requirement already satisfied: cachetools<3.2,>=2.0.0 in /usr/local/lib/python3.6/dist-packages (from google-auth<2,>=1.6.3->tensorboard<2.1.0,>=2.0.0->tensorflow-gpu==2.0.0) (3.1.1)\n",
            "Requirement already satisfied: chardet<3.1.0,>=3.0.2 in /usr/local/lib/python3.6/dist-packages (from requests<3,>=2.21.0->tensorboard<2.1.0,>=2.0.0->tensorflow-gpu==2.0.0) (3.0.4)\n",
            "Requirement already satisfied: certifi>=2017.4.17 in /usr/local/lib/python3.6/dist-packages (from requests<3,>=2.21.0->tensorboard<2.1.0,>=2.0.0->tensorflow-gpu==2.0.0) (2019.11.28)\n",
            "Requirement already satisfied: idna<2.9,>=2.5 in /usr/local/lib/python3.6/dist-packages (from requests<3,>=2.21.0->tensorboard<2.1.0,>=2.0.0->tensorflow-gpu==2.0.0) (2.8)\n",
            "Requirement already satisfied: urllib3<1.25,>=1.21.1 in /usr/local/lib/python3.6/dist-packages (from requests<3,>=2.21.0->tensorboard<2.1.0,>=2.0.0->tensorflow-gpu==2.0.0) (1.24.3)\n",
            "Requirement already satisfied: requests-oauthlib>=0.7.0 in /usr/local/lib/python3.6/dist-packages (from google-auth-oauthlib<0.5,>=0.4.1->tensorboard<2.1.0,>=2.0.0->tensorflow-gpu==2.0.0) (1.3.0)\n",
            "Requirement already satisfied: pyasn1>=0.1.3 in /usr/local/lib/python3.6/dist-packages (from rsa<4.1,>=3.1.4->google-auth<2,>=1.6.3->tensorboard<2.1.0,>=2.0.0->tensorflow-gpu==2.0.0) (0.4.8)\n",
            "Requirement already satisfied: oauthlib>=3.0.0 in /usr/local/lib/python3.6/dist-packages (from requests-oauthlib>=0.7.0->google-auth-oauthlib<0.5,>=0.4.1->tensorboard<2.1.0,>=2.0.0->tensorflow-gpu==2.0.0) (3.1.0)\n",
            "\u001b[31mERROR: tensorflow 1.15.0 has requirement tensorboard<1.16.0,>=1.15.0, but you'll have tensorboard 2.0.2 which is incompatible.\u001b[0m\n",
            "\u001b[31mERROR: tensorflow 1.15.0 has requirement tensorflow-estimator==1.15.1, but you'll have tensorflow-estimator 2.0.1 which is incompatible.\u001b[0m\n",
            "Installing collected packages: tensorboard, tensorflow-estimator, tensorflow-gpu\n",
            "  Found existing installation: tensorboard 1.15.0\n",
            "    Uninstalling tensorboard-1.15.0:\n",
            "      Successfully uninstalled tensorboard-1.15.0\n",
            "  Found existing installation: tensorflow-estimator 1.15.1\n",
            "    Uninstalling tensorflow-estimator-1.15.1:\n",
            "      Successfully uninstalled tensorflow-estimator-1.15.1\n",
            "Successfully installed tensorboard-2.0.2 tensorflow-estimator-2.0.1 tensorflow-gpu-2.0.0\n"
          ],
          "name": "stdout"
        }
      ]
    },
    {
      "cell_type": "code",
      "metadata": {
        "id": "Jte8_L_eTN26",
        "colab_type": "code",
        "outputId": "afb4e0b5-0d1b-4927-a69c-5540d61104df",
        "colab": {
          "base_uri": "https://localhost:8080/",
          "height": 34
        }
      },
      "source": [
        "import tensorflow as tf\n",
        "import numpy as np\n",
        "print(tf.__version__)"
      ],
      "execution_count": 0,
      "outputs": [
        {
          "output_type": "stream",
          "text": [
            "2.0.0\n"
          ],
          "name": "stdout"
        }
      ]
    },
    {
      "cell_type": "code",
      "metadata": {
        "id": "M1vkzIf8Y3eP",
        "colab_type": "code",
        "outputId": "faf27ef8-2d7a-48d9-c4ee-4189ee2d9ef7",
        "colab": {
          "base_uri": "https://localhost:8080/",
          "height": 1000
        }
      },
      "source": [
        "from sklearn import datasets\n",
        "iris = datasets.load_iris()\n",
        "\n",
        "X = iris.data\n",
        "X"
      ],
      "execution_count": 0,
      "outputs": [
        {
          "output_type": "execute_result",
          "data": {
            "text/plain": [
              "array([[5.1, 3.5, 1.4, 0.2],\n",
              "       [4.9, 3. , 1.4, 0.2],\n",
              "       [4.7, 3.2, 1.3, 0.2],\n",
              "       [4.6, 3.1, 1.5, 0.2],\n",
              "       [5. , 3.6, 1.4, 0.2],\n",
              "       [5.4, 3.9, 1.7, 0.4],\n",
              "       [4.6, 3.4, 1.4, 0.3],\n",
              "       [5. , 3.4, 1.5, 0.2],\n",
              "       [4.4, 2.9, 1.4, 0.2],\n",
              "       [4.9, 3.1, 1.5, 0.1],\n",
              "       [5.4, 3.7, 1.5, 0.2],\n",
              "       [4.8, 3.4, 1.6, 0.2],\n",
              "       [4.8, 3. , 1.4, 0.1],\n",
              "       [4.3, 3. , 1.1, 0.1],\n",
              "       [5.8, 4. , 1.2, 0.2],\n",
              "       [5.7, 4.4, 1.5, 0.4],\n",
              "       [5.4, 3.9, 1.3, 0.4],\n",
              "       [5.1, 3.5, 1.4, 0.3],\n",
              "       [5.7, 3.8, 1.7, 0.3],\n",
              "       [5.1, 3.8, 1.5, 0.3],\n",
              "       [5.4, 3.4, 1.7, 0.2],\n",
              "       [5.1, 3.7, 1.5, 0.4],\n",
              "       [4.6, 3.6, 1. , 0.2],\n",
              "       [5.1, 3.3, 1.7, 0.5],\n",
              "       [4.8, 3.4, 1.9, 0.2],\n",
              "       [5. , 3. , 1.6, 0.2],\n",
              "       [5. , 3.4, 1.6, 0.4],\n",
              "       [5.2, 3.5, 1.5, 0.2],\n",
              "       [5.2, 3.4, 1.4, 0.2],\n",
              "       [4.7, 3.2, 1.6, 0.2],\n",
              "       [4.8, 3.1, 1.6, 0.2],\n",
              "       [5.4, 3.4, 1.5, 0.4],\n",
              "       [5.2, 4.1, 1.5, 0.1],\n",
              "       [5.5, 4.2, 1.4, 0.2],\n",
              "       [4.9, 3.1, 1.5, 0.2],\n",
              "       [5. , 3.2, 1.2, 0.2],\n",
              "       [5.5, 3.5, 1.3, 0.2],\n",
              "       [4.9, 3.6, 1.4, 0.1],\n",
              "       [4.4, 3. , 1.3, 0.2],\n",
              "       [5.1, 3.4, 1.5, 0.2],\n",
              "       [5. , 3.5, 1.3, 0.3],\n",
              "       [4.5, 2.3, 1.3, 0.3],\n",
              "       [4.4, 3.2, 1.3, 0.2],\n",
              "       [5. , 3.5, 1.6, 0.6],\n",
              "       [5.1, 3.8, 1.9, 0.4],\n",
              "       [4.8, 3. , 1.4, 0.3],\n",
              "       [5.1, 3.8, 1.6, 0.2],\n",
              "       [4.6, 3.2, 1.4, 0.2],\n",
              "       [5.3, 3.7, 1.5, 0.2],\n",
              "       [5. , 3.3, 1.4, 0.2],\n",
              "       [7. , 3.2, 4.7, 1.4],\n",
              "       [6.4, 3.2, 4.5, 1.5],\n",
              "       [6.9, 3.1, 4.9, 1.5],\n",
              "       [5.5, 2.3, 4. , 1.3],\n",
              "       [6.5, 2.8, 4.6, 1.5],\n",
              "       [5.7, 2.8, 4.5, 1.3],\n",
              "       [6.3, 3.3, 4.7, 1.6],\n",
              "       [4.9, 2.4, 3.3, 1. ],\n",
              "       [6.6, 2.9, 4.6, 1.3],\n",
              "       [5.2, 2.7, 3.9, 1.4],\n",
              "       [5. , 2. , 3.5, 1. ],\n",
              "       [5.9, 3. , 4.2, 1.5],\n",
              "       [6. , 2.2, 4. , 1. ],\n",
              "       [6.1, 2.9, 4.7, 1.4],\n",
              "       [5.6, 2.9, 3.6, 1.3],\n",
              "       [6.7, 3.1, 4.4, 1.4],\n",
              "       [5.6, 3. , 4.5, 1.5],\n",
              "       [5.8, 2.7, 4.1, 1. ],\n",
              "       [6.2, 2.2, 4.5, 1.5],\n",
              "       [5.6, 2.5, 3.9, 1.1],\n",
              "       [5.9, 3.2, 4.8, 1.8],\n",
              "       [6.1, 2.8, 4. , 1.3],\n",
              "       [6.3, 2.5, 4.9, 1.5],\n",
              "       [6.1, 2.8, 4.7, 1.2],\n",
              "       [6.4, 2.9, 4.3, 1.3],\n",
              "       [6.6, 3. , 4.4, 1.4],\n",
              "       [6.8, 2.8, 4.8, 1.4],\n",
              "       [6.7, 3. , 5. , 1.7],\n",
              "       [6. , 2.9, 4.5, 1.5],\n",
              "       [5.7, 2.6, 3.5, 1. ],\n",
              "       [5.5, 2.4, 3.8, 1.1],\n",
              "       [5.5, 2.4, 3.7, 1. ],\n",
              "       [5.8, 2.7, 3.9, 1.2],\n",
              "       [6. , 2.7, 5.1, 1.6],\n",
              "       [5.4, 3. , 4.5, 1.5],\n",
              "       [6. , 3.4, 4.5, 1.6],\n",
              "       [6.7, 3.1, 4.7, 1.5],\n",
              "       [6.3, 2.3, 4.4, 1.3],\n",
              "       [5.6, 3. , 4.1, 1.3],\n",
              "       [5.5, 2.5, 4. , 1.3],\n",
              "       [5.5, 2.6, 4.4, 1.2],\n",
              "       [6.1, 3. , 4.6, 1.4],\n",
              "       [5.8, 2.6, 4. , 1.2],\n",
              "       [5. , 2.3, 3.3, 1. ],\n",
              "       [5.6, 2.7, 4.2, 1.3],\n",
              "       [5.7, 3. , 4.2, 1.2],\n",
              "       [5.7, 2.9, 4.2, 1.3],\n",
              "       [6.2, 2.9, 4.3, 1.3],\n",
              "       [5.1, 2.5, 3. , 1.1],\n",
              "       [5.7, 2.8, 4.1, 1.3],\n",
              "       [6.3, 3.3, 6. , 2.5],\n",
              "       [5.8, 2.7, 5.1, 1.9],\n",
              "       [7.1, 3. , 5.9, 2.1],\n",
              "       [6.3, 2.9, 5.6, 1.8],\n",
              "       [6.5, 3. , 5.8, 2.2],\n",
              "       [7.6, 3. , 6.6, 2.1],\n",
              "       [4.9, 2.5, 4.5, 1.7],\n",
              "       [7.3, 2.9, 6.3, 1.8],\n",
              "       [6.7, 2.5, 5.8, 1.8],\n",
              "       [7.2, 3.6, 6.1, 2.5],\n",
              "       [6.5, 3.2, 5.1, 2. ],\n",
              "       [6.4, 2.7, 5.3, 1.9],\n",
              "       [6.8, 3. , 5.5, 2.1],\n",
              "       [5.7, 2.5, 5. , 2. ],\n",
              "       [5.8, 2.8, 5.1, 2.4],\n",
              "       [6.4, 3.2, 5.3, 2.3],\n",
              "       [6.5, 3. , 5.5, 1.8],\n",
              "       [7.7, 3.8, 6.7, 2.2],\n",
              "       [7.7, 2.6, 6.9, 2.3],\n",
              "       [6. , 2.2, 5. , 1.5],\n",
              "       [6.9, 3.2, 5.7, 2.3],\n",
              "       [5.6, 2.8, 4.9, 2. ],\n",
              "       [7.7, 2.8, 6.7, 2. ],\n",
              "       [6.3, 2.7, 4.9, 1.8],\n",
              "       [6.7, 3.3, 5.7, 2.1],\n",
              "       [7.2, 3.2, 6. , 1.8],\n",
              "       [6.2, 2.8, 4.8, 1.8],\n",
              "       [6.1, 3. , 4.9, 1.8],\n",
              "       [6.4, 2.8, 5.6, 2.1],\n",
              "       [7.2, 3. , 5.8, 1.6],\n",
              "       [7.4, 2.8, 6.1, 1.9],\n",
              "       [7.9, 3.8, 6.4, 2. ],\n",
              "       [6.4, 2.8, 5.6, 2.2],\n",
              "       [6.3, 2.8, 5.1, 1.5],\n",
              "       [6.1, 2.6, 5.6, 1.4],\n",
              "       [7.7, 3. , 6.1, 2.3],\n",
              "       [6.3, 3.4, 5.6, 2.4],\n",
              "       [6.4, 3.1, 5.5, 1.8],\n",
              "       [6. , 3. , 4.8, 1.8],\n",
              "       [6.9, 3.1, 5.4, 2.1],\n",
              "       [6.7, 3.1, 5.6, 2.4],\n",
              "       [6.9, 3.1, 5.1, 2.3],\n",
              "       [5.8, 2.7, 5.1, 1.9],\n",
              "       [6.8, 3.2, 5.9, 2.3],\n",
              "       [6.7, 3.3, 5.7, 2.5],\n",
              "       [6.7, 3. , 5.2, 2.3],\n",
              "       [6.3, 2.5, 5. , 1.9],\n",
              "       [6.5, 3. , 5.2, 2. ],\n",
              "       [6.2, 3.4, 5.4, 2.3],\n",
              "       [5.9, 3. , 5.1, 1.8]])"
            ]
          },
          "metadata": {
            "tags": []
          },
          "execution_count": 3
        }
      ]
    },
    {
      "cell_type": "code",
      "metadata": {
        "id": "oq3WFyBxY3eW",
        "colab_type": "code",
        "outputId": "bc181311-f473-453a-d753-aab00b7a39f0",
        "colab": {
          "base_uri": "https://localhost:8080/",
          "height": 34
        }
      },
      "source": [
        "y = iris.target\n",
        "y[:10]"
      ],
      "execution_count": 0,
      "outputs": [
        {
          "output_type": "execute_result",
          "data": {
            "text/plain": [
              "array([0, 0, 0, 0, 0, 0, 0, 0, 0, 0])"
            ]
          },
          "metadata": {
            "tags": []
          },
          "execution_count": 4
        }
      ]
    },
    {
      "cell_type": "code",
      "metadata": {
        "id": "H9z8YRhTY3ee",
        "colab_type": "code",
        "outputId": "bdd96c84-0852-4236-8e64-06192d8ea4ca",
        "colab": {
          "base_uri": "https://localhost:8080/",
          "height": 34
        }
      },
      "source": [
        "from sklearn.preprocessing import OneHotEncoder\n",
        "onehot = OneHotEncoder()\n",
        "y.shape"
      ],
      "execution_count": 0,
      "outputs": [
        {
          "output_type": "execute_result",
          "data": {
            "text/plain": [
              "(150,)"
            ]
          },
          "metadata": {
            "tags": []
          },
          "execution_count": 5
        }
      ]
    },
    {
      "cell_type": "code",
      "metadata": {
        "id": "FEHyEASzY3eh",
        "colab_type": "code",
        "colab": {}
      },
      "source": [
        "# y é (150,)...mude para(150,1)\n",
        "y=y.reshape((150,1))"
      ],
      "execution_count": 0,
      "outputs": []
    },
    {
      "cell_type": "code",
      "metadata": {
        "id": "kMpv9Vg4Y3el",
        "colab_type": "code",
        "outputId": "cc9aa0f7-ce65-4b9a-8257-72e2a6b46bba",
        "colab": {
          "base_uri": "https://localhost:8080/",
          "height": 188
        }
      },
      "source": [
        "y = onehot.fit_transform(y).toarray()\n",
        "y[:10]"
      ],
      "execution_count": 0,
      "outputs": [
        {
          "output_type": "execute_result",
          "data": {
            "text/plain": [
              "array([[1., 0., 0.],\n",
              "       [1., 0., 0.],\n",
              "       [1., 0., 0.],\n",
              "       [1., 0., 0.],\n",
              "       [1., 0., 0.],\n",
              "       [1., 0., 0.],\n",
              "       [1., 0., 0.],\n",
              "       [1., 0., 0.],\n",
              "       [1., 0., 0.],\n",
              "       [1., 0., 0.]])"
            ]
          },
          "metadata": {
            "tags": []
          },
          "execution_count": 7
        }
      ]
    },
    {
      "cell_type": "code",
      "metadata": {
        "id": "qKeMwtJbY3eo",
        "colab_type": "code",
        "colab": {}
      },
      "source": [
        "from sklearn.model_selection import train_test_split\n",
        "X_train, X_test, y_train, y_test = train_test_split(X, y, test_size = 0.3)"
      ],
      "execution_count": 0,
      "outputs": []
    },
    {
      "cell_type": "code",
      "metadata": {
        "id": "3PbP4TDkY3e3",
        "colab_type": "code",
        "colab": {}
      },
      "source": [
        "#crie o modelo com duas hidden layers de 4 perceptrons, relu e 3 outputs\n",
        "#com softmax \n",
        "model = tf.keras.models.Sequential()\n",
        "model.add(tf.keras.layers.Dense(2, activation='relu',input_shape=(4,)))\n",
        "model.add(tf.keras.layers.Dense(2, activation='relu'))\n",
        "model.add(tf.keras.layers.Dense(3, activation='softmax'))"
      ],
      "execution_count": 0,
      "outputs": []
    },
    {
      "cell_type": "code",
      "metadata": {
        "id": "gXrntr4DZvvQ",
        "colab_type": "code",
        "outputId": "232c8ce2-ec21-44cf-a972-4c6455033eba",
        "colab": {
          "base_uri": "https://localhost:8080/",
          "height": 1000
        }
      },
      "source": [
        "model.compile(optimizer='adam', loss='categorical_crossentropy', metrics=['accuracy'])\n",
        "hist=model.fit(x=X_train,y=y_train, validation_data=(X_test, y_test),epochs=300)"
      ],
      "execution_count": 0,
      "outputs": [
        {
          "output_type": "stream",
          "text": [
            "Train on 105 samples, validate on 45 samples\n",
            "Epoch 1/300\n",
            "105/105 [==============================] - 2s 17ms/sample - loss: 2.1541 - accuracy: 0.2857 - val_loss: 1.5984 - val_accuracy: 0.4444\n",
            "Epoch 2/300\n",
            "105/105 [==============================] - 0s 351us/sample - loss: 2.0702 - accuracy: 0.2857 - val_loss: 1.5410 - val_accuracy: 0.4444\n",
            "Epoch 3/300\n",
            "105/105 [==============================] - 0s 268us/sample - loss: 1.9918 - accuracy: 0.2857 - val_loss: 1.4856 - val_accuracy: 0.4444\n",
            "Epoch 4/300\n",
            "105/105 [==============================] - 0s 248us/sample - loss: 1.9171 - accuracy: 0.2857 - val_loss: 1.4324 - val_accuracy: 0.4444\n",
            "Epoch 5/300\n",
            "105/105 [==============================] - 0s 285us/sample - loss: 1.8422 - accuracy: 0.2857 - val_loss: 1.3826 - val_accuracy: 0.4444\n",
            "Epoch 6/300\n",
            "105/105 [==============================] - 0s 273us/sample - loss: 1.7740 - accuracy: 0.2857 - val_loss: 1.3355 - val_accuracy: 0.4444\n",
            "Epoch 7/300\n",
            "105/105 [==============================] - 0s 256us/sample - loss: 1.7067 - accuracy: 0.2857 - val_loss: 1.2923 - val_accuracy: 0.4444\n",
            "Epoch 8/300\n",
            "105/105 [==============================] - 0s 248us/sample - loss: 1.6459 - accuracy: 0.2857 - val_loss: 1.2520 - val_accuracy: 0.4444\n",
            "Epoch 9/300\n",
            "105/105 [==============================] - 0s 266us/sample - loss: 1.5914 - accuracy: 0.2857 - val_loss: 1.2146 - val_accuracy: 0.4444\n",
            "Epoch 10/300\n",
            "105/105 [==============================] - 0s 301us/sample - loss: 1.5356 - accuracy: 0.2857 - val_loss: 1.1816 - val_accuracy: 0.4444\n",
            "Epoch 11/300\n",
            "105/105 [==============================] - 0s 311us/sample - loss: 1.4846 - accuracy: 0.2857 - val_loss: 1.1518 - val_accuracy: 0.4444\n",
            "Epoch 12/300\n",
            "105/105 [==============================] - 0s 295us/sample - loss: 1.4413 - accuracy: 0.2857 - val_loss: 1.1241 - val_accuracy: 0.4444\n",
            "Epoch 13/300\n",
            "105/105 [==============================] - 0s 256us/sample - loss: 1.3989 - accuracy: 0.2857 - val_loss: 1.0991 - val_accuracy: 0.4444\n",
            "Epoch 14/300\n",
            "105/105 [==============================] - 0s 254us/sample - loss: 1.3573 - accuracy: 0.2857 - val_loss: 1.0772 - val_accuracy: 0.4444\n",
            "Epoch 15/300\n",
            "105/105 [==============================] - 0s 312us/sample - loss: 1.3212 - accuracy: 0.2857 - val_loss: 1.0570 - val_accuracy: 0.4444\n",
            "Epoch 16/300\n",
            "105/105 [==============================] - 0s 271us/sample - loss: 1.2867 - accuracy: 0.2857 - val_loss: 1.0389 - val_accuracy: 0.4444\n",
            "Epoch 17/300\n",
            "105/105 [==============================] - 0s 273us/sample - loss: 1.2554 - accuracy: 0.2857 - val_loss: 1.0231 - val_accuracy: 0.4444\n",
            "Epoch 18/300\n",
            "105/105 [==============================] - 0s 268us/sample - loss: 1.2251 - accuracy: 0.2857 - val_loss: 1.0097 - val_accuracy: 0.4444\n",
            "Epoch 19/300\n",
            "105/105 [==============================] - 0s 309us/sample - loss: 1.1967 - accuracy: 0.2857 - val_loss: 0.9986 - val_accuracy: 0.4444\n",
            "Epoch 20/300\n",
            "105/105 [==============================] - 0s 308us/sample - loss: 1.1737 - accuracy: 0.2857 - val_loss: 0.9893 - val_accuracy: 0.4444\n",
            "Epoch 21/300\n",
            "105/105 [==============================] - 0s 270us/sample - loss: 1.1515 - accuracy: 0.2857 - val_loss: 0.9815 - val_accuracy: 0.4444\n",
            "Epoch 22/300\n",
            "105/105 [==============================] - 0s 271us/sample - loss: 1.1309 - accuracy: 0.2857 - val_loss: 0.9754 - val_accuracy: 0.4444\n",
            "Epoch 23/300\n",
            "105/105 [==============================] - 0s 283us/sample - loss: 1.1136 - accuracy: 0.2857 - val_loss: 0.9706 - val_accuracy: 0.4444\n",
            "Epoch 24/300\n",
            "105/105 [==============================] - 0s 304us/sample - loss: 1.0990 - accuracy: 0.2857 - val_loss: 0.9671 - val_accuracy: 0.4444\n",
            "Epoch 25/300\n",
            "105/105 [==============================] - 0s 288us/sample - loss: 1.0861 - accuracy: 0.2857 - val_loss: 0.9645 - val_accuracy: 0.4444\n",
            "Epoch 26/300\n",
            "105/105 [==============================] - 0s 272us/sample - loss: 1.0729 - accuracy: 0.2762 - val_loss: 0.9626 - val_accuracy: 0.4000\n",
            "Epoch 27/300\n",
            "105/105 [==============================] - 0s 281us/sample - loss: 1.0620 - accuracy: 0.2762 - val_loss: 0.9608 - val_accuracy: 0.4000\n",
            "Epoch 28/300\n",
            "105/105 [==============================] - 0s 298us/sample - loss: 1.0530 - accuracy: 0.2667 - val_loss: 0.9598 - val_accuracy: 0.4000\n",
            "Epoch 29/300\n",
            "105/105 [==============================] - 0s 276us/sample - loss: 1.0435 - accuracy: 0.2667 - val_loss: 0.9586 - val_accuracy: 0.4000\n",
            "Epoch 30/300\n",
            "105/105 [==============================] - 0s 269us/sample - loss: 1.0346 - accuracy: 0.2667 - val_loss: 0.9575 - val_accuracy: 0.4000\n",
            "Epoch 31/300\n",
            "105/105 [==============================] - 0s 274us/sample - loss: 1.0271 - accuracy: 0.2667 - val_loss: 0.9573 - val_accuracy: 0.3778\n",
            "Epoch 32/300\n",
            "105/105 [==============================] - 0s 277us/sample - loss: 1.0210 - accuracy: 0.2476 - val_loss: 0.9579 - val_accuracy: 0.4000\n",
            "Epoch 33/300\n",
            "105/105 [==============================] - 0s 296us/sample - loss: 1.0133 - accuracy: 0.2476 - val_loss: 0.9579 - val_accuracy: 0.4000\n",
            "Epoch 34/300\n",
            "105/105 [==============================] - 0s 281us/sample - loss: 1.0074 - accuracy: 0.2476 - val_loss: 0.9580 - val_accuracy: 0.3111\n",
            "Epoch 35/300\n",
            "105/105 [==============================] - 0s 377us/sample - loss: 1.0026 - accuracy: 0.2476 - val_loss: 0.9581 - val_accuracy: 0.2667\n",
            "Epoch 36/300\n",
            "105/105 [==============================] - 0s 296us/sample - loss: 0.9974 - accuracy: 0.2476 - val_loss: 0.9574 - val_accuracy: 0.2667\n",
            "Epoch 37/300\n",
            "105/105 [==============================] - 0s 310us/sample - loss: 0.9922 - accuracy: 0.2190 - val_loss: 0.9567 - val_accuracy: 0.2444\n",
            "Epoch 38/300\n",
            "105/105 [==============================] - 0s 317us/sample - loss: 0.9881 - accuracy: 0.2190 - val_loss: 0.9556 - val_accuracy: 0.2444\n",
            "Epoch 39/300\n",
            "105/105 [==============================] - 0s 349us/sample - loss: 0.9842 - accuracy: 0.2095 - val_loss: 0.9557 - val_accuracy: 0.2444\n",
            "Epoch 40/300\n",
            "105/105 [==============================] - 0s 313us/sample - loss: 0.9796 - accuracy: 0.2095 - val_loss: 0.9554 - val_accuracy: 0.2444\n",
            "Epoch 41/300\n",
            "105/105 [==============================] - 0s 288us/sample - loss: 0.9762 - accuracy: 0.2000 - val_loss: 0.9560 - val_accuracy: 0.2222\n",
            "Epoch 42/300\n",
            "105/105 [==============================] - 0s 279us/sample - loss: 0.9724 - accuracy: 0.2095 - val_loss: 0.9557 - val_accuracy: 0.2222\n",
            "Epoch 43/300\n",
            "105/105 [==============================] - 0s 296us/sample - loss: 0.9689 - accuracy: 0.2095 - val_loss: 0.9550 - val_accuracy: 0.2222\n",
            "Epoch 44/300\n",
            "105/105 [==============================] - 0s 306us/sample - loss: 0.9657 - accuracy: 0.2095 - val_loss: 0.9537 - val_accuracy: 0.2222\n",
            "Epoch 45/300\n",
            "105/105 [==============================] - 0s 324us/sample - loss: 0.9628 - accuracy: 0.2190 - val_loss: 0.9523 - val_accuracy: 0.2444\n",
            "Epoch 46/300\n",
            "105/105 [==============================] - 0s 311us/sample - loss: 0.9598 - accuracy: 0.2190 - val_loss: 0.9514 - val_accuracy: 0.2444\n",
            "Epoch 47/300\n",
            "105/105 [==============================] - 0s 285us/sample - loss: 0.9569 - accuracy: 0.2190 - val_loss: 0.9497 - val_accuracy: 0.2444\n",
            "Epoch 48/300\n",
            "105/105 [==============================] - 0s 252us/sample - loss: 0.9540 - accuracy: 0.2381 - val_loss: 0.9492 - val_accuracy: 0.2444\n",
            "Epoch 49/300\n",
            "105/105 [==============================] - 0s 277us/sample - loss: 0.9515 - accuracy: 0.2476 - val_loss: 0.9477 - val_accuracy: 0.2667\n",
            "Epoch 50/300\n",
            "105/105 [==============================] - 0s 284us/sample - loss: 0.9487 - accuracy: 0.2667 - val_loss: 0.9451 - val_accuracy: 0.2667\n",
            "Epoch 51/300\n",
            "105/105 [==============================] - 0s 317us/sample - loss: 0.9462 - accuracy: 0.2762 - val_loss: 0.9426 - val_accuracy: 0.2667\n",
            "Epoch 52/300\n",
            "105/105 [==============================] - 0s 301us/sample - loss: 0.9434 - accuracy: 0.3048 - val_loss: 0.9403 - val_accuracy: 0.2889\n",
            "Epoch 53/300\n",
            "105/105 [==============================] - 0s 261us/sample - loss: 0.9408 - accuracy: 0.3143 - val_loss: 0.9386 - val_accuracy: 0.2889\n",
            "Epoch 54/300\n",
            "105/105 [==============================] - 0s 245us/sample - loss: 0.9381 - accuracy: 0.3238 - val_loss: 0.9367 - val_accuracy: 0.2889\n",
            "Epoch 55/300\n",
            "105/105 [==============================] - 0s 249us/sample - loss: 0.9353 - accuracy: 0.3333 - val_loss: 0.9347 - val_accuracy: 0.2889\n",
            "Epoch 56/300\n",
            "105/105 [==============================] - 0s 250us/sample - loss: 0.9325 - accuracy: 0.3429 - val_loss: 0.9323 - val_accuracy: 0.3111\n",
            "Epoch 57/300\n",
            "105/105 [==============================] - 0s 326us/sample - loss: 0.9300 - accuracy: 0.3619 - val_loss: 0.9286 - val_accuracy: 0.3111\n",
            "Epoch 58/300\n",
            "105/105 [==============================] - 0s 242us/sample - loss: 0.9273 - accuracy: 0.3524 - val_loss: 0.9257 - val_accuracy: 0.3778\n",
            "Epoch 59/300\n",
            "105/105 [==============================] - 0s 283us/sample - loss: 0.9248 - accuracy: 0.3905 - val_loss: 0.9224 - val_accuracy: 0.4222\n",
            "Epoch 60/300\n",
            "105/105 [==============================] - 0s 246us/sample - loss: 0.9222 - accuracy: 0.4095 - val_loss: 0.9207 - val_accuracy: 0.4222\n",
            "Epoch 61/300\n",
            "105/105 [==============================] - 0s 282us/sample - loss: 0.9196 - accuracy: 0.4190 - val_loss: 0.9187 - val_accuracy: 0.4222\n",
            "Epoch 62/300\n",
            "105/105 [==============================] - 0s 274us/sample - loss: 0.9167 - accuracy: 0.4286 - val_loss: 0.9179 - val_accuracy: 0.4444\n",
            "Epoch 63/300\n",
            "105/105 [==============================] - 0s 251us/sample - loss: 0.9139 - accuracy: 0.4286 - val_loss: 0.9171 - val_accuracy: 0.4444\n",
            "Epoch 64/300\n",
            "105/105 [==============================] - 0s 273us/sample - loss: 0.9109 - accuracy: 0.4571 - val_loss: 0.9158 - val_accuracy: 0.4667\n",
            "Epoch 65/300\n",
            "105/105 [==============================] - 0s 258us/sample - loss: 0.9081 - accuracy: 0.4762 - val_loss: 0.9144 - val_accuracy: 0.5111\n",
            "Epoch 66/300\n",
            "105/105 [==============================] - 0s 270us/sample - loss: 0.9053 - accuracy: 0.4857 - val_loss: 0.9142 - val_accuracy: 0.5333\n",
            "Epoch 67/300\n",
            "105/105 [==============================] - 0s 280us/sample - loss: 0.9024 - accuracy: 0.4857 - val_loss: 0.9137 - val_accuracy: 0.5333\n",
            "Epoch 68/300\n",
            "105/105 [==============================] - 0s 272us/sample - loss: 0.8998 - accuracy: 0.5238 - val_loss: 0.9124 - val_accuracy: 0.5333\n",
            "Epoch 69/300\n",
            "105/105 [==============================] - 0s 297us/sample - loss: 0.8969 - accuracy: 0.5333 - val_loss: 0.9090 - val_accuracy: 0.5333\n",
            "Epoch 70/300\n",
            "105/105 [==============================] - 0s 266us/sample - loss: 0.8942 - accuracy: 0.5333 - val_loss: 0.9068 - val_accuracy: 0.5333\n",
            "Epoch 71/300\n",
            "105/105 [==============================] - 0s 309us/sample - loss: 0.8913 - accuracy: 0.5333 - val_loss: 0.9031 - val_accuracy: 0.5333\n",
            "Epoch 72/300\n",
            "105/105 [==============================] - 0s 302us/sample - loss: 0.8888 - accuracy: 0.5429 - val_loss: 0.8989 - val_accuracy: 0.5333\n",
            "Epoch 73/300\n",
            "105/105 [==============================] - 0s 310us/sample - loss: 0.8859 - accuracy: 0.5429 - val_loss: 0.8963 - val_accuracy: 0.5333\n",
            "Epoch 74/300\n",
            "105/105 [==============================] - 0s 252us/sample - loss: 0.8830 - accuracy: 0.5429 - val_loss: 0.8940 - val_accuracy: 0.5333\n",
            "Epoch 75/300\n",
            "105/105 [==============================] - 0s 276us/sample - loss: 0.8801 - accuracy: 0.5524 - val_loss: 0.8905 - val_accuracy: 0.5333\n",
            "Epoch 76/300\n",
            "105/105 [==============================] - 0s 362us/sample - loss: 0.8774 - accuracy: 0.5619 - val_loss: 0.8877 - val_accuracy: 0.5333\n",
            "Epoch 77/300\n",
            "105/105 [==============================] - 0s 318us/sample - loss: 0.8746 - accuracy: 0.5619 - val_loss: 0.8856 - val_accuracy: 0.5333\n",
            "Epoch 78/300\n",
            "105/105 [==============================] - 0s 310us/sample - loss: 0.8720 - accuracy: 0.5714 - val_loss: 0.8837 - val_accuracy: 0.5333\n",
            "Epoch 79/300\n",
            "105/105 [==============================] - 0s 302us/sample - loss: 0.8691 - accuracy: 0.5714 - val_loss: 0.8804 - val_accuracy: 0.5333\n",
            "Epoch 80/300\n",
            "105/105 [==============================] - 0s 259us/sample - loss: 0.8664 - accuracy: 0.5714 - val_loss: 0.8782 - val_accuracy: 0.5333\n",
            "Epoch 81/300\n",
            "105/105 [==============================] - 0s 267us/sample - loss: 0.8637 - accuracy: 0.5714 - val_loss: 0.8768 - val_accuracy: 0.5333\n",
            "Epoch 82/300\n",
            "105/105 [==============================] - 0s 329us/sample - loss: 0.8612 - accuracy: 0.5714 - val_loss: 0.8759 - val_accuracy: 0.5333\n",
            "Epoch 83/300\n",
            "105/105 [==============================] - 0s 274us/sample - loss: 0.8584 - accuracy: 0.5714 - val_loss: 0.8739 - val_accuracy: 0.5333\n",
            "Epoch 84/300\n",
            "105/105 [==============================] - 0s 275us/sample - loss: 0.8558 - accuracy: 0.5810 - val_loss: 0.8722 - val_accuracy: 0.5333\n",
            "Epoch 85/300\n",
            "105/105 [==============================] - 0s 248us/sample - loss: 0.8533 - accuracy: 0.5810 - val_loss: 0.8706 - val_accuracy: 0.5111\n",
            "Epoch 86/300\n",
            "105/105 [==============================] - 0s 240us/sample - loss: 0.8513 - accuracy: 0.5905 - val_loss: 0.8698 - val_accuracy: 0.5111\n",
            "Epoch 87/300\n",
            "105/105 [==============================] - 0s 257us/sample - loss: 0.8485 - accuracy: 0.5905 - val_loss: 0.8669 - val_accuracy: 0.5111\n",
            "Epoch 88/300\n",
            "105/105 [==============================] - 0s 263us/sample - loss: 0.8461 - accuracy: 0.5905 - val_loss: 0.8642 - val_accuracy: 0.5111\n",
            "Epoch 89/300\n",
            "105/105 [==============================] - 0s 298us/sample - loss: 0.8438 - accuracy: 0.5905 - val_loss: 0.8621 - val_accuracy: 0.5111\n",
            "Epoch 90/300\n",
            "105/105 [==============================] - 0s 276us/sample - loss: 0.8416 - accuracy: 0.5905 - val_loss: 0.8595 - val_accuracy: 0.5111\n",
            "Epoch 91/300\n",
            "105/105 [==============================] - 0s 275us/sample - loss: 0.8391 - accuracy: 0.5905 - val_loss: 0.8542 - val_accuracy: 0.5333\n",
            "Epoch 92/300\n",
            "105/105 [==============================] - 0s 267us/sample - loss: 0.8367 - accuracy: 0.5905 - val_loss: 0.8501 - val_accuracy: 0.5333\n",
            "Epoch 93/300\n",
            "105/105 [==============================] - 0s 251us/sample - loss: 0.8344 - accuracy: 0.5905 - val_loss: 0.8458 - val_accuracy: 0.5333\n",
            "Epoch 94/300\n",
            "105/105 [==============================] - 0s 258us/sample - loss: 0.8322 - accuracy: 0.5905 - val_loss: 0.8413 - val_accuracy: 0.5333\n",
            "Epoch 95/300\n",
            "105/105 [==============================] - 0s 281us/sample - loss: 0.8301 - accuracy: 0.5810 - val_loss: 0.8365 - val_accuracy: 0.5556\n",
            "Epoch 96/300\n",
            "105/105 [==============================] - 0s 275us/sample - loss: 0.8278 - accuracy: 0.5714 - val_loss: 0.8322 - val_accuracy: 0.5778\n",
            "Epoch 97/300\n",
            "105/105 [==============================] - 0s 296us/sample - loss: 0.8260 - accuracy: 0.5714 - val_loss: 0.8274 - val_accuracy: 0.5556\n",
            "Epoch 98/300\n",
            "105/105 [==============================] - 0s 256us/sample - loss: 0.8239 - accuracy: 0.5810 - val_loss: 0.8235 - val_accuracy: 0.5556\n",
            "Epoch 99/300\n",
            "105/105 [==============================] - 0s 269us/sample - loss: 0.8216 - accuracy: 0.5810 - val_loss: 0.8210 - val_accuracy: 0.5556\n",
            "Epoch 100/300\n",
            "105/105 [==============================] - 0s 315us/sample - loss: 0.8195 - accuracy: 0.5905 - val_loss: 0.8182 - val_accuracy: 0.5333\n",
            "Epoch 101/300\n",
            "105/105 [==============================] - 0s 277us/sample - loss: 0.8174 - accuracy: 0.5905 - val_loss: 0.8165 - val_accuracy: 0.5556\n",
            "Epoch 102/300\n",
            "105/105 [==============================] - 0s 254us/sample - loss: 0.8152 - accuracy: 0.6095 - val_loss: 0.8133 - val_accuracy: 0.5333\n",
            "Epoch 103/300\n",
            "105/105 [==============================] - 0s 283us/sample - loss: 0.8130 - accuracy: 0.6000 - val_loss: 0.8107 - val_accuracy: 0.5333\n",
            "Epoch 104/300\n",
            "105/105 [==============================] - 0s 264us/sample - loss: 0.8110 - accuracy: 0.6000 - val_loss: 0.8084 - val_accuracy: 0.5556\n",
            "Epoch 105/300\n",
            "105/105 [==============================] - 0s 262us/sample - loss: 0.8088 - accuracy: 0.6000 - val_loss: 0.8065 - val_accuracy: 0.5556\n",
            "Epoch 106/300\n",
            "105/105 [==============================] - 0s 263us/sample - loss: 0.8067 - accuracy: 0.6000 - val_loss: 0.8058 - val_accuracy: 0.5778\n",
            "Epoch 107/300\n",
            "105/105 [==============================] - 0s 240us/sample - loss: 0.8050 - accuracy: 0.5905 - val_loss: 0.8050 - val_accuracy: 0.5778\n",
            "Epoch 108/300\n",
            "105/105 [==============================] - 0s 252us/sample - loss: 0.8024 - accuracy: 0.6000 - val_loss: 0.8019 - val_accuracy: 0.5778\n",
            "Epoch 109/300\n",
            "105/105 [==============================] - 0s 254us/sample - loss: 0.8008 - accuracy: 0.6095 - val_loss: 0.7982 - val_accuracy: 0.5778\n",
            "Epoch 110/300\n",
            "105/105 [==============================] - 0s 281us/sample - loss: 0.7986 - accuracy: 0.6095 - val_loss: 0.7958 - val_accuracy: 0.5778\n",
            "Epoch 111/300\n",
            "105/105 [==============================] - 0s 313us/sample - loss: 0.7967 - accuracy: 0.6190 - val_loss: 0.7949 - val_accuracy: 0.5778\n",
            "Epoch 112/300\n",
            "105/105 [==============================] - 0s 262us/sample - loss: 0.7947 - accuracy: 0.6190 - val_loss: 0.7934 - val_accuracy: 0.5778\n",
            "Epoch 113/300\n",
            "105/105 [==============================] - 0s 274us/sample - loss: 0.7929 - accuracy: 0.6190 - val_loss: 0.7913 - val_accuracy: 0.5778\n",
            "Epoch 114/300\n",
            "105/105 [==============================] - 0s 227us/sample - loss: 0.7909 - accuracy: 0.6190 - val_loss: 0.7887 - val_accuracy: 0.5778\n",
            "Epoch 115/300\n",
            "105/105 [==============================] - 0s 241us/sample - loss: 0.7892 - accuracy: 0.6190 - val_loss: 0.7863 - val_accuracy: 0.6000\n",
            "Epoch 116/300\n",
            "105/105 [==============================] - 0s 246us/sample - loss: 0.7875 - accuracy: 0.6095 - val_loss: 0.7840 - val_accuracy: 0.6000\n",
            "Epoch 117/300\n",
            "105/105 [==============================] - 0s 274us/sample - loss: 0.7856 - accuracy: 0.6190 - val_loss: 0.7828 - val_accuracy: 0.6000\n",
            "Epoch 118/300\n",
            "105/105 [==============================] - 0s 286us/sample - loss: 0.7839 - accuracy: 0.6095 - val_loss: 0.7802 - val_accuracy: 0.6000\n",
            "Epoch 119/300\n",
            "105/105 [==============================] - 0s 266us/sample - loss: 0.7820 - accuracy: 0.6190 - val_loss: 0.7784 - val_accuracy: 0.6000\n",
            "Epoch 120/300\n",
            "105/105 [==============================] - 0s 257us/sample - loss: 0.7802 - accuracy: 0.6286 - val_loss: 0.7743 - val_accuracy: 0.5556\n",
            "Epoch 121/300\n",
            "105/105 [==============================] - 0s 265us/sample - loss: 0.7783 - accuracy: 0.6381 - val_loss: 0.7720 - val_accuracy: 0.5556\n",
            "Epoch 122/300\n",
            "105/105 [==============================] - 0s 266us/sample - loss: 0.7767 - accuracy: 0.6286 - val_loss: 0.7697 - val_accuracy: 0.5556\n",
            "Epoch 123/300\n",
            "105/105 [==============================] - 0s 269us/sample - loss: 0.7749 - accuracy: 0.6381 - val_loss: 0.7689 - val_accuracy: 0.5556\n",
            "Epoch 124/300\n",
            "105/105 [==============================] - 0s 271us/sample - loss: 0.7730 - accuracy: 0.6381 - val_loss: 0.7678 - val_accuracy: 0.5778\n",
            "Epoch 125/300\n",
            "105/105 [==============================] - 0s 295us/sample - loss: 0.7715 - accuracy: 0.6286 - val_loss: 0.7678 - val_accuracy: 0.6000\n",
            "Epoch 126/300\n",
            "105/105 [==============================] - 0s 267us/sample - loss: 0.7695 - accuracy: 0.6190 - val_loss: 0.7660 - val_accuracy: 0.6000\n",
            "Epoch 127/300\n",
            "105/105 [==============================] - 0s 252us/sample - loss: 0.7678 - accuracy: 0.6381 - val_loss: 0.7639 - val_accuracy: 0.6000\n",
            "Epoch 128/300\n",
            "105/105 [==============================] - 0s 264us/sample - loss: 0.7661 - accuracy: 0.6476 - val_loss: 0.7611 - val_accuracy: 0.5778\n",
            "Epoch 129/300\n",
            "105/105 [==============================] - 0s 266us/sample - loss: 0.7646 - accuracy: 0.6381 - val_loss: 0.7576 - val_accuracy: 0.5778\n",
            "Epoch 130/300\n",
            "105/105 [==============================] - 0s 253us/sample - loss: 0.7631 - accuracy: 0.6286 - val_loss: 0.7548 - val_accuracy: 0.5778\n",
            "Epoch 131/300\n",
            "105/105 [==============================] - 0s 288us/sample - loss: 0.7614 - accuracy: 0.6381 - val_loss: 0.7526 - val_accuracy: 0.5778\n",
            "Epoch 132/300\n",
            "105/105 [==============================] - 0s 241us/sample - loss: 0.7600 - accuracy: 0.6286 - val_loss: 0.7503 - val_accuracy: 0.5778\n",
            "Epoch 133/300\n",
            "105/105 [==============================] - 0s 282us/sample - loss: 0.7585 - accuracy: 0.6381 - val_loss: 0.7500 - val_accuracy: 0.5778\n",
            "Epoch 134/300\n",
            "105/105 [==============================] - 0s 241us/sample - loss: 0.7567 - accuracy: 0.6286 - val_loss: 0.7479 - val_accuracy: 0.5778\n",
            "Epoch 135/300\n",
            "105/105 [==============================] - 0s 385us/sample - loss: 0.7552 - accuracy: 0.6286 - val_loss: 0.7474 - val_accuracy: 0.5778\n",
            "Epoch 136/300\n",
            "105/105 [==============================] - 0s 296us/sample - loss: 0.7535 - accuracy: 0.6476 - val_loss: 0.7457 - val_accuracy: 0.5778\n",
            "Epoch 137/300\n",
            "105/105 [==============================] - 0s 301us/sample - loss: 0.7521 - accuracy: 0.6476 - val_loss: 0.7431 - val_accuracy: 0.5778\n",
            "Epoch 138/300\n",
            "105/105 [==============================] - 0s 307us/sample - loss: 0.7505 - accuracy: 0.6286 - val_loss: 0.7421 - val_accuracy: 0.5778\n",
            "Epoch 139/300\n",
            "105/105 [==============================] - 0s 260us/sample - loss: 0.7489 - accuracy: 0.6286 - val_loss: 0.7406 - val_accuracy: 0.5778\n",
            "Epoch 140/300\n",
            "105/105 [==============================] - 0s 286us/sample - loss: 0.7474 - accuracy: 0.6476 - val_loss: 0.7391 - val_accuracy: 0.5778\n",
            "Epoch 141/300\n",
            "105/105 [==============================] - 0s 261us/sample - loss: 0.7457 - accuracy: 0.6381 - val_loss: 0.7367 - val_accuracy: 0.6000\n",
            "Epoch 142/300\n",
            "105/105 [==============================] - 0s 298us/sample - loss: 0.7443 - accuracy: 0.6381 - val_loss: 0.7344 - val_accuracy: 0.6000\n",
            "Epoch 143/300\n",
            "105/105 [==============================] - 0s 284us/sample - loss: 0.7430 - accuracy: 0.6476 - val_loss: 0.7321 - val_accuracy: 0.6222\n",
            "Epoch 144/300\n",
            "105/105 [==============================] - 0s 278us/sample - loss: 0.7415 - accuracy: 0.6476 - val_loss: 0.7314 - val_accuracy: 0.6222\n",
            "Epoch 145/300\n",
            "105/105 [==============================] - 0s 272us/sample - loss: 0.7398 - accuracy: 0.6476 - val_loss: 0.7306 - val_accuracy: 0.6222\n",
            "Epoch 146/300\n",
            "105/105 [==============================] - 0s 263us/sample - loss: 0.7383 - accuracy: 0.6476 - val_loss: 0.7303 - val_accuracy: 0.6000\n",
            "Epoch 147/300\n",
            "105/105 [==============================] - 0s 251us/sample - loss: 0.7368 - accuracy: 0.6571 - val_loss: 0.7295 - val_accuracy: 0.6000\n",
            "Epoch 148/300\n",
            "105/105 [==============================] - 0s 297us/sample - loss: 0.7353 - accuracy: 0.6476 - val_loss: 0.7293 - val_accuracy: 0.5778\n",
            "Epoch 149/300\n",
            "105/105 [==============================] - 0s 260us/sample - loss: 0.7340 - accuracy: 0.6476 - val_loss: 0.7292 - val_accuracy: 0.6222\n",
            "Epoch 150/300\n",
            "105/105 [==============================] - 0s 254us/sample - loss: 0.7324 - accuracy: 0.6571 - val_loss: 0.7289 - val_accuracy: 0.6222\n",
            "Epoch 151/300\n",
            "105/105 [==============================] - 0s 256us/sample - loss: 0.7309 - accuracy: 0.6571 - val_loss: 0.7285 - val_accuracy: 0.6222\n",
            "Epoch 152/300\n",
            "105/105 [==============================] - 0s 268us/sample - loss: 0.7295 - accuracy: 0.6571 - val_loss: 0.7286 - val_accuracy: 0.6222\n",
            "Epoch 153/300\n",
            "105/105 [==============================] - 0s 258us/sample - loss: 0.7281 - accuracy: 0.6571 - val_loss: 0.7272 - val_accuracy: 0.6222\n",
            "Epoch 154/300\n",
            "105/105 [==============================] - 0s 263us/sample - loss: 0.7266 - accuracy: 0.6571 - val_loss: 0.7256 - val_accuracy: 0.6222\n",
            "Epoch 155/300\n",
            "105/105 [==============================] - 0s 321us/sample - loss: 0.7253 - accuracy: 0.6571 - val_loss: 0.7241 - val_accuracy: 0.6222\n",
            "Epoch 156/300\n",
            "105/105 [==============================] - 0s 336us/sample - loss: 0.7239 - accuracy: 0.6571 - val_loss: 0.7235 - val_accuracy: 0.6222\n",
            "Epoch 157/300\n",
            "105/105 [==============================] - 0s 254us/sample - loss: 0.7225 - accuracy: 0.6571 - val_loss: 0.7217 - val_accuracy: 0.6222\n",
            "Epoch 158/300\n",
            "105/105 [==============================] - 0s 245us/sample - loss: 0.7212 - accuracy: 0.6667 - val_loss: 0.7193 - val_accuracy: 0.6222\n",
            "Epoch 159/300\n",
            "105/105 [==============================] - 0s 256us/sample - loss: 0.7198 - accuracy: 0.6667 - val_loss: 0.7179 - val_accuracy: 0.6222\n",
            "Epoch 160/300\n",
            "105/105 [==============================] - 0s 255us/sample - loss: 0.7183 - accuracy: 0.6667 - val_loss: 0.7146 - val_accuracy: 0.6444\n",
            "Epoch 161/300\n",
            "105/105 [==============================] - 0s 250us/sample - loss: 0.7170 - accuracy: 0.6667 - val_loss: 0.7118 - val_accuracy: 0.6444\n",
            "Epoch 162/300\n",
            "105/105 [==============================] - 0s 273us/sample - loss: 0.7156 - accuracy: 0.6762 - val_loss: 0.7092 - val_accuracy: 0.6222\n",
            "Epoch 163/300\n",
            "105/105 [==============================] - 0s 254us/sample - loss: 0.7148 - accuracy: 0.6762 - val_loss: 0.7062 - val_accuracy: 0.6222\n",
            "Epoch 164/300\n",
            "105/105 [==============================] - 0s 282us/sample - loss: 0.7132 - accuracy: 0.6667 - val_loss: 0.7055 - val_accuracy: 0.6222\n",
            "Epoch 165/300\n",
            "105/105 [==============================] - 0s 275us/sample - loss: 0.7119 - accuracy: 0.6667 - val_loss: 0.7038 - val_accuracy: 0.6222\n",
            "Epoch 166/300\n",
            "105/105 [==============================] - 0s 305us/sample - loss: 0.7108 - accuracy: 0.6667 - val_loss: 0.7035 - val_accuracy: 0.6222\n",
            "Epoch 167/300\n",
            "105/105 [==============================] - 0s 251us/sample - loss: 0.7092 - accuracy: 0.6762 - val_loss: 0.7026 - val_accuracy: 0.6444\n",
            "Epoch 168/300\n",
            "105/105 [==============================] - 0s 280us/sample - loss: 0.7079 - accuracy: 0.6857 - val_loss: 0.7020 - val_accuracy: 0.6444\n",
            "Epoch 169/300\n",
            "105/105 [==============================] - 0s 286us/sample - loss: 0.7065 - accuracy: 0.6857 - val_loss: 0.6997 - val_accuracy: 0.6222\n",
            "Epoch 170/300\n",
            "105/105 [==============================] - 0s 287us/sample - loss: 0.7053 - accuracy: 0.6762 - val_loss: 0.6967 - val_accuracy: 0.6222\n",
            "Epoch 171/300\n",
            "105/105 [==============================] - 0s 280us/sample - loss: 0.7041 - accuracy: 0.6667 - val_loss: 0.6944 - val_accuracy: 0.6889\n",
            "Epoch 172/300\n",
            "105/105 [==============================] - 0s 357us/sample - loss: 0.7027 - accuracy: 0.6667 - val_loss: 0.6940 - val_accuracy: 0.6222\n",
            "Epoch 173/300\n",
            "105/105 [==============================] - 0s 302us/sample - loss: 0.7014 - accuracy: 0.6667 - val_loss: 0.6929 - val_accuracy: 0.6222\n",
            "Epoch 174/300\n",
            "105/105 [==============================] - 0s 268us/sample - loss: 0.7000 - accuracy: 0.6667 - val_loss: 0.6930 - val_accuracy: 0.6444\n",
            "Epoch 175/300\n",
            "105/105 [==============================] - 0s 245us/sample - loss: 0.6987 - accuracy: 0.6857 - val_loss: 0.6935 - val_accuracy: 0.6444\n",
            "Epoch 176/300\n",
            "105/105 [==============================] - 0s 255us/sample - loss: 0.6976 - accuracy: 0.6952 - val_loss: 0.6941 - val_accuracy: 0.6667\n",
            "Epoch 177/300\n",
            "105/105 [==============================] - 0s 246us/sample - loss: 0.6961 - accuracy: 0.7048 - val_loss: 0.6932 - val_accuracy: 0.6667\n",
            "Epoch 178/300\n",
            "105/105 [==============================] - 0s 309us/sample - loss: 0.6949 - accuracy: 0.7048 - val_loss: 0.6918 - val_accuracy: 0.6667\n",
            "Epoch 179/300\n",
            "105/105 [==============================] - 0s 306us/sample - loss: 0.6936 - accuracy: 0.7048 - val_loss: 0.6911 - val_accuracy: 0.6667\n",
            "Epoch 180/300\n",
            "105/105 [==============================] - 0s 289us/sample - loss: 0.6927 - accuracy: 0.7048 - val_loss: 0.6892 - val_accuracy: 0.6667\n",
            "Epoch 181/300\n",
            "105/105 [==============================] - 0s 314us/sample - loss: 0.6910 - accuracy: 0.6952 - val_loss: 0.6906 - val_accuracy: 0.6667\n",
            "Epoch 182/300\n",
            "105/105 [==============================] - 0s 288us/sample - loss: 0.6900 - accuracy: 0.6762 - val_loss: 0.6926 - val_accuracy: 0.6444\n",
            "Epoch 183/300\n",
            "105/105 [==============================] - 0s 304us/sample - loss: 0.6889 - accuracy: 0.6857 - val_loss: 0.6936 - val_accuracy: 0.6444\n",
            "Epoch 184/300\n",
            "105/105 [==============================] - 0s 306us/sample - loss: 0.6875 - accuracy: 0.6667 - val_loss: 0.6933 - val_accuracy: 0.6444\n",
            "Epoch 185/300\n",
            "105/105 [==============================] - 0s 290us/sample - loss: 0.6863 - accuracy: 0.6667 - val_loss: 0.6938 - val_accuracy: 0.6444\n",
            "Epoch 186/300\n",
            "105/105 [==============================] - 0s 280us/sample - loss: 0.6855 - accuracy: 0.6571 - val_loss: 0.6952 - val_accuracy: 0.6444\n",
            "Epoch 187/300\n",
            "105/105 [==============================] - 0s 302us/sample - loss: 0.6841 - accuracy: 0.6571 - val_loss: 0.6938 - val_accuracy: 0.6444\n",
            "Epoch 188/300\n",
            "105/105 [==============================] - 0s 280us/sample - loss: 0.6829 - accuracy: 0.6571 - val_loss: 0.6923 - val_accuracy: 0.6444\n",
            "Epoch 189/300\n",
            "105/105 [==============================] - 0s 306us/sample - loss: 0.6816 - accuracy: 0.6571 - val_loss: 0.6907 - val_accuracy: 0.6444\n",
            "Epoch 190/300\n",
            "105/105 [==============================] - 0s 311us/sample - loss: 0.6804 - accuracy: 0.6667 - val_loss: 0.6887 - val_accuracy: 0.6444\n",
            "Epoch 191/300\n",
            "105/105 [==============================] - 0s 324us/sample - loss: 0.6791 - accuracy: 0.6667 - val_loss: 0.6870 - val_accuracy: 0.6444\n",
            "Epoch 192/300\n",
            "105/105 [==============================] - 0s 276us/sample - loss: 0.6779 - accuracy: 0.6762 - val_loss: 0.6849 - val_accuracy: 0.6444\n",
            "Epoch 193/300\n",
            "105/105 [==============================] - 0s 278us/sample - loss: 0.6765 - accuracy: 0.6857 - val_loss: 0.6814 - val_accuracy: 0.6667\n",
            "Epoch 194/300\n",
            "105/105 [==============================] - 0s 276us/sample - loss: 0.6757 - accuracy: 0.6857 - val_loss: 0.6782 - val_accuracy: 0.6889\n",
            "Epoch 195/300\n",
            "105/105 [==============================] - 0s 266us/sample - loss: 0.6741 - accuracy: 0.6857 - val_loss: 0.6782 - val_accuracy: 0.6889\n",
            "Epoch 196/300\n",
            "105/105 [==============================] - 0s 258us/sample - loss: 0.6729 - accuracy: 0.6952 - val_loss: 0.6771 - val_accuracy: 0.6889\n",
            "Epoch 197/300\n",
            "105/105 [==============================] - 0s 256us/sample - loss: 0.6718 - accuracy: 0.6952 - val_loss: 0.6752 - val_accuracy: 0.6889\n",
            "Epoch 198/300\n",
            "105/105 [==============================] - 0s 321us/sample - loss: 0.6705 - accuracy: 0.6952 - val_loss: 0.6743 - val_accuracy: 0.6889\n",
            "Epoch 199/300\n",
            "105/105 [==============================] - 0s 263us/sample - loss: 0.6693 - accuracy: 0.6952 - val_loss: 0.6728 - val_accuracy: 0.6889\n",
            "Epoch 200/300\n",
            "105/105 [==============================] - 0s 246us/sample - loss: 0.6681 - accuracy: 0.6952 - val_loss: 0.6720 - val_accuracy: 0.6889\n",
            "Epoch 201/300\n",
            "105/105 [==============================] - 0s 364us/sample - loss: 0.6669 - accuracy: 0.6952 - val_loss: 0.6724 - val_accuracy: 0.6889\n",
            "Epoch 202/300\n",
            "105/105 [==============================] - 0s 240us/sample - loss: 0.6658 - accuracy: 0.7048 - val_loss: 0.6723 - val_accuracy: 0.6667\n",
            "Epoch 203/300\n",
            "105/105 [==============================] - 0s 241us/sample - loss: 0.6649 - accuracy: 0.6952 - val_loss: 0.6729 - val_accuracy: 0.6667\n",
            "Epoch 204/300\n",
            "105/105 [==============================] - 0s 265us/sample - loss: 0.6637 - accuracy: 0.6952 - val_loss: 0.6715 - val_accuracy: 0.6667\n",
            "Epoch 205/300\n",
            "105/105 [==============================] - 0s 254us/sample - loss: 0.6625 - accuracy: 0.6952 - val_loss: 0.6697 - val_accuracy: 0.6889\n",
            "Epoch 206/300\n",
            "105/105 [==============================] - 0s 302us/sample - loss: 0.6613 - accuracy: 0.6952 - val_loss: 0.6683 - val_accuracy: 0.6889\n",
            "Epoch 207/300\n",
            "105/105 [==============================] - 0s 272us/sample - loss: 0.6601 - accuracy: 0.7048 - val_loss: 0.6665 - val_accuracy: 0.7111\n",
            "Epoch 208/300\n",
            "105/105 [==============================] - 0s 241us/sample - loss: 0.6590 - accuracy: 0.7048 - val_loss: 0.6643 - val_accuracy: 0.7111\n",
            "Epoch 209/300\n",
            "105/105 [==============================] - 0s 281us/sample - loss: 0.6578 - accuracy: 0.7048 - val_loss: 0.6640 - val_accuracy: 0.7111\n",
            "Epoch 210/300\n",
            "105/105 [==============================] - 0s 245us/sample - loss: 0.6567 - accuracy: 0.7048 - val_loss: 0.6637 - val_accuracy: 0.7111\n",
            "Epoch 211/300\n",
            "105/105 [==============================] - 0s 259us/sample - loss: 0.6558 - accuracy: 0.7143 - val_loss: 0.6636 - val_accuracy: 0.6889\n",
            "Epoch 212/300\n",
            "105/105 [==============================] - 0s 244us/sample - loss: 0.6545 - accuracy: 0.7048 - val_loss: 0.6624 - val_accuracy: 0.7111\n",
            "Epoch 213/300\n",
            "105/105 [==============================] - 0s 254us/sample - loss: 0.6535 - accuracy: 0.7143 - val_loss: 0.6612 - val_accuracy: 0.7111\n",
            "Epoch 214/300\n",
            "105/105 [==============================] - 0s 261us/sample - loss: 0.6524 - accuracy: 0.7238 - val_loss: 0.6605 - val_accuracy: 0.7111\n",
            "Epoch 215/300\n",
            "105/105 [==============================] - 0s 256us/sample - loss: 0.6513 - accuracy: 0.7143 - val_loss: 0.6592 - val_accuracy: 0.7111\n",
            "Epoch 216/300\n",
            "105/105 [==============================] - 0s 286us/sample - loss: 0.6502 - accuracy: 0.7143 - val_loss: 0.6571 - val_accuracy: 0.7111\n",
            "Epoch 217/300\n",
            "105/105 [==============================] - 0s 304us/sample - loss: 0.6491 - accuracy: 0.7238 - val_loss: 0.6569 - val_accuracy: 0.7111\n",
            "Epoch 218/300\n",
            "105/105 [==============================] - 0s 262us/sample - loss: 0.6479 - accuracy: 0.7238 - val_loss: 0.6560 - val_accuracy: 0.7333\n",
            "Epoch 219/300\n",
            "105/105 [==============================] - 0s 305us/sample - loss: 0.6469 - accuracy: 0.7238 - val_loss: 0.6540 - val_accuracy: 0.7111\n",
            "Epoch 220/300\n",
            "105/105 [==============================] - 0s 332us/sample - loss: 0.6459 - accuracy: 0.7238 - val_loss: 0.6535 - val_accuracy: 0.7556\n",
            "Epoch 221/300\n",
            "105/105 [==============================] - 0s 330us/sample - loss: 0.6447 - accuracy: 0.7238 - val_loss: 0.6506 - val_accuracy: 0.7111\n",
            "Epoch 222/300\n",
            "105/105 [==============================] - 0s 277us/sample - loss: 0.6435 - accuracy: 0.7429 - val_loss: 0.6484 - val_accuracy: 0.7111\n",
            "Epoch 223/300\n",
            "105/105 [==============================] - 0s 248us/sample - loss: 0.6422 - accuracy: 0.7429 - val_loss: 0.6455 - val_accuracy: 0.7111\n",
            "Epoch 224/300\n",
            "105/105 [==============================] - 0s 298us/sample - loss: 0.6410 - accuracy: 0.7333 - val_loss: 0.6408 - val_accuracy: 0.7778\n",
            "Epoch 225/300\n",
            "105/105 [==============================] - 0s 250us/sample - loss: 0.6400 - accuracy: 0.7333 - val_loss: 0.6375 - val_accuracy: 0.7556\n",
            "Epoch 226/300\n",
            "105/105 [==============================] - 0s 307us/sample - loss: 0.6389 - accuracy: 0.7333 - val_loss: 0.6357 - val_accuracy: 0.7556\n",
            "Epoch 227/300\n",
            "105/105 [==============================] - 0s 263us/sample - loss: 0.6379 - accuracy: 0.7333 - val_loss: 0.6340 - val_accuracy: 0.7556\n",
            "Epoch 228/300\n",
            "105/105 [==============================] - 0s 245us/sample - loss: 0.6369 - accuracy: 0.7333 - val_loss: 0.6320 - val_accuracy: 0.7556\n",
            "Epoch 229/300\n",
            "105/105 [==============================] - 0s 262us/sample - loss: 0.6358 - accuracy: 0.7333 - val_loss: 0.6310 - val_accuracy: 0.7556\n",
            "Epoch 230/300\n",
            "105/105 [==============================] - 0s 252us/sample - loss: 0.6346 - accuracy: 0.7333 - val_loss: 0.6310 - val_accuracy: 0.7556\n",
            "Epoch 231/300\n",
            "105/105 [==============================] - 0s 279us/sample - loss: 0.6337 - accuracy: 0.7333 - val_loss: 0.6319 - val_accuracy: 0.7778\n",
            "Epoch 232/300\n",
            "105/105 [==============================] - 0s 294us/sample - loss: 0.6323 - accuracy: 0.7333 - val_loss: 0.6339 - val_accuracy: 0.7778\n",
            "Epoch 233/300\n",
            "105/105 [==============================] - 0s 295us/sample - loss: 0.6315 - accuracy: 0.7429 - val_loss: 0.6361 - val_accuracy: 0.7556\n",
            "Epoch 234/300\n",
            "105/105 [==============================] - 0s 326us/sample - loss: 0.6309 - accuracy: 0.7714 - val_loss: 0.6388 - val_accuracy: 0.7778\n",
            "Epoch 235/300\n",
            "105/105 [==============================] - 0s 289us/sample - loss: 0.6304 - accuracy: 0.7429 - val_loss: 0.6404 - val_accuracy: 0.7778\n",
            "Epoch 236/300\n",
            "105/105 [==============================] - 0s 263us/sample - loss: 0.6292 - accuracy: 0.7238 - val_loss: 0.6391 - val_accuracy: 0.7778\n",
            "Epoch 237/300\n",
            "105/105 [==============================] - 0s 255us/sample - loss: 0.6278 - accuracy: 0.7429 - val_loss: 0.6354 - val_accuracy: 0.7778\n",
            "Epoch 238/300\n",
            "105/105 [==============================] - 0s 262us/sample - loss: 0.6267 - accuracy: 0.7714 - val_loss: 0.6315 - val_accuracy: 0.7778\n",
            "Epoch 239/300\n",
            "105/105 [==============================] - 0s 275us/sample - loss: 0.6253 - accuracy: 0.7714 - val_loss: 0.6283 - val_accuracy: 0.8000\n",
            "Epoch 240/300\n",
            "105/105 [==============================] - 0s 256us/sample - loss: 0.6249 - accuracy: 0.7524 - val_loss: 0.6228 - val_accuracy: 0.7778\n",
            "Epoch 241/300\n",
            "105/105 [==============================] - 0s 272us/sample - loss: 0.6232 - accuracy: 0.7524 - val_loss: 0.6196 - val_accuracy: 0.7556\n",
            "Epoch 242/300\n",
            "105/105 [==============================] - 0s 271us/sample - loss: 0.6223 - accuracy: 0.7429 - val_loss: 0.6163 - val_accuracy: 0.7556\n",
            "Epoch 243/300\n",
            "105/105 [==============================] - 0s 277us/sample - loss: 0.6211 - accuracy: 0.7429 - val_loss: 0.6160 - val_accuracy: 0.7556\n",
            "Epoch 244/300\n",
            "105/105 [==============================] - 0s 262us/sample - loss: 0.6203 - accuracy: 0.7429 - val_loss: 0.6151 - val_accuracy: 0.7556\n",
            "Epoch 245/300\n",
            "105/105 [==============================] - 0s 274us/sample - loss: 0.6195 - accuracy: 0.7524 - val_loss: 0.6109 - val_accuracy: 0.7556\n",
            "Epoch 246/300\n",
            "105/105 [==============================] - 0s 266us/sample - loss: 0.6181 - accuracy: 0.7429 - val_loss: 0.6090 - val_accuracy: 0.7556\n",
            "Epoch 247/300\n",
            "105/105 [==============================] - 0s 281us/sample - loss: 0.6171 - accuracy: 0.7429 - val_loss: 0.6081 - val_accuracy: 0.7556\n",
            "Epoch 248/300\n",
            "105/105 [==============================] - 0s 265us/sample - loss: 0.6163 - accuracy: 0.7429 - val_loss: 0.6070 - val_accuracy: 0.8000\n",
            "Epoch 249/300\n",
            "105/105 [==============================] - 0s 253us/sample - loss: 0.6153 - accuracy: 0.7429 - val_loss: 0.6041 - val_accuracy: 0.7778\n",
            "Epoch 250/300\n",
            "105/105 [==============================] - 0s 249us/sample - loss: 0.6143 - accuracy: 0.7524 - val_loss: 0.6029 - val_accuracy: 0.7778\n",
            "Epoch 251/300\n",
            "105/105 [==============================] - 0s 266us/sample - loss: 0.6132 - accuracy: 0.7524 - val_loss: 0.6014 - val_accuracy: 0.7778\n",
            "Epoch 252/300\n",
            "105/105 [==============================] - 0s 276us/sample - loss: 0.6123 - accuracy: 0.7524 - val_loss: 0.6000 - val_accuracy: 0.7778\n",
            "Epoch 253/300\n",
            "105/105 [==============================] - 0s 256us/sample - loss: 0.6114 - accuracy: 0.7524 - val_loss: 0.6007 - val_accuracy: 0.7778\n",
            "Epoch 254/300\n",
            "105/105 [==============================] - 0s 259us/sample - loss: 0.6101 - accuracy: 0.7524 - val_loss: 0.6012 - val_accuracy: 0.8000\n",
            "Epoch 255/300\n",
            "105/105 [==============================] - 0s 280us/sample - loss: 0.6090 - accuracy: 0.7619 - val_loss: 0.6020 - val_accuracy: 0.7778\n",
            "Epoch 256/300\n",
            "105/105 [==============================] - 0s 271us/sample - loss: 0.6083 - accuracy: 0.7619 - val_loss: 0.6035 - val_accuracy: 0.8222\n",
            "Epoch 257/300\n",
            "105/105 [==============================] - 0s 261us/sample - loss: 0.6071 - accuracy: 0.7619 - val_loss: 0.6039 - val_accuracy: 0.8444\n",
            "Epoch 258/300\n",
            "105/105 [==============================] - 0s 254us/sample - loss: 0.6062 - accuracy: 0.7810 - val_loss: 0.6033 - val_accuracy: 0.8444\n",
            "Epoch 259/300\n",
            "105/105 [==============================] - 0s 254us/sample - loss: 0.6051 - accuracy: 0.7810 - val_loss: 0.6024 - val_accuracy: 0.8444\n",
            "Epoch 260/300\n",
            "105/105 [==============================] - 0s 268us/sample - loss: 0.6041 - accuracy: 0.7810 - val_loss: 0.6008 - val_accuracy: 0.8444\n",
            "Epoch 261/300\n",
            "105/105 [==============================] - 0s 249us/sample - loss: 0.6034 - accuracy: 0.7810 - val_loss: 0.5977 - val_accuracy: 0.8444\n",
            "Epoch 262/300\n",
            "105/105 [==============================] - 0s 247us/sample - loss: 0.6022 - accuracy: 0.7810 - val_loss: 0.5973 - val_accuracy: 0.8667\n",
            "Epoch 263/300\n",
            "105/105 [==============================] - 0s 267us/sample - loss: 0.6011 - accuracy: 0.7905 - val_loss: 0.5970 - val_accuracy: 0.8667\n",
            "Epoch 264/300\n",
            "105/105 [==============================] - 0s 300us/sample - loss: 0.6001 - accuracy: 0.7810 - val_loss: 0.5971 - val_accuracy: 0.8667\n",
            "Epoch 265/300\n",
            "105/105 [==============================] - 0s 237us/sample - loss: 0.5992 - accuracy: 0.7905 - val_loss: 0.5973 - val_accuracy: 0.8667\n",
            "Epoch 266/300\n",
            "105/105 [==============================] - 0s 261us/sample - loss: 0.5985 - accuracy: 0.7905 - val_loss: 0.5972 - val_accuracy: 0.8444\n",
            "Epoch 267/300\n",
            "105/105 [==============================] - 0s 249us/sample - loss: 0.5972 - accuracy: 0.7905 - val_loss: 0.5950 - val_accuracy: 0.8667\n",
            "Epoch 268/300\n",
            "105/105 [==============================] - 0s 268us/sample - loss: 0.5962 - accuracy: 0.7905 - val_loss: 0.5922 - val_accuracy: 0.8667\n",
            "Epoch 269/300\n",
            "105/105 [==============================] - 0s 340us/sample - loss: 0.5951 - accuracy: 0.7905 - val_loss: 0.5883 - val_accuracy: 0.8667\n",
            "Epoch 270/300\n",
            "105/105 [==============================] - 0s 286us/sample - loss: 0.5944 - accuracy: 0.8190 - val_loss: 0.5840 - val_accuracy: 0.8222\n",
            "Epoch 271/300\n",
            "105/105 [==============================] - 0s 280us/sample - loss: 0.5935 - accuracy: 0.8000 - val_loss: 0.5814 - val_accuracy: 0.7778\n",
            "Epoch 272/300\n",
            "105/105 [==============================] - 0s 306us/sample - loss: 0.5930 - accuracy: 0.7905 - val_loss: 0.5785 - val_accuracy: 0.8222\n",
            "Epoch 273/300\n",
            "105/105 [==============================] - 0s 259us/sample - loss: 0.5918 - accuracy: 0.7810 - val_loss: 0.5772 - val_accuracy: 0.8222\n",
            "Epoch 274/300\n",
            "105/105 [==============================] - 0s 264us/sample - loss: 0.5909 - accuracy: 0.7810 - val_loss: 0.5765 - val_accuracy: 0.8222\n",
            "Epoch 275/300\n",
            "105/105 [==============================] - 0s 288us/sample - loss: 0.5900 - accuracy: 0.7905 - val_loss: 0.5770 - val_accuracy: 0.8000\n",
            "Epoch 276/300\n",
            "105/105 [==============================] - 0s 255us/sample - loss: 0.5888 - accuracy: 0.8000 - val_loss: 0.5762 - val_accuracy: 0.8444\n",
            "Epoch 277/300\n",
            "105/105 [==============================] - 0s 281us/sample - loss: 0.5878 - accuracy: 0.8095 - val_loss: 0.5758 - val_accuracy: 0.8667\n",
            "Epoch 278/300\n",
            "105/105 [==============================] - 0s 252us/sample - loss: 0.5868 - accuracy: 0.8095 - val_loss: 0.5754 - val_accuracy: 0.8667\n",
            "Epoch 279/300\n",
            "105/105 [==============================] - 0s 269us/sample - loss: 0.5858 - accuracy: 0.8190 - val_loss: 0.5754 - val_accuracy: 0.8667\n",
            "Epoch 280/300\n",
            "105/105 [==============================] - 0s 277us/sample - loss: 0.5851 - accuracy: 0.8286 - val_loss: 0.5768 - val_accuracy: 0.8889\n",
            "Epoch 281/300\n",
            "105/105 [==============================] - 0s 297us/sample - loss: 0.5840 - accuracy: 0.8286 - val_loss: 0.5766 - val_accuracy: 0.8889\n",
            "Epoch 282/300\n",
            "105/105 [==============================] - 0s 300us/sample - loss: 0.5831 - accuracy: 0.8286 - val_loss: 0.5757 - val_accuracy: 0.8889\n",
            "Epoch 283/300\n",
            "105/105 [==============================] - 0s 297us/sample - loss: 0.5821 - accuracy: 0.8286 - val_loss: 0.5744 - val_accuracy: 0.8889\n",
            "Epoch 284/300\n",
            "105/105 [==============================] - 0s 257us/sample - loss: 0.5813 - accuracy: 0.8286 - val_loss: 0.5734 - val_accuracy: 0.8889\n",
            "Epoch 285/300\n",
            "105/105 [==============================] - 0s 243us/sample - loss: 0.5804 - accuracy: 0.8286 - val_loss: 0.5731 - val_accuracy: 0.8889\n",
            "Epoch 286/300\n",
            "105/105 [==============================] - 0s 277us/sample - loss: 0.5795 - accuracy: 0.8286 - val_loss: 0.5730 - val_accuracy: 0.9111\n",
            "Epoch 287/300\n",
            "105/105 [==============================] - 0s 328us/sample - loss: 0.5787 - accuracy: 0.8190 - val_loss: 0.5736 - val_accuracy: 0.9111\n",
            "Epoch 288/300\n",
            "105/105 [==============================] - 0s 257us/sample - loss: 0.5777 - accuracy: 0.8095 - val_loss: 0.5737 - val_accuracy: 0.9111\n",
            "Epoch 289/300\n",
            "105/105 [==============================] - 0s 238us/sample - loss: 0.5767 - accuracy: 0.8190 - val_loss: 0.5740 - val_accuracy: 0.9111\n",
            "Epoch 290/300\n",
            "105/105 [==============================] - 0s 245us/sample - loss: 0.5761 - accuracy: 0.8381 - val_loss: 0.5748 - val_accuracy: 0.8889\n",
            "Epoch 291/300\n",
            "105/105 [==============================] - 0s 228us/sample - loss: 0.5752 - accuracy: 0.8381 - val_loss: 0.5737 - val_accuracy: 0.8889\n",
            "Epoch 292/300\n",
            "105/105 [==============================] - 0s 248us/sample - loss: 0.5742 - accuracy: 0.8381 - val_loss: 0.5724 - val_accuracy: 0.8889\n",
            "Epoch 293/300\n",
            "105/105 [==============================] - 0s 300us/sample - loss: 0.5733 - accuracy: 0.8381 - val_loss: 0.5702 - val_accuracy: 0.9111\n",
            "Epoch 294/300\n",
            "105/105 [==============================] - 0s 278us/sample - loss: 0.5724 - accuracy: 0.8286 - val_loss: 0.5667 - val_accuracy: 0.9111\n",
            "Epoch 295/300\n",
            "105/105 [==============================] - 0s 354us/sample - loss: 0.5715 - accuracy: 0.8190 - val_loss: 0.5655 - val_accuracy: 0.9111\n",
            "Epoch 296/300\n",
            "105/105 [==============================] - 0s 267us/sample - loss: 0.5706 - accuracy: 0.8286 - val_loss: 0.5649 - val_accuracy: 0.9111\n",
            "Epoch 297/300\n",
            "105/105 [==============================] - 0s 263us/sample - loss: 0.5699 - accuracy: 0.8190 - val_loss: 0.5644 - val_accuracy: 0.9111\n",
            "Epoch 298/300\n",
            "105/105 [==============================] - 0s 283us/sample - loss: 0.5690 - accuracy: 0.8286 - val_loss: 0.5622 - val_accuracy: 0.9111\n",
            "Epoch 299/300\n",
            "105/105 [==============================] - 0s 354us/sample - loss: 0.5679 - accuracy: 0.8286 - val_loss: 0.5625 - val_accuracy: 0.9111\n",
            "Epoch 300/300\n",
            "105/105 [==============================] - 0s 397us/sample - loss: 0.5670 - accuracy: 0.8286 - val_loss: 0.5632 - val_accuracy: 0.9111\n"
          ],
          "name": "stdout"
        }
      ]
    },
    {
      "cell_type": "code",
      "metadata": {
        "id": "L7HRpmiPc212",
        "colab_type": "code",
        "outputId": "d977253b-096f-4bdb-c745-4f1fd8913f1d",
        "colab": {
          "base_uri": "https://localhost:8080/",
          "height": 281
        }
      },
      "source": [
        "import matplotlib.pyplot as plt\n",
        "plt.title('Accuracy')\n",
        "plt.plot(hist.history['accuracy'],color='green')\n",
        "plt.plot(hist.history['val_accuracy'],color='black')\n",
        "plt.legend(['Train', 'Test'], loc='upper left')\n",
        "plt.show()"
      ],
      "execution_count": 0,
      "outputs": [
        {
          "output_type": "display_data",
          "data": {
            "image/png": "[encoded data removed]",
            "text/plain": [
              "<Figure size 432x288 with 1 Axes>"
            ]
          },
          "metadata": {
            "tags": []
          }
        }
      ]
    },
    {
      "cell_type": "code",
      "metadata": {
        "id": "OQ4K576Ec3zU",
        "colab_type": "code",
        "outputId": "cc69d6b2-a290-44dc-c7b3-2381c2dce475",
        "colab": {
          "base_uri": "https://localhost:8080/",
          "height": 281
        }
      },
      "source": [
        "import matplotlib.pyplot as plt\n",
        "plt.title('Loss')\n",
        "plt.plot(hist.history['loss'],color='green')\n",
        "plt.plot(hist.history['val_loss'],color='black')\n",
        "plt.legend(['Train', 'Test'], loc='upper left')\n",
        "plt.show()"
      ],
      "execution_count": 0,
      "outputs": [
        {
          "output_type": "display_data",
          "data": {
            "image/png": "[encoded data removed]",
            "text/plain": [
              "<Figure size 432x288 with 1 Axes>"
            ]
          },
          "metadata": {
            "tags": []
          }
        }
      ]
    },
    {
      "cell_type": "code",
      "metadata": {
        "id": "S_EICg_NhxOx",
        "colab_type": "code",
        "outputId": "bbccbb35-ee0d-4746-d948-4a46f3fbc1f2",
        "colab": {
          "base_uri": "https://localhost:8080/",
          "height": 257
        }
      },
      "source": [
        "model.summary()"
      ],
      "execution_count": 0,
      "outputs": [
        {
          "output_type": "stream",
          "text": [
            "Model: \"sequential\"\n",
            "_________________________________________________________________\n",
            "Layer (type)                 Output Shape              Param #   \n",
            "=================================================================\n",
            "dense (Dense)                (None, 2)                 10        \n",
            "_________________________________________________________________\n",
            "dense_1 (Dense)              (None, 2)                 6         \n",
            "_________________________________________________________________\n",
            "dense_2 (Dense)              (None, 3)                 9         \n",
            "=================================================================\n",
            "Total params: 25\n",
            "Trainable params: 25\n",
            "Non-trainable params: 0\n",
            "_________________________________________________________________\n"
          ],
          "name": "stdout"
        }
      ]
    },
    {
      "cell_type": "code",
      "metadata": {
        "id": "7g3FVbJBKsrH",
        "colab_type": "code",
        "outputId": "1fea7b83-d0ef-4ded-ef10-a09298b80102",
        "colab": {
          "base_uri": "https://localhost:8080/",
          "height": 34
        }
      },
      "source": [
        "model.predict(X[:1])"
      ],
      "execution_count": 0,
      "outputs": [
        {
          "output_type": "execute_result",
          "data": {
            "text/plain": [
              "array([[0.652969 , 0.2140051, 0.1330259]], dtype=float32)"
            ]
          },
          "metadata": {
            "tags": []
          },
          "execution_count": 14
        }
      ]
    },
    {
      "cell_type": "markdown",
      "metadata": {
        "id": "u_iUiLI25D95",
        "colab_type": "text"
      },
      "source": [
        "Parte 2: montando o modelo com base nos pesos"
      ]
    },
    {
      "cell_type": "markdown",
      "metadata": {
        "id": "T6p9IKxd6L5L",
        "colab_type": "text"
      },
      "source": [
        "Usaremos a função ativadora RELU"
      ]
    },
    {
      "cell_type": "code",
      "metadata": {
        "id": "mO0zdXb-6PRo",
        "colab_type": "code",
        "colab": {}
      },
      "source": [
        "def relu(x):\n",
        "  if x<=0:return 0.0\n",
        "  else: return x"
      ],
      "execution_count": 0,
      "outputs": []
    },
    {
      "cell_type": "markdown",
      "metadata": {
        "id": "AU6zJWKAHWbS",
        "colab_type": "text"
      },
      "source": [
        "Perceptron"
      ]
    },
    {
      "cell_type": "code",
      "metadata": {
        "id": "S_6C81daHZ3M",
        "colab_type": "code",
        "colab": {}
      },
      "source": [
        "def perceptron(inp,w,b,f):\n",
        "  return f(np.inner(inp,w)+b)"
      ],
      "execution_count": 0,
      "outputs": []
    },
    {
      "cell_type": "code",
      "metadata": {
        "id": "2Dem_FN3hzyB",
        "colab_type": "code",
        "outputId": "ceb80093-b825-4b0e-b8f6-9666eb6c1cff",
        "colab": {
          "base_uri": "https://localhost:8080/",
          "height": 206
        }
      },
      "source": [
        "model.get_weights()"
      ],
      "execution_count": 0,
      "outputs": [
        {
          "output_type": "execute_result",
          "data": {
            "text/plain": [
              "[array([[ 0.46019593, -0.77743536],\n",
              "        [-0.9362714 ,  0.5621408 ],\n",
              "        [ 0.34664682,  1.1545835 ],\n",
              "        [-0.15891035,  0.790548  ]], dtype=float32),\n",
              " array([-0.31881723, -0.07698157], dtype=float32),\n",
              " array([[ 0.5906803 ,  1.0090822 ],\n",
              "        [-0.00545696,  1.6309538 ]], dtype=float32),\n",
              " array([-0.38254857, -0.3704896 ], dtype=float32),\n",
              " array([[-0.1791789 , -0.40423286,  0.49170467],\n",
              "        [-1.229505  , -0.33195883, -0.298226  ]], dtype=float32),\n",
              " array([ 0.9382546 , -0.17727524, -0.6527312 ], dtype=float32)]"
            ]
          },
          "metadata": {
            "tags": []
          },
          "execution_count": 17
        }
      ]
    },
    {
      "cell_type": "code",
      "metadata": {
        "id": "4MP_AOzWh7YI",
        "colab_type": "code",
        "outputId": "2ce75eac-e0c9-4500-a514-61cef7200f7b",
        "colab": {
          "base_uri": "https://localhost:8080/",
          "height": 86
        }
      },
      "source": [
        "list_w=model.get_weights()\n",
        "w1=list_w[0]\n",
        "w1"
      ],
      "execution_count": 0,
      "outputs": [
        {
          "output_type": "execute_result",
          "data": {
            "text/plain": [
              "array([[ 0.46019593, -0.77743536],\n",
              "       [-0.9362714 ,  0.5621408 ],\n",
              "       [ 0.34664682,  1.1545835 ],\n",
              "       [-0.15891035,  0.790548  ]], dtype=float32)"
            ]
          },
          "metadata": {
            "tags": []
          },
          "execution_count": 18
        }
      ]
    },
    {
      "cell_type": "code",
      "metadata": {
        "id": "mRxBTcUuICTk",
        "colab_type": "code",
        "colab": {}
      },
      "source": [
        "b1=list_w[1]"
      ],
      "execution_count": 0,
      "outputs": []
    },
    {
      "cell_type": "code",
      "metadata": {
        "id": "Gjnzeu0c5xcJ",
        "colab_type": "code",
        "outputId": "5a41f346-f5f0-4773-a64f-cf387d6d7f8d",
        "colab": {
          "base_uri": "https://localhost:8080/",
          "height": 34
        }
      },
      "source": [
        "inpt=np.array([5.1,3.5,1.4,0.2])\n",
        "out11=perceptron(inpt,w1[:,0],b1[0],relu)\n",
        "out21=perceptron(inpt,w1[:,1],b1[1],relu)\n",
        "out11,out21"
      ],
      "execution_count": 0,
      "outputs": [
        {
          "output_type": "execute_result",
          "data": {
            "text/plain": [
              "(-0.7952445209026338, -0.2998826026916501)"
            ]
          },
          "metadata": {
            "tags": []
          },
          "execution_count": 31
        }
      ]
    },
    {
      "cell_type": "code",
      "metadata": {
        "id": "k7H4pWP563Gf",
        "colab_type": "code",
        "outputId": "c3650e4a-c4a1-465d-eeec-6d551bfbca73",
        "colab": {
          "base_uri": "https://localhost:8080/",
          "height": 34
        }
      },
      "source": [
        "w2=list_w[2]\n",
        "b2=list_w[3]\n",
        "out1=np.array([out11,out21])\n",
        "out12=perceptron(out1,w2[:,0],b2[0],relu)\n",
        "out22=perceptron(out1,w2[:,1],b2[1],relu)\n",
        "out12,out22"
      ],
      "execution_count": 0,
      "outputs": [
        {
          "output_type": "execute_result",
          "data": {
            "text/plain": [
              "(0.0, 0.0)"
            ]
          },
          "metadata": {
            "tags": []
          },
          "execution_count": 21
        }
      ]
    },
    {
      "cell_type": "code",
      "metadata": {
        "id": "8y7bSWbBFZo8",
        "colab_type": "code",
        "outputId": "71aef37d-e81f-4ca9-e74c-814157a885e7",
        "colab": {
          "base_uri": "https://localhost:8080/",
          "height": 34
        }
      },
      "source": [
        "w3=list_w[4]\n",
        "b3=list_w[5]\n",
        "out2=np.array([out12,out22])\n",
        "out13=perceptron(out2,w3[:,0],b3[0],lambda x:x)\n",
        "out23=perceptron(out2,w3[:,1],b3[1],lambda x:x)\n",
        "out33=perceptron(out2,w3[:,2],b3[2],lambda x:x)\n",
        "out13,out23,out33\n",
        "out3=np.array([out13,out23,out33])\n",
        "out3"
      ],
      "execution_count": 0,
      "outputs": [
        {
          "output_type": "execute_result",
          "data": {
            "text/plain": [
              "array([ 0.93825459, -0.17727524, -0.65273118])"
            ]
          },
          "metadata": {
            "tags": []
          },
          "execution_count": 38
        }
      ]
    },
    {
      "cell_type": "code",
      "metadata": {
        "id": "wqIodrZQ8QNB",
        "colab_type": "code",
        "colab": {}
      },
      "source": [
        "import math\n",
        "def softmax(v):\n",
        "  le=[math.exp(i) for i in v]\n",
        "  soma=sum(le)\n",
        "  le=[v/soma for v in le]\n",
        "  return le"
      ],
      "execution_count": 0,
      "outputs": []
    },
    {
      "cell_type": "code",
      "metadata": {
        "id": "jb1hq0VbGLMu",
        "colab_type": "code",
        "outputId": "446771fb-233a-44b5-eca4-fd7b57c5cc0c",
        "colab": {
          "base_uri": "https://localhost:8080/",
          "height": 34
        }
      },
      "source": [
        "softmax(out3)"
      ],
      "execution_count": 0,
      "outputs": [
        {
          "output_type": "execute_result",
          "data": {
            "text/plain": [
              "[0.6529690008031664, 0.214005094530291, 0.13302590466654263]"
            ]
          },
          "metadata": {
            "tags": []
          },
          "execution_count": 25
        }
      ]
    },
    {
      "cell_type": "code",
      "metadata": {
        "id": "wZXeZU2bsG7C",
        "colab_type": "code",
        "colab": {}
      },
      "source": [
        "def layer(inp,w1,b1,f):\n",
        "  v=np.dot(w1.T,inp)+b1\n",
        "  for i in range(len(v)):\n",
        "    v[i]=f(v[i])\n",
        "  return v"
      ],
      "execution_count": 0,
      "outputs": []
    },
    {
      "cell_type": "code",
      "metadata": {
        "id": "efVg_WUXsnq4",
        "colab_type": "code",
        "outputId": "f5133b1d-bd4b-4584-8098-06a7d480f74b",
        "colab": {
          "base_uri": "https://localhost:8080/",
          "height": 34
        }
      },
      "source": [
        "softmax(layer(layer(layer(np.array([5.1,3.5,1.4,0.2]),w1,b1,relu),w2,b2,relu),w3,b3,lambda x:x))"
      ],
      "execution_count": 0,
      "outputs": [
        {
          "output_type": "execute_result",
          "data": {
            "text/plain": [
              "[0.6529690008031664, 0.214005094530291, 0.13302590466654263]"
            ]
          },
          "metadata": {
            "tags": []
          },
          "execution_count": 42
        }
      ]
    },
    {
      "cell_type": "code",
      "metadata": {
        "id": "9hNz12GItsWt",
        "colab_type": "code",
        "colab": {}
      },
      "source": [
        ""
      ],
      "execution_count": 0,
      "outputs": []
    }
  ]
}