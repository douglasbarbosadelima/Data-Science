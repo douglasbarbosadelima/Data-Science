{
  "nbformat": 4,
  "nbformat_minor": 0,
  "metadata": {
    "colab": {
      "name": "salario.ipynb",
      "provenance": [],
      "include_colab_link": true
    },
    "kernelspec": {
      "name": "python3",
      "display_name": "Python 3"
    }
  },
  "cells": [
    {
      "cell_type": "markdown",
      "metadata": {
        "id": "view-in-github",
        "colab_type": "text"
      },
      "source": [
        "<a href=\"https://colab.research.google.com/github/douglasbarbosadelima/Data-Science/blob/master/salario.ipynb\" target=\"_parent\"><img src=\"https://colab.research.google.com/assets/colab-badge.svg\" alt=\"Open In Colab\"/></a>"
      ]
    },
    {
      "cell_type": "markdown",
      "metadata": {
        "id": "06D_2Q-CbZBn",
        "colab_type": "text"
      },
      "source": [
        "Clustering: k-means com sklearn"
      ]
    },
    {
      "cell_type": "code",
      "metadata": {
        "id": "mGgmKKHQ8hng",
        "colab_type": "code",
        "colab": {}
      },
      "source": [
        "import pandas as pd #biblioteca para processamento de dados\n",
        "import numpy as np #biblioteca para computação científica\n",
        "import matplotlib.pyplot as plt #gráficos\n",
        "from sklearn.cluster import KMeans #Modelo de clustering com k-means"
      ],
      "execution_count": 0,
      "outputs": []
    },
    {
      "cell_type": "markdown",
      "metadata": {
        "id": "eCUexu3qPUqs",
        "colab_type": "text"
      },
      "source": [
        "Lendo o dataframe"
      ]
    },
    {
      "cell_type": "code",
      "metadata": {
        "id": "-jQsFTdnboBz",
        "colab_type": "code",
        "outputId": "6ee7f9bb-e710-402c-f791-affe12f8546b",
        "colab": {
          "base_uri": "https://localhost:8080/",
          "height": 204
        }
      },
      "source": [
        "df=pd.read_csv('http://www.linkededucation.com.br/dl/salario.csv',delimiter=';')\n",
        "df.head()"
      ],
      "execution_count": 2,
      "outputs": [
        {
          "output_type": "execute_result",
          "data": {
            "text/html": [
              "<div>\n",
              "<style scoped>\n",
              "    .dataframe tbody tr th:only-of-type {\n",
              "        vertical-align: middle;\n",
              "    }\n",
              "\n",
              "    .dataframe tbody tr th {\n",
              "        vertical-align: top;\n",
              "    }\n",
              "\n",
              "    .dataframe thead th {\n",
              "        text-align: right;\n",
              "    }\n",
              "</style>\n",
              "<table border=\"1\" class=\"dataframe\">\n",
              "  <thead>\n",
              "    <tr style=\"text-align: right;\">\n",
              "      <th></th>\n",
              "      <th>idade</th>\n",
              "      <th>salario</th>\n",
              "    </tr>\n",
              "  </thead>\n",
              "  <tbody>\n",
              "    <tr>\n",
              "      <th>0</th>\n",
              "      <td>20</td>\n",
              "      <td>5</td>\n",
              "    </tr>\n",
              "    <tr>\n",
              "      <th>1</th>\n",
              "      <td>18</td>\n",
              "      <td>3</td>\n",
              "    </tr>\n",
              "    <tr>\n",
              "      <th>2</th>\n",
              "      <td>21</td>\n",
              "      <td>33</td>\n",
              "    </tr>\n",
              "    <tr>\n",
              "      <th>3</th>\n",
              "      <td>29</td>\n",
              "      <td>25</td>\n",
              "    </tr>\n",
              "    <tr>\n",
              "      <th>4</th>\n",
              "      <td>33</td>\n",
              "      <td>38</td>\n",
              "    </tr>\n",
              "  </tbody>\n",
              "</table>\n",
              "</div>"
            ],
            "text/plain": [
              "   idade  salario\n",
              "0     20        5\n",
              "1     18        3\n",
              "2     21       33\n",
              "3     29       25\n",
              "4     33       38"
            ]
          },
          "metadata": {
            "tags": []
          },
          "execution_count": 2
        }
      ]
    },
    {
      "cell_type": "markdown",
      "metadata": {
        "id": "mrGyQQCuQzLo",
        "colab_type": "text"
      },
      "source": [
        "Criando o dataset para o algoritmo k-means"
      ]
    },
    {
      "cell_type": "code",
      "metadata": {
        "id": "NJdyHo8xeZDN",
        "colab_type": "code",
        "colab": {}
      },
      "source": [
        "X = np.array(df)"
      ],
      "execution_count": 0,
      "outputs": []
    },
    {
      "cell_type": "markdown",
      "metadata": {
        "id": "StrQ65lHj3vH",
        "colab_type": "text"
      },
      "source": [
        "Instanciar Modelo de K-means (k=3)\n",
        "Treiná-lo (fit)\n",
        "Obter label de cada ponto\n"
      ]
    },
    {
      "cell_type": "code",
      "metadata": {
        "id": "VK9_Ub7Eeuzq",
        "colab_type": "code",
        "colab": {
          "base_uri": "https://localhost:8080/",
          "height": 68
        },
        "outputId": "671baf6a-a291-40c1-8796-140212431417"
      },
      "source": [
        "k = KMeans(n_clusters=3)\n",
        "\n",
        "k.fit(X)"
      ],
      "execution_count": 6,
      "outputs": [
        {
          "output_type": "execute_result",
          "data": {
            "text/plain": [
              "KMeans(algorithm='auto', copy_x=True, init='k-means++', max_iter=300,\n",
              "       n_clusters=3, n_init=10, n_jobs=None, precompute_distances='auto',\n",
              "       random_state=None, tol=0.0001, verbose=0)"
            ]
          },
          "metadata": {
            "tags": []
          },
          "execution_count": 6
        }
      ]
    },
    {
      "cell_type": "markdown",
      "metadata": {
        "id": "KE5w4DN_kP0v",
        "colab_type": "text"
      },
      "source": [
        "Apresentar gráficos dos clusters gerados"
      ]
    },
    {
      "cell_type": "code",
      "metadata": {
        "id": "1cfoDTQBfqHn",
        "colab_type": "code",
        "colab": {
          "base_uri": "https://localhost:8080/",
          "height": 265
        },
        "outputId": "422155e0-e411-492e-bd27-b363f68c9142"
      },
      "source": [
        "k.labels_\n",
        "\n",
        "dic = {\n",
        "    0: 'ro',\n",
        "    1: 'bo',\n",
        "    2: 'yo'\n",
        "}\n",
        "\n",
        "for i in range(len(df)):\n",
        "  plt.plot(df.iloc[i, 0], df.iloc[i, 1], dic[k.labels_[i]])\n",
        "\n",
        "plt.show()"
      ],
      "execution_count": 11,
      "outputs": [
        {
          "output_type": "display_data",
          "data": {
            "image/png": "[encoded data removed]",
            "text/plain": [
              "<Figure size 432x288 with 1 Axes>"
            ]
          },
          "metadata": {
            "tags": []
          }
        }
      ]
    }
  ]
}