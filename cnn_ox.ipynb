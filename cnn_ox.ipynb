{
  "nbformat": 4,
  "nbformat_minor": 0,
  "metadata": {
    "colab": {
      "name": "cnn_ox.ipynb",
      "provenance": [],
      "collapsed_sections": [],
      "include_colab_link": true
    },
    "kernelspec": {
      "name": "python3",
      "display_name": "Python 3"
    },
    "accelerator": "GPU"
  },
  "cells": [
    {
      "cell_type": "markdown",
      "metadata": {
        "id": "view-in-github",
        "colab_type": "text"
      },
      "source": [
        "<a href=\"https://colab.research.google.com/github/douglasbarbosadelima/Data-Science/blob/master/cnn_ox.ipynb\" target=\"_parent\"><img src=\"https://colab.research.google.com/assets/colab-badge.svg\" alt=\"Open In Colab\"/></a>"
      ]
    },
    {
      "cell_type": "markdown",
      "metadata": {
        "id": "QaX5DHEXGoo3",
        "colab_type": "text"
      },
      "source": [
        " Cnn para OX"
      ]
    },
    {
      "cell_type": "code",
      "metadata": {
        "id": "7nNefgTXqg54",
        "colab_type": "code",
        "outputId": "1eda231c-44a7-4185-88fd-32f9e313f8cf",
        "colab": {
          "base_uri": "https://localhost:8080/",
          "height": 887
        }
      },
      "source": [
        "!pip install tensorflow-gpu==2.0.0 "
      ],
      "execution_count": 1,
      "outputs": [
        {
          "output_type": "stream",
          "text": [
            "Collecting tensorflow-gpu==2.0.0\n",
            "\u001b[?25l  Downloading https://files.pythonhosted.org/packages/25/44/47f0722aea081697143fbcf5d2aa60d1aee4aaacb5869aee2b568974777b/tensorflow_gpu-2.0.0-cp36-cp36m-manylinux2010_x86_64.whl (380.8MB)\n",
            "\u001b[K     |████████████████████████████████| 380.8MB 47kB/s \n",
            "\u001b[?25hCollecting tensorboard<2.1.0,>=2.0.0\n",
            "\u001b[?25l  Downloading https://files.pythonhosted.org/packages/76/54/99b9d5d52d5cb732f099baaaf7740403e83fe6b0cedde940fabd2b13d75a/tensorboard-2.0.2-py3-none-any.whl (3.8MB)\n",
            "\u001b[K     |████████████████████████████████| 3.8MB 28.7MB/s \n",
            "\u001b[?25hRequirement already satisfied: keras-applications>=1.0.8 in /usr/local/lib/python3.6/dist-packages (from tensorflow-gpu==2.0.0) (1.0.8)\n",
            "Requirement already satisfied: termcolor>=1.1.0 in /usr/local/lib/python3.6/dist-packages (from tensorflow-gpu==2.0.0) (1.1.0)\n",
            "Requirement already satisfied: numpy<2.0,>=1.16.0 in /usr/local/lib/python3.6/dist-packages (from tensorflow-gpu==2.0.0) (1.17.5)\n",
            "Requirement already satisfied: protobuf>=3.6.1 in /usr/local/lib/python3.6/dist-packages (from tensorflow-gpu==2.0.0) (3.10.0)\n",
            "Requirement already satisfied: six>=1.10.0 in /usr/local/lib/python3.6/dist-packages (from tensorflow-gpu==2.0.0) (1.12.0)\n",
            "Requirement already satisfied: grpcio>=1.8.6 in /usr/local/lib/python3.6/dist-packages (from tensorflow-gpu==2.0.0) (1.27.1)\n",
            "Requirement already satisfied: wrapt>=1.11.1 in /usr/local/lib/python3.6/dist-packages (from tensorflow-gpu==2.0.0) (1.11.2)\n",
            "Requirement already satisfied: absl-py>=0.7.0 in /usr/local/lib/python3.6/dist-packages (from tensorflow-gpu==2.0.0) (0.9.0)\n",
            "Collecting tensorflow-estimator<2.1.0,>=2.0.0\n",
            "\u001b[?25l  Downloading https://files.pythonhosted.org/packages/fc/08/8b927337b7019c374719145d1dceba21a8bb909b93b1ad6f8fb7d22c1ca1/tensorflow_estimator-2.0.1-py2.py3-none-any.whl (449kB)\n",
            "\u001b[K     |████████████████████████████████| 450kB 36.2MB/s \n",
            "\u001b[?25hRequirement already satisfied: gast==0.2.2 in /usr/local/lib/python3.6/dist-packages (from tensorflow-gpu==2.0.0) (0.2.2)\n",
            "Requirement already satisfied: wheel>=0.26 in /usr/local/lib/python3.6/dist-packages (from tensorflow-gpu==2.0.0) (0.34.2)\n",
            "Requirement already satisfied: google-pasta>=0.1.6 in /usr/local/lib/python3.6/dist-packages (from tensorflow-gpu==2.0.0) (0.1.8)\n",
            "Requirement already satisfied: keras-preprocessing>=1.0.5 in /usr/local/lib/python3.6/dist-packages (from tensorflow-gpu==2.0.0) (1.1.0)\n",
            "Requirement already satisfied: astor>=0.6.0 in /usr/local/lib/python3.6/dist-packages (from tensorflow-gpu==2.0.0) (0.8.1)\n",
            "Requirement already satisfied: opt-einsum>=2.3.2 in /usr/local/lib/python3.6/dist-packages (from tensorflow-gpu==2.0.0) (3.1.0)\n",
            "Requirement already satisfied: markdown>=2.6.8 in /usr/local/lib/python3.6/dist-packages (from tensorboard<2.1.0,>=2.0.0->tensorflow-gpu==2.0.0) (3.2.1)\n",
            "Requirement already satisfied: setuptools>=41.0.0 in /usr/local/lib/python3.6/dist-packages (from tensorboard<2.1.0,>=2.0.0->tensorflow-gpu==2.0.0) (45.1.0)\n",
            "Requirement already satisfied: google-auth-oauthlib<0.5,>=0.4.1 in /usr/local/lib/python3.6/dist-packages (from tensorboard<2.1.0,>=2.0.0->tensorflow-gpu==2.0.0) (0.4.1)\n",
            "Requirement already satisfied: werkzeug>=0.11.15 in /usr/local/lib/python3.6/dist-packages (from tensorboard<2.1.0,>=2.0.0->tensorflow-gpu==2.0.0) (1.0.0)\n",
            "Requirement already satisfied: google-auth<2,>=1.6.3 in /usr/local/lib/python3.6/dist-packages (from tensorboard<2.1.0,>=2.0.0->tensorflow-gpu==2.0.0) (1.7.2)\n",
            "Requirement already satisfied: requests<3,>=2.21.0 in /usr/local/lib/python3.6/dist-packages (from tensorboard<2.1.0,>=2.0.0->tensorflow-gpu==2.0.0) (2.21.0)\n",
            "Requirement already satisfied: h5py in /usr/local/lib/python3.6/dist-packages (from keras-applications>=1.0.8->tensorflow-gpu==2.0.0) (2.8.0)\n",
            "Requirement already satisfied: requests-oauthlib>=0.7.0 in /usr/local/lib/python3.6/dist-packages (from google-auth-oauthlib<0.5,>=0.4.1->tensorboard<2.1.0,>=2.0.0->tensorflow-gpu==2.0.0) (1.3.0)\n",
            "Requirement already satisfied: pyasn1-modules>=0.2.1 in /usr/local/lib/python3.6/dist-packages (from google-auth<2,>=1.6.3->tensorboard<2.1.0,>=2.0.0->tensorflow-gpu==2.0.0) (0.2.8)\n",
            "Requirement already satisfied: cachetools<3.2,>=2.0.0 in /usr/local/lib/python3.6/dist-packages (from google-auth<2,>=1.6.3->tensorboard<2.1.0,>=2.0.0->tensorflow-gpu==2.0.0) (3.1.1)\n",
            "Requirement already satisfied: rsa<4.1,>=3.1.4 in /usr/local/lib/python3.6/dist-packages (from google-auth<2,>=1.6.3->tensorboard<2.1.0,>=2.0.0->tensorflow-gpu==2.0.0) (4.0)\n",
            "Requirement already satisfied: idna<2.9,>=2.5 in /usr/local/lib/python3.6/dist-packages (from requests<3,>=2.21.0->tensorboard<2.1.0,>=2.0.0->tensorflow-gpu==2.0.0) (2.8)\n",
            "Requirement already satisfied: chardet<3.1.0,>=3.0.2 in /usr/local/lib/python3.6/dist-packages (from requests<3,>=2.21.0->tensorboard<2.1.0,>=2.0.0->tensorflow-gpu==2.0.0) (3.0.4)\n",
            "Requirement already satisfied: certifi>=2017.4.17 in /usr/local/lib/python3.6/dist-packages (from requests<3,>=2.21.0->tensorboard<2.1.0,>=2.0.0->tensorflow-gpu==2.0.0) (2019.11.28)\n",
            "Requirement already satisfied: urllib3<1.25,>=1.21.1 in /usr/local/lib/python3.6/dist-packages (from requests<3,>=2.21.0->tensorboard<2.1.0,>=2.0.0->tensorflow-gpu==2.0.0) (1.24.3)\n",
            "Requirement already satisfied: oauthlib>=3.0.0 in /usr/local/lib/python3.6/dist-packages (from requests-oauthlib>=0.7.0->google-auth-oauthlib<0.5,>=0.4.1->tensorboard<2.1.0,>=2.0.0->tensorflow-gpu==2.0.0) (3.1.0)\n",
            "Requirement already satisfied: pyasn1<0.5.0,>=0.4.6 in /usr/local/lib/python3.6/dist-packages (from pyasn1-modules>=0.2.1->google-auth<2,>=1.6.3->tensorboard<2.1.0,>=2.0.0->tensorflow-gpu==2.0.0) (0.4.8)\n",
            "\u001b[31mERROR: tensorflow 1.15.0 has requirement tensorboard<1.16.0,>=1.15.0, but you'll have tensorboard 2.0.2 which is incompatible.\u001b[0m\n",
            "\u001b[31mERROR: tensorflow 1.15.0 has requirement tensorflow-estimator==1.15.1, but you'll have tensorflow-estimator 2.0.1 which is incompatible.\u001b[0m\n",
            "Installing collected packages: tensorboard, tensorflow-estimator, tensorflow-gpu\n",
            "  Found existing installation: tensorboard 1.15.0\n",
            "    Uninstalling tensorboard-1.15.0:\n",
            "      Successfully uninstalled tensorboard-1.15.0\n",
            "  Found existing installation: tensorflow-estimator 1.15.1\n",
            "    Uninstalling tensorflow-estimator-1.15.1:\n",
            "      Successfully uninstalled tensorflow-estimator-1.15.1\n",
            "Successfully installed tensorboard-2.0.2 tensorflow-estimator-2.0.1 tensorflow-gpu-2.0.0\n"
          ],
          "name": "stdout"
        }
      ]
    },
    {
      "cell_type": "code",
      "metadata": {
        "id": "Tt9tN5XjtKfQ",
        "colab_type": "code",
        "outputId": "a5abb509-5bf8-48ff-d169-eade99b9575c",
        "colab": {
          "base_uri": "https://localhost:8080/",
          "height": 34
        }
      },
      "source": [
        "import tensorflow as tf\n",
        "import matplotlib.pyplot as plt\n",
        "import numpy as np\n",
        "tf.__version__"
      ],
      "execution_count": 2,
      "outputs": [
        {
          "output_type": "execute_result",
          "data": {
            "text/plain": [
              "'2.0.0'"
            ]
          },
          "metadata": {
            "tags": []
          },
          "execution_count": 2
        }
      ]
    },
    {
      "cell_type": "markdown",
      "metadata": {
        "id": "xjzwwTbCjet8",
        "colab_type": "text"
      },
      "source": [
        "Carregamento do Dataset (as pastas o1 e x1 devem estar na /content)"
      ]
    },
    {
      "cell_type": "code",
      "metadata": {
        "id": "Kbf2LhA6jSYp",
        "colab_type": "code",
        "colab": {}
      },
      "source": [
        "import os\n",
        "\n",
        "def list_files(path,ini):\n",
        "    l=[]\n",
        "    for name in os.listdir(path):\n",
        "        if name[0]==ini:l.append(name)\n",
        "    return l\n",
        "lo1=list_files('/content/o1','o')\n",
        "lx1=list_files('/content/x1','x')"
      ],
      "execution_count": 0,
      "outputs": []
    },
    {
      "cell_type": "code",
      "metadata": {
        "id": "Dw0D4K6JjTu5",
        "colab_type": "code",
        "colab": {}
      },
      "source": [
        "Xtn=[]\n",
        "ytn=[]\n",
        "patho='/content/o1/'\n",
        "for arq in lo1:\n",
        "  img=plt.imread(patho+arq)\n",
        "  Xtn.append(img)\n",
        "  ytn.append([0])\n",
        "pathx='/content/x1/'\n",
        "for arq in lx1:\n",
        "  img=plt.imread(pathx+arq) \n",
        "  Xtn.append(img)\n",
        "  ytn.append([1])\n",
        "             \n",
        "Xtn=np.array(Xtn)\n",
        "ytn = tf.keras.utils.to_categorical(ytn)"
      ],
      "execution_count": 0,
      "outputs": []
    },
    {
      "cell_type": "code",
      "metadata": {
        "id": "YI1wGgj73JbL",
        "colab_type": "code",
        "colab": {}
      },
      "source": [
        "model=tf.keras.Sequential()\n",
        "model.add(tf.keras.layers.Convolution2D(30,kernel_size=3, activation='relu', input_shape=(224,224,3),use_bias=False))\n",
        "model.add(tf.keras.layers.MaxPool2D(pool_size=(2, 2)))\n",
        "model.add(tf.keras.layers.Convolution2D(30,kernel_size=3, activation='relu',use_bias=False))\n",
        "model.add(tf.keras.layers.MaxPool2D(pool_size=(2, 2)))\n",
        "model.add(tf.keras.layers.Flatten())\n",
        "model.add(tf.keras.layers.Dense(40, activation='relu'))\n",
        "model.add(tf.keras.layers.Dense(20, activation='relu'))\n",
        "model.add(tf.keras.layers.Dense(2, activation='softmax'))\n"
      ],
      "execution_count": 0,
      "outputs": []
    },
    {
      "cell_type": "code",
      "metadata": {
        "id": "RIftTxD45955",
        "colab_type": "code",
        "outputId": "4c4ce75f-4776-4343-f863-0a9ec38ea8ba",
        "colab": {
          "base_uri": "https://localhost:8080/",
          "height": 425
        }
      },
      "source": [
        "model.summary()"
      ],
      "execution_count": 6,
      "outputs": [
        {
          "output_type": "stream",
          "text": [
            "Model: \"sequential\"\n",
            "_________________________________________________________________\n",
            "Layer (type)                 Output Shape              Param #   \n",
            "=================================================================\n",
            "conv2d (Conv2D)              (None, 222, 222, 30)      810       \n",
            "_________________________________________________________________\n",
            "max_pooling2d (MaxPooling2D) (None, 111, 111, 30)      0         \n",
            "_________________________________________________________________\n",
            "conv2d_1 (Conv2D)            (None, 109, 109, 30)      8100      \n",
            "_________________________________________________________________\n",
            "max_pooling2d_1 (MaxPooling2 (None, 54, 54, 30)        0         \n",
            "_________________________________________________________________\n",
            "flatten (Flatten)            (None, 87480)             0         \n",
            "_________________________________________________________________\n",
            "dense (Dense)                (None, 40)                3499240   \n",
            "_________________________________________________________________\n",
            "dense_1 (Dense)              (None, 20)                820       \n",
            "_________________________________________________________________\n",
            "dense_2 (Dense)              (None, 2)                 42        \n",
            "=================================================================\n",
            "Total params: 3,509,012\n",
            "Trainable params: 3,509,012\n",
            "Non-trainable params: 0\n",
            "_________________________________________________________________\n"
          ],
          "name": "stdout"
        }
      ]
    },
    {
      "cell_type": "code",
      "metadata": {
        "id": "Rh5lPyFd6eCO",
        "colab_type": "code",
        "colab": {}
      },
      "source": [
        "model.compile(optimizer='sgd', loss='binary_crossentropy', metrics=['accuracy'])"
      ],
      "execution_count": 0,
      "outputs": []
    },
    {
      "cell_type": "code",
      "metadata": {
        "id": "5ZO78PZA7BY5",
        "colab_type": "code",
        "outputId": "fb227927-fe19-4da4-aa89-0fe2e157e3a1",
        "colab": {
          "base_uri": "https://localhost:8080/",
          "height": 1000
        }
      },
      "source": [
        "hist=model.fit(Xtn, ytn, epochs=50)"
      ],
      "execution_count": 8,
      "outputs": [
        {
          "output_type": "stream",
          "text": [
            "Train on 20 samples\n",
            "Epoch 1/50\n",
            "20/20 [==============================] - 7s 369ms/sample - loss: 0.6942 - accuracy: 0.4500\n",
            "Epoch 2/50\n",
            "20/20 [==============================] - 0s 1ms/sample - loss: 0.6447 - accuracy: 0.8500\n",
            "Epoch 3/50\n",
            "20/20 [==============================] - 0s 1ms/sample - loss: 0.6074 - accuracy: 1.0000\n",
            "Epoch 4/50\n",
            "20/20 [==============================] - 0s 1ms/sample - loss: 0.5733 - accuracy: 1.0000\n",
            "Epoch 5/50\n",
            "20/20 [==============================] - 0s 1ms/sample - loss: 0.5427 - accuracy: 1.0000\n",
            "Epoch 6/50\n",
            "20/20 [==============================] - 0s 1ms/sample - loss: 0.5090 - accuracy: 1.0000\n",
            "Epoch 7/50\n",
            "20/20 [==============================] - 0s 1ms/sample - loss: 0.4731 - accuracy: 1.0000\n",
            "Epoch 8/50\n",
            "20/20 [==============================] - 0s 1ms/sample - loss: 0.4371 - accuracy: 1.0000\n",
            "Epoch 9/50\n",
            "20/20 [==============================] - 0s 1ms/sample - loss: 0.4023 - accuracy: 1.0000\n",
            "Epoch 10/50\n",
            "20/20 [==============================] - 0s 1ms/sample - loss: 0.3691 - accuracy: 1.0000\n",
            "Epoch 11/50\n",
            "20/20 [==============================] - 0s 1ms/sample - loss: 0.3368 - accuracy: 1.0000\n",
            "Epoch 12/50\n",
            "20/20 [==============================] - 0s 1ms/sample - loss: 0.3064 - accuracy: 1.0000\n",
            "Epoch 13/50\n",
            "20/20 [==============================] - 0s 1ms/sample - loss: 0.2790 - accuracy: 1.0000\n",
            "Epoch 14/50\n",
            "20/20 [==============================] - 0s 1ms/sample - loss: 0.2529 - accuracy: 1.0000\n",
            "Epoch 15/50\n",
            "20/20 [==============================] - 0s 1ms/sample - loss: 0.2284 - accuracy: 1.0000\n",
            "Epoch 16/50\n",
            "20/20 [==============================] - 0s 1ms/sample - loss: 0.2063 - accuracy: 1.0000\n",
            "Epoch 17/50\n",
            "20/20 [==============================] - 0s 1ms/sample - loss: 0.1863 - accuracy: 1.0000\n",
            "Epoch 18/50\n",
            "20/20 [==============================] - 0s 1ms/sample - loss: 0.1685 - accuracy: 1.0000\n",
            "Epoch 19/50\n",
            "20/20 [==============================] - 0s 1ms/sample - loss: 0.1522 - accuracy: 1.0000\n",
            "Epoch 20/50\n",
            "20/20 [==============================] - 0s 1ms/sample - loss: 0.1379 - accuracy: 1.0000\n",
            "Epoch 21/50\n",
            "20/20 [==============================] - 0s 1ms/sample - loss: 0.1251 - accuracy: 1.0000\n",
            "Epoch 22/50\n",
            "20/20 [==============================] - 0s 1ms/sample - loss: 0.1140 - accuracy: 1.0000\n",
            "Epoch 23/50\n",
            "20/20 [==============================] - 0s 1ms/sample - loss: 0.1042 - accuracy: 1.0000\n",
            "Epoch 24/50\n",
            "20/20 [==============================] - 0s 1ms/sample - loss: 0.0954 - accuracy: 1.0000\n",
            "Epoch 25/50\n",
            "20/20 [==============================] - 0s 1ms/sample - loss: 0.0876 - accuracy: 1.0000\n",
            "Epoch 26/50\n",
            "20/20 [==============================] - 0s 991us/sample - loss: 0.0806 - accuracy: 1.0000\n",
            "Epoch 27/50\n",
            "20/20 [==============================] - 0s 1ms/sample - loss: 0.0745 - accuracy: 1.0000\n",
            "Epoch 28/50\n",
            "20/20 [==============================] - 0s 1ms/sample - loss: 0.0689 - accuracy: 1.0000\n",
            "Epoch 29/50\n",
            "20/20 [==============================] - 0s 1ms/sample - loss: 0.0639 - accuracy: 1.0000\n",
            "Epoch 30/50\n",
            "20/20 [==============================] - 0s 1ms/sample - loss: 0.0593 - accuracy: 1.0000\n",
            "Epoch 31/50\n",
            "20/20 [==============================] - 0s 1ms/sample - loss: 0.0552 - accuracy: 1.0000\n",
            "Epoch 32/50\n",
            "20/20 [==============================] - 0s 1ms/sample - loss: 0.0516 - accuracy: 1.0000\n",
            "Epoch 33/50\n",
            "20/20 [==============================] - 0s 1ms/sample - loss: 0.0484 - accuracy: 1.0000\n",
            "Epoch 34/50\n",
            "20/20 [==============================] - 0s 1ms/sample - loss: 0.0452 - accuracy: 1.0000\n",
            "Epoch 35/50\n",
            "20/20 [==============================] - 0s 1ms/sample - loss: 0.0425 - accuracy: 1.0000\n",
            "Epoch 36/50\n",
            "20/20 [==============================] - 0s 1ms/sample - loss: 0.0400 - accuracy: 1.0000\n",
            "Epoch 37/50\n",
            "20/20 [==============================] - 0s 1ms/sample - loss: 0.0377 - accuracy: 1.0000\n",
            "Epoch 38/50\n",
            "20/20 [==============================] - 0s 962us/sample - loss: 0.0356 - accuracy: 1.0000\n",
            "Epoch 39/50\n",
            "20/20 [==============================] - 0s 1ms/sample - loss: 0.0337 - accuracy: 1.0000\n",
            "Epoch 40/50\n",
            "20/20 [==============================] - 0s 1ms/sample - loss: 0.0319 - accuracy: 1.0000\n",
            "Epoch 41/50\n",
            "20/20 [==============================] - 0s 1ms/sample - loss: 0.0303 - accuracy: 1.0000\n",
            "Epoch 42/50\n",
            "20/20 [==============================] - 0s 1ms/sample - loss: 0.0288 - accuracy: 1.0000\n",
            "Epoch 43/50\n",
            "20/20 [==============================] - 0s 1ms/sample - loss: 0.0274 - accuracy: 1.0000\n",
            "Epoch 44/50\n",
            "20/20 [==============================] - 0s 1ms/sample - loss: 0.0261 - accuracy: 1.0000\n",
            "Epoch 45/50\n",
            "20/20 [==============================] - 0s 1ms/sample - loss: 0.0249 - accuracy: 1.0000\n",
            "Epoch 46/50\n",
            "20/20 [==============================] - 0s 1ms/sample - loss: 0.0238 - accuracy: 1.0000\n",
            "Epoch 47/50\n",
            "20/20 [==============================] - 0s 1ms/sample - loss: 0.0227 - accuracy: 1.0000\n",
            "Epoch 48/50\n",
            "20/20 [==============================] - 0s 1ms/sample - loss: 0.0217 - accuracy: 1.0000\n",
            "Epoch 49/50\n",
            "20/20 [==============================] - 0s 1ms/sample - loss: 0.0208 - accuracy: 1.0000\n",
            "Epoch 50/50\n",
            "20/20 [==============================] - 0s 1ms/sample - loss: 0.0199 - accuracy: 1.0000\n"
          ],
          "name": "stdout"
        }
      ]
    },
    {
      "cell_type": "code",
      "metadata": {
        "id": "vRGFQ-VdBmyx",
        "colab_type": "code",
        "outputId": "912d3cd6-8150-4477-ffdf-51488ab7162c",
        "colab": {
          "base_uri": "https://localhost:8080/",
          "height": 51
        }
      },
      "source": [
        "from keras.preprocessing import image\n",
        "img_path = '/content/oxteste/xt1.png'\n",
        "img = image.load_img(img_path, target_size=(224, 224))\n",
        "x = image.img_to_array(img)\n",
        "x = np.expand_dims(x, axis=0)\n",
        "#x=tf.keras.applications.mobilenet_v2.preprocess_input(x)\n",
        "preds = model.predict(x)\n",
        "preds\n"
      ],
      "execution_count": 9,
      "outputs": [
        {
          "output_type": "stream",
          "text": [
            "Using TensorFlow backend.\n"
          ],
          "name": "stderr"
        },
        {
          "output_type": "execute_result",
          "data": {
            "text/plain": [
              "array([[0., 1.]], dtype=float32)"
            ]
          },
          "metadata": {
            "tags": []
          },
          "execution_count": 9
        }
      ]
    },
    {
      "cell_type": "code",
      "metadata": {
        "id": "ABOzbLL3C3tC",
        "colab_type": "code",
        "outputId": "0299ec31-893e-46b6-f2b4-4e4b441a8b57",
        "colab": {
          "base_uri": "https://localhost:8080/",
          "height": 221
        }
      },
      "source": [
        "lto=list_files('/content/oxteste','o')\n",
        "ltx=list_files('/content/oxteste','x')\n",
        "certos=0\n",
        "for arq in lto:\n",
        "  img_path = '/content/oxteste/'+arq\n",
        "  img = image.load_img(img_path, target_size=(224, 224))\n",
        "  x = image.img_to_array(img)\n",
        "  x = np.expand_dims(x, axis=0)\n",
        "  #x=tf.keras.applications.mobilenet_v2.preprocess_input(x)\n",
        "  preds = model.predict(x)\n",
        "  print(preds,arq)\n",
        "  if preds[0][0]>preds[0][1]:certos+=1\n",
        "for arq in ltx:\n",
        "  img_path = '/content/oxteste/'+arq\n",
        "  img = image.load_img(img_path, target_size=(224, 224))\n",
        "  x = image.img_to_array(img)\n",
        "  x = np.expand_dims(x, axis=0)\n",
        "  #x=tf.keras.applications.mobilenet_v2.preprocess_input(x)\n",
        "  preds = model.predict(x)\n",
        "  print(preds,arq)\n",
        "  if preds[0][1]>preds[0][0]:certos+=1\n",
        "print(certos/(len(lto)+len(ltx)))"
      ],
      "execution_count": 10,
      "outputs": [
        {
          "output_type": "stream",
          "text": [
            "[[1. 0.]] ot.png\n",
            "[[0. 1.]] ot2.png\n",
            "[[1. 0.]] ot1.png\n",
            "[[1. 0.]] ot4.png\n",
            "[[1. 0.]] ot3.png\n",
            "[[0. 1.]] xt3.png\n",
            "[[0. 1.]] xt5.png\n",
            "[[0. 1.]] xt1.png\n",
            "[[0. 1.]] xt2.png\n",
            "[[0. 1.]] xt4.png\n",
            "[[0. 1.]] xt.png\n",
            "0.9090909090909091\n"
          ],
          "name": "stdout"
        }
      ]
    }
  ]
}