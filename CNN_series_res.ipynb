{
  "nbformat": 4,
  "nbformat_minor": 0,
  "metadata": {
    "colab": {
      "name": "CNN_series_res.ipynb",
      "provenance": [],
      "include_colab_link": true
    },
    "kernelspec": {
      "name": "python3",
      "display_name": "Python 3"
    }
  },
  "cells": [
    {
      "cell_type": "markdown",
      "metadata": {
        "id": "view-in-github",
        "colab_type": "text"
      },
      "source": [
        "<a href=\"https://colab.research.google.com/github/douglasbarbosadelima/Data-Science/blob/master/CNN_series_res.ipynb\" target=\"_parent\"><img src=\"https://colab.research.google.com/assets/colab-badge.svg\" alt=\"Open In Colab\"/></a>"
      ]
    },
    {
      "cell_type": "code",
      "metadata": {
        "id": "k44HDMiO3i9u",
        "colab_type": "code",
        "outputId": "7da958f9-ec91-48ac-d23b-f091827d670c",
        "colab": {
          "base_uri": "https://localhost:8080/",
          "height": 924
        }
      },
      "source": [
        "!pip install tensorflow==2.0.0 "
      ],
      "execution_count": 1,
      "outputs": [
        {
          "output_type": "stream",
          "text": [
            "Collecting tensorflow==2.0.0\n",
            "\u001b[?25l  Downloading https://files.pythonhosted.org/packages/46/0f/7bd55361168bb32796b360ad15a25de6966c9c1beb58a8e30c01c8279862/tensorflow-2.0.0-cp36-cp36m-manylinux2010_x86_64.whl (86.3MB)\n",
            "\u001b[K     |████████████████████████████████| 86.3MB 70kB/s \n",
            "\u001b[?25hRequirement already satisfied: gast==0.2.2 in /usr/local/lib/python3.6/dist-packages (from tensorflow==2.0.0) (0.2.2)\n",
            "Requirement already satisfied: keras-preprocessing>=1.0.5 in /usr/local/lib/python3.6/dist-packages (from tensorflow==2.0.0) (1.1.0)\n",
            "Requirement already satisfied: six>=1.10.0 in /usr/local/lib/python3.6/dist-packages (from tensorflow==2.0.0) (1.12.0)\n",
            "Requirement already satisfied: wrapt>=1.11.1 in /usr/local/lib/python3.6/dist-packages (from tensorflow==2.0.0) (1.11.2)\n",
            "Requirement already satisfied: absl-py>=0.7.0 in /usr/local/lib/python3.6/dist-packages (from tensorflow==2.0.0) (0.9.0)\n",
            "Requirement already satisfied: wheel>=0.26 in /usr/local/lib/python3.6/dist-packages (from tensorflow==2.0.0) (0.34.2)\n",
            "Requirement already satisfied: keras-applications>=1.0.8 in /usr/local/lib/python3.6/dist-packages (from tensorflow==2.0.0) (1.0.8)\n",
            "Collecting tensorflow-estimator<2.1.0,>=2.0.0\n",
            "\u001b[?25l  Downloading https://files.pythonhosted.org/packages/fc/08/8b927337b7019c374719145d1dceba21a8bb909b93b1ad6f8fb7d22c1ca1/tensorflow_estimator-2.0.1-py2.py3-none-any.whl (449kB)\n",
            "\u001b[K     |████████████████████████████████| 450kB 51.1MB/s \n",
            "\u001b[?25hRequirement already satisfied: numpy<2.0,>=1.16.0 in /usr/local/lib/python3.6/dist-packages (from tensorflow==2.0.0) (1.17.5)\n",
            "Requirement already satisfied: protobuf>=3.6.1 in /usr/local/lib/python3.6/dist-packages (from tensorflow==2.0.0) (3.10.0)\n",
            "Requirement already satisfied: google-pasta>=0.1.6 in /usr/local/lib/python3.6/dist-packages (from tensorflow==2.0.0) (0.1.8)\n",
            "Requirement already satisfied: opt-einsum>=2.3.2 in /usr/local/lib/python3.6/dist-packages (from tensorflow==2.0.0) (3.1.0)\n",
            "Requirement already satisfied: termcolor>=1.1.0 in /usr/local/lib/python3.6/dist-packages (from tensorflow==2.0.0) (1.1.0)\n",
            "Requirement already satisfied: astor>=0.6.0 in /usr/local/lib/python3.6/dist-packages (from tensorflow==2.0.0) (0.8.1)\n",
            "Requirement already satisfied: grpcio>=1.8.6 in /usr/local/lib/python3.6/dist-packages (from tensorflow==2.0.0) (1.27.1)\n",
            "Collecting tensorboard<2.1.0,>=2.0.0\n",
            "\u001b[?25l  Downloading https://files.pythonhosted.org/packages/76/54/99b9d5d52d5cb732f099baaaf7740403e83fe6b0cedde940fabd2b13d75a/tensorboard-2.0.2-py3-none-any.whl (3.8MB)\n",
            "\u001b[K     |████████████████████████████████| 3.8MB 49.2MB/s \n",
            "\u001b[?25hRequirement already satisfied: h5py in /usr/local/lib/python3.6/dist-packages (from keras-applications>=1.0.8->tensorflow==2.0.0) (2.8.0)\n",
            "Requirement already satisfied: setuptools in /usr/local/lib/python3.6/dist-packages (from protobuf>=3.6.1->tensorflow==2.0.0) (45.2.0)\n",
            "Requirement already satisfied: requests<3,>=2.21.0 in /usr/local/lib/python3.6/dist-packages (from tensorboard<2.1.0,>=2.0.0->tensorflow==2.0.0) (2.21.0)\n",
            "Requirement already satisfied: markdown>=2.6.8 in /usr/local/lib/python3.6/dist-packages (from tensorboard<2.1.0,>=2.0.0->tensorflow==2.0.0) (3.2.1)\n",
            "Requirement already satisfied: google-auth-oauthlib<0.5,>=0.4.1 in /usr/local/lib/python3.6/dist-packages (from tensorboard<2.1.0,>=2.0.0->tensorflow==2.0.0) (0.4.1)\n",
            "Requirement already satisfied: google-auth<2,>=1.6.3 in /usr/local/lib/python3.6/dist-packages (from tensorboard<2.1.0,>=2.0.0->tensorflow==2.0.0) (1.7.2)\n",
            "Requirement already satisfied: werkzeug>=0.11.15 in /usr/local/lib/python3.6/dist-packages (from tensorboard<2.1.0,>=2.0.0->tensorflow==2.0.0) (1.0.0)\n",
            "Requirement already satisfied: certifi>=2017.4.17 in /usr/local/lib/python3.6/dist-packages (from requests<3,>=2.21.0->tensorboard<2.1.0,>=2.0.0->tensorflow==2.0.0) (2019.11.28)\n",
            "Requirement already satisfied: idna<2.9,>=2.5 in /usr/local/lib/python3.6/dist-packages (from requests<3,>=2.21.0->tensorboard<2.1.0,>=2.0.0->tensorflow==2.0.0) (2.8)\n",
            "Requirement already satisfied: chardet<3.1.0,>=3.0.2 in /usr/local/lib/python3.6/dist-packages (from requests<3,>=2.21.0->tensorboard<2.1.0,>=2.0.0->tensorflow==2.0.0) (3.0.4)\n",
            "Requirement already satisfied: urllib3<1.25,>=1.21.1 in /usr/local/lib/python3.6/dist-packages (from requests<3,>=2.21.0->tensorboard<2.1.0,>=2.0.0->tensorflow==2.0.0) (1.24.3)\n",
            "Requirement already satisfied: requests-oauthlib>=0.7.0 in /usr/local/lib/python3.6/dist-packages (from google-auth-oauthlib<0.5,>=0.4.1->tensorboard<2.1.0,>=2.0.0->tensorflow==2.0.0) (1.3.0)\n",
            "Requirement already satisfied: pyasn1-modules>=0.2.1 in /usr/local/lib/python3.6/dist-packages (from google-auth<2,>=1.6.3->tensorboard<2.1.0,>=2.0.0->tensorflow==2.0.0) (0.2.8)\n",
            "Requirement already satisfied: cachetools<3.2,>=2.0.0 in /usr/local/lib/python3.6/dist-packages (from google-auth<2,>=1.6.3->tensorboard<2.1.0,>=2.0.0->tensorflow==2.0.0) (3.1.1)\n",
            "Requirement already satisfied: rsa<4.1,>=3.1.4 in /usr/local/lib/python3.6/dist-packages (from google-auth<2,>=1.6.3->tensorboard<2.1.0,>=2.0.0->tensorflow==2.0.0) (4.0)\n",
            "Requirement already satisfied: oauthlib>=3.0.0 in /usr/local/lib/python3.6/dist-packages (from requests-oauthlib>=0.7.0->google-auth-oauthlib<0.5,>=0.4.1->tensorboard<2.1.0,>=2.0.0->tensorflow==2.0.0) (3.1.0)\n",
            "Requirement already satisfied: pyasn1<0.5.0,>=0.4.6 in /usr/local/lib/python3.6/dist-packages (from pyasn1-modules>=0.2.1->google-auth<2,>=1.6.3->tensorboard<2.1.0,>=2.0.0->tensorflow==2.0.0) (0.4.8)\n",
            "Installing collected packages: tensorflow-estimator, tensorboard, tensorflow\n",
            "  Found existing installation: tensorflow-estimator 1.15.1\n",
            "    Uninstalling tensorflow-estimator-1.15.1:\n",
            "      Successfully uninstalled tensorflow-estimator-1.15.1\n",
            "  Found existing installation: tensorboard 1.15.0\n",
            "    Uninstalling tensorboard-1.15.0:\n",
            "      Successfully uninstalled tensorboard-1.15.0\n",
            "  Found existing installation: tensorflow 1.15.0\n",
            "    Uninstalling tensorflow-1.15.0:\n",
            "      Successfully uninstalled tensorflow-1.15.0\n",
            "Successfully installed tensorboard-2.0.2 tensorflow-2.0.0 tensorflow-estimator-2.0.1\n"
          ],
          "name": "stdout"
        }
      ]
    },
    {
      "cell_type": "code",
      "metadata": {
        "id": "2keceUB04Fm-",
        "colab_type": "code",
        "outputId": "7042614c-7918-439f-c1f5-a03bc370707d",
        "colab": {
          "base_uri": "https://localhost:8080/",
          "height": 35
        }
      },
      "source": [
        "import tensorflow as tf\n",
        "import math\n",
        "import numpy as np\n",
        "import random\n",
        "tf.__version__"
      ],
      "execution_count": 2,
      "outputs": [
        {
          "output_type": "execute_result",
          "data": {
            "text/plain": [
              "'2.0.0'"
            ]
          },
          "metadata": {
            "tags": []
          },
          "execution_count": 2
        }
      ]
    },
    {
      "cell_type": "markdown",
      "metadata": {
        "id": "zS1JsH7y557g",
        "colab_type": "text"
      },
      "source": [
        "Agora vamos criar sequências de 3 inteiros, começando com um a 15 deltas. O target será o quarto inteiro"
      ]
    },
    {
      "cell_type": "code",
      "metadata": {
        "id": "GH2fzhNi6IBg",
        "colab_type": "code",
        "outputId": "b91ab9a8-08d7-45d3-d3bb-715f71118d86",
        "colab": {
          "base_uri": "https://localhost:8080/",
          "height": 248
        }
      },
      "source": [
        "X=[]\n",
        "y=[]\n",
        "random.seed(42)\n",
        "for i in range(100):\n",
        "  ini=random.randint(1,15)\n",
        "  seq=[]\n",
        "  for j in range(3):\n",
        "    seq.append(ini+j)\n",
        "  X.append(seq)\n",
        "  y.append([ini+3])\n",
        "X=np.array(X)\n",
        "X=X[:,:,np.newaxis]\n",
        "\n",
        "y=np.array(y)\n",
        "\n",
        "X[:3],y[:3]\n"
      ],
      "execution_count": 3,
      "outputs": [
        {
          "output_type": "execute_result",
          "data": {
            "text/plain": [
              "(array([[[11],\n",
              "         [12],\n",
              "         [13]],\n",
              " \n",
              "        [[ 2],\n",
              "         [ 3],\n",
              "         [ 4]],\n",
              " \n",
              "        [[ 1],\n",
              "         [ 2],\n",
              "         [ 3]]]), array([[14],\n",
              "        [ 5],\n",
              "        [ 4]]))"
            ]
          },
          "metadata": {
            "tags": []
          },
          "execution_count": 3
        }
      ]
    },
    {
      "cell_type": "markdown",
      "metadata": {
        "id": "tkmaAYxEUxf5",
        "colab_type": "text"
      },
      "source": [
        "CNN 1D com 1 filtro de tamanho 2 + Dense(1)"
      ]
    },
    {
      "cell_type": "code",
      "metadata": {
        "id": "182B_zEA7xaX",
        "colab_type": "code",
        "colab": {}
      },
      "source": [
        "tf.random.set_seed(51)\n",
        "model1=tf.keras.Sequential()\n",
        "model1.add(tf.keras.layers.Conv1D(1,kernel_size=2,input_shape=(None,1),use_bias=False))\n",
        "model1.add(tf.keras.layers.MaxPooling1D(pool_size=2))\n",
        "model1.add(tf.keras.layers.Dense(1))"
      ],
      "execution_count": 0,
      "outputs": []
    },
    {
      "cell_type": "code",
      "metadata": {
        "id": "x1J-6uKU-B0S",
        "colab_type": "code",
        "colab": {}
      },
      "source": [
        "model1.compile(loss='mean_squared_error', optimizer='adam')"
      ],
      "execution_count": 0,
      "outputs": []
    },
    {
      "cell_type": "code",
      "metadata": {
        "id": "aBQpzcGf7mLv",
        "colab_type": "code",
        "outputId": "386c073d-de2e-4a10-a98d-088e5195eac5",
        "colab": {
          "base_uri": "https://localhost:8080/",
          "height": 266
        }
      },
      "source": [
        "model1.summary()"
      ],
      "execution_count": 6,
      "outputs": [
        {
          "output_type": "stream",
          "text": [
            "Model: \"sequential\"\n",
            "_________________________________________________________________\n",
            "Layer (type)                 Output Shape              Param #   \n",
            "=================================================================\n",
            "conv1d (Conv1D)              (None, None, 1)           2         \n",
            "_________________________________________________________________\n",
            "max_pooling1d (MaxPooling1D) (None, None, 1)           0         \n",
            "_________________________________________________________________\n",
            "dense (Dense)                (None, None, 1)           2         \n",
            "=================================================================\n",
            "Total params: 4\n",
            "Trainable params: 4\n",
            "Non-trainable params: 0\n",
            "_________________________________________________________________\n"
          ],
          "name": "stdout"
        }
      ]
    },
    {
      "cell_type": "code",
      "metadata": {
        "id": "4WgfIH19-OKh",
        "colab_type": "code",
        "outputId": "e8ce306d-d7f1-4002-8054-5ea0697ca6c1",
        "colab": {
          "base_uri": "https://localhost:8080/",
          "height": 1000
        }
      },
      "source": [
        "model1.fit(X, y, epochs=300)"
      ],
      "execution_count": 7,
      "outputs": [
        {
          "output_type": "stream",
          "text": [
            "Train on 100 samples\n",
            "Epoch 1/300\n",
            "100/100 [==============================] - 1s 6ms/sample - loss: 134.8757\n",
            "Epoch 2/300\n",
            "100/100 [==============================] - 0s 98us/sample - loss: 133.2442\n",
            "Epoch 3/300\n",
            "100/100 [==============================] - 0s 83us/sample - loss: 131.5350\n",
            "Epoch 4/300\n",
            "100/100 [==============================] - 0s 93us/sample - loss: 130.0009\n",
            "Epoch 5/300\n",
            "100/100 [==============================] - 0s 100us/sample - loss: 128.2560\n",
            "Epoch 6/300\n",
            "100/100 [==============================] - 0s 100us/sample - loss: 126.4795\n",
            "Epoch 7/300\n",
            "100/100 [==============================] - 0s 95us/sample - loss: 124.7225\n",
            "Epoch 8/300\n",
            "100/100 [==============================] - 0s 79us/sample - loss: 123.0353\n",
            "Epoch 9/300\n",
            "100/100 [==============================] - 0s 90us/sample - loss: 121.2771\n",
            "Epoch 10/300\n",
            "100/100 [==============================] - 0s 98us/sample - loss: 119.4726\n",
            "Epoch 11/300\n",
            "100/100 [==============================] - 0s 101us/sample - loss: 117.7532\n",
            "Epoch 12/300\n",
            "100/100 [==============================] - 0s 97us/sample - loss: 116.0206\n",
            "Epoch 13/300\n",
            "100/100 [==============================] - 0s 76us/sample - loss: 114.2256\n",
            "Epoch 14/300\n",
            "100/100 [==============================] - 0s 77us/sample - loss: 112.5154\n",
            "Epoch 15/300\n",
            "100/100 [==============================] - 0s 83us/sample - loss: 110.8029\n",
            "Epoch 16/300\n",
            "100/100 [==============================] - 0s 77us/sample - loss: 109.0295\n",
            "Epoch 17/300\n",
            "100/100 [==============================] - 0s 105us/sample - loss: 107.3162\n",
            "Epoch 18/300\n",
            "100/100 [==============================] - 0s 88us/sample - loss: 105.6663\n",
            "Epoch 19/300\n",
            "100/100 [==============================] - 0s 82us/sample - loss: 103.9306\n",
            "Epoch 20/300\n",
            "100/100 [==============================] - 0s 89us/sample - loss: 102.2483\n",
            "Epoch 21/300\n",
            "100/100 [==============================] - 0s 95us/sample - loss: 100.5242\n",
            "Epoch 22/300\n",
            "100/100 [==============================] - 0s 82us/sample - loss: 98.8662\n",
            "Epoch 23/300\n",
            "100/100 [==============================] - 0s 96us/sample - loss: 97.0630\n",
            "Epoch 24/300\n",
            "100/100 [==============================] - 0s 103us/sample - loss: 95.3035\n",
            "Epoch 25/300\n",
            "100/100 [==============================] - 0s 97us/sample - loss: 93.4726\n",
            "Epoch 26/300\n",
            "100/100 [==============================] - 0s 81us/sample - loss: 91.6974\n",
            "Epoch 27/300\n",
            "100/100 [==============================] - 0s 94us/sample - loss: 89.8797\n",
            "Epoch 28/300\n",
            "100/100 [==============================] - 0s 94us/sample - loss: 88.0861\n",
            "Epoch 29/300\n",
            "100/100 [==============================] - 0s 88us/sample - loss: 86.3346\n",
            "Epoch 30/300\n",
            "100/100 [==============================] - 0s 91us/sample - loss: 84.5948\n",
            "Epoch 31/300\n",
            "100/100 [==============================] - 0s 91us/sample - loss: 82.8587\n",
            "Epoch 32/300\n",
            "100/100 [==============================] - 0s 92us/sample - loss: 81.0988\n",
            "Epoch 33/300\n",
            "100/100 [==============================] - 0s 93us/sample - loss: 79.4115\n",
            "Epoch 34/300\n",
            "100/100 [==============================] - 0s 91us/sample - loss: 77.5751\n",
            "Epoch 35/300\n",
            "100/100 [==============================] - 0s 81us/sample - loss: 75.8391\n",
            "Epoch 36/300\n",
            "100/100 [==============================] - 0s 76us/sample - loss: 74.0884\n",
            "Epoch 37/300\n",
            "100/100 [==============================] - 0s 88us/sample - loss: 72.3538\n",
            "Epoch 38/300\n",
            "100/100 [==============================] - 0s 81us/sample - loss: 70.5746\n",
            "Epoch 39/300\n",
            "100/100 [==============================] - 0s 81us/sample - loss: 68.8570\n",
            "Epoch 40/300\n",
            "100/100 [==============================] - 0s 99us/sample - loss: 67.2032\n",
            "Epoch 41/300\n",
            "100/100 [==============================] - 0s 78us/sample - loss: 65.5618\n",
            "Epoch 42/300\n",
            "100/100 [==============================] - 0s 109us/sample - loss: 64.0136\n",
            "Epoch 43/300\n",
            "100/100 [==============================] - 0s 108us/sample - loss: 62.5327\n",
            "Epoch 44/300\n",
            "100/100 [==============================] - 0s 100us/sample - loss: 60.9684\n",
            "Epoch 45/300\n",
            "100/100 [==============================] - 0s 100us/sample - loss: 59.4704\n",
            "Epoch 46/300\n",
            "100/100 [==============================] - 0s 70us/sample - loss: 57.9457\n",
            "Epoch 47/300\n",
            "100/100 [==============================] - 0s 96us/sample - loss: 56.4053\n",
            "Epoch 48/300\n",
            "100/100 [==============================] - 0s 114us/sample - loss: 54.9793\n",
            "Epoch 49/300\n",
            "100/100 [==============================] - 0s 87us/sample - loss: 53.4794\n",
            "Epoch 50/300\n",
            "100/100 [==============================] - 0s 79us/sample - loss: 52.0429\n",
            "Epoch 51/300\n",
            "100/100 [==============================] - 0s 110us/sample - loss: 50.5336\n",
            "Epoch 52/300\n",
            "100/100 [==============================] - 0s 101us/sample - loss: 49.1373\n",
            "Epoch 53/300\n",
            "100/100 [==============================] - 0s 97us/sample - loss: 47.6808\n",
            "Epoch 54/300\n",
            "100/100 [==============================] - 0s 118us/sample - loss: 46.3168\n",
            "Epoch 55/300\n",
            "100/100 [==============================] - 0s 121us/sample - loss: 44.9890\n",
            "Epoch 56/300\n",
            "100/100 [==============================] - 0s 111us/sample - loss: 43.6461\n",
            "Epoch 57/300\n",
            "100/100 [==============================] - 0s 87us/sample - loss: 42.3450\n",
            "Epoch 58/300\n",
            "100/100 [==============================] - 0s 101us/sample - loss: 41.0462\n",
            "Epoch 59/300\n",
            "100/100 [==============================] - 0s 90us/sample - loss: 39.7229\n",
            "Epoch 60/300\n",
            "100/100 [==============================] - 0s 86us/sample - loss: 38.4673\n",
            "Epoch 61/300\n",
            "100/100 [==============================] - 0s 85us/sample - loss: 37.2449\n",
            "Epoch 62/300\n",
            "100/100 [==============================] - 0s 97us/sample - loss: 36.0790\n",
            "Epoch 63/300\n",
            "100/100 [==============================] - 0s 95us/sample - loss: 34.8916\n",
            "Epoch 64/300\n",
            "100/100 [==============================] - 0s 85us/sample - loss: 33.7489\n",
            "Epoch 65/300\n",
            "100/100 [==============================] - 0s 88us/sample - loss: 32.6044\n",
            "Epoch 66/300\n",
            "100/100 [==============================] - 0s 99us/sample - loss: 31.4781\n",
            "Epoch 67/300\n",
            "100/100 [==============================] - 0s 105us/sample - loss: 30.3284\n",
            "Epoch 68/300\n",
            "100/100 [==============================] - 0s 95us/sample - loss: 29.1919\n",
            "Epoch 69/300\n",
            "100/100 [==============================] - 0s 82us/sample - loss: 28.1134\n",
            "Epoch 70/300\n",
            "100/100 [==============================] - 0s 94us/sample - loss: 27.0477\n",
            "Epoch 71/300\n",
            "100/100 [==============================] - 0s 86us/sample - loss: 25.9929\n",
            "Epoch 72/300\n",
            "100/100 [==============================] - 0s 132us/sample - loss: 24.9854\n",
            "Epoch 73/300\n",
            "100/100 [==============================] - 0s 91us/sample - loss: 23.9871\n",
            "Epoch 74/300\n",
            "100/100 [==============================] - 0s 86us/sample - loss: 23.0380\n",
            "Epoch 75/300\n",
            "100/100 [==============================] - 0s 97us/sample - loss: 22.1334\n",
            "Epoch 76/300\n",
            "100/100 [==============================] - 0s 94us/sample - loss: 21.2841\n",
            "Epoch 77/300\n",
            "100/100 [==============================] - 0s 110us/sample - loss: 20.3982\n",
            "Epoch 78/300\n",
            "100/100 [==============================] - 0s 99us/sample - loss: 19.5460\n",
            "Epoch 79/300\n",
            "100/100 [==============================] - 0s 73us/sample - loss: 18.7482\n",
            "Epoch 80/300\n",
            "100/100 [==============================] - 0s 69us/sample - loss: 17.9590\n",
            "Epoch 81/300\n",
            "100/100 [==============================] - 0s 71us/sample - loss: 17.1599\n",
            "Epoch 82/300\n",
            "100/100 [==============================] - 0s 71us/sample - loss: 16.4264\n",
            "Epoch 83/300\n",
            "100/100 [==============================] - 0s 86us/sample - loss: 15.7110\n",
            "Epoch 84/300\n",
            "100/100 [==============================] - 0s 104us/sample - loss: 15.0236\n",
            "Epoch 85/300\n",
            "100/100 [==============================] - 0s 98us/sample - loss: 14.3779\n",
            "Epoch 86/300\n",
            "100/100 [==============================] - 0s 96us/sample - loss: 13.7401\n",
            "Epoch 87/300\n",
            "100/100 [==============================] - 0s 102us/sample - loss: 13.1345\n",
            "Epoch 88/300\n",
            "100/100 [==============================] - 0s 93us/sample - loss: 12.5183\n",
            "Epoch 89/300\n",
            "100/100 [==============================] - 0s 89us/sample - loss: 11.9359\n",
            "Epoch 90/300\n",
            "100/100 [==============================] - 0s 111us/sample - loss: 11.3636\n",
            "Epoch 91/300\n",
            "100/100 [==============================] - 0s 112us/sample - loss: 10.8294\n",
            "Epoch 92/300\n",
            "100/100 [==============================] - 0s 74us/sample - loss: 10.3145\n",
            "Epoch 93/300\n",
            "100/100 [==============================] - 0s 76us/sample - loss: 9.8275\n",
            "Epoch 94/300\n",
            "100/100 [==============================] - 0s 80us/sample - loss: 9.3565\n",
            "Epoch 95/300\n",
            "100/100 [==============================] - 0s 86us/sample - loss: 8.9013\n",
            "Epoch 96/300\n",
            "100/100 [==============================] - 0s 77us/sample - loss: 8.4646\n",
            "Epoch 97/300\n",
            "100/100 [==============================] - 0s 70us/sample - loss: 8.0258\n",
            "Epoch 98/300\n",
            "100/100 [==============================] - 0s 88us/sample - loss: 7.5966\n",
            "Epoch 99/300\n",
            "100/100 [==============================] - 0s 77us/sample - loss: 7.2034\n",
            "Epoch 100/300\n",
            "100/100 [==============================] - 0s 131us/sample - loss: 6.8083\n",
            "Epoch 101/300\n",
            "100/100 [==============================] - 0s 103us/sample - loss: 6.4471\n",
            "Epoch 102/300\n",
            "100/100 [==============================] - 0s 87us/sample - loss: 6.0950\n",
            "Epoch 103/300\n",
            "100/100 [==============================] - 0s 97us/sample - loss: 5.7687\n",
            "Epoch 104/300\n",
            "100/100 [==============================] - 0s 85us/sample - loss: 5.4507\n",
            "Epoch 105/300\n",
            "100/100 [==============================] - 0s 108us/sample - loss: 5.1590\n",
            "Epoch 106/300\n",
            "100/100 [==============================] - 0s 92us/sample - loss: 4.8766\n",
            "Epoch 107/300\n",
            "100/100 [==============================] - 0s 101us/sample - loss: 4.6086\n",
            "Epoch 108/300\n",
            "100/100 [==============================] - 0s 100us/sample - loss: 4.3472\n",
            "Epoch 109/300\n",
            "100/100 [==============================] - 0s 80us/sample - loss: 4.0953\n",
            "Epoch 110/300\n",
            "100/100 [==============================] - 0s 100us/sample - loss: 3.8602\n",
            "Epoch 111/300\n",
            "100/100 [==============================] - 0s 80us/sample - loss: 3.6476\n",
            "Epoch 112/300\n",
            "100/100 [==============================] - 0s 105us/sample - loss: 3.4269\n",
            "Epoch 113/300\n",
            "100/100 [==============================] - 0s 93us/sample - loss: 3.2353\n",
            "Epoch 114/300\n",
            "100/100 [==============================] - 0s 83us/sample - loss: 3.0527\n",
            "Epoch 115/300\n",
            "100/100 [==============================] - 0s 81us/sample - loss: 2.8780\n",
            "Epoch 116/300\n",
            "100/100 [==============================] - 0s 81us/sample - loss: 2.7171\n",
            "Epoch 117/300\n",
            "100/100 [==============================] - 0s 101us/sample - loss: 2.5610\n",
            "Epoch 118/300\n",
            "100/100 [==============================] - 0s 122us/sample - loss: 2.4136\n",
            "Epoch 119/300\n",
            "100/100 [==============================] - 0s 102us/sample - loss: 2.2781\n",
            "Epoch 120/300\n",
            "100/100 [==============================] - 0s 102us/sample - loss: 2.1478\n",
            "Epoch 121/300\n",
            "100/100 [==============================] - 0s 86us/sample - loss: 2.0284\n",
            "Epoch 122/300\n",
            "100/100 [==============================] - 0s 77us/sample - loss: 1.9153\n",
            "Epoch 123/300\n",
            "100/100 [==============================] - 0s 83us/sample - loss: 1.8118\n",
            "Epoch 124/300\n",
            "100/100 [==============================] - 0s 84us/sample - loss: 1.7144\n",
            "Epoch 125/300\n",
            "100/100 [==============================] - 0s 103us/sample - loss: 1.6230\n",
            "Epoch 126/300\n",
            "100/100 [==============================] - 0s 87us/sample - loss: 1.5349\n",
            "Epoch 127/300\n",
            "100/100 [==============================] - 0s 97us/sample - loss: 1.4536\n",
            "Epoch 128/300\n",
            "100/100 [==============================] - 0s 95us/sample - loss: 1.3783\n",
            "Epoch 129/300\n",
            "100/100 [==============================] - 0s 99us/sample - loss: 1.3068\n",
            "Epoch 130/300\n",
            "100/100 [==============================] - 0s 141us/sample - loss: 1.2388\n",
            "Epoch 131/300\n",
            "100/100 [==============================] - 0s 83us/sample - loss: 1.1771\n",
            "Epoch 132/300\n",
            "100/100 [==============================] - 0s 80us/sample - loss: 1.1193\n",
            "Epoch 133/300\n",
            "100/100 [==============================] - 0s 74us/sample - loss: 1.0659\n",
            "Epoch 134/300\n",
            "100/100 [==============================] - 0s 86us/sample - loss: 1.0170\n",
            "Epoch 135/300\n",
            "100/100 [==============================] - 0s 76us/sample - loss: 0.9703\n",
            "Epoch 136/300\n",
            "100/100 [==============================] - 0s 73us/sample - loss: 0.9272\n",
            "Epoch 137/300\n",
            "100/100 [==============================] - 0s 81us/sample - loss: 0.8872\n",
            "Epoch 138/300\n",
            "100/100 [==============================] - 0s 108us/sample - loss: 0.8498\n",
            "Epoch 139/300\n",
            "100/100 [==============================] - 0s 96us/sample - loss: 0.8157\n",
            "Epoch 140/300\n",
            "100/100 [==============================] - 0s 87us/sample - loss: 0.7839\n",
            "Epoch 141/300\n",
            "100/100 [==============================] - 0s 84us/sample - loss: 0.7548\n",
            "Epoch 142/300\n",
            "100/100 [==============================] - 0s 79us/sample - loss: 0.7274\n",
            "Epoch 143/300\n",
            "100/100 [==============================] - 0s 87us/sample - loss: 0.7025\n",
            "Epoch 144/300\n",
            "100/100 [==============================] - 0s 113us/sample - loss: 0.6793\n",
            "Epoch 145/300\n",
            "100/100 [==============================] - 0s 89us/sample - loss: 0.6575\n",
            "Epoch 146/300\n",
            "100/100 [==============================] - 0s 87us/sample - loss: 0.6381\n",
            "Epoch 147/300\n",
            "100/100 [==============================] - 0s 89us/sample - loss: 0.6197\n",
            "Epoch 148/300\n",
            "100/100 [==============================] - 0s 103us/sample - loss: 0.6033\n",
            "Epoch 149/300\n",
            "100/100 [==============================] - 0s 98us/sample - loss: 0.5882\n",
            "Epoch 150/300\n",
            "100/100 [==============================] - 0s 108us/sample - loss: 0.5740\n",
            "Epoch 151/300\n",
            "100/100 [==============================] - 0s 90us/sample - loss: 0.5608\n",
            "Epoch 152/300\n",
            "100/100 [==============================] - 0s 98us/sample - loss: 0.5488\n",
            "Epoch 153/300\n",
            "100/100 [==============================] - 0s 83us/sample - loss: 0.5376\n",
            "Epoch 154/300\n",
            "100/100 [==============================] - 0s 84us/sample - loss: 0.5273\n",
            "Epoch 155/300\n",
            "100/100 [==============================] - 0s 86us/sample - loss: 0.5180\n",
            "Epoch 156/300\n",
            "100/100 [==============================] - 0s 89us/sample - loss: 0.5094\n",
            "Epoch 157/300\n",
            "100/100 [==============================] - 0s 85us/sample - loss: 0.5021\n",
            "Epoch 158/300\n",
            "100/100 [==============================] - 0s 93us/sample - loss: 0.4943\n",
            "Epoch 159/300\n",
            "100/100 [==============================] - 0s 90us/sample - loss: 0.4878\n",
            "Epoch 160/300\n",
            "100/100 [==============================] - 0s 96us/sample - loss: 0.4819\n",
            "Epoch 161/300\n",
            "100/100 [==============================] - 0s 93us/sample - loss: 0.4762\n",
            "Epoch 162/300\n",
            "100/100 [==============================] - 0s 100us/sample - loss: 0.4710\n",
            "Epoch 163/300\n",
            "100/100 [==============================] - 0s 86us/sample - loss: 0.4664\n",
            "Epoch 164/300\n",
            "100/100 [==============================] - 0s 89us/sample - loss: 0.4623\n",
            "Epoch 165/300\n",
            "100/100 [==============================] - 0s 88us/sample - loss: 0.4582\n",
            "Epoch 166/300\n",
            "100/100 [==============================] - 0s 87us/sample - loss: 0.4549\n",
            "Epoch 167/300\n",
            "100/100 [==============================] - 0s 88us/sample - loss: 0.4519\n",
            "Epoch 168/300\n",
            "100/100 [==============================] - 0s 84us/sample - loss: 0.4489\n",
            "Epoch 169/300\n",
            "100/100 [==============================] - 0s 93us/sample - loss: 0.4463\n",
            "Epoch 170/300\n",
            "100/100 [==============================] - 0s 168us/sample - loss: 0.4442\n",
            "Epoch 171/300\n",
            "100/100 [==============================] - 0s 90us/sample - loss: 0.4422\n",
            "Epoch 172/300\n",
            "100/100 [==============================] - 0s 87us/sample - loss: 0.4402\n",
            "Epoch 173/300\n",
            "100/100 [==============================] - 0s 83us/sample - loss: 0.4388\n",
            "Epoch 174/300\n",
            "100/100 [==============================] - 0s 74us/sample - loss: 0.4372\n",
            "Epoch 175/300\n",
            "100/100 [==============================] - 0s 132us/sample - loss: 0.4359\n",
            "Epoch 176/300\n",
            "100/100 [==============================] - 0s 121us/sample - loss: 0.4348\n",
            "Epoch 177/300\n",
            "100/100 [==============================] - 0s 96us/sample - loss: 0.4338\n",
            "Epoch 178/300\n",
            "100/100 [==============================] - 0s 108us/sample - loss: 0.4326\n",
            "Epoch 179/300\n",
            "100/100 [==============================] - 0s 96us/sample - loss: 0.4315\n",
            "Epoch 180/300\n",
            "100/100 [==============================] - 0s 86us/sample - loss: 0.4306\n",
            "Epoch 181/300\n",
            "100/100 [==============================] - 0s 81us/sample - loss: 0.4295\n",
            "Epoch 182/300\n",
            "100/100 [==============================] - 0s 100us/sample - loss: 0.4289\n",
            "Epoch 183/300\n",
            "100/100 [==============================] - 0s 104us/sample - loss: 0.4279\n",
            "Epoch 184/300\n",
            "100/100 [==============================] - 0s 97us/sample - loss: 0.4271\n",
            "Epoch 185/300\n",
            "100/100 [==============================] - 0s 89us/sample - loss: 0.4265\n",
            "Epoch 186/300\n",
            "100/100 [==============================] - 0s 121us/sample - loss: 0.4260\n",
            "Epoch 187/300\n",
            "100/100 [==============================] - 0s 98us/sample - loss: 0.4256\n",
            "Epoch 188/300\n",
            "100/100 [==============================] - 0s 124us/sample - loss: 0.4252\n",
            "Epoch 189/300\n",
            "100/100 [==============================] - 0s 102us/sample - loss: 0.4249\n",
            "Epoch 190/300\n",
            "100/100 [==============================] - 0s 105us/sample - loss: 0.4245\n",
            "Epoch 191/300\n",
            "100/100 [==============================] - 0s 105us/sample - loss: 0.4241\n",
            "Epoch 192/300\n",
            "100/100 [==============================] - 0s 85us/sample - loss: 0.4239\n",
            "Epoch 193/300\n",
            "100/100 [==============================] - 0s 100us/sample - loss: 0.4236\n",
            "Epoch 194/300\n",
            "100/100 [==============================] - 0s 100us/sample - loss: 0.4235\n",
            "Epoch 195/300\n",
            "100/100 [==============================] - 0s 97us/sample - loss: 0.4232\n",
            "Epoch 196/300\n",
            "100/100 [==============================] - 0s 104us/sample - loss: 0.4231\n",
            "Epoch 197/300\n",
            "100/100 [==============================] - 0s 98us/sample - loss: 0.4229\n",
            "Epoch 198/300\n",
            "100/100 [==============================] - 0s 91us/sample - loss: 0.4226\n",
            "Epoch 199/300\n",
            "100/100 [==============================] - 0s 92us/sample - loss: 0.4225\n",
            "Epoch 200/300\n",
            "100/100 [==============================] - 0s 102us/sample - loss: 0.4222\n",
            "Epoch 201/300\n",
            "100/100 [==============================] - 0s 92us/sample - loss: 0.4218\n",
            "Epoch 202/300\n",
            "100/100 [==============================] - 0s 94us/sample - loss: 0.4216\n",
            "Epoch 203/300\n",
            "100/100 [==============================] - 0s 103us/sample - loss: 0.4215\n",
            "Epoch 204/300\n",
            "100/100 [==============================] - 0s 98us/sample - loss: 0.4213\n",
            "Epoch 205/300\n",
            "100/100 [==============================] - 0s 91us/sample - loss: 0.4210\n",
            "Epoch 206/300\n",
            "100/100 [==============================] - 0s 105us/sample - loss: 0.4209\n",
            "Epoch 207/300\n",
            "100/100 [==============================] - 0s 89us/sample - loss: 0.4207\n",
            "Epoch 208/300\n",
            "100/100 [==============================] - 0s 85us/sample - loss: 0.4205\n",
            "Epoch 209/300\n",
            "100/100 [==============================] - 0s 89us/sample - loss: 0.4203\n",
            "Epoch 210/300\n",
            "100/100 [==============================] - 0s 146us/sample - loss: 0.4201\n",
            "Epoch 211/300\n",
            "100/100 [==============================] - 0s 89us/sample - loss: 0.4199\n",
            "Epoch 212/300\n",
            "100/100 [==============================] - 0s 87us/sample - loss: 0.4197\n",
            "Epoch 213/300\n",
            "100/100 [==============================] - 0s 91us/sample - loss: 0.4195\n",
            "Epoch 214/300\n",
            "100/100 [==============================] - 0s 96us/sample - loss: 0.4193\n",
            "Epoch 215/300\n",
            "100/100 [==============================] - 0s 104us/sample - loss: 0.4192\n",
            "Epoch 216/300\n",
            "100/100 [==============================] - 0s 99us/sample - loss: 0.4189\n",
            "Epoch 217/300\n",
            "100/100 [==============================] - 0s 92us/sample - loss: 0.4188\n",
            "Epoch 218/300\n",
            "100/100 [==============================] - 0s 135us/sample - loss: 0.4185\n",
            "Epoch 219/300\n",
            "100/100 [==============================] - 0s 84us/sample - loss: 0.4184\n",
            "Epoch 220/300\n",
            "100/100 [==============================] - 0s 85us/sample - loss: 0.4182\n",
            "Epoch 221/300\n",
            "100/100 [==============================] - 0s 97us/sample - loss: 0.4180\n",
            "Epoch 222/300\n",
            "100/100 [==============================] - 0s 104us/sample - loss: 0.4178\n",
            "Epoch 223/300\n",
            "100/100 [==============================] - 0s 101us/sample - loss: 0.4177\n",
            "Epoch 224/300\n",
            "100/100 [==============================] - 0s 101us/sample - loss: 0.4176\n",
            "Epoch 225/300\n",
            "100/100 [==============================] - 0s 95us/sample - loss: 0.4173\n",
            "Epoch 226/300\n",
            "100/100 [==============================] - 0s 91us/sample - loss: 0.4172\n",
            "Epoch 227/300\n",
            "100/100 [==============================] - 0s 94us/sample - loss: 0.4170\n",
            "Epoch 228/300\n",
            "100/100 [==============================] - 0s 95us/sample - loss: 0.4169\n",
            "Epoch 229/300\n",
            "100/100 [==============================] - 0s 92us/sample - loss: 0.4167\n",
            "Epoch 230/300\n",
            "100/100 [==============================] - 0s 90us/sample - loss: 0.4166\n",
            "Epoch 231/300\n",
            "100/100 [==============================] - 0s 83us/sample - loss: 0.4164\n",
            "Epoch 232/300\n",
            "100/100 [==============================] - 0s 82us/sample - loss: 0.4163\n",
            "Epoch 233/300\n",
            "100/100 [==============================] - 0s 79us/sample - loss: 0.4162\n",
            "Epoch 234/300\n",
            "100/100 [==============================] - 0s 77us/sample - loss: 0.4160\n",
            "Epoch 235/300\n",
            "100/100 [==============================] - 0s 86us/sample - loss: 0.4158\n",
            "Epoch 236/300\n",
            "100/100 [==============================] - 0s 81us/sample - loss: 0.4155\n",
            "Epoch 237/300\n",
            "100/100 [==============================] - 0s 84us/sample - loss: 0.4153\n",
            "Epoch 238/300\n",
            "100/100 [==============================] - 0s 93us/sample - loss: 0.4153\n",
            "Epoch 239/300\n",
            "100/100 [==============================] - 0s 85us/sample - loss: 0.4150\n",
            "Epoch 240/300\n",
            "100/100 [==============================] - 0s 91us/sample - loss: 0.4147\n",
            "Epoch 241/300\n",
            "100/100 [==============================] - 0s 93us/sample - loss: 0.4146\n",
            "Epoch 242/300\n",
            "100/100 [==============================] - 0s 98us/sample - loss: 0.4144\n",
            "Epoch 243/300\n",
            "100/100 [==============================] - 0s 101us/sample - loss: 0.4142\n",
            "Epoch 244/300\n",
            "100/100 [==============================] - 0s 96us/sample - loss: 0.4140\n",
            "Epoch 245/300\n",
            "100/100 [==============================] - 0s 103us/sample - loss: 0.4138\n",
            "Epoch 246/300\n",
            "100/100 [==============================] - 0s 95us/sample - loss: 0.4136\n",
            "Epoch 247/300\n",
            "100/100 [==============================] - 0s 121us/sample - loss: 0.4135\n",
            "Epoch 248/300\n",
            "100/100 [==============================] - 0s 90us/sample - loss: 0.4132\n",
            "Epoch 249/300\n",
            "100/100 [==============================] - 0s 80us/sample - loss: 0.4131\n",
            "Epoch 250/300\n",
            "100/100 [==============================] - 0s 88us/sample - loss: 0.4128\n",
            "Epoch 251/300\n",
            "100/100 [==============================] - 0s 82us/sample - loss: 0.4127\n",
            "Epoch 252/300\n",
            "100/100 [==============================] - 0s 73us/sample - loss: 0.4125\n",
            "Epoch 253/300\n",
            "100/100 [==============================] - 0s 78us/sample - loss: 0.4124\n",
            "Epoch 254/300\n",
            "100/100 [==============================] - 0s 80us/sample - loss: 0.4122\n",
            "Epoch 255/300\n",
            "100/100 [==============================] - 0s 83us/sample - loss: 0.4119\n",
            "Epoch 256/300\n",
            "100/100 [==============================] - 0s 81us/sample - loss: 0.4118\n",
            "Epoch 257/300\n",
            "100/100 [==============================] - 0s 84us/sample - loss: 0.4115\n",
            "Epoch 258/300\n",
            "100/100 [==============================] - 0s 85us/sample - loss: 0.4113\n",
            "Epoch 259/300\n",
            "100/100 [==============================] - 0s 80us/sample - loss: 0.4111\n",
            "Epoch 260/300\n",
            "100/100 [==============================] - 0s 81us/sample - loss: 0.4110\n",
            "Epoch 261/300\n",
            "100/100 [==============================] - 0s 109us/sample - loss: 0.4107\n",
            "Epoch 262/300\n",
            "100/100 [==============================] - 0s 101us/sample - loss: 0.4105\n",
            "Epoch 263/300\n",
            "100/100 [==============================] - 0s 93us/sample - loss: 0.4103\n",
            "Epoch 264/300\n",
            "100/100 [==============================] - 0s 84us/sample - loss: 0.4102\n",
            "Epoch 265/300\n",
            "100/100 [==============================] - 0s 99us/sample - loss: 0.4100\n",
            "Epoch 266/300\n",
            "100/100 [==============================] - 0s 101us/sample - loss: 0.4098\n",
            "Epoch 267/300\n",
            "100/100 [==============================] - 0s 79us/sample - loss: 0.4096\n",
            "Epoch 268/300\n",
            "100/100 [==============================] - 0s 92us/sample - loss: 0.4094\n",
            "Epoch 269/300\n",
            "100/100 [==============================] - 0s 93us/sample - loss: 0.4092\n",
            "Epoch 270/300\n",
            "100/100 [==============================] - 0s 99us/sample - loss: 0.4090\n",
            "Epoch 271/300\n",
            "100/100 [==============================] - 0s 75us/sample - loss: 0.4088\n",
            "Epoch 272/300\n",
            "100/100 [==============================] - 0s 92us/sample - loss: 0.4086\n",
            "Epoch 273/300\n",
            "100/100 [==============================] - 0s 94us/sample - loss: 0.4084\n",
            "Epoch 274/300\n",
            "100/100 [==============================] - 0s 82us/sample - loss: 0.4082\n",
            "Epoch 275/300\n",
            "100/100 [==============================] - 0s 87us/sample - loss: 0.4080\n",
            "Epoch 276/300\n",
            "100/100 [==============================] - 0s 86us/sample - loss: 0.4076\n",
            "Epoch 277/300\n",
            "100/100 [==============================] - 0s 95us/sample - loss: 0.4073\n",
            "Epoch 278/300\n",
            "100/100 [==============================] - 0s 81us/sample - loss: 0.4075\n",
            "Epoch 279/300\n",
            "100/100 [==============================] - 0s 100us/sample - loss: 0.4073\n",
            "Epoch 280/300\n",
            "100/100 [==============================] - 0s 101us/sample - loss: 0.4071\n",
            "Epoch 281/300\n",
            "100/100 [==============================] - 0s 101us/sample - loss: 0.4068\n",
            "Epoch 282/300\n",
            "100/100 [==============================] - 0s 104us/sample - loss: 0.4065\n",
            "Epoch 283/300\n",
            "100/100 [==============================] - 0s 95us/sample - loss: 0.4063\n",
            "Epoch 284/300\n",
            "100/100 [==============================] - 0s 87us/sample - loss: 0.4064\n",
            "Epoch 285/300\n",
            "100/100 [==============================] - 0s 95us/sample - loss: 0.4059\n",
            "Epoch 286/300\n",
            "100/100 [==============================] - 0s 93us/sample - loss: 0.4056\n",
            "Epoch 287/300\n",
            "100/100 [==============================] - 0s 80us/sample - loss: 0.4055\n",
            "Epoch 288/300\n",
            "100/100 [==============================] - 0s 94us/sample - loss: 0.4053\n",
            "Epoch 289/300\n",
            "100/100 [==============================] - 0s 83us/sample - loss: 0.4051\n",
            "Epoch 290/300\n",
            "100/100 [==============================] - 0s 101us/sample - loss: 0.4049\n",
            "Epoch 291/300\n",
            "100/100 [==============================] - 0s 102us/sample - loss: 0.4047\n",
            "Epoch 292/300\n",
            "100/100 [==============================] - 0s 92us/sample - loss: 0.4044\n",
            "Epoch 293/300\n",
            "100/100 [==============================] - 0s 80us/sample - loss: 0.4042\n",
            "Epoch 294/300\n",
            "100/100 [==============================] - 0s 75us/sample - loss: 0.4040\n",
            "Epoch 295/300\n",
            "100/100 [==============================] - 0s 101us/sample - loss: 0.4038\n",
            "Epoch 296/300\n",
            "100/100 [==============================] - 0s 121us/sample - loss: 0.4036\n",
            "Epoch 297/300\n",
            "100/100 [==============================] - 0s 95us/sample - loss: 0.4035\n",
            "Epoch 298/300\n",
            "100/100 [==============================] - 0s 95us/sample - loss: 0.4032\n",
            "Epoch 299/300\n",
            "100/100 [==============================] - 0s 116us/sample - loss: 0.4030\n",
            "Epoch 300/300\n",
            "100/100 [==============================] - 0s 118us/sample - loss: 0.4028\n"
          ],
          "name": "stdout"
        },
        {
          "output_type": "execute_result",
          "data": {
            "text/plain": [
              "<tensorflow.python.keras.callbacks.History at 0x7f6d178d6c18>"
            ]
          },
          "metadata": {
            "tags": []
          },
          "execution_count": 7
        }
      ]
    },
    {
      "cell_type": "code",
      "metadata": {
        "id": "SZ3k1gyulkXw",
        "colab_type": "code",
        "outputId": "d4715448-0656-40c5-f1d6-9d6f6d28c6c9",
        "colab": {
          "base_uri": "https://localhost:8080/",
          "height": 106
        }
      },
      "source": [
        "w=model1.get_weights()\n",
        "w"
      ],
      "execution_count": 8,
      "outputs": [
        {
          "output_type": "execute_result",
          "data": {
            "text/plain": [
              "[array([[[0.591549  ]],\n",
              " \n",
              "        [[0.15024267]]], dtype=float32),\n",
              " array([[1.5245993]], dtype=float32),\n",
              " array([0.39320806], dtype=float32)]"
            ]
          },
          "metadata": {
            "tags": []
          },
          "execution_count": 8
        }
      ]
    },
    {
      "cell_type": "code",
      "metadata": {
        "id": "B5CpKAAlEVd5",
        "colab_type": "code",
        "outputId": "0ffd224b-b3d3-4905-896d-c327626feeee",
        "colab": {
          "base_uri": "https://localhost:8080/",
          "height": 35
        }
      },
      "source": [
        "model1.predict([[[1.0],[2.0],[3.0]]])"
      ],
      "execution_count": 11,
      "outputs": [
        {
          "output_type": "execute_result",
          "data": {
            "text/plain": [
              "array([[[2.884138]]], dtype=float32)"
            ]
          },
          "metadata": {
            "tags": []
          },
          "execution_count": 11
        }
      ]
    },
    {
      "cell_type": "code",
      "metadata": {
        "id": "LifFU6UFwHgX",
        "colab_type": "code",
        "colab": {}
      },
      "source": [
        "#Fazendo a convolução na mão para 1,2,3,4...\n",
        "series=[[1,2],[2,3]]\n",
        "kernel=[0.591549 ,0.15024267]\n",
        "conv1=[np.inner(kernel,s) for s in series]\n",
        "conv1\n"
      ],
      "execution_count": 0,
      "outputs": []
    },
    {
      "cell_type": "code",
      "metadata": {
        "id": "Lb_hpQpCzU0r",
        "colab_type": "code",
        "colab": {}
      },
      "source": [
        "model2=tf.keras.Sequential()\n",
        "model2.add(model1.layers[0])"
      ],
      "execution_count": 0,
      "outputs": []
    },
    {
      "cell_type": "code",
      "metadata": {
        "id": "ywDP2shbzspT",
        "colab_type": "code",
        "outputId": "fa6a14b9-4b7b-403e-e14e-38da88a235f8",
        "colab": {
          "base_uri": "https://localhost:8080/",
          "height": 52
        }
      },
      "source": [
        "model2.predict(X[2:3])"
      ],
      "execution_count": 14,
      "outputs": [
        {
          "output_type": "execute_result",
          "data": {
            "text/plain": [
              "array([[[0.8920343],\n",
              "        [1.633826 ]]], dtype=float32)"
            ]
          },
          "metadata": {
            "tags": []
          },
          "execution_count": 14
        }
      ]
    },
    {
      "cell_type": "code",
      "metadata": {
        "id": "MX9tAvNd55qE",
        "colab_type": "code",
        "outputId": "318a6ca1-e199-4827-8923-9fd010b742f8",
        "colab": {
          "base_uri": "https://localhost:8080/",
          "height": 35
        }
      },
      "source": [
        "#Agora, conferindo o maxpooling\n",
        "model3=tf.keras.Sequential()\n",
        "model3.add(model1.layers[0])\n",
        "model3.add(model1.layers[1])\n",
        "model3.predict(X[2:3])"
      ],
      "execution_count": 15,
      "outputs": [
        {
          "output_type": "execute_result",
          "data": {
            "text/plain": [
              "array([[[1.633826]]], dtype=float32)"
            ]
          },
          "metadata": {
            "tags": []
          },
          "execution_count": 15
        }
      ]
    },
    {
      "cell_type": "code",
      "metadata": {
        "id": "_LFNpuI-8t_v",
        "colab_type": "code",
        "outputId": "a9c646a0-2590-4226-f52e-8a33eed82058",
        "colab": {
          "base_uri": "https://localhost:8080/",
          "height": 35
        }
      },
      "source": [
        "#E o output final\n",
        "1.633826*1.5245993+0.39320806"
      ],
      "execution_count": 16,
      "outputs": [
        {
          "output_type": "execute_result",
          "data": {
            "text/plain": [
              "2.8841380359218"
            ]
          },
          "metadata": {
            "tags": []
          },
          "execution_count": 16
        }
      ]
    }
  ]
}