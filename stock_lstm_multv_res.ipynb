{
  "nbformat": 4,
  "nbformat_minor": 0,
  "metadata": {
    "colab": {
      "name": "stock_lstm_multv_res.ipynb",
      "provenance": [],
      "include_colab_link": true
    },
    "kernelspec": {
      "name": "python3",
      "display_name": "Python 3"
    }
  },
  "cells": [
    {
      "cell_type": "markdown",
      "metadata": {
        "id": "view-in-github",
        "colab_type": "text"
      },
      "source": [
        "<a href=\"https://colab.research.google.com/github/douglasbarbosadelima/Data-Science/blob/master/stock_lstm_multv_res.ipynb\" target=\"_parent\"><img src=\"https://colab.research.google.com/assets/colab-badge.svg\" alt=\"Open In Colab\"/></a>"
      ]
    },
    {
      "cell_type": "code",
      "metadata": {
        "id": "k44HDMiO3i9u",
        "colab_type": "code",
        "outputId": "e91aeef1-e3ea-4363-c8ad-1e66e59d0986",
        "colab": {
          "base_uri": "https://localhost:8080/",
          "height": 941
        }
      },
      "source": [
        "!pip install tensorflow==2.1.0 "
      ],
      "execution_count": 1,
      "outputs": [
        {
          "output_type": "stream",
          "text": [
            "Collecting tensorflow==2.1.0\n",
            "\u001b[?25l  Downloading https://files.pythonhosted.org/packages/85/d4/c0cd1057b331bc38b65478302114194bd8e1b9c2bbc06e300935c0e93d90/tensorflow-2.1.0-cp36-cp36m-manylinux2010_x86_64.whl (421.8MB)\n",
            "\u001b[K     |████████████████████████████████| 421.8MB 35kB/s \n",
            "\u001b[?25hRequirement already satisfied: astor>=0.6.0 in /usr/local/lib/python3.6/dist-packages (from tensorflow==2.1.0) (0.8.1)\n",
            "Collecting tensorboard<2.2.0,>=2.1.0\n",
            "\u001b[?25l  Downloading https://files.pythonhosted.org/packages/d9/41/bbf49b61370e4f4d245d4c6051dfb6db80cec672605c91b1652ac8cc3d38/tensorboard-2.1.1-py3-none-any.whl (3.8MB)\n",
            "\u001b[K     |████████████████████████████████| 3.9MB 53.5MB/s \n",
            "\u001b[?25hRequirement already satisfied: wheel>=0.26; python_version >= \"3\" in /usr/local/lib/python3.6/dist-packages (from tensorflow==2.1.0) (0.34.2)\n",
            "Requirement already satisfied: keras-preprocessing>=1.1.0 in /usr/local/lib/python3.6/dist-packages (from tensorflow==2.1.0) (1.1.0)\n",
            "Requirement already satisfied: google-pasta>=0.1.6 in /usr/local/lib/python3.6/dist-packages (from tensorflow==2.1.0) (0.1.8)\n",
            "Requirement already satisfied: gast==0.2.2 in /usr/local/lib/python3.6/dist-packages (from tensorflow==2.1.0) (0.2.2)\n",
            "Requirement already satisfied: termcolor>=1.1.0 in /usr/local/lib/python3.6/dist-packages (from tensorflow==2.1.0) (1.1.0)\n",
            "Requirement already satisfied: six>=1.12.0 in /usr/local/lib/python3.6/dist-packages (from tensorflow==2.1.0) (1.12.0)\n",
            "Requirement already satisfied: keras-applications>=1.0.8 in /usr/local/lib/python3.6/dist-packages (from tensorflow==2.1.0) (1.0.8)\n",
            "Requirement already satisfied: opt-einsum>=2.3.2 in /usr/local/lib/python3.6/dist-packages (from tensorflow==2.1.0) (3.1.0)\n",
            "Requirement already satisfied: numpy<2.0,>=1.16.0 in /usr/local/lib/python3.6/dist-packages (from tensorflow==2.1.0) (1.17.5)\n",
            "Requirement already satisfied: scipy==1.4.1; python_version >= \"3\" in /usr/local/lib/python3.6/dist-packages (from tensorflow==2.1.0) (1.4.1)\n",
            "Requirement already satisfied: absl-py>=0.7.0 in /usr/local/lib/python3.6/dist-packages (from tensorflow==2.1.0) (0.9.0)\n",
            "Requirement already satisfied: protobuf>=3.8.0 in /usr/local/lib/python3.6/dist-packages (from tensorflow==2.1.0) (3.10.0)\n",
            "Requirement already satisfied: wrapt>=1.11.1 in /usr/local/lib/python3.6/dist-packages (from tensorflow==2.1.0) (1.11.2)\n",
            "Requirement already satisfied: grpcio>=1.8.6 in /usr/local/lib/python3.6/dist-packages (from tensorflow==2.1.0) (1.27.1)\n",
            "Collecting tensorflow-estimator<2.2.0,>=2.1.0rc0\n",
            "\u001b[?25l  Downloading https://files.pythonhosted.org/packages/18/90/b77c328a1304437ab1310b463e533fa7689f4bfc41549593056d812fab8e/tensorflow_estimator-2.1.0-py2.py3-none-any.whl (448kB)\n",
            "\u001b[K     |████████████████████████████████| 450kB 52.9MB/s \n",
            "\u001b[?25hRequirement already satisfied: google-auth-oauthlib<0.5,>=0.4.1 in /usr/local/lib/python3.6/dist-packages (from tensorboard<2.2.0,>=2.1.0->tensorflow==2.1.0) (0.4.1)\n",
            "Requirement already satisfied: werkzeug>=0.11.15 in /usr/local/lib/python3.6/dist-packages (from tensorboard<2.2.0,>=2.1.0->tensorflow==2.1.0) (1.0.0)\n",
            "Requirement already satisfied: markdown>=2.6.8 in /usr/local/lib/python3.6/dist-packages (from tensorboard<2.2.0,>=2.1.0->tensorflow==2.1.0) (3.2.1)\n",
            "Requirement already satisfied: requests<3,>=2.21.0 in /usr/local/lib/python3.6/dist-packages (from tensorboard<2.2.0,>=2.1.0->tensorflow==2.1.0) (2.21.0)\n",
            "Requirement already satisfied: setuptools>=41.0.0 in /usr/local/lib/python3.6/dist-packages (from tensorboard<2.2.0,>=2.1.0->tensorflow==2.1.0) (45.2.0)\n",
            "Requirement already satisfied: google-auth<2,>=1.6.3 in /usr/local/lib/python3.6/dist-packages (from tensorboard<2.2.0,>=2.1.0->tensorflow==2.1.0) (1.7.2)\n",
            "Requirement already satisfied: h5py in /usr/local/lib/python3.6/dist-packages (from keras-applications>=1.0.8->tensorflow==2.1.0) (2.8.0)\n",
            "Requirement already satisfied: requests-oauthlib>=0.7.0 in /usr/local/lib/python3.6/dist-packages (from google-auth-oauthlib<0.5,>=0.4.1->tensorboard<2.2.0,>=2.1.0->tensorflow==2.1.0) (1.3.0)\n",
            "Requirement already satisfied: certifi>=2017.4.17 in /usr/local/lib/python3.6/dist-packages (from requests<3,>=2.21.0->tensorboard<2.2.0,>=2.1.0->tensorflow==2.1.0) (2019.11.28)\n",
            "Requirement already satisfied: chardet<3.1.0,>=3.0.2 in /usr/local/lib/python3.6/dist-packages (from requests<3,>=2.21.0->tensorboard<2.2.0,>=2.1.0->tensorflow==2.1.0) (3.0.4)\n",
            "Requirement already satisfied: idna<2.9,>=2.5 in /usr/local/lib/python3.6/dist-packages (from requests<3,>=2.21.0->tensorboard<2.2.0,>=2.1.0->tensorflow==2.1.0) (2.8)\n",
            "Requirement already satisfied: urllib3<1.25,>=1.21.1 in /usr/local/lib/python3.6/dist-packages (from requests<3,>=2.21.0->tensorboard<2.2.0,>=2.1.0->tensorflow==2.1.0) (1.24.3)\n",
            "Requirement already satisfied: rsa<4.1,>=3.1.4 in /usr/local/lib/python3.6/dist-packages (from google-auth<2,>=1.6.3->tensorboard<2.2.0,>=2.1.0->tensorflow==2.1.0) (4.0)\n",
            "Requirement already satisfied: cachetools<3.2,>=2.0.0 in /usr/local/lib/python3.6/dist-packages (from google-auth<2,>=1.6.3->tensorboard<2.2.0,>=2.1.0->tensorflow==2.1.0) (3.1.1)\n",
            "Requirement already satisfied: pyasn1-modules>=0.2.1 in /usr/local/lib/python3.6/dist-packages (from google-auth<2,>=1.6.3->tensorboard<2.2.0,>=2.1.0->tensorflow==2.1.0) (0.2.8)\n",
            "Requirement already satisfied: oauthlib>=3.0.0 in /usr/local/lib/python3.6/dist-packages (from requests-oauthlib>=0.7.0->google-auth-oauthlib<0.5,>=0.4.1->tensorboard<2.2.0,>=2.1.0->tensorflow==2.1.0) (3.1.0)\n",
            "Requirement already satisfied: pyasn1>=0.1.3 in /usr/local/lib/python3.6/dist-packages (from rsa<4.1,>=3.1.4->google-auth<2,>=1.6.3->tensorboard<2.2.0,>=2.1.0->tensorflow==2.1.0) (0.4.8)\n",
            "Installing collected packages: tensorboard, tensorflow-estimator, tensorflow\n",
            "  Found existing installation: tensorboard 1.15.0\n",
            "    Uninstalling tensorboard-1.15.0:\n",
            "      Successfully uninstalled tensorboard-1.15.0\n",
            "  Found existing installation: tensorflow-estimator 1.15.1\n",
            "    Uninstalling tensorflow-estimator-1.15.1:\n",
            "      Successfully uninstalled tensorflow-estimator-1.15.1\n",
            "  Found existing installation: tensorflow 1.15.0\n",
            "    Uninstalling tensorflow-1.15.0:\n",
            "      Successfully uninstalled tensorflow-1.15.0\n",
            "Successfully installed tensorboard-2.1.1 tensorflow-2.1.0 tensorflow-estimator-2.1.0\n"
          ],
          "name": "stdout"
        }
      ]
    },
    {
      "cell_type": "code",
      "metadata": {
        "id": "2keceUB04Fm-",
        "colab_type": "code",
        "colab": {
          "base_uri": "https://localhost:8080/",
          "height": 35
        },
        "outputId": "77bf7fd0-6199-4f8b-f32d-eed6ea5f504b"
      },
      "source": [
        "import tensorflow as tf\n",
        "import pandas as pd\n",
        "import math\n",
        "import numpy as np\n",
        "import random\n",
        "\n",
        "tf.__version__"
      ],
      "execution_count": 5,
      "outputs": [
        {
          "output_type": "execute_result",
          "data": {
            "text/plain": [
              "'2.1.0'"
            ]
          },
          "metadata": {
            "tags": []
          },
          "execution_count": 5
        }
      ]
    },
    {
      "cell_type": "code",
      "metadata": {
        "id": "Xo_PsLKjUJwQ",
        "colab_type": "code",
        "outputId": "f41cfda4-261d-4f3c-d0f3-72e8f2579a89",
        "colab": {
          "base_uri": "https://localhost:8080/",
          "height": 194
        }
      },
      "source": [
        "df=pd.read_csv('krot3.CSV',delimiter=';')\n",
        "df.head()"
      ],
      "execution_count": 7,
      "outputs": [
        {
          "output_type": "execute_result",
          "data": {
            "text/html": [
              "<div>\n",
              "<style scoped>\n",
              "    .dataframe tbody tr th:only-of-type {\n",
              "        vertical-align: middle;\n",
              "    }\n",
              "\n",
              "    .dataframe tbody tr th {\n",
              "        vertical-align: top;\n",
              "    }\n",
              "\n",
              "    .dataframe thead th {\n",
              "        text-align: right;\n",
              "    }\n",
              "</style>\n",
              "<table border=\"1\" class=\"dataframe\">\n",
              "  <thead>\n",
              "    <tr style=\"text-align: right;\">\n",
              "      <th></th>\n",
              "      <th>Data</th>\n",
              "      <th>Abertura</th>\n",
              "      <th>Fechamento</th>\n",
              "    </tr>\n",
              "  </thead>\n",
              "  <tbody>\n",
              "    <tr>\n",
              "      <th>0</th>\n",
              "      <td>07/01/2016</td>\n",
              "      <td>14.13</td>\n",
              "      <td>14.28</td>\n",
              "    </tr>\n",
              "    <tr>\n",
              "      <th>1</th>\n",
              "      <td>07/04/2016</td>\n",
              "      <td>14.40</td>\n",
              "      <td>14.08</td>\n",
              "    </tr>\n",
              "    <tr>\n",
              "      <th>2</th>\n",
              "      <td>07/05/2016</td>\n",
              "      <td>13.93</td>\n",
              "      <td>13.85</td>\n",
              "    </tr>\n",
              "    <tr>\n",
              "      <th>3</th>\n",
              "      <td>07/06/2016</td>\n",
              "      <td>13.90</td>\n",
              "      <td>13.57</td>\n",
              "    </tr>\n",
              "    <tr>\n",
              "      <th>4</th>\n",
              "      <td>07/07/2016</td>\n",
              "      <td>13.70</td>\n",
              "      <td>13.56</td>\n",
              "    </tr>\n",
              "  </tbody>\n",
              "</table>\n",
              "</div>"
            ],
            "text/plain": [
              "         Data  Abertura  Fechamento\n",
              "0  07/01/2016     14.13       14.28\n",
              "1  07/04/2016     14.40       14.08\n",
              "2  07/05/2016     13.93       13.85\n",
              "3  07/06/2016     13.90       13.57\n",
              "4  07/07/2016     13.70       13.56"
            ]
          },
          "metadata": {
            "tags": []
          },
          "execution_count": 7
        }
      ]
    },
    {
      "cell_type": "code",
      "metadata": {
        "id": "69eGo7edU5rI",
        "colab_type": "code",
        "outputId": "069ed519-7c4d-4d42-a938-f35d1ff92dbb",
        "colab": {
          "base_uri": "https://localhost:8080/",
          "height": 159
        }
      },
      "source": [
        "df.info()"
      ],
      "execution_count": 8,
      "outputs": [
        {
          "output_type": "stream",
          "text": [
            "<class 'pandas.core.frame.DataFrame'>\n",
            "RangeIndex: 177 entries, 0 to 176\n",
            "Data columns (total 3 columns):\n",
            "Data          177 non-null object\n",
            "Abertura      177 non-null float64\n",
            "Fechamento    177 non-null float64\n",
            "dtypes: float64(2), object(1)\n",
            "memory usage: 4.3+ KB\n"
          ],
          "name": "stdout"
        }
      ]
    },
    {
      "cell_type": "code",
      "metadata": {
        "id": "kf40z0PvVIts",
        "colab_type": "code",
        "colab": {}
      },
      "source": [
        "ind=df[df['Abertura']==0.0].index#há dias com movimentação 0.0, vamos eliminá-los"
      ],
      "execution_count": 0,
      "outputs": []
    },
    {
      "cell_type": "code",
      "metadata": {
        "id": "aRHlM4JzWFek",
        "colab_type": "code",
        "colab": {}
      },
      "source": [
        "df.drop(ind,inplace=True)"
      ],
      "execution_count": 0,
      "outputs": []
    },
    {
      "cell_type": "code",
      "metadata": {
        "id": "K4mH-U1pWgET",
        "colab_type": "code",
        "outputId": "e41d2d6e-96ca-4fed-d010-39cf96ace1d6",
        "colab": {
          "base_uri": "https://localhost:8080/",
          "height": 47
        }
      },
      "source": [
        "df[df['Abertura']==0.0]#checking is always good"
      ],
      "execution_count": 11,
      "outputs": [
        {
          "output_type": "execute_result",
          "data": {
            "text/html": [
              "<div>\n",
              "<style scoped>\n",
              "    .dataframe tbody tr th:only-of-type {\n",
              "        vertical-align: middle;\n",
              "    }\n",
              "\n",
              "    .dataframe tbody tr th {\n",
              "        vertical-align: top;\n",
              "    }\n",
              "\n",
              "    .dataframe thead th {\n",
              "        text-align: right;\n",
              "    }\n",
              "</style>\n",
              "<table border=\"1\" class=\"dataframe\">\n",
              "  <thead>\n",
              "    <tr style=\"text-align: right;\">\n",
              "      <th></th>\n",
              "      <th>Data</th>\n",
              "      <th>Abertura</th>\n",
              "      <th>Fechamento</th>\n",
              "    </tr>\n",
              "  </thead>\n",
              "  <tbody>\n",
              "  </tbody>\n",
              "</table>\n",
              "</div>"
            ],
            "text/plain": [
              "Empty DataFrame\n",
              "Columns: [Data, Abertura, Fechamento]\n",
              "Index: []"
            ]
          },
          "metadata": {
            "tags": []
          },
          "execution_count": 11
        }
      ]
    },
    {
      "cell_type": "markdown",
      "metadata": {
        "id": "L9xbdDR9E5U_",
        "colab_type": "text"
      },
      "source": [
        "Criando uma nova feature ('Med_ant'), que traz a média dos últimos 5 dias (obviamente poderia (e deveria) ser, de fato, uma totalmente nova feature, o valor do índice de outra bolsa, por exemplo). Começaremos o dataset no sexto dia (para já ter média).\n"
      ]
    },
    {
      "cell_type": "code",
      "metadata": {
        "id": "J7GMcJA2FRPr",
        "colab_type": "code",
        "colab": {}
      },
      "source": [
        "df['Med_ant']=df['Fechamento'].rolling(5).mean()"
      ],
      "execution_count": 0,
      "outputs": []
    },
    {
      "cell_type": "code",
      "metadata": {
        "id": "pbCXsuEVIcgH",
        "colab_type": "code",
        "outputId": "c133246e-e43e-4838-a21e-ab43eff689cb",
        "colab": {
          "base_uri": "https://localhost:8080/",
          "height": 194
        }
      },
      "source": [
        "df.drop(index=[0,1,2,3,4],inplace=True)\n",
        "df.head()"
      ],
      "execution_count": 13,
      "outputs": [
        {
          "output_type": "execute_result",
          "data": {
            "text/html": [
              "<div>\n",
              "<style scoped>\n",
              "    .dataframe tbody tr th:only-of-type {\n",
              "        vertical-align: middle;\n",
              "    }\n",
              "\n",
              "    .dataframe tbody tr th {\n",
              "        vertical-align: top;\n",
              "    }\n",
              "\n",
              "    .dataframe thead th {\n",
              "        text-align: right;\n",
              "    }\n",
              "</style>\n",
              "<table border=\"1\" class=\"dataframe\">\n",
              "  <thead>\n",
              "    <tr style=\"text-align: right;\">\n",
              "      <th></th>\n",
              "      <th>Data</th>\n",
              "      <th>Abertura</th>\n",
              "      <th>Fechamento</th>\n",
              "      <th>Med_ant</th>\n",
              "    </tr>\n",
              "  </thead>\n",
              "  <tbody>\n",
              "    <tr>\n",
              "      <th>5</th>\n",
              "      <td>07/08/2016</td>\n",
              "      <td>13.63</td>\n",
              "      <td>14.12</td>\n",
              "      <td>13.836</td>\n",
              "    </tr>\n",
              "    <tr>\n",
              "      <th>6</th>\n",
              "      <td>07/11/2016</td>\n",
              "      <td>14.25</td>\n",
              "      <td>14.12</td>\n",
              "      <td>13.844</td>\n",
              "    </tr>\n",
              "    <tr>\n",
              "      <th>7</th>\n",
              "      <td>07/12/2016</td>\n",
              "      <td>14.12</td>\n",
              "      <td>14.63</td>\n",
              "      <td>14.000</td>\n",
              "    </tr>\n",
              "    <tr>\n",
              "      <th>8</th>\n",
              "      <td>07/13/2016</td>\n",
              "      <td>14.52</td>\n",
              "      <td>15.03</td>\n",
              "      <td>14.292</td>\n",
              "    </tr>\n",
              "    <tr>\n",
              "      <th>9</th>\n",
              "      <td>07/14/2016</td>\n",
              "      <td>15.20</td>\n",
              "      <td>15.45</td>\n",
              "      <td>14.670</td>\n",
              "    </tr>\n",
              "  </tbody>\n",
              "</table>\n",
              "</div>"
            ],
            "text/plain": [
              "         Data  Abertura  Fechamento  Med_ant\n",
              "5  07/08/2016     13.63       14.12   13.836\n",
              "6  07/11/2016     14.25       14.12   13.844\n",
              "7  07/12/2016     14.12       14.63   14.000\n",
              "8  07/13/2016     14.52       15.03   14.292\n",
              "9  07/14/2016     15.20       15.45   14.670"
            ]
          },
          "metadata": {
            "tags": []
          },
          "execution_count": 13
        }
      ]
    },
    {
      "cell_type": "markdown",
      "metadata": {
        "id": "zS1JsH7y557g",
        "colab_type": "text"
      },
      "source": [
        "Agora vamos criar sequências de 10  e médias, o target será o 11 fechamento"
      ]
    },
    {
      "cell_type": "code",
      "metadata": {
        "id": "GH2fzhNi6IBg",
        "colab_type": "code",
        "outputId": "fa63bb54-8103-4520-c7da-cb9a5730a541",
        "colab": {
          "base_uri": "https://localhost:8080/",
          "height": 639
        }
      },
      "source": [
        "n=len(df)\n",
        "print(n)\n",
        "X=[]\n",
        "y=[]\n",
        "for i in range(n-10):\n",
        "  seq=[]\n",
        "  for j in range(10):\n",
        "    seq.append([df.iloc[i+j,2],df.iloc[i+j,3]])\n",
        "  X.append(seq)\n",
        "  y.append([df.iloc[i+10,2]])\n",
        "X=np.array(X)\n",
        "y=np.array(y)\n",
        "\n",
        "\n",
        "X[:3],y[:3]"
      ],
      "execution_count": 15,
      "outputs": [
        {
          "output_type": "stream",
          "text": [
            "156\n"
          ],
          "name": "stdout"
        },
        {
          "output_type": "execute_result",
          "data": {
            "text/plain": [
              "(array([[[14.12 , 13.836],\n",
              "         [14.12 , 13.844],\n",
              "         [14.63 , 14.   ],\n",
              "         [15.03 , 14.292],\n",
              "         [15.45 , 14.67 ],\n",
              "         [15.64 , 14.974],\n",
              "         [15.8  , 15.31 ],\n",
              "         [15.74 , 15.532],\n",
              "         [14.95 , 15.516],\n",
              "         [14.88 , 15.402]],\n",
              " \n",
              "        [[14.12 , 13.844],\n",
              "         [14.63 , 14.   ],\n",
              "         [15.03 , 14.292],\n",
              "         [15.45 , 14.67 ],\n",
              "         [15.64 , 14.974],\n",
              "         [15.8  , 15.31 ],\n",
              "         [15.74 , 15.532],\n",
              "         [14.95 , 15.516],\n",
              "         [14.88 , 15.402],\n",
              "         [15.08 , 15.29 ]],\n",
              " \n",
              "        [[14.63 , 14.   ],\n",
              "         [15.03 , 14.292],\n",
              "         [15.45 , 14.67 ],\n",
              "         [15.64 , 14.974],\n",
              "         [15.8  , 15.31 ],\n",
              "         [15.74 , 15.532],\n",
              "         [14.95 , 15.516],\n",
              "         [14.88 , 15.402],\n",
              "         [15.08 , 15.29 ],\n",
              "         [14.81 , 15.092]]]), array([[15.08],\n",
              "        [14.81],\n",
              "        [14.55]]))"
            ]
          },
          "metadata": {
            "tags": []
          },
          "execution_count": 15
        }
      ]
    },
    {
      "cell_type": "code",
      "metadata": {
        "id": "182B_zEA7xaX",
        "colab_type": "code",
        "colab": {}
      },
      "source": [
        "tf.random.set_seed(51)\n",
        "model=tf.keras.Sequential()\n",
        "model.add(tf.keras.layers.LSTM(8,input_shape=(None,2)))\n",
        "model.add(tf.keras.layers.Dense(1))"
      ],
      "execution_count": 0,
      "outputs": []
    },
    {
      "cell_type": "code",
      "metadata": {
        "id": "x1J-6uKU-B0S",
        "colab_type": "code",
        "colab": {}
      },
      "source": [
        "model.compile(loss='mean_squared_error', optimizer='adam')"
      ],
      "execution_count": 0,
      "outputs": []
    },
    {
      "cell_type": "code",
      "metadata": {
        "id": "aBQpzcGf7mLv",
        "colab_type": "code",
        "outputId": "5fa2ae20-b370-4881-d15f-1c5ffb184d10",
        "colab": {
          "base_uri": "https://localhost:8080/",
          "height": 230
        }
      },
      "source": [
        "model.summary()"
      ],
      "execution_count": 18,
      "outputs": [
        {
          "output_type": "stream",
          "text": [
            "Model: \"sequential\"\n",
            "_________________________________________________________________\n",
            "Layer (type)                 Output Shape              Param #   \n",
            "=================================================================\n",
            "lstm (LSTM)                  (None, 8)                 352       \n",
            "_________________________________________________________________\n",
            "dense (Dense)                (None, 1)                 9         \n",
            "=================================================================\n",
            "Total params: 361\n",
            "Trainable params: 361\n",
            "Non-trainable params: 0\n",
            "_________________________________________________________________\n"
          ],
          "name": "stdout"
        }
      ]
    },
    {
      "cell_type": "code",
      "metadata": {
        "id": "4WgfIH19-OKh",
        "colab_type": "code",
        "colab": {}
      },
      "source": [
        "hist=model.fit(X, y,validation_split=0.3, epochs=1000)"
      ],
      "execution_count": 0,
      "outputs": []
    },
    {
      "cell_type": "code",
      "metadata": {
        "id": "8N9kV-xaOMfm",
        "colab_type": "code",
        "outputId": "14376914-c64c-435a-fc90-91b00bb3028a",
        "colab": {
          "base_uri": "https://localhost:8080/",
          "height": 1000
        }
      },
      "source": [
        "w=model.get_weights()\n",
        "w"
      ],
      "execution_count": 20,
      "outputs": [
        {
          "output_type": "execute_result",
          "data": {
            "text/plain": [
              "[array([[ 0.10957237,  0.06134909,  0.25267434,  0.1773188 ,  0.00763501,\n",
              "         -0.13014229,  0.3617923 , -0.03316885, -0.2834658 , -0.02324965,\n",
              "         -0.28621373,  0.36705825,  0.15234555,  0.17210239,  0.20950626,\n",
              "          0.26297536,  0.20835884, -0.12600145,  0.28493813, -0.03576471,\n",
              "          0.2438067 , -0.3257933 , -0.02139801, -0.1354632 ,  0.4874532 ,\n",
              "          0.21686278,  0.26650423,  0.30045718, -0.05021737,  0.255187  ,\n",
              "          0.09486912,  0.31639656],\n",
              "        [ 0.2735822 ,  0.12258939,  0.02638534,  0.08224898,  0.12323064,\n",
              "          0.07620972,  0.46843588, -0.03396611,  0.3004362 ,  0.20175895,\n",
              "          0.35549825, -0.1638714 , -0.10700321, -0.06254163, -0.06267677,\n",
              "         -0.07050116, -0.3162354 ,  0.47325867, -0.24039213, -0.05148578,\n",
              "         -0.08572703, -0.17056936, -0.4673686 ,  0.02304766, -0.23116569,\n",
              "          0.01638751,  0.2781282 , -0.01625872,  0.3056232 ,  0.17581676,\n",
              "          0.13411315,  0.28428632]], dtype=float32),\n",
              " array([[-0.18607056,  0.1378383 , -0.23776832, -0.2411    , -0.09034456,\n",
              "         -0.0320107 ,  0.17307943, -0.29386097, -0.01608994, -0.14206946,\n",
              "         -0.13171518,  0.24311668, -0.03692819,  0.02600189, -0.2965376 ,\n",
              "         -0.617687  , -0.1613892 , -0.0579363 , -0.21081446,  0.15520005,\n",
              "         -0.53096694, -0.12382142, -0.14670794,  0.28055468, -0.5152653 ,\n",
              "         -0.2506242 , -0.3103559 , -0.28257185, -0.6348544 ,  0.62988955,\n",
              "         -0.57656145,  0.08141163],\n",
              "        [ 0.24254385,  0.24621615,  0.05094887, -0.04914892,  0.26370183,\n",
              "          0.28554204,  0.40682694,  0.16793594, -0.05125433,  0.39422134,\n",
              "          0.00201682,  0.15482542,  0.00581314,  0.12234086,  0.3562366 ,\n",
              "          0.12991683, -0.48250338, -0.01178375,  0.13386367, -0.32877094,\n",
              "          0.48516542, -0.1054481 ,  0.05080495, -0.29325467,  0.03594368,\n",
              "          0.14693066,  0.8155715 ,  0.66172326,  0.46598873, -0.66743875,\n",
              "          0.33868387, -0.26138204],\n",
              "        [-0.06784578,  0.08362424,  0.01305804, -0.09266829,  0.0440874 ,\n",
              "          0.19621238, -0.02582914, -0.2151711 ,  0.10677607, -0.12846033,\n",
              "         -0.02043748, -0.1260257 ,  0.20594087, -0.10697577,  0.13381623,\n",
              "          0.38313794,  0.17675325, -0.08988116,  0.13396959,  0.08406314,\n",
              "          0.05403211, -0.11128536, -0.10636413, -0.13790566, -0.1612995 ,\n",
              "          0.4411588 ,  0.4181067 ,  0.09018994,  0.05048784, -0.7720311 ,\n",
              "          0.4197754 ,  0.12995063],\n",
              "        [-0.08099551, -0.305186  , -0.02129101,  0.00168963, -0.28509665,\n",
              "         -0.3240373 ,  0.07442865,  0.02515076, -0.171777  , -0.14360115,\n",
              "         -0.27723452, -0.0724884 , -0.38066286,  0.0822258 , -0.1998355 ,\n",
              "         -0.31953934,  0.42061955, -0.3010568 ,  0.14053847,  0.5316197 ,\n",
              "          0.00288423,  0.25257522,  0.04507999,  0.3606888 , -0.6881564 ,\n",
              "         -0.18201059, -0.7584115 , -0.1840162 , -0.6217242 ,  0.63474494,\n",
              "         -0.46523085, -0.01750652],\n",
              "        [ 0.1509069 ,  0.03816853,  0.5390969 , -0.31260258,  0.4096092 ,\n",
              "          0.7530571 , -0.20288363,  0.63451266,  0.43886533,  0.18450743,\n",
              "          0.4959059 , -0.46048844,  0.26376116,  0.59227425,  0.7101572 ,\n",
              "          0.5646443 , -0.3315789 ,  0.19468519, -0.24635209,  0.29484323,\n",
              "          0.21168576, -0.07521996,  0.17168598, -0.15842006,  0.8230658 ,\n",
              "          0.8492519 ,  0.53500456,  1.0804245 ,  0.17364712, -0.7866098 ,\n",
              "          0.79468775, -0.04122323],\n",
              "        [-0.1177457 , -0.36269507, -0.4700952 , -0.28607258,  0.11161304,\n",
              "         -0.11717177, -0.12417307, -0.06719023,  0.06429373,  0.00732586,\n",
              "          0.00521434, -0.03044153,  0.12960914, -0.36230093, -0.18857642,\n",
              "         -0.03926074,  0.0917692 ,  0.06858253,  0.12900555,  0.15411107,\n",
              "         -0.08951184,  0.25451195,  0.05748893,  0.32107732, -0.195776  ,\n",
              "         -0.3396416 , -0.3623844 , -0.21749745, -0.68862617, -0.00449866,\n",
              "         -0.28560048, -0.36719617],\n",
              "        [-0.4954367 , -0.17407948, -0.47570434,  0.06911334, -0.24263145,\n",
              "         -0.2183795 , -0.08124126, -0.32254174, -0.34280518,  0.011837  ,\n",
              "         -0.38774773,  0.0073989 , -0.35590732, -0.57812554, -0.25113636,\n",
              "         -0.20692196,  0.30899394, -0.29072732, -0.55035794,  0.47827768,\n",
              "         -0.59548354, -0.13481541,  0.264944  ,  0.39074606, -0.68371737,\n",
              "         -0.90766823, -0.78550196, -0.356219  , -0.17888667,  0.5096879 ,\n",
              "         -0.49754506,  0.14798957],\n",
              "        [-0.0974746 ,  0.23971166, -0.06129079, -0.07631937,  0.07045392,\n",
              "         -0.09418122, -0.02847259, -0.27101362, -0.22427016, -0.25884286,\n",
              "          0.20760307, -0.34845054, -0.01496175,  0.00715285, -0.24689795,\n",
              "          0.03461348,  0.05293024, -0.21430044, -0.08969768,  0.07264988,\n",
              "         -0.22311303,  0.22600786,  0.07733045, -0.11415283, -0.3524601 ,\n",
              "         -0.43095466, -0.1093602 ,  0.02637202, -0.48239613,  1.1031102 ,\n",
              "         -0.16833468, -0.0548492 ]], dtype=float32),\n",
              " array([ 0.0376198 ,  0.14204971, -0.03730216, -0.0874564 ,  0.05719003,\n",
              "         0.20842676,  0.06377884,  0.02984962,  1.0817105 ,  1.0653013 ,\n",
              "         0.976379  ,  1.0856996 ,  1.072075  ,  1.2103769 ,  1.2116258 ,\n",
              "         0.98215866, -0.09581   ,  0.06553633,  0.069649  ,  0.11178733,\n",
              "         0.25246802, -0.11017129, -0.04730721, -0.1556535 ,  0.14645372,\n",
              "         0.32910222,  0.02191338,  0.34403703,  0.27856088, -0.50895196,\n",
              "         0.4617859 , -0.10000959], dtype=float32),\n",
              " array([[-2.0377607],\n",
              "        [ 1.8883765],\n",
              "        [ 1.2898283],\n",
              "        [-1.6552718],\n",
              "        [ 2.1070926],\n",
              "        [-1.6259159],\n",
              "        [-1.7864035],\n",
              "        [-1.7307043]], dtype=float32),\n",
              " array([1.1032469], dtype=float32)]"
            ]
          },
          "metadata": {
            "tags": []
          },
          "execution_count": 20
        }
      ]
    },
    {
      "cell_type": "markdown",
      "metadata": {
        "id": "t2FYubE6Llk8",
        "colab_type": "text"
      },
      "source": [
        "Repetindo o problema sem a nova feature"
      ]
    },
    {
      "cell_type": "code",
      "metadata": {
        "id": "ta4fZPvELvFH",
        "colab_type": "code",
        "outputId": "df01098f-a718-4298-9198-1554d10e58c1",
        "colab": {
          "base_uri": "https://localhost:8080/",
          "height": 639
        }
      },
      "source": [
        "n=len(df)\n",
        "print(n)\n",
        "X1=[]\n",
        "y1=[]\n",
        "for i in range(n-10):\n",
        "  seq=[]\n",
        "  for j in range(10):\n",
        "    seq.append([df.iloc[i+j,2]])\n",
        "  X1.append(seq)\n",
        "  y1.append([df.iloc[i+10,2]])\n",
        "X1=np.array(X1)\n",
        "y1=np.array(y1)\n",
        "\n",
        "\n",
        "X1[:3],y1[:3]"
      ],
      "execution_count": 21,
      "outputs": [
        {
          "output_type": "stream",
          "text": [
            "156\n"
          ],
          "name": "stdout"
        },
        {
          "output_type": "execute_result",
          "data": {
            "text/plain": [
              "(array([[[14.12],\n",
              "         [14.12],\n",
              "         [14.63],\n",
              "         [15.03],\n",
              "         [15.45],\n",
              "         [15.64],\n",
              "         [15.8 ],\n",
              "         [15.74],\n",
              "         [14.95],\n",
              "         [14.88]],\n",
              " \n",
              "        [[14.12],\n",
              "         [14.63],\n",
              "         [15.03],\n",
              "         [15.45],\n",
              "         [15.64],\n",
              "         [15.8 ],\n",
              "         [15.74],\n",
              "         [14.95],\n",
              "         [14.88],\n",
              "         [15.08]],\n",
              " \n",
              "        [[14.63],\n",
              "         [15.03],\n",
              "         [15.45],\n",
              "         [15.64],\n",
              "         [15.8 ],\n",
              "         [15.74],\n",
              "         [14.95],\n",
              "         [14.88],\n",
              "         [15.08],\n",
              "         [14.81]]]), array([[15.08],\n",
              "        [14.81],\n",
              "        [14.55]]))"
            ]
          },
          "metadata": {
            "tags": []
          },
          "execution_count": 21
        }
      ]
    },
    {
      "cell_type": "code",
      "metadata": {
        "id": "phwjhfPSL8HR",
        "colab_type": "code",
        "colab": {}
      },
      "source": [
        "tf.random.set_seed(51)\n",
        "model2=tf.keras.Sequential()\n",
        "model2.add(tf.keras.layers.LSTM(8,input_shape=(None,1)))#input único em t\n",
        "model2.add(tf.keras.layers.Dense(1))"
      ],
      "execution_count": 0,
      "outputs": []
    },
    {
      "cell_type": "code",
      "metadata": {
        "id": "mUOcVcgCNaGC",
        "colab_type": "code",
        "outputId": "c9ecb24f-0931-4c1e-99d9-2bfae3353b85",
        "colab": {
          "base_uri": "https://localhost:8080/",
          "height": 230
        }
      },
      "source": [
        "model2.summary()"
      ],
      "execution_count": 23,
      "outputs": [
        {
          "output_type": "stream",
          "text": [
            "Model: \"sequential_1\"\n",
            "_________________________________________________________________\n",
            "Layer (type)                 Output Shape              Param #   \n",
            "=================================================================\n",
            "lstm_1 (LSTM)                (None, 8)                 320       \n",
            "_________________________________________________________________\n",
            "dense_1 (Dense)              (None, 1)                 9         \n",
            "=================================================================\n",
            "Total params: 329\n",
            "Trainable params: 329\n",
            "Non-trainable params: 0\n",
            "_________________________________________________________________\n"
          ],
          "name": "stdout"
        }
      ]
    },
    {
      "cell_type": "code",
      "metadata": {
        "id": "SxAToed5MBJ8",
        "colab_type": "code",
        "colab": {}
      },
      "source": [
        "model2.compile(loss='mean_squared_error', optimizer='adam')"
      ],
      "execution_count": 0,
      "outputs": []
    },
    {
      "cell_type": "code",
      "metadata": {
        "id": "X8mmYdHfMGyf",
        "colab_type": "code",
        "colab": {}
      },
      "source": [
        "hist=model2.fit(X1, y1,validation_split=0.3, epochs=1000)"
      ],
      "execution_count": 0,
      "outputs": []
    },
    {
      "cell_type": "code",
      "metadata": {
        "id": "OE2OI4ueMFV9",
        "colab_type": "code",
        "outputId": "3037e121-7b6a-4b1b-a24d-a497f8c47572",
        "colab": {
          "base_uri": "https://localhost:8080/",
          "height": 1000
        }
      },
      "source": [
        "w2=model2.get_weights()\n",
        "w2"
      ],
      "execution_count": 26,
      "outputs": [
        {
          "output_type": "execute_result",
          "data": {
            "text/plain": [
              "[array([[ 0.06705458, -0.00251489,  0.377469  ,  0.34117937,  0.07241458,\n",
              "         -0.11005489,  0.33612704, -0.00828004, -0.12076621,  0.01069934,\n",
              "         -0.03888707,  0.37445697,  0.16426572,  0.15627412,  0.06351419,\n",
              "          0.32219183, -0.02085061,  0.0746863 ,  0.2828251 , -0.27890027,\n",
              "          0.09382036, -0.33705524, -0.13233455, -0.04507983,  0.4047462 ,\n",
              "          0.18878525,  0.39629376,  0.23357396,  0.11056178,  0.5158412 ,\n",
              "          0.11938298,  0.54915595]], dtype=float32),\n",
              " array([[-0.28955665,  0.0150408 , -0.08454219, -0.15616909,  0.19795956,\n",
              "          0.2533873 ,  0.10402298, -0.05608116, -0.2700099 , -0.323385  ,\n",
              "          0.14297312,  0.35444084,  0.18771288,  0.30471864, -0.16262162,\n",
              "         -0.41968536, -0.272487  ,  0.03658149, -0.16183718, -0.04924168,\n",
              "         -0.26480925, -0.25822768, -0.2416467 ,  0.10698018, -0.65234196,\n",
              "         -0.43328252, -0.03666782, -0.09550963, -0.64173377,  0.02198145,\n",
              "         -0.78102094,  0.06884123],\n",
              "        [ 0.4457683 ,  0.21222904, -0.0747025 , -0.07314564,  0.21721834,\n",
              "          0.39648274,  0.6772263 ,  0.06103825,  0.27807778,  0.36354008,\n",
              "          0.15827617,  0.10237487, -0.13896221, -0.00801959,  0.43295383,\n",
              "          0.02402843, -0.542787  ,  0.01313715,  0.00372205, -0.15280615,\n",
              "          0.19965087,  0.0106729 , -0.00672803,  0.0057973 ,  0.34139556,\n",
              "          0.22300674,  0.8622748 ,  0.8738113 ,  0.7752458 ,  0.43492588,\n",
              "          0.48158565,  0.18674468],\n",
              "        [-0.1636903 ,  0.17733076,  0.01363085, -0.06589419,  0.00177124,\n",
              "          0.33094627,  0.02177674, -0.29176363,  0.2340749 , -0.00398639,\n",
              "          0.12152851, -0.1093583 ,  0.15296914, -0.00655468,  0.12045995,\n",
              "          0.32279205, -0.1705779 ,  0.19610241,  0.23544519,  0.19946711,\n",
              "          0.02821709, -0.19969974, -0.26213288, -0.16587707, -0.2962167 ,\n",
              "          0.53747445,  0.45598355,  0.1612053 ,  0.14658923,  0.10878681,\n",
              "          0.5673148 ,  0.28817922],\n",
              "        [ 0.01611484, -0.19069597, -0.07597083, -0.08923627, -0.16935052,\n",
              "         -0.34763104, -0.02322558,  0.10879769, -0.33146918, -0.03948447,\n",
              "         -0.3742839 , -0.1179425 , -0.19030839,  0.08002404, -0.06601735,\n",
              "         -0.25023782,  0.57104987, -0.5070577 ,  0.14673567,  0.44492558,\n",
              "          0.14647195,  0.3103771 ,  0.2251014 ,  0.1695567 , -0.47150436,\n",
              "         -0.11794581, -0.59173   , -0.12144662, -0.57540035, -0.31664813,\n",
              "         -0.5353588 , -0.25345895],\n",
              "        [ 0.29700455,  0.32545635,  0.5386474 ,  0.13170874,  0.6102713 ,\n",
              "          0.5862627 ,  0.17615363,  0.43413264,  0.4760162 ,  0.49718672,\n",
              "          0.4326687 ,  0.02851083,  0.38174203,  0.45351082,  0.70299196,\n",
              "          0.56127137, -0.7581228 ,  0.59366053, -0.04903606,  0.17472354,\n",
              "          0.3234712 , -0.3201369 , -0.2441158 , -0.2872536 ,  0.33381662,\n",
              "          0.55645853,  0.46505076,  0.84299964,  0.36867043,  0.6508794 ,\n",
              "          0.46606496,  0.80171525],\n",
              "        [ 0.01094896, -0.30644584, -0.5517534 , -0.36885515,  0.11075204,\n",
              "         -0.1779476 , -0.2753614 , -0.10889325, -0.136942  ,  0.03112554,\n",
              "         -0.12988208, -0.1054235 ,  0.20991741, -0.41368803, -0.11551181,\n",
              "         -0.06346409,  0.22116823, -0.18705504,  0.073803  ,  0.05838164,\n",
              "         -0.11088637,  0.368606  ,  0.3179926 ,  0.1912378 , -0.00179122,\n",
              "         -0.39123634, -0.44157916, -0.2846418 , -0.6949639 , -0.567098  ,\n",
              "         -0.44754338, -0.595911  ],\n",
              "        [-0.6763592 , -0.20946135, -0.15172961, -0.07369678, -0.5404475 ,\n",
              "         -0.54164666, -0.48440555, -0.6032433 , -0.5960861 , -0.0156237 ,\n",
              "         -0.54920596, -0.02822695, -0.5380309 , -0.8636419 , -0.56697327,\n",
              "         -0.17892213,  0.52433485, -0.588071  , -0.12051045,  0.33672518,\n",
              "         -0.38438323,  0.03387143,  0.61494076,  0.07107343, -0.74518347,\n",
              "         -0.8210803 , -0.8236265 , -0.5906129 , -0.532411  , -0.8968983 ,\n",
              "         -0.70626277, -0.5225598 ],\n",
              "        [-0.09452406,  0.04612973, -0.09436701,  0.01236571,  0.0808935 ,\n",
              "         -0.24532232, -0.15401223, -0.2569228 , -0.48189893, -0.4693734 ,\n",
              "          0.06134988, -0.38491464, -0.0212968 , -0.12339171, -0.33110735,\n",
              "          0.02784776,  0.39193857, -0.4630643 , -0.21401745, -0.08049548,\n",
              "         -0.13106917,  0.3533414 ,  0.20533065, -0.02824589, -0.224539  ,\n",
              "         -0.5066908 , -0.1976565 ,  0.05970699, -0.6230775 ,  0.13577253,\n",
              "         -0.44204545, -0.31627372]], dtype=float32),\n",
              " array([-0.0061572 ,  0.07967248,  0.08325912,  0.08830121,  0.12228861,\n",
              "         0.23294076,  0.14336704,  0.05595468,  1.248356  ,  1.1003177 ,\n",
              "         1.2267594 ,  1.0877062 ,  1.0833514 ,  1.1948549 ,  1.0739751 ,\n",
              "         1.0373452 , -0.329162  ,  0.26951227,  0.06410579, -0.06698778,\n",
              "         0.10594386, -0.12248363, -0.23039758, -0.06569435,  0.05510004,\n",
              "         0.30065033,  0.14762403,  0.27715418,  0.44414648,  0.27878454,\n",
              "         0.49081552,  0.14337286], dtype=float32),\n",
              " array([[-1.9034662],\n",
              "        [ 1.8106288],\n",
              "        [ 1.4209862],\n",
              "        [-1.4315133],\n",
              "        [ 2.1360774],\n",
              "        [-1.5347502],\n",
              "        [-1.7464551],\n",
              "        [-1.6768624]], dtype=float32),\n",
              " array([1.0843437], dtype=float32)]"
            ]
          },
          "metadata": {
            "tags": []
          },
          "execution_count": 26
        }
      ]
    }
  ]
}