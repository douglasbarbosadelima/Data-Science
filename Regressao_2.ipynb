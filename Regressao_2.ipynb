{
  "nbformat": 4,
  "nbformat_minor": 0,
  "metadata": {
    "colab": {
      "name": "Regressao_2.ipynb",
      "provenance": [],
      "collapsed_sections": [],
      "include_colab_link": true
    },
    "kernelspec": {
      "name": "python3",
      "display_name": "Python 3"
    }
  },
  "cells": [
    {
      "cell_type": "markdown",
      "metadata": {
        "id": "view-in-github",
        "colab_type": "text"
      },
      "source": [
        "<a href=\"https://colab.research.google.com/github/douglasbarbosadelima/Data-Science/blob/master/Regressao_2.ipynb\" target=\"_parent\"><img src=\"https://colab.research.google.com/assets/colab-badge.svg\" alt=\"Open In Colab\"/></a>"
      ]
    },
    {
      "cell_type": "code",
      "metadata": {
        "id": "ZZVDlX8d8kx0",
        "colab_type": "code",
        "colab": {}
      },
      "source": [
        ""
      ],
      "execution_count": 0,
      "outputs": []
    },
    {
      "cell_type": "markdown",
      "metadata": {
        "id": "GeF-ltIot-_Q",
        "colab_type": "text"
      },
      "source": [
        "# Regressao_2\n"
      ]
    },
    {
      "cell_type": "code",
      "metadata": {
        "id": "6XyquIlat-_S",
        "colab_type": "code",
        "colab": {}
      },
      "source": [
        "import numpy as np\n",
        "import pandas as pd\n",
        "import matplotlib.pyplot as plt"
      ],
      "execution_count": 0,
      "outputs": []
    },
    {
      "cell_type": "code",
      "metadata": {
        "id": "Ah0zgpEmt-_V",
        "colab_type": "code",
        "outputId": "803cec85-73b4-4243-8605-74818208ae59",
        "colab": {
          "base_uri": "https://localhost:8080/",
          "height": 204
        }
      },
      "source": [
        "df=pd.read_csv('https://raw.githubusercontent.com/douglasbarbosadelima/Data-Science/master/cars-uci-linked.csv')\n",
        "df=df.dropna()\n",
        "df.head()"
      ],
      "execution_count": 10,
      "outputs": [
        {
          "output_type": "execute_result",
          "data": {
            "text/html": [
              "<div>\n",
              "<style scoped>\n",
              "    .dataframe tbody tr th:only-of-type {\n",
              "        vertical-align: middle;\n",
              "    }\n",
              "\n",
              "    .dataframe tbody tr th {\n",
              "        vertical-align: top;\n",
              "    }\n",
              "\n",
              "    .dataframe thead th {\n",
              "        text-align: right;\n",
              "    }\n",
              "</style>\n",
              "<table border=\"1\" class=\"dataframe\">\n",
              "  <thead>\n",
              "    <tr style=\"text-align: right;\">\n",
              "      <th></th>\n",
              "      <th>mpg</th>\n",
              "      <th>cylinders</th>\n",
              "      <th>displacement</th>\n",
              "      <th>horsepower</th>\n",
              "      <th>weight</th>\n",
              "      <th>acceleration</th>\n",
              "      <th>year</th>\n",
              "      <th>origin</th>\n",
              "      <th>name</th>\n",
              "    </tr>\n",
              "  </thead>\n",
              "  <tbody>\n",
              "    <tr>\n",
              "      <th>0</th>\n",
              "      <td>18.0</td>\n",
              "      <td>8</td>\n",
              "      <td>3070</td>\n",
              "      <td>130.0</td>\n",
              "      <td>3504</td>\n",
              "      <td>120</td>\n",
              "      <td>70</td>\n",
              "      <td>1</td>\n",
              "      <td>chevrolet chevelle malibu</td>\n",
              "    </tr>\n",
              "    <tr>\n",
              "      <th>1</th>\n",
              "      <td>15.0</td>\n",
              "      <td>8</td>\n",
              "      <td>3500</td>\n",
              "      <td>165.0</td>\n",
              "      <td>3693</td>\n",
              "      <td>115</td>\n",
              "      <td>70</td>\n",
              "      <td>1</td>\n",
              "      <td>buick skylark 320</td>\n",
              "    </tr>\n",
              "    <tr>\n",
              "      <th>2</th>\n",
              "      <td>18.0</td>\n",
              "      <td>8</td>\n",
              "      <td>3180</td>\n",
              "      <td>150.0</td>\n",
              "      <td>3436</td>\n",
              "      <td>110</td>\n",
              "      <td>70</td>\n",
              "      <td>1</td>\n",
              "      <td>plymouth satellite</td>\n",
              "    </tr>\n",
              "    <tr>\n",
              "      <th>3</th>\n",
              "      <td>16.0</td>\n",
              "      <td>8</td>\n",
              "      <td>3040</td>\n",
              "      <td>150.0</td>\n",
              "      <td>3433</td>\n",
              "      <td>120</td>\n",
              "      <td>70</td>\n",
              "      <td>1</td>\n",
              "      <td>amc rebel sst</td>\n",
              "    </tr>\n",
              "    <tr>\n",
              "      <th>4</th>\n",
              "      <td>17.0</td>\n",
              "      <td>8</td>\n",
              "      <td>3020</td>\n",
              "      <td>140.0</td>\n",
              "      <td>3449</td>\n",
              "      <td>105</td>\n",
              "      <td>70</td>\n",
              "      <td>1</td>\n",
              "      <td>ford torino</td>\n",
              "    </tr>\n",
              "  </tbody>\n",
              "</table>\n",
              "</div>"
            ],
            "text/plain": [
              "    mpg  cylinders  displacement  ...  year  origin                       name\n",
              "0  18.0          8          3070  ...    70       1  chevrolet chevelle malibu\n",
              "1  15.0          8          3500  ...    70       1          buick skylark 320\n",
              "2  18.0          8          3180  ...    70       1         plymouth satellite\n",
              "3  16.0          8          3040  ...    70       1              amc rebel sst\n",
              "4  17.0          8          3020  ...    70       1                ford torino\n",
              "\n",
              "[5 rows x 9 columns]"
            ]
          },
          "metadata": {
            "tags": []
          },
          "execution_count": 10
        }
      ]
    },
    {
      "cell_type": "markdown",
      "metadata": {
        "id": "EGcLGyBPt-_Y",
        "colab_type": "text"
      },
      "source": [
        "Vamos fazer a regressão só com a feature potência (horsepower)"
      ]
    },
    {
      "cell_type": "markdown",
      "metadata": {
        "id": "z7uwrb4it-_Z",
        "colab_type": "text"
      },
      "source": [
        "Inicialmente, vamos standardizar horsepower (conserve media e desvio padrão, serão necessários no final)"
      ]
    },
    {
      "cell_type": "code",
      "metadata": {
        "id": "Heqlv1iyt-_Z",
        "colab_type": "code",
        "colab": {}
      },
      "source": [
        "def standard(f):\n",
        "  me = f.mean()\n",
        "  dp=f.std()\n",
        "  return me, dp, (f - me) / dp\n",
        "\n",
        "med, dp, df['hps'] = standard(df['horsepower'])\n",
        "mew, dpw, df['wts'] = standard(df['weight'])"
      ],
      "execution_count": 0,
      "outputs": []
    },
    {
      "cell_type": "markdown",
      "metadata": {
        "id": "T7HtygC6t-_e",
        "colab_type": "text"
      },
      "source": [
        "Vamos agora montar a matriz X e o vetor y(target)"
      ]
    },
    {
      "cell_type": "code",
      "metadata": {
        "id": "JPFvAcRHt-_e",
        "colab_type": "code",
        "outputId": "a3b02cd0-a50d-4222-ae22-4b250f5ffef9",
        "colab": {
          "base_uri": "https://localhost:8080/",
          "height": 323
        }
      },
      "source": [
        "X = np.ones((len(df), 3))\n",
        "X[:,1] = df['hps']\n",
        "X[:,2] = df['wts']\n",
        "y = df['mpg'].copy()\n",
        "X, y"
      ],
      "execution_count": 22,
      "outputs": [
        {
          "output_type": "execute_result",
          "data": {
            "text/plain": [
              "(array([[ 1.        ,  0.66328508,  0.61974833],\n",
              "        [ 1.        ,  1.57258478,  0.84225766],\n",
              "        [ 1.        ,  1.18288491,  0.53969206],\n",
              "        ...,\n",
              "        [ 1.        , -0.53179452, -0.80360505],\n",
              "        [ 1.        , -0.66169447, -0.41509668],\n",
              "        [ 1.        , -0.5837545 , -0.30325336]]), 0      18.0\n",
              " 1      15.0\n",
              " 2      18.0\n",
              " 3      16.0\n",
              " 4      17.0\n",
              "        ... \n",
              " 401    27.0\n",
              " 402    44.0\n",
              " 403    32.0\n",
              " 404    28.0\n",
              " 405    31.0\n",
              " Name: mpg, Length: 392, dtype: float64)"
            ]
          },
          "metadata": {
            "tags": []
          },
          "execution_count": 22
        }
      ]
    },
    {
      "cell_type": "markdown",
      "metadata": {
        "id": "UtUpLA55t-_g",
        "colab_type": "text"
      },
      "source": [
        "Para usarmos Gradient Descent, vamos obter a função gradiente do erro médio quadrático gradEMQ(X,theta,y)"
      ]
    },
    {
      "cell_type": "code",
      "metadata": {
        "id": "iywyoCwXt-_h",
        "colab_type": "code",
        "colab": {}
      },
      "source": [
        "def gradEMQ(x, theta, y):\n",
        "  return (1 / len(y)) * np.dot(X.T, np.dot(X, theta) - y)"
      ],
      "execution_count": 0,
      "outputs": []
    },
    {
      "cell_type": "markdown",
      "metadata": {
        "id": "_1uciSqot-_j",
        "colab_type": "text"
      },
      "source": [
        "Vamos criar a função erro médio quadrático também emq(ye,y)"
      ]
    },
    {
      "cell_type": "code",
      "metadata": {
        "id": "-tjUo4Wlt-_j",
        "colab_type": "code",
        "colab": {}
      },
      "source": [
        "def emq(ye, y):\n",
        "  dif = ye - y\n",
        "  return (1 / len(y)) * np.inner(dif, dif)"
      ],
      "execution_count": 0,
      "outputs": []
    },
    {
      "cell_type": "markdown",
      "metadata": {
        "id": "jQD_n-iSt-_m",
        "colab_type": "text"
      },
      "source": [
        "Agora, aplicaremos Gradient Descent (criar lista de custos), com theta0 e theta1 começando com 1 e 0.5"
      ]
    },
    {
      "cell_type": "code",
      "metadata": {
        "collapsed": true,
        "id": "kfttM0NAt-_m",
        "colab_type": "code",
        "outputId": "fa005690-3c64-4d21-dbaf-bd503b68d828",
        "colab": {
          "base_uri": "https://localhost:8080/",
          "height": 34
        }
      },
      "source": [
        "lc = []\n",
        "lr = 0.01\n",
        "theta = np.array([1.0, 0.5, 0.9])\n",
        "lc.append(emq(np.dot(X, theta), y))\n",
        "for i in range(2000):\n",
        "  g = gradEMQ(X, theta, y)\n",
        "  theta -= (lr * g)\n",
        "  lc.append(emq(np.dot(X, theta), y))\n",
        "theta\n",
        "                                      "
      ],
      "execution_count": 25,
      "outputs": [
        {
          "output_type": "execute_result",
          "data": {
            "text/plain": [
              "array([23.44591833, -1.93789111, -4.80442306])"
            ]
          },
          "metadata": {
            "tags": []
          },
          "execution_count": 25
        }
      ]
    },
    {
      "cell_type": "markdown",
      "metadata": {
        "collapsed": true,
        "id": "rVSF6zNRt-_o",
        "colab_type": "text"
      },
      "source": [
        "Vamos fazer o gráfico do custo ao longo das iterações do Grad. Desc."
      ]
    },
    {
      "cell_type": "code",
      "metadata": {
        "collapsed": true,
        "id": "5Cvuvnfyt-_p",
        "colab_type": "code",
        "outputId": "063413f3-db7a-41ac-c814-212f49d5d0b0",
        "colab": {
          "base_uri": "https://localhost:8080/",
          "height": 265
        }
      },
      "source": [
        "plt.plot(lc[:500], color='blue')\n",
        "plt.show()"
      ],
      "execution_count": 26,
      "outputs": [
        {
          "output_type": "display_data",
          "data": {
            "image/png": "[encoded data removed]",
            "text/plain": [
              "<Figure size 432x288 with 1 Axes>"
            ]
          },
          "metadata": {
            "tags": []
          }
        }
      ]
    },
    {
      "cell_type": "markdown",
      "metadata": {
        "id": "21QGBUgXt-_r",
        "colab_type": "text"
      },
      "source": [
        "Finalmente, vamos fazer a função predict(pot,theta,md,dp) que retorna a predição do consumo para a potência"
      ]
    },
    {
      "cell_type": "code",
      "metadata": {
        "id": "_h0MOCt5t-_s",
        "colab_type": "code",
        "colab": {}
      },
      "source": [
        "def predict(pot, peso):\n",
        "  pots = (pot - med) / dp\n",
        "  pesos = (peso - mew) / dpw\n",
        "  return theta[0] + theta[1] * pots + theta[2] * pesos\n"
      ],
      "execution_count": 0,
      "outputs": []
    },
    {
      "cell_type": "markdown",
      "metadata": {
        "id": "FypWPlaFt-_t",
        "colab_type": "text"
      },
      "source": [
        "Faça a predição para potência de 180HP peso 3000\n",
        "\n"
      ]
    },
    {
      "cell_type": "code",
      "metadata": {
        "collapsed": true,
        "id": "fLSvFRESt-_u",
        "colab_type": "code",
        "outputId": "9d7e661f-dd1d-4887-f33f-106e1d0440f7",
        "colab": {
          "base_uri": "https://localhost:8080/",
          "height": 34
        }
      },
      "source": [
        "predict(180, 3000)"
      ],
      "execution_count": 33,
      "outputs": [
        {
          "output_type": "execute_result",
          "data": {
            "text/plain": [
              "19.516435157211493"
            ]
          },
          "metadata": {
            "tags": []
          },
          "execution_count": 33
        }
      ]
    },
    {
      "cell_type": "markdown",
      "metadata": {
        "id": "OCvb1lOlt-_x",
        "colab_type": "text"
      },
      "source": [
        "mostre a média de consumo para potência=160 no dataset"
      ]
    },
    {
      "cell_type": "code",
      "metadata": {
        "collapsed": true,
        "id": "v0xU-M2Tt-_x",
        "colab_type": "code",
        "outputId": "f5f10ea1-7942-4a75-d967-7f1af3006272",
        "colab": {
          "base_uri": "https://localhost:8080/",
          "height": 34
        }
      },
      "source": [
        "df[df['horsepower'] == 160]['mpg'].mean()"
      ],
      "execution_count": 0,
      "outputs": [
        {
          "output_type": "execute_result",
          "data": {
            "text/plain": [
              "13.0"
            ]
          },
          "metadata": {
            "tags": []
          },
          "execution_count": 50
        }
      ]
    }
  ]
}