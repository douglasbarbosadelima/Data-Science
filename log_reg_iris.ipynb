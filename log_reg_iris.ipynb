{
  "nbformat": 4,
  "nbformat_minor": 0,
  "metadata": {
    "kernelspec": {
      "display_name": "Python 3",
      "language": "python",
      "name": "python3"
    },
    "language_info": {
      "codemirror_mode": {
        "name": "ipython",
        "version": 3
      },
      "file_extension": ".py",
      "mimetype": "text/x-python",
      "name": "python",
      "nbconvert_exporter": "python",
      "pygments_lexer": "ipython3",
      "version": "3.6.3"
    },
    "colab": {
      "name": "log_reg_iris.ipynb",
      "provenance": [],
      "collapsed_sections": [],
      "include_colab_link": true
    }
  },
  "cells": [
    {
      "cell_type": "markdown",
      "metadata": {
        "id": "view-in-github",
        "colab_type": "text"
      },
      "source": [
        "<a href=\"https://colab.research.google.com/github/douglasbarbosadelima/Data-Science/blob/master/log_reg_iris.ipynb\" target=\"_parent\"><img src=\"https://colab.research.google.com/assets/colab-badge.svg\" alt=\"Open In Colab\"/></a>"
      ]
    },
    {
      "cell_type": "markdown",
      "metadata": {
        "id": "BhTPNZdS-p7E",
        "colab_type": "text"
      },
      "source": [
        "# Classificação binária para as três espécies de Íris com scikit _res"
      ]
    },
    {
      "cell_type": "code",
      "metadata": {
        "id": "zWK0oFwX-p7K",
        "colab_type": "code",
        "colab": {}
      },
      "source": [
        "import pandas as pd\n",
        "import numpy as np\n",
        "from sklearn.linear_model import LogisticRegression\n",
        "from sklearn.metrics import accuracy_score"
      ],
      "execution_count": 0,
      "outputs": []
    },
    {
      "cell_type": "code",
      "metadata": {
        "id": "zcbSEoPu-p7R",
        "colab_type": "code",
        "colab": {},
        "outputId": "ed4c6b68-a43d-4eeb-c88e-3f437281d737"
      },
      "source": [
        "df=pd.read_csv('c:\\\\dados\\\\iris.txt',names=['m1','m2','m3','m4','esp'])\n",
        "df.head()"
      ],
      "execution_count": 0,
      "outputs": [
        {
          "output_type": "execute_result",
          "data": {
            "text/html": [
              "<div>\n",
              "<style scoped>\n",
              "    .dataframe tbody tr th:only-of-type {\n",
              "        vertical-align: middle;\n",
              "    }\n",
              "\n",
              "    .dataframe tbody tr th {\n",
              "        vertical-align: top;\n",
              "    }\n",
              "\n",
              "    .dataframe thead th {\n",
              "        text-align: right;\n",
              "    }\n",
              "</style>\n",
              "<table border=\"1\" class=\"dataframe\">\n",
              "  <thead>\n",
              "    <tr style=\"text-align: right;\">\n",
              "      <th></th>\n",
              "      <th>m1</th>\n",
              "      <th>m2</th>\n",
              "      <th>m3</th>\n",
              "      <th>m4</th>\n",
              "      <th>esp</th>\n",
              "    </tr>\n",
              "  </thead>\n",
              "  <tbody>\n",
              "    <tr>\n",
              "      <th>0</th>\n",
              "      <td>5.1</td>\n",
              "      <td>3.5</td>\n",
              "      <td>1.4</td>\n",
              "      <td>0.2</td>\n",
              "      <td>Iris-setosa</td>\n",
              "    </tr>\n",
              "    <tr>\n",
              "      <th>1</th>\n",
              "      <td>4.9</td>\n",
              "      <td>3.0</td>\n",
              "      <td>1.4</td>\n",
              "      <td>0.2</td>\n",
              "      <td>Iris-setosa</td>\n",
              "    </tr>\n",
              "    <tr>\n",
              "      <th>2</th>\n",
              "      <td>4.7</td>\n",
              "      <td>3.2</td>\n",
              "      <td>1.3</td>\n",
              "      <td>0.2</td>\n",
              "      <td>Iris-setosa</td>\n",
              "    </tr>\n",
              "    <tr>\n",
              "      <th>3</th>\n",
              "      <td>4.6</td>\n",
              "      <td>3.1</td>\n",
              "      <td>1.5</td>\n",
              "      <td>0.2</td>\n",
              "      <td>Iris-setosa</td>\n",
              "    </tr>\n",
              "    <tr>\n",
              "      <th>4</th>\n",
              "      <td>5.0</td>\n",
              "      <td>3.6</td>\n",
              "      <td>1.4</td>\n",
              "      <td>0.2</td>\n",
              "      <td>Iris-setosa</td>\n",
              "    </tr>\n",
              "  </tbody>\n",
              "</table>\n",
              "</div>"
            ],
            "text/plain": [
              "    m1   m2   m3   m4          esp\n",
              "0  5.1  3.5  1.4  0.2  Iris-setosa\n",
              "1  4.9  3.0  1.4  0.2  Iris-setosa\n",
              "2  4.7  3.2  1.3  0.2  Iris-setosa\n",
              "3  4.6  3.1  1.5  0.2  Iris-setosa\n",
              "4  5.0  3.6  1.4  0.2  Iris-setosa"
            ]
          },
          "metadata": {
            "tags": []
          },
          "execution_count": 17
        }
      ]
    },
    {
      "cell_type": "markdown",
      "metadata": {
        "id": "-rmWxjcm-p7Y",
        "colab_type": "text"
      },
      "source": [
        "Montar a Matriz X  e os vetores y, y_setosa, y_virginica e y_versicolor (com zeros e uns)"
      ]
    },
    {
      "cell_type": "code",
      "metadata": {
        "id": "lfgKetET-p7Z",
        "colab_type": "code",
        "colab": {},
        "outputId": "2adee003-97af-4f47-af4f-1e2a84b0796f"
      },
      "source": [
        "X=np.zeros((len(df),4))\n",
        "X[:,0]=df['m1']\n",
        "X[:,1]=df['m2']\n",
        "X[:,2]=df['m3']\n",
        "X[:,3]=df['m4']\n",
        "y=df['esp']\n",
        "\n",
        "y_setosa=np.zeros((len(df),))\n",
        "y_virginica=np.zeros((len(df),))\n",
        "y_versicolor=np.zeros((len(df),))\n",
        "\n",
        "for i in range(len(df)):\n",
        "    if y[i]=='Iris-setosa':y_setosa[i]=1\n",
        "    if y[i]=='Iris-virginica':y_virginica[i]=1\n",
        "    if y[i]=='Iris-versicolor':y_versicolor[i]=1\n",
        "        \n",
        "y_setosa.sum(),y_virginica.sum(),y_versicolor.sum(),\n",
        "    "
      ],
      "execution_count": 0,
      "outputs": [
        {
          "output_type": "execute_result",
          "data": {
            "text/plain": [
              "(50.0, 50.0, 50.0)"
            ]
          },
          "metadata": {
            "tags": []
          },
          "execution_count": 32
        }
      ]
    },
    {
      "cell_type": "markdown",
      "metadata": {
        "id": "gaRvKuLK-p7f",
        "colab_type": "text"
      },
      "source": [
        "Criar os 3 classificadores binários "
      ]
    },
    {
      "cell_type": "code",
      "metadata": {
        "id": "RTZtLQch-p7h",
        "colab_type": "code",
        "colab": {}
      },
      "source": [
        "cl_setosa=LogisticRegression()\n",
        "cl_virginica=LogisticRegression()\n",
        "cl_versicolor=LogisticRegression()\n"
      ],
      "execution_count": 0,
      "outputs": []
    },
    {
      "cell_type": "markdown",
      "metadata": {
        "id": "emcQWxYO-p7m",
        "colab_type": "text"
      },
      "source": [
        "Treinar os 3 modelos"
      ]
    },
    {
      "cell_type": "code",
      "metadata": {
        "id": "Y4MluGeb-p7n",
        "colab_type": "code",
        "colab": {},
        "outputId": "816dc4e5-f7f2-4b06-eca6-f36d1d2e51a4"
      },
      "source": [
        "cl_setosa.fit(X,y_setosa)\n",
        "cl_virginica.fit(X,y_virginica)\n",
        "cl_versicolor.fit(X,y_versicolor)"
      ],
      "execution_count": 0,
      "outputs": [
        {
          "output_type": "stream",
          "text": [
            "C:\\ProgramData\\Anaconda3\\lib\\site-packages\\sklearn\\linear_model\\logistic.py:433: FutureWarning: Default solver will be changed to 'lbfgs' in 0.22. Specify a solver to silence this warning.\n",
            "  FutureWarning)\n",
            "C:\\ProgramData\\Anaconda3\\lib\\site-packages\\sklearn\\linear_model\\logistic.py:433: FutureWarning: Default solver will be changed to 'lbfgs' in 0.22. Specify a solver to silence this warning.\n",
            "  FutureWarning)\n",
            "C:\\ProgramData\\Anaconda3\\lib\\site-packages\\sklearn\\linear_model\\logistic.py:433: FutureWarning: Default solver will be changed to 'lbfgs' in 0.22. Specify a solver to silence this warning.\n",
            "  FutureWarning)\n"
          ],
          "name": "stderr"
        },
        {
          "output_type": "execute_result",
          "data": {
            "text/plain": [
              "LogisticRegression(C=1.0, class_weight=None, dual=False, fit_intercept=True,\n",
              "          intercept_scaling=1, max_iter=100, multi_class='warn',\n",
              "          n_jobs=None, penalty='l2', random_state=None, solver='warn',\n",
              "          tol=0.0001, verbose=0, warm_start=False)"
            ]
          },
          "metadata": {
            "tags": []
          },
          "execution_count": 35
        }
      ]
    },
    {
      "cell_type": "markdown",
      "metadata": {
        "id": "VxMQSDfb-p7s",
        "colab_type": "text"
      },
      "source": [
        "Fazer as 3 predições"
      ]
    },
    {
      "cell_type": "code",
      "metadata": {
        "id": "qeMkzhEk-p7t",
        "colab_type": "code",
        "colab": {}
      },
      "source": [
        "ye_setosa=cl_setosa.predict(X)\n",
        "ye_virginica=cl_virginica.predict(X)\n",
        "ye_versicolor=cl_versicolor.predict(X)"
      ],
      "execution_count": 0,
      "outputs": []
    },
    {
      "cell_type": "markdown",
      "metadata": {
        "id": "acdusvh6-p7x",
        "colab_type": "text"
      },
      "source": [
        "Calcular as 3 acurácias"
      ]
    },
    {
      "cell_type": "code",
      "metadata": {
        "id": "2tKhBFv--p7z",
        "colab_type": "code",
        "colab": {},
        "outputId": "104a72f8-5bbf-4ae6-8b52-6b01cbf35e60"
      },
      "source": [
        "accuracy_score(ye_setosa,y_setosa),accuracy_score(ye_virginica,y_virginica),accuracy_score(ye_versicolor,y_versicolor)"
      ],
      "execution_count": 0,
      "outputs": [
        {
          "output_type": "execute_result",
          "data": {
            "text/plain": [
              "(1.0, 0.98, 0.7)"
            ]
          },
          "metadata": {
            "tags": []
          },
          "execution_count": 38
        }
      ]
    }
  ]
}