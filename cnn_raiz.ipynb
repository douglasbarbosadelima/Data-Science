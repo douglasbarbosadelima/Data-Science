{
  "nbformat": 4,
  "nbformat_minor": 0,
  "metadata": {
    "colab": {
      "name": "cnn_raiz.ipynb",
      "provenance": [],
      "collapsed_sections": [],
      "include_colab_link": true
    },
    "kernelspec": {
      "name": "python3",
      "display_name": "Python 3"
    },
    "accelerator": "GPU"
  },
  "cells": [
    {
      "cell_type": "markdown",
      "metadata": {
        "id": "view-in-github",
        "colab_type": "text"
      },
      "source": [
        "<a href=\"https://colab.research.google.com/github/douglasbarbosadelima/Data-Science/blob/master/cnn_raiz.ipynb\" target=\"_parent\"><img src=\"https://colab.research.google.com/assets/colab-badge.svg\" alt=\"Open In Colab\"/></a>"
      ]
    },
    {
      "cell_type": "code",
      "metadata": {
        "id": "LqIjoS-Jv2sK",
        "colab_type": "code",
        "outputId": "a827dc6f-b471-46da-b152-6da91405e01f",
        "colab": {
          "base_uri": "https://localhost:8080/",
          "height": 887
        }
      },
      "source": [
        "!pip install tensorflow-gpu==2.0.0 #com GPU"
      ],
      "execution_count": 1,
      "outputs": [
        {
          "output_type": "stream",
          "text": [
            "Collecting tensorflow-gpu==2.0.0\n",
            "\u001b[?25l  Downloading https://files.pythonhosted.org/packages/25/44/47f0722aea081697143fbcf5d2aa60d1aee4aaacb5869aee2b568974777b/tensorflow_gpu-2.0.0-cp36-cp36m-manylinux2010_x86_64.whl (380.8MB)\n",
            "\u001b[K     |████████████████████████████████| 380.8MB 43kB/s \n",
            "\u001b[?25hRequirement already satisfied: keras-applications>=1.0.8 in /usr/local/lib/python3.6/dist-packages (from tensorflow-gpu==2.0.0) (1.0.8)\n",
            "Requirement already satisfied: opt-einsum>=2.3.2 in /usr/local/lib/python3.6/dist-packages (from tensorflow-gpu==2.0.0) (3.1.0)\n",
            "Requirement already satisfied: gast==0.2.2 in /usr/local/lib/python3.6/dist-packages (from tensorflow-gpu==2.0.0) (0.2.2)\n",
            "Requirement already satisfied: wheel>=0.26 in /usr/local/lib/python3.6/dist-packages (from tensorflow-gpu==2.0.0) (0.34.2)\n",
            "Requirement already satisfied: numpy<2.0,>=1.16.0 in /usr/local/lib/python3.6/dist-packages (from tensorflow-gpu==2.0.0) (1.17.5)\n",
            "Requirement already satisfied: six>=1.10.0 in /usr/local/lib/python3.6/dist-packages (from tensorflow-gpu==2.0.0) (1.12.0)\n",
            "Requirement already satisfied: protobuf>=3.6.1 in /usr/local/lib/python3.6/dist-packages (from tensorflow-gpu==2.0.0) (3.10.0)\n",
            "Collecting tensorflow-estimator<2.1.0,>=2.0.0\n",
            "\u001b[?25l  Downloading https://files.pythonhosted.org/packages/fc/08/8b927337b7019c374719145d1dceba21a8bb909b93b1ad6f8fb7d22c1ca1/tensorflow_estimator-2.0.1-py2.py3-none-any.whl (449kB)\n",
            "\u001b[K     |████████████████████████████████| 450kB 50.1MB/s \n",
            "\u001b[?25hCollecting tensorboard<2.1.0,>=2.0.0\n",
            "\u001b[?25l  Downloading https://files.pythonhosted.org/packages/76/54/99b9d5d52d5cb732f099baaaf7740403e83fe6b0cedde940fabd2b13d75a/tensorboard-2.0.2-py3-none-any.whl (3.8MB)\n",
            "\u001b[K     |████████████████████████████████| 3.8MB 53.9MB/s \n",
            "\u001b[?25hRequirement already satisfied: absl-py>=0.7.0 in /usr/local/lib/python3.6/dist-packages (from tensorflow-gpu==2.0.0) (0.9.0)\n",
            "Requirement already satisfied: termcolor>=1.1.0 in /usr/local/lib/python3.6/dist-packages (from tensorflow-gpu==2.0.0) (1.1.0)\n",
            "Requirement already satisfied: grpcio>=1.8.6 in /usr/local/lib/python3.6/dist-packages (from tensorflow-gpu==2.0.0) (1.27.1)\n",
            "Requirement already satisfied: wrapt>=1.11.1 in /usr/local/lib/python3.6/dist-packages (from tensorflow-gpu==2.0.0) (1.11.2)\n",
            "Requirement already satisfied: keras-preprocessing>=1.0.5 in /usr/local/lib/python3.6/dist-packages (from tensorflow-gpu==2.0.0) (1.1.0)\n",
            "Requirement already satisfied: astor>=0.6.0 in /usr/local/lib/python3.6/dist-packages (from tensorflow-gpu==2.0.0) (0.8.1)\n",
            "Requirement already satisfied: google-pasta>=0.1.6 in /usr/local/lib/python3.6/dist-packages (from tensorflow-gpu==2.0.0) (0.1.8)\n",
            "Requirement already satisfied: h5py in /usr/local/lib/python3.6/dist-packages (from keras-applications>=1.0.8->tensorflow-gpu==2.0.0) (2.8.0)\n",
            "Requirement already satisfied: setuptools in /usr/local/lib/python3.6/dist-packages (from protobuf>=3.6.1->tensorflow-gpu==2.0.0) (45.1.0)\n",
            "Requirement already satisfied: google-auth<2,>=1.6.3 in /usr/local/lib/python3.6/dist-packages (from tensorboard<2.1.0,>=2.0.0->tensorflow-gpu==2.0.0) (1.7.2)\n",
            "Requirement already satisfied: requests<3,>=2.21.0 in /usr/local/lib/python3.6/dist-packages (from tensorboard<2.1.0,>=2.0.0->tensorflow-gpu==2.0.0) (2.21.0)\n",
            "Requirement already satisfied: markdown>=2.6.8 in /usr/local/lib/python3.6/dist-packages (from tensorboard<2.1.0,>=2.0.0->tensorflow-gpu==2.0.0) (3.2.1)\n",
            "Requirement already satisfied: werkzeug>=0.11.15 in /usr/local/lib/python3.6/dist-packages (from tensorboard<2.1.0,>=2.0.0->tensorflow-gpu==2.0.0) (1.0.0)\n",
            "Requirement already satisfied: google-auth-oauthlib<0.5,>=0.4.1 in /usr/local/lib/python3.6/dist-packages (from tensorboard<2.1.0,>=2.0.0->tensorflow-gpu==2.0.0) (0.4.1)\n",
            "Requirement already satisfied: pyasn1-modules>=0.2.1 in /usr/local/lib/python3.6/dist-packages (from google-auth<2,>=1.6.3->tensorboard<2.1.0,>=2.0.0->tensorflow-gpu==2.0.0) (0.2.8)\n",
            "Requirement already satisfied: cachetools<3.2,>=2.0.0 in /usr/local/lib/python3.6/dist-packages (from google-auth<2,>=1.6.3->tensorboard<2.1.0,>=2.0.0->tensorflow-gpu==2.0.0) (3.1.1)\n",
            "Requirement already satisfied: rsa<4.1,>=3.1.4 in /usr/local/lib/python3.6/dist-packages (from google-auth<2,>=1.6.3->tensorboard<2.1.0,>=2.0.0->tensorflow-gpu==2.0.0) (4.0)\n",
            "Requirement already satisfied: urllib3<1.25,>=1.21.1 in /usr/local/lib/python3.6/dist-packages (from requests<3,>=2.21.0->tensorboard<2.1.0,>=2.0.0->tensorflow-gpu==2.0.0) (1.24.3)\n",
            "Requirement already satisfied: idna<2.9,>=2.5 in /usr/local/lib/python3.6/dist-packages (from requests<3,>=2.21.0->tensorboard<2.1.0,>=2.0.0->tensorflow-gpu==2.0.0) (2.8)\n",
            "Requirement already satisfied: chardet<3.1.0,>=3.0.2 in /usr/local/lib/python3.6/dist-packages (from requests<3,>=2.21.0->tensorboard<2.1.0,>=2.0.0->tensorflow-gpu==2.0.0) (3.0.4)\n",
            "Requirement already satisfied: certifi>=2017.4.17 in /usr/local/lib/python3.6/dist-packages (from requests<3,>=2.21.0->tensorboard<2.1.0,>=2.0.0->tensorflow-gpu==2.0.0) (2019.11.28)\n",
            "Requirement already satisfied: requests-oauthlib>=0.7.0 in /usr/local/lib/python3.6/dist-packages (from google-auth-oauthlib<0.5,>=0.4.1->tensorboard<2.1.0,>=2.0.0->tensorflow-gpu==2.0.0) (1.3.0)\n",
            "Requirement already satisfied: pyasn1<0.5.0,>=0.4.6 in /usr/local/lib/python3.6/dist-packages (from pyasn1-modules>=0.2.1->google-auth<2,>=1.6.3->tensorboard<2.1.0,>=2.0.0->tensorflow-gpu==2.0.0) (0.4.8)\n",
            "Requirement already satisfied: oauthlib>=3.0.0 in /usr/local/lib/python3.6/dist-packages (from requests-oauthlib>=0.7.0->google-auth-oauthlib<0.5,>=0.4.1->tensorboard<2.1.0,>=2.0.0->tensorflow-gpu==2.0.0) (3.1.0)\n",
            "\u001b[31mERROR: tensorflow 1.15.0 has requirement tensorboard<1.16.0,>=1.15.0, but you'll have tensorboard 2.0.2 which is incompatible.\u001b[0m\n",
            "\u001b[31mERROR: tensorflow 1.15.0 has requirement tensorflow-estimator==1.15.1, but you'll have tensorflow-estimator 2.0.1 which is incompatible.\u001b[0m\n",
            "Installing collected packages: tensorflow-estimator, tensorboard, tensorflow-gpu\n",
            "  Found existing installation: tensorflow-estimator 1.15.1\n",
            "    Uninstalling tensorflow-estimator-1.15.1:\n",
            "      Successfully uninstalled tensorflow-estimator-1.15.1\n",
            "  Found existing installation: tensorboard 1.15.0\n",
            "    Uninstalling tensorboard-1.15.0:\n",
            "      Successfully uninstalled tensorboard-1.15.0\n",
            "Successfully installed tensorboard-2.0.2 tensorflow-estimator-2.0.1 tensorflow-gpu-2.0.0\n"
          ],
          "name": "stdout"
        }
      ]
    },
    {
      "cell_type": "code",
      "metadata": {
        "id": "pOvDQhaFwyAr",
        "colab_type": "code",
        "outputId": "634af32c-a009-4940-c240-42a8aa70a757",
        "colab": {
          "base_uri": "https://localhost:8080/",
          "height": 34
        }
      },
      "source": [
        "import tensorflow as tf\n",
        "import numpy as np\n",
        "import random\n",
        "tf.random.set_seed(42)\n",
        "print(tf.__version__)"
      ],
      "execution_count": 2,
      "outputs": [
        {
          "output_type": "stream",
          "text": [
            "2.0.0\n"
          ],
          "name": "stdout"
        }
      ]
    },
    {
      "cell_type": "code",
      "metadata": {
        "id": "tX-OtY1nw4Co",
        "colab_type": "code",
        "outputId": "268fb638-a9eb-4a02-f6bb-3505e35083db",
        "colab": {
          "base_uri": "https://localhost:8080/",
          "height": 85
        }
      },
      "source": [
        "#imagem 28x28 com valores entre o e 255\n",
        "img=np.zeros((784,))\n",
        "random.seed(42)\n",
        "for i in range(len(img)):\n",
        "  img[i]=random.randint(0,255)\n",
        "img=img.reshape((28,28))\n",
        "kernel=np.array([[0,1,0],[0,1,0],[0,1,0]])#definição do filtro 3x3\n",
        "img[:4,:4]"
      ],
      "execution_count": 5,
      "outputs": [
        {
          "output_type": "execute_result",
          "data": {
            "text/plain": [
              "array([[ 57.,  12., 140., 125.],\n",
              "       [ 52.,  47., 194.,  49.],\n",
              "       [181., 107., 136.,  36.],\n",
              "       [126., 134., 219., 204.]])"
            ]
          },
          "metadata": {
            "tags": []
          },
          "execution_count": 5
        }
      ]
    },
    {
      "cell_type": "code",
      "metadata": {
        "id": "3ftXBp-F0KHT",
        "colab_type": "code",
        "colab": {}
      },
      "source": [
        "def conv(m,k):\n",
        "  #crie a função convolução entre 2 matrizes (é só uma linha)\n",
        "  return (m*k).sum()"
      ],
      "execution_count": 0,
      "outputs": []
    },
    {
      "cell_type": "code",
      "metadata": {
        "id": "whUqDKbD0e84",
        "colab_type": "code",
        "outputId": "67e4c477-8d00-4717-cde3-27f110c5823b",
        "colab": {
          "base_uri": "https://localhost:8080/",
          "height": 34
        }
      },
      "source": [
        "conv(img[:3,:3],kernel)"
      ],
      "execution_count": 9,
      "outputs": [
        {
          "output_type": "execute_result",
          "data": {
            "text/plain": [
              "166.0"
            ]
          },
          "metadata": {
            "tags": []
          },
          "execution_count": 9
        }
      ]
    },
    {
      "cell_type": "code",
      "metadata": {
        "id": "YJgo3Sd93Fkc",
        "colab_type": "code",
        "colab": {
          "base_uri": "https://localhost:8080/",
          "height": 34
        },
        "outputId": "0c84086c-1b3a-488d-f99c-8ea9ce51a27f"
      },
      "source": [
        "#nosso filtro é 3x3 e o stride é 1, só pegando partes válidas da imagem(?)\n",
        "#qual vai se a dimensão da imagem apõs a convolução? Como manter\n",
        "#a dimensão original?\n",
        "m,n=img.shape\n",
        "mk,nk=kernel.shape\n",
        "img_conv=np.zeros((m-mk+1, n-nk+1))\n",
        "img_conv.shape"
      ],
      "execution_count": 10,
      "outputs": [
        {
          "output_type": "execute_result",
          "data": {
            "text/plain": [
              "(26, 26)"
            ]
          },
          "metadata": {
            "tags": []
          },
          "execution_count": 10
        }
      ]
    },
    {
      "cell_type": "code",
      "metadata": {
        "id": "-Dh_uciJ3His",
        "colab_type": "code",
        "colab": {
          "base_uri": "https://localhost:8080/",
          "height": 85
        },
        "outputId": "b7b863ba-7b7f-495c-f56d-3d5ce948d229"
      },
      "source": [
        "mc,nc=img_conv.shape\n",
        "for i in range(mc):\n",
        "  for j in range(nc):\n",
        "    img_conv[i,j]=conv(img[i:i+3, j:j+3],kernel)#qual é o pedaço da matriz?\n",
        "img_conv[:4, :4]"
      ],
      "execution_count": 14,
      "outputs": [
        {
          "output_type": "execute_result",
          "data": {
            "text/plain": [
              "array([[166., 470., 210., 384.],\n",
              "       [288., 549., 289., 455.],\n",
              "       [375., 446., 294., 424.],\n",
              "       [376., 412., 417., 541.]])"
            ]
          },
          "metadata": {
            "tags": []
          },
          "execution_count": 14
        }
      ]
    },
    {
      "cell_type": "code",
      "metadata": {
        "id": "bz8x9sQP48qb",
        "colab_type": "code",
        "colab": {}
      },
      "source": [
        "def relu_mat(X):\n",
        "  m,n = X.shape\n",
        "  X = X.reshape((m*n, ))\n",
        "  for i in range(len(X)):\n",
        "    if X[i] < 0: X[i] = 0\n",
        "  return X.reshape((m,n))\n"
      ],
      "execution_count": 0,
      "outputs": []
    },
    {
      "cell_type": "code",
      "metadata": {
        "id": "DzHJomSU6DT8",
        "colab_type": "code",
        "colab": {
          "base_uri": "https://localhost:8080/",
          "height": 1000
        },
        "outputId": "5a343245-75ee-4f23-a782-c8a245433064"
      },
      "source": [
        "img_conv=relu_mat(img_conv)\n",
        "img_conv"
      ],
      "execution_count": 27,
      "outputs": [
        {
          "output_type": "execute_result",
          "data": {
            "text/plain": [
              "array([[166., 470., 210., 384., 372., 270., 302., 645., 217., 320., 253.,\n",
              "        289., 421., 127., 297., 442., 365., 410., 290., 283., 240., 665.,\n",
              "        518., 608., 338., 328.],\n",
              "       [288., 549., 289., 455., 413., 288., 510., 475., 225., 361., 284.,\n",
              "        259., 518., 146., 393., 423., 492., 309., 153., 338., 295., 623.,\n",
              "        401., 616., 481., 298.],\n",
              "       [375., 446., 294., 424., 338., 231., 679., 322., 162., 333., 494.,\n",
              "        118., 390., 233., 515., 522., 405., 284., 153., 262., 492., 464.,\n",
              "        323., 449., 538., 299.],\n",
              "       [376., 412., 417., 541., 404., 372., 674., 189., 150., 336., 360.,\n",
              "        263., 283., 334., 466., 320., 304., 281., 162., 135., 400., 378.,\n",
              "        157., 336., 607., 412.],\n",
              "       [484., 317., 455., 564., 389., 350., 471., 363., 307., 496., 492.,\n",
              "        421.,  94., 352., 300., 331., 238., 208., 284., 175., 361., 433.,\n",
              "        171., 402., 478., 474.],\n",
              "       [388., 452., 451., 437., 295., 319., 401., 366., 515., 579., 488.,\n",
              "        521., 242., 197., 227., 403., 210., 284., 379., 364., 259., 614.,\n",
              "        356., 416., 332., 541.],\n",
              "       [311., 510., 321., 258., 348., 175., 199., 346., 484., 499., 490.,\n",
              "        468., 438., 141., 241., 420., 215., 468., 423., 463., 347., 605.,\n",
              "        442., 430., 392., 360.],\n",
              "       [230., 423.,  83., 284., 302., 164., 259., 261., 370., 461., 315.,\n",
              "        354., 600., 236., 290., 438., 196., 417., 449., 418., 318., 511.,\n",
              "        430., 268., 378., 357.],\n",
              "       [367., 301., 168., 509., 423., 143., 185., 392., 303., 235.,  70.,\n",
              "        415., 461., 340., 288., 470., 413., 222., 371., 224., 248., 313.,\n",
              "        370., 264., 501., 271.],\n",
              "       [522., 161., 322., 591., 306., 115., 337., 559., 287., 321., 119.,\n",
              "        385., 466., 291., 253., 620., 582., 135., 346., 172., 199., 348.,\n",
              "        267., 369., 412., 306.],\n",
              "       [517., 240., 432., 369., 353., 282., 396., 566., 255., 285., 263.,\n",
              "        464., 446., 160., 232., 529., 519., 266., 212., 174., 353., 389.,\n",
              "        368., 538., 392., 364.],\n",
              "       [364., 359., 297., 219., 411., 476., 384., 519., 274., 326., 415.,\n",
              "        452., 589., 193., 356., 454., 366., 360., 370., 330., 366., 525.,\n",
              "        386., 463., 327., 445.],\n",
              "       [342., 577., 340., 338., 393., 666., 289., 354., 340., 376., 379.,\n",
              "        482., 536., 296., 366., 359., 168., 256., 359., 492., 348., 563.,\n",
              "        579., 322., 410., 596.],\n",
              "       [261., 463., 280., 543., 407., 552., 358., 237., 432., 296., 433.,\n",
              "        346., 604., 444., 533., 444., 305., 202., 583., 667., 258., 513.,\n",
              "        560., 347., 473., 539.],\n",
              "       [385., 360., 419., 614., 384., 373., 393., 145., 390., 429., 358.,\n",
              "        297., 427., 489., 535., 462., 478., 316., 399., 578., 384., 558.,\n",
              "        363., 541., 562., 396.],\n",
              "       [420., 336., 305., 637., 387., 270., 530., 350., 259., 457., 483.,\n",
              "        384., 353., 613., 499., 400., 667., 306., 316., 554., 416., 561.,\n",
              "        244., 467., 499., 337.],\n",
              "       [577., 501., 423., 614., 417., 395., 422., 366., 372., 404., 276.,\n",
              "        495., 230., 486., 293., 197., 565., 327.,  83., 402., 406., 499.,\n",
              "        345., 277., 488., 435.],\n",
              "       [516., 439., 367., 602., 309., 367., 511., 481., 457., 309., 236.,\n",
              "        510., 250., 428., 146.,  49., 504., 334., 241., 332., 365., 306.,\n",
              "        550., 333., 298., 653.],\n",
              "       [395., 447., 345., 491., 444., 466., 511., 370., 608., 235., 108.,\n",
              "        445., 396., 313., 318., 230., 475., 335., 452., 279., 389., 319.,\n",
              "        565., 489., 297., 633.],\n",
              "       [168., 377., 216., 420., 510., 501., 505., 572., 619., 455.,  90.,\n",
              "        313., 432., 391., 505., 339., 505., 421., 684., 377., 484., 424.,\n",
              "        503., 663., 324., 551.],\n",
              "       [144., 417., 294., 322., 549., 586., 456., 627., 557., 498., 103.,\n",
              "        288., 531., 353., 628., 409., 482., 209., 559., 482., 333., 445.,\n",
              "        437., 477., 521., 382.],\n",
              "       [306., 440., 429., 358., 396., 374., 362., 734., 450., 406., 264.,\n",
              "        397., 338., 256., 468., 291., 465., 238., 433., 376., 453., 311.,\n",
              "        523., 526., 615., 360.],\n",
              "       [331., 393., 492., 343., 323., 165., 319., 613., 287., 215., 336.,\n",
              "        351., 397., 373., 501., 316., 325., 168., 338., 344., 468., 178.,\n",
              "        462., 429., 578., 421.],\n",
              "       [346., 431., 403., 318., 259., 151., 366., 513., 370., 134., 524.,\n",
              "        407., 452., 396., 569., 449., 212., 181., 495., 369., 573., 164.,\n",
              "        359., 482., 337., 506.],\n",
              "       [346., 412., 320., 236., 388., 376., 283., 509., 490., 310., 489.,\n",
              "        320., 468., 451., 660., 583., 310., 285., 573., 327., 592.,  94.,\n",
              "        326., 381., 276., 413.],\n",
              "       [552., 573., 241., 224., 438., 590., 429., 413., 506., 408., 476.,\n",
              "        466., 483., 469., 482., 448., 416., 248., 585., 190., 568., 105.,\n",
              "        322., 304., 411., 256.]])"
            ]
          },
          "metadata": {
            "tags": []
          },
          "execution_count": 27
        }
      ]
    },
    {
      "cell_type": "code",
      "metadata": {
        "id": "X4NfmSvS7Rwp",
        "colab_type": "code",
        "colab": {}
      },
      "source": [
        "def max_pool(M):\n",
        "  m,n = M.shape\n",
        "  M = M.reshape((m*n, ))\n",
        "  return M.max()"
      ],
      "execution_count": 0,
      "outputs": []
    },
    {
      "cell_type": "code",
      "metadata": {
        "id": "_pBOSI0m8qMP",
        "colab_type": "code",
        "colab": {}
      },
      "source": [
        "mc,nc=img_conv.shape\n",
        "mpool,npool=2,2 #pooling size, stride 2\n",
        "pooled=np.zeros((mc//mpool, nc//npool))\n",
        "pl,pc=pooled.shape"
      ],
      "execution_count": 0,
      "outputs": []
    },
    {
      "cell_type": "code",
      "metadata": {
        "id": "Y0PLlJnp97DQ",
        "colab_type": "code",
        "colab": {}
      },
      "source": [
        "for i in range(pl):\n",
        "  for j in range(pc):\n",
        "    pooled[i,j]=max_pool(img_conv[mpool * i : mpool * i + 2, npool * j : npool * j + 2])"
      ],
      "execution_count": 0,
      "outputs": []
    },
    {
      "cell_type": "code",
      "metadata": {
        "id": "DXV_ICxP-1ZE",
        "colab_type": "code",
        "colab": {
          "base_uri": "https://localhost:8080/",
          "height": 459
        },
        "outputId": "8c564e77-9d21-4b8c-ddf9-ee3b46f7d10f"
      },
      "source": [
        "pooled"
      ],
      "execution_count": 36,
      "outputs": [
        {
          "output_type": "execute_result",
          "data": {
            "text/plain": [
              "array([[549., 455., 413., 645., 361., 289., 518., 442., 492., 338., 665.,\n",
              "        616., 481.],\n",
              "       [446., 541., 404., 679., 336., 494., 390., 522., 405., 262., 492.,\n",
              "        449., 607.],\n",
              "       [484., 564., 389., 471., 579., 521., 352., 403., 284., 379., 614.,\n",
              "        416., 541.],\n",
              "       [510., 321., 348., 346., 499., 490., 600., 438., 468., 463., 605.,\n",
              "        442., 392.],\n",
              "       [522., 591., 423., 559., 321., 415., 466., 620., 582., 371., 348.,\n",
              "        370., 501.],\n",
              "       [517., 432., 476., 566., 326., 464., 589., 529., 519., 370., 525.,\n",
              "        538., 445.],\n",
              "       [577., 543., 666., 358., 432., 482., 604., 533., 305., 667., 563.,\n",
              "        579., 596.],\n",
              "       [420., 637., 387., 530., 457., 483., 613., 535., 667., 578., 561.,\n",
              "        541., 562.],\n",
              "       [577., 614., 417., 511., 457., 510., 486., 293., 565., 402., 499.,\n",
              "        550., 653.],\n",
              "       [447., 491., 510., 572., 619., 445., 432., 505., 505., 684., 484.,\n",
              "        663., 633.],\n",
              "       [440., 429., 586., 734., 557., 397., 531., 628., 482., 559., 453.,\n",
              "        526., 615.],\n",
              "       [431., 492., 323., 613., 370., 524., 452., 569., 325., 495., 573.,\n",
              "        482., 578.],\n",
              "       [573., 320., 590., 509., 506., 489., 483., 660., 416., 585., 592.,\n",
              "        381., 413.]])"
            ]
          },
          "metadata": {
            "tags": []
          },
          "execution_count": 36
        }
      ]
    }
  ]
}