{
  "nbformat": 4,
  "nbformat_minor": 0,
  "metadata": {
    "kernelspec": {
      "display_name": "Python 3",
      "language": "python",
      "name": "python3"
    },
    "language_info": {
      "codemirror_mode": {
        "name": "ipython",
        "version": 3
      },
      "file_extension": ".py",
      "mimetype": "text/x-python",
      "name": "python",
      "nbconvert_exporter": "python",
      "pygments_lexer": "ipython3",
      "version": "3.6.3"
    },
    "colab": {
      "name": "reg_logistic.ipynb",
      "provenance": [],
      "collapsed_sections": [],
      "include_colab_link": true
    }
  },
  "cells": [
    {
      "cell_type": "markdown",
      "metadata": {
        "id": "view-in-github",
        "colab_type": "text"
      },
      "source": [
        "<a href=\"https://colab.research.google.com/github/douglasbarbosadelima/Data-Science/blob/master/reg_logistic.ipynb\" target=\"_parent\"><img src=\"https://colab.research.google.com/assets/colab-badge.svg\" alt=\"Open In Colab\"/></a>"
      ]
    },
    {
      "cell_type": "markdown",
      "metadata": {
        "id": "xx_MxMLJpAOs",
        "colab_type": "text"
      },
      "source": [
        "# Regressão logística"
      ]
    },
    {
      "cell_type": "code",
      "metadata": {
        "id": "LBkTO3CVpAOu",
        "colab_type": "code",
        "colab": {}
      },
      "source": [
        "import pandas as pd\n",
        "import numpy as np\n",
        "import math"
      ],
      "execution_count": 0,
      "outputs": []
    },
    {
      "cell_type": "code",
      "metadata": {
        "id": "I5TgVDsZpAOx",
        "colab_type": "code",
        "colab": {}
      },
      "source": [
        "df=pd.read_csv('https://raw.githubusercontent.com/douglasbarbosadelima/Data-Science/master/banknotes.txt',names=['f1','f2','f3','f4','fraude'])"
      ],
      "execution_count": 0,
      "outputs": []
    },
    {
      "cell_type": "code",
      "metadata": {
        "id": "fObZi6RMpAOz",
        "colab_type": "code",
        "colab": {
          "base_uri": "https://localhost:8080/",
          "height": 204
        },
        "outputId": "3c36a66a-776c-406c-e709-7df61be21d38"
      },
      "source": [
        "df.head()"
      ],
      "execution_count": 3,
      "outputs": [
        {
          "output_type": "execute_result",
          "data": {
            "text/html": [
              "<div>\n",
              "<style scoped>\n",
              "    .dataframe tbody tr th:only-of-type {\n",
              "        vertical-align: middle;\n",
              "    }\n",
              "\n",
              "    .dataframe tbody tr th {\n",
              "        vertical-align: top;\n",
              "    }\n",
              "\n",
              "    .dataframe thead th {\n",
              "        text-align: right;\n",
              "    }\n",
              "</style>\n",
              "<table border=\"1\" class=\"dataframe\">\n",
              "  <thead>\n",
              "    <tr style=\"text-align: right;\">\n",
              "      <th></th>\n",
              "      <th>f1</th>\n",
              "      <th>f2</th>\n",
              "      <th>f3</th>\n",
              "      <th>f4</th>\n",
              "      <th>fraude</th>\n",
              "    </tr>\n",
              "  </thead>\n",
              "  <tbody>\n",
              "    <tr>\n",
              "      <th>0</th>\n",
              "      <td>3.62160</td>\n",
              "      <td>8.6661</td>\n",
              "      <td>-2.8073</td>\n",
              "      <td>-0.44699</td>\n",
              "      <td>0</td>\n",
              "    </tr>\n",
              "    <tr>\n",
              "      <th>1</th>\n",
              "      <td>4.54590</td>\n",
              "      <td>8.1674</td>\n",
              "      <td>-2.4586</td>\n",
              "      <td>-1.46210</td>\n",
              "      <td>0</td>\n",
              "    </tr>\n",
              "    <tr>\n",
              "      <th>2</th>\n",
              "      <td>3.86600</td>\n",
              "      <td>-2.6383</td>\n",
              "      <td>1.9242</td>\n",
              "      <td>0.10645</td>\n",
              "      <td>0</td>\n",
              "    </tr>\n",
              "    <tr>\n",
              "      <th>3</th>\n",
              "      <td>3.45660</td>\n",
              "      <td>9.5228</td>\n",
              "      <td>-4.0112</td>\n",
              "      <td>-3.59440</td>\n",
              "      <td>0</td>\n",
              "    </tr>\n",
              "    <tr>\n",
              "      <th>4</th>\n",
              "      <td>0.32924</td>\n",
              "      <td>-4.4552</td>\n",
              "      <td>4.5718</td>\n",
              "      <td>-0.98880</td>\n",
              "      <td>0</td>\n",
              "    </tr>\n",
              "  </tbody>\n",
              "</table>\n",
              "</div>"
            ],
            "text/plain": [
              "        f1      f2      f3       f4  fraude\n",
              "0  3.62160  8.6661 -2.8073 -0.44699       0\n",
              "1  4.54590  8.1674 -2.4586 -1.46210       0\n",
              "2  3.86600 -2.6383  1.9242  0.10645       0\n",
              "3  3.45660  9.5228 -4.0112 -3.59440       0\n",
              "4  0.32924 -4.4552  4.5718 -0.98880       0"
            ]
          },
          "metadata": {
            "tags": []
          },
          "execution_count": 3
        }
      ]
    },
    {
      "cell_type": "code",
      "metadata": {
        "id": "H1Rf4WGVpAO2",
        "colab_type": "code",
        "colab": {
          "base_uri": "https://localhost:8080/",
          "height": 187
        },
        "outputId": "e729ea63-6bbb-419a-9ebc-def264e3e430"
      },
      "source": [
        "df.info()"
      ],
      "execution_count": 4,
      "outputs": [
        {
          "output_type": "stream",
          "text": [
            "<class 'pandas.core.frame.DataFrame'>\n",
            "RangeIndex: 1372 entries, 0 to 1371\n",
            "Data columns (total 5 columns):\n",
            "f1        1372 non-null float64\n",
            "f2        1372 non-null float64\n",
            "f3        1372 non-null float64\n",
            "f4        1372 non-null float64\n",
            "fraude    1372 non-null int64\n",
            "dtypes: float64(4), int64(1)\n",
            "memory usage: 53.7 KB\n"
          ],
          "name": "stdout"
        }
      ]
    },
    {
      "cell_type": "markdown",
      "metadata": {
        "id": "TLFuwtpYpAO4",
        "colab_type": "text"
      },
      "source": [
        "A amostra é balanceada em positivos e negativos? Dica: use .value_counts() na série do target"
      ]
    },
    {
      "cell_type": "code",
      "metadata": {
        "collapsed": true,
        "id": "Ok-K3vnlpAO4",
        "colab_type": "code",
        "colab": {
          "base_uri": "https://localhost:8080/",
          "height": 68
        },
        "outputId": "29f51a2a-eafc-4a00-a09f-77cb905c8cfd"
      },
      "source": [
        "df['fraude'].value_counts()"
      ],
      "execution_count": 41,
      "outputs": [
        {
          "output_type": "execute_result",
          "data": {
            "text/plain": [
              "0    762\n",
              "1    610\n",
              "Name: fraude, dtype: int64"
            ]
          },
          "metadata": {
            "tags": []
          },
          "execution_count": 41
        }
      ]
    },
    {
      "cell_type": "code",
      "metadata": {
        "id": "mDqGDZg2pAO6",
        "colab_type": "code",
        "colab": {}
      },
      "source": [
        "#Função sigmoide\n",
        "def sig(x):\n",
        "  return 1 / (1 + math.exp(-x))"
      ],
      "execution_count": 0,
      "outputs": []
    },
    {
      "cell_type": "code",
      "metadata": {
        "id": "0YbtUYuQpAO8",
        "colab_type": "code",
        "colab": {}
      },
      "source": [
        "#função sigmoide para um vetor inteiro v\n",
        "def sig_vet(v):\n",
        "  for i in range(len(v)):\n",
        "    v[i] = sig(v[i])\n",
        "  return v"
      ],
      "execution_count": 0,
      "outputs": []
    },
    {
      "cell_type": "code",
      "metadata": {
        "id": "4lROSmy9pAO-",
        "colab_type": "code",
        "colab": {}
      },
      "source": [
        "def grad(X,theta,y):\n",
        "  return (1/len(y))*(np.dot(X.T, sig_vet(np.dot(X, theta)) - y))"
      ],
      "execution_count": 0,
      "outputs": []
    },
    {
      "cell_type": "code",
      "metadata": {
        "id": "9uO69P7MpAPA",
        "colab_type": "code",
        "colab": {}
      },
      "source": [
        "def custo(X,theta,y):\n",
        "  parte_a = np.dot(y.T, np.log(sig_vet(np.dot(X, theta))))\n",
        "  parte_b = np.dot((1 - y).T, np.log(1 - sig_vet(np.dot(X, theta))))\n",
        "  return (1 / len(y)) * (parte_a - parte_b)"
      ],
      "execution_count": 0,
      "outputs": []
    },
    {
      "cell_type": "code",
      "metadata": {
        "id": "I9ekzQ_opAPB",
        "colab_type": "code",
        "colab": {
          "base_uri": "https://localhost:8080/",
          "height": 238
        },
        "outputId": "d1564473-9e70-4438-97ef-40601e7d742c"
      },
      "source": [
        "#montagem de X e y\n",
        "X = np.ones((len(df), 5))\n",
        "X[:, 1] = df['f1']\n",
        "X[:, 2] = df['f2']\n",
        "X[:, 3] = df['f3']\n",
        "X[:, 4] = df['f4']\n",
        "\n",
        "y = df['fraude']\n",
        "\n",
        "X[:2], y\n"
      ],
      "execution_count": 93,
      "outputs": [
        {
          "output_type": "execute_result",
          "data": {
            "text/plain": [
              "(array([[ 1.     ,  3.6216 ,  8.6661 , -2.8073 , -0.44699],\n",
              "        [ 1.     ,  4.5459 ,  8.1674 , -2.4586 , -1.4621 ]]), 0       0\n",
              " 1       0\n",
              " 2       0\n",
              " 3       0\n",
              " 4       0\n",
              "        ..\n",
              " 1367    1\n",
              " 1368    1\n",
              " 1369    1\n",
              " 1370    1\n",
              " 1371    1\n",
              " Name: fraude, Length: 1372, dtype: int64)"
            ]
          },
          "metadata": {
            "tags": []
          },
          "execution_count": 93
        }
      ]
    },
    {
      "cell_type": "code",
      "metadata": {
        "collapsed": true,
        "id": "kgK1Pd1jpAPD",
        "colab_type": "code",
        "colab": {
          "base_uri": "https://localhost:8080/",
          "height": 68
        },
        "outputId": "be1651ef-89d1-484d-8c71-d0a1b5d1c491"
      },
      "source": [
        "#aqui fazemos o gradient descent\n",
        "theta = np.array([0.5, 0.5, 0.5, 0.5, 0.5])\n",
        "lc = [custo(X, theta, y)]\n",
        "tol = 0.0001\n",
        "for i in range(10000):\n",
        "  g = grad(X, theta, y)\n",
        "  theta = theta - 0.01 * g\n",
        "  lc.append(custo(X, theta, y))\n",
        "  if abs(lc[i + 1] - lc[i]) / lc[i] < tol and i > 3:\n",
        "    print(i, 'iteracoes')\n",
        "    break\n",
        "lc[-1], theta\n"
      ],
      "execution_count": 94,
      "outputs": [
        {
          "output_type": "stream",
          "text": [
            "79 iteracoes\n"
          ],
          "name": "stdout"
        },
        {
          "output_type": "execute_result",
          "data": {
            "text/plain": [
              "(-0.002838165010334485,\n",
              " array([ 0.39087558, -0.34309246, -0.05279826,  0.01806277,  0.32141707]))"
            ]
          },
          "metadata": {
            "tags": []
          },
          "execution_count": 94
        }
      ]
    },
    {
      "cell_type": "code",
      "metadata": {
        "collapsed": true,
        "id": "PyyglTeKpAPF",
        "colab_type": "code",
        "colab": {
          "base_uri": "https://localhost:8080/",
          "height": 265
        },
        "outputId": "cc9b8448-beca-452f-9950-fadb08273851"
      },
      "source": [
        "# Gráfico de custo\n",
        "import matplotlib.pyplot as plt\n",
        "plt.plot(lc, 'bo')\n",
        "plt.show()\n"
      ],
      "execution_count": 95,
      "outputs": [
        {
          "output_type": "display_data",
          "data": {
            "image/png": "[encoded data removed]",
            "text/plain": [
              "<Figure size 432x288 with 1 Axes>"
            ]
          },
          "metadata": {
            "tags": []
          }
        }
      ]
    },
    {
      "cell_type": "markdown",
      "metadata": {
        "id": "LAZws5NYpAPH",
        "colab_type": "text"
      },
      "source": [
        "Calcule a acurácia na amostra de treinamento"
      ]
    },
    {
      "cell_type": "code",
      "metadata": {
        "collapsed": true,
        "id": "DFT6FGDLpAPH",
        "colab_type": "code",
        "colab": {
          "base_uri": "https://localhost:8080/",
          "height": 34
        },
        "outputId": "236b9cb0-e02f-40ee-f262-6a698487ba7a"
      },
      "source": [
        "ye = sig_vet(np.dot(X, theta))\n",
        "for i in range(len(ye)):\n",
        "  if ye[i] > 0.5: ye[i] = 1\n",
        "  else: ye[i] = 0\n",
        "\n",
        "certos = 0\n",
        "for i in range((len(y))):\n",
        "  if int(ye[i]) == int(y[i]): certos += 1\n",
        "\n",
        "certos/len(y)"
      ],
      "execution_count": 96,
      "outputs": [
        {
          "output_type": "execute_result",
          "data": {
            "text/plain": [
              "0.8360058309037901"
            ]
          },
          "metadata": {
            "tags": []
          },
          "execution_count": 96
        }
      ]
    },
    {
      "cell_type": "code",
      "metadata": {
        "id": "Zul6lJigpAPJ",
        "colab_type": "code",
        "colab": {}
      },
      "source": [
        ""
      ],
      "execution_count": 0,
      "outputs": []
    }
  ]
}