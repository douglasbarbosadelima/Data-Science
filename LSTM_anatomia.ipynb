{
  "nbformat": 4,
  "nbformat_minor": 0,
  "metadata": {
    "colab": {
      "name": "LSTM_anatomia.ipynb",
      "provenance": [],
      "collapsed_sections": [],
      "include_colab_link": true
    },
    "kernelspec": {
      "name": "python3",
      "display_name": "Python 3"
    }
  },
  "cells": [
    {
      "cell_type": "markdown",
      "metadata": {
        "id": "view-in-github",
        "colab_type": "text"
      },
      "source": [
        "<a href=\"https://colab.research.google.com/github/douglasbarbosadelima/Data-Science/blob/master/LSTM_anatomia.ipynb\" target=\"_parent\"><img src=\"https://colab.research.google.com/assets/colab-badge.svg\" alt=\"Open In Colab\"/></a>"
      ]
    },
    {
      "cell_type": "markdown",
      "metadata": {
        "id": "ePVO9pOJ6jgh",
        "colab_type": "text"
      },
      "source": [
        "# LSTM_Anatomia\n"
      ]
    },
    {
      "cell_type": "code",
      "metadata": {
        "id": "BkP4tMDxGVnf",
        "colab_type": "code",
        "outputId": "135f4d3e-7123-4c1c-e415-b4890b7b0dca",
        "colab": {
          "base_uri": "https://localhost:8080/",
          "height": 921
        }
      },
      "source": [
        "!pip install tensorflow===2.1.0"
      ],
      "execution_count": 1,
      "outputs": [
        {
          "output_type": "stream",
          "text": [
            "Collecting tensorflow===2.1.0\n",
            "\u001b[?25l  Downloading https://files.pythonhosted.org/packages/85/d4/c0cd1057b331bc38b65478302114194bd8e1b9c2bbc06e300935c0e93d90/tensorflow-2.1.0-cp36-cp36m-manylinux2010_x86_64.whl (421.8MB)\n",
            "\u001b[K     |████████████████████████████████| 421.8MB 32kB/s \n",
            "\u001b[?25hRequirement already satisfied: protobuf>=3.8.0 in /usr/local/lib/python3.6/dist-packages (from tensorflow===2.1.0) (3.10.0)\n",
            "Requirement already satisfied: termcolor>=1.1.0 in /usr/local/lib/python3.6/dist-packages (from tensorflow===2.1.0) (1.1.0)\n",
            "Requirement already satisfied: wrapt>=1.11.1 in /usr/local/lib/python3.6/dist-packages (from tensorflow===2.1.0) (1.12.0)\n",
            "Requirement already satisfied: opt-einsum>=2.3.2 in /usr/local/lib/python3.6/dist-packages (from tensorflow===2.1.0) (3.2.0)\n",
            "Requirement already satisfied: grpcio>=1.8.6 in /usr/local/lib/python3.6/dist-packages (from tensorflow===2.1.0) (1.27.2)\n",
            "Collecting tensorflow-estimator<2.2.0,>=2.1.0rc0\n",
            "\u001b[?25l  Downloading https://files.pythonhosted.org/packages/18/90/b77c328a1304437ab1310b463e533fa7689f4bfc41549593056d812fab8e/tensorflow_estimator-2.1.0-py2.py3-none-any.whl (448kB)\n",
            "\u001b[K     |████████████████████████████████| 450kB 43.5MB/s \n",
            "\u001b[?25hRequirement already satisfied: google-pasta>=0.1.6 in /usr/local/lib/python3.6/dist-packages (from tensorflow===2.1.0) (0.1.8)\n",
            "Requirement already satisfied: scipy==1.4.1; python_version >= \"3\" in /usr/local/lib/python3.6/dist-packages (from tensorflow===2.1.0) (1.4.1)\n",
            "Requirement already satisfied: wheel>=0.26; python_version >= \"3\" in /usr/local/lib/python3.6/dist-packages (from tensorflow===2.1.0) (0.34.2)\n",
            "Requirement already satisfied: astor>=0.6.0 in /usr/local/lib/python3.6/dist-packages (from tensorflow===2.1.0) (0.8.1)\n",
            "Requirement already satisfied: numpy<2.0,>=1.16.0 in /usr/local/lib/python3.6/dist-packages (from tensorflow===2.1.0) (1.17.5)\n",
            "Requirement already satisfied: absl-py>=0.7.0 in /usr/local/lib/python3.6/dist-packages (from tensorflow===2.1.0) (0.9.0)\n",
            "Requirement already satisfied: six>=1.12.0 in /usr/local/lib/python3.6/dist-packages (from tensorflow===2.1.0) (1.12.0)\n",
            "Requirement already satisfied: keras-applications>=1.0.8 in /usr/local/lib/python3.6/dist-packages (from tensorflow===2.1.0) (1.0.8)\n",
            "Collecting tensorboard<2.2.0,>=2.1.0\n",
            "\u001b[?25l  Downloading https://files.pythonhosted.org/packages/d9/41/bbf49b61370e4f4d245d4c6051dfb6db80cec672605c91b1652ac8cc3d38/tensorboard-2.1.1-py3-none-any.whl (3.8MB)\n",
            "\u001b[K     |████████████████████████████████| 3.9MB 44.3MB/s \n",
            "\u001b[?25hRequirement already satisfied: keras-preprocessing>=1.1.0 in /usr/local/lib/python3.6/dist-packages (from tensorflow===2.1.0) (1.1.0)\n",
            "Requirement already satisfied: gast==0.2.2 in /usr/local/lib/python3.6/dist-packages (from tensorflow===2.1.0) (0.2.2)\n",
            "Requirement already satisfied: setuptools in /usr/local/lib/python3.6/dist-packages (from protobuf>=3.8.0->tensorflow===2.1.0) (45.2.0)\n",
            "Requirement already satisfied: h5py in /usr/local/lib/python3.6/dist-packages (from keras-applications>=1.0.8->tensorflow===2.1.0) (2.8.0)\n",
            "Requirement already satisfied: google-auth<2,>=1.6.3 in /usr/local/lib/python3.6/dist-packages (from tensorboard<2.2.0,>=2.1.0->tensorflow===2.1.0) (1.7.2)\n",
            "Requirement already satisfied: google-auth-oauthlib<0.5,>=0.4.1 in /usr/local/lib/python3.6/dist-packages (from tensorboard<2.2.0,>=2.1.0->tensorflow===2.1.0) (0.4.1)\n",
            "Requirement already satisfied: requests<3,>=2.21.0 in /usr/local/lib/python3.6/dist-packages (from tensorboard<2.2.0,>=2.1.0->tensorflow===2.1.0) (2.21.0)\n",
            "Requirement already satisfied: werkzeug>=0.11.15 in /usr/local/lib/python3.6/dist-packages (from tensorboard<2.2.0,>=2.1.0->tensorflow===2.1.0) (1.0.0)\n",
            "Requirement already satisfied: markdown>=2.6.8 in /usr/local/lib/python3.6/dist-packages (from tensorboard<2.2.0,>=2.1.0->tensorflow===2.1.0) (3.2.1)\n",
            "Requirement already satisfied: rsa<4.1,>=3.1.4 in /usr/local/lib/python3.6/dist-packages (from google-auth<2,>=1.6.3->tensorboard<2.2.0,>=2.1.0->tensorflow===2.1.0) (4.0)\n",
            "Requirement already satisfied: pyasn1-modules>=0.2.1 in /usr/local/lib/python3.6/dist-packages (from google-auth<2,>=1.6.3->tensorboard<2.2.0,>=2.1.0->tensorflow===2.1.0) (0.2.8)\n",
            "Requirement already satisfied: cachetools<3.2,>=2.0.0 in /usr/local/lib/python3.6/dist-packages (from google-auth<2,>=1.6.3->tensorboard<2.2.0,>=2.1.0->tensorflow===2.1.0) (3.1.1)\n",
            "Requirement already satisfied: requests-oauthlib>=0.7.0 in /usr/local/lib/python3.6/dist-packages (from google-auth-oauthlib<0.5,>=0.4.1->tensorboard<2.2.0,>=2.1.0->tensorflow===2.1.0) (1.3.0)\n",
            "Requirement already satisfied: urllib3<1.25,>=1.21.1 in /usr/local/lib/python3.6/dist-packages (from requests<3,>=2.21.0->tensorboard<2.2.0,>=2.1.0->tensorflow===2.1.0) (1.24.3)\n",
            "Requirement already satisfied: chardet<3.1.0,>=3.0.2 in /usr/local/lib/python3.6/dist-packages (from requests<3,>=2.21.0->tensorboard<2.2.0,>=2.1.0->tensorflow===2.1.0) (3.0.4)\n",
            "Requirement already satisfied: idna<2.9,>=2.5 in /usr/local/lib/python3.6/dist-packages (from requests<3,>=2.21.0->tensorboard<2.2.0,>=2.1.0->tensorflow===2.1.0) (2.8)\n",
            "Requirement already satisfied: certifi>=2017.4.17 in /usr/local/lib/python3.6/dist-packages (from requests<3,>=2.21.0->tensorboard<2.2.0,>=2.1.0->tensorflow===2.1.0) (2019.11.28)\n",
            "Requirement already satisfied: pyasn1>=0.1.3 in /usr/local/lib/python3.6/dist-packages (from rsa<4.1,>=3.1.4->google-auth<2,>=1.6.3->tensorboard<2.2.0,>=2.1.0->tensorflow===2.1.0) (0.4.8)\n",
            "Requirement already satisfied: oauthlib>=3.0.0 in /usr/local/lib/python3.6/dist-packages (from requests-oauthlib>=0.7.0->google-auth-oauthlib<0.5,>=0.4.1->tensorboard<2.2.0,>=2.1.0->tensorflow===2.1.0) (3.1.0)\n",
            "Installing collected packages: tensorflow-estimator, tensorboard, tensorflow\n",
            "  Found existing installation: tensorflow-estimator 1.15.1\n",
            "    Uninstalling tensorflow-estimator-1.15.1:\n",
            "      Successfully uninstalled tensorflow-estimator-1.15.1\n",
            "  Found existing installation: tensorboard 1.15.0\n",
            "    Uninstalling tensorboard-1.15.0:\n",
            "      Successfully uninstalled tensorboard-1.15.0\n",
            "  Found existing installation: tensorflow 1.15.0\n",
            "    Uninstalling tensorflow-1.15.0:\n",
            "      Successfully uninstalled tensorflow-1.15.0\n",
            "Successfully installed tensorboard-2.1.1 tensorflow-2.1.0 tensorflow-estimator-2.1.0\n"
          ],
          "name": "stdout"
        }
      ]
    },
    {
      "cell_type": "code",
      "metadata": {
        "id": "KHL2w9KxTFRg",
        "colab_type": "code",
        "colab": {}
      },
      "source": [
        "import tensorflow as tf\n",
        "import pandas as pd\n",
        "import numpy as np\n",
        "import math\n",
        "import random\n",
        "\n"
      ],
      "execution_count": 0,
      "outputs": []
    },
    {
      "cell_type": "code",
      "metadata": {
        "id": "Gwilz_qnTIdP",
        "colab_type": "code",
        "outputId": "78bb3668-3800-4787-999f-5701956ac585",
        "colab": {
          "base_uri": "https://localhost:8080/",
          "height": 238
        }
      },
      "source": [
        "#Montagem do Datraset de Treinamento\n",
        "random.seed(42)\n",
        "y=[]\n",
        "seq=[]\n",
        "for i in range(100):\n",
        "  ini=random.randint(1,15)\n",
        "  seq1=[]\n",
        "  for j in range(3):\n",
        "    seq1.append([ini+j])\n",
        "  seq.append(seq1)\n",
        "  y.append([ini+3])\n",
        "\n",
        "\n",
        "X=np.array(seq)\n",
        "y=np.array(y)\n",
        "X[:3],y[:3]"
      ],
      "execution_count": 3,
      "outputs": [
        {
          "output_type": "execute_result",
          "data": {
            "text/plain": [
              "(array([[[11],\n",
              "         [12],\n",
              "         [13]],\n",
              " \n",
              "        [[ 2],\n",
              "         [ 3],\n",
              "         [ 4]],\n",
              " \n",
              "        [[ 1],\n",
              "         [ 2],\n",
              "         [ 3]]]), array([[14],\n",
              "        [ 5],\n",
              "        [ 4]]))"
            ]
          },
          "metadata": {
            "tags": []
          },
          "execution_count": 3
        }
      ]
    },
    {
      "cell_type": "code",
      "metadata": {
        "id": "Uk2nFGgDePsc",
        "colab_type": "code",
        "colab": {
          "base_uri": "https://localhost:8080/",
          "height": 187
        },
        "outputId": "8a072dd1-089e-436f-b59b-2816f8acfd13"
      },
      "source": [
        "#Criação do Modelo\n",
        "model = tf.keras.Sequential()\n",
        "#inserir uma camada LSTM com 1 célula\n",
        "model.add(tf.keras.layers.LSTM(1, activation=lambda x: x, input_shape=(None, 1)))\n",
        "model.compile(optimizer='adam', loss='mse')\n",
        "model.summary()"
      ],
      "execution_count": 9,
      "outputs": [
        {
          "output_type": "stream",
          "text": [
            "Model: \"sequential_4\"\n",
            "_________________________________________________________________\n",
            "Layer (type)                 Output Shape              Param #   \n",
            "=================================================================\n",
            "lstm_3 (LSTM)                (None, 1)                 12        \n",
            "=================================================================\n",
            "Total params: 12\n",
            "Trainable params: 12\n",
            "Non-trainable params: 0\n",
            "_________________________________________________________________\n"
          ],
          "name": "stdout"
        }
      ]
    },
    {
      "cell_type": "code",
      "metadata": {
        "id": "1OcPohNEMd65",
        "colab_type": "code",
        "colab": {
          "base_uri": "https://localhost:8080/",
          "height": 1000
        },
        "outputId": "704d3eed-08a3-4bd0-d2e8-35b407cd40a4"
      },
      "source": [
        "hist=model.fit(X, y, epochs=500,validation_split=0.3, verbose=1)"
      ],
      "execution_count": 10,
      "outputs": [
        {
          "output_type": "stream",
          "text": [
            "Train on 70 samples, validate on 30 samples\n",
            "Epoch 1/500\n",
            "70/70 [==============================] - 1s 15ms/sample - loss: 119.9444 - val_loss: 139.3865\n",
            "Epoch 2/500\n",
            "70/70 [==============================] - 0s 320us/sample - loss: 119.9333 - val_loss: 139.3778\n",
            "Epoch 3/500\n",
            "70/70 [==============================] - 0s 278us/sample - loss: 119.9219 - val_loss: 139.3693\n",
            "Epoch 4/500\n",
            "70/70 [==============================] - 0s 274us/sample - loss: 119.9123 - val_loss: 139.3609\n",
            "Epoch 5/500\n",
            "70/70 [==============================] - 0s 268us/sample - loss: 119.9009 - val_loss: 139.3526\n",
            "Epoch 6/500\n",
            "70/70 [==============================] - 0s 290us/sample - loss: 119.8906 - val_loss: 139.3443\n",
            "Epoch 7/500\n",
            "70/70 [==============================] - 0s 300us/sample - loss: 119.8799 - val_loss: 139.3361\n",
            "Epoch 8/500\n",
            "70/70 [==============================] - 0s 279us/sample - loss: 119.8700 - val_loss: 139.3280\n",
            "Epoch 9/500\n",
            "70/70 [==============================] - 0s 263us/sample - loss: 119.8598 - val_loss: 139.3201\n",
            "Epoch 10/500\n",
            "70/70 [==============================] - 0s 278us/sample - loss: 119.8499 - val_loss: 139.3126\n",
            "Epoch 11/500\n",
            "70/70 [==============================] - 0s 298us/sample - loss: 119.8406 - val_loss: 139.3052\n",
            "Epoch 12/500\n",
            "70/70 [==============================] - 0s 342us/sample - loss: 119.8316 - val_loss: 139.2982\n",
            "Epoch 13/500\n",
            "70/70 [==============================] - 0s 316us/sample - loss: 119.8224 - val_loss: 139.2917\n",
            "Epoch 14/500\n",
            "70/70 [==============================] - 0s 301us/sample - loss: 119.8145 - val_loss: 139.2855\n",
            "Epoch 15/500\n",
            "70/70 [==============================] - 0s 320us/sample - loss: 119.8064 - val_loss: 139.2795\n",
            "Epoch 16/500\n",
            "70/70 [==============================] - 0s 328us/sample - loss: 119.7992 - val_loss: 139.2735\n",
            "Epoch 17/500\n",
            "70/70 [==============================] - 0s 425us/sample - loss: 119.7910 - val_loss: 139.2677\n",
            "Epoch 18/500\n",
            "70/70 [==============================] - 0s 362us/sample - loss: 119.7840 - val_loss: 139.2618\n",
            "Epoch 19/500\n",
            "70/70 [==============================] - 0s 341us/sample - loss: 119.7764 - val_loss: 139.2563\n",
            "Epoch 20/500\n",
            "70/70 [==============================] - 0s 306us/sample - loss: 119.7693 - val_loss: 139.2509\n",
            "Epoch 21/500\n",
            "70/70 [==============================] - 0s 318us/sample - loss: 119.7623 - val_loss: 139.2456\n",
            "Epoch 22/500\n",
            "70/70 [==============================] - 0s 309us/sample - loss: 119.7558 - val_loss: 139.2404\n",
            "Epoch 23/500\n",
            "70/70 [==============================] - 0s 280us/sample - loss: 119.7491 - val_loss: 139.2354\n",
            "Epoch 24/500\n",
            "70/70 [==============================] - 0s 315us/sample - loss: 119.7422 - val_loss: 139.2304\n",
            "Epoch 25/500\n",
            "70/70 [==============================] - 0s 313us/sample - loss: 119.7362 - val_loss: 139.2255\n",
            "Epoch 26/500\n",
            "70/70 [==============================] - 0s 328us/sample - loss: 119.7296 - val_loss: 139.2209\n",
            "Epoch 27/500\n",
            "70/70 [==============================] - 0s 310us/sample - loss: 119.7239 - val_loss: 139.2165\n",
            "Epoch 28/500\n",
            "70/70 [==============================] - 0s 290us/sample - loss: 119.7180 - val_loss: 139.2120\n",
            "Epoch 29/500\n",
            "70/70 [==============================] - 0s 298us/sample - loss: 119.7122 - val_loss: 139.2076\n",
            "Epoch 30/500\n",
            "70/70 [==============================] - 0s 340us/sample - loss: 119.7064 - val_loss: 139.2033\n",
            "Epoch 31/500\n",
            "70/70 [==============================] - 0s 337us/sample - loss: 119.7006 - val_loss: 139.1991\n",
            "Epoch 32/500\n",
            "70/70 [==============================] - 0s 320us/sample - loss: 119.6952 - val_loss: 139.1948\n",
            "Epoch 33/500\n",
            "70/70 [==============================] - 0s 312us/sample - loss: 119.6899 - val_loss: 139.1905\n",
            "Epoch 34/500\n",
            "70/70 [==============================] - 0s 370us/sample - loss: 119.6841 - val_loss: 139.1866\n",
            "Epoch 35/500\n",
            "70/70 [==============================] - 0s 310us/sample - loss: 119.6790 - val_loss: 139.1827\n",
            "Epoch 36/500\n",
            "70/70 [==============================] - 0s 289us/sample - loss: 119.6742 - val_loss: 139.1790\n",
            "Epoch 37/500\n",
            "70/70 [==============================] - 0s 279us/sample - loss: 119.6692 - val_loss: 139.1755\n",
            "Epoch 38/500\n",
            "70/70 [==============================] - 0s 331us/sample - loss: 119.6646 - val_loss: 139.1720\n",
            "Epoch 39/500\n",
            "70/70 [==============================] - 0s 276us/sample - loss: 119.6599 - val_loss: 139.1686\n",
            "Epoch 40/500\n",
            "70/70 [==============================] - 0s 276us/sample - loss: 119.6554 - val_loss: 139.1652\n",
            "Epoch 41/500\n",
            "70/70 [==============================] - 0s 296us/sample - loss: 119.6507 - val_loss: 139.1620\n",
            "Epoch 42/500\n",
            "70/70 [==============================] - 0s 264us/sample - loss: 119.6467 - val_loss: 139.1587\n",
            "Epoch 43/500\n",
            "70/70 [==============================] - 0s 281us/sample - loss: 119.6423 - val_loss: 139.1554\n",
            "Epoch 44/500\n",
            "70/70 [==============================] - 0s 316us/sample - loss: 119.6379 - val_loss: 139.1521\n",
            "Epoch 45/500\n",
            "70/70 [==============================] - 0s 337us/sample - loss: 119.6337 - val_loss: 139.1491\n",
            "Epoch 46/500\n",
            "70/70 [==============================] - 0s 309us/sample - loss: 119.6296 - val_loss: 139.1462\n",
            "Epoch 47/500\n",
            "70/70 [==============================] - 0s 295us/sample - loss: 119.6258 - val_loss: 139.1434\n",
            "Epoch 48/500\n",
            "70/70 [==============================] - 0s 288us/sample - loss: 119.6218 - val_loss: 139.1407\n",
            "Epoch 49/500\n",
            "70/70 [==============================] - 0s 295us/sample - loss: 119.6183 - val_loss: 139.1380\n",
            "Epoch 50/500\n",
            "70/70 [==============================] - 0s 311us/sample - loss: 119.6146 - val_loss: 139.1353\n",
            "Epoch 51/500\n",
            "70/70 [==============================] - 0s 358us/sample - loss: 119.6108 - val_loss: 139.1326\n",
            "Epoch 52/500\n",
            "70/70 [==============================] - 0s 283us/sample - loss: 119.6073 - val_loss: 139.1298\n",
            "Epoch 53/500\n",
            "70/70 [==============================] - 0s 319us/sample - loss: 119.6038 - val_loss: 139.1272\n",
            "Epoch 54/500\n",
            "70/70 [==============================] - 0s 340us/sample - loss: 119.6001 - val_loss: 139.1246\n",
            "Epoch 55/500\n",
            "70/70 [==============================] - 0s 301us/sample - loss: 119.5967 - val_loss: 139.1221\n",
            "Epoch 56/500\n",
            "70/70 [==============================] - 0s 302us/sample - loss: 119.5934 - val_loss: 139.1197\n",
            "Epoch 57/500\n",
            "70/70 [==============================] - 0s 342us/sample - loss: 119.5901 - val_loss: 139.1173\n",
            "Epoch 58/500\n",
            "70/70 [==============================] - 0s 324us/sample - loss: 119.5869 - val_loss: 139.1149\n",
            "Epoch 59/500\n",
            "70/70 [==============================] - 0s 298us/sample - loss: 119.5835 - val_loss: 139.1126\n",
            "Epoch 60/500\n",
            "70/70 [==============================] - 0s 318us/sample - loss: 119.5802 - val_loss: 139.1102\n",
            "Epoch 61/500\n",
            "70/70 [==============================] - 0s 326us/sample - loss: 119.5771 - val_loss: 139.1078\n",
            "Epoch 62/500\n",
            "70/70 [==============================] - 0s 300us/sample - loss: 119.5741 - val_loss: 139.1054\n",
            "Epoch 63/500\n",
            "70/70 [==============================] - 0s 330us/sample - loss: 119.5706 - val_loss: 139.1030\n",
            "Epoch 64/500\n",
            "70/70 [==============================] - 0s 300us/sample - loss: 119.5673 - val_loss: 139.1007\n",
            "Epoch 65/500\n",
            "70/70 [==============================] - 0s 317us/sample - loss: 119.5642 - val_loss: 139.0984\n",
            "Epoch 66/500\n",
            "70/70 [==============================] - 0s 355us/sample - loss: 119.5611 - val_loss: 139.0961\n",
            "Epoch 67/500\n",
            "70/70 [==============================] - 0s 288us/sample - loss: 119.5578 - val_loss: 139.0938\n",
            "Epoch 68/500\n",
            "70/70 [==============================] - 0s 358us/sample - loss: 119.5549 - val_loss: 139.0916\n",
            "Epoch 69/500\n",
            "70/70 [==============================] - 0s 285us/sample - loss: 119.5520 - val_loss: 139.0895\n",
            "Epoch 70/500\n",
            "70/70 [==============================] - 0s 287us/sample - loss: 119.5489 - val_loss: 139.0874\n",
            "Epoch 71/500\n",
            "70/70 [==============================] - 0s 392us/sample - loss: 119.5461 - val_loss: 139.0854\n",
            "Epoch 72/500\n",
            "70/70 [==============================] - 0s 350us/sample - loss: 119.5431 - val_loss: 139.0832\n",
            "Epoch 73/500\n",
            "70/70 [==============================] - 0s 307us/sample - loss: 119.5402 - val_loss: 139.0811\n",
            "Epoch 74/500\n",
            "70/70 [==============================] - 0s 360us/sample - loss: 119.5372 - val_loss: 139.0790\n",
            "Epoch 75/500\n",
            "70/70 [==============================] - 0s 366us/sample - loss: 119.5343 - val_loss: 139.0770\n",
            "Epoch 76/500\n",
            "70/70 [==============================] - 0s 308us/sample - loss: 119.5315 - val_loss: 139.0749\n",
            "Epoch 77/500\n",
            "70/70 [==============================] - 0s 278us/sample - loss: 119.5286 - val_loss: 139.0728\n",
            "Epoch 78/500\n",
            "70/70 [==============================] - 0s 323us/sample - loss: 119.5256 - val_loss: 139.0709\n",
            "Epoch 79/500\n",
            "70/70 [==============================] - 0s 323us/sample - loss: 119.5230 - val_loss: 139.0688\n",
            "Epoch 80/500\n",
            "70/70 [==============================] - 0s 297us/sample - loss: 119.5200 - val_loss: 139.0667\n",
            "Epoch 81/500\n",
            "70/70 [==============================] - 0s 396us/sample - loss: 119.5172 - val_loss: 139.0646\n",
            "Epoch 82/500\n",
            "70/70 [==============================] - 0s 301us/sample - loss: 119.5143 - val_loss: 139.0626\n",
            "Epoch 83/500\n",
            "70/70 [==============================] - 0s 332us/sample - loss: 119.5117 - val_loss: 139.0606\n",
            "Epoch 84/500\n",
            "70/70 [==============================] - 0s 341us/sample - loss: 119.5087 - val_loss: 139.0586\n",
            "Epoch 85/500\n",
            "70/70 [==============================] - 0s 372us/sample - loss: 119.5056 - val_loss: 139.0565\n",
            "Epoch 86/500\n",
            "70/70 [==============================] - 0s 358us/sample - loss: 119.5030 - val_loss: 139.0544\n",
            "Epoch 87/500\n",
            "70/70 [==============================] - 0s 321us/sample - loss: 119.5000 - val_loss: 139.0524\n",
            "Epoch 88/500\n",
            "70/70 [==============================] - 0s 294us/sample - loss: 119.4969 - val_loss: 139.0503\n",
            "Epoch 89/500\n",
            "70/70 [==============================] - 0s 342us/sample - loss: 119.4941 - val_loss: 139.0480\n",
            "Epoch 90/500\n",
            "70/70 [==============================] - 0s 329us/sample - loss: 119.4911 - val_loss: 139.0458\n",
            "Epoch 91/500\n",
            "70/70 [==============================] - 0s 388us/sample - loss: 119.4879 - val_loss: 139.0435\n",
            "Epoch 92/500\n",
            "70/70 [==============================] - 0s 301us/sample - loss: 119.4847 - val_loss: 139.0414\n",
            "Epoch 93/500\n",
            "70/70 [==============================] - 0s 344us/sample - loss: 119.4816 - val_loss: 139.0392\n",
            "Epoch 94/500\n",
            "70/70 [==============================] - 0s 347us/sample - loss: 119.4786 - val_loss: 139.0369\n",
            "Epoch 95/500\n",
            "70/70 [==============================] - 0s 314us/sample - loss: 119.4753 - val_loss: 139.0346\n",
            "Epoch 96/500\n",
            "70/70 [==============================] - 0s 338us/sample - loss: 119.4722 - val_loss: 139.0323\n",
            "Epoch 97/500\n",
            "70/70 [==============================] - 0s 343us/sample - loss: 119.4688 - val_loss: 139.0301\n",
            "Epoch 98/500\n",
            "70/70 [==============================] - 0s 342us/sample - loss: 119.4656 - val_loss: 139.0278\n",
            "Epoch 99/500\n",
            "70/70 [==============================] - 0s 306us/sample - loss: 119.4622 - val_loss: 139.0254\n",
            "Epoch 100/500\n",
            "70/70 [==============================] - 0s 345us/sample - loss: 119.4586 - val_loss: 139.0228\n",
            "Epoch 101/500\n",
            "70/70 [==============================] - 0s 325us/sample - loss: 119.4554 - val_loss: 139.0202\n",
            "Epoch 102/500\n",
            "70/70 [==============================] - 0s 395us/sample - loss: 119.4515 - val_loss: 139.0176\n",
            "Epoch 103/500\n",
            "70/70 [==============================] - 0s 367us/sample - loss: 119.4478 - val_loss: 139.0149\n",
            "Epoch 104/500\n",
            "70/70 [==============================] - 0s 332us/sample - loss: 119.4441 - val_loss: 139.0120\n",
            "Epoch 105/500\n",
            "70/70 [==============================] - 0s 351us/sample - loss: 119.4400 - val_loss: 139.0093\n",
            "Epoch 106/500\n",
            "70/70 [==============================] - 0s 341us/sample - loss: 119.4359 - val_loss: 139.0064\n",
            "Epoch 107/500\n",
            "70/70 [==============================] - 0s 352us/sample - loss: 119.4321 - val_loss: 139.0034\n",
            "Epoch 108/500\n",
            "70/70 [==============================] - 0s 341us/sample - loss: 119.4281 - val_loss: 139.0005\n",
            "Epoch 109/500\n",
            "70/70 [==============================] - 0s 293us/sample - loss: 119.4238 - val_loss: 138.9978\n",
            "Epoch 110/500\n",
            "70/70 [==============================] - 0s 362us/sample - loss: 119.4200 - val_loss: 138.9949\n",
            "Epoch 111/500\n",
            "70/70 [==============================] - 0s 292us/sample - loss: 119.4159 - val_loss: 138.9919\n",
            "Epoch 112/500\n",
            "70/70 [==============================] - 0s 357us/sample - loss: 119.4117 - val_loss: 138.9887\n",
            "Epoch 113/500\n",
            "70/70 [==============================] - 0s 322us/sample - loss: 119.4071 - val_loss: 138.9854\n",
            "Epoch 114/500\n",
            "70/70 [==============================] - 0s 303us/sample - loss: 119.4026 - val_loss: 138.9820\n",
            "Epoch 115/500\n",
            "70/70 [==============================] - 0s 381us/sample - loss: 119.3975 - val_loss: 138.9786\n",
            "Epoch 116/500\n",
            "70/70 [==============================] - 0s 336us/sample - loss: 119.3930 - val_loss: 138.9751\n",
            "Epoch 117/500\n",
            "70/70 [==============================] - 0s 292us/sample - loss: 119.3878 - val_loss: 138.9716\n",
            "Epoch 118/500\n",
            "70/70 [==============================] - 0s 351us/sample - loss: 119.3832 - val_loss: 138.9679\n",
            "Epoch 119/500\n",
            "70/70 [==============================] - 0s 335us/sample - loss: 119.3782 - val_loss: 138.9643\n",
            "Epoch 120/500\n",
            "70/70 [==============================] - 0s 373us/sample - loss: 119.3735 - val_loss: 138.9606\n",
            "Epoch 121/500\n",
            "70/70 [==============================] - 0s 358us/sample - loss: 119.3676 - val_loss: 138.9568\n",
            "Epoch 122/500\n",
            "70/70 [==============================] - 0s 418us/sample - loss: 119.3624 - val_loss: 138.9525\n",
            "Epoch 123/500\n",
            "70/70 [==============================] - 0s 328us/sample - loss: 119.3566 - val_loss: 138.9482\n",
            "Epoch 124/500\n",
            "70/70 [==============================] - 0s 317us/sample - loss: 119.3507 - val_loss: 138.9437\n",
            "Epoch 125/500\n",
            "70/70 [==============================] - 0s 309us/sample - loss: 119.3449 - val_loss: 138.9393\n",
            "Epoch 126/500\n",
            "70/70 [==============================] - 0s 326us/sample - loss: 119.3381 - val_loss: 138.9349\n",
            "Epoch 127/500\n",
            "70/70 [==============================] - 0s 332us/sample - loss: 119.3324 - val_loss: 138.9301\n",
            "Epoch 128/500\n",
            "70/70 [==============================] - 0s 307us/sample - loss: 119.3256 - val_loss: 138.9252\n",
            "Epoch 129/500\n",
            "70/70 [==============================] - 0s 309us/sample - loss: 119.3187 - val_loss: 138.9202\n",
            "Epoch 130/500\n",
            "70/70 [==============================] - 0s 308us/sample - loss: 119.3118 - val_loss: 138.9146\n",
            "Epoch 131/500\n",
            "70/70 [==============================] - 0s 364us/sample - loss: 119.3046 - val_loss: 138.9088\n",
            "Epoch 132/500\n",
            "70/70 [==============================] - 0s 388us/sample - loss: 119.2965 - val_loss: 138.9030\n",
            "Epoch 133/500\n",
            "70/70 [==============================] - 0s 379us/sample - loss: 119.2890 - val_loss: 138.8970\n",
            "Epoch 134/500\n",
            "70/70 [==============================] - 0s 344us/sample - loss: 119.2804 - val_loss: 138.8907\n",
            "Epoch 135/500\n",
            "70/70 [==============================] - 0s 333us/sample - loss: 119.2723 - val_loss: 138.8842\n",
            "Epoch 136/500\n",
            "70/70 [==============================] - 0s 305us/sample - loss: 119.2630 - val_loss: 138.8773\n",
            "Epoch 137/500\n",
            "70/70 [==============================] - 0s 341us/sample - loss: 119.2543 - val_loss: 138.8697\n",
            "Epoch 138/500\n",
            "70/70 [==============================] - 0s 338us/sample - loss: 119.2444 - val_loss: 138.8618\n",
            "Epoch 139/500\n",
            "70/70 [==============================] - 0s 337us/sample - loss: 119.2339 - val_loss: 138.8534\n",
            "Epoch 140/500\n",
            "70/70 [==============================] - 0s 351us/sample - loss: 119.2219 - val_loss: 138.8447\n",
            "Epoch 141/500\n",
            "70/70 [==============================] - 0s 312us/sample - loss: 119.2110 - val_loss: 138.8351\n",
            "Epoch 142/500\n",
            "70/70 [==============================] - 0s 327us/sample - loss: 119.1977 - val_loss: 138.8251\n",
            "Epoch 143/500\n",
            "70/70 [==============================] - 0s 434us/sample - loss: 119.1848 - val_loss: 138.8147\n",
            "Epoch 144/500\n",
            "70/70 [==============================] - 0s 312us/sample - loss: 119.1714 - val_loss: 138.8035\n",
            "Epoch 145/500\n",
            "70/70 [==============================] - 0s 316us/sample - loss: 119.1578 - val_loss: 138.7919\n",
            "Epoch 146/500\n",
            "70/70 [==============================] - 0s 370us/sample - loss: 119.1420 - val_loss: 138.7807\n",
            "Epoch 147/500\n",
            "70/70 [==============================] - 0s 307us/sample - loss: 119.1268 - val_loss: 138.7691\n",
            "Epoch 148/500\n",
            "70/70 [==============================] - 0s 294us/sample - loss: 119.1128 - val_loss: 138.7564\n",
            "Epoch 149/500\n",
            "70/70 [==============================] - 0s 343us/sample - loss: 119.0967 - val_loss: 138.7437\n",
            "Epoch 150/500\n",
            "70/70 [==============================] - 0s 333us/sample - loss: 119.0802 - val_loss: 138.7303\n",
            "Epoch 151/500\n",
            "70/70 [==============================] - 0s 446us/sample - loss: 119.0631 - val_loss: 138.7159\n",
            "Epoch 152/500\n",
            "70/70 [==============================] - 0s 311us/sample - loss: 119.0453 - val_loss: 138.7005\n",
            "Epoch 153/500\n",
            "70/70 [==============================] - 0s 339us/sample - loss: 119.0256 - val_loss: 138.6846\n",
            "Epoch 154/500\n",
            "70/70 [==============================] - 0s 379us/sample - loss: 119.0047 - val_loss: 138.6676\n",
            "Epoch 155/500\n",
            "70/70 [==============================] - 0s 341us/sample - loss: 118.9841 - val_loss: 138.6484\n",
            "Epoch 156/500\n",
            "70/70 [==============================] - 0s 288us/sample - loss: 118.9597 - val_loss: 138.6281\n",
            "Epoch 157/500\n",
            "70/70 [==============================] - 0s 332us/sample - loss: 118.9340 - val_loss: 138.6065\n",
            "Epoch 158/500\n",
            "70/70 [==============================] - 0s 265us/sample - loss: 118.9077 - val_loss: 138.5831\n",
            "Epoch 159/500\n",
            "70/70 [==============================] - 0s 368us/sample - loss: 118.8794 - val_loss: 138.5581\n",
            "Epoch 160/500\n",
            "70/70 [==============================] - 0s 321us/sample - loss: 118.8480 - val_loss: 138.5315\n",
            "Epoch 161/500\n",
            "70/70 [==============================] - 0s 283us/sample - loss: 118.8164 - val_loss: 138.5032\n",
            "Epoch 162/500\n",
            "70/70 [==============================] - 0s 280us/sample - loss: 118.7829 - val_loss: 138.4748\n",
            "Epoch 163/500\n",
            "70/70 [==============================] - 0s 290us/sample - loss: 118.7482 - val_loss: 138.4457\n",
            "Epoch 164/500\n",
            "70/70 [==============================] - 0s 328us/sample - loss: 118.7138 - val_loss: 138.4144\n",
            "Epoch 165/500\n",
            "70/70 [==============================] - 0s 323us/sample - loss: 118.6759 - val_loss: 138.3806\n",
            "Epoch 166/500\n",
            "70/70 [==============================] - 0s 347us/sample - loss: 118.6348 - val_loss: 138.3440\n",
            "Epoch 167/500\n",
            "70/70 [==============================] - 0s 327us/sample - loss: 118.5909 - val_loss: 138.3038\n",
            "Epoch 168/500\n",
            "70/70 [==============================] - 0s 300us/sample - loss: 118.5435 - val_loss: 138.2599\n",
            "Epoch 169/500\n",
            "70/70 [==============================] - 0s 329us/sample - loss: 118.4941 - val_loss: 138.2119\n",
            "Epoch 170/500\n",
            "70/70 [==============================] - 0s 286us/sample - loss: 118.4380 - val_loss: 138.1605\n",
            "Epoch 171/500\n",
            "70/70 [==============================] - 0s 256us/sample - loss: 118.3767 - val_loss: 138.1055\n",
            "Epoch 172/500\n",
            "70/70 [==============================] - 0s 307us/sample - loss: 118.3136 - val_loss: 138.0441\n",
            "Epoch 173/500\n",
            "70/70 [==============================] - 0s 309us/sample - loss: 118.2417 - val_loss: 137.9763\n",
            "Epoch 174/500\n",
            "70/70 [==============================] - 0s 358us/sample - loss: 118.1663 - val_loss: 137.9034\n",
            "Epoch 175/500\n",
            "70/70 [==============================] - 0s 490us/sample - loss: 118.0814 - val_loss: 137.8243\n",
            "Epoch 176/500\n",
            "70/70 [==============================] - 0s 386us/sample - loss: 117.9926 - val_loss: 137.7363\n",
            "Epoch 177/500\n",
            "70/70 [==============================] - 0s 322us/sample - loss: 117.8942 - val_loss: 137.6413\n",
            "Epoch 178/500\n",
            "70/70 [==============================] - 0s 368us/sample - loss: 117.7841 - val_loss: 137.5385\n",
            "Epoch 179/500\n",
            "70/70 [==============================] - 0s 314us/sample - loss: 117.6701 - val_loss: 137.4248\n",
            "Epoch 180/500\n",
            "70/70 [==============================] - 0s 327us/sample - loss: 117.5421 - val_loss: 137.2990\n",
            "Epoch 181/500\n",
            "70/70 [==============================] - 0s 323us/sample - loss: 117.3988 - val_loss: 137.1612\n",
            "Epoch 182/500\n",
            "70/70 [==============================] - 0s 316us/sample - loss: 117.2546 - val_loss: 137.0095\n",
            "Epoch 183/500\n",
            "70/70 [==============================] - 0s 337us/sample - loss: 117.0829 - val_loss: 136.8487\n",
            "Epoch 184/500\n",
            "70/70 [==============================] - 0s 429us/sample - loss: 116.9121 - val_loss: 136.6750\n",
            "Epoch 185/500\n",
            "70/70 [==============================] - 0s 330us/sample - loss: 116.7288 - val_loss: 136.4889\n",
            "Epoch 186/500\n",
            "70/70 [==============================] - 0s 326us/sample - loss: 116.5304 - val_loss: 136.2886\n",
            "Epoch 187/500\n",
            "70/70 [==============================] - 0s 353us/sample - loss: 116.3170 - val_loss: 136.0721\n",
            "Epoch 188/500\n",
            "70/70 [==============================] - 0s 305us/sample - loss: 116.0880 - val_loss: 135.8379\n",
            "Epoch 189/500\n",
            "70/70 [==============================] - 0s 345us/sample - loss: 115.8300 - val_loss: 135.5796\n",
            "Epoch 190/500\n",
            "70/70 [==============================] - 0s 321us/sample - loss: 115.5587 - val_loss: 135.2845\n",
            "Epoch 191/500\n",
            "70/70 [==============================] - 0s 342us/sample - loss: 115.2389 - val_loss: 134.9514\n",
            "Epoch 192/500\n",
            "70/70 [==============================] - 0s 357us/sample - loss: 114.8928 - val_loss: 134.5761\n",
            "Epoch 193/500\n",
            "70/70 [==============================] - 0s 389us/sample - loss: 114.5108 - val_loss: 134.1651\n",
            "Epoch 194/500\n",
            "70/70 [==============================] - 0s 363us/sample - loss: 114.0827 - val_loss: 133.7177\n",
            "Epoch 195/500\n",
            "70/70 [==============================] - 0s 354us/sample - loss: 113.6143 - val_loss: 133.2238\n",
            "Epoch 196/500\n",
            "70/70 [==============================] - 0s 313us/sample - loss: 113.1060 - val_loss: 132.6666\n",
            "Epoch 197/500\n",
            "70/70 [==============================] - 0s 310us/sample - loss: 112.5154 - val_loss: 132.0412\n",
            "Epoch 198/500\n",
            "70/70 [==============================] - 0s 407us/sample - loss: 111.8843 - val_loss: 131.3300\n",
            "Epoch 199/500\n",
            "70/70 [==============================] - 0s 299us/sample - loss: 111.1550 - val_loss: 130.5327\n",
            "Epoch 200/500\n",
            "70/70 [==============================] - 0s 286us/sample - loss: 110.3509 - val_loss: 129.6303\n",
            "Epoch 201/500\n",
            "70/70 [==============================] - 0s 332us/sample - loss: 109.4400 - val_loss: 128.5987\n",
            "Epoch 202/500\n",
            "70/70 [==============================] - 0s 318us/sample - loss: 108.3769 - val_loss: 127.4138\n",
            "Epoch 203/500\n",
            "70/70 [==============================] - 0s 388us/sample - loss: 107.1914 - val_loss: 126.0419\n",
            "Epoch 204/500\n",
            "70/70 [==============================] - 0s 351us/sample - loss: 105.8148 - val_loss: 124.4627\n",
            "Epoch 205/500\n",
            "70/70 [==============================] - 0s 370us/sample - loss: 104.2447 - val_loss: 122.6608\n",
            "Epoch 206/500\n",
            "70/70 [==============================] - 0s 335us/sample - loss: 102.4739 - val_loss: 120.6057\n",
            "Epoch 207/500\n",
            "70/70 [==============================] - 0s 345us/sample - loss: 100.4167 - val_loss: 118.2354\n",
            "Epoch 208/500\n",
            "70/70 [==============================] - 0s 322us/sample - loss: 98.0427 - val_loss: 115.4781\n",
            "Epoch 209/500\n",
            "70/70 [==============================] - 0s 323us/sample - loss: 95.3435 - val_loss: 112.2836\n",
            "Epoch 210/500\n",
            "70/70 [==============================] - 0s 342us/sample - loss: 92.0989 - val_loss: 108.6428\n",
            "Epoch 211/500\n",
            "70/70 [==============================] - 0s 332us/sample - loss: 88.4164 - val_loss: 104.4430\n",
            "Epoch 212/500\n",
            "70/70 [==============================] - 0s 347us/sample - loss: 84.2000 - val_loss: 99.6617\n",
            "Epoch 213/500\n",
            "70/70 [==============================] - 0s 427us/sample - loss: 79.1205 - val_loss: 94.2382\n",
            "Epoch 214/500\n",
            "70/70 [==============================] - 0s 409us/sample - loss: 73.0332 - val_loss: 87.9334\n",
            "Epoch 215/500\n",
            "70/70 [==============================] - 0s 315us/sample - loss: 66.7078 - val_loss: 80.5614\n",
            "Epoch 216/500\n",
            "70/70 [==============================] - 0s 311us/sample - loss: 58.0178 - val_loss: 71.7781\n",
            "Epoch 217/500\n",
            "70/70 [==============================] - 0s 283us/sample - loss: 49.8688 - val_loss: 61.0277\n",
            "Epoch 218/500\n",
            "70/70 [==============================] - 0s 358us/sample - loss: 39.5322 - val_loss: 48.7800\n",
            "Epoch 219/500\n",
            "70/70 [==============================] - 0s 316us/sample - loss: 27.7454 - val_loss: 34.9283\n",
            "Epoch 220/500\n",
            "70/70 [==============================] - 0s 344us/sample - loss: 19.7571 - val_loss: 21.6765\n",
            "Epoch 221/500\n",
            "70/70 [==============================] - 0s 351us/sample - loss: 12.3666 - val_loss: 14.0139\n",
            "Epoch 222/500\n",
            "70/70 [==============================] - 0s 409us/sample - loss: 11.6010 - val_loss: 12.1526\n",
            "Epoch 223/500\n",
            "70/70 [==============================] - 0s 435us/sample - loss: 12.2858 - val_loss: 11.8741\n",
            "Epoch 224/500\n",
            "70/70 [==============================] - 0s 324us/sample - loss: 12.2444 - val_loss: 10.9528\n",
            "Epoch 225/500\n",
            "70/70 [==============================] - 0s 385us/sample - loss: 11.1691 - val_loss: 9.4784\n",
            "Epoch 226/500\n",
            "70/70 [==============================] - 0s 346us/sample - loss: 9.4627 - val_loss: 7.9987\n",
            "Epoch 227/500\n",
            "70/70 [==============================] - 0s 307us/sample - loss: 7.7584 - val_loss: 6.9589\n",
            "Epoch 228/500\n",
            "70/70 [==============================] - 0s 324us/sample - loss: 6.3768 - val_loss: 6.4220\n",
            "Epoch 229/500\n",
            "70/70 [==============================] - 0s 351us/sample - loss: 5.4028 - val_loss: 6.2748\n",
            "Epoch 230/500\n",
            "70/70 [==============================] - 0s 310us/sample - loss: 4.9806 - val_loss: 6.3266\n",
            "Epoch 231/500\n",
            "70/70 [==============================] - 0s 353us/sample - loss: 4.5519 - val_loss: 6.1913\n",
            "Epoch 232/500\n",
            "70/70 [==============================] - 0s 368us/sample - loss: 4.2656 - val_loss: 5.9779\n",
            "Epoch 233/500\n",
            "70/70 [==============================] - 0s 383us/sample - loss: 4.0078 - val_loss: 5.6504\n",
            "Epoch 234/500\n",
            "70/70 [==============================] - 0s 327us/sample - loss: 3.7601 - val_loss: 5.2772\n",
            "Epoch 235/500\n",
            "70/70 [==============================] - 0s 314us/sample - loss: 3.4999 - val_loss: 4.8059\n",
            "Epoch 236/500\n",
            "70/70 [==============================] - 0s 298us/sample - loss: 3.2793 - val_loss: 4.3337\n",
            "Epoch 237/500\n",
            "70/70 [==============================] - 0s 303us/sample - loss: 3.0006 - val_loss: 3.9881\n",
            "Epoch 238/500\n",
            "70/70 [==============================] - 0s 341us/sample - loss: 2.8083 - val_loss: 3.7032\n",
            "Epoch 239/500\n",
            "70/70 [==============================] - 0s 381us/sample - loss: 2.6366 - val_loss: 3.4428\n",
            "Epoch 240/500\n",
            "70/70 [==============================] - 0s 309us/sample - loss: 2.4776 - val_loss: 3.1644\n",
            "Epoch 241/500\n",
            "70/70 [==============================] - 0s 355us/sample - loss: 2.3204 - val_loss: 2.9099\n",
            "Epoch 242/500\n",
            "70/70 [==============================] - 0s 436us/sample - loss: 2.2145 - val_loss: 2.6856\n",
            "Epoch 243/500\n",
            "70/70 [==============================] - 0s 392us/sample - loss: 2.1101 - val_loss: 2.5137\n",
            "Epoch 244/500\n",
            "70/70 [==============================] - 0s 368us/sample - loss: 2.0282 - val_loss: 2.3733\n",
            "Epoch 245/500\n",
            "70/70 [==============================] - 0s 365us/sample - loss: 1.9438 - val_loss: 2.2619\n",
            "Epoch 246/500\n",
            "70/70 [==============================] - 0s 417us/sample - loss: 1.8439 - val_loss: 2.1672\n",
            "Epoch 247/500\n",
            "70/70 [==============================] - 0s 336us/sample - loss: 1.7441 - val_loss: 2.0833\n",
            "Epoch 248/500\n",
            "70/70 [==============================] - 0s 363us/sample - loss: 1.6514 - val_loss: 2.0186\n",
            "Epoch 249/500\n",
            "70/70 [==============================] - 0s 395us/sample - loss: 1.5636 - val_loss: 1.9688\n",
            "Epoch 250/500\n",
            "70/70 [==============================] - 0s 349us/sample - loss: 1.4808 - val_loss: 1.9280\n",
            "Epoch 251/500\n",
            "70/70 [==============================] - 0s 333us/sample - loss: 1.4148 - val_loss: 1.9046\n",
            "Epoch 252/500\n",
            "70/70 [==============================] - 0s 392us/sample - loss: 1.3602 - val_loss: 1.8889\n",
            "Epoch 253/500\n",
            "70/70 [==============================] - 0s 304us/sample - loss: 1.3089 - val_loss: 1.8654\n",
            "Epoch 254/500\n",
            "70/70 [==============================] - 0s 334us/sample - loss: 1.2659 - val_loss: 1.8417\n",
            "Epoch 255/500\n",
            "70/70 [==============================] - 0s 309us/sample - loss: 1.2294 - val_loss: 1.7995\n",
            "Epoch 256/500\n",
            "70/70 [==============================] - 0s 364us/sample - loss: 1.1830 - val_loss: 1.7187\n",
            "Epoch 257/500\n",
            "70/70 [==============================] - 0s 339us/sample - loss: 1.1409 - val_loss: 1.6252\n",
            "Epoch 258/500\n",
            "70/70 [==============================] - 0s 378us/sample - loss: 1.0918 - val_loss: 1.5518\n",
            "Epoch 259/500\n",
            "70/70 [==============================] - 0s 350us/sample - loss: 1.0486 - val_loss: 1.4848\n",
            "Epoch 260/500\n",
            "70/70 [==============================] - 0s 368us/sample - loss: 1.0143 - val_loss: 1.4159\n",
            "Epoch 261/500\n",
            "70/70 [==============================] - 0s 357us/sample - loss: 0.9775 - val_loss: 1.3553\n",
            "Epoch 262/500\n",
            "70/70 [==============================] - 0s 389us/sample - loss: 0.9487 - val_loss: 1.2941\n",
            "Epoch 263/500\n",
            "70/70 [==============================] - 0s 364us/sample - loss: 0.9207 - val_loss: 1.2445\n",
            "Epoch 264/500\n",
            "70/70 [==============================] - 0s 317us/sample - loss: 0.8941 - val_loss: 1.2006\n",
            "Epoch 265/500\n",
            "70/70 [==============================] - 0s 306us/sample - loss: 0.8669 - val_loss: 1.1620\n",
            "Epoch 266/500\n",
            "70/70 [==============================] - 0s 292us/sample - loss: 0.8406 - val_loss: 1.1270\n",
            "Epoch 267/500\n",
            "70/70 [==============================] - 0s 324us/sample - loss: 0.8159 - val_loss: 1.1018\n",
            "Epoch 268/500\n",
            "70/70 [==============================] - 0s 302us/sample - loss: 0.7925 - val_loss: 1.0813\n",
            "Epoch 269/500\n",
            "70/70 [==============================] - 0s 361us/sample - loss: 0.7669 - val_loss: 1.0546\n",
            "Epoch 270/500\n",
            "70/70 [==============================] - 0s 354us/sample - loss: 0.7454 - val_loss: 1.0316\n",
            "Epoch 271/500\n",
            "70/70 [==============================] - 0s 423us/sample - loss: 0.7266 - val_loss: 1.0128\n",
            "Epoch 272/500\n",
            "70/70 [==============================] - 0s 418us/sample - loss: 0.7064 - val_loss: 0.9927\n",
            "Epoch 273/500\n",
            "70/70 [==============================] - 0s 345us/sample - loss: 0.6890 - val_loss: 0.9756\n",
            "Epoch 274/500\n",
            "70/70 [==============================] - 0s 283us/sample - loss: 0.6725 - val_loss: 0.9607\n",
            "Epoch 275/500\n",
            "70/70 [==============================] - 0s 298us/sample - loss: 0.6561 - val_loss: 0.9471\n",
            "Epoch 276/500\n",
            "70/70 [==============================] - 0s 306us/sample - loss: 0.6415 - val_loss: 0.9349\n",
            "Epoch 277/500\n",
            "70/70 [==============================] - 0s 382us/sample - loss: 0.6288 - val_loss: 0.9193\n",
            "Epoch 278/500\n",
            "70/70 [==============================] - 0s 338us/sample - loss: 0.6134 - val_loss: 0.8927\n",
            "Epoch 279/500\n",
            "70/70 [==============================] - 0s 346us/sample - loss: 0.5989 - val_loss: 0.8692\n",
            "Epoch 280/500\n",
            "70/70 [==============================] - 0s 340us/sample - loss: 0.5861 - val_loss: 0.8487\n",
            "Epoch 281/500\n",
            "70/70 [==============================] - 0s 345us/sample - loss: 0.5717 - val_loss: 0.8303\n",
            "Epoch 282/500\n",
            "70/70 [==============================] - 0s 349us/sample - loss: 0.5596 - val_loss: 0.8040\n",
            "Epoch 283/500\n",
            "70/70 [==============================] - 0s 341us/sample - loss: 0.5467 - val_loss: 0.7798\n",
            "Epoch 284/500\n",
            "70/70 [==============================] - 0s 320us/sample - loss: 0.5352 - val_loss: 0.7584\n",
            "Epoch 285/500\n",
            "70/70 [==============================] - 0s 335us/sample - loss: 0.5235 - val_loss: 0.7376\n",
            "Epoch 286/500\n",
            "70/70 [==============================] - 0s 359us/sample - loss: 0.5136 - val_loss: 0.7158\n",
            "Epoch 287/500\n",
            "70/70 [==============================] - 0s 322us/sample - loss: 0.5036 - val_loss: 0.6993\n",
            "Epoch 288/500\n",
            "70/70 [==============================] - 0s 362us/sample - loss: 0.4936 - val_loss: 0.6860\n",
            "Epoch 289/500\n",
            "70/70 [==============================] - 0s 372us/sample - loss: 0.4849 - val_loss: 0.6746\n",
            "Epoch 290/500\n",
            "70/70 [==============================] - 0s 363us/sample - loss: 0.4747 - val_loss: 0.6649\n",
            "Epoch 291/500\n",
            "70/70 [==============================] - 0s 345us/sample - loss: 0.4656 - val_loss: 0.6545\n",
            "Epoch 292/500\n",
            "70/70 [==============================] - 0s 308us/sample - loss: 0.4565 - val_loss: 0.6471\n",
            "Epoch 293/500\n",
            "70/70 [==============================] - 0s 316us/sample - loss: 0.4474 - val_loss: 0.6410\n",
            "Epoch 294/500\n",
            "70/70 [==============================] - 0s 316us/sample - loss: 0.4394 - val_loss: 0.6338\n",
            "Epoch 295/500\n",
            "70/70 [==============================] - 0s 363us/sample - loss: 0.4307 - val_loss: 0.6195\n",
            "Epoch 296/500\n",
            "70/70 [==============================] - 0s 351us/sample - loss: 0.4231 - val_loss: 0.6026\n",
            "Epoch 297/500\n",
            "70/70 [==============================] - 0s 341us/sample - loss: 0.4146 - val_loss: 0.5875\n",
            "Epoch 298/500\n",
            "70/70 [==============================] - 0s 509us/sample - loss: 0.4065 - val_loss: 0.5696\n",
            "Epoch 299/500\n",
            "70/70 [==============================] - 0s 340us/sample - loss: 0.4011 - val_loss: 0.5527\n",
            "Epoch 300/500\n",
            "70/70 [==============================] - 0s 364us/sample - loss: 0.3942 - val_loss: 0.5394\n",
            "Epoch 301/500\n",
            "70/70 [==============================] - 0s 304us/sample - loss: 0.3874 - val_loss: 0.5269\n",
            "Epoch 302/500\n",
            "70/70 [==============================] - 0s 300us/sample - loss: 0.3818 - val_loss: 0.5131\n",
            "Epoch 303/500\n",
            "70/70 [==============================] - 0s 277us/sample - loss: 0.3778 - val_loss: 0.5019\n",
            "Epoch 304/500\n",
            "70/70 [==============================] - 0s 360us/sample - loss: 0.3707 - val_loss: 0.4930\n",
            "Epoch 305/500\n",
            "70/70 [==============================] - 0s 340us/sample - loss: 0.3640 - val_loss: 0.4838\n",
            "Epoch 306/500\n",
            "70/70 [==============================] - 0s 325us/sample - loss: 0.3577 - val_loss: 0.4743\n",
            "Epoch 307/500\n",
            "70/70 [==============================] - 0s 344us/sample - loss: 0.3517 - val_loss: 0.4666\n",
            "Epoch 308/500\n",
            "70/70 [==============================] - 0s 293us/sample - loss: 0.3448 - val_loss: 0.4615\n",
            "Epoch 309/500\n",
            "70/70 [==============================] - 0s 304us/sample - loss: 0.3381 - val_loss: 0.4580\n",
            "Epoch 310/500\n",
            "70/70 [==============================] - 0s 386us/sample - loss: 0.3315 - val_loss: 0.4549\n",
            "Epoch 311/500\n",
            "70/70 [==============================] - 0s 355us/sample - loss: 0.3264 - val_loss: 0.4537\n",
            "Epoch 312/500\n",
            "70/70 [==============================] - 0s 348us/sample - loss: 0.3197 - val_loss: 0.4515\n",
            "Epoch 313/500\n",
            "70/70 [==============================] - 0s 307us/sample - loss: 0.3147 - val_loss: 0.4498\n",
            "Epoch 314/500\n",
            "70/70 [==============================] - 0s 285us/sample - loss: 0.3115 - val_loss: 0.4480\n",
            "Epoch 315/500\n",
            "70/70 [==============================] - 0s 340us/sample - loss: 0.3065 - val_loss: 0.4415\n",
            "Epoch 316/500\n",
            "70/70 [==============================] - 0s 361us/sample - loss: 0.3017 - val_loss: 0.4357\n",
            "Epoch 317/500\n",
            "70/70 [==============================] - 0s 255us/sample - loss: 0.2976 - val_loss: 0.4277\n",
            "Epoch 318/500\n",
            "70/70 [==============================] - 0s 301us/sample - loss: 0.2926 - val_loss: 0.4214\n",
            "Epoch 319/500\n",
            "70/70 [==============================] - 0s 296us/sample - loss: 0.2882 - val_loss: 0.4139\n",
            "Epoch 320/500\n",
            "70/70 [==============================] - 0s 331us/sample - loss: 0.2843 - val_loss: 0.4048\n",
            "Epoch 321/500\n",
            "70/70 [==============================] - 0s 281us/sample - loss: 0.2804 - val_loss: 0.3940\n",
            "Epoch 322/500\n",
            "70/70 [==============================] - 0s 282us/sample - loss: 0.2773 - val_loss: 0.3847\n",
            "Epoch 323/500\n",
            "70/70 [==============================] - 0s 306us/sample - loss: 0.2734 - val_loss: 0.3777\n",
            "Epoch 324/500\n",
            "70/70 [==============================] - 0s 358us/sample - loss: 0.2696 - val_loss: 0.3732\n",
            "Epoch 325/500\n",
            "70/70 [==============================] - 0s 293us/sample - loss: 0.2661 - val_loss: 0.3688\n",
            "Epoch 326/500\n",
            "70/70 [==============================] - 0s 362us/sample - loss: 0.2630 - val_loss: 0.3624\n",
            "Epoch 327/500\n",
            "70/70 [==============================] - 0s 337us/sample - loss: 0.2592 - val_loss: 0.3580\n",
            "Epoch 328/500\n",
            "70/70 [==============================] - 0s 287us/sample - loss: 0.2558 - val_loss: 0.3537\n",
            "Epoch 329/500\n",
            "70/70 [==============================] - 0s 315us/sample - loss: 0.2521 - val_loss: 0.3503\n",
            "Epoch 330/500\n",
            "70/70 [==============================] - 0s 379us/sample - loss: 0.2488 - val_loss: 0.3466\n",
            "Epoch 331/500\n",
            "70/70 [==============================] - 0s 372us/sample - loss: 0.2459 - val_loss: 0.3448\n",
            "Epoch 332/500\n",
            "70/70 [==============================] - 0s 342us/sample - loss: 0.2432 - val_loss: 0.3436\n",
            "Epoch 333/500\n",
            "70/70 [==============================] - 0s 299us/sample - loss: 0.2402 - val_loss: 0.3415\n",
            "Epoch 334/500\n",
            "70/70 [==============================] - 0s 331us/sample - loss: 0.2374 - val_loss: 0.3401\n",
            "Epoch 335/500\n",
            "70/70 [==============================] - 0s 316us/sample - loss: 0.2351 - val_loss: 0.3394\n",
            "Epoch 336/500\n",
            "70/70 [==============================] - 0s 358us/sample - loss: 0.2333 - val_loss: 0.3369\n",
            "Epoch 337/500\n",
            "70/70 [==============================] - 0s 315us/sample - loss: 0.2305 - val_loss: 0.3296\n",
            "Epoch 338/500\n",
            "70/70 [==============================] - 0s 279us/sample - loss: 0.2271 - val_loss: 0.3226\n",
            "Epoch 339/500\n",
            "70/70 [==============================] - 0s 313us/sample - loss: 0.2238 - val_loss: 0.3140\n",
            "Epoch 340/500\n",
            "70/70 [==============================] - 0s 342us/sample - loss: 0.2215 - val_loss: 0.3038\n",
            "Epoch 341/500\n",
            "70/70 [==============================] - 0s 322us/sample - loss: 0.2181 - val_loss: 0.2952\n",
            "Epoch 342/500\n",
            "70/70 [==============================] - 0s 333us/sample - loss: 0.2155 - val_loss: 0.2896\n",
            "Epoch 343/500\n",
            "70/70 [==============================] - 0s 286us/sample - loss: 0.2131 - val_loss: 0.2858\n",
            "Epoch 344/500\n",
            "70/70 [==============================] - 0s 315us/sample - loss: 0.2109 - val_loss: 0.2825\n",
            "Epoch 345/500\n",
            "70/70 [==============================] - 0s 310us/sample - loss: 0.2083 - val_loss: 0.2788\n",
            "Epoch 346/500\n",
            "70/70 [==============================] - 0s 266us/sample - loss: 0.2062 - val_loss: 0.2755\n",
            "Epoch 347/500\n",
            "70/70 [==============================] - 0s 268us/sample - loss: 0.2042 - val_loss: 0.2724\n",
            "Epoch 348/500\n",
            "70/70 [==============================] - 0s 280us/sample - loss: 0.2019 - val_loss: 0.2693\n",
            "Epoch 349/500\n",
            "70/70 [==============================] - 0s 318us/sample - loss: 0.2000 - val_loss: 0.2665\n",
            "Epoch 350/500\n",
            "70/70 [==============================] - 0s 468us/sample - loss: 0.1976 - val_loss: 0.2659\n",
            "Epoch 351/500\n",
            "70/70 [==============================] - 0s 281us/sample - loss: 0.1955 - val_loss: 0.2661\n",
            "Epoch 352/500\n",
            "70/70 [==============================] - 0s 347us/sample - loss: 0.1934 - val_loss: 0.2671\n",
            "Epoch 353/500\n",
            "70/70 [==============================] - 0s 340us/sample - loss: 0.1923 - val_loss: 0.2688\n",
            "Epoch 354/500\n",
            "70/70 [==============================] - 0s 310us/sample - loss: 0.1909 - val_loss: 0.2685\n",
            "Epoch 355/500\n",
            "70/70 [==============================] - 0s 330us/sample - loss: 0.1892 - val_loss: 0.2655\n",
            "Epoch 356/500\n",
            "70/70 [==============================] - 0s 372us/sample - loss: 0.1875 - val_loss: 0.2629\n",
            "Epoch 357/500\n",
            "70/70 [==============================] - 0s 295us/sample - loss: 0.1855 - val_loss: 0.2590\n",
            "Epoch 358/500\n",
            "70/70 [==============================] - 0s 280us/sample - loss: 0.1835 - val_loss: 0.2549\n",
            "Epoch 359/500\n",
            "70/70 [==============================] - 0s 275us/sample - loss: 0.1817 - val_loss: 0.2499\n",
            "Epoch 360/500\n",
            "70/70 [==============================] - 0s 335us/sample - loss: 0.1796 - val_loss: 0.2434\n",
            "Epoch 361/500\n",
            "70/70 [==============================] - 0s 282us/sample - loss: 0.1778 - val_loss: 0.2387\n",
            "Epoch 362/500\n",
            "70/70 [==============================] - 0s 286us/sample - loss: 0.1759 - val_loss: 0.2349\n",
            "Epoch 363/500\n",
            "70/70 [==============================] - 0s 319us/sample - loss: 0.1742 - val_loss: 0.2297\n",
            "Epoch 364/500\n",
            "70/70 [==============================] - 0s 370us/sample - loss: 0.1726 - val_loss: 0.2232\n",
            "Epoch 365/500\n",
            "70/70 [==============================] - 0s 341us/sample - loss: 0.1718 - val_loss: 0.2178\n",
            "Epoch 366/500\n",
            "70/70 [==============================] - 0s 280us/sample - loss: 0.1702 - val_loss: 0.2141\n",
            "Epoch 367/500\n",
            "70/70 [==============================] - 0s 270us/sample - loss: 0.1693 - val_loss: 0.2115\n",
            "Epoch 368/500\n",
            "70/70 [==============================] - 0s 265us/sample - loss: 0.1678 - val_loss: 0.2104\n",
            "Epoch 369/500\n",
            "70/70 [==============================] - 0s 261us/sample - loss: 0.1661 - val_loss: 0.2096\n",
            "Epoch 370/500\n",
            "70/70 [==============================] - 0s 266us/sample - loss: 0.1644 - val_loss: 0.2088\n",
            "Epoch 371/500\n",
            "70/70 [==============================] - 0s 308us/sample - loss: 0.1627 - val_loss: 0.2087\n",
            "Epoch 372/500\n",
            "70/70 [==============================] - 0s 319us/sample - loss: 0.1611 - val_loss: 0.2088\n",
            "Epoch 373/500\n",
            "70/70 [==============================] - 0s 402us/sample - loss: 0.1600 - val_loss: 0.2089\n",
            "Epoch 374/500\n",
            "70/70 [==============================] - 0s 329us/sample - loss: 0.1587 - val_loss: 0.2070\n",
            "Epoch 375/500\n",
            "70/70 [==============================] - 0s 301us/sample - loss: 0.1567 - val_loss: 0.2020\n",
            "Epoch 376/500\n",
            "70/70 [==============================] - 0s 323us/sample - loss: 0.1554 - val_loss: 0.1962\n",
            "Epoch 377/500\n",
            "70/70 [==============================] - 0s 298us/sample - loss: 0.1541 - val_loss: 0.1917\n",
            "Epoch 378/500\n",
            "70/70 [==============================] - 0s 364us/sample - loss: 0.1532 - val_loss: 0.1878\n",
            "Epoch 379/500\n",
            "70/70 [==============================] - 0s 288us/sample - loss: 0.1523 - val_loss: 0.1850\n",
            "Epoch 380/500\n",
            "70/70 [==============================] - 0s 279us/sample - loss: 0.1512 - val_loss: 0.1828\n",
            "Epoch 381/500\n",
            "70/70 [==============================] - 0s 340us/sample - loss: 0.1500 - val_loss: 0.1814\n",
            "Epoch 382/500\n",
            "70/70 [==============================] - 0s 341us/sample - loss: 0.1488 - val_loss: 0.1804\n",
            "Epoch 383/500\n",
            "70/70 [==============================] - 0s 321us/sample - loss: 0.1473 - val_loss: 0.1787\n",
            "Epoch 384/500\n",
            "70/70 [==============================] - 0s 315us/sample - loss: 0.1458 - val_loss: 0.1777\n",
            "Epoch 385/500\n",
            "70/70 [==============================] - 0s 362us/sample - loss: 0.1444 - val_loss: 0.1771\n",
            "Epoch 386/500\n",
            "70/70 [==============================] - 0s 410us/sample - loss: 0.1431 - val_loss: 0.1765\n",
            "Epoch 387/500\n",
            "70/70 [==============================] - 0s 308us/sample - loss: 0.1418 - val_loss: 0.1744\n",
            "Epoch 388/500\n",
            "70/70 [==============================] - 0s 324us/sample - loss: 0.1406 - val_loss: 0.1712\n",
            "Epoch 389/500\n",
            "70/70 [==============================] - 0s 308us/sample - loss: 0.1395 - val_loss: 0.1696\n",
            "Epoch 390/500\n",
            "70/70 [==============================] - 0s 254us/sample - loss: 0.1383 - val_loss: 0.1686\n",
            "Epoch 391/500\n",
            "70/70 [==============================] - 0s 431us/sample - loss: 0.1371 - val_loss: 0.1670\n",
            "Epoch 392/500\n",
            "70/70 [==============================] - 0s 328us/sample - loss: 0.1360 - val_loss: 0.1645\n",
            "Epoch 393/500\n",
            "70/70 [==============================] - 0s 321us/sample - loss: 0.1349 - val_loss: 0.1627\n",
            "Epoch 394/500\n",
            "70/70 [==============================] - 0s 347us/sample - loss: 0.1338 - val_loss: 0.1612\n",
            "Epoch 395/500\n",
            "70/70 [==============================] - 0s 336us/sample - loss: 0.1329 - val_loss: 0.1595\n",
            "Epoch 396/500\n",
            "70/70 [==============================] - 0s 289us/sample - loss: 0.1322 - val_loss: 0.1566\n",
            "Epoch 397/500\n",
            "70/70 [==============================] - 0s 347us/sample - loss: 0.1312 - val_loss: 0.1546\n",
            "Epoch 398/500\n",
            "70/70 [==============================] - 0s 328us/sample - loss: 0.1304 - val_loss: 0.1526\n",
            "Epoch 399/500\n",
            "70/70 [==============================] - 0s 331us/sample - loss: 0.1297 - val_loss: 0.1505\n",
            "Epoch 400/500\n",
            "70/70 [==============================] - 0s 300us/sample - loss: 0.1289 - val_loss: 0.1489\n",
            "Epoch 401/500\n",
            "70/70 [==============================] - 0s 371us/sample - loss: 0.1280 - val_loss: 0.1469\n",
            "Epoch 402/500\n",
            "70/70 [==============================] - 0s 361us/sample - loss: 0.1273 - val_loss: 0.1455\n",
            "Epoch 403/500\n",
            "70/70 [==============================] - 0s 388us/sample - loss: 0.1265 - val_loss: 0.1449\n",
            "Epoch 404/500\n",
            "70/70 [==============================] - 0s 299us/sample - loss: 0.1253 - val_loss: 0.1447\n",
            "Epoch 405/500\n",
            "70/70 [==============================] - 0s 299us/sample - loss: 0.1241 - val_loss: 0.1447\n",
            "Epoch 406/500\n",
            "70/70 [==============================] - 0s 342us/sample - loss: 0.1230 - val_loss: 0.1452\n",
            "Epoch 407/500\n",
            "70/70 [==============================] - 0s 314us/sample - loss: 0.1224 - val_loss: 0.1463\n",
            "Epoch 408/500\n",
            "70/70 [==============================] - 0s 306us/sample - loss: 0.1213 - val_loss: 0.1474\n",
            "Epoch 409/500\n",
            "70/70 [==============================] - 0s 333us/sample - loss: 0.1203 - val_loss: 0.1485\n",
            "Epoch 410/500\n",
            "70/70 [==============================] - 0s 296us/sample - loss: 0.1200 - val_loss: 0.1492\n",
            "Epoch 411/500\n",
            "70/70 [==============================] - 0s 316us/sample - loss: 0.1196 - val_loss: 0.1486\n",
            "Epoch 412/500\n",
            "70/70 [==============================] - 0s 281us/sample - loss: 0.1189 - val_loss: 0.1470\n",
            "Epoch 413/500\n",
            "70/70 [==============================] - 0s 305us/sample - loss: 0.1182 - val_loss: 0.1451\n",
            "Epoch 414/500\n",
            "70/70 [==============================] - 0s 316us/sample - loss: 0.1175 - val_loss: 0.1436\n",
            "Epoch 415/500\n",
            "70/70 [==============================] - 0s 350us/sample - loss: 0.1167 - val_loss: 0.1425\n",
            "Epoch 416/500\n",
            "70/70 [==============================] - 0s 296us/sample - loss: 0.1161 - val_loss: 0.1417\n",
            "Epoch 417/500\n",
            "70/70 [==============================] - 0s 300us/sample - loss: 0.1156 - val_loss: 0.1413\n",
            "Epoch 418/500\n",
            "70/70 [==============================] - 0s 277us/sample - loss: 0.1150 - val_loss: 0.1407\n",
            "Epoch 419/500\n",
            "70/70 [==============================] - 0s 352us/sample - loss: 0.1144 - val_loss: 0.1401\n",
            "Epoch 420/500\n",
            "70/70 [==============================] - 0s 304us/sample - loss: 0.1139 - val_loss: 0.1390\n",
            "Epoch 421/500\n",
            "70/70 [==============================] - 0s 344us/sample - loss: 0.1133 - val_loss: 0.1371\n",
            "Epoch 422/500\n",
            "70/70 [==============================] - 0s 300us/sample - loss: 0.1127 - val_loss: 0.1356\n",
            "Epoch 423/500\n",
            "70/70 [==============================] - 0s 304us/sample - loss: 0.1120 - val_loss: 0.1347\n",
            "Epoch 424/500\n",
            "70/70 [==============================] - 0s 386us/sample - loss: 0.1114 - val_loss: 0.1340\n",
            "Epoch 425/500\n",
            "70/70 [==============================] - 0s 305us/sample - loss: 0.1109 - val_loss: 0.1329\n",
            "Epoch 426/500\n",
            "70/70 [==============================] - 0s 299us/sample - loss: 0.1102 - val_loss: 0.1312\n",
            "Epoch 427/500\n",
            "70/70 [==============================] - 0s 345us/sample - loss: 0.1096 - val_loss: 0.1292\n",
            "Epoch 428/500\n",
            "70/70 [==============================] - 0s 291us/sample - loss: 0.1092 - val_loss: 0.1276\n",
            "Epoch 429/500\n",
            "70/70 [==============================] - 0s 283us/sample - loss: 0.1085 - val_loss: 0.1269\n",
            "Epoch 430/500\n",
            "70/70 [==============================] - 0s 386us/sample - loss: 0.1080 - val_loss: 0.1267\n",
            "Epoch 431/500\n",
            "70/70 [==============================] - 0s 350us/sample - loss: 0.1075 - val_loss: 0.1260\n",
            "Epoch 432/500\n",
            "70/70 [==============================] - 0s 339us/sample - loss: 0.1070 - val_loss: 0.1255\n",
            "Epoch 433/500\n",
            "70/70 [==============================] - 0s 331us/sample - loss: 0.1066 - val_loss: 0.1240\n",
            "Epoch 434/500\n",
            "70/70 [==============================] - 0s 341us/sample - loss: 0.1059 - val_loss: 0.1230\n",
            "Epoch 435/500\n",
            "70/70 [==============================] - 0s 320us/sample - loss: 0.1054 - val_loss: 0.1221\n",
            "Epoch 436/500\n",
            "70/70 [==============================] - 0s 354us/sample - loss: 0.1049 - val_loss: 0.1209\n",
            "Epoch 437/500\n",
            "70/70 [==============================] - 0s 315us/sample - loss: 0.1043 - val_loss: 0.1201\n",
            "Epoch 438/500\n",
            "70/70 [==============================] - 0s 302us/sample - loss: 0.1038 - val_loss: 0.1197\n",
            "Epoch 439/500\n",
            "70/70 [==============================] - 0s 332us/sample - loss: 0.1034 - val_loss: 0.1197\n",
            "Epoch 440/500\n",
            "70/70 [==============================] - 0s 289us/sample - loss: 0.1029 - val_loss: 0.1201\n",
            "Epoch 441/500\n",
            "70/70 [==============================] - 0s 269us/sample - loss: 0.1028 - val_loss: 0.1209\n",
            "Epoch 442/500\n",
            "70/70 [==============================] - 0s 290us/sample - loss: 0.1024 - val_loss: 0.1214\n",
            "Epoch 443/500\n",
            "70/70 [==============================] - 0s 333us/sample - loss: 0.1021 - val_loss: 0.1215\n",
            "Epoch 444/500\n",
            "70/70 [==============================] - 0s 311us/sample - loss: 0.1018 - val_loss: 0.1206\n",
            "Epoch 445/500\n",
            "70/70 [==============================] - 0s 310us/sample - loss: 0.1015 - val_loss: 0.1187\n",
            "Epoch 446/500\n",
            "70/70 [==============================] - 0s 290us/sample - loss: 0.1008 - val_loss: 0.1173\n",
            "Epoch 447/500\n",
            "70/70 [==============================] - 0s 316us/sample - loss: 0.1002 - val_loss: 0.1164\n",
            "Epoch 448/500\n",
            "70/70 [==============================] - 0s 309us/sample - loss: 0.0998 - val_loss: 0.1157\n",
            "Epoch 449/500\n",
            "70/70 [==============================] - 0s 295us/sample - loss: 0.0994 - val_loss: 0.1151\n",
            "Epoch 450/500\n",
            "70/70 [==============================] - 0s 400us/sample - loss: 0.0988 - val_loss: 0.1134\n",
            "Epoch 451/500\n",
            "70/70 [==============================] - 0s 360us/sample - loss: 0.0982 - val_loss: 0.1116\n",
            "Epoch 452/500\n",
            "70/70 [==============================] - 0s 306us/sample - loss: 0.0977 - val_loss: 0.1094\n",
            "Epoch 453/500\n",
            "70/70 [==============================] - 0s 273us/sample - loss: 0.0972 - val_loss: 0.1077\n",
            "Epoch 454/500\n",
            "70/70 [==============================] - 0s 293us/sample - loss: 0.0969 - val_loss: 0.1062\n",
            "Epoch 455/500\n",
            "70/70 [==============================] - 0s 296us/sample - loss: 0.0964 - val_loss: 0.1054\n",
            "Epoch 456/500\n",
            "70/70 [==============================] - 0s 297us/sample - loss: 0.0960 - val_loss: 0.1049\n",
            "Epoch 457/500\n",
            "70/70 [==============================] - 0s 281us/sample - loss: 0.0956 - val_loss: 0.1044\n",
            "Epoch 458/500\n",
            "70/70 [==============================] - 0s 375us/sample - loss: 0.0952 - val_loss: 0.1038\n",
            "Epoch 459/500\n",
            "70/70 [==============================] - 0s 311us/sample - loss: 0.0948 - val_loss: 0.1033\n",
            "Epoch 460/500\n",
            "70/70 [==============================] - 0s 350us/sample - loss: 0.0944 - val_loss: 0.1025\n",
            "Epoch 461/500\n",
            "70/70 [==============================] - 0s 325us/sample - loss: 0.0939 - val_loss: 0.1025\n",
            "Epoch 462/500\n",
            "70/70 [==============================] - 0s 328us/sample - loss: 0.0935 - val_loss: 0.1027\n",
            "Epoch 463/500\n",
            "70/70 [==============================] - 0s 311us/sample - loss: 0.0932 - val_loss: 0.1027\n",
            "Epoch 464/500\n",
            "70/70 [==============================] - 0s 291us/sample - loss: 0.0928 - val_loss: 0.1017\n",
            "Epoch 465/500\n",
            "70/70 [==============================] - 0s 290us/sample - loss: 0.0923 - val_loss: 0.1009\n",
            "Epoch 466/500\n",
            "70/70 [==============================] - 0s 302us/sample - loss: 0.0919 - val_loss: 0.1002\n",
            "Epoch 467/500\n",
            "70/70 [==============================] - 0s 340us/sample - loss: 0.0915 - val_loss: 0.0994\n",
            "Epoch 468/500\n",
            "70/70 [==============================] - 0s 317us/sample - loss: 0.0912 - val_loss: 0.0983\n",
            "Epoch 469/500\n",
            "70/70 [==============================] - 0s 325us/sample - loss: 0.0908 - val_loss: 0.0971\n",
            "Epoch 470/500\n",
            "70/70 [==============================] - 0s 318us/sample - loss: 0.0905 - val_loss: 0.0962\n",
            "Epoch 471/500\n",
            "70/70 [==============================] - 0s 373us/sample - loss: 0.0902 - val_loss: 0.0952\n",
            "Epoch 472/500\n",
            "70/70 [==============================] - 0s 343us/sample - loss: 0.0899 - val_loss: 0.0947\n",
            "Epoch 473/500\n",
            "70/70 [==============================] - 0s 311us/sample - loss: 0.0896 - val_loss: 0.0942\n",
            "Epoch 474/500\n",
            "70/70 [==============================] - 0s 315us/sample - loss: 0.0892 - val_loss: 0.0935\n",
            "Epoch 475/500\n",
            "70/70 [==============================] - 0s 329us/sample - loss: 0.0889 - val_loss: 0.0930\n",
            "Epoch 476/500\n",
            "70/70 [==============================] - 0s 308us/sample - loss: 0.0886 - val_loss: 0.0922\n",
            "Epoch 477/500\n",
            "70/70 [==============================] - 0s 337us/sample - loss: 0.0882 - val_loss: 0.0919\n",
            "Epoch 478/500\n",
            "70/70 [==============================] - 0s 358us/sample - loss: 0.0879 - val_loss: 0.0919\n",
            "Epoch 479/500\n",
            "70/70 [==============================] - 0s 320us/sample - loss: 0.0875 - val_loss: 0.0919\n",
            "Epoch 480/500\n",
            "70/70 [==============================] - 0s 290us/sample - loss: 0.0873 - val_loss: 0.0918\n",
            "Epoch 481/500\n",
            "70/70 [==============================] - 0s 326us/sample - loss: 0.0870 - val_loss: 0.0918\n",
            "Epoch 482/500\n",
            "70/70 [==============================] - 0s 309us/sample - loss: 0.0867 - val_loss: 0.0914\n",
            "Epoch 483/500\n",
            "70/70 [==============================] - 0s 324us/sample - loss: 0.0864 - val_loss: 0.0916\n",
            "Epoch 484/500\n",
            "70/70 [==============================] - 0s 329us/sample - loss: 0.0862 - val_loss: 0.0914\n",
            "Epoch 485/500\n",
            "70/70 [==============================] - 0s 318us/sample - loss: 0.0858 - val_loss: 0.0909\n",
            "Epoch 486/500\n",
            "70/70 [==============================] - 0s 549us/sample - loss: 0.0855 - val_loss: 0.0906\n",
            "Epoch 487/500\n",
            "70/70 [==============================] - 0s 334us/sample - loss: 0.0853 - val_loss: 0.0902\n",
            "Epoch 488/500\n",
            "70/70 [==============================] - 0s 377us/sample - loss: 0.0850 - val_loss: 0.0895\n",
            "Epoch 489/500\n",
            "70/70 [==============================] - 0s 316us/sample - loss: 0.0847 - val_loss: 0.0885\n",
            "Epoch 490/500\n",
            "70/70 [==============================] - 0s 309us/sample - loss: 0.0844 - val_loss: 0.0879\n",
            "Epoch 491/500\n",
            "70/70 [==============================] - 0s 314us/sample - loss: 0.0841 - val_loss: 0.0875\n",
            "Epoch 492/500\n",
            "70/70 [==============================] - 0s 345us/sample - loss: 0.0839 - val_loss: 0.0871\n",
            "Epoch 493/500\n",
            "70/70 [==============================] - 0s 299us/sample - loss: 0.0836 - val_loss: 0.0871\n",
            "Epoch 494/500\n",
            "70/70 [==============================] - 0s 309us/sample - loss: 0.0834 - val_loss: 0.0875\n",
            "Epoch 495/500\n",
            "70/70 [==============================] - 0s 364us/sample - loss: 0.0831 - val_loss: 0.0876\n",
            "Epoch 496/500\n",
            "70/70 [==============================] - 0s 368us/sample - loss: 0.0829 - val_loss: 0.0876\n",
            "Epoch 497/500\n",
            "70/70 [==============================] - 0s 373us/sample - loss: 0.0827 - val_loss: 0.0878\n",
            "Epoch 498/500\n",
            "70/70 [==============================] - 0s 335us/sample - loss: 0.0825 - val_loss: 0.0878\n",
            "Epoch 499/500\n",
            "70/70 [==============================] - 0s 335us/sample - loss: 0.0822 - val_loss: 0.0864\n",
            "Epoch 500/500\n",
            "70/70 [==============================] - 0s 442us/sample - loss: 0.0817 - val_loss: 0.0842\n"
          ],
          "name": "stdout"
        }
      ]
    },
    {
      "cell_type": "code",
      "metadata": {
        "id": "9PFdeckLLnQZ",
        "colab_type": "code",
        "colab": {}
      },
      "source": [
        "ye=model.predict(X)"
      ],
      "execution_count": 0,
      "outputs": []
    },
    {
      "cell_type": "code",
      "metadata": {
        "id": "P-PkNcmj9sgF",
        "colab_type": "code",
        "outputId": "b84de57c-3dc7-49b9-ba53-0e90c9712d34",
        "colab": {
          "base_uri": "https://localhost:8080/",
          "height": 622
        }
      },
      "source": [
        "\n",
        "import matplotlib.pyplot as plt\n",
        "plt.plot(ye,color='blue')\n",
        "plt.plot(y,color='red')\n",
        "plt.show()\n",
        "\n",
        "print(\"X: \", X[96:], \"\\n\\n\\n YE:\", y[96:])"
      ],
      "execution_count": 19,
      "outputs": [
        {
          "output_type": "display_data",
          "data": {
            "image/png": "[encoded data removed]",
            "text/plain": [
              "<Figure size 432x288 with 1 Axes>"
            ]
          },
          "metadata": {
            "tags": []
          }
        },
        {
          "output_type": "stream",
          "text": [
            "X:  [[[3]\n",
            "  [4]\n",
            "  [5]]\n",
            "\n",
            " [[6]\n",
            "  [7]\n",
            "  [8]]\n",
            "\n",
            " [[6]\n",
            "  [7]\n",
            "  [8]]\n",
            "\n",
            " [[4]\n",
            "  [5]\n",
            "  [6]]] \n",
            "\n",
            "\n",
            " YE: [[6]\n",
            " [9]\n",
            " [9]\n",
            " [7]]\n"
          ],
          "name": "stdout"
        }
      ]
    },
    {
      "cell_type": "code",
      "metadata": {
        "id": "VmwSy4FPUV4T",
        "colab_type": "code",
        "outputId": "e4c99a94-b087-44a3-a47e-f63ba38ed7b9",
        "colab": {
          "base_uri": "https://localhost:8080/",
          "height": 102
        }
      },
      "source": [
        "w=model.get_weights()# os pesos vêm na ordem : Pesos do input, Pesos da recorrência e bias\n",
        "w"
      ],
      "execution_count": 21,
      "outputs": [
        {
          "output_type": "execute_result",
          "data": {
            "text/plain": [
              "[array([[-0.10655083,  1.0022012 ,  0.54018253,  1.2279482 ]],\n",
              "       dtype=float32),\n",
              " array([[ 0.83143854,  1.381299  , -0.1845527 ,  0.23537627]],\n",
              "       dtype=float32),\n",
              " array([0.72938424, 1.3907549 , 0.59400177, 0.42110553], dtype=float32)]"
            ]
          },
          "metadata": {
            "tags": []
          },
          "execution_count": 21
        }
      ]
    },
    {
      "cell_type": "code",
      "metadata": {
        "id": "SKNxb5WiVUYf",
        "colab_type": "code",
        "outputId": "2494fec2-3171-46e6-8adb-d5f817363098",
        "colab": {
          "base_uri": "https://localhost:8080/",
          "height": 102
        }
      },
      "source": [
        "print(model.layers[0].trainable_weights)"
      ],
      "execution_count": 23,
      "outputs": [
        {
          "output_type": "stream",
          "text": [
            "[<tf.Variable 'lstm_3/kernel:0' shape=(1, 4) dtype=float32, numpy=\n",
            "array([[-0.10655083,  1.0022012 ,  0.54018253,  1.2279482 ]],\n",
            "      dtype=float32)>, <tf.Variable 'lstm_3/recurrent_kernel:0' shape=(1, 4) dtype=float32, numpy=\n",
            "array([[ 0.83143854,  1.381299  , -0.1845527 ,  0.23537627]],\n",
            "      dtype=float32)>, <tf.Variable 'lstm_3/bias:0' shape=(4,) dtype=float32, numpy=array([0.72938424, 1.3907549 , 0.59400177, 0.42110553], dtype=float32)>]\n"
          ],
          "name": "stdout"
        }
      ]
    },
    {
      "cell_type": "markdown",
      "metadata": {
        "id": "OnQjp_5nPzrk",
        "colab_type": "text"
      },
      "source": [
        "ifco é a ordem dos pesos em cada um dos 3 conjuntos:\n",
        "input (posição 0),\n",
        "forget (posição 1)\n",
        "content (posição 2)\n",
        "output (posição 3)"
      ]
    },
    {
      "cell_type": "code",
      "metadata": {
        "id": "f3thJ1f9Hp2W",
        "colab_type": "code",
        "colab": {}
      },
      "source": [
        "ww,uw,bw=w[0],w[1],w[2]\n"
      ],
      "execution_count": 0,
      "outputs": []
    },
    {
      "cell_type": "code",
      "metadata": {
        "id": "z26xqW98Kq6t",
        "colab_type": "code",
        "colab": {}
      },
      "source": [
        "def sig(z):\n",
        "  return 1/(1+math.exp(-z))"
      ],
      "execution_count": 0,
      "outputs": []
    },
    {
      "cell_type": "code",
      "metadata": {
        "id": "h9qUmltmLgX5",
        "colab_type": "code",
        "colab": {}
      },
      "source": [
        "def tanh(z):\n",
        "  return (math.exp(2*z)-1)/(math.exp(2*z)+1)"
      ],
      "execution_count": 0,
      "outputs": []
    },
    {
      "cell_type": "code",
      "metadata": {
        "id": "DmPFYPCbN-rb",
        "colab_type": "code",
        "colab": {}
      },
      "source": [
        "#função oper: aplica peso U no output anterior (h), W no input atual (x), soma bias e aplica ativação\n",
        "def oper(U,W,B,x,h,activ):\n",
        "  return activ(U*h+W*x+B)"
      ],
      "execution_count": 0,
      "outputs": []
    },
    {
      "cell_type": "code",
      "metadata": {
        "id": "cXrhaGPrOfMm",
        "colab_type": "code",
        "outputId": "99cec231-71b3-4701-cd4e-58f64a39147f",
        "colab": {
          "base_uri": "https://localhost:8080/",
          "height": 68
        }
      },
      "source": [
        "X[0]"
      ],
      "execution_count": 28,
      "outputs": [
        {
          "output_type": "execute_result",
          "data": {
            "text/plain": [
              "array([[11],\n",
              "       [12],\n",
              "       [13]])"
            ]
          },
          "metadata": {
            "tags": []
          },
          "execution_count": 28
        }
      ]
    },
    {
      "cell_type": "markdown",
      "metadata": {
        "id": "eNQ0AgRIipmw",
        "colab_type": "text"
      },
      "source": [
        "Inicialmente (tempo 0), o output anterior e a memória são nulas"
      ]
    },
    {
      "cell_type": "code",
      "metadata": {
        "colab_type": "code",
        "id": "5rjunopsTNcI",
        "colab": {
          "base_uri": "https://localhost:8080/",
          "height": 34
        },
        "outputId": "51fe4cd7-3a2a-4dc0-e8ca-87f598d97b52"
      },
      "source": [
        "#Calcule i (filtro input). Dica use função oper\n",
        "i = oper(uw[0][0], ww[0][0], bw[0], X[0][0], 0, sig)\n",
        "i"
      ],
      "execution_count": 32,
      "outputs": [
        {
          "output_type": "execute_result",
          "data": {
            "text/plain": [
              "0.39110378846808774"
            ]
          },
          "metadata": {
            "tags": []
          },
          "execution_count": 32
        }
      ]
    },
    {
      "cell_type": "code",
      "metadata": {
        "id": "SM9f5N70U5j6",
        "colab_type": "code",
        "colab": {
          "base_uri": "https://localhost:8080/",
          "height": 34
        },
        "outputId": "59da0f9d-c122-4745-da01-5067f260e12f"
      },
      "source": [
        "#Calcule f (filtro forget). Dica use função oper\n",
        "f = oper(uw[0][1], ww[0][1], bw[1], X[0][0], 0, sig)\n",
        "f"
      ],
      "execution_count": 34,
      "outputs": [
        {
          "output_type": "execute_result",
          "data": {
            "text/plain": [
              "0.999995942616257"
            ]
          },
          "metadata": {
            "tags": []
          },
          "execution_count": 34
        }
      ]
    },
    {
      "cell_type": "code",
      "metadata": {
        "id": "JJIvzmOAWGT0",
        "colab_type": "code",
        "colab": {
          "base_uri": "https://localhost:8080/",
          "height": 34
        },
        "outputId": "8bdcb6c7-aedf-4c9e-f66c-416b475a2bd6"
      },
      "source": [
        "#Calcule cb (conteúdo novo proposto). Dica use função oper\n",
        "cb = oper(uw[0][2], ww[0][2], bw[2], X[0][0], 0, lambda x: x)\n",
        "cb  "
      ],
      "execution_count": 45,
      "outputs": [
        {
          "output_type": "execute_result",
          "data": {
            "text/plain": [
              "array([6.53600961])"
            ]
          },
          "metadata": {
            "tags": []
          },
          "execution_count": 45
        }
      ]
    },
    {
      "cell_type": "code",
      "metadata": {
        "id": "58KAZaBFWQt6",
        "colab_type": "code",
        "colab": {
          "base_uri": "https://localhost:8080/",
          "height": 34
        },
        "outputId": "075d5e61-1149-4833-d7fa-d19ab7d174b2"
      },
      "source": [
        "#Calcule  o (output). Dica use função oper\n",
        "o=oper(uw[0][3], ww[0][3], bw[3], X[0][0], 0, sig)\n",
        "o"
      ],
      "execution_count": 46,
      "outputs": [
        {
          "output_type": "execute_result",
          "data": {
            "text/plain": [
              "0.999999106872513"
            ]
          },
          "metadata": {
            "tags": []
          },
          "execution_count": 46
        }
      ]
    },
    {
      "cell_type": "code",
      "metadata": {
        "id": "FqOy41OeUErW",
        "colab_type": "code",
        "colab": {
          "base_uri": "https://localhost:8080/",
          "height": 34
        },
        "outputId": "c75bfbac-d0e5-401e-ea20-517b557b3f33"
      },
      "source": [
        "#Calcule o conteúdo novo (depois de aplicar filtros f e i)\n",
        "cant=0.0\n",
        "c=f*cant+i*cb\n",
        "c"
      ],
      "execution_count": 47,
      "outputs": [
        {
          "output_type": "execute_result",
          "data": {
            "text/plain": [
              "array([2.55625812])"
            ]
          },
          "metadata": {
            "tags": []
          },
          "execution_count": 47
        }
      ]
    },
    {
      "cell_type": "code",
      "metadata": {
        "id": "AfmwVnUbXA9P",
        "colab_type": "code",
        "colab": {
          "base_uri": "https://localhost:8080/",
          "height": 34
        },
        "outputId": "71e180eb-4aa2-438b-ac6c-8026bbc4f3f7"
      },
      "source": [
        "#calcule o output o*c\n",
        "out=o*c\n",
        "out"
      ],
      "execution_count": 48,
      "outputs": [
        {
          "output_type": "execute_result",
          "data": {
            "text/plain": [
              "array([2.55625584])"
            ]
          },
          "metadata": {
            "tags": []
          },
          "execution_count": 48
        }
      ]
    },
    {
      "cell_type": "code",
      "metadata": {
        "id": "Ojumi1yaYxRs",
        "colab_type": "code",
        "colab": {
          "base_uri": "https://localhost:8080/",
          "height": 34
        },
        "outputId": "8af4b74f-128a-4cfa-d2b7-dc572e8d28ec"
      },
      "source": [
        "#compare com o output do .predict\n",
        "model.predict(np.array([[X[0,0]]]))"
      ],
      "execution_count": 51,
      "outputs": [
        {
          "output_type": "execute_result",
          "data": {
            "text/plain": [
              "array([[2.556256]], dtype=float32)"
            ]
          },
          "metadata": {
            "tags": []
          },
          "execution_count": 51
        }
      ]
    },
    {
      "cell_type": "code",
      "metadata": {
        "id": "2XypYi0KXpcG",
        "colab_type": "code",
        "colab": {
          "base_uri": "https://localhost:8080/",
          "height": 34
        },
        "outputId": "38de7fbf-1115-4d9e-b966-04c8bfb880f9"
      },
      "source": [
        "#Agora, atualize cant, o output anterior e o novo input..para calcular o segundo output\n",
        "cant=c\n",
        "inp=X[0][1]\n",
        "oa= out\n",
        "i=oper(uw[0][0],ww[0][0],bw[0],inp,oa,sig)\n",
        "f=oper(uw[0][1],ww[0][1],bw[1],inp,oa,sig)\n",
        "cb=oper(uw[0][2],ww[0][2],bw[2],inp,oa,lambda x:x)\n",
        "o=oper(uw[0][3],ww[0][3],bw[3],inp,oa,sig)\n",
        "c=f*cant+i*cb\n",
        "out=o*c\n",
        "out"
      ],
      "execution_count": 52,
      "outputs": [
        {
          "output_type": "execute_result",
          "data": {
            "text/plain": [
              "array([8.02906724])"
            ]
          },
          "metadata": {
            "tags": []
          },
          "execution_count": 52
        }
      ]
    },
    {
      "cell_type": "code",
      "metadata": {
        "id": "-tKNaFEepOG1",
        "colab_type": "code",
        "outputId": "106102fd-29ae-4ae8-c432-9d677b035259",
        "colab": {
          "base_uri": "https://localhost:8080/",
          "height": 34
        }
      },
      "source": [
        "#compare com o output do .predict\n",
        "model.predict(np.array([[X[0,0],X[0,1]]]))"
      ],
      "execution_count": 53,
      "outputs": [
        {
          "output_type": "execute_result",
          "data": {
            "text/plain": [
              "array([[8.029067]], dtype=float32)"
            ]
          },
          "metadata": {
            "tags": []
          },
          "execution_count": 53
        }
      ]
    },
    {
      "cell_type": "code",
      "metadata": {
        "id": "yl79qzzTpqpa",
        "colab_type": "code",
        "colab": {
          "base_uri": "https://localhost:8080/",
          "height": 34
        },
        "outputId": "288f511d-eef5-4da6-d655-8bd91d995916"
      },
      "source": [
        "#Agora, atualize cant, o output anterior e o novo input..para calcular o terceiro output\n",
        "cant=c\n",
        "inp= X[0][2]\n",
        "oa= out\n",
        "i=oper(uw[0][0],ww[0][0],bw[0],inp,oa,sig)\n",
        "f=oper(uw[0][1],ww[0][1],bw[1],inp,oa,sig)\n",
        "cb=oper(uw[0][2],ww[0][2],bw[2],inp,oa,lambda x:x)\n",
        "o=oper(uw[0][3],ww[0][3],bw[3],inp,oa,sig)\n",
        "c=f*cant+i*cb\n",
        "out=o*c\n",
        "out"
      ],
      "execution_count": 54,
      "outputs": [
        {
          "output_type": "execute_result",
          "data": {
            "text/plain": [
              "array([14.14878648])"
            ]
          },
          "metadata": {
            "tags": []
          },
          "execution_count": 54
        }
      ]
    },
    {
      "cell_type": "code",
      "metadata": {
        "id": "uarFBNC8p15L",
        "colab_type": "code",
        "colab": {
          "base_uri": "https://localhost:8080/",
          "height": 34
        },
        "outputId": "29b4ea8b-88fb-43f8-c153-1e2601bb40c0"
      },
      "source": [
        "#compare com o output do .predict\n",
        "model.predict(np.array([[X[0,0],X[0,1],X[0,2]]]))"
      ],
      "execution_count": 55,
      "outputs": [
        {
          "output_type": "execute_result",
          "data": {
            "text/plain": [
              "array([[14.148786]], dtype=float32)"
            ]
          },
          "metadata": {
            "tags": []
          },
          "execution_count": 55
        }
      ]
    },
    {
      "cell_type": "code",
      "metadata": {
        "id": "kTwiuAdTqXd2",
        "colab_type": "code",
        "outputId": "28ed2357-9675-4195-a51f-fb0704515936",
        "colab": {
          "base_uri": "https://localhost:8080/",
          "height": 527
        }
      },
      "source": [
        "model.layers[0].get_config()"
      ],
      "execution_count": 56,
      "outputs": [
        {
          "output_type": "execute_result",
          "data": {
            "text/plain": [
              "{'activation': '<lambda>',\n",
              " 'activity_regularizer': None,\n",
              " 'batch_input_shape': (None, None, 1),\n",
              " 'bias_constraint': None,\n",
              " 'bias_initializer': {'class_name': 'Zeros', 'config': {}},\n",
              " 'bias_regularizer': None,\n",
              " 'dropout': 0.0,\n",
              " 'dtype': 'float32',\n",
              " 'go_backwards': False,\n",
              " 'implementation': 2,\n",
              " 'kernel_constraint': None,\n",
              " 'kernel_initializer': {'class_name': 'GlorotUniform',\n",
              "  'config': {'seed': None}},\n",
              " 'kernel_regularizer': None,\n",
              " 'name': 'lstm_3',\n",
              " 'recurrent_activation': 'sigmoid',\n",
              " 'recurrent_constraint': None,\n",
              " 'recurrent_dropout': 0.0,\n",
              " 'recurrent_initializer': {'class_name': 'Orthogonal',\n",
              "  'config': {'gain': 1.0, 'seed': None}},\n",
              " 'recurrent_regularizer': None,\n",
              " 'return_sequences': False,\n",
              " 'return_state': False,\n",
              " 'stateful': False,\n",
              " 'time_major': False,\n",
              " 'trainable': True,\n",
              " 'unit_forget_bias': True,\n",
              " 'units': 1,\n",
              " 'unroll': False,\n",
              " 'use_bias': True}"
            ]
          },
          "metadata": {
            "tags": []
          },
          "execution_count": 56
        }
      ]
    }
  ]
}