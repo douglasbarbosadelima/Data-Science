{
  "nbformat": 4,
  "nbformat_minor": 0,
  "metadata": {
    "colab": {
      "name": "cluster_analyzing.ipynb",
      "provenance": [],
      "include_colab_link": true
    },
    "kernelspec": {
      "name": "python3",
      "display_name": "Python 3"
    }
  },
  "cells": [
    {
      "cell_type": "markdown",
      "metadata": {
        "id": "view-in-github",
        "colab_type": "text"
      },
      "source": [
        "<a href=\"https://colab.research.google.com/github/douglasbarbosadelima/Data-Science/blob/master/cluster_analyzing.ipynb\" target=\"_parent\"><img src=\"https://colab.research.google.com/assets/colab-badge.svg\" alt=\"Open In Colab\"/></a>"
      ]
    },
    {
      "cell_type": "code",
      "metadata": {
        "id": "QrjVIR9dsx_Y",
        "colab_type": "code",
        "colab": {}
      },
      "source": [
        "import pandas as pd\n",
        "import numpy as np\n",
        "from sklearn.cluster import KMeans"
      ],
      "execution_count": 0,
      "outputs": []
    },
    {
      "cell_type": "code",
      "metadata": {
        "id": "2NBHDrx7tAf4",
        "colab_type": "code",
        "colab": {}
      },
      "source": [
        "df = pd.read_csv('https://raw.githubusercontent.com/douglasbarbosadelima/Data-Science/master/cars-uci-linked.csv')\n",
        "df.head()\n",
        "df = df.dropna()\n",
        "\n",
        "df.drop(labels='name', axis=1, inplace=True)"
      ],
      "execution_count": 0,
      "outputs": []
    },
    {
      "cell_type": "code",
      "metadata": {
        "id": "RqjyrGhbtI5m",
        "colab_type": "code",
        "colab": {
          "base_uri": "https://localhost:8080/",
          "height": 238
        },
        "outputId": "5eb5e180-27c5-4f32-fa40-11fd3e279b39"
      },
      "source": [
        "from sklearn.preprocessing import StandardScaler\n",
        "scaler = StandardScaler()\n",
        "scaler.fit(df)\n",
        "df = scaler.transform(df)\n",
        "X = np.array(df)\n",
        "X"
      ],
      "execution_count": 35,
      "outputs": [
        {
          "output_type": "execute_result",
          "data": {
            "text/plain": [
              "array([[-0.69863841,  1.48394702, -0.27574396, ..., -0.77456493,\n",
              "        -1.62531533, -0.71664105],\n",
              "       [-1.08349824,  1.48394702, -0.13389143, ..., -0.87758096,\n",
              "        -1.62531533, -0.71664105],\n",
              "       [-0.69863841,  1.48394702, -0.2394561 , ..., -0.98059699,\n",
              "        -1.62531533, -0.71664105],\n",
              "       ...,\n",
              "       [ 1.09737414, -0.86401356, -0.84315411, ..., -0.85697775,\n",
              "         1.63640964, -0.71664105],\n",
              "       [ 0.5842277 , -0.86401356, -0.89263756, ...,  0.58524669,\n",
              "         1.63640964, -0.71664105],\n",
              "       [ 0.96908753, -0.86401356, -0.89593645, ...,  0.75007234,\n",
              "         1.63640964, -0.71664105]])"
            ]
          },
          "metadata": {
            "tags": []
          },
          "execution_count": 35
        }
      ]
    },
    {
      "cell_type": "code",
      "metadata": {
        "id": "4dLV2anmtotW",
        "colab_type": "code",
        "colab": {
          "base_uri": "https://localhost:8080/",
          "height": 340
        },
        "outputId": "bef0c1ca-3a23-4f5d-ebdb-989c847bae51"
      },
      "source": [
        "custos = []\n",
        "for i in range(2, 21):\n",
        "  print('clusters=', i)\n",
        "  mod = KMeans(n_clusters=i)\n",
        "  mod.fit(X)\n",
        "  custo = 0.0\n",
        "  for j in range(len(X)):\n",
        "    cost_location = mod.labels_[j]\n",
        "    custo += loss(X[j], mod.cluster_centers_[cost_location])\n",
        "  custos.append(custo)\n"
      ],
      "execution_count": 37,
      "outputs": [
        {
          "output_type": "stream",
          "text": [
            "clusters= 2\n",
            "clusters= 3\n",
            "clusters= 4\n",
            "clusters= 5\n",
            "clusters= 6\n",
            "clusters= 7\n",
            "clusters= 8\n",
            "clusters= 9\n",
            "clusters= 10\n",
            "clusters= 11\n",
            "clusters= 12\n",
            "clusters= 13\n",
            "clusters= 14\n",
            "clusters= 15\n",
            "clusters= 16\n",
            "clusters= 17\n",
            "clusters= 18\n",
            "clusters= 19\n",
            "clusters= 20\n"
          ],
          "name": "stdout"
        }
      ]
    },
    {
      "cell_type": "code",
      "metadata": {
        "id": "vbNEudewvJez",
        "colab_type": "code",
        "colab": {}
      },
      "source": [
        "def loss(p1, p2):\n",
        "  diff = p2 - p1\n",
        "  return np.inner(diff, diff)"
      ],
      "execution_count": 0,
      "outputs": []
    },
    {
      "cell_type": "code",
      "metadata": {
        "id": "YCsv8C6Iv2-2",
        "colab_type": "code",
        "colab": {
          "base_uri": "https://localhost:8080/",
          "height": 265
        },
        "outputId": "d8092af5-4054-42f0-9e83-ead7d8eaeb0f"
      },
      "source": [
        "import matplotlib.pyplot as plt\n",
        "plt.plot(custos, 'bo')\n",
        "plt.show()"
      ],
      "execution_count": 39,
      "outputs": [
        {
          "output_type": "display_data",
          "data": {
            "image/png": "[encoded data removed]",
            "text/plain": [
              "<Figure size 432x288 with 1 Axes>"
            ]
          },
          "metadata": {
            "tags": []
          }
        }
      ]
    }
  ]
}