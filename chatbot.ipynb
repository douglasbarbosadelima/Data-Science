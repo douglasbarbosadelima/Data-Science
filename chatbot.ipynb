{
  "nbformat": 4,
  "nbformat_minor": 0,
  "metadata": {
    "kernelspec": {
      "display_name": "Python 3",
      "language": "python",
      "name": "python3"
    },
    "language_info": {
      "codemirror_mode": {
        "name": "ipython",
        "version": 3
      },
      "file_extension": ".py",
      "mimetype": "text/x-python",
      "name": "python",
      "nbconvert_exporter": "python",
      "pygments_lexer": "ipython3",
      "version": "3.6.5"
    },
    "colab": {
      "name": "chatbot.ipynb",
      "provenance": [],
      "include_colab_link": true
    }
  },
  "cells": [
    {
      "cell_type": "markdown",
      "metadata": {
        "id": "view-in-github",
        "colab_type": "text"
      },
      "source": [
        "<a href=\"https://colab.research.google.com/github/douglasbarbosadelima/Data-Science/blob/master/chatbot.ipynb\" target=\"_parent\"><img src=\"https://colab.research.google.com/assets/colab-badge.svg\" alt=\"Open In Colab\"/></a>"
      ]
    },
    {
      "cell_type": "markdown",
      "metadata": {
        "id": "BM7s1UaTvE2J",
        "colab_type": "text"
      },
      "source": [
        "# Chatbot_res "
      ]
    },
    {
      "cell_type": "code",
      "metadata": {
        "id": "L_7EEe48vE2K",
        "colab_type": "code",
        "colab": {}
      },
      "source": [
        "import pandas as pd\n",
        "import numpy as np\n",
        "from sklearn.naive_bayes import GaussianNB\n",
        "from sklearn.feature_extraction.text import TfidfVectorizer"
      ],
      "execution_count": 0,
      "outputs": []
    },
    {
      "cell_type": "code",
      "metadata": {
        "id": "tgVFAfilvE2M",
        "colab_type": "code",
        "colab": {}
      },
      "source": [
        "intents=['preco','performance','consumo','modelos','garantia']"
      ],
      "execution_count": 0,
      "outputs": []
    },
    {
      "cell_type": "code",
      "metadata": {
        "id": "BJPZW0JDvE2O",
        "colab_type": "code",
        "colab": {}
      },
      "source": [
        "treino=[\n",
        "    ['Qual é o preço','preco'],\n",
        "    ['Quanto custa','preco'],\n",
        "    ['Anda bem','performance'],\n",
        "    ['E a performance','performance'],\n",
        "    ['bebe muito','consumo'],\n",
        "    ['É econômico','consumo'],\n",
        "    ['Quais os modelos disponíveis','modelos'],\n",
        "    ['qual o modelo mais barato','modelos'],\n",
        "    ['qual o prazo de garantia','garantia'],\n",
        "    ['o que é coberto, coberto mesmo pela garantia','garantia']\n",
        "]"
      ],
      "execution_count": 0,
      "outputs": []
    },
    {
      "cell_type": "code",
      "metadata": {
        "id": "xyTXRH7ivE2R",
        "colab_type": "code",
        "colab": {},
        "outputId": "775717d9-4f29-4be9-8562-658895211a45"
      },
      "source": [
        "df=pd.DataFrame(treino,columns=['frase','intent'])\n",
        "df.head(2)"
      ],
      "execution_count": 0,
      "outputs": [
        {
          "output_type": "execute_result",
          "data": {
            "text/html": [
              "<div>\n",
              "<style scoped>\n",
              "    .dataframe tbody tr th:only-of-type {\n",
              "        vertical-align: middle;\n",
              "    }\n",
              "\n",
              "    .dataframe tbody tr th {\n",
              "        vertical-align: top;\n",
              "    }\n",
              "\n",
              "    .dataframe thead th {\n",
              "        text-align: right;\n",
              "    }\n",
              "</style>\n",
              "<table border=\"1\" class=\"dataframe\">\n",
              "  <thead>\n",
              "    <tr style=\"text-align: right;\">\n",
              "      <th></th>\n",
              "      <th>frase</th>\n",
              "      <th>intent</th>\n",
              "    </tr>\n",
              "  </thead>\n",
              "  <tbody>\n",
              "    <tr>\n",
              "      <th>0</th>\n",
              "      <td>Qual é o preço</td>\n",
              "      <td>preco</td>\n",
              "    </tr>\n",
              "    <tr>\n",
              "      <th>1</th>\n",
              "      <td>Quanto custa</td>\n",
              "      <td>preco</td>\n",
              "    </tr>\n",
              "  </tbody>\n",
              "</table>\n",
              "</div>"
            ],
            "text/plain": [
              "            frase intent\n",
              "0  Qual é o preço  preco\n",
              "1    Quanto custa  preco"
            ]
          },
          "metadata": {
            "tags": []
          },
          "execution_count": 29
        }
      ]
    },
    {
      "cell_type": "markdown",
      "metadata": {
        "id": "yfvhY1g5vE2T",
        "colab_type": "text"
      },
      "source": [
        "Preparar frases de treinamento"
      ]
    },
    {
      "cell_type": "code",
      "metadata": {
        "id": "fGO9XqL6vE2U",
        "colab_type": "code",
        "colab": {}
      },
      "source": [
        "#Observar os acessors (.str) qure executam funções de strings em toda a série\n",
        "#minúsculas\n",
        "df['frase']=df['frase'].str.lower()\n",
        "#trocar acento por nada, retirar pontuação.\n",
        "df['frase']=df['frase'].str.replace('á','a')\n",
        "df['frase']=df['frase'].str.replace('é','e')\n",
        "df['frase']=df['frase'].str.replace('à','a')\n",
        "df['frase']=df['frase'].str.replace('ó','o')\n",
        "df['frase']=df['frase'].str.replace('õ','o')\n",
        "df['frase']=df['frase'].str.replace('ô','o')\n",
        "df['frase']=df['frase'].str.replace('ã','a')\n",
        "df['frase']=df['frase'].str.replace('í','i')\n",
        "df['frase']=df['frase'].str.replace('ç','c')\n",
        "df['frase']=df['frase'].str.replace('.',' ')\n",
        "df['frase']=df['frase'].str.replace('!',' ')\n",
        "df['frase']=df['frase'].str.replace('?',' ')\n",
        "df['frase']=df['frase'].str.replace(':',' ')\n",
        "df['frase']=df['frase'].str.replace(',',' ')"
      ],
      "execution_count": 0,
      "outputs": []
    },
    {
      "cell_type": "code",
      "metadata": {
        "id": "0uUa3BkDvE2W",
        "colab_type": "code",
        "colab": {}
      },
      "source": [
        "stop_words={'o','a','os','as','de','ate','que','pela','como','qual','quais','quanto'}"
      ],
      "execution_count": 0,
      "outputs": []
    },
    {
      "cell_type": "code",
      "metadata": {
        "id": "gp9LfTOlvE2X",
        "colab_type": "code",
        "colab": {},
        "outputId": "3baa9f19-af62-4cc1-adc8-3ecd9502d90d"
      },
      "source": [
        "vectorizer = TfidfVectorizer(stop_words=stop_words)\n",
        "print(vectorizer)\n",
        "X = vectorizer.fit_transform(df['frase'])\n",
        "print(vectorizer.get_feature_names())\n",
        "print(X.shape)\n",
        "y=df['intent']\n",
        "X.toarray()\n",
        "\n"
      ],
      "execution_count": 0,
      "outputs": [
        {
          "output_type": "stream",
          "text": [
            "TfidfVectorizer(analyzer='word', binary=False, decode_error='strict',\n",
            "        dtype=<class 'numpy.int64'>, encoding='utf-8', input='content',\n",
            "        lowercase=True, max_df=1.0, max_features=None, min_df=1,\n",
            "        ngram_range=(1, 1), norm='l2', preprocessor=None, smooth_idf=True,\n",
            "        stop_words={'como', 'quais', 'o', 'ate', 'de', 'qual', 'as', 'quanto', 'os', 'a', 'que', 'pela'},\n",
            "        strip_accents=None, sublinear_tf=False,\n",
            "        token_pattern='(?u)\\\\b\\\\w\\\\w+\\\\b', tokenizer=None, use_idf=True,\n",
            "        vocabulary=None)\n",
            "['anda', 'barato', 'bebe', 'bem', 'coberto', 'custa', 'disponiveis', 'economico', 'garantia', 'mais', 'mesmo', 'modelo', 'modelos', 'muito', 'performance', 'prazo', 'preco']\n",
            "(10, 17)\n"
          ],
          "name": "stdout"
        },
        {
          "output_type": "execute_result",
          "data": {
            "text/plain": [
              "array([[0.        , 0.        , 0.        , 0.        , 0.        ,\n",
              "        0.        , 0.        , 0.        , 0.        , 0.        ,\n",
              "        0.        , 0.        , 0.        , 0.        , 0.        ,\n",
              "        0.        , 1.        ],\n",
              "       [0.        , 0.        , 0.        , 0.        , 0.        ,\n",
              "        1.        , 0.        , 0.        , 0.        , 0.        ,\n",
              "        0.        , 0.        , 0.        , 0.        , 0.        ,\n",
              "        0.        , 0.        ],\n",
              "       [0.70710678, 0.        , 0.        , 0.70710678, 0.        ,\n",
              "        0.        , 0.        , 0.        , 0.        , 0.        ,\n",
              "        0.        , 0.        , 0.        , 0.        , 0.        ,\n",
              "        0.        , 0.        ],\n",
              "       [0.        , 0.        , 0.        , 0.        , 0.        ,\n",
              "        0.        , 0.        , 0.        , 0.        , 0.        ,\n",
              "        0.        , 0.        , 0.        , 0.        , 1.        ,\n",
              "        0.        , 0.        ],\n",
              "       [0.        , 0.        , 0.70710678, 0.        , 0.        ,\n",
              "        0.        , 0.        , 0.        , 0.        , 0.        ,\n",
              "        0.        , 0.        , 0.        , 0.70710678, 0.        ,\n",
              "        0.        , 0.        ],\n",
              "       [0.        , 0.        , 0.        , 0.        , 0.        ,\n",
              "        0.        , 0.        , 1.        , 0.        , 0.        ,\n",
              "        0.        , 0.        , 0.        , 0.        , 0.        ,\n",
              "        0.        , 0.        ],\n",
              "       [0.        , 0.        , 0.        , 0.        , 0.        ,\n",
              "        0.        , 0.70710678, 0.        , 0.        , 0.        ,\n",
              "        0.        , 0.        , 0.70710678, 0.        , 0.        ,\n",
              "        0.        , 0.        ],\n",
              "       [0.        , 0.57735027, 0.        , 0.        , 0.        ,\n",
              "        0.        , 0.        , 0.        , 0.        , 0.57735027,\n",
              "        0.        , 0.57735027, 0.        , 0.        , 0.        ,\n",
              "        0.        , 0.        ],\n",
              "       [0.        , 0.        , 0.        , 0.        , 0.        ,\n",
              "        0.        , 0.        , 0.        , 0.64768883, 0.        ,\n",
              "        0.        , 0.        , 0.        , 0.        , 0.        ,\n",
              "        0.76190497, 0.        ],\n",
              "       [0.        , 0.        , 0.        , 0.        , 0.83604798,\n",
              "        0.        , 0.        , 0.        , 0.35535858, 0.        ,\n",
              "        0.41802399, 0.        , 0.        , 0.        , 0.        ,\n",
              "        0.        , 0.        ]])"
            ]
          },
          "metadata": {
            "tags": []
          },
          "execution_count": 33
        }
      ]
    },
    {
      "cell_type": "code",
      "metadata": {
        "id": "gQKQzyCyvE2Z",
        "colab_type": "code",
        "colab": {},
        "outputId": "12b18372-f491-4e32-836e-6d1c335240f2"
      },
      "source": [
        "GNB=GaussianNB()\n",
        "GNB.fit(X.toarray(),y)"
      ],
      "execution_count": 0,
      "outputs": [
        {
          "output_type": "execute_result",
          "data": {
            "text/plain": [
              "GaussianNB(priors=None)"
            ]
          },
          "metadata": {
            "tags": []
          },
          "execution_count": 17
        }
      ]
    },
    {
      "cell_type": "code",
      "metadata": {
        "id": "md1NhPWFvE2c",
        "colab_type": "code",
        "colab": {}
      },
      "source": [
        "def limpa(str):\n",
        "    str=str.lower()\n",
        "    str=str.replace('á','a')\n",
        "    str=str.replace('é','e')\n",
        "    str=str.replace('à','a')\n",
        "    str=str.replace('ó','o')\n",
        "    str=str.replace('õ','o')\n",
        "    str=str.replace('ô','o')\n",
        "    str=str.replace('ã','a')\n",
        "    str=str.replace('í','i')\n",
        "    str=str.replace('ç','c')\n",
        "    str=str.replace('.',' ')\n",
        "    str=str.replace('!',' ')\n",
        "    str=str.replace('?',' ')\n",
        "    str=str.replace(':',' ')\n",
        "    return str"
      ],
      "execution_count": 0,
      "outputs": []
    },
    {
      "cell_type": "code",
      "metadata": {
        "id": "tOIAm-WjvE2e",
        "colab_type": "code",
        "colab": {}
      },
      "source": [
        "resp=[\n",
        "    'De R$80.000 (modelo S) a R$120000,00 (Modelo TS) \\nFinanciamento com taxa de juros de 1% ao mês',\n",
        "    'Potência:280Cv \\nVel Max:230Km/h \\nAceleração 0 a 100Km/h : 6seg \\nDist frenagem a 100Km/h:40m',\n",
        "    'Consumo urbano (gasolina):7Km/l \\nConsumo rodoviário (gasolina):9Km/l',\n",
        "    ' S (R$80000,00), LS (R$100000,00) e TS (R$110000,00) \\nDiferem no acabamento e acessórios',\n",
        "    'Garantia total de 3 anos sem limite de KM'\n",
        "]\n",
        "dict_resp={'preco':resp[0],'performance':resp[1],'consumo':resp[2],'modelos':resp[3],'garantia':resp[4]}"
      ],
      "execution_count": 0,
      "outputs": []
    },
    {
      "cell_type": "code",
      "metadata": {
        "id": "YSeHE0fCvE2f",
        "colab_type": "code",
        "colab": {},
        "outputId": "d8abfa16-410d-46fa-c9ad-808fa0ef0d74"
      },
      "source": [
        "teste=input('Digite sua pergunta: ')\n",
        "teste=limpa(teste)\n",
        "v=vectorizer.transform([teste])\n",
        "v=v.toarray()\n",
        "if np.linalg.norm(v)<1.0e-5 or GNB.predict_proba(v).max()<0.6:\n",
        "    print('Desculpe, não entendi')\n",
        "else:\n",
        "    classe=GNB.predict(v)[0]\n",
        "    print('************************************************************************************************')\n",
        "    print(dict_resp[classe])\n",
        "    print('************************************************************************************************')\n",
        "    print(GNB.predict_proba(v))\n",
        "    print('*************************************************************************************************')\n",
        "    print(v)\n",
        "    print('*************************************************************************************************')"
      ],
      "execution_count": 0,
      "outputs": [
        {
          "output_type": "stream",
          "text": [
            "Digite sua pergunta: Qual o preço?\n",
            "************************************************************************************************\n",
            "De R$80.000 (modelo S) a R$120000,00 (Modelo TS) \n",
            "Financiamento com taxa de juros de 1% ao mês\n",
            "************************************************************************************************\n",
            "[[0. 0. 0. 0. 1.]]\n",
            "*************************************************************************************************\n",
            "[[0. 0. 0. 0. 0. 0. 0. 0. 0. 0. 0. 0. 0. 0. 0. 1.]]\n",
            "*************************************************************************************************\n"
          ],
          "name": "stdout"
        }
      ]
    },
    {
      "cell_type": "code",
      "metadata": {
        "id": "umRdvKn1vE2j",
        "colab_type": "code",
        "colab": {}
      },
      "source": [
        ""
      ],
      "execution_count": 0,
      "outputs": []
    }
  ]
}