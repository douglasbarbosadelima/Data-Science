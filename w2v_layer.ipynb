{
  "nbformat": 4,
  "nbformat_minor": 0,
  "metadata": {
    "colab": {
      "name": "w2v_layer.ipynb",
      "provenance": [],
      "collapsed_sections": [],
      "include_colab_link": true
    },
    "kernelspec": {
      "name": "python3",
      "display_name": "Python 3"
    }
  },
  "cells": [
    {
      "cell_type": "markdown",
      "metadata": {
        "id": "view-in-github",
        "colab_type": "text"
      },
      "source": [
        "<a href=\"https://colab.research.google.com/github/douglasbarbosadelima/Data-Science/blob/master/w2v_layer.ipynb\" target=\"_parent\"><img src=\"https://colab.research.google.com/assets/colab-badge.svg\" alt=\"Open In Colab\"/></a>"
      ]
    },
    {
      "cell_type": "markdown",
      "metadata": {
        "id": "6CPtCReNXqBQ",
        "colab_type": "text"
      },
      "source": [
        "Utilização de uma camada embedding com keras..ainda yelp..polaridade"
      ]
    },
    {
      "cell_type": "code",
      "metadata": {
        "id": "9S89AiDzYCLy",
        "colab_type": "code",
        "outputId": "e1b476b7-8500-4090-f1a2-e6089745f16e",
        "colab": {
          "base_uri": "https://localhost:8080/",
          "height": 943
        }
      },
      "source": [
        "!pip install tensorflow==2.0.0 "
      ],
      "execution_count": 1,
      "outputs": [
        {
          "output_type": "stream",
          "text": [
            "Collecting tensorflow==2.0.0\n",
            "\u001b[?25l  Downloading https://files.pythonhosted.org/packages/46/0f/7bd55361168bb32796b360ad15a25de6966c9c1beb58a8e30c01c8279862/tensorflow-2.0.0-cp36-cp36m-manylinux2010_x86_64.whl (86.3MB)\n",
            "\u001b[K     |████████████████████████████████| 86.3MB 69kB/s \n",
            "\u001b[?25hRequirement already satisfied: protobuf>=3.6.1 in /usr/local/lib/python3.6/dist-packages (from tensorflow==2.0.0) (3.10.0)\n",
            "Requirement already satisfied: google-pasta>=0.1.6 in /usr/local/lib/python3.6/dist-packages (from tensorflow==2.0.0) (0.1.8)\n",
            "Requirement already satisfied: termcolor>=1.1.0 in /usr/local/lib/python3.6/dist-packages (from tensorflow==2.0.0) (1.1.0)\n",
            "Requirement already satisfied: grpcio>=1.8.6 in /usr/local/lib/python3.6/dist-packages (from tensorflow==2.0.0) (1.27.1)\n",
            "Requirement already satisfied: absl-py>=0.7.0 in /usr/local/lib/python3.6/dist-packages (from tensorflow==2.0.0) (0.9.0)\n",
            "Requirement already satisfied: wrapt>=1.11.1 in /usr/local/lib/python3.6/dist-packages (from tensorflow==2.0.0) (1.11.2)\n",
            "Requirement already satisfied: opt-einsum>=2.3.2 in /usr/local/lib/python3.6/dist-packages (from tensorflow==2.0.0) (3.1.0)\n",
            "Collecting tensorflow-estimator<2.1.0,>=2.0.0\n",
            "\u001b[?25l  Downloading https://files.pythonhosted.org/packages/fc/08/8b927337b7019c374719145d1dceba21a8bb909b93b1ad6f8fb7d22c1ca1/tensorflow_estimator-2.0.1-py2.py3-none-any.whl (449kB)\n",
            "\u001b[K     |████████████████████████████████| 450kB 48.9MB/s \n",
            "\u001b[?25hRequirement already satisfied: six>=1.10.0 in /usr/local/lib/python3.6/dist-packages (from tensorflow==2.0.0) (1.12.0)\n",
            "Collecting tensorboard<2.1.0,>=2.0.0\n",
            "\u001b[?25l  Downloading https://files.pythonhosted.org/packages/76/54/99b9d5d52d5cb732f099baaaf7740403e83fe6b0cedde940fabd2b13d75a/tensorboard-2.0.2-py3-none-any.whl (3.8MB)\n",
            "\u001b[K     |████████████████████████████████| 3.8MB 28.3MB/s \n",
            "\u001b[?25hRequirement already satisfied: keras-preprocessing>=1.0.5 in /usr/local/lib/python3.6/dist-packages (from tensorflow==2.0.0) (1.1.0)\n",
            "Requirement already satisfied: wheel>=0.26 in /usr/local/lib/python3.6/dist-packages (from tensorflow==2.0.0) (0.34.2)\n",
            "Requirement already satisfied: gast==0.2.2 in /usr/local/lib/python3.6/dist-packages (from tensorflow==2.0.0) (0.2.2)\n",
            "Requirement already satisfied: astor>=0.6.0 in /usr/local/lib/python3.6/dist-packages (from tensorflow==2.0.0) (0.8.1)\n",
            "Requirement already satisfied: numpy<2.0,>=1.16.0 in /usr/local/lib/python3.6/dist-packages (from tensorflow==2.0.0) (1.17.5)\n",
            "Requirement already satisfied: keras-applications>=1.0.8 in /usr/local/lib/python3.6/dist-packages (from tensorflow==2.0.0) (1.0.8)\n",
            "Requirement already satisfied: setuptools in /usr/local/lib/python3.6/dist-packages (from protobuf>=3.6.1->tensorflow==2.0.0) (45.2.0)\n",
            "Requirement already satisfied: google-auth-oauthlib<0.5,>=0.4.1 in /usr/local/lib/python3.6/dist-packages (from tensorboard<2.1.0,>=2.0.0->tensorflow==2.0.0) (0.4.1)\n",
            "Requirement already satisfied: google-auth<2,>=1.6.3 in /usr/local/lib/python3.6/dist-packages (from tensorboard<2.1.0,>=2.0.0->tensorflow==2.0.0) (1.7.2)\n",
            "Requirement already satisfied: werkzeug>=0.11.15 in /usr/local/lib/python3.6/dist-packages (from tensorboard<2.1.0,>=2.0.0->tensorflow==2.0.0) (1.0.0)\n",
            "Requirement already satisfied: requests<3,>=2.21.0 in /usr/local/lib/python3.6/dist-packages (from tensorboard<2.1.0,>=2.0.0->tensorflow==2.0.0) (2.21.0)\n",
            "Requirement already satisfied: markdown>=2.6.8 in /usr/local/lib/python3.6/dist-packages (from tensorboard<2.1.0,>=2.0.0->tensorflow==2.0.0) (3.2.1)\n",
            "Requirement already satisfied: h5py in /usr/local/lib/python3.6/dist-packages (from keras-applications>=1.0.8->tensorflow==2.0.0) (2.8.0)\n",
            "Requirement already satisfied: requests-oauthlib>=0.7.0 in /usr/local/lib/python3.6/dist-packages (from google-auth-oauthlib<0.5,>=0.4.1->tensorboard<2.1.0,>=2.0.0->tensorflow==2.0.0) (1.3.0)\n",
            "Requirement already satisfied: pyasn1-modules>=0.2.1 in /usr/local/lib/python3.6/dist-packages (from google-auth<2,>=1.6.3->tensorboard<2.1.0,>=2.0.0->tensorflow==2.0.0) (0.2.8)\n",
            "Requirement already satisfied: rsa<4.1,>=3.1.4 in /usr/local/lib/python3.6/dist-packages (from google-auth<2,>=1.6.3->tensorboard<2.1.0,>=2.0.0->tensorflow==2.0.0) (4.0)\n",
            "Requirement already satisfied: cachetools<3.2,>=2.0.0 in /usr/local/lib/python3.6/dist-packages (from google-auth<2,>=1.6.3->tensorboard<2.1.0,>=2.0.0->tensorflow==2.0.0) (3.1.1)\n",
            "Requirement already satisfied: urllib3<1.25,>=1.21.1 in /usr/local/lib/python3.6/dist-packages (from requests<3,>=2.21.0->tensorboard<2.1.0,>=2.0.0->tensorflow==2.0.0) (1.24.3)\n",
            "Requirement already satisfied: idna<2.9,>=2.5 in /usr/local/lib/python3.6/dist-packages (from requests<3,>=2.21.0->tensorboard<2.1.0,>=2.0.0->tensorflow==2.0.0) (2.8)\n",
            "Requirement already satisfied: certifi>=2017.4.17 in /usr/local/lib/python3.6/dist-packages (from requests<3,>=2.21.0->tensorboard<2.1.0,>=2.0.0->tensorflow==2.0.0) (2019.11.28)\n",
            "Requirement already satisfied: chardet<3.1.0,>=3.0.2 in /usr/local/lib/python3.6/dist-packages (from requests<3,>=2.21.0->tensorboard<2.1.0,>=2.0.0->tensorflow==2.0.0) (3.0.4)\n",
            "Requirement already satisfied: oauthlib>=3.0.0 in /usr/local/lib/python3.6/dist-packages (from requests-oauthlib>=0.7.0->google-auth-oauthlib<0.5,>=0.4.1->tensorboard<2.1.0,>=2.0.0->tensorflow==2.0.0) (3.1.0)\n",
            "Requirement already satisfied: pyasn1<0.5.0,>=0.4.6 in /usr/local/lib/python3.6/dist-packages (from pyasn1-modules>=0.2.1->google-auth<2,>=1.6.3->tensorboard<2.1.0,>=2.0.0->tensorflow==2.0.0) (0.4.8)\n",
            "Installing collected packages: tensorflow-estimator, tensorboard, tensorflow\n",
            "  Found existing installation: tensorflow-estimator 1.15.1\n",
            "    Uninstalling tensorflow-estimator-1.15.1:\n",
            "      Successfully uninstalled tensorflow-estimator-1.15.1\n",
            "  Found existing installation: tensorboard 1.15.0\n",
            "    Uninstalling tensorboard-1.15.0:\n",
            "      Successfully uninstalled tensorboard-1.15.0\n",
            "  Found existing installation: tensorflow 1.15.0\n",
            "    Uninstalling tensorflow-1.15.0:\n",
            "      Successfully uninstalled tensorflow-1.15.0\n",
            "Successfully installed tensorboard-2.0.2 tensorflow-2.0.0 tensorflow-estimator-2.0.1\n"
          ],
          "name": "stdout"
        }
      ]
    },
    {
      "cell_type": "code",
      "metadata": {
        "id": "7RHonjYKXnt_",
        "colab_type": "code",
        "colab": {}
      },
      "source": [
        "import tensorflow as tf\n",
        "from sklearn.feature_extraction.text import TfidfVectorizer,CountVectorizer\n",
        "import pandas as pd\n",
        "import numpy as np\n",
        "import random"
      ],
      "execution_count": 0,
      "outputs": []
    },
    {
      "cell_type": "code",
      "metadata": {
        "id": "N5u0CXZGX9oZ",
        "colab_type": "code",
        "outputId": "2b1732bc-b95e-487b-9b57-8f665f86ffc5",
        "colab": {
          "base_uri": "https://localhost:8080/",
          "height": 297
        }
      },
      "source": [
        "df=pd.read_csv('yelp_short_10k.csv')\n",
        "df.head()"
      ],
      "execution_count": 4,
      "outputs": [
        {
          "output_type": "execute_result",
          "data": {
            "text/html": [
              "<div>\n",
              "<style scoped>\n",
              "    .dataframe tbody tr th:only-of-type {\n",
              "        vertical-align: middle;\n",
              "    }\n",
              "\n",
              "    .dataframe tbody tr th {\n",
              "        vertical-align: top;\n",
              "    }\n",
              "\n",
              "    .dataframe thead th {\n",
              "        text-align: right;\n",
              "    }\n",
              "</style>\n",
              "<table border=\"1\" class=\"dataframe\">\n",
              "  <thead>\n",
              "    <tr style=\"text-align: right;\">\n",
              "      <th></th>\n",
              "      <th>Unnamed: 0</th>\n",
              "      <th>review_id</th>\n",
              "      <th>user_id</th>\n",
              "      <th>business_id</th>\n",
              "      <th>stars</th>\n",
              "      <th>date</th>\n",
              "      <th>text</th>\n",
              "      <th>useful</th>\n",
              "      <th>funny</th>\n",
              "      <th>cool</th>\n",
              "    </tr>\n",
              "  </thead>\n",
              "  <tbody>\n",
              "    <tr>\n",
              "      <th>0</th>\n",
              "      <td>0</td>\n",
              "      <td>vkVSCC7xljjrAI4UGfnKEQ</td>\n",
              "      <td>bv2nCi5Qv5vroFiqKGopiw</td>\n",
              "      <td>AEx2SYEUJmTxVVB18LlCwA</td>\n",
              "      <td>5</td>\n",
              "      <td>2016-05-28</td>\n",
              "      <td>Super simple place but amazing nonetheless. It...</td>\n",
              "      <td>0</td>\n",
              "      <td>0</td>\n",
              "      <td>0</td>\n",
              "    </tr>\n",
              "    <tr>\n",
              "      <th>1</th>\n",
              "      <td>1</td>\n",
              "      <td>n6QzIUObkYshz4dz2QRJTw</td>\n",
              "      <td>bv2nCi5Qv5vroFiqKGopiw</td>\n",
              "      <td>VR6GpWIda3SfvPC-lg9H3w</td>\n",
              "      <td>5</td>\n",
              "      <td>2016-05-28</td>\n",
              "      <td>Small unassuming place that changes their menu...</td>\n",
              "      <td>0</td>\n",
              "      <td>0</td>\n",
              "      <td>0</td>\n",
              "    </tr>\n",
              "    <tr>\n",
              "      <th>2</th>\n",
              "      <td>2</td>\n",
              "      <td>MV3CcKScW05u5LVfF6ok0g</td>\n",
              "      <td>bv2nCi5Qv5vroFiqKGopiw</td>\n",
              "      <td>CKC0-MOWMqoeWf6s-szl8g</td>\n",
              "      <td>5</td>\n",
              "      <td>2016-05-28</td>\n",
              "      <td>Lester's is located in a beautiful neighborhoo...</td>\n",
              "      <td>0</td>\n",
              "      <td>0</td>\n",
              "      <td>0</td>\n",
              "    </tr>\n",
              "    <tr>\n",
              "      <th>3</th>\n",
              "      <td>3</td>\n",
              "      <td>IXvOzsEMYtiJI0CARmj77Q</td>\n",
              "      <td>bv2nCi5Qv5vroFiqKGopiw</td>\n",
              "      <td>ACFtxLv8pGrrxMm6EgjreA</td>\n",
              "      <td>4</td>\n",
              "      <td>2016-05-28</td>\n",
              "      <td>Love coming here. Yes the place always needs t...</td>\n",
              "      <td>0</td>\n",
              "      <td>0</td>\n",
              "      <td>0</td>\n",
              "    </tr>\n",
              "    <tr>\n",
              "      <th>4</th>\n",
              "      <td>4</td>\n",
              "      <td>L_9BTb55X0GDtThi6GlZ6w</td>\n",
              "      <td>bv2nCi5Qv5vroFiqKGopiw</td>\n",
              "      <td>s2I_Ni76bjJNK9yG60iD-Q</td>\n",
              "      <td>4</td>\n",
              "      <td>2016-05-28</td>\n",
              "      <td>Had their chocolate almond croissant and it wa...</td>\n",
              "      <td>0</td>\n",
              "      <td>0</td>\n",
              "      <td>0</td>\n",
              "    </tr>\n",
              "  </tbody>\n",
              "</table>\n",
              "</div>"
            ],
            "text/plain": [
              "   Unnamed: 0               review_id  ... funny cool\n",
              "0           0  vkVSCC7xljjrAI4UGfnKEQ  ...     0    0\n",
              "1           1  n6QzIUObkYshz4dz2QRJTw  ...     0    0\n",
              "2           2  MV3CcKScW05u5LVfF6ok0g  ...     0    0\n",
              "3           3  IXvOzsEMYtiJI0CARmj77Q  ...     0    0\n",
              "4           4  L_9BTb55X0GDtThi6GlZ6w  ...     0    0\n",
              "\n",
              "[5 rows x 10 columns]"
            ]
          },
          "metadata": {
            "tags": []
          },
          "execution_count": 4
        }
      ]
    },
    {
      "cell_type": "code",
      "metadata": {
        "id": "ckUNaaxLZJCb",
        "colab_type": "code",
        "outputId": "8e37ac87-06c4-4030-d4e9-c7fd23f0f14d",
        "colab": {
          "base_uri": "https://localhost:8080/",
          "height": 123
        }
      },
      "source": [
        "df['stars'].value_counts()"
      ],
      "execution_count": 5,
      "outputs": [
        {
          "output_type": "execute_result",
          "data": {
            "text/plain": [
              "5    3554\n",
              "4    2966\n",
              "3    1716\n",
              "2     891\n",
              "1     873\n",
              "Name: stars, dtype: int64"
            ]
          },
          "metadata": {
            "tags": []
          },
          "execution_count": 5
        }
      ]
    },
    {
      "cell_type": "markdown",
      "metadata": {
        "id": "MT4gSlINcA4s",
        "colab_type": "text"
      },
      "source": [
        "Para fazermos uma classificação binária entre ótimo ou não, vamos considerar ótimo apenas  4 e o 5 e não ótimo os outros. Isso vai \"balancear as classes\""
      ]
    },
    {
      "cell_type": "code",
      "metadata": {
        "id": "djABJt47cbuK",
        "colab_type": "code",
        "colab": {}
      },
      "source": [
        "df['classe']=0\n",
        "filtro=df[df['stars']>=4].index\n",
        "df.loc[filtro,'classe']=1"
      ],
      "execution_count": 0,
      "outputs": []
    },
    {
      "cell_type": "code",
      "metadata": {
        "id": "xLT5RV1LdouX",
        "colab_type": "code",
        "outputId": "2d34792c-2648-4860-eb01-10924cfda078",
        "colab": {
          "base_uri": "https://localhost:8080/",
          "height": 70
        }
      },
      "source": [
        "df['classe'].value_counts()"
      ],
      "execution_count": 7,
      "outputs": [
        {
          "output_type": "execute_result",
          "data": {
            "text/plain": [
              "1    6520\n",
              "0    3480\n",
              "Name: classe, dtype: int64"
            ]
          },
          "metadata": {
            "tags": []
          },
          "execution_count": 7
        }
      ]
    },
    {
      "cell_type": "markdown",
      "metadata": {
        "id": "pr1-O4M3fFaU",
        "colab_type": "text"
      },
      "source": [
        "Vamos tirar \"aleatoriamente\" 6520-3480 amostras de classe 1 (para simplificar, poderíamos usar critérios mais sofisticados para reduzir a amostra positiva)"
      ]
    },
    {
      "cell_type": "code",
      "metadata": {
        "id": "99nDuUX0fUfS",
        "colab_type": "code",
        "colab": {}
      },
      "source": [
        "index_1=df[df['classe']==1].index\n",
        "index_1=list(index_1)\n",
        "index_1\n",
        "index_1_2=random.sample(index_1,k=3040)\n",
        "df.drop(index=index_1_2,axis=0,inplace=True)"
      ],
      "execution_count": 0,
      "outputs": []
    },
    {
      "cell_type": "code",
      "metadata": {
        "id": "gpOaI0diggQ4",
        "colab_type": "code",
        "outputId": "5affb34f-5bd2-4c0d-bafd-1b30621aff5a",
        "colab": {
          "base_uri": "https://localhost:8080/",
          "height": 70
        }
      },
      "source": [
        "df['classe'].value_counts()"
      ],
      "execution_count": 9,
      "outputs": [
        {
          "output_type": "execute_result",
          "data": {
            "text/plain": [
              "1    3480\n",
              "0    3480\n",
              "Name: classe, dtype: int64"
            ]
          },
          "metadata": {
            "tags": []
          },
          "execution_count": 9
        }
      ]
    },
    {
      "cell_type": "code",
      "metadata": {
        "id": "bz7SnS6hkCs1",
        "colab_type": "code",
        "outputId": "533d5279-e42a-4403-acb5-1a2557924929",
        "colab": {
          "base_uri": "https://localhost:8080/",
          "height": 247
        }
      },
      "source": [
        "import nltk\n",
        "nltk.download('stopwords')\n",
        "from nltk.corpus import stopwords\n",
        "stop = set(stopwords.words('english'))\n",
        "vect=CountVectorizer(stop_words=stop,binary=True,max_features=8000,ngram_range=(1,2))\n",
        "vect.fit(df['text'])"
      ],
      "execution_count": 52,
      "outputs": [
        {
          "output_type": "stream",
          "text": [
            "[nltk_data] Downloading package stopwords to /root/nltk_data...\n",
            "[nltk_data]   Package stopwords is already up-to-date!\n"
          ],
          "name": "stdout"
        },
        {
          "output_type": "execute_result",
          "data": {
            "text/plain": [
              "CountVectorizer(analyzer='word', binary=True, decode_error='strict',\n",
              "                dtype=<class 'numpy.int64'>, encoding='utf-8', input='content',\n",
              "                lowercase=True, max_df=1.0, max_features=8000, min_df=1,\n",
              "                ngram_range=(1, 2), preprocessor=None,\n",
              "                stop_words={'a', 'about', 'above', 'after', 'again', 'against',\n",
              "                            'ain', 'all', 'am', 'an', 'and', 'any', 'are',\n",
              "                            'aren', \"aren't\", 'as', 'at', 'be', 'because',\n",
              "                            'been', 'before', 'being', 'below', 'between',\n",
              "                            'both', 'but', 'by', 'can', 'couldn', \"couldn't\", ...},\n",
              "                strip_accents=None, token_pattern='(?u)\\\\b\\\\w\\\\w+\\\\b',\n",
              "                tokenizer=None, vocabulary=None)"
            ]
          },
          "metadata": {
            "tags": []
          },
          "execution_count": 52
        }
      ]
    },
    {
      "cell_type": "code",
      "metadata": {
        "id": "nSZZKepdlg6Q",
        "colab_type": "code",
        "outputId": "dad5b7f5-a9e1-48da-da35-46de868afd37",
        "colab": {
          "base_uri": "https://localhost:8080/",
          "height": 54
        }
      },
      "source": [
        "print(len(vect.vocabulary_),vect.vocabulary_)"
      ],
      "execution_count": 53,
      "outputs": [
        {
          "output_type": "stream",
          "text": [
            "8000 {'super': 6820, 'simple': 6362, 'place': 5190, 'amazing': 288, 'nonetheless': 4698, 'around': 411, 'since': 6365, '30': 58, 'still': 6710, 'serve': 6175, 'thing': 7062, 'started': 6667, 'salami': 5990, 'sandwich': 6017, 'mustard': 4545, 'staff': 6626, 'helpful': 3371, 'friendly': 2789, 'place amazing': 5193, 'staff helpful': 6631, 'helpful friendly': 3372, 'small': 6434, 'changes': 1182, 'menu': 4355, 'every': 2291, 'often': 4771, 'cool': 1543, 'decor': 1804, 'vibe': 7538, 'inside': 3612, 'seat': 6111, 'restaurant': 5831, 'call': 1029, 'reservation': 5817, 'beef': 679, 'tartar': 6960, 'pork': 5344, 'belly': 704, 'start': 6664, 'salmon': 5994, 'dish': 1965, 'lamb': 3800, 'meal': 4302, 'mains': 4187, 'everything': 2307, 'incredible': 3576, 'could': 1572, 'go': 2981, 'length': 3890, 'listed': 3989, 'ingredients': 3600, 'really': 5658, 'make': 4197, 'dishes': 1969, 'honestly': 3442, 'need': 4579, 'bit': 777, 'outside': 4921, 'downtown': 2015, 'montreal': 4489, 'take': 6926, 'metro': 4379, 'less': 3894, '10': 3, 'minute': 4427, 'walk': 7613, 'station': 6677, 'pork belly': 5345, 'could go': 1583, 'need go': 4581, 'less 10': 3895, 'chocolate': 1275, 'almond': 229, 'croissant': 1677, 'light': 3924, 'buttery': 1004, 'oh': 4772, 'looking': 4071, 'breakfast': 903, 'head': 3343, 'perfect': 5103, 'spot': 6606, 'coffee': 1373, 'heading': 3345, 'old': 4787, 'port': 5348, 'pub': 5527, 'las': 3819, 'vegas': 7514, 'blast': 806, 'got': 3127, 'groupon': 3257, 'rented': 5793, 'bike': 763, '11': 13, 'us': 7461, 'afternoon': 183, 'tour': 7266, 'bar': 620, 'fun': 2838, 'last': 3822, 'changed': 1181, 'much': 4510, 'better': 732, 'wide': 7799, 'age': 185, 'range': 5621, 'group': 3252, 'early': 2089, '20': 32, 'mid': 4391, '50': 82, 'everyone': 2303, 'driver': 2053, 'tony': 7229, 'knowledgable': 3766, 'plain': 5277, 'would': 7878, 'recommend': 5719, 'anyone': 343, 'something': 6494, 'different': 1905, 'away': 529, 'strip': 6748, 'disappointed': 1952, 'las vegas': 3820, 'much better': 4511, 'much fun': 4515, 'would recommend': 7919, 'recommend anyone': 5720, 'anyone looking': 345, 'looking something': 4077, 'something different': 6496, 'bad': 579, 'love': 4104, 'gluten': 2978, 'free': 2747, 'vegan': 7511, 'version': 7534, 'cheese': 1218, 'curds': 1703, 'gravy': 3169, 'done': 1998, 'poutine': 5387, 'taste': 6965, 'test': 7031, 'yet': 7972, 'smoke': 6454, 'im': 3546, 'excited': 2335, 'see': 6132, 'however': 3487, 'might': 4397, 'win': 7806, 'gluten free': 2979, 'cheese curds': 1221, 'excited see': 2336, 'currently': 1708, 'parents': 5004, 'new': 4633, 'favourite': 2468, 'come': 1401, 'morning': 4492, 'dim': 1917, 'sum': 6805, 'cart': 1110, 'type': 7386, 'order': 4870, 'sheet': 6282, 'expensive': 2361, 'either': 2133, 'also': 240, 'frequent': 2757, 'dinner': 1930, 'scene': 6077, 'set': 6249, 'typically': 7390, 'big': 752, 'enough': 2194, 'feed': 2478, 'family': 2428, 'leftovers': 3883, 'overall': 4927, 'food': 2631, 'pretty': 5418, 'tasty': 6983, 'dim sum': 1918, 'dinner menu': 1932, 'big enough': 755, 'overall food': 4929, 'food pretty': 2685, 'pretty tasty': 5440, 'server': 6181, 'little': 3995, 'rude': 5943, 'ordered': 4882, 'calamari': 1025, 'duck': 2068, 'confit': 1484, 'fish': 2567, 'miso': 4443, 'definitely': 1815, 'typical': 7389, 'diner': 1923, 'duck confit': 2069, 'thought': 7091, 'flowers': 2612, 'great': 3172, 'reputation': 5809, 'guess': 3269, 'wrong': 7941, 'day': 1755, 'boyfriend': 886, 'delivered': 1854, 'placed': 5269, 'long': 4050, 'mixed': 4453, 'charged': 1189, 'showed': 6320, 'short': 6307, 'cut': 1718, 'greens': 3227, 'table': 6908, 'speaking': 6563, 'another': 319, 'friend': 2782, 'similar': 6360, 'happened': 3316, 'dozen': 2017, 'surprise': 6866, 'never': 4606, 'called': 1032, 'complaint': 1451, 'actually': 145, 'confirm': 1482, 'whether': 7777, 'received': 5707, 'said': 5970, 'deliver': 1853, 'understanding': 7416, 'mistakes': 4451, 'happen': 3315, 'way': 7688, 'handled': 3307, 'expected': 2357, 'nature': 4565, 'placed order': 5270, 'said would': 5977, 'wanted': 7643, 'check': 1206, 'due': 2071, 'hype': 3516, 'heard': 3351, 'birthday': 770, 'seven': 6256, 'based': 635, 'seating': 6117, 'works': 7857, 'wind': 7807, 'sharing': 6278, 'five': 2577, 'ok': 4779, 'sure': 6848, 'almost': 230, '75': 91, 'sort': 6529, 'loud': 4099, 'ideal': 3528, 'talking': 6950, 'restrictions': 5844, 'interesting': 3635, 'concept': 1464, 'try': 7333, 'worth': 7869, '45': 73, 'mins': 4424, 'wait': 7577, 'check place': 1207, 'food ok': 2677, 'great place': 3196, 'place go': 5220, 'would definitely': 7884, 'definitely recommend': 1829, 'try place': 7344, 'place definitely': 5209, 'definitely worth': 1833, '45 mins': 75, 'trying': 7346, 'book': 848, 'appt': 392, 'use': 7480, 'voucher': 7569, 'months': 4486, 'phone': 5140, 'calls': 1037, 'response': 5827, 'agree': 190, 'buyers': 1009, 'beware': 745, 'warning': 7661, 'wish': 7825, 'reviews': 5864, 'posted': 5366, 'previous': 5444, 'purchase': 5539, 'reviews place': 5865, 'came': 1041, 'girlfriends': 2952, 'one': 4800, 'sunday': 6812, 'time': 7125, 'took': 7230, 'hour': 3474, 'give': 2954, 'lots': 4096, 'lazy': 3857, 'brunch': 951, 'pancakes': 4992, 'portion': 5349, 'sizes': 6398, 'huge': 3492, 'sunday afternoon': 6813, 'place take': 5260, 'take long': 6933, 'long time': 4056, 'food took': 2697, 'give us': 2961, 'food make': 2672, 'make sure': 4206, 'time definitely': 7133, 'portion sizes': 5352, 'burger': 981, 'friends': 2805, 'good': 3029, 'burgers': 985, 'people': 5080, 'work': 7849, 'twice': 7367, 'month': 4484, 'run': 5949, 'original': 4904, 'says': 6070, 'think': 7071, 'veggie': 7521, 'option': 4863, 'pricy': 5463, 'one friends': 4812, 'said good': 5973, 'people work': 5094, 'would come': 7882, 'would better': 7880, 'hear': 3350, 'coming': 1420, 'toronto': 7251, 'finally': 2528, 'opened': 4852, 'service': 6193, 'felt': 2495, 'like': 3931, 'forgotten': 2719, 'care': 1088, 'ginger': 2949, 'beer': 681, 'two': 7369, 'separate': 6170, 'times': 7179, 'back': 542, 'absolutely': 106, 'vegetarian': 7518, 'options': 4864, 'except': 2330, 'cold': 1380, 'noodle': 4699, 'mushroom': 4533, 'bun': 978, 'nothing': 4716, 'special': 6565, 'piece': 5162, 'meat': 4313, 'experience': 2362, 'well': 7726, 'literally': 3994, 'gave': 2871, 'sauce': 6040, 'kimchi': 3742, 'ramen': 5615, 'awful': 532, 'bland': 804, 'mushy': 4535, 'bites': 790, 'handle': 3306, 'eating': 2113, 'anymore': 342, 'want': 7631, 'real': 5653, 'instant': 3623, 'noodles': 4701, 'really excited': 5668, 'excited try': 2337, 'place service': 5250, 'service great': 6214, 'felt like': 2496, 'everything came': 2308, 'one time': 4834, 'time friend': 7138, 'friend ordered': 2787, 'came two': 1057, 'go back': 2985, 'back make': 555, 'vegetarian options': 7519, 'nothing special': 4723, 'gave us': 2875, 'go want': 3007, 'better experience': 734, 'always': 268, 'pass': 5028, 'decided': 1791, 'past': 5033, 'summer': 6807, 'read': 5645, 'things': 7067, 'say': 6060, 'dietary': 1903, 'needs': 4592, 'items': 3660, 'asked': 446, 'hostess': 3463, 'yes': 7969, 'salads': 5989, 'let': 3899, 'know': 3758, 'find': 2534, 'town': 7278, 'show': 6319, 'upon': 7450, 'arrival': 424, 'nice': 4655, 'answer': 332, 'unfortunately': 7425, 'cook': 1533, 'foods': 2707, 'specifically': 6574, 'couple': 1609, 'apps': 391, 'drinks': 2044, 'sitting': 6390, 'quite': 5594, 'fault': 2456, 'get': 2892, 'leave': 3875, 'reading': 5647, 'highly': 3399, 'mac': 4156, 'rich': 5876, 'filling': 2522, 'made': 4163, 'finally decided': 2530, 'decided try': 1799, 'read reviews': 5646, 'good things': 3110, 'say one': 6067, 'called make': 1035, 'said yes': 5978, 'find another': 2535, 'upon arrival': 7451, 'really nice': 5682, 'nice friendly': 4663, 'decided order': 1796, 'reading reviews': 5648, 'mac cheese': 4157, 'portions': 5353, 'onion': 4841, 'ring': 5895, 'tower': 7277, 'share': 6276, 'personal': 5118, 'vanilla': 7500, 'big portions': 759, 'definitely order': 1827, 'authentic': 501, 'meant': 4310, 'cater': 1128, 'customers': 1716, 'eaten': 2108, 'vietnamese': 7544, 'returning': 5855, 'food bland': 2644, 'vietnamese food': 7545, 'food definitely': 2652, 'definitely returning': 1831, 'restaurants': 5840, 'area': 397, 'posting': 5367, 'street': 6742, 'slightly': 6425, 'cheaper': 1203, 'star': 6654, 'mix': 4452, 'chinese': 1265, 'restaurants area': 5841, 'want something': 7640, 'slow': 6431, 'waited': 7595, '25': 50, 'takeout': 6942, 'seem': 6143, 'live': 4016, 'music': 4536, 'friday': 2770, 'entertainment': 2204, 'sit': 6382, 'probably': 5479, 'lot': 4088, 'faster': 2452, 'service really': 6231, 'really slow': 5684, 'worth wait': 7876, 'live music': 4019, 'years': 7953, 'ago': 189, 'used': 7481, 'bunch': 979, 'must': 4540, 'visit': 7556, 'places': 5271, 'boy': 885, 'omelette': 4798, 'eggs': 2129, 'benedict': 709, 'overcooked': 4938, 'size': 6395, 'gone': 3026, 'downhill': 2012, 'years ago': 7954, 'eggs benedict': 2130, 'portion size': 5351, 'food service': 2692, 'gone downhill': 3027, 'maybe': 4294, 'fries': 2807, 'kind': 3743, 'ny': 4744, 'grilled': 3237, 'banh': 616, 'mi': 4386, 'stuff': 6762, 'bao': 619, 'decided give': 1794, 'give try': 2959, 'based reviews': 636, 'thought would': 7093, 'ok ordered': 4782, 'kind like': 3744, 'banh mi': 617, 'back try': 571, 'stuff like': 6763, 'selection': 6155, 'winter': 7820, 'fan': 2435, 'line': 3980, 'carry': 1106, 'variety': 7504, 'dogs': 1993, 'fit': 2573, 'treats': 7305, 'little one': 4007, 'big fan': 756, 'good selection': 3099, 'food well': 2703, 'tried': 7312, 'wasabi': 7663, 'bother': 862, 'disgusting': 1964, 'sushi': 6874, 'else': 2143, 'soups': 6541, 'cooked': 1534, 'anything': 346, 'even': 2261, 'fresh': 2759, 'weekends': 7714, 'seems': 6150, 'snow': 6467, 'crab': 1633, 'legs': 3886, 'forget': 2716, 'fight': 2511, 'easier': 2097, 'eat': 2105, 'mandarin': 4231, 'suggests': 6800, 'somewhere': 6511, 'everything else': 2310, 'food get': 2663, 'get go': 2911, 'go get': 2993, 'get food': 2908, 'taste like': 6971, 'like anything': 3932, 'everyone seems': 2306, 'crab legs': 1635, 'wait line': 7586, 'line get': 3981, 'highly recommend': 3400, 'go somewhere': 3005, 'somewhere else': 6512, 'bring': 928, 'dog': 1991, 'soon': 6520, 'walked': 7615, 'greeted': 3229, 'explore': 2378, 'store': 6731, 'seats': 6119, 'bed': 676, 'front': 2816, 'truth': 7332, 'though': 7087, 'offer': 4761, 'tea': 6989, 'handful': 3305, 'choices': 1280, 'crazy': 1651, 'part': 5014, 'picky': 5154, 'comes': 1412, 'likes': 3971, 'purchased': 5540, 'place bring': 5201, 'soon walked': 6521, 'even though': 2276, 'coffee tea': 1377, 'hidden': 3385, 'east': 2099, 'end': 2168, 'danforth': 1737, 'knew': 3753, 'community': 1432, 'although': 266, 'lights': 3930, 'decoration': 1807, 'dark': 1744, 'red': 5730, 'lighting': 3928, 'orange': 4867, 'makes': 4208, 'hard': 3326, 'tell': 7001, 'platter': 5291, 'person': 5115, 'knew would': 3754, 'food bad': 2641, 'one person': 4825, 'review': 5857, 'mainly': 4186, 'pool': 5332, 'indoor': 3584, 'salt': 6000, 'water': 7677, 'bigger': 760, 'swim': 6896, 'lukewarm': 4135, 'guy': 3277, 'willing': 7804, '1st': 31, 'instructor': 3626, 'help': 3367, 'scared': 6075, 'swimming': 6897, 'tub': 7351, 'bath': 647, 'complaints': 1452, 'go another': 2983, 'stars': 6660, 'half': 3289, 'four': 2735, 'cute': 1720, 'shop': 6300, 'varieties': 7503, 'cookie': 1539, 'cookies': 1540, 'milk': 4408, 'flavours': 2599, 'banana': 610, 'flavoured': 2597, 'reminds': 5782, 'syrup': 6903, 'drink': 2035, 'kid': 3734, 'homemade': 3439, 'ice': 3518, 'cream': 1652, 'sandwiches': 6022, 'side': 6337, 'ice cream': 3519, 'chinatown': 1264, 'hectic': 3363, 'ladies': 3795, 'behind': 694, 'counter': 1604, 'move': 4499, 'along': 235, 'know want': 3763, 'behind counter': 696, 'busy': 998, 'night': 4682, 'queen': 5576, 'feel': 2480, 'pricey': 5460, 'shrimp': 6328, 'tempura': 7013, 'appetizer': 375, 'sweet': 6885, 'potato': 5370, 'wedges': 7707, 'paired': 4981, 'mayo': 4298, 'rolls': 5915, 'pink': 5170, 'dragon': 2023, 'roll': 5912, 'scallops': 6073, 'top': 7245, 'green': 3223, 'avocado': 522, 'sliced': 6419, 'sprinkled': 6614, 'yummy': 7988, 'busy place': 999, 'friday night': 2773, 'little pricey': 4009, 'shrimp tempura': 6329, 'good size': 3103, 'sweet potato': 6887, 'must try': 4544, 'atmosphere': 475, 'reservations': 5818, 'checked': 1210, 'minutes': 4429, 'informed': 3595, 'certain': 1156, 'considering': 1496, 'impressed': 3558, 'space': 6552, 'tight': 7120, 'hit': 3415, 'seafood': 6101, 'pasta': 5037, 'flavour': 2596, 'specials': 6571, 'filet': 2517, 'mignon': 4402, 'par': 5001, 'enjoy': 2185, 'restaurant nice': 5839, 'came friend': 1048, 'friend birthday': 2783, 'made reservations': 4172, 'minutes early': 4431, '45 minutes': 77, 'time think': 7165, 'think would': 7078, 'get table': 2931, 'time however': 7146, 'boyfriend got': 887, 'pasta dish': 5038, 'ordered one': 4891, 'filet mignon': 2518, 'crowds': 1682, 'chef': 1232, 'making': 4214, 'delicious': 1840, 'save': 6053, 'room': 5920, 'stomach': 6721, 'mall': 4218, 'true': 7327, 'dan': 1732, 'spicy': 6587, 'peanut': 5068, 'soup': 6538, 'base': 634, 'flavourful': 2598, 'plus': 5312, 'add': 150, 'chili': 1257, 'oil': 4776, 'sun': 6810, 'bf': 747, 'whenever': 7775, 'far': 2440, 'best': 717, 'need make': 4584, 'things menu': 7069, 'peanut sauce': 5070, 'chili oil': 1258, 'always order': 282, 'terrible': 7026, 'plaza': 5298, 'saw': 6059, 'bubble': 958, 'grab': 3147, 'first': 2554, 'menus': 4367, 'located': 4038, 'awkward': 534, 'high': 3388, 'wall': 7624, 'corner': 1557, 'neither': 4601, 'accommodate': 123, 'large': 3811, 'look': 4060, 'specialty': 6572, 'mousse': 4496, 'idea': 3527, 'exactly': 2323, 'grass': 3166, 'jelly': 3687, 'pudding': 5529, 'understand': 7414, 'english': 2184, 'explain': 2374, 'following': 2627, 'mango': 4233, 'peach': 5064, 'roasted': 5908, 'lemonade': 3888, 'difference': 1904, 'section': 6129, 'supposed': 6843, 'layer': 3853, 'blue': 826, 'cup': 1697, 'dumb': 2073, 'regular': 5759, 'overpowered': 4943, 'bitter': 792, 'lime': 3974, 'tasted': 6973, 'sugar': 6794, 'non': 4695, 'wifi': 7802, 'wants': 7653, 'allowed': 227, 'home': 3433, 'terrible service': 7028, 'grab go': 3150, 'place one': 5239, 'really friendly': 5669, 'large group': 3812, 'group people': 3254, 'menu items': 4360, 'different options': 1908, 'really bad': 5660, 'ice tea': 3520, 'milk tea': 4409, 'tasted like': 6977, 'worse': 7863, 'customer': 1714, 'ever': 2284, 'manager': 4226, 'duty': 2080, 'negative': 4593, 'feelings': 2487, 'renovated': 5788, 'customer service': 1715, 'service ever': 6206, 'would never': 7909, 'never come': 4610, 'come back': 1403, 'back restaurant': 562, 'omg': 4799, 'wow': 7931, 'later': 3842, 'french': 2753, 'toast': 7200, 'strawberry': 6741, 'donuts': 2004, 'sold': 6483, 'ordering': 4896, 'classic': 1315, 'style': 6769, 'house': 3484, 'cured': 1704, 'bacon': 577, 'sausage': 6049, 'crispy': 1674, 'skin': 6407, 'potatoes': 5373, 'sea': 6098, 'served': 6176, 'choice': 1279, 'upgrade': 7448, 'buttermilk': 1003, 'biscuit': 773, 'warm': 7655, 'fluffy': 2614, 'topped': 7247, 'poached': 5316, 'smothered': 6463, 'tend': 7016, 'sell': 6159, 'quick': 5585, 'wait 30': 7579, '30 mins': 60, 'later day': 3843, 'looking menu': 4074, 'wanted try': 7650, 'french toast': 2756, 'time got': 7144, 'two things': 7380, 'sea salt': 6100, 'served side': 6179, 'really good': 5670, 'one day': 4807, 'stop': 6725, 'bread': 896, 'definitely one': 1826, 'cakes': 1024, 'cupcakes': 1701, 'cake': 1023, 'hubby': 3491, 'love place': 4114, 'best part': 723, 'chocolate cake': 1276, 'clean': 1318, 'girls': 2953, 'thai': 7038, 'stuck': 6757, 'normal': 4706, 'presentation': 5410, 'rings': 5897, 'piled': 5167, 'decent': 1781, 'girlfriend': 2951, 'many': 4240, 'choose': 1283, 'especially': 2229, 'pictures': 5160, 'include': 3567, 'pie': 5161, 'looked': 4065, 'appealing': 369, 'nice clean': 4660, 'one came': 4805, 'thai place': 7040, 'hour wait': 3480, 'burgers fries': 986, 'grilled cheese': 3238, 'cheese sandwich': 1224, 'onion rings': 4842, 'good looking': 3072, 'many options': 4246, 'options choose': 4866, 'another table': 329, 'hole': 3425, 'apartment': 357, 'building': 971, 'entrance': 2211, 'lunch': 4136, 'weekend': 7713, 'teriyaki': 7022, 'kalbi': 3716, 'chicken': 1241, 'katsu': 3720, 'california': 1027, 'cute little': 1721, 'hole wall': 3426, 'one side': 4830, 'lunch specials': 4145, 'chicken katsu': 1247, 'california roll': 1028, 'good fresh': 3057, 'coming back': 1421, 'mark': 4263, 'price': 5447, 'dessert': 1889, 'unique': 7431, 'pretty decent': 5427, 'bit pricey': 784, 'come early': 1405, 'pickle': 5150, 'healthy': 3349, 'indulge': 3586, 'salad': 5982, 'fine': 2541, 'print': 5470, 'prior': 5472, 'ensure': 2199, 'memorable': 4348, 'beautiful': 669, 'hearing': 3353, 'stories': 6734, 'getting': 2938, '100': 10, 'calories': 1040, 'glass': 2970, 'desserts': 1890, 'side salad': 6342, 'service bad': 6199, 'service also': 6194, 'think place': 7077, 'probably good': 5484, 'much food': 4514, 'sat': 6027, 'given': 2962, 'blown': 823, 'pitas': 5179, 'eggplant': 2128, 'dip': 1936, 'smoked': 6455, 'garlic': 2860, 'liking': 3972, 'shawarma': 6281, 'juice': 3708, 'falafel': 2420, 'instead': 3625, 'next': 4648, 'nice place': 4670, 'ordered chicken': 4884, 'need try': 4586, 'next time': 4651, 'ups': 7454, 'baked': 596, 'butter': 1002, 'tart': 6959, 'note': 4713, 'cafe': 1018, 'groups': 3258, 'long line': 4054, 'sunday brunch': 6814, 'definitely best': 1817, 'good large': 3068, 'large groups': 3813, 'went': 7746, 'april': 393, 'amount': 304, 'attitude': 495, 'late': 3838, 'ahead': 193, 'answering': 336, 'machine': 4159, 'receptionist': 5714, 'booked': 850, 'salon': 5995, 'nails': 4553, 'kept': 3727, 'dried': 2034, 'fixed': 2582, 'pay': 5055, 'tips': 7195, 'went friend': 7753, 'pretty good': 5431, 'good place': 3087, 'called ahead': 1033, 'back time': 569, 'nails done': 4554, 'end day': 2169, 'overall would': 4937, 'would go': 7895, 'chips': 1272, 'onions': 4844, 'organic': 4901, 'batter': 650, 'mahi': 4181, 'heavy': 3361, 'creamy': 1657, 'coleslaw': 1384, 'shared': 6277, 'pull': 5530, 'good really': 3094, 'good love': 3073, 'many different': 4242, 'mahi mahi': 4182, 'one good': 4814, 'yelp': 7963, 'mission': 4449, 'city': 1308, 'nyc': 4745, 'listening': 3992, 'gyoza': 3280, 'pan': 4989, 'fried': 2777, 'thin': 7060, 'soap': 6470, 'known': 3769, 'bowl': 878, 'expect': 2352, 'boil': 837, 'egg': 2125, 'seaweed': 6120, 'veggies': 7523, 'tasteless': 6978, 'reviews yelp': 5866, 'give place': 2956, 'place try': 5262, 'especially since': 2232, 'pan fried': 4990, 'glass water': 2971, 'served us': 6180, 'sound': 6533, '7pm': 92, 'slot': 6429, '8pm': 94, 'seated': 6113, 'lower': 4127, 'empty': 2156, 'extensive': 2383, 'paid': 4973, 'pizza': 5183, 'seasonal': 6107, 'vegetable': 7516, 'pastas': 5039, 'differently': 1910, 'others': 4906, 'tiny': 7192, 'careful': 1092, 'fast': 2448, 'advance': 170, 'heat': 3356, 'afterwards': 184, 'forever': 2714, 'bill': 765, 'charge': 1188, '12': 16, 'tap': 6954, '18': 28, 'gratuity': 3168, 'taxes': 6988, 'good first': 3054, 'extensive menu': 2384, 'everything menu': 2314, 'good got': 3062, 'got food': 3131, 'one better': 4803, 'better one': 738, 'food came': 2645, 'fast food': 2449, 'food cold': 2647, 'sure make': 6858, 'took forever': 7236, 'bill came': 766, 'atmosphere good': 476, 'recommend place': 5723, 'meet': 4330, 'plate': 5288, 'temperature': 7009, 'fryer': 2829, 'beers': 685, 'came dinner': 1045, 'meet friends': 4331, 'room temperature': 5923, 'neighbourhood': 4600, 'tables': 6913, 'broth': 939, 'texture': 7036, 'chewy': 1237, 'soft': 6477, 'lacking': 3791, 'depth': 1870, 'reviewer': 5861, 'perhaps': 5112, 'narrow': 4560, 'wanted give': 7645, 'late lunch': 3839, 'bit bland': 779, 'time try': 7170, 'try menu': 7341, 'thursday': 7113, 'week': 7710, 'bone': 843, 'definitely place': 1828, 'ok nothing': 4781, 'sure would': 6861, 'cheesecake': 1228, 'factory': 2410, '30pm': 64, 'told': 7213, '6pm': 89, 'full': 2833, 'bartenders': 633, 'hours': 3481, 'beans': 662, 'pao': 4997, 'tofu': 7208, 'weird': 7722, 'broccoli': 936, 'rice': 5872, 'cheesecake factory': 1229, 'thursday night': 7114, 'try make': 7340, 'make reservation': 4204, 'sitting bar': 6391, 'green beans': 3224, 'fried rice': 2781, 'also served': 260, 'holiday': 3428, 'monday': 4473, 'open': 4849, 'rush': 5957, 'chop': 1285, 'vermicelli': 7533, 'exciting': 2339, 'place open': 5240, 'ordered beef': 4883, 'noodle soup': 4700, 'pork chop': 5346, 'bakery': 600, 'close': 1339, 'carrot': 1103, 'spice': 6582, 'mini': 4420, 'inch': 3565, 'overly': 4940, 'priced': 5452, 'average': 518, 'crunchy': 1685, 'skip': 6409, 'adds': 159, 'since close': 6366, 'little place': 4008, 'carrot cake': 1104, 'peanut butter': 5069, 'items menu': 3662, 'cozy': 1632, 'heart': 3354, 'st': 6622, 'comfy': 1419, 'internet': 3638, 'addition': 154, 'district': 1979, 'stumbled': 6765, 'checking': 1212, 'festival': 2499, 'hang': 3312, 'hot': 3465, 'dairy': 1727, 'peppermint': 5098, 'soy': 6549, 'bite': 788, 'condiments': 1474, 'stumbled upon': 6766, 'place hang': 5226, 'get coffee': 2903, 'hot chocolate': 3466, 'grab bite': 3148, 'bite eat': 789, 'driving': 2055, 'realized': 5657, 'closed': 1345, 'would take': 7925, 'patio': 5049, 'wild': 7803, 'area nice': 400, 'dog friendly': 1992, 'pizza good': 5185, 'good definitely': 3047, 'want try': 7642, 'try items': 7339, 'friendly service': 2802, 'service definitely': 6202, 'definitely back': 1816, 'back often': 559, 'deal': 1768, 'available': 508, 'unless': 7434, 'otherwise': 4907, 'greatest': 3219, 'worst': 7864, 'paying': 5059, '15': 21, 'see people': 6137, 'enough make': 2196, 'get seated': 2928, 'sister': 6381, 'msg': 4508, 'system': 6905, 'combo': 1399, 'toppings': 7249, 'included': 3568, 'additional': 155, 'types': 7388, 'adding': 153, 'parsley': 5013, 'century': 1155, 'cabbage': 1015, 'flat': 2587, 'picked': 5148, 'found': 2729, 'lemon': 3887, 'gotten': 3143, 'rice noodles': 5875, 'found little': 2730, 'pretty big': 5422, 'would also': 7879, 'time since': 7161, 'really great': 5671, 'radish': 5608, 'go wrong': 3009, 'always good': 277, 'croissants': 1678, 'flaky': 2584, 'pleased': 5305, 'burnt': 990, 'display': 1973, 'really care': 5662, 'good would': 3119, 'back one': 560, 'would like': 7902, 'like go': 3942, 'online': 4845, 'breads': 900, 'seen': 6152, 'anywhere': 354, 'smaller': 6441, 'website': 7704, 'description': 1874, 'prepared': 5404, 'attention': 489, 'shelf': 6283, 'various': 7505, 'stores': 6733, 'browse': 949, 'drive': 2050, 'items like': 3661, 'anywhere else': 355, 'much smaller': 4524, 'pay attention': 5056, 'worth drive': 7870, 'appointment': 382, 'mani': 4236, 'pedi': 5075, 'foot': 2709, 'massage': 4282, 'left': 3879, 'message': 4372, 'email': 2146, 'ownership': 4954, 'longer': 4059, 'disappointment': 1955, 'book appointment': 849, 'mani pedi': 4237, 'never heard': 4621, 'got back': 3128, 'neighborhood': 4598, 'disappoint': 1951, 'excellent': 2327, 'greasy': 3171, 'soggy': 6479, 'new place': 4639, 'fried chicken': 2778, 'chicken sandwich': 1250, 'tasting': 6982, 'matcha': 4287, 'slices': 6420, 'lady': 3796, 'green tea': 3226, 'back check': 547, 'able': 99, 'business': 995, 'weeks': 7717, 'hiring': 3413, 'honest': 3441, 'professional': 5498, 'wonderful': 7840, 'human': 3496, 'enjoyed': 2188, 'working': 7855, 'fantastic': 2438, 'valley': 7498, 'able get': 101, 'two weeks': 7384, 'really enjoyed': 5667, '000': 1, 'miles': 4407, 'planet': 5280, 'provided': 5521, 'warranty': 7662, 'immediately': 3550, 'purchasing': 5542, 'vehicle': 7524, 'began': 690, 'pocket': 5317, 'repairs': 5797, 'clue': 1356, 'car': 1078, 'drove': 2060, 'somewhat': 6510, 'bought': 874, 'sick': 6336, 'problems': 5490, 'trade': 7282, 'dealership': 1772, 'process': 5493, 'knowing': 3765, 'involved': 3646, 'major': 4195, 'accident': 121, 'caused': 1136, 'frame': 2740, 'damage': 1728, 'six': 6394, 'selling': 6160, 'advise': 178, 'consumer': 1506, 'avoid': 523, 'means': 4309, 'possible': 5362, 'two years': 7385, 'wedding': 7705, 'photos': 5145, 'taken': 6940, 'garden': 2859, 'horrible': 3456, 'claimed': 1310, 'bathrooms': 649, 'complained': 1449, 'standing': 6650, 'warned': 7660, 'treated': 7301, 'rudely': 5944, 'time come': 7130, 'really want': 5689, 'comfortable': 1416, 'place staff': 5254, 'got one': 3136, 'guys': 3278, 'ended': 2171, 'flavors': 2595, 'exceptional': 2332, 'staff friendly': 6629, 'great experience': 3180, 'visiting': 7560, 'sf': 6265, 'converted': 1530, 'watch': 7671, 'kitchen': 3751, 'pepper': 5097, 'omelet': 4797, 'waffles': 7576, 'whipped': 7779, 'creme': 1667, 'pastries': 5042, 'particular': 5017, 'found place': 2732, 'place small': 5253, 'food excellent': 2657, 'red pepper': 5732, 'light fluffy': 3925, 'also good': 248, 'chandler': 1178, 'reason': 5693, 'rolled': 5913, 'tacos': 6919, 'today': 7202, 'lil': 3973, 'basically': 639, 'deep': 1810, 'tortillas': 7253, 'yuck': 7985, 'flavor': 2590, 'carne': 1096, 'asada': 437, 'taco': 6917, 'earlier': 2088, 'thrown': 7109, 'grill': 3235, 'always go': 276, 'deep fried': 1811, 'also ordered': 257, 'carne asada': 1097, 'dirty': 1949, 'place always': 5192, 'service horrible': 6216, 'waste': 7667, '500': 84, 'furniture': 2842, 'sells': 6161, 'numerous': 4738, 'boxes': 884, 'delivery': 1857, 'damaged': 1729, 'living': 4024, 'stuffed': 6764, 'truck': 7325, 'nasty': 4561, 'completely': 1455, 'unprofessional': 7440, 'sent': 6168, 'whole': 7788, 'refund': 5749, 'talked': 6949, 'named': 4557, 'chris': 1293, 'absolute': 105, 'missing': 4448, 'please': 5304, 'spare': 6557, 'money': 4476, 'waste time': 7669, 'numerous times': 4739, 'living room': 4025, 'worst customer': 7865, 'time money': 7151, 'good price': 3091, 'double': 2007, 'wings': 7816, 'art': 430, 'recognize': 5717, 'may': 4291, 'friendly place': 2799, 'place think': 5261, 'burritos': 992, 'several': 6258, 'occasions': 4753, 'sub': 6777, 'sometimes': 6508, 'nachos': 4550, 'result': 5847, 'bothered': 863, 'going': 3014, 'year': 7951, 'craving': 1647, 'mexican': 4381, 'lack': 3788, 'husband': 3510, 'mention': 4352, 'ca': 1013, 'charges': 1190, 'tip': 7194, 'right': 5885, 'sites': 6388, 'inclined': 3566, 'seriously': 6174, 'learned': 3868, 'lesson': 3897, 'second': 6122, 'third': 7081, 'chances': 1177, 'chance': 1175, 'things place': 7070, 'several occasions': 6260, 'sub par': 6778, 'mexican restaurant': 4383, 'went ahead': 7747, 'two different': 7371, 'place even': 5212, 'even give': 2268, 'rave': 5634, 'fact': 2408, 'spectacular': 6575, 'expectations': 2356, 'cheap': 1201, 'prices': 5453, 'mess': 4371, 'turnover': 7362, 'crowded': 1681, 'alright': 239, 'door': 2005, 'crowd': 1680, 'sign': 6347, 'guessed': 3270, 'correctly': 1561, 'problem': 5489, 'awhile': 533, 'picnic': 5155, 'lacked': 3789, 'waitress': 7604, 'arrive': 425, 'ready': 5650, 'fruit': 2822, 'smoothies': 6462, 'mine': 4419, 'without': 7833, 'straight': 6737, 'face': 2400, 'put': 5552, 'three': 7096, 'bananas': 612, 'smoothie': 6461, 'realize': 5656, 'played': 5293, 'rounds': 5935, 'iphone': 3647, 'taking': 6944, 'ask': 444, 'usually': 7486, 'smart': 6443, 'cost': 1563, 'tastes': 6979, 'famous': 2434, 'boom': 853, 'frites': 2812, 'thick': 7058, 'slice': 6418, 'anyway': 352, 'rave reviews': 5635, 'breakfast place': 908, 'prices good': 5456, 'good food': 3056, 'service place': 6225, 'prices high': 5457, 'high end': 3389, 'take time': 6939, 'last time': 3828, 'time went': 7175, 'wait seated': 7589, 'people coming': 5083, 'seated us': 6116, 'us table': 7478, 'took time': 7242, 'order ordered': 4877, 'waitress came': 7606, 'came back': 1044, 'minutes later': 4436, 'finally came': 2529, 'food food': 2661, 'usually go': 7488, 'places like': 5275, 'food better': 2643, 'better price': 740, 'way better': 7691, 'unless want': 7435, 'solid': 6485, 'japanese': 3674, 'korean': 3774, 'consistently': 1500, 'lacks': 3794, 'days': 1759, 'service always': 6195, 'always nice': 281, 'consistently good': 1501, 'portions huge': 5355, 'sushi place': 6878, 'switched': 6901, 'elsewhere': 2144, 'continued': 1515, 'job': 3693, 'sloppy': 6428, 'example': 2325, 'colour': 1393, 'ears': 2093, 'send': 6163, 'wrapped': 7933, 'tin': 7191, 'wipe': 7821, 'always busy': 269, 'one ever': 4808, 'chains': 1169, 'thinking': 7079, 'underwhelming': 7419, 'point': 5318, 'dry': 2064, 'generic': 2881, 'lettuce': 3910, 'ranch': 5617, 'dressing': 2033, 'naan': 4549, 'cardboard': 1085, 'rest': 5829, 'edible': 2120, 'locations': 4044, 'hold': 3422, 'quality': 5560, 'mcdonald': 4300, 'every time': 2299, 'bit better': 778, 'tastes like': 6981, 'sucks': 6791, 'experiences': 2371, 'centre': 1153, 'lived': 4020, 'yonge': 7979, 'grocery': 3244, 'across': 134, 'basics': 640, 'subway': 6784, 'somehow': 6490, 'keep': 3721, 'case': 1113, 'handy': 3311, 'consider': 1493, 'parking': 5007, 'draw': 2027, 'park': 5005, 'pick': 5147, 'mail': 4183, 'shoppers': 6301, 'drug': 2061, 'mart': 4274, 'rid': 5879, 'crappy': 1645, 'yeah': 7950, 'ticket': 7116, 'tickets': 7117, 'break': 901, 'garage': 2857, 'booth': 854, 'spots': 6607, 'block': 814, 'traffic': 7286, 'office': 4766, 'tv': 7364, 'screens': 6093, 'broken': 938, 'signs': 6354, 'soooo': 6525, 'cars': 1109, 'laugh': 3848, 'story': 6736, 'machines': 4160, 'broke': 937, 'security': 6131, 'info': 3591, 'conversation': 1528, 'turned': 7360, 'ten': 7014, 'turn': 7358, 'excuse': 2340, 'moving': 4504, 'towards': 7273, 'slowly': 6433, 'member': 4345, 'walking': 7620, 'holding': 3423, 'arms': 409, 'guard': 3268, 'followed': 2626, 'clearly': 1330, 'lying': 4153, 'breaking': 910, 'village': 7548, 'post': 5364, 'clothing': 1353, 'starbucks': 6657, 'polite': 5327, 'nicer': 4678, 'whole place': 7791, 'even worse': 2278, 'grocery store': 3245, 'across street': 135, 'would need': 7908, 'would consider': 7883, 'free parking': 2748, 'half hour': 3293, 'let tell': 3905, 'time go': 7141, 'parking garage': 5009, 'ten minutes': 7015, 'minutes finally': 4433, 'finally got': 2532, 'staff member': 6632, 'really wanted': 5690, 'post office': 5365, 'parking free': 5008, 'okay': 4784, 'hotel': 3471, 'exception': 2331, 'trip': 7318, 'com': 1394, 'booking': 851, 'hotels': 3473, 'travel': 7294, 'site': 6387, 'rooms': 5924, 'amenities': 297, 'stay': 6680, 'pleasant': 5299, 'access': 118, 'hair': 3286, 'television': 6999, 'suite': 6803, 'staying': 6683, 'updated': 7446, 'carpets': 1101, 'worn': 7859, 'crap': 1644, 'walls': 7626, 'bathroom': 648, 'floor': 2606, 'tile': 7122, 'permanent': 5114, 'cleaned': 1324, 'movies': 4503, 'constantly': 1503, 'smelled': 6446, 'apple': 378, 'air': 206, 'number': 4736, 'children': 1255, 'running': 5953, 'families': 2427, 'joke': 3702, 'cab': 1014, 'ugly': 7395, 'agreed': 191, 'butt': 1001, 'costs': 1565, 'ride': 5880, 'shops': 6305, 'ate': 473, 'individual': 3582, 'ratings': 5632, 'bell': 701, 'hop': 3449, 'cleaning': 1326, 'woman': 7836, 'extra': 2386, 'fall': 2421, 'barely': 627, 'falls': 2424, 'considerably': 1494, 'main': 4184, 'whatever': 7769, 'god': 3012, 'bringing': 931, 'fits': 2575, 'beds': 678, 'lot people': 4093, 'three stars': 7099, 'well also': 7727, 'need know': 4583, 'well know': 7732, 'looked like': 4069, 'running around': 5954, 'something like': 6500, 'service good': 6213, 'help us': 3368, 'us wait': 7479, 'wait staff': 7590, 'staff nice': 6634, 'extra star': 2387, 'rooms nice': 5925, 'would fit': 7890, 'three star': 7098, 'saturday': 6035, 'larger': 3817, 'cheesy': 1231, 'faux': 2458, 'waiter': 7597, 'suggestions': 6799, 'veal': 7509, 'parm': 5011, 'starter': 6668, 'noticed': 4727, 'uninspired': 7430, 'basic': 638, 'mushrooms': 4534, 'pesto': 5125, 'etc': 2256, 'creative': 1661, 'combinations': 1397, 'italian': 3655, 'hell': 3365, 'basis': 642, 'personally': 5120, 'tomato': 7220, 'mixture': 4455, 'properly': 5513, 'toasted': 7201, 'shape': 6274, 'falling': 2423, 'apart': 356, 'brought': 942, 'tells': 7005, 'opposed': 4859, 'convenience': 1521, 'went saturday': 7761, 'saturday night': 6038, 'decided go': 1795, 'much larger': 4517, 'drinks food': 2045, 'husband ordered': 3513, 'red sauce': 5734, 'really enjoy': 5666, 'italian restaurant': 3657, 'well cooked': 7728, 'like something': 3963, 'something would': 6505, 'would find': 7889, 'place back': 5198, 'made house': 4168, 'would highly': 7900, 'recommend getting': 5721, 'pretty basic': 5421, 'italian food': 3656, 'going back': 3015, 'first choice': 2556, 'gelato': 2877, 'certainly': 1157, 'traditional': 7285, 'caramel': 1080, 'boring': 858, 'none': 4696, 'blew': 811, 'imagine': 3547, 'specializes': 6570, 'cupcake': 1700, 'packaged': 4965, 'threw': 7103, 'bag': 590, 'girl': 2950, 'apologized': 362, 'appropriate': 388, 'package': 4964, 'furthermore': 2843, 'perfectly': 5107, 'shaped': 6275, 'round': 5933, 'cups': 1702, 'everywhere': 2321, 'interested': 3634, 'oily': 4778, 'icing': 3525, 'moist': 4466, 'final': 2527, 'giving': 2964, 'score': 6086, 'singing': 6374, 'wanted something': 7649, 'made way': 4177, 'good best': 3037, 'place great': 5225, 'quite large': 5598, 'asked would': 453, 'said nothing': 5974, 'oh well': 4773, 'overall good': 4930, 'place bad': 5199, 'location': 4041, 'charm': 1194, 'directly': 1947, 'onto': 4847, 'overnight': 4942, 'exchange': 2334, 'receipt': 5704, 'explained': 2375, 'employee': 2153, 'accept': 115, 'beat': 664, 'condition': 1475, 'stand': 6646, 'product': 5496, 'gets': 2936, 'looks': 4078, 'total': 7256, 'spent': 6581, 'loyal': 4128, 'box': 882, 'employees': 2154, 'owned': 4951, 'needless': 4590, 'encourage': 2167, 'complaining': 1450, 'respond': 5825, 'great location': 3191, 'brought back': 943, 'could tell': 1598, 'looks like': 4080, 'back would': 572, 'treated like': 7302, 'needless say': 4591, 'good experiences': 3052, 'signature': 6350, 'buns': 980, 'seemed': 6145, 'orders': 4897, 'pure': 5543, 'fat': 2453, 'grease': 3170, 'hands': 3309, 'cucumbers': 1693, 'fatty': 2455, 'appetizers': 376, 'stress': 6744, 'white': 7782, 'change': 1180, 'name': 4556, 'actual': 144, 'liked': 3968, 'peanuts': 5071, 'ground': 3250, 'shredded': 6325, 'inspired': 3618, 'whoever': 7787, 'benches': 708, 'middle': 4392, 'bench': 707, 'lift': 3923, 'leg': 3884, 'struggling': 6756, 'wearing': 7702, 'skirt': 6411, 'blow': 820, 'conscious': 1491, 'effort': 2124, 'return': 5853, 'something everyone': 6499, 'quite good': 5597, 'spicy pork': 6589, 'could really': 1592, 'really taste': 5688, 'little disappointed': 4000, 'way go': 7693, 'blow away': 821, 'watching': 7676, 'ins': 3608, 'dives': 1985, 'mistake': 4450, 'attack': 481, 'gives': 2963, 'cravings': 1649, 'possibly': 5363, 'country': 1607, 'cannot': 1069, 'naturally': 4564, 'chip': 1268, 'importantly': 3555, 'quirky': 5593, 'wood': 7845, 'random': 5618, 'hung': 3502, 'fry': 2828, 'breakfasts': 909, 'plenty': 5309, 'decently': 1789, 'single': 6375, 'packages': 4966, 'ugh': 7394, 'sorry': 6528, 'premium': 5400, 'damn': 1730, 'proper': 5512, 'world': 7858, 'ambiance': 295, 'couple weeks': 1614, 'weeks ago': 7718, 'fish chips': 2568, 'far away': 2441, 'looked pretty': 4070, 'good nothing': 3080, 'enough food': 2195, 'fries good': 2810, 'good great': 3063, 'tartar sauce': 6961, 'sauce came': 6041, 'service fine': 6210, 'took order': 7240, 'time get': 7139, 'going try': 3020, 'rating': 5631, 'beginning': 692, 'october': 4756, 'introduced': 3641, 'disappeared': 1950, 'entire': 2207, 'plates': 5289, 'receive': 5705, 'obviously': 4749, 'someone': 6491, 'mentioned': 4353, 'january': 3672, 'baby': 539, 'thank': 7042, 'sir': 6379, 'reminded': 5781, 'ya': 7946, 'miss': 4445, 'first time': 2564, 'table ready': 6910, 'took drink': 7235, 'drink orders': 2040, '15 minutes': 24, 'entire time': 2209, 'took long': 7238, 'time took': 7168, 'food come': 2648, 'come food': 1407, 'got two': 3140, 'five minutes': 2578, 'minutes one': 4437, 'receive food': 5706, 'said oh': 5975, 'would really': 7918, 'really like': 5675, 'service time': 6237, 'enjoyed food': 2190, 'service hit': 6215, 'hit miss': 3416, 'food good': 2665, 'party': 5023, 'decadent': 1779, 'already': 238, 'confused': 1485, 'waiting': 7599, 'cell': 1148, 'rang': 5620, 'finish': 2547, 'umm': 7400, 'shocking': 6296, 'un': 7401, 'professionalism': 5500, 'laughed': 3849, 'york': 7980, 'cappuccino': 1075, 'flavored': 2592, 'san': 6013, 'frozen': 2821, 'disappointing': 1954, 'take order': 6936, 'cell phone': 1149, 'walked away': 7617, 'around corner': 418, 'new york': 4643, 'really liked': 5676, 'great service': 3204, 'back yes': 573, 'silly': 6357, 'write': 7935, 'makeup': 4212, 'chain': 1166, 'unhappy': 7427, 'keeping': 3725, 'lid': 3919, 'hoping': 3454, 'offered': 4762, 'chose': 1290, 'brand': 892, 'sales': 5992, 'rep': 5794, 'per': 5101, 'happy': 3321, 'required': 5814, 'spend': 6577, 'asking': 454, 'touch': 7260, 'using': 7484, 'samples': 6011, 'write review': 7937, 'particular location': 5018, 'months ago': 4487, 'took back': 7234, 'something could': 6495, 'would make': 7906, 'new one': 4638, 'make appointment': 4198, 'amount money': 306, 'go one': 3000, 'one night': 4821, 'poor': 5336, 'heads': 3346, 'gourmet': 3144, 'em': 2145, 'word': 7847, 'lie': 3920, 'standard': 6647, 'coke': 1379, 'sounds': 6536, 'select': 6153, 'diet': 1902, 'cherry': 1235, 'exist': 2345, 'canada': 1061, 'cramped': 1643, 'screen': 6092, 'pretty standard': 5438, 'get really': 2926, 'flat screen': 2588, 'waxing': 7687, 'mia': 4387, 'conveniently': 1524, 'appreciated': 385, 'rarely': 5624, 'experienced': 2370, 'facility': 2406, 'pushed': 5550, 'entirely': 2210, 'windows': 7809, 'course': 1619, 'appointed': 381, 'originally': 4905, 'storage': 6730, 'closet': 1349, 'pinch': 5168, 'two times': 7382, 'times gone': 7183, 'job done': 3694, 'got home': 3133, 'pretty much': 5433, 'go place': 3003, 'place place': 5244, 'place used': 5263, 'refuse': 5750, 'management': 4225, 'sometime': 6507, 'dive': 1982, 'needed': 4587, 'stupid': 6768, 'cash': 1115, 'towel': 7275, 'continues': 1516, 'subpar': 6779, 'last year': 3834, 'half price': 3294, 'brought us': 944, 'us one': 7474, 'different items': 1906, 'rock': 5910, 'saying': 6069, 'lovely': 4120, 'earned': 2092, 'processed': 5494, 'deli': 1838, 'serving': 6243, 'mad': 4162, 'sorts': 6531, 'substitute': 6781, 'hooked': 3448, 'melted': 4341, 'inedible': 3589, 'refills': 5744, 'servers': 6188, 'nothing else': 4717, 'start saying': 6666, 'asked server': 448, 'could probably': 1590, 'hot dog': 3467, 'potato fries': 5371, 'took one': 7239, 'one bite': 4804, 'like said': 3961, 'food fine': 2660, 'yesterday': 7971, 'celebrate': 1146, 'members': 4346, 'rushed': 5959, 'refill': 5741, 'clear': 1328, 'arm': 408, 'evening': 2279, 'went first': 7752, 'nice atmosphere': 4657, 'excellent service': 2329, 'chicken salad': 1249, 'prices little': 5458, 'little high': 4005, 'five stars': 2580, 'great food': 3184, 'food great': 2667, 'great prices': 3198, 'polish': 5326, 'highlights': 3398, 'nail': 4551, 'eastern': 2100, 'accent': 114, 'talk': 6948, 'picture': 5159, 'assume': 467, 'hated': 3339, 'nope': 4703, 'washed': 7665, 'clinic': 1337, 'doctor': 1989, 'anytime': 350, 'mother': 4494, 'ends': 2179, 'filled': 2521, 'thanks': 7049, 'ultimately': 7397, 'risk': 5901, 'embarrassed': 2149, 'worst experience': 7866, 'experience ever': 2363, 'second time': 6124, 'year old': 7952, 'went home': 7756, 'said really': 5976, 'really really': 5683, 'could find': 1580, 'want take': 7641, 'even see': 2274, 'week later': 7711, 'feel like': 2483, 'kiosk': 3750, 'rather': 5629, 'list': 3988, 'suspect': 6881, 'steep': 6695, 'strange': 6738, '90': 95, 'hope': 3450, 'buying': 1010, 'buy': 1006, 'oreo': 4900, 'salted': 6002, 'managed': 4224, 'favorite': 2462, 'salty': 6005, 'stale': 6643, 'despite': 1887, 'container': 1511, 'fridge': 2776, 'luckily': 4130, 'frosting': 2820, 'easy': 2101, 'scoop': 6084, 'oven': 4926, 'dull': 2072, 'surprised': 6867, 'creativity': 1662, 'terms': 7025, 'christmas': 1294, 'designed': 1880, 'candy': 1066, 'cane': 1067, 'switch': 6900, 'sadly': 5965, 'many places': 4248, 'would pay': 7912, 'salted caramel': 6003, 'two days': 7370, 'next day': 4649, 'would expect': 7888, 'try get': 7337, 'winner': 7818, 'practically': 5390, 'loaf': 4030, 'covered': 1627, 'cinnamon': 1303, '13': 19, 'around 11': 413, 'order counter': 4872, 'type place': 7387, 'place people': 5243, 'people friendly': 5084, 'would give': 7893, 'mean': 4307, 'shot': 6315, 'iced': 3522, 'appear': 370, 'watered': 7680, 'pomegranate': 5330, 'gross': 3248, 'poured': 5384, 'sooooo': 6526, 'aroma': 410, 'peppers': 5100, 'fake': 2419, 'marks': 4269, 'beverages': 744, 'writing': 7938, 'impression': 3559, 'iced tea': 3524, 'made mistake': 4169, 'anything else': 347, 'sandwich good': 6018, 'good chicken': 3042, 'place well': 5266, 'first impression': 2558, 'sketchy': 6400, 'closes': 1347, 'sliding': 6423, 'window': 7808, 'eventually': 2283, 'generous': 2882, 'dumplings': 2076, 'sized': 6396, 'crackers': 1639, 'deserves': 1878, 'bean': 660, 'fav': 2459, 'place ever': 5213, 'wish would': 7827, 'would nice': 7910, 'entree': 2213, 'arrived': 426, 'attentive': 491, 'wine': 7810, 'chipotle': 1270, 'goat': 3010, 'pickled': 5151, 'cauliflower': 1134, 'combined': 1398, 'reasonably': 5700, 'macaroni': 4158, 'sampled': 6009, 'highlight': 3397, 'loved': 4116, 'consistency': 1498, 'spoon': 6603, 'teeth': 6998, 'comment': 1426, 'tapas': 6955, 'accordingly': 129, 'place stars': 5255, 'restaurant busy': 5833, 'goat cheese': 3011, 'wanted order': 7648, 'someone else': 6492, 'pork sandwich': 5347, 'cut fries': 1719, 'fries side': 2811, 'looked good': 4067, 'none us': 4697, 'happening': 3317, 'speak': 6559, 'pics': 5158, 'squash': 6617, 'bulgogi': 974, 'steak': 6686, 'raw': 5639, 'expecting': 2358, 'assumed': 468, 'lightly': 3929, 'matter': 4288, 'heaven': 3358, 'moves': 4501, 'adventurous': 173, 'bartender': 632, 'creating': 1660, 'splitting': 6599, 'alcoholic': 217, 'beverage': 743, 'extremely': 2391, 'reasonable': 5697, 'ideas': 3529, 'got us': 3141, 'maybe little': 4296, 'place looks': 5232, 'go food': 2992, 'cheese steak': 1226, 'fresh delicious': 2760, 'drink menu': 2038, 'want give': 7636, 'food back': 2640, 'curious': 1705, 'helped': 3369, 'courses': 1621, 'strong': 6751, 'vinegar': 7551, 'jalapenos': 3667, 'indian': 3579, 'remember': 5777, 'shell': 6284, 'meals': 4306, 'sauces': 6047, 'worked': 7852, 'tough': 7264, 'coffees': 1378, 'stone': 6722, 'basket': 643, 'popcorn': 5340, 'snack': 6464, 'totally': 7257, 'regularly': 5761, 'destination': 1891, 'ones': 4840, 'mind': 4417, 'messy': 4375, 'four people': 2736, 'took us': 7243, 'helped us': 3370, 'huge fan': 3493, 'main course': 4185, 'ordered two': 4895, 'food delicious': 2653, 'every one': 2297, 'one us': 4836, 'food ordered': 2681, 'almost like': 233, 'would totally': 7927, 'sure good': 6856, 'good ones': 3082, 'nicely': 4676, 'decorated': 1805, 'feature': 2471, 'step': 6698, 'bottom': 870, 'besides': 716, 'quickly': 5590, 'wash': 7664, 'throw': 7107, 'necessarily': 4576, 'important': 3554, 'skipped': 6410, 'chorizo': 1289, 'float': 2604, 'ridiculous': 5881, 'apparently': 367, 'pieces': 5163, 'cover': 1626, 'blueberry': 829, 'fancy': 2436, 'rounded': 5934, 'blueberries': 828, 'maple': 4254, 'guessing': 3271, 'present': 5409, 'created': 1659, 'ease': 2096, 'juicy': 3710, 'meaty': 4319, 'soda': 6474, 'layers': 3854, 'particularly': 5019, 'nicely decorated': 4677, 'get drink': 2904, 'burger fries': 982, 'ordered side': 4893, 'food still': 2693, 'whipped cream': 7780, 'maple syrup': 4255, 'wait long': 7587, 'lunch dinner': 4139, 'finished': 2548, 'bs': 957, 'owner': 4952, 'responded': 5826, 'zero': 7991, 'sense': 6166, 'emails': 2148, 'instagram': 3619, 'body': 836, 'models': 4460, 'comments': 1428, 'stock': 6717, 'shipping': 6290, 'chosen': 1291, 'charging': 1191, 'advantage': 171, 'rules': 5947, 'least': 3871, 'address': 157, 'code': 1372, 'frustration': 2827, 'research': 5816, 'dress': 2030, 'success': 6785, 'forth': 2725, 'request': 5810, 'channel': 1184, 'remaining': 5776, 'credit': 1663, 'stated': 6674, 'repeated': 5800, 'letter': 3908, 'via': 7537, 'cents': 1154, 'decide': 1790, 'benefit': 710, 'doubt': 2008, 'thoughts': 7094, 'rate': 5626, 'officially': 4770, 'sincerely': 6372, 'shopping': 6302, 'clothes': 1352, 'insanely': 3610, 'life': 3921, 'turning': 7361, 'blame': 802, 'deserve': 1877, 'frankly': 2744, 'loose': 4081, 'fabric': 2398, 'incorrect': 3573, 'greater': 3218, 'degree': 1834, 'respect': 5824, 'phone call': 5141, 'made think': 4174, 'hard time': 3330, 'many times': 4251, 'seemed like': 6147, 'back forth': 550, 'hours later': 3483, 'benefit doubt': 711, 'service well': 6239, 'well think': 7743, 'good quality': 3093, 'bistro': 776, 'nutella': 4742, 'latte': 3845, 'ish': 3651, 'slight': 6424, 'hazelnut': 3342, 'pistachio': 5175, 'specific': 6573, 'added': 151, 'went dinner': 7750, 'menu ordered': 4364, 'large selection': 3816, 'would great': 7899, 'know know': 3762, 'place would': 5268, 'whim': 7778, 'rated': 5627, 'calling': 1036, 'la': 3779, 'answered': 334, 'kick': 3732, 'lucky': 4131, 'sticky': 6707, 'underneath': 7412, 'shoes': 6298, 'sticking': 6705, 'quesadilla': 5578, 'guacamole': 3265, 'guac': 3264, 'houses': 3486, 'club': 1354, 'described': 1873, 'opposite': 4860, 'lay': 3852, 'relaxed': 5770, 'basement': 637, 'july': 3711, 'fridays': 2775, 'jam': 3669, 'saturdays': 6039, 'dance': 1733, 'hip': 3409, 'playing': 5296, 'older': 4791, 'hanging': 3313, 'drinking': 2043, 'match': 4286, 'potential': 5374, 'shame': 6273, 'sangria': 6023, 'secret': 6128, 'recipe': 5715, 'trips': 7320, 'future': 2846, 'parties': 5020, 'mexican food': 4382, 'around see': 419, 'see could': 6134, 'could take': 1596, 'us another': 7462, 'another 15': 321, 'place order': 5241, 'minutes food': 4434, 'nothing write': 4725, 'write home': 7936, 'back area': 545, 'sign front': 6348, 'music playing': 4537, 'would want': 7930, 'like nice': 3954, 'better service': 742, 'giving place': 2965, 'two stars': 7379, 'freezing': 2751, 'aioli': 205, 'savoury': 6058, 'black': 795, 'parmesan': 5012, 'suggested': 6797, 'cuts': 1722, 'complimentary': 1459, 'went lunch': 7758, 'atmosphere nice': 478, 'told us': 7215, 'said could': 5971, 'side dish': 6338, 'ordered salad': 4892, 'sweet taste': 6890, 'good overall': 3084, 'black pepper': 798, 'time sure': 7164, 'friend said': 2788, 'try something': 7345, 'something else': 6498, 'another time': 330, 'initially': 3603, 'pleasure': 5307, 'italy': 3658, 'feels': 2488, 'martini': 4275, 'hungry': 3503, 'feeling': 2485, 'wanting': 7651, 'alcohol': 216, 'shall': 6272, 'repeat': 5799, 'account': 130, 'food like': 2670, 'good time': 3113, 'time service': 7160, 'figure': 2512, 'card': 1084, 'directions': 1946, 'proceeded': 5492, 'confusing': 1486, 'turns': 7363, 'skills': 6404, 'screwed': 6095, 'among': 302, 'bet': 731, 'bothering': 864, 'many good': 4244, 'good reviews': 3097, 'call back': 1031, 'credit card': 1664, 'called back': 1034, 'thing would': 7066, 'either way': 2134, 'side note': 6341, 'want go': 7637, 'bad food': 583, 'together': 7209, 'lattes': 3847, 'hard get': 3328, 'food items': 2669, 'coffee shops': 1376, 'surrounding': 6873, 'trendy': 7309, 'sides': 6344, 'swiss': 6899, 'bowls': 881, 'sampler': 6010, 'decided come': 1792, 'great little': 3189, 'nice little': 4668, 'restaurant clean': 5834, 'never felt': 4616, 'like good': 3944, 'good idea': 3066, 'everything great': 2313, 'enough people': 2197, 'two people': 7376, 'service fast': 6209, 'good everything': 3050, 'coupon': 1617, '99': 97, 'effect': 2122, 'surely': 6862, 'karaoke': 3719, 'stage': 6641, 'screaming': 6091, 'dinners': 1935, 'therefore': 7056, 'putting': 5555, 'overpriced': 4945, 'drunk': 2062, 'experience would': 2369, 'would given': 7894, 'three times': 7100, 'many people': 4247, 'think much': 7075, 'much say': 4523, 'say place': 6068, 'newer': 4644, 'combos': 1400, 'consistent': 1499, 'likely': 3970, 'comparable': 1438, 'spinach': 6593, 'feta': 2500, 'breakfast brunch': 904, 'service food': 6211, 'good one': 3081, 'usually get': 7487, 'get two': 2932, 'good although': 3031, 'feta cheese': 2501, 'could taste': 1597, 'listen': 3990, 'bagels': 592, 'bagel': 591, 'glad': 2967, 'die': 1900, 'fans': 2437, 'higher': 3394, 'power': 5389, 'good good': 3061, 'fun place': 2839, 'go pick': 3002, 'place get': 5218, 'get drinks': 2905, 'would try': 7928, 'probably go': 5483, 'go way': 3008, 'place much': 5236, 'method': 4378, 'sticker': 6704, 'toes': 7206, 'rough': 5931, 'fingers': 2546, 'hurt': 3508, 'becoming': 675, 'circle': 1304, 'gel': 2876, 'easily': 2098, 'ripped': 5899, 'caught': 1133, 'edges': 2119, 'really needed': 5681, 'also bit': 242, 'way much': 7697, 'really need': 5680, 'need something': 4585, 'great job': 3188, 'lover': 4121, 'cities': 1306, 'combination': 1396, 'modern': 4463, 'collection': 1387, 'surprisingly': 6870, 'stood': 6723, 'national': 4562, 'gallery': 2850, 'hey': 3382, 'spoiled': 6601, 'small pieces': 6437, 'maybe even': 4295, 'aside': 443, 'north': 4708, 'ordered food': 4887, 'food quality': 2687, 'booths': 855, 'trays': 7297, 'roast': 5906, 'meats': 4318, 'pizzas': 5188, 'showing': 6322, 'stellar': 6697, 'stopped': 6726, 'place huge': 5227, 'waste money': 7668, 'close would': 1344, 'make point': 4203, 'order food': 4873, 'food go': 2664, 'roast beef': 5907, 'good get': 3059, 'food never': 2676, 'popped': 5341, 'suck': 6788, 'purple': 5545, 'feedback': 2479, 'led': 3878, 'feet': 2491, 'metal': 4377, 'mixing': 4454, 'pedicure': 5076, 'push': 5549, '60': 87, 'facilities': 2405, 'regulars': 5762, 'salons': 5996, 'popping': 5342, 'built': 973, 'trying get': 7348, 'right away': 5888, 'place worth': 5267, 'reason go': 5695, 'cheeses': 1230, 'till': 7123, 'penne': 5079, 'toddler': 7204, 'hates': 3340, 'natural': 4563, 'son': 6514, 'chatted': 1199, 'places area': 5272, 'food place': 2682, 'restaurant good': 5836, 'arrived around': 427, 'informed us': 3596, 'lunch place': 4142, 'one star': 4831, 'indeed': 3578, 'margherita': 4260, 'olive': 4793, 'mozzarella': 4505, 'provolone': 5524, 'tomatoes': 7222, 'basil': 641, 'shake': 6269, 'jar': 3676, 'hesitate': 3380, 'really delicious': 5664, 'olive oil': 4795, 'bomb': 841, 'stylist': 6775, 'goes': 3013, 'figured': 2513, 'lighter': 3927, 'darker': 1746, 'apparent': 366, 'brown': 945, '150': 25, 'hardly': 3332, 'results': 5849, 'pulled': 5531, 'strips': 6750, 'sections': 6130, 'fix': 2581, 'root': 5926, 'trust': 7330, 'search': 6102, 'couple times': 1613, 'sometimes get': 6509, 'get great': 2913, 'looking new': 4075, 'went back': 7748, 'third time': 7082, 'something little': 6501, 'last times': 3829, 'rushing': 5960, 'assuming': 469, 'promptly': 5511, 'mussels': 4539, 'tender': 7017, 'fell': 2492, 'twist': 7368, 'fork': 2720, 'limited': 3977, 'mildly': 4405, 'satisfied': 6032, 'notice': 4726, 'date': 1748, 'stars would': 6663, 'overall experience': 4928, 'would probably': 7916, 'waitress friendly': 7607, 'salad good': 5987, 'meat tender': 4315, 'make home': 4200, 'food much': 2675, 'waitress nice': 7608, 'little better': 3996, 'treat': 7299, '48': 78, 'confirmed': 1483, 'cancel': 1062, 'guests': 3273, '28': 54, 'pretentious': 5417, 'daily': 1726, 'celebrating': 1147, 'deserts': 1876, 'fondue': 2629, 'heavenly': 3359, '10 people': 8, 'see many': 6135, 'coming since': 1422, 'wanted go': 7646, 'amazing place': 292, 'black white': 799, 'birthday dinner': 771, 'mediocre': 4323, 'split': 6598, 'tricky': 7311, 'pear': 5072, 'good atmosphere': 3033, 'slow service': 6432, 'taking order': 6946, 'bit like': 782, 'find good': 2537, 'place eat': 5210, 'spa': 6551, 'styled': 6772, 'bridal': 923, 'shower': 6321, 'services': 6242, 'years since': 7958, 'since first': 6367, 'first opened': 2561, 'birthday party': 772, 'completely different': 1456, 'always great': 278, 'like get': 3941, 'would love': 7904, 'love see': 4115, 'poisoning': 5321, 'state': 6673, 'finger': 2545, 'shortly': 6313, 'concert': 1468, 'convenient': 1522, 'truly': 7329, 'burrito': 991, 'sour': 6542, 'good little': 3070, 'food poisoning': 2683, 'come get': 1408, 'let say': 3903, 'place got': 5223, 'service quite': 6230, 'food would': 2705, 'could made': 1585, 'sour cream': 6543, 'rice beans': 5873, 'balls': 607, 'waffle': 7575, 'blend': 808, 'sweetness': 6895, 'blended': 809, 'peas': 5073, 'refreshing': 5746, 'sigh': 6345, 'potato salad': 5372, 'nice touch': 4675, 'deciding': 1800, 'recommendation': 5724, 'wear': 7701, 'drop': 2057, 'enter': 2200, 'lounge': 4102, 'brick': 922, 'pre': 5393, 'hand': 3303, 'eyes': 2397, 'adjust': 162, 'task': 6964, 'blind': 813, 'challenge': 1172, 'mouth': 4497, 'lost': 4087, 'lap': 3809, 'issues': 3654, 'becomes': 674, 'forgettable': 2717, 'require': 5813, 'entering': 2202, 'seeing': 6140, 'become': 673, 'little different': 3999, 'time good': 7143, 'place really': 5246, 'never even': 4614, 'even get': 2267, 'food even': 2656, 'even think': 2275, 'place food': 5217, 'taste great': 6970, 'would liked': 7903, 'end meal': 2170, 'yes know': 7970, 'know would': 3764, 'starving': 6672, 'fare': 2443, 'meets': 4333, 'wooden': 7846, 'holds': 3424, 'describe': 1872, 'curry': 1710, 'mild': 4404, 'hate': 3338, 'crisp': 1673, 'killed': 3739, 'dollars': 1995, 'admit': 164, 'trend': 7308, 'child': 1254, 'situation': 6393, 'ignoring': 3535, 'suffer': 6792, 'individuals': 3583, 'nearby': 4570, 'breath': 913, 'solved': 6488, 'kids': 3737, 'adjacent': 161, 'dining': 1926, 'doors': 2006, 'shut': 6331, 'annoyed': 317, 'stayed': 6682, 'knows': 3770, 'bit expensive': 781, 'chicken curry': 1243, 'asked wanted': 452, 'cheese burger': 1219, 'good burger': 3040, 'place another': 5194, 'people restaurant': 5090, 'could easily': 1577, 'dining room': 1929, 'looked great': 4068, 'us ordered': 7475, 'probably would': 5488, 'granted': 3162, 'driven': 2052, 'million': 4412, 'glance': 2969, 'impressions': 3560, 'halloween': 3299, 'decorations': 1808, 'wonton': 7844, 'husbands': 3514, 'fifteen': 2507, 'apologies': 360, 'tag': 6922, 'bones': 845, 'difficult': 1911, 'straw': 6739, 'reach': 5642, 'flag': 2583, 'stick': 6703, 'strawberries': 6740, 'aunt': 499, 'bills': 767, 'forgot': 2718, 'staring': 6659, 'ceiling': 1143, 'chatting': 1200, 'cleared': 1329, 'young': 7981, 'asian': 440, 'swear': 6883, 'creepy': 1666, 'dude': 2070, 'google': 3125, 'boys': 888, 'times never': 7184, 'first impressions': 2559, 'seated right': 6115, 'clean modern': 1320, 'menu looked': 4362, 'people come': 5082, 'ordered drinks': 4886, 'drinks ordered': 2048, 'took another': 7233, 'fifteen minutes': 2508, 'price tag': 5451, 'glass wine': 2972, 'half way': 3295, 'come check': 1404, 'could get': 1581, 'get us': 2933, 'vanilla ice': 7501, 'never came': 4609, 'order one': 4876, 'went get': 7754, 'service poor': 6226, 'never return': 4626, 'one another': 4801, 'rent': 5790, 'school': 6083, 'events': 2282, 'knowledgeable': 3768, 'criticism': 1675, 'equipment': 2224, 'shabby': 6266, 'rental': 5791, 'annoying': 318, 'unnecessary': 7438, 'policy': 5325, 'workers': 7854, 'time time': 7166, 'friendly knowledgeable': 2797, 'prices reasonable': 5459, 'wait get': 7583, 'peak': 5065, 'advised': 179, 'produce': 5495, 'eye': 2393, 'several times': 6261, 'never bad': 4608, 'bad experience': 582, 'review place': 5859, 'seems like': 6151, 'like many': 3951, 'bad service': 587, 'service even': 6205, 'place never': 5237, 'attentive service': 494, 'times really': 7185, 'also great': 250, 'awesome': 530, 'accommodating': 125, 'desert': 1875, 'attached': 480, 'loves': 4123, 'awesome place': 531, 'always friendly': 274, 'friendly accommodating': 2790, 'amazed': 287, 'popular': 5343, '24': 47, 'fills': 2524, 'flavorful': 2593, 'leaves': 3876, 'desired': 1883, 'serves': 6190, 'purpose': 5546, 'open 24': 4850, '24 hours': 49, 'late night': 3840, 'one places': 4827, 'get something': 2930, 'something eat': 6497, 'assure': 470, 'homeless': 3438, 'dealing': 1773, 'noted': 4714, 'stopped lunch': 6727, 'friendly food': 2795, 'get lot': 2917, 'live close': 4018, 'probably order': 5486, 'nearly': 4572, '40': 69, 'tourist': 7267, 'beauty': 671, 'suppose': 6842, 'photo': 5143, 'vegas strip': 7515, 'first visit': 2566, 'recently': 5711, 'automatically': 504, 'enjoyed experience': 2189, 'friendly attentive': 2792, 'attentive food': 492, 'great also': 3174, 'speed': 6576, 'joints': 3701, 'fashioned': 2447, 'times always': 7180, 'sure check': 6851, 'get order': 2923, 'inside place': 3614, 'old fashioned': 4788, 'trail': 7287, 'follow': 2625, 'recall': 5703, 'hike': 3403, 'gain': 2848, 'link': 3985, 'http': 3489, 'www': 7944, 'cooler': 1547, 'shade': 6267, 'killer': 3740, 'http www': 3490, 'challenging': 1173, 'peaks': 5067, 'wanna': 7630, 'gonna': 3028, 'views': 7547, 'red rock': 5733, 'well worth': 7744, 'near': 4569, 'struck': 6754, 'sooo': 6523, 'oxtail': 4956, 'sample': 6008, 'compliment': 1458, 'fusion': 2844, 'always seems': 286, 'visit place': 7557, 'sooo good': 6524, 'say good': 6064, 'give two': 2960, 'food decent': 2651, 'one best': 4802, 'say least': 6065, 'service decent': 6201, 'decent food': 1783, 'burger place': 984, 'occasionally': 4752, 'forced': 2712, 'advice': 177, 'wee': 7709, 'order wrong': 4881, 'avoid place': 524, 'right across': 5886, 'one favorite': 4809, 'saved': 6055, 'letting': 3909, 'staff pleasant': 6635, 'quite bit': 5595, 'telling': 7004, 'emailed': 2147, 'steal': 6690, 'food ready': 2688, 'back asked': 546, 'stay away': 6681, 'satisfying': 6034, 'quick service': 5589, 'service friendly': 6212, 'friendly enough': 2794, 'staff seemed': 6637, 'fashion': 2446, 'purchases': 5541, 'corn': 1553, 'look around': 4061, 'fairly': 2416, 'topping': 7248, 'lol': 4049, 'staffed': 6639, 'tooth': 7244, 'place right': 5248, 'sandwich shop': 6021, 'short staffed': 6310, 'time one': 7153, 'person working': 5116, 'get attention': 2895, 'hours day': 3482, 'sweet tooth': 6891, 'mountain': 4495, 'workout': 7856, 'details': 1893, 'hiking': 3404, 'slip': 6427, 'rocks': 5911, 'dangerous': 1738, 'company': 1437, 'planned': 5281, 'buffet': 968, 'opted': 4862, 'hash': 3334, 'reviewed': 5860, 'shows': 6324, 'item': 3659, 'south': 6545, 'companions': 1436, 'patrons': 5052, 'lunch today': 4148, 'hour half': 3476, 'chicken waffles': 1252, 'time tried': 7169, 'good well': 3117, 'long wait': 4057, 'place find': 5215, 'find food': 2536, 'place clean': 5204, 'definitely give': 1822, 'boulder': 875, 'gas': 2865, 'play': 5292, 'antique': 339, 'plan': 5278, 'gift': 2942, 'never actually': 4607, 'one first': 4811, 'friendly helpful': 2796, 'went way': 7763, 'tell us': 7002, 'welcome': 7723, 'retail': 5850, 'complain': 1448, 'lessons': 3898, 'made us': 4175, 'us feel': 7467, 'feel welcome': 2484, 'upon entering': 7452, 'half dozen': 3290, 'big group': 757, 'always make': 280, 'place could': 5208, 'could use': 1600, 'burn': 987, 'forward': 2727, 'meaning': 4308, 'mandalay': 4229, 'bay': 653, 'count': 1603, 'suggest': 6796, 'mcdonalds': 4301, 'work area': 7850, 'mandalay bay': 4230, 'wait food': 7582, 'french fries': 2754, 'try another': 7334, 'another one': 325, 'usual': 7485, 'court': 1622, 'casino': 1119, 'opening': 4853, 'visits': 7562, 'food court': 2650, 'well never': 7736, 'never tried': 4629, 'news': 4647, 'improve': 3562, 'well good': 7730, 'good part': 3085, 'best thing': 728, 'people would': 5096, 'much like': 4519, 'never order': 4622, 'pm': 5315, 'reserved': 5820, 'concerned': 1466, 'fortunately': 2726, 'wanting try': 7652, 'day would': 1758, 'would perfect': 7913, 'time left': 7148, '40 minutes': 70, 'seat us': 6112, 'us right': 7477, 'professional friendly': 5499, 'food mediocre': 2673, 'food arrive': 2636, 'quality food': 5561, 'overall really': 4935, 'visited': 7558, 'visited place': 7559, 'place since': 5251, 'food average': 2638, 'service usually': 6238, 'get check': 2902, 'definitely go': 1823, 'discuss': 1961, 'merchandise': 4368, 'sounded': 6534, 'movie': 4502, 'theatre': 7053, 'establishment': 2241, 'convention': 1526, 'ceilings': 1144, 'remind': 5780, 'casinos': 1121, 'cared': 1091, 'grounds': 3251, 'encountered': 2166, 'great bar': 3176, 'depending': 1867, 'fitness': 2574, 'level': 3914, 'lake': 3799, 'dozen times': 2018, 'get work': 2934, 'leaving': 3877, 'mood': 4490, 'bbq': 654, 'perusing': 5124, 'ribs': 5871, 'bottle': 865, 'passed': 5029, 'prefer': 5396, 'cole': 1382, 'slaw': 6416, 'bottles': 869, 'cans': 1071, 'yelp review': 7964, 'way home': 7694, 'small place': 6438, 'wanted get': 7644, 'little bit': 3997, 'cole slaw': 1383, 'part meal': 5015, 'bit dry': 780, 'great would': 3217, 'everyday': 2302, 'blt': 825, 'eater': 2109, 'smiled': 6451, 'way work': 7698, 'decided stop': 1797, 'like old': 3955, 'left us': 3881, 'us coming': 7465, 'friendly staff': 2803, 'moved': 4500, 'needing': 4589, 'haircut': 3288, 'selected': 6154, 'arriving': 429, 'younger': 7984, 'questions': 5582, 'another place': 326, 'get hair': 2914, 'like great': 3945, '00': 0, 'fee': 2477, 'informative': 3594, 'enjoyable': 2187, 'outdoor': 4914, 'displays': 1975, 'ghost': 2940, 'grabbed': 3152, 'quick bite': 5586, 'bars': 631, 'nights': 4688, 'james': 3671, 'thank god': 7043, 'enthusiasm': 2205, 'activities': 141, 'tire': 7197, 'enthusiastic': 2206, 'probably best': 5481, 'people like': 5088, 'one two': 4835, 'packed': 4968, 'squeeze': 6618, 'nowhere': 4735, 'ignore': 3533, 'mold': 4467, 'drink bar': 2036, 'quite tasty': 5601, 'star rating': 6655, 'area looking': 399, 'place nice': 5238, 'nice enough': 4662, 'pot': 5368, 'board': 831, 'tonight': 7227, 'hostesses': 3464, 'learn': 3867, 'smile': 6449, 'bit slow': 786, 'wait time': 7592, '20 minutes': 36, 'history': 3414, 'clean place': 1321, 'back enjoy': 548, 'mongolian': 4479, 'pad': 4970, 'cha': 1164, 'prompt': 5508, 'service prompt': 6228, 'prompt friendly': 5509, 'common': 1430, 'wheat': 7772, 'ounce': 4912, 'silver': 6358, 'salesman': 5993, 'spending': 6580, 'key': 3730, 'dates': 1751, 'great deal': 3179, 'definitely come': 1819, 'pace': 4962, 'many years': 4252, 'looking forward': 4072, 'since opened': 6370, 'fast friendly': 2450, 'brand new': 893, 'good experience': 3051, 'experience service': 2368, 'always clean': 270, 'clean food': 1319, 'food always': 2634, 'toys': 7280, 'trees': 7307, 'great time': 3209, 'compare': 1439, 'next door': 4650, 'time place': 7156, 'neat': 4574, 'tried place': 7313, 'really impressed': 5673, 'clean staff': 1322, 'recent': 5709, 'recent visit': 5710, 'fairly quickly': 2417, 'unimpressed': 7429, 'throwing': 7108, 'appeal': 368, 'love good': 4111, 'back since': 565, 'plus side': 5313, 'friendly quick': 2801, 'give another': 2955, 'another try': 331, 'sorta': 6530, 'denny': 1861, 'pricier': 5461, 'looking place': 4076, 'good portions': 3090, 'clientele': 1334, 'phenomenal': 5136, 'good work': 3118, 'hundred': 3500, 'prime': 5467, 'rib': 5868, 'crust': 1687, 'mom': 4468, 'food okay': 2678, 'salad bar': 5984, 'baked potato': 598, 'prime rib': 5468, 'cheese cake': 1220, 'seemed enjoy': 6146, 'nothing great': 4720, '2012': 39, 'closer': 1346, 'times since': 7186, 'bar food': 622, 'meeting': 4332, 'minimal': 4421, 'donut': 2003, 'early morning': 2091, 'also thought': 261, 'service staff': 6234, 'lanes': 3807, 'lane': 3806, 'recently went': 5713, 'watering': 7681, 'home work': 3437, 'great spot': 3205, 'personality': 5119, 'gambling': 2853, 'two us': 7383, 'dining experience': 1928, 'get better': 2898, 'prompt service': 5510, 'creek': 1665, 'center': 1151, 'mt': 4509, 'charleston': 1192, 'changing': 1183, 'construction': 1504, 'pond': 5331, 'concrete': 1471, 'dirt': 1948, 'owners': 4953, 'loved place': 4119, 'good thing': 3109, 'run around': 5950, 'chain restaurant': 1167, 'restaurant food': 5835, 'would return': 7920, 'quick lunch': 5588, 'place busy': 5202, 'seated immediately': 6114, 'good sign': 3102, 'also try': 263, 'better food': 735, 'pies': 5164, 'food arrived': 2637, '30 minutes': 61, 'man': 4222, 'upbeat': 7443, 'young man': 7983, 'anything special': 349, 'see one': 6136, 'quiet': 5591, 'aged': 186, 'kicked': 3733, 'noisy': 4693, 'neighbors': 4599, 'blasting': 807, 'bass': 645, 'get much': 2919, 'panda': 4993, 'nothing spectacular': 4724, 'amount time': 307, 'maybe try': 4297, 'time see': 7159, 'west': 7764, 'remained': 5775, 'cheerful': 1217, 'west side': 7766, 'food worth': 2704, 'even busy': 2263, 'sing': 6373, 'service slow': 6233, 'lot food': 4090, 'food also': 2633, 'wisconsin': 7823, 'food menu': 2674, 'ignored': 3534, 'uncomfortable': 7410, 'silverware': 6359, 'neighbor': 4597, 'slide': 6421, 'cheeseburger': 1227, '10 minutes': 7, 'minutes get': 4435, 'arrives': 428, 'never problem': 4623, 'go early': 2988, 'trash': 7293, 'inquired': 3607, 'go ahead': 2982, 'overall great': 4931, 'place little': 5229, 'easy access': 2102, 'lots people': 4098, 'people also': 5081, 'taco bell': 6918, 'bored': 857, 'areas': 403, 'appears': 373, 'impressive': 3561, 'sale': 5991, 'tourists': 7268, 'according': 128, 'assured': 471, 'entertaining': 2203, 'place first': 5216, 'keep mind': 3724, 'walk around': 7614, 'around area': 417, 'recommended': 5726, 'highly recommended': 3401, 'coworkers': 1630, 'invited': 3644, 'join': 3698, 'current': 1707, 'stepped': 6699, 'dingy': 1925, 'assorted': 465, 'jobs': 3695, 'positive': 5360, 'place called': 5203, 'expecting much': 2359, 'part town': 5016, 'college': 1388, 'scrumptious': 6096, 'place looking': 5231, 'place like': 5228, 'nuts': 4743, 'pretty quick': 5435, 'big deal': 754, 'smell': 6444, 'restroom': 5845, 'overpowering': 4944, 'today lunch': 7203, 'comes back': 1413, 'star review': 6656, 'mostly': 4493, 'side town': 6343, 'good fast': 3053, 'adequate': 160, 'greek': 3221, 'american': 299, 'like place': 3958, 'find something': 2539, 'thru': 7110, 'speakers': 6562, 'parked': 5006, 'drive thru': 2051, 'high quality': 3392, 'would gotten': 7898, 'lobby': 4031, 'time ever': 7135, 'store clean': 6732, 'time need': 7152, 'accurate': 131, 'glasses': 2973, 'blackened': 800, 'piping': 5172, 'fill': 2520, 'terrific': 7030, 'recommending': 5728, 'environment': 2219, 'keeps': 3726, 'hotel casino': 3472, 'one little': 4819, 'four stars': 2737, 'overly sweet': 4941, 'pretty cool': 5425, 'time food': 7137, 'food order': 2680, 'pot pie': 5369, 'piping hot': 5173, 'experience good': 2365, 'good hot': 3064, 'shown': 6323, 'remembered': 5779, 'ever eaten': 2286, 'us like': 7473, 'cap': 1073, 'nothing fancy': 4718, 'room clean': 5921, 'got little': 3134, 'right next': 5891, 'stopping': 6728, 'closest': 1348, 'stocked': 6718, 'gas station': 2866, 'well stocked': 7742, 'good spot': 3105, 'staff always': 6627, 'lobster': 4032, 'sandwhich': 6016, 'hollywood': 3431, 'mile': 4406, 'words': 7848, 'yum': 7986, 'yum yum': 7987, 'regular basis': 5760, 'would get': 7892, 'place good': 5222, 'unpleasant': 7439, 'gyro': 3281, 'discovered': 1960, 'cause': 1135, 'servings': 6245, 'learning': 3869, 'declined': 1803, 'decided take': 1798, 'favorite places': 2466, 'see place': 6138, 'place looked': 5230, 'bad place': 585, 'place lunch': 5234, 'luck': 4129, 'register': 5756, 'rare': 5623, 'service would': 6241, 'food served': 2691, 'finally went': 2533, 'asked could': 447, 'magical': 4180, 'chilly': 1262, 'times year': 7189, 'worried': 7860, 'go eat': 2989, 'lot like': 4092, 'like places': 3959, 'service fantastic': 6208, 'frequently': 2758, 'continue': 1514, 'starters': 6669, 'view': 7546, 'budget': 964, 'walking around': 7621, 'place stay': 5256, 'throughout': 7106, '35': 65, 'selections': 6157, 'told could': 7214, 'could sit': 1595, 'salsa': 5997, 'upset': 7456, 'margarita': 4258, 'event': 2281, 'hopefully': 3452, 'invest': 3642, 'margaritas': 4259, 'excalibur': 2326, 'negatives': 4595, 'gold': 3022, 'value': 7499, 'bonus': 847, 'pleasantly': 5302, 'wise': 7824, 'laid': 3797, 'pleasantly surprised': 5303, 'years come': 7955, 'performers': 5111, 'low': 4125, 'fair': 2414, 'local': 4034, 'ways': 7699, 'less expensive': 3896, 'put together': 5553, 'location always': 4042, 'always packed': 283, 'stunning': 6767, 'bit much': 783, 'bikes': 764, 'helping': 3374, 'confusion': 1487, 'ringing': 5896, 'smooth': 6460, 'transaction': 7292, 'days ago': 1760, 'seemed little': 6148, 'go inside': 2997, 'primarily': 5465, '21': 43, 'evenings': 2280, 'yelling': 7960, 'acting': 138, 'get away': 2896, 'friday saturday': 2774, 'place packed': 5242, 'hard find': 3327, 'drink food': 2037, 'food tried': 2698, 'holy': 3432, 'bang': 615, 'buck': 959, 'service super': 6235, 'super fast': 6826, 'connection': 1489, 'directed': 1944, 'flour': 2609, 'fail': 2411, 'one hour': 4816, 'anniversary': 316, 'oysters': 4958, 'ahi': 195, 'tuna': 7356, 'best time': 729, 'ahi tuna': 196, 'sea bass': 6099, 'came quickly': 1053, 'noises': 4692, 'roof': 5918, 'elevator': 2139, 'eh': 2131, 'haha': 3285, 'super nice': 6830, 'thing really': 7065, 'sounds like': 6537, 'minute wait': 4428, 'anyone else': 344, 'february': 2475, 'dad': 1725, 'tons': 7228, 'noon': 4702, 'way back': 7690, 'tempted': 7011, 'foremost': 2713, 'balcony': 604, 'offers': 4765, 'met': 4376, 'impress': 3557, 'thing place': 7064, 'really cool': 5663, 'bottom line': 871, 'hurry': 3507, 'could make': 1586, 'downside': 2013, 'wait minutes': 7588, 'place sit': 5252, 'one would': 4839, 'would say': 7921, 'terribly': 7029, 'waiters': 7598, 'courteous': 1623, 'good care': 3041, 'care us': 1090, 'cuisine': 1694, 'vegetarians': 7520, 'caesar': 1016, 'relatively': 5767, 'wish could': 7826, 'could give': 1582, 'pancake': 4991, 'squeezed': 6619, 'time around': 7128, 'checked us': 1211, 'sam': 6006, 'trim': 7316, 'hair cut': 3287, 'attending': 488, 'midwest': 4396, 'went last': 7757, 'last week': 3832, 'right front': 5890, 'also delicious': 244, 'two meals': 7374, 'also fantastic': 246, 'three different': 7097, 'taken care': 6941, 'recently moved': 5712, 'never going': 4619, 'back home': 553, 'delicious food': 1842, 'eats': 2114, 'vibe place': 7539, 'great view': 3212, 'five star': 2579, 'server attentive': 6182, 'begin': 691, 'health': 3347, 'nut': 4741, 'browns': 948, 'opinion': 4857, 'midnight': 4395, 'essentially': 2235, 'blowing': 822, 'clock': 1338, 'hash browns': 3335, 'good tried': 3114, 'place come': 5206, 'cool atmosphere': 1544, 'mind blowing': 4418, 'sure back': 6850, 'back many': 556, 'extraordinary': 2388, 'assistance': 461, 'came first': 1046, 'forward trying': 2728, 'moment': 4470, 'little small': 4012, 'veggie burger': 7522, 'burger good': 983, 'like location': 3948, 'wonder': 7838, 'great first': 3182, 'appreciate': 384, 'deliciousness': 1847, 'pizza place': 5187, 'place love': 5233, 'wait come': 7581, 'upstairs': 7458, 'teas': 6994, 'kinds': 3747, 'adorable': 166, 'like one': 3956, 'different kinds': 1907, 'delicious well': 1845, 'look forward': 4062, 'back maybe': 557, 'bummer': 976, 'ran': 5616, 'liked place': 3969, 'beer wine': 684, 'drenched': 2029, 'favorite place': 2465, 'theaters': 7052, 'missed': 4446, 'pointed': 5319, 'assortment': 466, 'theater': 7051, 'palms': 4988, 'believe': 700, 'get pretty': 2925, 'food drink': 2654, 'never get': 4617, 'get anything': 2894, 'take advantage': 6927, 'venetian': 7527, 'trio': 7317, 'player': 5294, 'enjoying': 2192, 'ravioli': 5638, 'asparagus': 457, 'tiramisu': 7196, 'place stop': 5258, 'couple months': 1612, 'enjoyed meal': 2191, 'good choice': 3043, 'flatbread': 2589, 'good nice': 3079, 'remember name': 5778, 'fremont': 2752, 'bands': 614, 'sexy': 6264, 'shoot': 6299, 'cigarette': 1301, 'smoking': 6458, 'meh': 4335, 'vendors': 7526, 'gotta': 3142, 'might want': 4399, 'every single': 2298, 'breaded': 898, 'dipping': 1938, 'dined': 1922, 'whatsoever': 7771, 'fluke': 2615, 'dine': 1921, 'friend got': 2785, 'dipping sauces': 1940, 'dish really': 1967, 'like going': 3943, 'parts': 5022, 'dark chocolate': 1745, 'really much': 5679, 'beets': 689, 'go bar': 2986, 'reasons': 5702, 'good reason': 3095, 'one like': 4818, 'super friendly': 6827, 'hard rock': 3329, 'venue': 7531, 'thirsty': 7083, 'might get': 4398, 'especially price': 2231, 'junk': 3714, 'reviewers': 5862, 'also noticed': 255, 'jazz': 3678, 'try food': 7336, 'henderson': 3377, 'layout': 3856, 'good friend': 3058, 'friend came': 2784, 'discount': 1957, 'electronics': 2136, 'market': 4265, 'blocks': 815, 'cashiers': 1118, 'shelves': 6286, 'great selection': 3203, 'pretty well': 5441, 'especially considering': 2230, 'hook': 3447, 'season': 6106, 'rain': 5610, 'cares': 1094, 'love going': 4110, 'everyone nice': 2305, 'could done': 1576, 'really hard': 5672, 'weather': 7703, 'comfortably': 1417, 'malls': 4220, 'whole experience': 7789, 'sit outside': 6385, 'closing': 1350, 'relax': 5768, 'thai food': 7039, 'closing time': 1351, 'pad thai': 4971, 'way make': 7696, 'like could': 3934, 'asian food': 441, 'get home': 2915, 'close home': 1340, 'fool': 2708, 'casual': 1123, 'kind place': 3745, 'great thing': 3207, 'table service': 6911, 'gorgeous': 3126, 'states': 6675, 'time always': 7127, 'friends family': 2806, 'general': 2879, 'one place': 4826, 'also enjoyed': 245, 'private': 5475, 'alone': 234, 'swanky': 6882, 'pop': 5339, 'dancers': 1735, 'songs': 6516, 'one thing': 4833, 'yogurt': 7977, 'feeling like': 2486, 'like eating': 3935, 'fresh fruit': 2761, 'open late': 4851, 'loved everything': 4117, 'experience food': 2364, 'making sure': 4215, 'place cool': 5207, 'finding': 2540, 'instance': 3622, 'planning': 5282, '65': 88, 'things like': 7068, 'well one': 7737, 'make feel': 4199, 'walmart': 7627, 'nearest': 4571, 'class': 1313, 'self': 6158, 'checkout': 1213, 'factor': 2409, 'branch': 891, 'sprouts': 6615, 'nice helpful': 4664, 'almost always': 231, 'lot better': 4089, 'couple days': 1610, 'good service': 3101, 'black bean': 796, 'beer selection': 683, 'one go': 4813, 'fabulous': 2399, 'best pizza': 724, 'place everyone': 5214, 'deluxe': 1858, 'esp': 2228, 'really busy': 5661, 'moderately': 4461, 'energy': 2180, 'spring': 6610, 'tempting': 7012, 'lines': 3983, 'clubs': 1355, 'ok place': 4783, 'place grab': 5224, 'moderately priced': 4462, 'rates': 5628, 'spacious': 6554, 'issue': 3653, 'couch': 1570, 'odd': 4758, 'gym': 3279, 'food options': 2679, 'medium': 4327, 'cajun': 1022, 'seasoning': 6109, 'corrected': 1560, 'overwhelmed': 4948, 'impatient': 3552, 'sets': 6250, 'including': 3570, 'lacking flavor': 3792, 'ordered medium': 4890, 'nice kick': 4666, 'points': 5320, 'river': 5903, 'hoped': 3451, 'meal ordered': 4305, 'red wine': 5736, 'good flavor': 3055, 'get good': 2912, 'good meal': 3076, 'flow': 2610, 'great atmosphere': 3175, 'thankfully': 7048, 'action': 139, 'horseradish': 3460, 'overwhelming': 4949, 'truffle': 7328, 'tater': 6985, 'tots': 7259, 'alternative': 264, 'cosmo': 1562, 'without even': 7834, 'convenient location': 1523, 'reasonably priced': 5701, 'tater tots': 6986, 'earth': 2094, 'tolerate': 7218, 'desperate': 1885, 'sad': 5964, 'dancing': 1736, 'women': 7837, 'paper': 4999, 'grand': 3158, 'sports': 6604, 'televisions': 7000, 'queso': 5579, 'sight': 6346, 'massive': 4284, 'multiple': 4530, 'load': 4028, 'game': 2854, 'affordable': 181, 'good sized': 3104, 'sized portion': 6397, 'watch game': 7672, 'earl': 2087, 'poorly': 5338, 'acknowledged': 133, 'oddly': 4759, 'normally': 4707, 'complete': 1453, 'correct': 1559, 'take back': 6929, 'back room': 563, 'gave try': 2874, 'sure go': 6855, 'first experience': 2557, 'locked': 4046, 'dj': 1988, 'fence': 2498, 'requests': 5812, 'hipster': 3410, 'unacceptable': 7407, 'phoenix': 5139, 'scrambled': 6088, 'cheddar': 1215, 'outdoor seating': 4916, 'scrambled eggs': 6089, 'cheddar cheese': 1216, 'hot sauce': 3470, 'settle': 6252, 'catch': 1126, 'couches': 1571, 'ample': 309, 'covers': 1628, 'surface': 6863, 'books': 852, 'toward': 7272, 'pro': 5478, 'get one': 2922, 'enjoy food': 2186, 'time ordered': 7155, 'bbq pork': 656, 'pitcher': 5180, 'de': 1763, 'consists': 1502, 'enchilada': 2161, 'chile': 1256, 'server friendly': 6184, 'chips salsa': 1273, 'salsa good': 5998, 'great flavor': 3183, 'little flavor': 4002, 'cool place': 1546, 'scenery': 6078, 'questionable': 5581, 'exterior': 2385, 'interior': 3636, 'simply': 6363, 'ton': 7224, 'enchiladas': 2162, 'pizza crust': 5184, 'thin crust': 7061, 'lunch special': 4144, 'sauce good': 6043, '16': 26, 'carpaccio': 1099, 'bits': 791, 'generally': 2880, 'opportunity': 4858, 'presents': 5412, 'times food': 7182, 'large portion': 3815, 'overall place': 4934, 'gem': 2878, 'goodness': 3122, 'breaker': 902, 'noting': 4728, 'us left': 7472, 'little gem': 4003, 'parking lot': 5010, 'breakfast burrito': 905, 'deal breaker': 1769, 'best service': 726, 'still great': 6712, 'classy': 1317, 'romantic': 5917, 'team': 6991, 'marrow': 4272, 'crumbs': 1683, 'subtle': 6782, 'helps': 3375, 'pair': 4980, 'attentive friendly': 493, 'short rib': 6308, 'bone marrow': 844, 'good also': 3030, 'meal good': 4304, 'good portion': 3089, 'soup salad': 6539, 'hassle': 3336, 'competitive': 1447, 'ocean': 4755, 'aria': 406, 'vary': 7506, 'happy see': 3323, 'still good': 6711, 'service pretty': 6227, 'timely': 7177, 'manner': 4239, 'efficient': 2123, 'meatballs': 4317, 'aspect': 458, 'service lacking': 6218, 'greeted us': 3231, 'timely manner': 7178, 'even better': 2262, 'cheese sauce': 1225, 'yep': 7968, 'stiff': 6709, 'cooling': 1549, 'unit': 7432, 'sleep': 6417, 'volume': 7567, 'elevators': 2140, 'lastly': 3837, 'competition': 1446, 'host': 3462, 'visitors': 7561, 'booze': 856, 'within': 7829, 'standards': 6649, 'decent selection': 1786, 'series': 6172, 'neon': 4602, 'ball': 605, 'joe': 3696, 'francisco': 2742, 'textures': 7037, 'back place': 561, 'place gets': 5219, 'prepared wait': 5405, 'dining area': 1927, 'san francisco': 6014, 'overall service': 4936, 'stays': 6684, 'ham': 3301, 'crepe': 1669, 'coffee good': 1374, 'different types': 1909, 'portion huge': 5350, 'good value': 3115, 'wynn': 7945, 'guest': 3272, 'colors': 1392, 'tacky': 6916, 'carpet': 1100, 'route': 5936, 'scary': 6076, 'bellagio': 702, 'time make': 7150, 'far best': 2442, 'say much': 6066, 'portions small': 5356, 'get little': 2916, 'servers friendly': 6189, 'tuesday': 7354, 'upside': 7457, 'tuesday night': 7355, 'great price': 3197, 'mocha': 4457, 'norm': 4705, 'coffee shop': 1375, 'free wifi': 2749, 'another star': 328, 'shuttle': 6332, 'bus': 993, 'stops': 6729, 'biggest': 761, 'convention center': 1527, 'many things': 4250, 'long lines': 4055, 'coworker': 1629, 'steakhouse': 6688, 'steak house': 6687, 'many great': 4245, 'would rather': 7917, 'games': 2855, 'patient': 5046, 'acceptable': 116, 'buffalo': 966, 'sliders': 6422, 'steamed': 6692, 'cilantro': 1302, 'requested': 5811, 'first thing': 2563, 'buffalo chicken': 967, 'downfall': 2011, 'valet': 7496, 'toilet': 7210, 'includes': 3569, 'desk': 1884, 'encore': 2164, 'row': 5938, 'avoided': 525, 'big plus': 758, 'forever get': 2715, 'like sitting': 3962, 'casino floor': 1120, 'easy find': 2103, 'fine dining': 2542, 'also nice': 254, 'good job': 3067, 'returned': 5854, 'grille': 3236, 'au': 497, 'seasoned': 6108, 'cream sauce': 1654, 'cooked perfectly': 1536, 'least one': 3873, 'one order': 4823, 'prosciutto': 5517, 'cider': 1300, 'vinaigrette': 7550, 'fired': 2551, 'petit': 5128, 'shaved': 6280, 'good think': 3111, 'able try': 103, 'salt pepper': 6001, 'dipping sauce': 1939, 'better good': 736, 'also tried': 262, 'could used': 1601, 'skimp': 6405, 'tacos good': 6920, 'build': 970, 'half full': 3291, '24 hour': 48, 'considered': 1495, 'giant': 2941, 'pain': 4974, 'excuses': 2341, 'justify': 3715, 'industry': 3588, 'marinara': 4261, 'freezer': 2750, 'spaghetti': 6555, 'surprisingly good': 6871, 'good places': 3088, 'blue cheese': 827, 'airport': 208, 'desperately': 1886, 'dated': 1750, 'central': 1152, 'terminal': 7024, 'charlotte': 1193, 'suites': 6804, 'steps': 6700, 'iron': 3649, 'mega': 4334, 'satisfy': 6033, 'cream cheese': 1653, 'exit': 2347, 'arena': 404, 'almost every': 232, 'immediate': 3549, 'painless': 4976, 'facing': 2407, 'plastic': 5286, 'seconds': 6127, 'faces': 2403, 'sink': 6377, 'bedroom': 677, 'definite': 1814, 'gamble': 2852, 'activity': 142, 'got great': 3132, 'better job': 737, 'front desk': 2817, 'get chance': 2901, 'overall ok': 4933, 'weak': 7700, 'buds': 965, 'second trip': 6125, 'good ordered': 3083, 'taste buds': 6966, 'jimmy': 3692, 'los': 4082, 'angeles': 312, 'really wish': 5692, 'los angeles': 4083, 'great lunch': 3192, 'wake': 7612, 'eager': 2085, 'casually': 1124, 'receiving': 5708, 'busier': 994, 'understood': 7417, 'staffs': 6640, 'front us': 2819, 'like would': 3967, 'staff members': 6633, 'work done': 7851, 'landed': 3805, 'flew': 2600, 'gate': 2867, 'gates': 2868, 'loaded': 4029, 'settled': 6253, 'requires': 5815, 'pet': 5126, 'peeve': 5077, 'train': 7288, 'denver': 1865, 'southwest': 6547, 'fly': 2617, 'long walk': 4058, 'pet peeve': 5127, 'levels': 3915, 'severely': 6263, 'located right': 4040, 'cornbread': 1556, 'jalapeno': 3666, 'tenderloin': 7018, 'sat bar': 6028, 'upgraded': 7449, 'county': 1608, 'frank': 2743, 'period': 5113, 'biltmore': 768, 'pools': 5335, 'property': 5514, 'peace': 5062, 'renovation': 5789, 'update': 7444, 'time day': 7132, 'losing': 4085, 'takes': 6943, 'dealers': 1771, 'gaming': 2856, 'time even': 7134, 'usually wait': 7492, 'stacked': 6624, 'service ok': 6222, 'ok food': 4780, 'long bar': 4051, 'came around': 1042, 'kobe': 3771, 'bold': 840, 'cheese fries': 1222, 'philly': 5137, 'attempted': 483, 'server nice': 6186, 'nice attentive': 4658, 'lunch spot': 4146, 'whole wheat': 7794, 'everyone else': 2304, 'would eat': 7885, 'maintenance': 4190, 'priority': 5473, 'updating': 7447, 'irish': 3648, 'spit': 6596, 'good amount': 3032, 'amount food': 305, 'nice also': 4656, 'paradise': 5003, 'beach': 659, 'much good': 4516, 'pool area': 5333, 'good even': 3049, 'minimum': 4422, 'jack': 3664, 'whiskey': 7781, 'impossible': 3556, 'control': 1520, 'grumpy': 3263, 'going get': 3016, 'save money': 6054, 'pickup': 5153, 'place seems': 5249, 'service quick': 6229, 'inconvenience': 3572, 'wrote': 7942, 'tab': 6907, 'band': 613, 'steel': 6694, 'sat us': 6030, 'bar area': 621, 'sports bar': 6605, 'boiled': 838, 'kung': 3777, 'could try': 1599, 'kung pao': 3778, 'white rice': 7785, 'peak times': 5066, 'mgm': 4385, 'hallway': 3300, 'operating': 4855, 'serious': 6173, '27': 53, '42': 72, 'hi': 3384, 'def': 1812, 'hundreds': 3501, 'complex': 1457, 'adults': 169, 'chairs': 1171, 'spread': 6609, 'quite nice': 5599, 'easy get': 2104, 'edge': 2118, 'consisted': 1497, 'tortilla': 7252, 'biased': 749, 'good server': 3100, 'people watching': 5093, 'black beans': 797, 'replaced': 5803, 'mike': 4403, 'engaging': 2182, 'timing': 7190, 'grow': 3259, 'active': 140, 'smiles': 6452, 'kinks': 3749, 'last night': 3826, 'take home': 6932, 'caesar salad': 1017, 'well done': 7729, 'usually order': 7490, 'medium rare': 4328, 'every bite': 2292, 'melted mouth': 4342, 'around us': 421, 'right street': 5892, 'diamond': 1898, 'trained': 7289, 'wet': 7768, 'dear': 1776, 'majority': 4196, 'consuming': 1507, 'ass': 459, 'dead': 1767, 'appetizing': 377, 'stretch': 6745, 'backed': 574, 'watched': 7675, 'shiny': 6289, 'suggestion': 6798, 'refried': 5747, 'sin': 6364, 'soccer': 6471, 'moms': 4471, 'bucks': 961, 'outstanding': 4924, 'favor': 2461, 'question': 5580, 'entrees': 2215, 'manhattan': 4235, 'honor': 3445, 'touching': 7263, 'joint': 3700, 'ultimate': 7396, 'latter': 3846, 'informing': 3597, 'pile': 5166, 'pico': 5156, 'gallo': 2851, 'hint': 3408, 'spiciness': 6586, 'color': 1389, 'public': 5528, 'setting': 6251, 'shit': 6293, 'must say': 4543, 'could offer': 1587, 'food however': 2668, '10 15': 5, 'pico de': 5157, 'de gallo': 1764, 'think ever': 7073, 'dig': 1913, 'ole': 4792, 'corporate': 1558, 'america': 298, 'familiar': 2426, 'microwaved': 4390, 'scratch': 6090, 'mama': 4221, 'tops': 7250, 'john': 3697, 'scale': 6071, 'hat': 3337, 'mirror': 4440, 'melt': 4339, 'rye': 5962, 'fuck': 2830, 'perfection': 5106, 'magic': 4179, 'dust': 2079, 'fritter': 2813, 'wicked': 7798, 'mom pop': 4469, 'small business': 6436, 'good breakfast': 3039, 'braised': 890, 'succulent': 6787, 'delight': 1848, 'plantains': 5285, 'jerk': 3688, 'smoky': 6459, 'flower': 2611, 'floating': 2605, 'earthy': 2095, 'palate': 4985, 'wonderfully': 7841, 'inviting': 3645, 'eclectic': 2115, 'paint': 4977, 'decorating': 1806, 'reminiscent': 5783, 'judge': 3706, 'ethnic': 2258, 'ages': 187, 'kiddos': 3736, 'coconut': 1368, 'harder': 3331, 'worry': 7862, 'love love': 4113, 'fall bone': 2422, 'jerk chicken': 3689, 'sure try': 6860, 'family owned': 2432, 'compelled': 1444, 'spin': 6592, 'father': 2454, 'tucked': 7352, 'dunkin': 2077, 'liquor': 3987, 'advertising': 176, 'gifts': 2945, 'pride': 5464, 'offerings': 4764, 'act': 136, 'entered': 2201, 'shocked': 6295, 'lead': 3864, 'themed': 7055, 'jewelry': 3691, 'china': 1263, 'sausages': 6050, 'wallet': 7625, 'crying': 1689, 'goods': 3123, 'understandable': 7415, 'highland': 3396, 'tucked away': 7353, 'tiny little': 7193, 'strip mall': 6749, 'dunkin donuts': 2078, 'wide variety': 7800, 'brewery': 919, 'gal': 2849, 'cocktail': 1365, 'chew': 1236, 'brew': 917, 'thoroughly': 7086, 'peruse': 5123, 'coolers': 1548, 'bud': 962, 'form': 2721, 'notes': 4715, 'drinker': 2042, 'deals': 1774, 'hummus': 3498, 'shitty': 6294, 'smiling': 6453, 'est': 2236, 'got everything': 3130, 'happy hour': 3322, 'well like': 7733, 'oh yeah': 4774, 'also pretty': 258, 'also really': 259, 'establishments': 2242, 'monkey': 4481, 'shots': 6316, 'uncle': 7409, 'admittedly': 165, 'bowling': 879, 'brain': 889, 'painting': 4979, 'carrying': 1107, 'flying': 2618, 'catering': 1129, 'kinda': 3746, 'express': 2380, 'reflect': 5745, 'dive bar': 1983, 'everything need': 2315, 'pool tables': 5334, 'mill': 4411, 'avenue': 517, 'relaxing': 5771, 'sundays': 6817, 'homey': 3440, '4th': 81, 'extended': 2382, 'comparison': 1442, 'draft': 2021, 'pants': 4996, 'cocktails': 1366, 'espresso': 2233, 'owe': 4950, 'tiger': 7119, 'pitchers': 5181, 'compliments': 1461, 'freshly': 2766, 'apples': 379, 'citrus': 1307, 'divine': 1987, 'guaranteed': 3267, 'entre': 2212, 'savory': 6057, 'artichoke': 431, 'encounter': 2165, 'mellow': 4338, 'lately': 3841, 'chase': 1197, 'starts': 6671, 'increased': 3575, '19': 29, 'dollar': 1994, 'fucking': 2831, 'goodbye': 3120, 'chill': 1260, 'hidden gem': 3386, 'hour specials': 3479, 'tomato sauce': 7221, 'group friends': 3253, 'white wine': 7786, 'sure ask': 6849, 'done well': 2000, 'around 30': 415, 'mouth watering': 4498, 'though still': 7090, 'safeway': 5968, 'groceries': 3243, 'ridiculously': 5882, 'arcadia': 396, 'expense': 2360, 'stocking': 6719, 'sticks': 6706, 'copy': 1551, 'crack': 1636, 'ingredient': 3599, 'mediterranean': 4326, 'something special': 6504, 'ending': 2175, 'tempe': 7007, 'shady': 6268, '70': 90, 'significantly': 6352, 'unfriendly': 7426, 'interaction': 3632, 'pita': 5177, 'paste': 5040, 'pickles': 5152, 'wrap': 7932, 'weight': 7720, 'spiced': 6584, 'heated': 3357, 'microwave': 4389, 'southern': 6546, 'something new': 6502, 'first place': 2562, 'food restaurant': 2690, 'never seen': 4628, 'pita bread': 5178, 'would still': 7923, 'gripe': 3240, 'al': 213, 'pound': 5377, 'slathered': 6415, 'asu': 472, 'limited menu': 3978, 'every day': 2293, 'day week': 1757, 'football': 2710, 'coma': 1395, 'nightclub': 4686, 'resident': 5821, 'since last': 6368, 'last visit': 3831, 'good deal': 3046, 'food really': 2689, 'stars food': 6661, 'sucked': 6789, 'bleu': 810, 'meatball': 4316, 'subs': 6780, 'plentiful': 5308, 'increase': 3574, 'session': 6248, 'stare': 6658, 'cashier': 1117, 'drink specials': 2041, 'pizza joint': 5186, 'pretty sure': 5439, 'get wrong': 2935, 'hits': 3418, 'misses': 4447, 'concerns': 1467, 'demand': 1859, 'delicate': 1839, 'lemongrass': 3889, 'listened': 3991, 'lick': 3918, 'inconsistent': 3571, 'rub': 5942, '14': 20, 'bacon wrapped': 578, 'way around': 7689, 'korean bbq': 3775, 'compared': 1440, 'melty': 4344, 'could eat': 1578, 'perfect amount': 5104, 'ear': 2086, 'soul': 6532, 'chicago': 1239, 'mash': 4278, 'intimidating': 3640, 'inexpensive': 3590, 'eight': 2132, 'gyros': 3282, 'notch': 4712, 'little dry': 4001, 'top notch': 7246, 'tie': 7118, 'shoe': 6297, 'nose': 4711, 'asleep': 456, 'habit': 3284, 'solo': 6486, 'sake': 5981, 'repair': 5795, 'warmed': 7657, 'screw': 6094, 'try go': 7338, 'aid': 202, 'dr': 2020, 'co': 1358, 'props': 5515, 'dips': 1941, 'failed': 2412, 'aggressive': 188, 'farmer': 2445, 'humble': 3497, 'herb': 3378, 'fails': 2413, 'waitstaff': 7611, 'artichoke dip': 432, 'well made': 7734, 'go check': 2987, 'lunch time': 4147, 'keep going': 3723, 'chit': 1274, 'chat': 1198, 'routine': 5937, 'stands': 6651, 'arts': 435, 'craft': 1640, 'sip': 6378, 'seeds': 6139, 'baklava': 601, 'dough': 2009, 'honey': 3444, 'soaked': 6469, 'downtown phoenix': 2016, 'small portion': 6439, 'nobody': 4690, 'manicure': 4238, 'cave': 1138, 'condescending': 1472, 'category': 1127, 'offering': 4763, 'culinary': 1695, 'coated': 1363, 'really looking': 5677, 'menu well': 4366, 'riding': 5883, 'veg': 7510, 'eaters': 2111, 'lovers': 4122, 'buzz': 1011, 'freakin': 2745, 'caramelized': 1081, 'knife': 3755, 'kale': 3717, 'lackluster': 3793, 'lettuce tomato': 3911, 'first bite': 2555, 'sure got': 6857, 'kale salad': 3718, 'sweet potatoes': 6888, 'get service': 2929, 'food usually': 2701, 'mesa': 4370, 'zone': 7992, 'tear': 6992, 'map': 4253, 'cats': 1132, 'conditioned': 1476, 'diverse': 1984, 'alley': 224, 'good never': 3077, 'like fact': 3938, 'holidays': 3429, 'neglected': 4596, 'mr': 4506, 'brings': 932, 'domestic': 1996, 'gin': 2948, 'shorts': 6314, 'button': 1005, 'shirts': 6292, 'twenty': 7366, 'shift': 6287, 'pole': 5323, 'scottsdale': 6087, 'nicest': 4679, 'regardless': 5753, 'treatment': 7303, 'mr man': 4507, 'smile face': 6450, 'gift card': 2943, 'bad thing': 588, 'drizzle': 2056, 'atop': 479, 'tequila': 7021, 'triple': 7319, 'concoction': 1470, 'memory': 4350, 'bat': 646, 'related': 5764, 'salsas': 5999, 'unfortunate': 7424, 'chopped': 1286, 'copper': 1550, 'maintain': 4188, 'leading': 3865, 'splash': 6597, 'pissed': 5174, 'gut': 3276, 'reaction': 5644, 'deliciously': 1846, 'chunks': 1296, 'heavily': 3360, 'dense': 1862, 'delish': 1852, 'lunches': 4149, '95': 96, 'fire': 2550, 'like come': 3933, 'wait another': 7580, 'sweet sour': 6889, 'past week': 5034, 'want eat': 7634, 'came pretty': 1052, 'sauce cheese': 6042, 'made want': 4176, 'place around': 5196, 'trusted': 7331, 'diners': 1924, 'term': 7023, 'liberty': 3916, 'trouble': 7323, 'maker': 4207, 'passing': 5030, 'fully': 2837, 'theme': 7054, 'folks': 2624, 'model': 4459, 'allow': 226, 'amounts': 308, 'carb': 1083, 'carte': 1111, 'teach': 6990, 'michael': 4388, 'muffin': 4526, 'accompanying': 127, 'flavorless': 2594, 'canned': 1068, 'patties': 5053, 'crepes': 1670, 'grade': 3155, 'place still': 5257, 'like little': 3947, 'people waiting': 5091, 'really disappointed': 5665, 'la carte': 3780, 'actually quite': 147, 'last minute': 3824, 'going give': 3017, 'tolerable': 7217, 'video': 7540, 'rabbit': 5604, 'cast': 1122, 'cracked': 1637, 'stools': 6724, 'occasional': 4751, 'chair': 1170, 'holes': 3427, 'invite': 3643, 'cuz': 1724, 'plays': 5297, 'convinced': 1532, 'toe': 7205, 'surly': 6865, 'square': 6616, 'high school': 3393, 'quarter': 5567, 'yelpers': 7967, 'guide': 3274, 'path': 5044, 'upscale': 7455, 'fig': 2510, 'balsamic': 608, 'surrounded': 6872, 'puts': 5554, 'airy': 209, 'intended': 3629, 'claim': 1309, 'halibut': 3297, 'carrots': 1105, 'delectable': 1837, 'mashed': 4279, 'mint': 4425, 'garnish': 2863, 'field': 2505, 'impeccable': 3553, 'worthy': 7877, 'personable': 5117, 'rip': 5898, 'stating': 6676, 'knock': 3756, 'socks': 6473, 'would much': 7907, 'melt mouth': 4340, 'served cold': 6177, 'never saw': 4627, 'ever go': 2287, 'golden': 3023, 'finest': 2544, 'pale': 4986, 'northern': 4710, 'occasion': 4750, 'comfort': 1414, 'dressed': 2031, 'intimate': 3639, 'shout': 6318, 'funky': 2840, 'headed': 3344, 'mystery': 4546, 'joy': 3705, 'locker': 4047, 'arizona': 407, 'worth price': 7873, 'time visit': 7173, 'thousand': 7095, 'hopes': 3453, 'mighty': 4401, 'explosion': 2379, 'yo': 7975, 'panda express': 4994, 'would gone': 7896, 'right food': 5889, 'vet': 7536, 'hood': 3446, 'presented': 5411, 'wtf': 7943, 'initial': 3602, 'cross': 1679, 'fees': 2490, 'animal': 314, 'beats': 665, 'ahead time': 194, 'let us': 3906, 'suburban': 6783, 'adventure': 172, 'outlets': 4919, 'consumed': 1505, 'lively': 4021, 'weekly': 7715, 'rotation': 5929, 'crew': 1672, 'sweat': 6884, 'monster': 4483, 'turkey': 7357, 'pastrami': 5041, 'ratio': 5633, 'men': 4351, 'road': 5905, '49': 79, 'gigantic': 2946, 'tax': 6987, 'necessary': 4577, 'blood': 817, 'pressure': 5415, 'preparing': 5406, 'go order': 3001, 'meat cheese': 4314, 'powder': 5388, 'preferred': 5398, 'professionally': 5501, 'honesty': 3443, 'horse': 3459, 'custom': 1713, 'ubiquitous': 7392, 'university': 7433, 'el': 2135, 'pollo': 5329, 'locally': 4036, 'leftover': 3882, 'curries': 1709, 'yellow': 7961, 'bamboo': 609, 'zucchini': 7993, 'crushed': 1686, 'papaya': 4998, 'manage': 4223, 'sparse': 6558, 'accessories': 120, 'colored': 1390, 'waitresses': 7609, 'attend': 485, 'tangy': 6952, 'checks': 1214, 'signed': 6351, 'relief': 5773, 'student': 6758, 'support': 6839, 'eatery': 2112, 'old school': 4789, 'curry chicken': 1711, 'sticky rice': 6708, 'pretty damn': 5426, 'coconut milk': 1369, 'spring rolls': 6613, 'amazing food': 290, 'tables chairs': 6915, 'wait times': 7593, 'pretty small': 5437, 'lot time': 4095, 'time wait': 7174, 'within hour': 7830, 'spring roll': 6612, 'support local': 6840, 'equally': 2223, 'accompanied': 126, 'boat': 833, 'scheduled': 6081, 'false': 2425, 'decision': 1801, 'written': 7940, 'weekday': 7712, 'island': 3652, 'stringy': 6747, 'bargain': 628, '9pm': 98, 'signage': 6349, 'addressed': 158, 'cent': 1150, 'tries': 7315, 'explaining': 2376, 'apologetic': 359, 'suit': 6802, 'basketball': 644, 'extreme': 2390, 'come first': 1406, 'every week': 2300, 'us back': 7463, 'spend money': 6578, 'whole thing': 7792, 'look like': 4064, 'seem like': 6144, 'going go': 3018, 'caters': 1130, 'sucker': 6790, 'pastry': 5043, 'burned': 988, 'made order': 4170, 'usually pretty': 7491, 'greek salad': 3222, 'food though': 2696, 'give shot': 2957, 'dresses': 2032, 'belle': 703, 'mills': 4413, 'redeem': 5737, 'burning': 989, 'marketplace': 4266, 'organized': 4902, 'hunt': 3505, 'venture': 7529, 'cotton': 1569, 'allows': 228, 'lasted': 3836, 'princess': 5469, 'new location': 4637, 'tempe marketplace': 7008, 'well organized': 7738, 'grub': 3262, 'hunting': 3506, 'skinny': 6408, 'expanded': 2350, 'tvs': 7365, 'track': 7281, 'patience': 5045, 'garnished': 2864, 'vegetables': 7517, 'olives': 4796, 'richness': 5877, 'tomorrow': 7223, 'also got': 249, 'table two': 6912, 'poor service': 5337, 'would even': 7886, 'like much': 3952, 'salad came': 5985, 'salad also': 5983, 'definitely coming': 1820, 'dream': 2028, 'markets': 4267, 'debit': 1778, 'cards': 1087, 'gather': 2869, 'knowledge': 3767, 'taste texture': 6972, 'right amount': 5887, 'prices also': 5454, 'around town': 420, 'hence': 3376, 'advertised': 175, 'shine': 6288, 'finishing': 2549, 'raised': 5613, 'spanish': 6556, 'walnuts': 7629, 'exact': 2322, 'dinner time': 1934, 'little bland': 3998, 'definitely try': 1832, 'grandma': 3161, 'latest': 3844, 'happens': 3318, 'golf': 3024, 'carts': 1112, 'glendale': 2976, 'surprising': 6869, 'blanc': 803, 'tarts': 6963, 'device': 1896, 'held': 3364, 'chilled': 1261, 'lasagna': 3821, 'alfredo': 220, 'pepperoni': 5099, 'superior': 6834, 'reheated': 5763, 'petite': 5129, 'female': 2497, 'voice': 7565, 'male': 4217, 'restaurant located': 5838, 'painted': 4978, 'afraid': 182, 'contract': 1517, 'features': 2473, 'cat': 1125, 'chipped': 1271, 'yard': 7947, 'lit': 3993, 'mass': 4281, 'remain': 5774, 'locals': 4037, 'western': 7767, 'silence': 6355, 'ever seen': 2289, 'desire': 1882, 'social': 6472, 'champagne': 1174, 'clever': 1332, 'yelp reviews': 7965, 'berry': 714, 'brulee': 950, 'berries': 713, 'digress': 1915, 'nestled': 4604, 'perspective': 5122, 'barista': 629, 'cleanliness': 1327, 'chick': 1240, 'loudly': 4100, 'handling': 3308, 'filthy': 2526, 'refrigerator': 5748, 'jump': 3712, 'report': 5807, 'creme brulee': 1668, 'people get': 5085, 'tossed': 7255, 'id': 3526, 'accidentally': 122, 'iceberg': 3521, 'dry bland': 2065, 'pho': 5138, 'le': 3858, 'picking': 5149, 'toss': 7254, 'sriracha': 6621, 'best place': 725, 'bean sprouts': 661, 'like new': 3953, 'dilemma': 1916, 'detail': 1892, 'bc': 658, 'protein': 5518, 'sesame': 6247, 'tray': 7296, 'pineapple': 5169, 'supposedly': 6844, 'equivalent': 2225, 'aisle': 210, 'focus': 2619, 'also like': 251, 'egg rolls': 2127, 'coconut shrimp': 1370, 'family style': 2433, 'little sweet': 4014, 'couple minutes': 1611, 'dishes good': 1970, 'side dishes': 6339, 'go go': 2994, 'service attentive': 6197, 'order something': 4878, 'oregano': 4899, 'fuel': 2832, 'punch': 5536, 'kill': 3738, 'status': 6679, 'limit': 3976, 'watermelon': 7682, 'mimosa': 4414, 'bloody': 818, 'mary': 4276, 'stir': 6715, 'epic': 2221, 'blah': 801, 'skillet': 6403, 'chunky': 1297, 'runs': 5956, 'limp': 3979, 'saucy': 6048, 'care much': 1089, 'bloody mary': 819, 'may want': 4293, 'really well': 5691, 'drunken': 2063, 'puppies': 5537, 'raspberry': 5625, 'saving': 6056, 'splurge': 6600, 'painful': 4975, 'much longer': 4520, 'grew': 3233, 'thrilled': 7104, 'marshmallow': 4273, 'messages': 4373, 'sampling': 6012, 'content': 1513, 'stole': 6720, 'chocolates': 1278, 'daughter': 1752, 'grown': 3261, 'poke': 5322, 'multiple times': 4531, 'rather go': 5630, 'urban': 7460, 'presence': 5408, 'judging': 3707, 'du': 2067, 'jour': 3704, 'dropped': 2058, 'nurse': 4740, 'core': 1552, 'create': 1658, 'charming': 1195, '3pm': 67, 'wraps': 7934, 'glazed': 2975, '10pm': 12, 'ended going': 2173, 'couple years': 1615, 'reasonable price': 5698, 'would made': 7905, 'chili sauce': 1259, 'soy sauce': 6550, 'flavor also': 2591, 'full bar': 2834, 'outdoor patio': 4915, 'inside restaurant': 3615, 'also amazing': 241, 'could possibly': 1589, 'local business': 4035, 'chicken wings': 1253, 'lettuce wraps': 3912, 'time could': 7131, 'hurts': 3509, 'heck': 3362, 'doughy': 2010, 'steaming': 6693, 'infused': 3598, 'smoked salmon': 6456, 'difficult find': 1912, 'menu also': 4356, 'garlic bread': 2861, 'names': 4558, 'boba': 835, 'gooey': 3124, 'collect': 1386, 'classes': 1314, 'study': 6761, 'behold': 698, 'bright': 926, 'plant': 5284, 'incredibly': 3577, 'taro': 6958, 'one way': 4837, 'several different': 6259, 'great well': 3214, 'reviewing': 5863, 'fourth': 2738, 'foodie': 2706, 'patty': 5054, 'guarantee': 3266, 'curly': 1706, 'allergies': 223, 'shells': 6285, 'meal also': 4303, 'fries also': 2808, 'retro': 5852, 'mimosas': 4415, 'hawaiian': 3341, 'runny': 5955, 'yolk': 7978, 'promise': 5504, 'nothing really': 4722, 'one could': 4806, 'pulled pork': 5532, 'probably return': 5487, 'proud': 5519, 'inform': 3592, 'superb': 6833, 'german': 2890, 'kong': 3773, 'pretty hard': 5432, 'preface': 5395, 'bruschetta': 953, 'messed': 4374, '45 minute': 76, 'empty restaurant': 2157, 'pig': 5165, 'approval': 390, 'time came': 7129, 'steaks': 6689, 'mmmm': 4456, 'coast': 1361, 'napkins': 4559, 'dislike': 1971, 'equal': 2222, 'adore': 167, 'could even': 1579, 'west coast': 7765, 'sandwich one': 6019, 'buy one': 1007, 'swing': 6898, 'novelty': 4734, 'uses': 7483, 'wedge': 7706, 'anybody': 340, 'staples': 6653, 'existent': 2346, 'fave': 2460, 'quaint': 5559, 'garbage': 2858, 'mexico': 4384, 'pressed': 5414, 'stars service': 6662, 'menu limited': 4361, 'service little': 6220, 'little slow': 4011, 'lunch rush': 4143, 'good enough': 3048, 'dramatic': 2025, 'excitement': 2338, 'wasted': 7670, 'filed': 2516, 'humor': 3499, 'cheapest': 1204, 'bowling alley': 880, 'sure everything': 6853, 'lot fun': 4091, 'undercooked': 7411, 'tongue': 7226, 'bad day': 580, 'tow': 7271, 'argue': 405, 'huh': 3495, 'strongly': 6752, 'gesture': 2891, 'unlimited': 7437, 'fireplace': 2552, 'lamps': 3803, 'culture': 1696, 'bank': 618, 'discounts': 1958, 'wednesday': 7708, 'convince': 1531, 'death': 1777, 'know going': 3761, 'menu good': 4357, 'vast': 7507, 'partner': 5021, 'alike': 221, 'swung': 6902, 'indoors': 3585, 'republic': 5808, 'starting': 6670, 'costco': 1564, 'chang': 1179, 'could say': 1593, 'empty tables': 2158, 'table next': 6909, 'next us': 4652, 'came time': 1056, 'willing give': 7805, 'serving size': 6244, 'well priced': 7740, 'another shot': 327, 'tasted great': 6976, 'service terrible': 6236, 'like people': 3957, 'regarding': 5752, 'sashimi': 6026, 'food fresh': 2662, 'ingredients fresh': 3601, 'great good': 3186, 'back sure': 568, 'supermarket': 6835, 'cant': 1072, 'great customer': 3178, 'ask get': 445, '10 mins': 6, 'beyond': 746, 'horrendous': 3455, 'wasnt': 7666, 'minutes even': 4432, 'love food': 4109, 'referred': 5740, 'medical': 4322, 'kidding': 3735, 'wont': 7843, 'hospital': 3461, 'ill': 3543, 'thats': 7050, 'time told': 7167, 'waiting room': 7603, '35 minutes': 66, 'made appointment': 4164, 'friday afternoon': 2771, 'would call': 7881, 'even got': 2269, 'got nice': 3135, 'hill': 3406, 'hello': 3366, 'runner': 5951, 'runners': 5952, 'used go': 7482, 'time first': 7136, 'came table': 1055, 'take drink': 6931, 'get new': 2920, 'mediocre best': 4324, 'worker': 7853, 'tall': 6951, 'grande': 3160, '2016': 41, 'co worker': 1359, 'went pick': 7760, 'breakfast lunch': 907, 'products': 5497, 'lets': 3907, 'place make': 5235, 'great variety': 3211, 'great staff': 3206, 'say enough': 6062, 'king': 3748, 'church': 1298, 'disappoints': 1956, 'nice people': 4669, 'always enjoyed': 272, 'never disappoints': 4612, 'horrible experience': 3457, 'delivers': 1856, 'franchise': 2741, 'promised': 5505, '5th': 86, 'location great': 4043, 'chicken good': 1246, 'chuck': 1295, 'us really': 7476, 'would preferred': 7915, 'dont': 2002, 'didnt': 1899, 'lousy': 4103, 'everything tasted': 2318, 'brisket': 934, 'melts': 4343, 'louis': 4101, 'staff really': 6636, 'food truck': 2699, 'place going': 5221, 'giving stars': 2966, 'provides': 5522, 'nightmare': 4687, 'badly': 589, 'expanding': 2351, 'talented': 6947, 'time getting': 7140, 'worth going': 7871, 'rib eye': 5869, 'food could': 2649, 'engaged': 2181, 'brunch menu': 952, 'well seasoned': 7741, 'execution': 2343, 'pros': 5516, 'conversations': 1529, 'albeit': 215, 'cons': 1490, 'beers tap': 686, 'pushy': 5551, 'became': 672, 'dealer': 1770, 'flamingo': 2585, 'great people': 3195, 'muffins': 4527, 'everything good': 2312, 'unlike': 7436, 'fort': 2724, 'cooking': 1541, 'shakes': 6270, 'grabbing': 3153, 'like trying': 3965, 'shopping center': 6303, 'brother': 940, 'law': 3851, 'avid': 520, 'wheel': 7773, 'minus': 4426, 'best customer': 719, 'would let': 7901, 'us come': 7464, 'puppy': 5538, 'approached': 387, 'training': 7291, 'hills': 3407, 'coupons': 1618, '200': 38, 'nearly every': 4573, 'lucky enough': 4132, 'blew mind': 812, 'biscuits': 774, 'previous reviews': 5445, 'could see': 1594, 'newest': 4645, 'registers': 5757, 'june': 3713, '2015': 40, 'lease': 3870, 'warmer': 7658, 'managers': 4228, 'olive garden': 4794, 'place super': 5259, 'super clean': 6823, 'us get': 7469, 'worst service': 7868, 'theres': 7057, 'everytime': 2320, 'food want': 2702, 'beautifully': 670, 'couldnt': 1602, 'thanked': 7046, 'warm friendly': 7656, 'manager came': 4227, 'made sure': 4173, 'refilled': 5742, 'ha': 3283, 'times time': 7187, 'frustrating': 2826, 'department': 1866, 'welcomed': 7724, 'replacing': 5805, 'one great': 4815, 'service department': 6203, 'made feel': 4166, 'days later': 1761, 'maintained': 4189, 'sit bar': 6383, 'several years': 6262, 'food portions': 2684, 'taste good': 6969, 'removed': 5787, 'take one': 6935, 'try new': 7342, 'menu item': 4359, 'food taste': 2695, 'taste fresh': 6968, 'full flavor': 2835, 'breaks': 911, 'colorful': 1391, 'two three': 7381, 'people working': 5095, 'whole time': 7793, 'time also': 7126, 'refer': 5739, 'got order': 3137, 'alot': 237, 'improved': 3563, 'se': 6097, 'goodies': 3121, 'ad': 149, 'clean well': 1323, 'one one': 4822, 'favorites': 2467, 'one favorites': 4810, 'slammed': 6414, 'rim': 5894, 'pulling': 5533, 'insurance': 3628, 'relative': 5766, 'mechanic': 4320, 'background': 575, 'unexpected': 7423, 'recommend going': 5722, 'something wrong': 6506, 'let go': 3901, 'take look': 6934, 'bags': 593, 'funny': 2841, 'okay nothing': 4785, 'back told': 570, 'vacation': 7494, 'get busy': 2899, 'every dish': 2294, 'conditioning': 1477, 'miserable': 4442, 'great beer': 3177, 'beer great': 682, 'air conditioning': 207, 'plans': 5283, 'exquisite': 2381, 'hit spot': 3417, 'night dinner': 4684, 'yet another': 7973, 'thai restaurant': 7041, 'two friends': 7372, '20 minute': 35, 'pretty delicious': 5428, 'though really': 7089, 'barbecue': 625, 'logo': 4048, 'farm': 2444, 'official': 4769, 'dying': 2081, 'resist': 5822, 'rail': 5609, 'feels like': 2489, 'attention detail': 490, 'grand opening': 3159, 'decent price': 1785, 'sauce side': 6044, 'never got': 4620, 'another great': 324, 'great local': 3190, 'light rail': 3926, 'big box': 753, 'staff super': 6638, 'get free': 2909, 'panini': 4995, 'decent place': 1784, 'laughing': 3850, 'acts': 143, 'perform': 5110, 'family friendly': 2429, 'supplies': 6837, 'need get': 4580, 'nice know': 4667, 'disorganized': 1972, 'contain': 1510, 'time look': 7149, 'price reasonable': 5450, 'time soon': 7163, 'song': 6515, 'calm': 1038, 'get nice': 2921, 'prepare': 5403, 'growing': 3260, 'breeze': 914, 'instantly': 3624, 'additionally': 156, 'grapes': 3164, 'delightful': 1850, 'bottomless': 872, 'hollandaise': 3430, 'gladly': 2968, 'best ever': 720, 'sunday morning': 6815, 'walked door': 7618, 'every last': 2295, 'steve': 6701, 'caffeine': 1020, 'thus': 7115, 'noise': 4691, 'give stars': 2958, 'makes feel': 4209, 'til': 7121, '2pm': 57, 'waters': 7683, 'sever': 6257, 'rose': 5927, 'group us': 3255, 'time order': 7154, 'crab cakes': 1634, 'rest food': 5830, 'extremely friendly': 2392, 'reached': 5643, 'fear': 2469, 'eyebrow': 2395, 'wax': 7686, 'searching': 6104, 'attempts': 484, 'regret': 5758, 'dentist': 1864, 'trying find': 7347, 'times went': 7188, 'abridged': 104, 'pizzeria': 5189, 'bianco': 748, 'packaging': 4967, 'crave': 1646, 'amazingly': 294, 'rainbow': 5611, 'rolling': 5914, 'pretty average': 5419, 'reasonable prices': 5699, 'membership': 4347, 'instructors': 3627, 'studio': 6760, 'entry': 2216, 'floors': 2608, 'weights': 7721, 'finally get': 2531, 'answered questions': 335, 'want get': 7635, 'well kept': 7731, 'never wait': 4630, 'procedure': 5491, 'freaking': 2746, 'unsure': 7441, 'yelled': 7959, 'little shop': 4010, 'months later': 4488, 'delivering': 1855, 'amongst': 303, 'bar seating': 624, 'experience great': 2366, 'az': 538, 'ale': 219, 'quote': 5602, 'customize': 1717, 'beside': 715, 'safety': 5967, 'really sure': 5686, 'people really': 5089, 'chocolate chip': 1277, 'cucumber': 1692, 'jasmine': 3677, 'time probably': 7157, 'food experience': 2658, 'dave': 1753, 'unable': 7406, 'yay': 7949, 'damn good': 1731, 'told would': 7216, 'one point': 4828, 'eat food': 2106, 'apartments': 358, 'courtyard': 1625, 'students': 6759, 'rule': 5946, 'resulted': 5848, 'reliable': 5772, 'fell love': 2493, 'golf course': 3025, 'ketchup': 3729, 'velvet': 7525, 'flights': 2602, 'waiting line': 7601, 'inside outside': 3613, 'always get': 275, 'able order': 102, 'red velvet': 5735, 'makes happy': 4210, 'pittsburgh': 5182, 'flight': 2601, 'museum': 4532, 'admission': 163, 'start finish': 6665, 'gift shop': 2944, 'lo': 4026, 'tho': 7084, 'repeatedly': 5801, 'lunchtime': 4150, 'ol': 4786, 'asked us': 450, 'might well': 4400, 'close work': 1343, 'nevertheless': 4632, 'alas': 214, 'inn': 3604, 'forms': 2723, 'never go': 4618, 'schedule': 6080, 'handed': 3304, 'wished': 7828, 'spices': 6585, 'raisins': 5614, 'good stuff': 3106, 'order go': 4875, 'one table': 4832, 'nothing like': 4721, 'may try': 4292, 'try one': 7343, 'skeptical': 6399, 'restrooms': 5846, 'downstairs': 2014, 'refilling': 5743, 'discussion': 1962, 'printed': 5471, 'get right': 2927, 'place also': 5191, 'great option': 3194, 'staple': 6652, 'aware': 528, 'installed': 3621, 'pricing': 5462, 'lose': 4084, 'payment': 5060, 'signing': 6353, 'information': 3593, 'certificate': 1158, 'oops': 4848, 'last weekend': 3833, 'would stay': 7922, 'would fun': 7891, 'let know': 3902, 'new car': 4634, 'whatever want': 7770, 'thumb': 7111, 'interest': 3633, 'elegant': 2137, 'royal': 5941, 'rowdy': 5939, 'separated': 6171, 'fantastic food': 2439, 'mentioning': 4354, 'fond': 2628, 'film': 2525, 'harkins': 3333, 'navigate': 4566, 'probably one': 5485, 'chain restaurants': 1168, 'thinks': 7080, 'amazing experience': 289, 'good luck': 3074, 'accommodated': 124, 'pleasant experience': 5300, 'commercial': 1429, 'place watch': 5265, 'monday night': 4474, 'think one': 7076, 'old town': 4790, 'also get': 247, 'fro': 2814, 'see anything': 6133, 'orange chicken': 4868, 'fro yo': 2815, 'large party': 3814, 'um': 7399, 'exotic': 2348, 'battered': 651, 'answers': 337, 'food amazing': 2635, 'amazing service': 293, 'laid back': 3798, 'looked delicious': 4066, 'server came': 6183, 'intense': 3630, 'loss': 4086, 'measure': 4312, 'trainers': 7290, 'halfway': 3296, 'sooner': 6522, 'entire life': 2208, 'great way': 3213, 'carnitas': 1098, 'sushi joint': 6877, 'past years': 5036, 'always really': 284, 'outside patio': 4922, 'radio': 5607, 'adult': 168, 'shirt': 6291, 'reserve': 5819, 'arugula': 436, 'chopped salad': 1287, 'great things': 3208, 'night around': 4683, 'even like': 2271, 'know better': 3759, 'distance': 1976, 'occupied': 4754, 'boston': 861, 'safe': 5966, 'little things': 4015, 'drivers': 2054, 'companies': 1434, 'phones': 5142, 'never really': 4624, 'take reservations': 6938, 'though one': 7088, 'force': 2711, 'towards end': 7274, 'techniques': 6997, 'race': 5605, 'packs': 4969, 'newly': 4646, 'tank': 6953, 'food fantastic': 2659, 'opens': 4854, 'tropical': 7322, 'turn around': 7359, 'sat outside': 6029, 'would good': 7897, 'close house': 1341, 'direction': 1945, 'hot fresh': 3469, 'prescription': 5407, 'computer': 1462, 'patients': 5048, 'completed': 1454, 'paperwork': 5000, 'found one': 2731, 'would wait': 7929, 'per person': 5102, 'rd': 5641, 'ever since': 2290, 'feel home': 2482, 'super helpful': 6828, 'find place': 2538, 'conference': 1480, 'buildings': 972, 'businesses': 996, 'multi': 4529, 'spaces': 6553, 'flush': 2616, 'brushed': 954, 'depot': 1869, 'previously': 5446, 'home depot': 3434, 'high prices': 3391, 'sky': 6412, 'harbor': 3325, 'laptop': 3810, 'sensitive': 6167, 'hall': 3298, 'sky harbor': 6413, 'new restaurant': 4640, 'want sit': 7639, 'go home': 2996, 'go elsewhere': 2990, 'styles': 6773, 'wines': 7814, 'region': 5754, 'new favorite': 4635, 'sure everyone': 6852, 'even try': 2277, 'warn': 7659, 'gathering': 2870, 'place awesome': 5197, 'design': 1879, 'car wash': 1079, 'definitely going': 1824, 'get car': 2900, 'people know': 5087, 'took hour': 7237, 'bump': 977, 'outlet': 4918, 'sending': 6164, 'hesitation': 3381, 'hilarious': 3405, 'every month': 2296, 'single time': 6376, 'cry': 1688, 'shoulder': 6317, 'long enough': 4053, 'boards': 832, 'ventured': 7530, 'scallop': 6072, 'craving sushi': 1648, 'patio area': 5050, 'perfect place': 5105, 'place relax': 5247, 'lot places': 4094, 'go try': 3006, 'bad either': 581, 'probably back': 5480, 'like try': 3964, 'oh yes': 4775, 'page': 4972, 'greatly': 3220, 'always seem': 285, 'thing like': 7063, 'anything like': 348, 'little hard': 4004, 'sunset': 6819, 'brownie': 947, 'last friday': 3823, 'expect much': 2353, 'special place': 6568, 'first trip': 2565, 'seating area': 6118, 'worth trying': 7875, 'roasted chicken': 5909, 'staff great': 6630, 'devoured': 1897, 'ordinary': 4898, 'ended getting': 2172, 'like food': 3940, 'welcoming': 7725, 'element': 2138, 'day get': 1756, 'yelper': 7966, 'randomly': 5619, 'dance floor': 1734, 'actually pretty': 146, 'drag': 2022, 'practice': 5391, 'replace': 5802, 'places eat': 5274, 'would order': 7911, 'let start': 3904, 'way like': 7695, 'green chili': 3225, 'fiesta': 2506, 'pretty close': 5424, 'piano': 5146, 'unbelievable': 7408, 'comforting': 1418, 'alternatives': 265, 'resort': 5823, 'surprised see': 6868, 'thicker': 7059, 'want drink': 7633, 'special menu': 6566, 'want good': 7638, 'ruined': 5945, 'attempt': 482, 'asks': 455, 'frustrated': 2825, 'walks': 7623, 'asked waitress': 451, 'trucks': 7326, 'polenta': 5324, 'walked around': 7616, 'food trucks': 2700, 'go anywhere': 2984, 'favorite part': 2464, 'food best': 2642, 'witnessed': 7835, 'fried pickles': 2780, 'eyebrows': 2396, 'worth trip': 7874, 'gave one': 2872, 'weeks later': 7719, 'want come': 7632, 'bring back': 929, 'back store': 567, 'fruits': 2823, 'crunch': 1684, 'get pay': 2924, 'bakeries': 599, 'something really': 6503, 'gilbert': 2947, 'doctors': 1990, 'recommendations': 5725, '2nd': 56, 'exam': 2324, 'drama': 2024, 'cup coffee': 1698, 'trick': 7310, 'high hopes': 3390, 'etc etc': 2257, 'battery': 652, 'replacement': 5804, 'took 10': 7231, 'another 10': 320, 'one item': 4817, 'need help': 4582, 'usually like': 7489, 'corn bread': 1554, 'real deal': 5654, 'vintage': 7552, 'wondering': 7842, 'go often': 2999, 'good way': 3116, 'brewing': 920, 'moon': 4491, 'comp': 1433, 'apology': 363, 'bucket': 960, 'commented': 1427, 'delicious also': 1841, 'sundae': 6811, 'people want': 5092, 'sit eat': 6384, 'lined': 3982, 'really love': 5678, 'go even': 2991, 'past weekend': 5035, 'attended': 487, 'eve': 2260, 'stylish': 6774, 'laying': 3855, 'rooftop': 5919, 'carefully': 1093, 'negative reviews': 4594, 'new years': 4642, 'sophisticated': 6527, 'graham': 3156, 'cracker': 1638, 'texas': 7034, 'pretty awesome': 5420, 'bisque': 775, 'nigiri': 4689, 'could barely': 1573, 'right time': 5893, 'sushi chef': 6876, 'new go': 4636, 'eat sushi': 2107, 'sushi bar': 6875, 'campus': 1060, 'character': 1187, 'dropping': 2059, 'strictly': 6746, 'lunch menu': 4141, 'fish tacos': 2571, 'good lunch': 3075, 'dare': 1743, 'lame': 3801, 'target': 6957, 'order get': 4874, 'digging': 1914, 'stairs': 6642, 'time last': 7147, 'midi': 4394, 'file': 2515, 'appalled': 365, 'politely': 5328, 'kept going': 3728, 'brilliant': 927, 'outdoors': 4917, 'someone would': 6493, 'relaxation': 5769, 'tires': 7199, 'visible': 7555, 'peaceful': 5063, 'speaks': 6564, 'get back': 2897, 'one look': 4820, 'tone': 7225, 'appropriately': 389, 'approach': 386, 'snacks': 6465, 'greeting': 3232, 'insisted': 3616, 'long day': 4052, 'min': 4416, 'still hungry': 6713, 'pay cash': 5057, 'drank': 2026, 'breakfast food': 906, 'absolutely love': 109, 'ended ordering': 2174, 'sodas': 6475, 'aisles': 211, 'pit': 5176, 'tables around': 6914, 'press': 5413, '1pm': 30, 'dire': 1943, 'dumpling': 2075, 'project': 5503, 'thankful': 7047, 'angry': 313, 'appointments': 383, 'grace': 3154, 'improvement': 3564, 'rush back': 5958, 'ordered three': 4894, 'went downhill': 7751, 'service received': 6232, 'go grab': 2995, 'responsible': 5828, 'lunch day': 4138, 'uptown': 7459, 'waiting long': 7602, 'amazing great': 291, 'menu pretty': 4365, 'keep coming': 3722, 'warehouse': 7654, 'pots': 5375, 'install': 3620, 'back get': 551, 'even offered': 2273, 'tired': 7198, 'bake': 595, 'sole': 6484, 'replied': 5806, 'sandwich really': 6020, 'ever come': 2285, 'come try': 1411, 'dealt': 1775, 'camelback': 1059, 'appeared': 372, 'pre made': 5394, '80': 93, 'get enough': 2907, 'like really': 3960, 'way get': 7692, 'facebook': 2401, 'streets': 6743, 'rows': 5940, 'library': 3917, 'rustic': 5961, 'pretend': 5416, 'lock': 4045, 'love atmosphere': 4105, 'home fries': 3435, 'even know': 2270, 'also loved': 253, 'orange juice': 4869, 'anticipated': 338, 'lamp': 3802, 'bread pudding': 897, 'french onion': 2755, 'onion soup': 4843, 'refused': 5751, '11pm': 15, 'addiction': 152, 'highway': 3402, 'hangout': 3314, 'bottled': 867, 'label': 3787, 'area well': 401, 'bottle wine': 866, 'dinner friends': 1931, 'family members': 2431, 'brands': 894, 'contact': 1508, 'record': 5729, 'took 20': 7232, 'little less': 4006, 'boutique': 877, 'died': 1901, 'carried': 1102, 'left feeling': 3880, 'pouring': 5385, 'storm': 6735, 'pharmacy': 5135, 'us know': 7471, 'get early': 2906, 'altogether': 267, 'feast': 2470, 'bourbon': 876, 'largest': 3818, 'cooks': 1542, 'quantity': 5566, 'menu options': 4363, 'spicy sauce': 6590, 'drinks great': 2047, 'containers': 1512, 'never would': 4631, 'restaurant area': 5832, 'even come': 2264, 'friendly always': 2791, 'flooring': 2607, 'choosing': 1284, 'bird': 769, 'pleasing': 5306, 'probably come': 5482, 'check us': 1208, 'romaine': 5916, 'nice though': 4674, 'make look': 4201, 'would ever': 7887, 'baked goods': 597, 'place want': 5264, 'associate': 464, 'versus': 7535, 'hired': 3412, 'much time': 4525, 'tail': 6925, 'pack': 4963, 'chicken fried': 1245, 'best friend': 722, 'hmmm': 3421, 'saturday afternoon': 6036, 'enough time': 2198, 'error': 2227, 'pour': 5378, 'pours': 5386, 'little spot': 4013, 'utensils': 7493, 'vodka': 7564, 'good better': 3038, 'mashed potatoes': 4280, 'cafeteria': 1019, 'wins': 7819, 'good go': 3060, 'march': 4257, 'bride': 924, 'never disappointed': 4611, 'hamburger': 3302, 'think go': 7074, 'much needed': 4522, 'writing review': 7939, 'sofa': 6476, 'awkwardly': 535, 'guilty': 3275, 'always leave': 279, 'exceptionally': 2333, 'americanized': 300, 'good prices': 3092, 'stew': 6702, 'super sweet': 6831, 'december': 1780, 'remodel': 5784, 'steam': 6691, 'last month': 3825, 'reason giving': 5694, 'years old': 7957, '2017': 42, 'smells': 6447, 'dump': 2074, 'pretty fast': 5429, 'fast service': 2451, 'born': 859, 'wave': 7685, 'milkshake': 4410, 'underwhelmed': 7418, 'perfectly cooked': 5108, 'thank goodness': 7044, 'quick easy': 5587, 'restaurant great': 5837, 'bare': 626, 'reduced': 5738, 'food awesome': 2639, 'delicious fresh': 1843, 'came lunch': 1050, 'balance': 602, 'definitely return': 1830, 'david': 1754, 'ambience': 296, 'portobello': 5357, 'cooked perfection': 1535, 'tokyo': 7212, 'time would': 7176, 'got chicken': 3129, 'similarly': 6361, 'great quality': 3199, 'ricotta': 5878, 'food got': 2666, 'water glasses': 7679, 'monsieur': 4482, 'quite small': 5600, 'strongly recommend': 6753, 'like lot': 3949, 'gras': 3165, 'leather': 3874, 'risotto': 5902, 'freshness': 2768, 'cosy': 1568, 'absolutely delicious': 108, 'charred': 1196, 'update review': 7445, 'wait go': 7584, 'tends': 7020, 'sure get': 6854, 'sauce spicy': 6045, 'lunch buffet': 4137, 'quite disappointed': 5596, 'standard fare': 6648, 'indian food': 3580, 'ayce': 536, 'sushi rolls': 6879, 'quality service': 5563, 'last review': 3827, 'review based': 5858, 'featured': 2472, 'anyways': 353, 'marked': 4264, 'portions generous': 5354, 'looking good': 4073, 'chance try': 1176, 'good coffee': 3044, 'attractive': 496, 'uni': 7428, 'abundance': 111, 'happy service': 3324, 'waits': 7610, 'masala': 4277, 'back even': 549, 'delighted': 1849, 'order two': 4880, 'promising': 5506, 'resto': 5843, 'came us': 1058, 'fillings': 2523, 'time someone': 7162, 'maison': 4194, 'classics': 1316, 'definitely check': 1818, 'kudos': 3776, 'raved': 5636, 'obnoxious': 4747, 'de la': 1765, 'array': 423, 'rainy': 5612, 'delightfully': 1851, 'service ordered': 6223, '17': 27, 'assisted': 463, 'toffee': 7207, 'worries': 7861, 'married': 4270, 'genuinely': 2889, 'make sense': 4205, 'us even': 7466, 'fitting': 2576, 'walnut': 7628, 'insane': 3609, 'half half': 3292, 'dental': 1863, 'grey': 3234, 'ordered fried': 4888, 'grab drink': 3149, 'thank much': 7045, '50 per': 83, 'recommended place': 5727, 'place empty': 5211, 'sit restaurant': 6386, 'purse': 5548, 'degrees': 1835, 'bottled water': 868, 'back anytime': 544, 'anytime soon': 351, 'videos': 7541, 'since one': 6369, 'totally worth': 7258, 'oriented': 4903, 'bad reviews': 586, 'waitress attentive': 7605, 'positive experience': 5361, 'discover': 1959, 'structure': 6755, 'service excellent': 6207, 'located inside': 4039, 'wait table': 7591, 'could put': 1591, 'apologize': 361, 'vegan vegetarian': 7513, 'vegan options': 7512, 'stamp': 6645, 'spice level': 6583, 'order ahead': 4871, 'sahara': 5969, 'good customer': 3045, 'going years': 3021, 'hour later': 3477, 'interact': 3631, 'go see': 3004, 'passion': 5031, 'acknowledge': 132, 'position': 5359, 'bro': 935, 'spoke': 6602, 'satisfaction': 6031, 'defiantly': 1813, 'tad': 6921, 'price pay': 5448, 'candle': 1065, 'edamame': 2117, 'came friday': 1047, 'bbq sauce': 657, 'came asked': 1043, 'could pick': 1588, 'watch sports': 7674, 'lacked flavor': 3790, 'blown away': 824, 'sweetheart': 6894, 'bulk': 975, 'comped': 1443, 'app': 364, 'one really': 4829, 'could definitely': 1575, 'balanced': 603, 'nice balance': 4659, 'steer': 6696, 'service bit': 6200, 'answer questions': 333, 'international': 3637, 'wi': 7796, 'fi': 2502, 'provide': 5520, 'wi fi': 7797, 'food drinks': 2655, 'tex': 7032, 'mex': 4380, 'land': 3804, 'tex mex': 7033, 'well maintained': 7735, 'buddy': 963, 'marble': 4256, 'rotate': 5928, 'conveniently located': 1525, 'many restaurants': 4249, 'plane': 5279, 'vip': 7553, 'super impressed': 6829, 'luggage': 4133, 'disgusted': 1963, 'asap': 438, 'greet': 3228, 'back next': 558, 'garlic sauce': 2862, 'food actually': 2632, 'surgery': 6864, 'like family': 3939, 'hands best': 3310, 'employees friendly': 2155, '11am': 14, 'contacted': 1509, 'rewards': 5867, 'cleaner': 1325, 'palace': 4984, 'decent service': 1787, 'chinese restaurant': 1267, 'sarah': 6025, 'avis': 521, 'alors': 236, 'ai': 197, 'tellement': 7003, 'que': 5568, 'je': 3679, 'suis': 6801, 'fois': 2623, 'en': 2159, 'les': 3891, 'bien': 750, 'sûre': 6906, 'il': 3536, 'des': 1871, 'et': 2244, 'seulement': 6255, 'moins': 4465, 'cher': 1234, 'comme': 1425, 'ça': 7994, 'dans': 1739, 'avec': 513, 'aussi': 500, 'autre': 505, 'churros': 1299, 'deux': 1894, 'mais': 4191, 'reste': 5842, 'bon': 842, 'vous': 7570, 'conseille': 1492, 'peut': 5133, 'être': 7999, 'pas': 5024, 'meilleur': 4336, 'monde': 4475, 'une': 7420, 'pris': 5474, 'plat': 5287, 'qui': 5583, 'était': 7997, 'ceviche': 1163, 'crevettes': 1671, 'choix': 1281, 'toutes': 7270, 'riz': 5904, 'salade': 5988, 'attendant': 486, 'très': 7349, 'rapide': 5622, 'ils': 3544, 'ont': 4846, 'sur': 6845, 'que je': 5572, 'je suis': 3683, 'il en': 3539, 'et des': 2246, 'la place': 3784, 'et est': 2247, 'un petit': 7402, 'dans le': 1741, 'le resto': 3861, 'avec des': 514, 'que ai': 5569, 'je vous': 3685, 'vous conseille': 7571, 'ai pris': 200, 'et de': 2245, 'la salade': 3785, 'le service': 3862, 'service est': 6204, 'est très': 2239, 'et ils': 2249, 'ils ont': 3545, 'sur le': 6847, 'aller': 222, 'endroit': 2177, 'soirée': 6481, 'après': 394, 'ne': 4567, 'personne': 5121, 'sont': 6518, 'prix': 5477, 'entrée': 2217, 'bonne': 846, 'musique': 4538, 'endroit pour': 2178, 'le staff': 3863, 'et pas': 2254, 'pas de': 5026, 'bière': 794, 'chaque': 1185, 'ou': 4909, 'allez': 225, 'pour les': 5381, 'il des': 3538, 'peu': 5132, 'ce': 1139, 'même': 4547, 'bouffe': 873, 'un peu': 7403, 'pour une': 5383, 'sont pas': 6519, 'temps': 7010, 'été': 7998, 'soir': 6480, 'vin': 7549, 'légumes': 4155, 'vu': 7574, 'qu': 5556, 'cela': 1145, 'bref': 915, 'plats': 5290, 'roti': 5930, 'poulet': 5376, 'environs': 2220, 'goût': 3145, 'trop': 7321, 'étaient': 7995, 'votre': 7568, 'quand': 5564, 'dans un': 1742, 'et le': 2252, 'je ai': 3680, 'qu il': 5557, 'que est': 5571, 'les plats': 3893, 'ai été': 201, 'quand même': 5565, 'dirait': 1942, 'où': 4960, 'tu': 7350, 'café': 1021, 'sais': 5980, 'cette': 1161, 'trouve': 7324, 'beaucoup': 667, 'oui': 4911, 'vais': 7495, 'leur': 3913, 'ceux': 1162, 'avant': 512, 'ses': 6246, 'aux': 507, 'contre': 1519, 'donne': 2001, 'envie': 2218, 'goûter': 3146, 'beaucoup de': 668, 'pas cher': 5025, 'nourriture': 4730, 'tout': 7269, 'eu': 2259, 'elle': 2142, 'dit': 1980, 'souvent': 6548, 'si': 6334, 'la nourriture': 3783, 'avec une': 516, 'dit que': 1981, 'que le': 5573, 'le menu': 3859, 'et les': 2253, 'pas trop': 5027, 'si vous': 6335, 'mon': 4472, 'manger': 4232, 'serveuse': 6192, 'crois': 1676, 'sa': 5963, 'atm': 474, 'commandé': 1424, 'assez': 460, 'délicieuse': 2083, 'avait': 510, 'moi': 4464, 'nous': 4731, 'ben': 706, 'je ne': 3682, 'ne sais': 4568, 'la serveuse': 3786, 'dans la': 1740, 'je crois': 3681, 'que ça': 5575, 'ce que': 1141, 'il avait': 3537, 'ce est': 1140, 'qui est': 5584, 'sur la': 6846, 'notre': 4729, 'clients': 1335, 'en plus': 2160, 'que les': 5574, 'cet': 1159, 'mangé': 4234, 'essayer': 2234, 'groupe': 3256, 'plusieurs': 5314, 'font': 2630, 'alcool': 218, 'cet endroit': 1160, 'la musique': 3782, 'choix de': 1282, 'fait': 2418, 'vite': 7563, 'là': 4154, 'prendre': 5401, 'devant': 1895, 'amis': 301, 'petits': 5130, 'rien': 5884, 'clientèle': 1336, 'est pas': 2238, 'et la': 2251, 'mais bon': 4192, 'et un': 2255, 'service la': 6217, 'la clientèle': 3781, 'tard': 6956, 'recommande': 5718, 'pour un': 5382, 'gros': 3247, 'donc': 1997, 'sans': 6024, 'nom': 4694, 'sommes': 6513, 'boire': 839, 'aime': 203, 'toujours': 7265, 'grosse': 3249, 'vaut': 7508, 'soit': 6482, 'et il': 2248, 'il une': 3542, 'nous sommes': 4733, 'un plat': 7404, 'pour le': 5380, 'par contre': 5002, 'voir': 7566, 'avec un': 515, 'bref je': 916, 'je vais': 3684, 'le monde': 3860, 'mal': 4216, 'genre': 2885, 'faire': 2415, 'aimé': 204, 'vraiment': 7572, 'beau': 666, 'gens': 2886, 'délicieux': 2084, 'ce resto': 1142, 'les gens': 3892, 'quelques': 5577, 'crème': 1690, 'autres': 506, 'ouvert': 4925, 'avoir': 526, 'pour aller': 5379, 'avais': 509, 'soupe': 6540, 'serveur': 6191, 'repas': 5798, 'avons': 527, 'faut': 2457, 'étais': 7996, 'mes': 4369, 'que ce': 5570, 'nous avons': 4732, 'ai bien': 198, 'bien aimé': 751, 'hyper': 3517, 'payer': 5058, 'il est': 3540, 'ai pas': 199, 'qu ils': 5558, 'une autre': 7421, 'pu': 5526, 'avait pas': 511, 'jamais': 3670, 'et je': 2250, 'il faut': 3541, '23': 46, 'demandé': 1860, 'mis': 4441, 'chic': 1238, 'un resto': 7405, '29': 55, '30 min': 59, 'ah': 192, '26': 52, 'est un': 2240, 'de plus': 1766, 'cirque': 1305, 'hot dogs': 3468, 'décor': 2082, 'même si': 4548, 'pendant': 5078, 'retourner': 5851, 'bel': 699, 'lv': 4152, 'wiped': 7822, 'cooked right': 1537, 'food table': 2694, 'always fresh': 273, 'like like': 3946, 'price point': 5449, 'better quality': 741, 'try different': 7335, 'lots options': 4097, 'connected': 1488, 'explanation': 2377, 'maki': 4213, 'squid': 6620, 'wanted like': 7647, 'asian restaurant': 442, 'red onion': 5731, 'dipped': 1937, 'three years': 7102, 'grilled chicken': 3239, 'food prices': 2686, 'also offer': 256, 'much less': 4518, 'bad good': 584, 'marinated': 4262, 'definitely good': 1825, 'two small': 7378, 'dish would': 1968, 'two pieces': 7377, 'caution': 1137, 'pea': 5061, 'cooked well': 1538, 'co workers': 1360, 'liver': 4022, 'sautéed': 6052, 'verde': 7532, 'fried green': 2779, 'medium well': 4329, 'fish taco': 2570, 'early dinner': 2090, 'miso soup': 4444, 'japanese restaurants': 3675, 'chefs': 1233, 'irritated': 3650, 'smallest': 6442, 'clams': 1312, 'capers': 1074, 'pretty quickly': 5436, 'three us': 7101, 'dish came': 1966, 'seasons': 6110, 'accessible': 119, 'stalls': 6644, 'area would': 402, 'angel': 311, 'good however': 3065, 'bit salty': 785, 'bachelor': 540, 'cocoa': 1367, 'special occasion': 6567, 'inquire': 3606, 'touched': 7261, 'finely': 2543, 'whereas': 7776, '25 minutes': 51, 'lunch hour': 4140, 'good authentic': 3034, 'vs': 7573, 'take away': 6928, 'upper': 7453, 'featuring': 2474, 'despite fact': 1888, 'displayed': 1974, 'fishy': 2572, 'smell like': 6445, 'least 10': 3872, 'second floor': 6123, 'first one': 2560, 'luxury': 4151, 'soak': 6468, 'towels': 7276, 'firm': 2553, 'massages': 4283, 'speak english': 6560, 'semi': 6162, 'providing': 5523, 'fyi': 2847, 'one owners': 4824, 'leaf': 3866, 'decided get': 1793, 'dimly': 1919, 'skewers': 6402, 'sufficient': 6793, 'small bar': 6435, 'could better': 1574, 'herbs': 3379, 'whole foods': 7790, 'purposes': 5547, 'friday evening': 2772, 'nail salon': 4552, 'close together': 1342, 'khao': 3731, 'sits': 6389, 'get another': 2893, 'cup tea': 1699, 'outdated': 4913, 'cones': 1479, 'faced': 2402, 'identical': 3530, 'dinner ordered': 1933, 'time going': 7142, 'back kitchen': 554, 'placing': 5276, 'appearance': 371, 'tom': 7219, 'smokey': 6457, 'food made': 2671, 'drink order': 2039, 'grain': 3157, 'companion': 1435, 'technician': 6996, 'sincere': 6371, 'client': 1333, 'years never': 7956, 'really appreciated': 5659, 'clueless': 1357, 'preference': 5397, 'pretty busy': 5423, 'around 12': 414, '12 30': 17, 'yuzu': 7990, 'language': 3808, 'ed': 2116, 'come table': 1410, 'around 10': 412, 'better places': 739, 'gentleman': 2887, 'minutes wait': 4438, 'spicy food': 6588, 'bbq chicken': 655, 'ventilation': 7528, 'front door': 2818, 'would suggest': 7924, 'selection beer': 6156, 'animals': 315, 'raving': 5637, 'time trying': 7171, 'wife': 7801, 'also came': 243, 'everything fresh': 2311, '215': 44, '22': 45, 'juices': 3709, 'comparing': 1441, 'best best': 718, 'ribeye': 5870, 'jacuzzi': 3665, 'blonde': 816, 'mais je': 4193, 'mein': 4337, 'tartare': 6962, 'toilettes': 7211, 'est bien': 2237, 'tzatziki': 7391, 'chinese food': 1266, 'shore': 6306, 'empanadas': 2152, 'samosas': 6007, 'oz': 4959, 'jessica': 3690, 'bob': 834, 'aka': 212, 'bizarre': 793, 'brûlée': 956, 'auto': 503, 'sensation': 6165, 'touches': 7262, '10 12': 4, 'ultra': 7398, 'boss': 860, 'tahini': 6923, 'quinoa': 5592, 'viet': 7542, 'ordered grilled': 4889, 'sharp': 6279, 'last two': 3830, 'tried several': 7314, 'supporting': 6841, 'average food': 519, 'colleagues': 1385, 'gritty': 3242, 'memories': 4349, 'ps': 5525, 'reads': 5649, 'let get': 3900, 'come place': 1409, 'shy': 6333, 'obvious': 4748, 'husband got': 3511, 'gnocchi': 2980, 'tim': 7124, 'house made': 3485, 'would think': 7926, '4pm': 80, 'wondered': 7839, 'fellow': 2494, 'drinks good': 2046, 'hire': 3411, 'look good': 4063, 'jeans': 3686, 'going place': 3019, 'great reviews': 3202, 'looks great': 4079, 'oatmeal': 4746, 'walked place': 7619, 'two minutes': 7375, '125': 18, 'good location': 3071, 'asked speak': 449, 'speak manager': 6561, 'owns': 4955, 'said going': 5972, 'great work': 3216, 'absolutely recommend': 110, 'place anyone': 5195, 'even finish': 2265, 'good beer': 3036, 'wendy': 7745, 'many choices': 4241, 'competent': 1445, 'remove': 5786, 'waiting area': 7600, 'eye contact': 2394, '10 years': 9, 'buffets': 969, 'grooming': 3246, 'pets': 5131, 'expectation': 2355, 'dozens': 2019, 'excellent food': 2328, 'wait hour': 7585, 'tasted good': 6975, 'done right': 1999, 'lives': 4023, 'dripping': 2049, 'octopus': 4757, 'skewer': 6401, 'breast': 912, 'middle eastern': 4393, 'chicken breast': 1242, 'shortage': 6311, 'variations': 7502, 'extras': 2389, 'treat like': 7300, 'good though': 3112, 'great friendly': 3185, 'darn': 1747, 'promo': 5507, 'much flavor': 4513, 'options area': 4865, 'summary': 6806, '15 20': 22, 'advertise': 174, 'grab quick': 3151, 'portuguese': 5358, 'temp': 7006, 'love come': 4106, 'shrimps': 6330, '101': 11, 'definitely get': 1821, 'good bad': 3035, 'meanwhile': 4311, 'sweet like': 6886, 'good say': 3098, 'indifferent': 3581, 'never eat': 4613, 'hide': 3387, 'fountain': 2733, 'one word': 4838, 'pretty friendly': 5430, 'madison': 4178, 'stadium': 6625, 'room improvement': 5922, 'quality ingredients': 5562, 'belt': 705, 'pretty nice': 5434, 'buyer': 1008, 'really know': 5674, 'watch games': 7673, 'low key': 4126, 'nice size': 4672, 'everybody': 2301, 'brews': 921, 'brothers': 941, 'yoga': 7976, 'better expected': 733, 'understaffed': 7413, 'banana republic': 611, 'love location': 4112, 'spirits': 6595, 'endless': 2176, 'rum': 5948, 'wine beer': 7811, 'delay': 1836, 'us free': 7468, 'time great': 7145, 'spirit': 6594, 'worth money': 7872, 'bustling': 997, 'super busy': 6821, 'situated': 6392, 'blanket': 805, '300': 62, 'got right': 3138, 'great experiences': 3181, 'plenty parking': 5310, 'monthly': 4485, 'staff amazing': 6628, 'arcade': 395, 'always come': 271, 'area great': 398, 'insert': 3611, 'behind bar': 695, 'industrial': 3587, 'overdone': 4939, 'say food': 6063, 'somebody': 6489, 'like every': 3936, 'cold beer': 1381, 'love coming': 4107, 'like everyone': 3937, 'another chance': 323, 'neatly': 4575, 'outrageous': 4920, 'place pretty': 5245, 'food choices': 2646, 'macy': 4161, 'hmm': 3420, 'pleasant surprise': 5301, 'genius': 2884, 'took picture': 7241, 'shaking': 6271, 'tenders': 7019, 'max': 4290, 'flowing': 2613, 'behind us': 697, 'assistant': 462, 'pretzel': 5442, 'must order': 4542, 'stack': 6623, 'opt': 4861, 'butcher': 1000, 'freshly made': 2767, 'nevada': 4605, 'numbers': 4737, 'communication': 1431, 'returns': 5856, 'decent amount': 1782, 'distinctive': 1978, 'next year': 4654, 'town square': 7279, 'facial': 2404, 'white chocolate': 7784, 'feel comfortable': 2481, 'people go': 5086, 'helpful staff': 3373, 'genuine': 2888, 'healthier': 3348, 'gloves': 2977, 'summerlin': 6808, 'custard': 1712, 'tech': 6995, 'ray': 5640, 'kim': 3741, 'night friend': 4685, 'ac': 113, 'everything would': 2319, 'pumpkin': 5535, '3rd': 68, 'repaired': 5796, 'crafted': 1642, 'times first': 7181, 'spend time': 6579, 'fresh made': 2764, 'nice staff': 4673, 'courtesy': 1624, 'pa': 4961, 'expand': 2349, 'nicole': 4681, 'reason stars': 5696, 'soft serve': 6478, 'cases': 1114, 'decent size': 1788, 'fresh ingredients': 2762, 'deck': 1802, 'enclosed': 2163, 'would prefer': 7914, 'young lady': 7982, 'sauce well': 6046, 'figured would': 2514, 'small side': 6440, 'happier': 3319, 'august': 498, 'dedicated': 1809, 'remodeled': 5785, 'come across': 1402, 'friendly welcoming': 2804, 'nothing good': 4719, 'scheduling': 6082, '20 years': 37, 'went one': 7759, 'great happy': 3187, 'hour menu': 3478, 'andrew': 310, 'within minutes': 7831, 'caring': 1095, 'terrible experience': 7027, 'clam': 1311, 'money worth': 4478, 'never recommend': 4625, 'thorough': 7085, 'snob': 6466, 'legit': 3885, 'kitchen staff': 3752, 'relationship': 5765, 'atmosphere great': 477, 'neck': 4578, 'comfort food': 1415, 'embarrassing': 2150, 'disappointed food': 1953, 'kona': 3772, 'apply': 380, 'hh': 3383, 'menu great': 4358, 'many flavors': 4243, 'pecan': 5074, 'think could': 7072, 'photographer': 5144, 'reality': 5655, 'primary': 5466, 'setup': 6254, 'grateful': 3167, 'office staff': 4767, 'seek': 6141, 'able find': 100, 'great really': 3200, 'money go': 4477, 'ie': 3532, 'experience overall': 2367, 'happily': 3320, 'minor': 4423, 'elite': 2141, 'know expect': 3760, 'date night': 1749, 'nervous': 4603, 'needed get': 4588, 'friendly professional': 2800, 'overall nice': 4932, 'huge selection': 3494, 'expert': 2372, 'expect wait': 2354, 'good restaurant': 3096, 'sons': 6517, 'hour get': 3475, 'make money': 4202, 'whose': 7795, 'bear': 663, 'hut': 3515, 'good pizza': 3086, 'exercise': 2344, 'pretzels': 5443, 'rise': 5900, 'er': 2226, 'cheap food': 1202, 'tasty food': 6984, 'valet parking': 7497, 'server great': 6185, 'cutting': 1723, 'came last': 1049, 'designer': 1881, 'arrangements': 422, 'went beyond': 7749, 'players': 5295, 'cuban': 1691, 'marriott': 4271, 'within walking': 7832, 'walking distance': 7622, '5pm': 85, 'seared': 6105, 'sauteed': 6051, 'catfish': 1131, 'ballantyne': 606, 'scoops': 6085, 'brazilian': 895, 'bar good': 623, 'biggest complaint': 762, 'stylists': 6776, 'get full': 2910, 'lifetime': 3922, 'full price': 2836, 'cool little': 1545, 'blvd': 830, 'places around': 5273, 'mochi': 4458, 'fifth': 2509, 'shredded beef': 6326, 'fresh tasty': 2765, 'fries came': 2809, 'candied': 1064, '00pm': 2, 'great addition': 3173, 'pairs': 4983, 'super cute': 6825, 'passionate': 5032, 'yup': 7989, 'check yelp': 1209, 'much love': 4521, 'egg roll': 2126, 'baristas': 630, 'oyster': 4957, 'accepted': 117, 'patiently': 5047, 'made fresh': 4167, 'cali': 1026, '30am': 63, 'days week': 1762, 'came side': 1054, 'prices fair': 5455, 'joined': 3699, 'mall food': 4219, 'master': 4285, 'chicken dry': 1244, 'text': 7035, 'med': 4321, 'quoted': 5603, 'grits': 3241, 'served hot': 6178, 'caramelized onions': 1082, 'yet try': 7974, 'wait try': 7594, 'trader': 7283, 'trader joe': 7284, 'executed': 2342, 'style food': 6770, 'nordstrom': 4704, 'distinct': 1977, 'higher end': 3395, 'syrups': 6904, 'inner': 3605, 'tree': 7306, 'nice hot': 4665, 'knocked': 3757, 'overs': 4947, 'corn tortillas': 1555, 'sums': 6809, 'watery': 7684, 'really sweet': 5687, 'next visit': 4653, 'contrast': 1518, 'con': 1463, 'back another': 543, 'scent': 6079, 'matters': 4289, 'cancelled': 1063, 'hitting': 3419, 'chip cookie': 1269, 'private room': 5476, 'vietnam': 7543, 'wine list': 7812, 'program': 5502, 'service awesome': 6198, 'brussels': 955, 'really small': 5685, 'shredded chicken': 6327, 'super tasty': 6832, 'linger': 3984, 'waited waited': 7596, 'ready order': 5652, 'complimented': 1460, 'best food': 721, 'tastes good': 6980, 'like want': 3966, 'saturday evening': 6037, 'take care': 6930, 'pump': 5534, 'pairing': 4982, 'made reservation': 4171, 'sugary': 6795, 'yard house': 7948, 'chowder': 1292, 'liquid': 3986, 'went today': 7762, 'cannot wait': 1070, 'could hear': 1584, 'went happy': 7755, 'weeknight': 7716, 'great wine': 3215, 'wine selection': 7813, 'condiment': 1473, 'friend mine': 2786, 'fiance': 2503, 'back soon': 566, 'chops': 1288, 'coating': 1364, 'ive': 3663, 'pf': 5134, 'nam': 4555, 'nice selection': 4671, 'worst part': 7867, 'say anything': 6061, 'filipino': 2519, '45 min': 74, 'stations': 6678, 'sweeter': 6893, 'slimy': 6426, 'supper': 6836, 'place best': 5200, 'service like': 6219, 'foie': 2621, 'foie gras': 2622, 'wait 15': 7578, 'chicken pork': 1248, 'sent back': 6169, 'came ordered': 1051, 'everything ordered': 2316, 'makes sense': 4211, '20 min': 33, 'actually really': 148, 'fed': 2476, 'udon': 7393, 'japan': 3673, 'good like': 3069, 'absolutely amazing': 107, 'greeted friendly': 3230, 'made experience': 4165, 'outside seating': 4923, 'patio seating': 5051, 'grape': 3163, 'counters': 1605, 'spring mountain': 6611, 'gets busy': 2937, 'cardio': 1086, 'scam': 6074, 'gave stars': 2873, 'eateries': 2110, 'around 30pm': 416, 'heard place': 3352, 'calorie': 1039, 'counting': 1606, 'act like': 137, 'imo': 3551, 'good sweet': 3108, 'plenty seating': 5311, 'cone': 1478, 'drying': 2066, 'glaze': 2974, 'go next': 2998, 'beef brisket': 680, 'mongolian beef': 4480, 'pint': 5171, 'behavior': 693, 'ayce sushi': 537, 'concern': 1465, 'preparation': 5402, 'brown rice': 946, 'sunday night': 6816, 'char': 1186, 'focused': 2620, 'like made': 3950, 'immaculate': 3548, 'wheels': 7774, 'stir fry': 6716, 'luke': 4134, 'seaweed salad': 6121, 'white bread': 7783, 'baguette': 594, 'treatments': 7304, 'sand': 6015, 'steady': 6685, 'everything delicious': 2309, 'ordered crab': 4885, 'emergency': 2151, 'thumbs': 7112, 'fish sauce': 2569, 'second visit': 6126, 'call ahead': 1030, 'overrated': 4946, 'take orders': 6937, 'successful': 6786, 'praise': 5392, 'fruity': 2824, 'saigon': 5979, 'yellowtail': 7962, 'hearty': 3355, 'bring food': 930, 'regional': 5755, 'supply': 6838, 'chai': 1165, 'speciality': 6569, 'generous portion': 2883, 'live area': 4017, 'wing': 7815, 'wings good': 7817, 'deposit': 1868, 'service nice': 6221, 'craft beer': 1641, 'ready go': 5651, 'beet': 687, 'ought': 4910, 'home made': 3436, 'cod': 1371, 'beet salad': 688, 'throat': 7105, 'got seated': 3139, 'abundant': 112, 'afford': 180, 'fiancé': 2504, 'another 20': 322, 'new spot': 4641, 'thought maybe': 7092, 'iced coffee': 3523, 'must go': 4541, 'lobster bisque': 4033, 'coat': 1362, 'brewed': 918, 'cash register': 1116, 'back see': 564, 'delicious ordered': 1844, 'tasted fresh': 6974, 'cheese pizza': 1223, 'confident': 1481, 'fri': 2769, 'caprese': 1076, 'even gave': 2266, 'chicken teriyaki': 1251, 'expertise': 2373, 'entree ordered': 2214, 'service outstanding': 6224, 'searched': 6103, 'still open': 6714, 'mayonnaise': 4299, 'sourdough': 6544, 'great restaurant': 3201, 'salad dressing': 5986, 'recipes': 5716, 'taking care': 6945, 'skimpy': 6406, 'traveling': 7295, 'never ever': 4615, 'lo mein': 4027, 'ashley': 439, 'jose': 3703, 'oil change': 4777, 'style pizza': 6771, 'also love': 252, 'offices': 4768, 'love fact': 4108, 'rack': 5606, 'course got': 1620, 'great meal': 3193, 'former': 2722, 'artist': 434, '20 mins': 34, 'side good': 6340, 'otherwise would': 4908, 'taste food': 6967, 'bit small': 787, 'sirloin': 6380, 'last years': 3835, 'ever life': 2288, 'jalapeño': 3668, 'north scottsdale': 4709, 'nick': 4680, 'everything place': 2317, 'server said': 6187, 'rental car': 5792, 'edinburgh': 2121, 'bachelorette': 541, 'bride ordered': 925, 'best way': 730, 'slots': 6430, 'byob': 1012, 'authentic mexican': 502, 'fuss': 2845, 'sweetened': 6892, 'loving': 4124, 'great value': 3210, 'mug': 4528, 'mediocre food': 4325, 'friendly nice': 2798, 'well prepared': 7739, 'minutes away': 4430, 'us got': 7470, 'silent': 6356, 'bento': 712, 'uneven': 7422, 'artisan': 433, 'boxed': 883, 'rice good': 5874, 'flan': 2586, 'enormous': 2193, 'water glass': 7678, 'service amazing': 6196, 'breading': 899, 'sunny': 6818, 'creaminess': 1656, 'spray': 6608, 'roughly': 5932, 'super cheap': 6822, 'saltiness': 6004, 'treasure': 7298, 'estimate': 2243, 'unusual': 7442, 'friendly efficient': 2793, 'operation': 4856, '15 mins': 23, 'pregnant': 5399, 'time really': 7158, 'loved food': 4118, 'couples': 1616, 'gf': 2939, 'short ribs': 6309, 'even look': 2272, 'perfectly crispy': 5109, 'service went': 6240, 'inspection': 3617, 'virtually': 7554, 'however service': 3488, 'seeking': 6142, 'minutes waiting': 4439, 'seemingly': 6149, 'fox': 2739, 'backyard': 576, 'best sushi': 727, 'husband loves': 3512, 'conclusion': 1469, 'spicy tuna': 6591, 'fountains': 2734, 'sounding': 6535, 'back give': 552, 'two hours': 7373, 'order took': 4879, 'brioche': 933, 'tears': 6993, 'palm': 4987, 'appetite': 374, 'flip': 2603, 'get money': 2918, 'puree': 5544, 'carryout': 1108, 'sure place': 6859, 'offended': 4760, 'horrible service': 3458, 'creamed': 1655, 'coming years': 1423, 'markham': 4268, 'time vegas': 7172, 'super cool': 6824, 'costumer': 1566, 'costumer service': 1567, 'caprese salad': 1077, 'place close': 5205, 'crawfish': 1650, 'nice day': 4661, 'good sushi': 3107, 'shopping mall': 6304, 'family friends': 2430, 'much else': 4512, 'tai': 6924, 'solve': 6487, 'shorter': 6312, 'cleveland': 1331, 'anyhow': 341, 'divey': 1986, 'sushi sashimi': 6880, 'good news': 3078, 'engine': 2183, 'favorite dish': 2463, 'cheat': 1205, 'lime juice': 3975, '400': 71, 'dimsum': 1920, 'idk': 3531, 'hunny': 3504, 'fresh lime': 2763, 'smh': 6448, 'coz': 1631}\n"
          ],
          "name": "stdout"
        }
      ]
    },
    {
      "cell_type": "code",
      "metadata": {
        "id": "J2T3LtaOP8om",
        "colab_type": "code",
        "outputId": "a668b819-aafe-44df-953f-8debecc22212",
        "colab": {
          "base_uri": "https://localhost:8080/",
          "height": 52
        }
      },
      "source": [
        "#geração dos inputs \n",
        "#vou pegando o número do vocab para cada palavra e fazendo listas \n",
        "tam=20\n",
        "y2=[]\n",
        "inputx=[]\n",
        "quant=[]\n",
        "for i in range(len(df)):\n",
        "  frase=[]\n",
        "  v=vect.transform([df.iloc[i,6]])\n",
        "  va=v.toarray()\n",
        "  vb=va[0]\n",
        "  quant=vb.sum()\n",
        "  if quant>=tam:\n",
        "    y2.append(df.iloc[i,10])\n",
        "    k=0\n",
        "    while k<len(vb):\n",
        "      if vb[k]>0:frase.append(k)\n",
        "      k+=1\n",
        "    inputx.append(np.array(frase[:tam]))\n",
        "print(inputx[0])"
      ],
      "execution_count": 55,
      "outputs": [
        {
          "output_type": "stream",
          "text": [
            "[  58  288  411 2789 3371 3372 4545 4698 5190 5193 5990 6017 6175 6362\n",
            " 6365 6626 6631 6667 6710 6820]\n"
          ],
          "name": "stdout"
        }
      ]
    },
    {
      "cell_type": "code",
      "metadata": {
        "id": "kAX3ofwxZIIG",
        "colab_type": "code",
        "colab": {
          "base_uri": "https://localhost:8080/",
          "height": 372
        },
        "outputId": "7a88160a-1dcc-4dba-a483-67ebbde8e1eb"
      },
      "source": [
        "# Find index word and generate output.\n",
        "\n",
        "keys = list(vect.vocabulary_.keys())\n",
        "values = list(vect.vocabulary_.values())\n",
        "\n",
        "[keys[values.index(i)] for i in inputx[10]]"
      ],
      "execution_count": 80,
      "outputs": [
        {
          "output_type": "execute_result",
          "data": {
            "text/plain": [
              "['absolutely',\n",
              " 'almost',\n",
              " 'anymore',\n",
              " 'awful',\n",
              " 'back',\n",
              " 'back make',\n",
              " 'beer',\n",
              " 'belly',\n",
              " 'better',\n",
              " 'better experience',\n",
              " 'bites',\n",
              " 'bland',\n",
              " 'bun',\n",
              " 'came',\n",
              " 'came two',\n",
              " 'care',\n",
              " 'cold',\n",
              " 'coming',\n",
              " 'could',\n",
              " 'eating']"
            ]
          },
          "metadata": {
            "tags": []
          },
          "execution_count": 80
        }
      ]
    },
    {
      "cell_type": "code",
      "metadata": {
        "id": "XWKKfYItW_vZ",
        "colab_type": "code",
        "outputId": "59735566-3fdf-4dd4-a7d3-56878e4644c2",
        "colab": {
          "base_uri": "https://localhost:8080/",
          "height": 34
        }
      },
      "source": [
        "tam=[len(x) for x in inputx]\n",
        "max(tam),min(tam),sum(tam)/len(tam)"
      ],
      "execution_count": 60,
      "outputs": [
        {
          "output_type": "execute_result",
          "data": {
            "text/plain": [
              "(20, 20, 20.0)"
            ]
          },
          "metadata": {
            "tags": []
          },
          "execution_count": 60
        }
      ]
    },
    {
      "cell_type": "code",
      "metadata": {
        "id": "LduHd2f9c1Lk",
        "colab_type": "code",
        "colab": {}
      },
      "source": [
        "inputx=np.array(inputx)\n",
        "y2=np.array(y2)"
      ],
      "execution_count": 0,
      "outputs": []
    },
    {
      "cell_type": "code",
      "metadata": {
        "id": "10dwcD5AijGj",
        "colab_type": "code",
        "outputId": "a4f4dc59-0cf2-42dc-e3be-f9cea1ef1a63",
        "colab": {
          "base_uri": "https://localhost:8080/",
          "height": 34
        }
      },
      "source": [
        "inputx[0].shape"
      ],
      "execution_count": 47,
      "outputs": [
        {
          "output_type": "execute_result",
          "data": {
            "text/plain": [
              "(20,)"
            ]
          },
          "metadata": {
            "tags": []
          },
          "execution_count": 47
        }
      ]
    },
    {
      "cell_type": "code",
      "metadata": {
        "id": "67ruTkD2dcQq",
        "colab_type": "code",
        "colab": {}
      },
      "source": [
        "model = tf.keras.Sequential()\n",
        "model.add(tf.keras.layers.Embedding(8000, 200, input_length=20))\n",
        "model.add(tf.keras.layers.Flatten())\n",
        "model.add(tf.keras.layers.Dense(1, activation='sigmoid'))"
      ],
      "execution_count": 0,
      "outputs": []
    },
    {
      "cell_type": "code",
      "metadata": {
        "id": "ZH515eAPk7se",
        "colab_type": "code",
        "outputId": "3f4eaeac-fbca-4647-e8ee-2f503bccc1d7",
        "colab": {
          "base_uri": "https://localhost:8080/",
          "height": 265
        }
      },
      "source": [
        "model.summary()"
      ],
      "execution_count": 63,
      "outputs": [
        {
          "output_type": "stream",
          "text": [
            "Model: \"sequential_1\"\n",
            "_________________________________________________________________\n",
            "Layer (type)                 Output Shape              Param #   \n",
            "=================================================================\n",
            "embedding_1 (Embedding)      (None, 20, 200)           1600000   \n",
            "_________________________________________________________________\n",
            "flatten_1 (Flatten)          (None, 4000)              0         \n",
            "_________________________________________________________________\n",
            "dense_1 (Dense)              (None, 1)                 4001      \n",
            "=================================================================\n",
            "Total params: 1,604,001\n",
            "Trainable params: 1,604,001\n",
            "Non-trainable params: 0\n",
            "_________________________________________________________________\n"
          ],
          "name": "stdout"
        }
      ]
    },
    {
      "cell_type": "code",
      "metadata": {
        "id": "a0Fkp09GoR6D",
        "colab_type": "code",
        "colab": {}
      },
      "source": [
        "model.compile(optimizer='adam',loss='binary_crossentropy',metrics=['accuracy'])"
      ],
      "execution_count": 0,
      "outputs": []
    },
    {
      "cell_type": "code",
      "metadata": {
        "id": "sZ60TEosotZU",
        "colab_type": "code",
        "outputId": "8ca2195f-f104-4397-e701-21597b032420",
        "colab": {
          "base_uri": "https://localhost:8080/",
          "height": 1000
        }
      },
      "source": [
        "model.fit(inputx,y2,epochs=80,validation_split=0.3)"
      ],
      "execution_count": 65,
      "outputs": [
        {
          "output_type": "stream",
          "text": [
            "Train on 4243 samples, validate on 1819 samples\n",
            "Epoch 1/80\n",
            "4243/4243 [==============================] - 3s 791us/sample - loss: 0.6668 - accuracy: 0.6149 - val_loss: 0.6059 - val_accuracy: 0.7394\n",
            "Epoch 2/80\n",
            "4243/4243 [==============================] - 3s 624us/sample - loss: 0.4125 - accuracy: 0.8763 - val_loss: 0.5178 - val_accuracy: 0.7482\n",
            "Epoch 3/80\n",
            "4243/4243 [==============================] - 3s 627us/sample - loss: 0.1651 - accuracy: 0.9774 - val_loss: 0.5414 - val_accuracy: 0.7339\n",
            "Epoch 4/80\n",
            "4243/4243 [==============================] - 3s 631us/sample - loss: 0.0559 - accuracy: 0.9993 - val_loss: 0.5734 - val_accuracy: 0.7306\n",
            "Epoch 5/80\n",
            "4243/4243 [==============================] - 3s 625us/sample - loss: 0.0244 - accuracy: 1.0000 - val_loss: 0.6040 - val_accuracy: 0.7284\n",
            "Epoch 6/80\n",
            "4243/4243 [==============================] - 3s 624us/sample - loss: 0.0137 - accuracy: 1.0000 - val_loss: 0.6306 - val_accuracy: 0.7268\n",
            "Epoch 7/80\n",
            "4243/4243 [==============================] - 3s 625us/sample - loss: 0.0088 - accuracy: 1.0000 - val_loss: 0.6516 - val_accuracy: 0.7268\n",
            "Epoch 8/80\n",
            "4243/4243 [==============================] - 3s 633us/sample - loss: 0.0062 - accuracy: 1.0000 - val_loss: 0.6712 - val_accuracy: 0.7251\n",
            "Epoch 9/80\n",
            "4243/4243 [==============================] - 3s 627us/sample - loss: 0.0046 - accuracy: 1.0000 - val_loss: 0.6889 - val_accuracy: 0.7240\n",
            "Epoch 10/80\n",
            "4243/4243 [==============================] - 3s 639us/sample - loss: 0.0035 - accuracy: 1.0000 - val_loss: 0.7052 - val_accuracy: 0.7240\n",
            "Epoch 11/80\n",
            "4243/4243 [==============================] - 3s 624us/sample - loss: 0.0028 - accuracy: 1.0000 - val_loss: 0.7202 - val_accuracy: 0.7246\n",
            "Epoch 12/80\n",
            "4243/4243 [==============================] - 3s 635us/sample - loss: 0.0022 - accuracy: 1.0000 - val_loss: 0.7336 - val_accuracy: 0.7229\n",
            "Epoch 13/80\n",
            "4243/4243 [==============================] - 3s 623us/sample - loss: 0.0018 - accuracy: 1.0000 - val_loss: 0.7464 - val_accuracy: 0.7229\n",
            "Epoch 14/80\n",
            "4243/4243 [==============================] - 3s 620us/sample - loss: 0.0015 - accuracy: 1.0000 - val_loss: 0.7579 - val_accuracy: 0.7218\n",
            "Epoch 15/80\n",
            "4243/4243 [==============================] - 3s 629us/sample - loss: 0.0013 - accuracy: 1.0000 - val_loss: 0.7700 - val_accuracy: 0.7235\n",
            "Epoch 16/80\n",
            "4243/4243 [==============================] - 3s 634us/sample - loss: 0.0011 - accuracy: 1.0000 - val_loss: 0.7801 - val_accuracy: 0.7218\n",
            "Epoch 17/80\n",
            "4243/4243 [==============================] - 3s 628us/sample - loss: 9.5458e-04 - accuracy: 1.0000 - val_loss: 0.7904 - val_accuracy: 0.7218\n",
            "Epoch 18/80\n",
            "4243/4243 [==============================] - 3s 631us/sample - loss: 8.2739e-04 - accuracy: 1.0000 - val_loss: 0.8006 - val_accuracy: 0.7213\n",
            "Epoch 19/80\n",
            "4243/4243 [==============================] - 3s 634us/sample - loss: 7.2199e-04 - accuracy: 1.0000 - val_loss: 0.8099 - val_accuracy: 0.7202\n",
            "Epoch 20/80\n",
            "4243/4243 [==============================] - 3s 625us/sample - loss: 6.3343e-04 - accuracy: 1.0000 - val_loss: 0.8191 - val_accuracy: 0.7196\n",
            "Epoch 21/80\n",
            "4243/4243 [==============================] - 3s 623us/sample - loss: 5.5885e-04 - accuracy: 1.0000 - val_loss: 0.8280 - val_accuracy: 0.7191\n",
            "Epoch 22/80\n",
            "4243/4243 [==============================] - 3s 624us/sample - loss: 4.9522e-04 - accuracy: 1.0000 - val_loss: 0.8369 - val_accuracy: 0.7191\n",
            "Epoch 23/80\n",
            "4243/4243 [==============================] - 3s 636us/sample - loss: 4.4039e-04 - accuracy: 1.0000 - val_loss: 0.8453 - val_accuracy: 0.7191\n",
            "Epoch 24/80\n",
            "4243/4243 [==============================] - 3s 626us/sample - loss: 3.9301e-04 - accuracy: 1.0000 - val_loss: 0.8536 - val_accuracy: 0.7191\n",
            "Epoch 25/80\n",
            "4243/4243 [==============================] - 3s 629us/sample - loss: 3.5197e-04 - accuracy: 1.0000 - val_loss: 0.8615 - val_accuracy: 0.7191\n",
            "Epoch 26/80\n",
            "4243/4243 [==============================] - 3s 630us/sample - loss: 3.1604e-04 - accuracy: 1.0000 - val_loss: 0.8694 - val_accuracy: 0.7185\n",
            "Epoch 27/80\n",
            "4243/4243 [==============================] - 3s 637us/sample - loss: 2.8455e-04 - accuracy: 1.0000 - val_loss: 0.8769 - val_accuracy: 0.7185\n",
            "Epoch 28/80\n",
            "4243/4243 [==============================] - 3s 631us/sample - loss: 2.5672e-04 - accuracy: 1.0000 - val_loss: 0.8845 - val_accuracy: 0.7185\n",
            "Epoch 29/80\n",
            "4243/4243 [==============================] - 3s 640us/sample - loss: 2.3222e-04 - accuracy: 1.0000 - val_loss: 0.8922 - val_accuracy: 0.7185\n",
            "Epoch 30/80\n",
            "4243/4243 [==============================] - 3s 636us/sample - loss: 2.1035e-04 - accuracy: 1.0000 - val_loss: 0.8996 - val_accuracy: 0.7185\n",
            "Epoch 31/80\n",
            "4243/4243 [==============================] - 3s 640us/sample - loss: 1.9101e-04 - accuracy: 1.0000 - val_loss: 0.9069 - val_accuracy: 0.7174\n",
            "Epoch 32/80\n",
            "4243/4243 [==============================] - 3s 646us/sample - loss: 1.7362e-04 - accuracy: 1.0000 - val_loss: 0.9137 - val_accuracy: 0.7174\n",
            "Epoch 33/80\n",
            "4243/4243 [==============================] - 3s 623us/sample - loss: 1.5808e-04 - accuracy: 1.0000 - val_loss: 0.9209 - val_accuracy: 0.7169\n",
            "Epoch 34/80\n",
            "4243/4243 [==============================] - 3s 635us/sample - loss: 1.4415e-04 - accuracy: 1.0000 - val_loss: 0.9277 - val_accuracy: 0.7163\n",
            "Epoch 35/80\n",
            "4243/4243 [==============================] - 3s 637us/sample - loss: 1.3162e-04 - accuracy: 1.0000 - val_loss: 0.9346 - val_accuracy: 0.7169\n",
            "Epoch 36/80\n",
            "4243/4243 [==============================] - 3s 626us/sample - loss: 1.2035e-04 - accuracy: 1.0000 - val_loss: 0.9415 - val_accuracy: 0.7169\n",
            "Epoch 37/80\n",
            "4243/4243 [==============================] - 3s 637us/sample - loss: 1.1014e-04 - accuracy: 1.0000 - val_loss: 0.9482 - val_accuracy: 0.7158\n",
            "Epoch 38/80\n",
            "4243/4243 [==============================] - 3s 626us/sample - loss: 1.0090e-04 - accuracy: 1.0000 - val_loss: 0.9547 - val_accuracy: 0.7158\n",
            "Epoch 39/80\n",
            "4243/4243 [==============================] - 3s 635us/sample - loss: 9.2528e-05 - accuracy: 1.0000 - val_loss: 0.9612 - val_accuracy: 0.7158\n",
            "Epoch 40/80\n",
            "4243/4243 [==============================] - 3s 616us/sample - loss: 8.4925e-05 - accuracy: 1.0000 - val_loss: 0.9677 - val_accuracy: 0.7152\n",
            "Epoch 41/80\n",
            "4243/4243 [==============================] - 3s 620us/sample - loss: 7.7982e-05 - accuracy: 1.0000 - val_loss: 0.9746 - val_accuracy: 0.7141\n",
            "Epoch 42/80\n",
            "4243/4243 [==============================] - 3s 627us/sample - loss: 7.1684e-05 - accuracy: 1.0000 - val_loss: 0.9809 - val_accuracy: 0.7141\n",
            "Epoch 43/80\n",
            "4243/4243 [==============================] - 3s 627us/sample - loss: 6.5949e-05 - accuracy: 1.0000 - val_loss: 0.9876 - val_accuracy: 0.7136\n",
            "Epoch 44/80\n",
            "4243/4243 [==============================] - 3s 639us/sample - loss: 6.0699e-05 - accuracy: 1.0000 - val_loss: 0.9939 - val_accuracy: 0.7141\n",
            "Epoch 45/80\n",
            "4243/4243 [==============================] - 3s 652us/sample - loss: 5.5907e-05 - accuracy: 1.0000 - val_loss: 1.0004 - val_accuracy: 0.7141\n",
            "Epoch 46/80\n",
            "4243/4243 [==============================] - 3s 656us/sample - loss: 5.1512e-05 - accuracy: 1.0000 - val_loss: 1.0065 - val_accuracy: 0.7141\n",
            "Epoch 47/80\n",
            "4243/4243 [==============================] - 3s 644us/sample - loss: 4.7502e-05 - accuracy: 1.0000 - val_loss: 1.0129 - val_accuracy: 0.7136\n",
            "Epoch 48/80\n",
            "4243/4243 [==============================] - 3s 625us/sample - loss: 4.3834e-05 - accuracy: 1.0000 - val_loss: 1.0191 - val_accuracy: 0.7136\n",
            "Epoch 49/80\n",
            "4243/4243 [==============================] - 3s 617us/sample - loss: 4.0453e-05 - accuracy: 1.0000 - val_loss: 1.0253 - val_accuracy: 0.7130\n",
            "Epoch 50/80\n",
            "4243/4243 [==============================] - 3s 630us/sample - loss: 3.7362e-05 - accuracy: 1.0000 - val_loss: 1.0316 - val_accuracy: 0.7136\n",
            "Epoch 51/80\n",
            "4243/4243 [==============================] - 3s 623us/sample - loss: 3.4517e-05 - accuracy: 1.0000 - val_loss: 1.0378 - val_accuracy: 0.7125\n",
            "Epoch 52/80\n",
            "4243/4243 [==============================] - 3s 621us/sample - loss: 3.1910e-05 - accuracy: 1.0000 - val_loss: 1.0439 - val_accuracy: 0.7125\n",
            "Epoch 53/80\n",
            "4243/4243 [==============================] - 3s 620us/sample - loss: 2.9499e-05 - accuracy: 1.0000 - val_loss: 1.0500 - val_accuracy: 0.7125\n",
            "Epoch 54/80\n",
            "4243/4243 [==============================] - 3s 631us/sample - loss: 2.7294e-05 - accuracy: 1.0000 - val_loss: 1.0562 - val_accuracy: 0.7119\n",
            "Epoch 55/80\n",
            "4243/4243 [==============================] - 3s 632us/sample - loss: 2.5255e-05 - accuracy: 1.0000 - val_loss: 1.0625 - val_accuracy: 0.7119\n",
            "Epoch 56/80\n",
            "4243/4243 [==============================] - 3s 624us/sample - loss: 2.3374e-05 - accuracy: 1.0000 - val_loss: 1.0686 - val_accuracy: 0.7119\n",
            "Epoch 57/80\n",
            "4243/4243 [==============================] - 3s 624us/sample - loss: 2.1642e-05 - accuracy: 1.0000 - val_loss: 1.0744 - val_accuracy: 0.7114\n",
            "Epoch 58/80\n",
            "4243/4243 [==============================] - 3s 626us/sample - loss: 2.0044e-05 - accuracy: 1.0000 - val_loss: 1.0806 - val_accuracy: 0.7108\n",
            "Epoch 59/80\n",
            "4243/4243 [==============================] - 3s 622us/sample - loss: 1.8573e-05 - accuracy: 1.0000 - val_loss: 1.0869 - val_accuracy: 0.7103\n",
            "Epoch 60/80\n",
            "4243/4243 [==============================] - 3s 614us/sample - loss: 1.7213e-05 - accuracy: 1.0000 - val_loss: 1.0930 - val_accuracy: 0.7103\n",
            "Epoch 61/80\n",
            "4243/4243 [==============================] - 3s 626us/sample - loss: 1.5958e-05 - accuracy: 1.0000 - val_loss: 1.0992 - val_accuracy: 0.7103\n",
            "Epoch 62/80\n",
            "4243/4243 [==============================] - 3s 646us/sample - loss: 1.4798e-05 - accuracy: 1.0000 - val_loss: 1.1052 - val_accuracy: 0.7103\n",
            "Epoch 63/80\n",
            "4243/4243 [==============================] - 3s 636us/sample - loss: 1.3726e-05 - accuracy: 1.0000 - val_loss: 1.1108 - val_accuracy: 0.7103\n",
            "Epoch 64/80\n",
            "4243/4243 [==============================] - 3s 638us/sample - loss: 1.2736e-05 - accuracy: 1.0000 - val_loss: 1.1169 - val_accuracy: 0.7097\n",
            "Epoch 65/80\n",
            "4243/4243 [==============================] - 3s 635us/sample - loss: 1.1818e-05 - accuracy: 1.0000 - val_loss: 1.1229 - val_accuracy: 0.7097\n",
            "Epoch 66/80\n",
            "4243/4243 [==============================] - 3s 627us/sample - loss: 1.0968e-05 - accuracy: 1.0000 - val_loss: 1.1288 - val_accuracy: 0.7097\n",
            "Epoch 67/80\n",
            "4243/4243 [==============================] - 3s 614us/sample - loss: 1.0185e-05 - accuracy: 1.0000 - val_loss: 1.1349 - val_accuracy: 0.7097\n",
            "Epoch 68/80\n",
            "4243/4243 [==============================] - 3s 616us/sample - loss: 9.4616e-06 - accuracy: 1.0000 - val_loss: 1.1408 - val_accuracy: 0.7097\n",
            "Epoch 69/80\n",
            "4243/4243 [==============================] - 3s 612us/sample - loss: 8.7877e-06 - accuracy: 1.0000 - val_loss: 1.1464 - val_accuracy: 0.7097\n",
            "Epoch 70/80\n",
            "4243/4243 [==============================] - 3s 623us/sample - loss: 8.1675e-06 - accuracy: 1.0000 - val_loss: 1.1528 - val_accuracy: 0.7092\n",
            "Epoch 71/80\n",
            "4243/4243 [==============================] - 3s 607us/sample - loss: 7.5884e-06 - accuracy: 1.0000 - val_loss: 1.1588 - val_accuracy: 0.7092\n",
            "Epoch 72/80\n",
            "4243/4243 [==============================] - 3s 613us/sample - loss: 7.0541e-06 - accuracy: 1.0000 - val_loss: 1.1647 - val_accuracy: 0.7092\n",
            "Epoch 73/80\n",
            "4243/4243 [==============================] - 3s 605us/sample - loss: 6.5586e-06 - accuracy: 1.0000 - val_loss: 1.1705 - val_accuracy: 0.7092\n",
            "Epoch 74/80\n",
            "4243/4243 [==============================] - 3s 618us/sample - loss: 6.1001e-06 - accuracy: 1.0000 - val_loss: 1.1763 - val_accuracy: 0.7092\n",
            "Epoch 75/80\n",
            "4243/4243 [==============================] - 3s 610us/sample - loss: 5.6749e-06 - accuracy: 1.0000 - val_loss: 1.1824 - val_accuracy: 0.7092\n",
            "Epoch 76/80\n",
            "4243/4243 [==============================] - 3s 609us/sample - loss: 5.2780e-06 - accuracy: 1.0000 - val_loss: 1.1881 - val_accuracy: 0.7092\n",
            "Epoch 77/80\n",
            "4243/4243 [==============================] - 3s 615us/sample - loss: 4.9124e-06 - accuracy: 1.0000 - val_loss: 1.1940 - val_accuracy: 0.7092\n",
            "Epoch 78/80\n",
            "4243/4243 [==============================] - 3s 614us/sample - loss: 4.5732e-06 - accuracy: 1.0000 - val_loss: 1.1997 - val_accuracy: 0.7092\n",
            "Epoch 79/80\n",
            "4243/4243 [==============================] - 3s 600us/sample - loss: 4.2578e-06 - accuracy: 1.0000 - val_loss: 1.2059 - val_accuracy: 0.7092\n",
            "Epoch 80/80\n",
            "4243/4243 [==============================] - 3s 602us/sample - loss: 3.9644e-06 - accuracy: 1.0000 - val_loss: 1.2117 - val_accuracy: 0.7086\n"
          ],
          "name": "stdout"
        },
        {
          "output_type": "execute_result",
          "data": {
            "text/plain": [
              "<tensorflow.python.keras.callbacks.History at 0x7fcf8047d828>"
            ]
          },
          "metadata": {
            "tags": []
          },
          "execution_count": 65
        }
      ]
    },
    {
      "cell_type": "code",
      "metadata": {
        "id": "Wck_zQ0ZeoV7",
        "colab_type": "code",
        "colab": {
          "base_uri": "https://localhost:8080/",
          "height": 34
        },
        "outputId": "647307eb-2c37-4982-c21d-9e44ae461b76"
      },
      "source": [
        "#fazer a predição para \"10* nice + 10*loved\"\n",
        "#tentar melhorar o modelo\n",
        "\n",
        "model.predict([[5654]*20])"
      ],
      "execution_count": 74,
      "outputs": [
        {
          "output_type": "execute_result",
          "data": {
            "text/plain": [
              "array([[0.55700016]], dtype=float32)"
            ]
          },
          "metadata": {
            "tags": []
          },
          "execution_count": 74
        }
      ]
    }
  ]
}