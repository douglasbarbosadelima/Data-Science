{
  "nbformat": 4,
  "nbformat_minor": 0,
  "metadata": {
    "colab": {
      "name": "doenca.ipynb",
      "provenance": [],
      "collapsed_sections": [],
      "include_colab_link": true
    },
    "kernelspec": {
      "name": "python3",
      "display_name": "Python 3"
    }
  },
  "cells": [
    {
      "cell_type": "markdown",
      "metadata": {
        "id": "view-in-github",
        "colab_type": "text"
      },
      "source": [
        "<a href=\"https://colab.research.google.com/github/douglasbarbosadelima/Data-Science/blob/master/doenca.ipynb\" target=\"_parent\"><img src=\"https://colab.research.google.com/assets/colab-badge.svg\" alt=\"Open In Colab\"/></a>"
      ]
    },
    {
      "cell_type": "markdown",
      "metadata": {
        "id": "06D_2Q-CbZBn",
        "colab_type": "text"
      },
      "source": [
        "Classificação: regressão logística com sklearn"
      ]
    },
    {
      "cell_type": "code",
      "metadata": {
        "id": "mGgmKKHQ8hng",
        "colab_type": "code",
        "colab": {}
      },
      "source": [
        "import pandas as pd #biblioteca para processamento de dados\n",
        "import numpy as np #biblioteca para computação científica\n",
        "import matplotlib.pyplot as plt #gráficos\n",
        "from sklearn.linear_model import LogisticRegression #Modelo de regresão logística\n",
        "from sklearn.metrics import accuracy_score #acurácia\n"
      ],
      "execution_count": 0,
      "outputs": []
    },
    {
      "cell_type": "markdown",
      "metadata": {
        "id": "ITw4v89_gBDE",
        "colab_type": "text"
      },
      "source": [
        "Carregar diretamente o dataframe via url\n"
      ]
    },
    {
      "cell_type": "code",
      "metadata": {
        "id": "1wvfKFFJgHhN",
        "colab_type": "code",
        "colab": {
          "base_uri": "https://localhost:8080/",
          "height": 204
        },
        "outputId": "1c85cfd6-f05e-4608-9b32-3f58e728ff01"
      },
      "source": [
        "df = pd.read_csv('http://linkededucation.com.br/dl/doenca.csv', delimiter=';')\n",
        "\n",
        "df.head()"
      ],
      "execution_count": 18,
      "outputs": [
        {
          "output_type": "execute_result",
          "data": {
            "text/html": [
              "<div>\n",
              "<style scoped>\n",
              "    .dataframe tbody tr th:only-of-type {\n",
              "        vertical-align: middle;\n",
              "    }\n",
              "\n",
              "    .dataframe tbody tr th {\n",
              "        vertical-align: top;\n",
              "    }\n",
              "\n",
              "    .dataframe thead th {\n",
              "        text-align: right;\n",
              "    }\n",
              "</style>\n",
              "<table border=\"1\" class=\"dataframe\">\n",
              "  <thead>\n",
              "    <tr style=\"text-align: right;\">\n",
              "      <th></th>\n",
              "      <th>colest</th>\n",
              "      <th>Triglic</th>\n",
              "      <th>Doenca</th>\n",
              "    </tr>\n",
              "  </thead>\n",
              "  <tbody>\n",
              "    <tr>\n",
              "      <th>0</th>\n",
              "      <td>2</td>\n",
              "      <td>20</td>\n",
              "      <td>1</td>\n",
              "    </tr>\n",
              "    <tr>\n",
              "      <th>1</th>\n",
              "      <td>3</td>\n",
              "      <td>15</td>\n",
              "      <td>1</td>\n",
              "    </tr>\n",
              "    <tr>\n",
              "      <th>2</th>\n",
              "      <td>8</td>\n",
              "      <td>12</td>\n",
              "      <td>1</td>\n",
              "    </tr>\n",
              "    <tr>\n",
              "      <th>3</th>\n",
              "      <td>7</td>\n",
              "      <td>14</td>\n",
              "      <td>1</td>\n",
              "    </tr>\n",
              "    <tr>\n",
              "      <th>4</th>\n",
              "      <td>15</td>\n",
              "      <td>10</td>\n",
              "      <td>1</td>\n",
              "    </tr>\n",
              "  </tbody>\n",
              "</table>\n",
              "</div>"
            ],
            "text/plain": [
              "   colest  Triglic  Doenca\n",
              "0       2       20       1\n",
              "1       3       15       1\n",
              "2       8       12       1\n",
              "3       7       14       1\n",
              "4      15       10       1"
            ]
          },
          "metadata": {
            "tags": []
          },
          "execution_count": 18
        }
      ]
    },
    {
      "cell_type": "markdown",
      "metadata": {
        "id": "Xtl_Rf-4gKU6",
        "colab_type": "text"
      },
      "source": [
        "Verificar possível separabilidade linear\n",
        "\n"
      ]
    },
    {
      "cell_type": "code",
      "metadata": {
        "id": "-jQsFTdnboBz",
        "colab_type": "code",
        "colab": {
          "base_uri": "https://localhost:8080/",
          "height": 265
        },
        "outputId": "d225bfb1-cb20-40a0-c3d3-2baf586516ef"
      },
      "source": [
        "# Não separável 100% linearmente\n",
        "\n",
        "for i in range(len(df)):\n",
        "  if df.iloc[i, 2] == 1: plt.plot(df.iloc[i, 0], df.iloc[i, 1], 'ro')\n",
        "  else: plt.plot(df.iloc[i, 0], df.iloc[i, 1], 'bo')\n",
        "\n",
        "plt.show()"
      ],
      "execution_count": 19,
      "outputs": [
        {
          "output_type": "display_data",
          "data": {
            "image/png": "[encoded data removed]",
            "text/plain": [
              "<Figure size 432x288 with 1 Axes>"
            ]
          },
          "metadata": {
            "tags": []
          }
        }
      ]
    },
    {
      "cell_type": "markdown",
      "metadata": {
        "id": "FLoDO61sjRvk",
        "colab_type": "text"
      },
      "source": [
        "Criar o target y como a série Doenca do dataframe\n",
        "Retirar a série Doenca do dataframe\n"
      ]
    },
    {
      "cell_type": "code",
      "metadata": {
        "id": "wPrCq10Jd7eS",
        "colab_type": "code",
        "colab": {
          "base_uri": "https://localhost:8080/",
          "height": 204
        },
        "outputId": "2271201e-9843-4656-bcfe-0b765e708bab"
      },
      "source": [
        "y = df['Doenca']\n",
        "df = df.drop(columns='Doenca', axis=1)\n",
        "\n",
        "y"
      ],
      "execution_count": 20,
      "outputs": [
        {
          "output_type": "execute_result",
          "data": {
            "text/plain": [
              "0    1\n",
              "1    1\n",
              "2    1\n",
              "3    1\n",
              "4    1\n",
              "5    0\n",
              "6    0\n",
              "7    0\n",
              "8    0\n",
              "9    0\n",
              "Name: Doenca, dtype: int64"
            ]
          },
          "metadata": {
            "tags": []
          },
          "execution_count": 20
        }
      ]
    },
    {
      "cell_type": "markdown",
      "metadata": {
        "id": "lo3lhcALje1m",
        "colab_type": "text"
      },
      "source": [
        "Converter dataframe e tagret para arrays (X e y)"
      ]
    },
    {
      "cell_type": "code",
      "metadata": {
        "id": "NJdyHo8xeZDN",
        "colab_type": "code",
        "colab": {
          "base_uri": "https://localhost:8080/",
          "height": 187
        },
        "outputId": "5947a23a-0d72-4f66-f57a-b06de3a06d53"
      },
      "source": [
        "X = np.array(df)\n",
        "y = np.array(y)\n",
        "\n",
        "X, y"
      ],
      "execution_count": 21,
      "outputs": [
        {
          "output_type": "execute_result",
          "data": {
            "text/plain": [
              "(array([[ 2, 20],\n",
              "        [ 3, 15],\n",
              "        [ 8, 12],\n",
              "        [ 7, 14],\n",
              "        [15, 10],\n",
              "        [12,  8],\n",
              "        [15, 17],\n",
              "        [17,  8],\n",
              "        [16,  2],\n",
              "        [19, 11]]), array([1, 1, 1, 1, 1, 0, 0, 0, 0, 0]))"
            ]
          },
          "metadata": {
            "tags": []
          },
          "execution_count": 21
        }
      ]
    },
    {
      "cell_type": "markdown",
      "metadata": {
        "id": "StrQ65lHj3vH",
        "colab_type": "text"
      },
      "source": [
        "Instanciar Modelo de Regressão Logística\n",
        "Treiná-lo (fit)\n",
        "Gerar predição para todo o dataset (ye)\n",
        "Verificar acurácia na amostra de treinamento (toda a amostra)"
      ]
    },
    {
      "cell_type": "code",
      "metadata": {
        "id": "VK9_Ub7Eeuzq",
        "colab_type": "code",
        "colab": {
          "base_uri": "https://localhost:8080/",
          "height": 34
        },
        "outputId": "36ce3840-2773-4915-bdba-4ce003ce3189"
      },
      "source": [
        "model = LogisticRegression()\n",
        "model.fit(X, y)\n",
        "ye = model.predict(X)\n",
        "\n",
        "str(accuracy_score(y, ye) * 100) + '%'"
      ],
      "execution_count": 22,
      "outputs": [
        {
          "output_type": "execute_result",
          "data": {
            "text/plain": [
              "'90.0%'"
            ]
          },
          "metadata": {
            "tags": []
          },
          "execution_count": 22
        }
      ]
    },
    {
      "cell_type": "markdown",
      "metadata": {
        "id": "KE5w4DN_kP0v",
        "colab_type": "text"
      },
      "source": [
        "Criar no Dataframe novas séries com valores previstos e reais para comparação"
      ]
    },
    {
      "cell_type": "code",
      "metadata": {
        "id": "1cfoDTQBfqHn",
        "colab_type": "code",
        "colab": {
          "base_uri": "https://localhost:8080/",
          "height": 359
        },
        "outputId": "bed1eaa7-b59b-4447-e71d-085c87e4c3ec"
      },
      "source": [
        "df['y'] = y\n",
        "df ['ye'] = ye\n",
        "\n",
        "df"
      ],
      "execution_count": 24,
      "outputs": [
        {
          "output_type": "execute_result",
          "data": {
            "text/html": [
              "<div>\n",
              "<style scoped>\n",
              "    .dataframe tbody tr th:only-of-type {\n",
              "        vertical-align: middle;\n",
              "    }\n",
              "\n",
              "    .dataframe tbody tr th {\n",
              "        vertical-align: top;\n",
              "    }\n",
              "\n",
              "    .dataframe thead th {\n",
              "        text-align: right;\n",
              "    }\n",
              "</style>\n",
              "<table border=\"1\" class=\"dataframe\">\n",
              "  <thead>\n",
              "    <tr style=\"text-align: right;\">\n",
              "      <th></th>\n",
              "      <th>colest</th>\n",
              "      <th>Triglic</th>\n",
              "      <th>y</th>\n",
              "      <th>ye</th>\n",
              "    </tr>\n",
              "  </thead>\n",
              "  <tbody>\n",
              "    <tr>\n",
              "      <th>0</th>\n",
              "      <td>2</td>\n",
              "      <td>20</td>\n",
              "      <td>1</td>\n",
              "      <td>1</td>\n",
              "    </tr>\n",
              "    <tr>\n",
              "      <th>1</th>\n",
              "      <td>3</td>\n",
              "      <td>15</td>\n",
              "      <td>1</td>\n",
              "      <td>1</td>\n",
              "    </tr>\n",
              "    <tr>\n",
              "      <th>2</th>\n",
              "      <td>8</td>\n",
              "      <td>12</td>\n",
              "      <td>1</td>\n",
              "      <td>1</td>\n",
              "    </tr>\n",
              "    <tr>\n",
              "      <th>3</th>\n",
              "      <td>7</td>\n",
              "      <td>14</td>\n",
              "      <td>1</td>\n",
              "      <td>1</td>\n",
              "    </tr>\n",
              "    <tr>\n",
              "      <th>4</th>\n",
              "      <td>15</td>\n",
              "      <td>10</td>\n",
              "      <td>1</td>\n",
              "      <td>0</td>\n",
              "    </tr>\n",
              "    <tr>\n",
              "      <th>5</th>\n",
              "      <td>12</td>\n",
              "      <td>8</td>\n",
              "      <td>0</td>\n",
              "      <td>0</td>\n",
              "    </tr>\n",
              "    <tr>\n",
              "      <th>6</th>\n",
              "      <td>15</td>\n",
              "      <td>17</td>\n",
              "      <td>0</td>\n",
              "      <td>0</td>\n",
              "    </tr>\n",
              "    <tr>\n",
              "      <th>7</th>\n",
              "      <td>17</td>\n",
              "      <td>8</td>\n",
              "      <td>0</td>\n",
              "      <td>0</td>\n",
              "    </tr>\n",
              "    <tr>\n",
              "      <th>8</th>\n",
              "      <td>16</td>\n",
              "      <td>2</td>\n",
              "      <td>0</td>\n",
              "      <td>0</td>\n",
              "    </tr>\n",
              "    <tr>\n",
              "      <th>9</th>\n",
              "      <td>19</td>\n",
              "      <td>11</td>\n",
              "      <td>0</td>\n",
              "      <td>0</td>\n",
              "    </tr>\n",
              "  </tbody>\n",
              "</table>\n",
              "</div>"
            ],
            "text/plain": [
              "   colest  Triglic  y  ye\n",
              "0       2       20  1   1\n",
              "1       3       15  1   1\n",
              "2       8       12  1   1\n",
              "3       7       14  1   1\n",
              "4      15       10  1   0\n",
              "5      12        8  0   0\n",
              "6      15       17  0   0\n",
              "7      17        8  0   0\n",
              "8      16        2  0   0\n",
              "9      19       11  0   0"
            ]
          },
          "metadata": {
            "tags": []
          },
          "execution_count": 24
        }
      ]
    }
  ]
}