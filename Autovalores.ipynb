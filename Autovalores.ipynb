{
  "nbformat": 4,
  "nbformat_minor": 0,
  "metadata": {
    "kernelspec": {
      "display_name": "Python 3",
      "language": "python",
      "name": "python3"
    },
    "language_info": {
      "codemirror_mode": {
        "name": "ipython",
        "version": 3
      },
      "file_extension": ".py",
      "mimetype": "text/x-python",
      "name": "python",
      "nbconvert_exporter": "python",
      "pygments_lexer": "ipython3",
      "version": "3.6.5"
    },
    "colab": {
      "name": "Autovalores.ipynb",
      "provenance": [],
      "include_colab_link": true
    }
  },
  "cells": [
    {
      "cell_type": "markdown",
      "metadata": {
        "id": "view-in-github",
        "colab_type": "text"
      },
      "source": [
        "<a href=\"https://colab.research.google.com/github/douglasbarbosadelima/Data-Science/blob/master/Autovalores.ipynb\" target=\"_parent\"><img src=\"https://colab.research.google.com/assets/colab-badge.svg\" alt=\"Open In Colab\"/></a>"
      ]
    },
    {
      "cell_type": "markdown",
      "metadata": {
        "id": "d8kYI1JEE_5Y",
        "colab_type": "text"
      },
      "source": [
        "# Autovalores"
      ]
    },
    {
      "cell_type": "code",
      "metadata": {
        "id": "eTAloX0-E_5Z",
        "colab_type": "code",
        "colab": {}
      },
      "source": [
        "import numpy as np\n",
        "m=np.array([[1,-2],[3,9]])"
      ],
      "execution_count": 0,
      "outputs": []
    },
    {
      "cell_type": "code",
      "metadata": {
        "id": "-RBw75A9E_5c",
        "colab_type": "code",
        "colab": {},
        "outputId": "d3d31ef1-0199-4c98-87b8-18271a86f00c"
      },
      "source": [
        "a_val,a_vet=np.linalg.eig(m)\n",
        "print(a_val)\n",
        "print(a_vet)"
      ],
      "execution_count": 0,
      "outputs": [
        {
          "output_type": "stream",
          "text": [
            "[1.83772234 8.16227766]\n",
            "[[-0.92235669  0.26895177]\n",
            " [ 0.3863394  -0.96315364]]\n"
          ],
          "name": "stdout"
        }
      ]
    },
    {
      "cell_type": "code",
      "metadata": {
        "id": "n6SARfeKE_5g",
        "colab_type": "code",
        "colab": {},
        "outputId": "e5cfa804-0b31-4174-ad16-30af3383a0e3"
      },
      "source": [
        "np.dot(m,a_vet[:,0]),a_val[0]*a_vet[:,0]"
      ],
      "execution_count": 0,
      "outputs": [
        {
          "output_type": "execute_result",
          "data": {
            "text/plain": [
              "(array([-1.6950355 ,  0.70998455]), array([-1.6950355 ,  0.70998455]))"
            ]
          },
          "metadata": {
            "tags": []
          },
          "execution_count": 10
        }
      ]
    },
    {
      "cell_type": "code",
      "metadata": {
        "id": "GsH2heG5E_5i",
        "colab_type": "code",
        "colab": {},
        "outputId": "3c1e25a1-62a4-425b-8c5d-2b32f40a38c9"
      },
      "source": [
        "np.dot(m,a_vet[:,1]),a_val[1]*a_vet[:,1]"
      ],
      "execution_count": 0,
      "outputs": [
        {
          "output_type": "execute_result",
          "data": {
            "text/plain": [
              "(array([ 2.19525906, -7.86152748]), array([ 2.19525906, -7.86152748]))"
            ]
          },
          "metadata": {
            "tags": []
          },
          "execution_count": 11
        }
      ]
    }
  ]
}