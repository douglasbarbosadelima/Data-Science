{
  "nbformat": 4,
  "nbformat_minor": 0,
  "metadata": {
    "kernelspec": {
      "display_name": "Python 3",
      "language": "python",
      "name": "python3"
    },
    "language_info": {
      "codemirror_mode": {
        "name": "ipython",
        "version": 3
      },
      "file_extension": ".py",
      "mimetype": "text/x-python",
      "name": "python",
      "nbconvert_exporter": "python",
      "pygments_lexer": "ipython3",
      "version": "3.6.3"
    },
    "colab": {
      "name": "Decision_tree.ipynb",
      "provenance": [],
      "include_colab_link": true
    }
  },
  "cells": [
    {
      "cell_type": "markdown",
      "metadata": {
        "id": "view-in-github",
        "colab_type": "text"
      },
      "source": [
        "<a href=\"https://colab.research.google.com/github/douglasbarbosadelima/Data-Science/blob/master/Decision_tree.ipynb\" target=\"_parent\"><img src=\"https://colab.research.google.com/assets/colab-badge.svg\" alt=\"Open In Colab\"/></a>"
      ]
    },
    {
      "cell_type": "markdown",
      "metadata": {
        "id": "BXgEEU1iYhyh",
        "colab_type": "text"
      },
      "source": [
        "# Decision Tree\n",
        "\n"
      ]
    },
    {
      "cell_type": "code",
      "metadata": {
        "id": "2TbE3FFLYhyj",
        "colab_type": "code",
        "colab": {}
      },
      "source": [
        "from sklearn import tree\n",
        "import numpy as np"
      ],
      "execution_count": 0,
      "outputs": []
    },
    {
      "cell_type": "code",
      "metadata": {
        "id": "mPqCEF-LYhym",
        "colab_type": "code",
        "colab": {}
      },
      "source": [
        "def get_code(treex, feature_names):\n",
        "    \n",
        "    '''\n",
        "      mostra a decisão da árvore...adaptado de ?\n",
        "    '''\n",
        "    left      = treex.children_left\n",
        "    right     = treex.children_right\n",
        "    threshold = treex.threshold\n",
        "    features  = [feature_names[i] for i in treex.feature]\n",
        "    value = treex.value\n",
        "\n",
        "    def recurse(left, right, threshold, features, node):\n",
        "            if (threshold[node] != -2):\n",
        "                    print (\"if ( \" + features[node] + \" <= \" + str(threshold[node]) + \" ) {\")\n",
        "                    if left[node] != -1:\n",
        "                            recurse (left, right, threshold, features,left[node])\n",
        "                    print (\"} else {\")\n",
        "                    if right[node] != -1:\n",
        "                            recurse (left, right, threshold, features,right[node])\n",
        "                    print( \"}\")\n",
        "            else:\n",
        "                    print( \"return \" + str(value[node]))\n",
        "\n",
        "    recurse(left, right, threshold, features, 0)\n",
        "\n",
        "\n",
        "\n"
      ],
      "execution_count": 0,
      "outputs": []
    },
    {
      "cell_type": "code",
      "metadata": {
        "id": "FK_ua-UZYhyo",
        "colab_type": "code",
        "colab": {
          "base_uri": "https://localhost:8080/",
          "height": 204
        },
        "outputId": "a230394b-11d8-4fb5-9632-bab013ecce0e"
      },
      "source": [
        "# As features são salário, clt ou não e tempo no cargo\n",
        "\n",
        "# Observe que não houve standardization...\n",
        "\n",
        "\n",
        "X = np.array( [[1000, 1,4],\n",
        "     [2000, 0,1],\n",
        "     [3000, 1,2],\n",
        "     [4000, 1,2],\n",
        "     [5000, 0,4],\n",
        "     [6000, 1,2],\n",
        "     [7000, 0,1]] )                \n",
        "     \n",
        "Y = np.array([1,0,1,0,1,1,0])\n",
        "\n",
        "clf = tree.DecisionTreeClassifier(max_depth=2,random_state=51)\n",
        "clf = clf.fit(X, Y)\n",
        "print(clf.predict([[500,0,12.8]]))\n",
        "print(clf.feature_importances_)\n",
        "get_code(clf.tree_, [\"sal\",\"clt\",\"anos\"])\n",
        "\n",
        "#Observe que a feature tempo é totalmente classifcadora"
      ],
      "execution_count": 5,
      "outputs": [
        {
          "output_type": "stream",
          "text": [
            "[1]\n",
            "[0. 0. 1.]\n",
            "if ( anos <= 1.5 ) {\n",
            "return [[2. 0.]]\n",
            "} else {\n",
            "if ( anos <= 3.0 ) {\n",
            "return [[1. 2.]]\n",
            "} else {\n",
            "return [[0. 2.]]\n",
            "}\n",
            "}\n"
          ],
          "name": "stdout"
        }
      ]
    },
    {
      "cell_type": "markdown",
      "metadata": {
        "id": "zZlk1LyLYhys",
        "colab_type": "text"
      },
      "source": [
        "Mude o target para a feture salário influenciar mais que as outras, mas não 100%"
      ]
    },
    {
      "cell_type": "code",
      "metadata": {
        "collapsed": true,
        "id": "S1AP9zKZYhyt",
        "colab_type": "code",
        "colab": {
          "base_uri": "https://localhost:8080/",
          "height": 204
        },
        "outputId": "cba4edba-3e04-46eb-b941-751fd36eeaa7"
      },
      "source": [
        "X = np.array( [[1000, 1,4],\n",
        "     [2000, 0,1],\n",
        "     [3000, 1,2],\n",
        "     [4000, 1,2],\n",
        "     [5000, 0,4],\n",
        "     [6000, 1,2],\n",
        "     [7000, 0,1]] )\n",
        "     \n",
        "Y = np.array([1,1,1,0,0,0,1]) \n",
        "clf = clf.fit(X, Y)\n",
        "print(clf.predict([[500,0,12.8]]))\n",
        "print(clf.feature_importances_)\n",
        "get_code(clf.tree_, [\"sal\",\"clt\",\"anos\"])\n",
        "     \n",
        "\n"
      ],
      "execution_count": 8,
      "outputs": [
        {
          "output_type": "stream",
          "text": [
            "[1]\n",
            "[0.5625 0.     0.4375]\n",
            "if ( sal <= 3500.0 ) {\n",
            "return [[0. 3.]]\n",
            "} else {\n",
            "if ( anos <= 1.5 ) {\n",
            "return [[0. 1.]]\n",
            "} else {\n",
            "return [[3. 0.]]\n",
            "}\n",
            "}\n"
          ],
          "name": "stdout"
        }
      ]
    },
    {
      "cell_type": "markdown",
      "metadata": {
        "id": "sg5M2UZ9Yhyv",
        "colab_type": "text"
      },
      "source": [
        "Forçar nível único...observar a feature importance"
      ]
    },
    {
      "cell_type": "code",
      "metadata": {
        "collapsed": true,
        "id": "4we45JpyYhyv",
        "colab_type": "code",
        "colab": {},
        "outputId": "25b23c38-efa6-4a60-e5ab-e6bd15aa1e46"
      },
      "source": [
        ""
      ],
      "execution_count": 0,
      "outputs": [
        {
          "output_type": "stream",
          "text": [
            "[0]\n",
            "[1. 0. 0.]\n",
            "if ( sal <= 3500.0 ) {\n",
            "return [[3. 0.]]\n",
            "} else {\n",
            "return [[1. 3.]]\n",
            "}\n"
          ],
          "name": "stdout"
        }
      ]
    }
  ]
}