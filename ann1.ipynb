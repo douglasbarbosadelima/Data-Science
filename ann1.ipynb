{
  "nbformat": 4,
  "nbformat_minor": 0,
  "metadata": {
    "kernelspec": {
      "display_name": "Python 3",
      "language": "python",
      "name": "python3"
    },
    "language_info": {
      "codemirror_mode": {
        "name": "ipython",
        "version": 3
      },
      "file_extension": ".py",
      "mimetype": "text/x-python",
      "name": "python",
      "nbconvert_exporter": "python",
      "pygments_lexer": "ipython3",
      "version": "3.6.5"
    },
    "colab": {
      "name": "ann1.ipynb",
      "provenance": [],
      "collapsed_sections": [],
      "include_colab_link": true
    }
  },
  "cells": [
    {
      "cell_type": "markdown",
      "metadata": {
        "id": "view-in-github",
        "colab_type": "text"
      },
      "source": [
        "<a href=\"https://colab.research.google.com/github/douglasbarbosadelima/Data-Science/blob/master/ann1.ipynb\" target=\"_parent\"><img src=\"https://colab.research.google.com/assets/colab-badge.svg\" alt=\"Open In Colab\"/></a>"
      ]
    },
    {
      "cell_type": "markdown",
      "metadata": {
        "id": "ndezHi8Evd6U",
        "colab_type": "text"
      },
      "source": [
        "# ANN 1"
      ]
    },
    {
      "cell_type": "code",
      "metadata": {
        "id": "T6f4H0Eevd6V",
        "colab_type": "code",
        "colab": {}
      },
      "source": [
        "import numpy as np\n",
        "from sklearn.neural_network import MLPClassifier\n",
        "import math\n"
      ],
      "execution_count": 0,
      "outputs": []
    },
    {
      "cell_type": "markdown",
      "metadata": {
        "id": "syKnW6h_vd6X",
        "colab_type": "text"
      },
      "source": [
        "Definindo o Dataset para as funções lógicas"
      ]
    },
    {
      "cell_type": "code",
      "metadata": {
        "id": "zx7568uSvd6Y",
        "colab_type": "code",
        "colab": {}
      },
      "source": [
        "X=np.array([[1,1],[1,0],[0,1],[0,0]])\n",
        "y_and=np.array([1,0,0,0])\n",
        "y_or=np.array([1,1,1,0])\n",
        "y_xor=np.array([0,1,1,0])\n"
      ],
      "execution_count": 0,
      "outputs": []
    },
    {
      "cell_type": "markdown",
      "metadata": {
        "id": "RIaYlXuNvd6a",
        "colab_type": "text"
      },
      "source": [
        "Crie uma rede classificadora com apenas um neurônio na hidden layer para and e or. Obtenha 100% de\n",
        "acurácia para and e or e 75% para xor"
      ]
    },
    {
      "cell_type": "code",
      "metadata": {
        "collapsed": true,
        "id": "lgHs74KIvd6a",
        "colab_type": "code",
        "colab": {}
      },
      "source": [
        "ann = MLPClassifier(hidden_layer_sizes=(1, ), max_iter=50000, random_state=42)"
      ],
      "execution_count": 0,
      "outputs": []
    },
    {
      "cell_type": "code",
      "metadata": {
        "collapsed": true,
        "id": "P08sY2Kuvd6d",
        "colab_type": "code",
        "colab": {
          "base_uri": "https://localhost:8080/",
          "height": 34
        },
        "outputId": "bf584638-0148-44f0-8b6d-8a798cf3dbf4"
      },
      "source": [
        "ann.fit(X,y_and)\n",
        "ann.predict(X)"
      ],
      "execution_count": 60,
      "outputs": [
        {
          "output_type": "execute_result",
          "data": {
            "text/plain": [
              "array([1, 0, 0, 0])"
            ]
          },
          "metadata": {
            "tags": []
          },
          "execution_count": 60
        }
      ]
    },
    {
      "cell_type": "code",
      "metadata": {
        "collapsed": true,
        "id": "k9n2eT9Vvd6g",
        "colab_type": "code",
        "colab": {
          "base_uri": "https://localhost:8080/",
          "height": 34
        },
        "outputId": "d6206b55-eccd-46f5-fa6f-3983c2fad48a"
      },
      "source": [
        "ann.fit(X,y_or)\n",
        "ann.predict(X)"
      ],
      "execution_count": 61,
      "outputs": [
        {
          "output_type": "execute_result",
          "data": {
            "text/plain": [
              "array([1, 1, 1, 0])"
            ]
          },
          "metadata": {
            "tags": []
          },
          "execution_count": 61
        }
      ]
    },
    {
      "cell_type": "code",
      "metadata": {
        "collapsed": true,
        "id": "ALPODOSYvd6j",
        "colab_type": "code",
        "colab": {
          "base_uri": "https://localhost:8080/",
          "height": 34
        },
        "outputId": "ca2868ad-10aa-47c1-a437-d2aaa5da18ab"
      },
      "source": [
        "X1 = np.array([[1,1], [1,1], [1,1], [1,1], [1,1], [1,1], [1,1], [1,1], [1,0], [1,0], [1,0], [1,0], [1,0], [0,1], [0,0]])\n",
        "y_xor1=np.array([0, 0, 0, 0, 0, 0, 0, 0, 1, 1, 1, 1, 1, 0, 0])\n",
        "ann.fit(X1,y_xor1)\n",
        "ann.predict(X) # não conseguimos mais que 75% de acerto com 1 perceptron apenas"
      ],
      "execution_count": 103,
      "outputs": [
        {
          "output_type": "execute_result",
          "data": {
            "text/plain": [
              "array([0, 1, 0, 0])"
            ]
          },
          "metadata": {
            "tags": []
          },
          "execution_count": 103
        }
      ]
    },
    {
      "cell_type": "markdown",
      "metadata": {
        "id": "ByI6hRsQvd6k",
        "colab_type": "text"
      },
      "source": [
        "XOR com 3 neurônios (é possível com 2)"
      ]
    },
    {
      "cell_type": "code",
      "metadata": {
        "id": "kJSAHZTfvd6l",
        "colab_type": "code",
        "colab": {}
      },
      "source": [
        "ann2=MLPClassifier(hidden_layer_sizes=(3,), max_iter=5000)"
      ],
      "execution_count": 0,
      "outputs": []
    },
    {
      "cell_type": "code",
      "metadata": {
        "collapsed": true,
        "id": "KvfVfFy_vd6n",
        "colab_type": "code",
        "colab": {
          "base_uri": "https://localhost:8080/",
          "height": 34
        },
        "outputId": "310e5a8c-fd85-4167-9c62-bac573be653d"
      },
      "source": [
        "ann2.fit(X,y_xor)\n",
        "ann2.predict(X)"
      ],
      "execution_count": 41,
      "outputs": [
        {
          "output_type": "execute_result",
          "data": {
            "text/plain": [
              "array([0, 1, 1, 0])"
            ]
          },
          "metadata": {
            "tags": []
          },
          "execution_count": 41
        }
      ]
    },
    {
      "cell_type": "markdown",
      "metadata": {
        "id": "jT5Og0rPvd6o",
        "colab_type": "text"
      },
      "source": [
        "Montar uma rede com o treinamento obtido pela ann2"
      ]
    },
    {
      "cell_type": "code",
      "metadata": {
        "id": "g7bFXY76vd6p",
        "colab_type": "code",
        "colab": {},
        "outputId": "805af591-5274-4255-e32b-137180cb4144"
      },
      "source": [
        "ann2.coefs_,ann2.intercepts_"
      ],
      "execution_count": 0,
      "outputs": [
        {
          "output_type": "execute_result",
          "data": {
            "text/plain": [
              "([array([[-2.48497143e-26,  1.58620418e+00,  2.21059775e+00],\n",
              "         [ 3.66592419e-37, -1.52201218e+00, -2.21067641e+00]]),\n",
              "  array([[ 2.61960890e-08],\n",
              "         [-2.41813638e+00],\n",
              "         [ 3.50800618e+00]])],\n",
              " [array([-9.68190297e-01,  1.52220990e+00, -1.22461288e-04]),\n",
              "  array([1.8177965])])"
            ]
          },
          "metadata": {
            "tags": []
          },
          "execution_count": 107
        }
      ]
    },
    {
      "cell_type": "code",
      "metadata": {
        "id": "nb4r6fxe3AjH",
        "colab_type": "code",
        "colab": {}
      },
      "source": [
        "w1 = np.array([-9.68190297e-01, -2.48497143e-26, 3.66592419e-37])\n",
        "w2 = np.array([1.52220990e+00, 1.58620418e+00, -1.52201218e+00])\n",
        "w3 = np.array([-1.22461288e-04, 2.21059775e+00, -2.21067641e+00])\n",
        "w4 = np.array([1.8177965, 2.61960890e-08, -2.41813638e+00, 3.50800618e+00])"
      ],
      "execution_count": 0,
      "outputs": []
    },
    {
      "cell_type": "code",
      "metadata": {
        "id": "pqh0kg1Pvd6r",
        "colab_type": "code",
        "colab": {}
      },
      "source": [
        "def percep(w,i,activ):\n",
        "    return activ(np.inner(w,i))"
      ],
      "execution_count": 0,
      "outputs": []
    },
    {
      "cell_type": "code",
      "metadata": {
        "id": "EXkqklQuvd6s",
        "colab_type": "code",
        "colab": {}
      },
      "source": [
        "def sig(x):\n",
        "    return 1.0/(1.0+math.exp(-x))"
      ],
      "execution_count": 0,
      "outputs": []
    },
    {
      "cell_type": "code",
      "metadata": {
        "id": "91Ki7Pdfvd6u",
        "colab_type": "code",
        "colab": {}
      },
      "source": [
        "def relu(x):\n",
        "    if x<0:return 0.0\n",
        "    else:return x"
      ],
      "execution_count": 0,
      "outputs": []
    },
    {
      "cell_type": "markdown",
      "metadata": {
        "id": "SGl1S1edvd6w",
        "colab_type": "text"
      },
      "source": [
        "monte a rede com threshold 0.5 no output"
      ]
    },
    {
      "cell_type": "code",
      "metadata": {
        "collapsed": true,
        "id": "9gRz0pr5vd6w",
        "colab_type": "code",
        "colab": {
          "base_uri": "https://localhost:8080/",
          "height": 51
        },
        "outputId": "921bc2ff-9ab7-411a-c875-225ac3a02d7f"
      },
      "source": [
        "i = np.array([1, 1, 1]) #Input Layer\n",
        "o1 = percep(w1, i, relu) #Hidden Layer\n",
        "o2 = percep(w2, i, relu) #Hidden Layer\n",
        "o3 = percep(w3, i, relu) #Hidden Layer\n",
        "\n",
        "i4 = np.array([1, o1, o2, o3]) #Output Layer\n",
        "out = percep(w4, i4, sig)\n",
        "\n",
        "print(o1, o2, o3, out)\n",
        "\n",
        "treshold = 0.5\n",
        "if out > treshold:\n",
        "  print(1)\n",
        "else:\n",
        "  print(0)\n"
      ],
      "execution_count": 88,
      "outputs": [
        {
          "output_type": "stream",
          "text": [
            "0.0 1.5864019000000003 0.0 0.11729078401822232\n",
            "0\n"
          ],
          "name": "stdout"
        }
      ]
    },
    {
      "cell_type": "code",
      "metadata": {
        "id": "2onwM5p8vd6z",
        "colab_type": "code",
        "colab": {
          "base_uri": "https://localhost:8080/",
          "height": 34
        },
        "outputId": "fcccdc8f-292d-473a-cc67-4bda64694220"
      },
      "source": [
        "ann2.predict_proba([[1, 0]])"
      ],
      "execution_count": 98,
      "outputs": [
        {
          "output_type": "execute_result",
          "data": {
            "text/plain": [
              "array([[0.03719273, 0.96280727]])"
            ]
          },
          "metadata": {
            "tags": []
          },
          "execution_count": 98
        }
      ]
    }
  ]
}