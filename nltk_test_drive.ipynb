{
  "nbformat": 4,
  "nbformat_minor": 0,
  "metadata": {
    "kernelspec": {
      "display_name": "Python 3",
      "language": "python",
      "name": "python3"
    },
    "language_info": {
      "codemirror_mode": {
        "name": "ipython",
        "version": 3
      },
      "file_extension": ".py",
      "mimetype": "text/x-python",
      "name": "python",
      "nbconvert_exporter": "python",
      "pygments_lexer": "ipython3",
      "version": "3.6.3"
    },
    "colab": {
      "name": "nltk_test_drive.ipynb",
      "provenance": [],
      "include_colab_link": true
    }
  },
  "cells": [
    {
      "cell_type": "markdown",
      "metadata": {
        "id": "view-in-github",
        "colab_type": "text"
      },
      "source": [
        "<a href=\"https://colab.research.google.com/github/douglasbarbosadelima/Data-Science/blob/master/nltk_test_drive.ipynb\" target=\"_parent\"><img src=\"https://colab.research.google.com/assets/colab-badge.svg\" alt=\"Open In Colab\"/></a>"
      ]
    },
    {
      "cell_type": "code",
      "metadata": {
        "id": "tK2aKB586jaT",
        "colab_type": "code",
        "colab": {}
      },
      "source": [
        "import nltk\n",
        "#nltk.download() para buscar recursos não disponíveis da biblioteca...abrirá interface"
      ],
      "execution_count": 0,
      "outputs": []
    },
    {
      "cell_type": "code",
      "metadata": {
        "id": "LgnpI6Lt6jab",
        "colab_type": "code",
        "colab": {}
      },
      "source": [
        "f=open('c:\\\\dados\\\\casmurro.txt','r')\n",
        "texto=f.read()"
      ],
      "execution_count": 0,
      "outputs": []
    },
    {
      "cell_type": "markdown",
      "metadata": {
        "id": "MA1vuGfh6jaf",
        "colab_type": "text"
      },
      "source": [
        "Primeiro vamos transformar o livro em sentenças"
      ]
    },
    {
      "cell_type": "code",
      "metadata": {
        "id": "WKSGjO2X6jag",
        "colab_type": "code",
        "colab": {},
        "outputId": "a069a0d5-ae59-4ec8-e43b-99d7bc41dd61"
      },
      "source": [
        "sentencas=nltk.tokenize.sent_tokenize(texto)\n",
        "sentencas[:5]"
      ],
      "execution_count": 0,
      "outputs": [
        {
          "output_type": "execute_result",
          "data": {
            "text/plain": [
              "['I\\n\\nDo titulo.',\n",
              " 'Uma noite destas, vindo da cidade para o Engenho Novo, encontrei no\\ntrem da Central um rapaz aqui do bairro, que eu conheço de vista e\\nde chapéo.',\n",
              " 'Comprimentou-me, sentou-se ao pé de mim, falou da lua e\\ndos ministros, e acabou recitando-me versos.',\n",
              " 'A viagem era curta, e os\\nversos póde ser que não fossem inteiramente maus.',\n",
              " 'Succedeu, porém, que\\ncomo eu estava cançado, fechei os olhos tres ou quatro vezes; tanto\\nbastou para que elle interrompesse a leitura e mettesse os versos no\\nbolso.']"
            ]
          },
          "metadata": {
            "tags": []
          },
          "execution_count": 71
        }
      ]
    },
    {
      "cell_type": "markdown",
      "metadata": {
        "id": "pVIaAOp26jal",
        "colab_type": "text"
      },
      "source": [
        "Qual é o tipo de sentencas? Qual é a última sentença do livro?"
      ]
    },
    {
      "cell_type": "code",
      "metadata": {
        "id": "pNblK-7y6jam",
        "colab_type": "code",
        "colab": {},
        "outputId": "0d9c1483-db21-4a60-9420-8385424c8462"
      },
      "source": [
        "type(sentencas),sentencas[-1]"
      ],
      "execution_count": 0,
      "outputs": [
        {
          "output_type": "execute_result",
          "data": {
            "text/plain": [
              "(list, 'Vamos á _Historia dos suburbios._\\n\\n\\nFIM')"
            ]
          },
          "metadata": {
            "tags": []
          },
          "execution_count": 72
        }
      ]
    },
    {
      "cell_type": "markdown",
      "metadata": {
        "id": "n5qG-gg66jaq",
        "colab_type": "text"
      },
      "source": [
        "Agora vamos tokenizar em palavras..."
      ]
    },
    {
      "cell_type": "code",
      "metadata": {
        "id": "zMQLGzlz6jar",
        "colab_type": "code",
        "colab": {}
      },
      "source": [
        "palavras=nltk.tokenize.word_tokenize(texto)"
      ],
      "execution_count": 0,
      "outputs": []
    },
    {
      "cell_type": "code",
      "metadata": {
        "id": "VHePdf3Q6jaw",
        "colab_type": "code",
        "colab": {},
        "outputId": "e65dc87e-727c-4fa0-ec02-d5f01f7d76e9"
      },
      "source": [
        "type(palavras),palavras[:20],len(palavras)"
      ],
      "execution_count": 0,
      "outputs": [
        {
          "output_type": "execute_result",
          "data": {
            "text/plain": [
              "(list,\n",
              " ['I',\n",
              "  'Do',\n",
              "  'titulo',\n",
              "  '.',\n",
              "  'Uma',\n",
              "  'noite',\n",
              "  'destas',\n",
              "  ',',\n",
              "  'vindo',\n",
              "  'da',\n",
              "  'cidade',\n",
              "  'para',\n",
              "  'o',\n",
              "  'Engenho',\n",
              "  'Novo',\n",
              "  ',',\n",
              "  'encontrei',\n",
              "  'no',\n",
              "  'trem',\n",
              "  'da'],\n",
              " 78945)"
            ]
          },
          "metadata": {
            "tags": []
          },
          "execution_count": 35
        }
      ]
    },
    {
      "cell_type": "code",
      "metadata": {
        "id": "eO9WI60F6ja1",
        "colab_type": "code",
        "colab": {},
        "outputId": "0f7e7806-004f-459e-9f9c-bc8ef222bfd8"
      },
      "source": [
        "len(c)"
      ],
      "execution_count": 0,
      "outputs": [
        {
          "output_type": "execute_result",
          "data": {
            "text/plain": [
              "78945"
            ]
          },
          "metadata": {
            "tags": []
          },
          "execution_count": 74
        }
      ]
    },
    {
      "cell_type": "markdown",
      "metadata": {
        "id": "Nw8NMGnP6ja4",
        "colab_type": "text"
      },
      "source": [
        "NLTK já traz uma lista de stop words para Português"
      ]
    },
    {
      "cell_type": "code",
      "metadata": {
        "id": "mRQ29xnE6ja5",
        "colab_type": "code",
        "colab": {}
      },
      "source": [
        "stopw = nltk.corpus.stopwords.words('portuguese')"
      ],
      "execution_count": 0,
      "outputs": []
    },
    {
      "cell_type": "code",
      "metadata": {
        "id": "QivErhWp6ja-",
        "colab_type": "code",
        "colab": {},
        "outputId": "ff7b7ab6-d690-405a-da12-1e040eaf3e60"
      },
      "source": [
        "stopw[:10]"
      ],
      "execution_count": 0,
      "outputs": [
        {
          "output_type": "execute_result",
          "data": {
            "text/plain": [
              "['de', 'a', 'o', 'que', 'e', 'é', 'do', 'da', 'em', 'um']"
            ]
          },
          "metadata": {
            "tags": []
          },
          "execution_count": 76
        }
      ]
    },
    {
      "cell_type": "code",
      "metadata": {
        "id": "wY8ftM9B6jbC",
        "colab_type": "code",
        "colab": {},
        "outputId": "5c145022-4e9a-43de-fcbc-335cbadd213a"
      },
      "source": [
        "import string\n",
        "stopw=list(set([tira_acentos(t) for t in stopw]))+list(string.punctuation) #explique esse código\n",
        "stopw\n"
      ],
      "execution_count": 0,
      "outputs": [
        {
          "output_type": "execute_result",
          "data": {
            "text/plain": [
              "['foram',\n",
              " 'se',\n",
              " 'sou',\n",
              " 'fui',\n",
              " 'tivera',\n",
              " 'voce',\n",
              " 'tivessem',\n",
              " 'foi',\n",
              " 'estamos',\n",
              " 'haja',\n",
              " 'para',\n",
              " 'serao',\n",
              " 'houvera',\n",
              " 'minha',\n",
              " 'for',\n",
              " 'vos',\n",
              " 'voces',\n",
              " 'sem',\n",
              " 'nas',\n",
              " 'nosso',\n",
              " 'so',\n",
              " 'tenha',\n",
              " 'de',\n",
              " 'pelo',\n",
              " 'tivermos',\n",
              " 'ele',\n",
              " 'quando',\n",
              " 'eramos',\n",
              " 'temos',\n",
              " 'estiver',\n",
              " 'seremos',\n",
              " 'meu',\n",
              " 'nossos',\n",
              " 'tera',\n",
              " 'dela',\n",
              " 'estes',\n",
              " 'houvessemos',\n",
              " 'estivemos',\n",
              " 'estavamos',\n",
              " 'quem',\n",
              " 'mais',\n",
              " 'estivera',\n",
              " 'fossemos',\n",
              " 'aos',\n",
              " 'hajamos',\n",
              " 'houvesse',\n",
              " 'estas',\n",
              " 'ja',\n",
              " 'formos',\n",
              " 'havemos',\n",
              " 'houveria',\n",
              " 'fossem',\n",
              " 'tu',\n",
              " 'mesmo',\n",
              " 'esse',\n",
              " 'aquilo',\n",
              " 'isto',\n",
              " 'sera',\n",
              " 'tivesse',\n",
              " 'tuas',\n",
              " 'do',\n",
              " 'te',\n",
              " 'hajam',\n",
              " 'estejamos',\n",
              " 'ha',\n",
              " 'aquela',\n",
              " 'teremos',\n",
              " 'elas',\n",
              " 'aquele',\n",
              " 'tinham',\n",
              " 'hao',\n",
              " 'teria',\n",
              " 'que',\n",
              " 'numa',\n",
              " 'houvermos',\n",
              " 'e',\n",
              " 'nao',\n",
              " 'tiveramos',\n",
              " 'delas',\n",
              " 'tive',\n",
              " 'seria',\n",
              " 'na',\n",
              " 'estivesse',\n",
              " 'houverei',\n",
              " 'entre',\n",
              " 'nossa',\n",
              " 'ou',\n",
              " 'ao',\n",
              " 'com',\n",
              " 'forem',\n",
              " 'esses',\n",
              " 'ate',\n",
              " 'este',\n",
              " 'em',\n",
              " 'nossas',\n",
              " 'estivermos',\n",
              " 'terei',\n",
              " 'terao',\n",
              " 'houver',\n",
              " 'esteja',\n",
              " 'estiverem',\n",
              " 'tem',\n",
              " 'aqueles',\n",
              " 'estao',\n",
              " 'das',\n",
              " 'somos',\n",
              " 'fomos',\n",
              " 'tambem',\n",
              " 'qual',\n",
              " 'teus',\n",
              " 'esteve',\n",
              " 'houveram',\n",
              " 'por',\n",
              " 'tiveram',\n",
              " 'eram',\n",
              " 'estiveram',\n",
              " 'depois',\n",
              " 'fora',\n",
              " 'mas',\n",
              " 'essas',\n",
              " 'pela',\n",
              " 'tinhamos',\n",
              " 'o',\n",
              " 'os',\n",
              " 'nos',\n",
              " 'essa',\n",
              " 'era',\n",
              " 'pelas',\n",
              " 'houverem',\n",
              " 'as',\n",
              " 'seriam',\n",
              " 'no',\n",
              " 'estejam',\n",
              " 'sejam',\n",
              " 'tenhamos',\n",
              " 'seriamos',\n",
              " 'estou',\n",
              " 'teve',\n",
              " 'deles',\n",
              " 'meus',\n",
              " 'minhas',\n",
              " 'nem',\n",
              " 'lhes',\n",
              " 'estava',\n",
              " 'estiveramos',\n",
              " 'seus',\n",
              " 'dele',\n",
              " 'estavam',\n",
              " 'sua',\n",
              " 'aquelas',\n",
              " 'eles',\n",
              " 'tua',\n",
              " 'houveriam',\n",
              " 'suas',\n",
              " 'houve',\n",
              " 'uma',\n",
              " 'como',\n",
              " 'teu',\n",
              " 'houveremos',\n",
              " 'houvessem',\n",
              " 'dos',\n",
              " 'houveriamos',\n",
              " 'hei',\n",
              " 'sejamos',\n",
              " 'muito',\n",
              " 'estivessemos',\n",
              " 'tivemos',\n",
              " 'fosse',\n",
              " 'houveramos',\n",
              " 'ela',\n",
              " 'houvemos',\n",
              " 'houverao',\n",
              " 'tivessemos',\n",
              " 'num',\n",
              " 'seja',\n",
              " 'tenham',\n",
              " 'esta',\n",
              " 'teriamos',\n",
              " 'tiverem',\n",
              " 'tenho',\n",
              " 'serei',\n",
              " 'tinha',\n",
              " 'isso',\n",
              " 'estivessem',\n",
              " 'sao',\n",
              " 'pelos',\n",
              " 'um',\n",
              " 'estive',\n",
              " 'lhe',\n",
              " 'tiver',\n",
              " 'eu',\n",
              " 'teriam',\n",
              " 'da',\n",
              " 'a',\n",
              " 'me',\n",
              " 'foramos',\n",
              " 'seu',\n",
              " '!',\n",
              " '\"',\n",
              " '#',\n",
              " '$',\n",
              " '%',\n",
              " '&',\n",
              " \"'\",\n",
              " '(',\n",
              " ')',\n",
              " '*',\n",
              " '+',\n",
              " ',',\n",
              " '-',\n",
              " '.',\n",
              " '/',\n",
              " ':',\n",
              " ';',\n",
              " '<',\n",
              " '=',\n",
              " '>',\n",
              " '?',\n",
              " '@',\n",
              " '[',\n",
              " '\\\\',\n",
              " ']',\n",
              " '^',\n",
              " '_',\n",
              " '`',\n",
              " '{',\n",
              " '|',\n",
              " '}',\n",
              " '~']"
            ]
          },
          "metadata": {
            "tags": []
          },
          "execution_count": 95
        }
      ]
    },
    {
      "cell_type": "markdown",
      "metadata": {
        "id": "XrlOSNol6jbF",
        "colab_type": "text"
      },
      "source": [
        "Vamos passar tudo para minúsculas e tirar acentos"
      ]
    },
    {
      "cell_type": "code",
      "metadata": {
        "id": "OWdh-zzF6jbG",
        "colab_type": "code",
        "colab": {},
        "outputId": "9c68677b-31c2-4461-d444-d918d64772a6"
      },
      "source": [
        "palavras=[tira_acentos(t.lower()) for t in palavras]\n",
        "palavras[:10]"
      ],
      "execution_count": 0,
      "outputs": [
        {
          "output_type": "execute_result",
          "data": {
            "text/plain": [
              "['i', 'do', 'titulo', '.', 'uma', 'noite', 'destas', ',', 'vindo', 'da']"
            ]
          },
          "metadata": {
            "tags": []
          },
          "execution_count": 96
        }
      ]
    },
    {
      "cell_type": "code",
      "metadata": {
        "id": "JkDrDa2K6jbJ",
        "colab_type": "code",
        "colab": {}
      },
      "source": [
        "def tira_acentos(x):\n",
        "    x=x.replace('ã','a')\n",
        "    x=x.replace('á','a')\n",
        "    x=x.replace('à','a')\n",
        "    x=x.replace('â','a')\n",
        "    x=x.replace('ê','e')\n",
        "    x=x.replace('é','e')\n",
        "    x=x.replace('í','i')\n",
        "    x=x.replace('ô','o')\n",
        "    x=x.replace('õ','o')\n",
        "    x=x.replace('ó','o')\n",
        "    x=x.replace('ú','u')\n",
        "    x=x.replace('\\n','')#caracteres de controle: mudança de linha\n",
        "    x=x.replace('\\r','')#caracteres especiais: mudança de linha\n",
        "    return x"
      ],
      "execution_count": 0,
      "outputs": []
    },
    {
      "cell_type": "markdown",
      "metadata": {
        "id": "psuyUYeP6jbN",
        "colab_type": "text"
      },
      "source": [
        "Tirar stop words e pontuação e corta strings con 2 ou menos caracteres"
      ]
    },
    {
      "cell_type": "code",
      "metadata": {
        "id": "Xo-2BaiH6jbO",
        "colab_type": "code",
        "colab": {}
      },
      "source": [
        "palavra2=[]\n",
        "for t in palavras:\n",
        "    if (t not in stopw) and (t.isalpha()) and (len(t)>2):palavra2.append(t) #explique esse código\n",
        "palavras=palavra2    "
      ],
      "execution_count": 0,
      "outputs": []
    },
    {
      "cell_type": "code",
      "metadata": {
        "id": "BaX1g4-u6jbU",
        "colab_type": "code",
        "colab": {}
      },
      "source": [
        "palavras=list(set(palavras))"
      ],
      "execution_count": 0,
      "outputs": []
    },
    {
      "cell_type": "code",
      "metadata": {
        "id": "4nYEs-r16jba",
        "colab_type": "code",
        "colab": {},
        "outputId": "cf0db46a-ebf9-4e3a-839d-87d189692138"
      },
      "source": [
        "len(palavras)"
      ],
      "execution_count": 0,
      "outputs": [
        {
          "output_type": "execute_result",
          "data": {
            "text/plain": [
              "8049"
            ]
          },
          "metadata": {
            "tags": []
          },
          "execution_count": 99
        }
      ]
    },
    {
      "cell_type": "code",
      "metadata": {
        "id": "hw9p5lQk6jbe",
        "colab_type": "code",
        "colab": {},
        "outputId": "2893f482-837d-41f0-d44d-1cbe19485de8"
      },
      "source": [
        "palavra[:100]"
      ],
      "execution_count": 0,
      "outputs": [
        {
          "output_type": "execute_result",
          "data": {
            "text/plain": [
              "['artista',\n",
              " 'saisse',\n",
              " 'olhamos',\n",
              " 'planos',\n",
              " 'encontrar',\n",
              " 'sobe',\n",
              " 'castigada',\n",
              " 'miudo',\n",
              " 'esqueceram',\n",
              " 'epigramma',\n",
              " 'ralhava',\n",
              " 'tomando',\n",
              " 'enfastiada',\n",
              " 'perdao',\n",
              " 'par',\n",
              " 'apaixonadamente',\n",
              " 'madrinha',\n",
              " 'mesuras',\n",
              " 'palmeira',\n",
              " 'educaçao',\n",
              " 'mez',\n",
              " 'impaciencia',\n",
              " 'feias',\n",
              " 'cxxx',\n",
              " 'honestos',\n",
              " 'porçoes',\n",
              " 'ouvir',\n",
              " 'oraçoes',\n",
              " 'rispidez',\n",
              " 'gasta',\n",
              " 'fugia',\n",
              " 'diverso',\n",
              " 'chames',\n",
              " 'trabalhei',\n",
              " 'plantas',\n",
              " 'sussurrava',\n",
              " 'temente',\n",
              " 'acompanhando',\n",
              " 'durou',\n",
              " 'moravamos',\n",
              " 'encobrir',\n",
              " 'despeza',\n",
              " 'dignidade',\n",
              " 'movimentaçao',\n",
              " 'grades',\n",
              " 'setimo',\n",
              " 'rinovalatte',\n",
              " 'intensamente',\n",
              " 'volto',\n",
              " 'dobrava',\n",
              " 'rematemos',\n",
              " 'propositos',\n",
              " 'conceituosos',\n",
              " 'leitao',\n",
              " 'chins',\n",
              " 'logar',\n",
              " 'aturdido',\n",
              " 'debates',\n",
              " 'tornariam',\n",
              " 'mordendo',\n",
              " 'jurou',\n",
              " 'quinto',\n",
              " 'lidava',\n",
              " 'enredo',\n",
              " 'lxxxvii',\n",
              " 'poetar',\n",
              " 'pelle',\n",
              " 'acabasse',\n",
              " 'esqueceu',\n",
              " 'daquella',\n",
              " 'acerca',\n",
              " 'dependente',\n",
              " 'leito',\n",
              " 'vivemos',\n",
              " 'desordenadamente',\n",
              " 'sentimental',\n",
              " 'particular',\n",
              " 'supprido',\n",
              " 'mandando',\n",
              " 'opportunidade',\n",
              " 'peores',\n",
              " 'continuou',\n",
              " 'usei',\n",
              " 'reproducçao',\n",
              " 'philosopho',\n",
              " 'carinhosos',\n",
              " 'reles',\n",
              " 'ordene',\n",
              " 'cumpre',\n",
              " 'babados',\n",
              " 'cxxxii',\n",
              " 'dado',\n",
              " 'apontei',\n",
              " 'appellido',\n",
              " 'preparando',\n",
              " 'estar',\n",
              " 'medroso',\n",
              " 'descobrindo',\n",
              " 'disfarçamente',\n",
              " 'necessaria']"
            ]
          },
          "metadata": {
            "tags": []
          },
          "execution_count": 88
        }
      ]
    },
    {
      "cell_type": "markdown",
      "metadata": {
        "id": "Rjg_svfK6jbi",
        "colab_type": "text"
      },
      "source": [
        "Verifique se capitu, bentinho, vinho e marcelo estão em \"palavras\""
      ]
    },
    {
      "cell_type": "code",
      "metadata": {
        "id": "o8Ef4y7i6jbi",
        "colab_type": "code",
        "colab": {},
        "outputId": "03ab78d8-f919-4923-d8e6-b9e6259154b3"
      },
      "source": [
        "'capitu' in palavras,'bentinho' in palavras,'vinho' in palavras,'marcelo'in palavras"
      ],
      "execution_count": 0,
      "outputs": [
        {
          "output_type": "execute_result",
          "data": {
            "text/plain": [
              "(True, True, True, False)"
            ]
          },
          "metadata": {
            "tags": []
          },
          "execution_count": 100
        }
      ]
    },
    {
      "cell_type": "code",
      "metadata": {
        "id": "qAjfe26P6jbm",
        "colab_type": "code",
        "colab": {},
        "outputId": "f80fccd1-a74d-450a-8a93-f9b80d56f7f7"
      },
      "source": [
        "'os' in palavras"
      ],
      "execution_count": 0,
      "outputs": [
        {
          "output_type": "execute_result",
          "data": {
            "text/plain": [
              "False"
            ]
          },
          "metadata": {
            "tags": []
          },
          "execution_count": 102
        }
      ]
    },
    {
      "cell_type": "code",
      "metadata": {
        "id": "xL3sygxI6jbr",
        "colab_type": "code",
        "colab": {}
      },
      "source": [
        ""
      ],
      "execution_count": 0,
      "outputs": []
    }
  ]
}