{
  "nbformat": 4,
  "nbformat_minor": 0,
  "metadata": {
    "kernelspec": {
      "display_name": "Python 3",
      "language": "python",
      "name": "python3"
    },
    "language_info": {
      "codemirror_mode": {
        "name": "ipython",
        "version": 3
      },
      "file_extension": ".py",
      "mimetype": "text/x-python",
      "name": "python",
      "nbconvert_exporter": "python",
      "pygments_lexer": "ipython3",
      "version": "3.6.5"
    },
    "colab": {
      "name": "Regressao_poli_sklearn.ipynb",
      "provenance": [],
      "include_colab_link": true
    }
  },
  "cells": [
    {
      "cell_type": "markdown",
      "metadata": {
        "id": "view-in-github",
        "colab_type": "text"
      },
      "source": [
        "<a href=\"https://colab.research.google.com/github/douglasbarbosadelima/Data-Science/blob/master/Regressao_poli_sklearn.ipynb\" target=\"_parent\"><img src=\"https://colab.research.google.com/assets/colab-badge.svg\" alt=\"Open In Colab\"/></a>"
      ]
    },
    {
      "cell_type": "markdown",
      "metadata": {
        "id": "egTQVk8GEDW3",
        "colab_type": "text"
      },
      "source": [
        "# Regressao_poli_sklearn_res"
      ]
    },
    {
      "cell_type": "code",
      "metadata": {
        "id": "ouoL6F0GEDW8",
        "colab_type": "code",
        "colab": {}
      },
      "source": [
        "import numpy as np\n",
        "import pandas as pd\n",
        "from sklearn.linear_model import LinearRegression #observe a bibiloteca sklearn\n",
        "from sklearn.metrics import mean_squared_error #importando métrica de performance"
      ],
      "execution_count": 0,
      "outputs": []
    },
    {
      "cell_type": "code",
      "metadata": {
        "id": "BAhGkuNvEDXC",
        "colab_type": "code",
        "colab": {
          "base_uri": "https://localhost:8080/",
          "height": 204
        },
        "outputId": "e456de61-4e6d-4112-d17c-f6e8dc0cb450"
      },
      "source": [
        "df=pd.read_csv('https://raw.githubusercontent.com/douglasbarbosadelima/Data-Science/master/cars-uci-linked.csv')\n",
        "df=df.dropna()#retiramos os missings\n",
        "df.head()"
      ],
      "execution_count": 6,
      "outputs": [
        {
          "output_type": "execute_result",
          "data": {
            "text/html": [
              "<div>\n",
              "<style scoped>\n",
              "    .dataframe tbody tr th:only-of-type {\n",
              "        vertical-align: middle;\n",
              "    }\n",
              "\n",
              "    .dataframe tbody tr th {\n",
              "        vertical-align: top;\n",
              "    }\n",
              "\n",
              "    .dataframe thead th {\n",
              "        text-align: right;\n",
              "    }\n",
              "</style>\n",
              "<table border=\"1\" class=\"dataframe\">\n",
              "  <thead>\n",
              "    <tr style=\"text-align: right;\">\n",
              "      <th></th>\n",
              "      <th>mpg</th>\n",
              "      <th>cylinders</th>\n",
              "      <th>displacement</th>\n",
              "      <th>horsepower</th>\n",
              "      <th>weight</th>\n",
              "      <th>acceleration</th>\n",
              "      <th>year</th>\n",
              "      <th>origin</th>\n",
              "      <th>name</th>\n",
              "    </tr>\n",
              "  </thead>\n",
              "  <tbody>\n",
              "    <tr>\n",
              "      <th>0</th>\n",
              "      <td>18.0</td>\n",
              "      <td>8</td>\n",
              "      <td>3070</td>\n",
              "      <td>130.0</td>\n",
              "      <td>3504</td>\n",
              "      <td>120</td>\n",
              "      <td>70</td>\n",
              "      <td>1</td>\n",
              "      <td>chevrolet chevelle malibu</td>\n",
              "    </tr>\n",
              "    <tr>\n",
              "      <th>1</th>\n",
              "      <td>15.0</td>\n",
              "      <td>8</td>\n",
              "      <td>3500</td>\n",
              "      <td>165.0</td>\n",
              "      <td>3693</td>\n",
              "      <td>115</td>\n",
              "      <td>70</td>\n",
              "      <td>1</td>\n",
              "      <td>buick skylark 320</td>\n",
              "    </tr>\n",
              "    <tr>\n",
              "      <th>2</th>\n",
              "      <td>18.0</td>\n",
              "      <td>8</td>\n",
              "      <td>3180</td>\n",
              "      <td>150.0</td>\n",
              "      <td>3436</td>\n",
              "      <td>110</td>\n",
              "      <td>70</td>\n",
              "      <td>1</td>\n",
              "      <td>plymouth satellite</td>\n",
              "    </tr>\n",
              "    <tr>\n",
              "      <th>3</th>\n",
              "      <td>16.0</td>\n",
              "      <td>8</td>\n",
              "      <td>3040</td>\n",
              "      <td>150.0</td>\n",
              "      <td>3433</td>\n",
              "      <td>120</td>\n",
              "      <td>70</td>\n",
              "      <td>1</td>\n",
              "      <td>amc rebel sst</td>\n",
              "    </tr>\n",
              "    <tr>\n",
              "      <th>4</th>\n",
              "      <td>17.0</td>\n",
              "      <td>8</td>\n",
              "      <td>3020</td>\n",
              "      <td>140.0</td>\n",
              "      <td>3449</td>\n",
              "      <td>105</td>\n",
              "      <td>70</td>\n",
              "      <td>1</td>\n",
              "      <td>ford torino</td>\n",
              "    </tr>\n",
              "  </tbody>\n",
              "</table>\n",
              "</div>"
            ],
            "text/plain": [
              "    mpg  cylinders  displacement  ...  year  origin                       name\n",
              "0  18.0          8          3070  ...    70       1  chevrolet chevelle malibu\n",
              "1  15.0          8          3500  ...    70       1          buick skylark 320\n",
              "2  18.0          8          3180  ...    70       1         plymouth satellite\n",
              "3  16.0          8          3040  ...    70       1              amc rebel sst\n",
              "4  17.0          8          3020  ...    70       1                ford torino\n",
              "\n",
              "[5 rows x 9 columns]"
            ]
          },
          "metadata": {
            "tags": []
          },
          "execution_count": 6
        }
      ]
    },
    {
      "cell_type": "markdown",
      "metadata": {
        "id": "VVunA-hfEDXJ",
        "colab_type": "text"
      },
      "source": [
        "Vamos fazer a regressão com as features potência (horsepower), peso(weight) e seus quadrados"
      ]
    },
    {
      "cell_type": "markdown",
      "metadata": {
        "id": "_qatHxOREDXK",
        "colab_type": "text"
      },
      "source": [
        "Inicialmente, vamos standardizar horsepower e weight"
      ]
    },
    {
      "cell_type": "code",
      "metadata": {
        "id": "nzJo-lfVEDXM",
        "colab_type": "code",
        "colab": {}
      },
      "source": [
        "def standard(s):\n",
        "    med=s.mean()\n",
        "    std=s.std()\n",
        "    s=(s-med)/std\n",
        "    return med,std,s"
      ],
      "execution_count": 0,
      "outputs": []
    },
    {
      "cell_type": "code",
      "metadata": {
        "id": "HqeULHkuEDXQ",
        "colab_type": "code",
        "colab": {}
      },
      "source": [
        "mh,dh,df['horsepower1'] = standard(df['horsepower'])\n",
        "mw,dw,df['weight1'] = standard(df['weight'])\n",
        "md, dd, df['displacement1'] = standard(df['displacement'])\n",
        "my, dy, df['year1'] = standard(df['year'])"
      ],
      "execution_count": 0,
      "outputs": []
    },
    {
      "cell_type": "markdown",
      "metadata": {
        "id": "p0RI08t5EDXU",
        "colab_type": "text"
      },
      "source": [
        "Vamos agora montar a matriz X e o vetor y(target). <b> No sklearn, a montagem da matriz X é dó com as features, não precisamos\n",
        "da coluna de uns (do bias)</b>"
      ]
    },
    {
      "cell_type": "code",
      "metadata": {
        "id": "-BcO-qAgEDXV",
        "colab_type": "code",
        "colab": {}
      },
      "source": [
        "X=np.zeros((len(df),8))\n",
        "X[:,0]=df['horsepower1']\n",
        "X[:,1]=df['weight1']\n",
        "X[:,2]=df['horsepower1']**2\n",
        "X[:,3]=df['weight1']**2\n",
        "X[:,4]=df['displacement1']\n",
        "X[:,5]=df['displacement1']**2\n",
        "X[:,6]=df['year1']\n",
        "X[:,7]=df['year1']**2\n",
        "y=np.array(df['mpg'])\n"
      ],
      "execution_count": 0,
      "outputs": []
    },
    {
      "cell_type": "markdown",
      "metadata": {
        "id": "5CwXKvDHEDXa",
        "colab_type": "text"
      },
      "source": [
        "Agora, vamos instanciar a regressão linear"
      ]
    },
    {
      "cell_type": "code",
      "metadata": {
        "id": "m87a9_D-EDXb",
        "colab_type": "code",
        "colab": {}
      },
      "source": [
        "rl=LinearRegression()"
      ],
      "execution_count": 0,
      "outputs": []
    },
    {
      "cell_type": "markdown",
      "metadata": {
        "id": "yzhdOZhCEDXf",
        "colab_type": "text"
      },
      "source": [
        "E fazer o treinamento...o \"fit\" entre X e y com base no modelo de regressão linear"
      ]
    },
    {
      "cell_type": "code",
      "metadata": {
        "id": "_pUBGmyKEDXh",
        "colab_type": "code",
        "colab": {
          "base_uri": "https://localhost:8080/",
          "height": 34
        },
        "outputId": "aae7aa66-e61b-48c0-d243-a38986c3a6b6"
      },
      "source": [
        "rl.fit(X,y)"
      ],
      "execution_count": 29,
      "outputs": [
        {
          "output_type": "execute_result",
          "data": {
            "text/plain": [
              "LinearRegression(copy_X=True, fit_intercept=True, n_jobs=None, normalize=False)"
            ]
          },
          "metadata": {
            "tags": []
          },
          "execution_count": 29
        }
      ]
    },
    {
      "cell_type": "markdown",
      "metadata": {
        "id": "QZhcmaXEEDXl",
        "colab_type": "text"
      },
      "source": [
        "Vamos obter ye com .predict e calcular o erro médio quadrático"
      ]
    },
    {
      "cell_type": "code",
      "metadata": {
        "id": "SgSUh8g2EDXm",
        "colab_type": "code",
        "colab": {
          "base_uri": "https://localhost:8080/",
          "height": 34
        },
        "outputId": "2adb99f3-7653-442c-a8da-6c498440df00"
      },
      "source": [
        "ye=rl.predict(X)\n",
        "mean_squared_error(ye,y)"
      ],
      "execution_count": 31,
      "outputs": [
        {
          "output_type": "execute_result",
          "data": {
            "text/plain": [
              "7.879881295292486"
            ]
          },
          "metadata": {
            "tags": []
          },
          "execution_count": 31
        }
      ]
    },
    {
      "cell_type": "code",
      "metadata": {
        "id": "2EGITsQSHhvK",
        "colab_type": "code",
        "colab": {
          "base_uri": "https://localhost:8080/",
          "height": 204
        },
        "outputId": "2d1f3dd9-01d8-4105-e42e-7ec2606a7ce0"
      },
      "source": [
        "df['pred'] = ye\n",
        "df.head()"
      ],
      "execution_count": 32,
      "outputs": [
        {
          "output_type": "execute_result",
          "data": {
            "text/html": [
              "<div>\n",
              "<style scoped>\n",
              "    .dataframe tbody tr th:only-of-type {\n",
              "        vertical-align: middle;\n",
              "    }\n",
              "\n",
              "    .dataframe tbody tr th {\n",
              "        vertical-align: top;\n",
              "    }\n",
              "\n",
              "    .dataframe thead th {\n",
              "        text-align: right;\n",
              "    }\n",
              "</style>\n",
              "<table border=\"1\" class=\"dataframe\">\n",
              "  <thead>\n",
              "    <tr style=\"text-align: right;\">\n",
              "      <th></th>\n",
              "      <th>mpg</th>\n",
              "      <th>cylinders</th>\n",
              "      <th>displacement</th>\n",
              "      <th>horsepower</th>\n",
              "      <th>weight</th>\n",
              "      <th>acceleration</th>\n",
              "      <th>year</th>\n",
              "      <th>origin</th>\n",
              "      <th>name</th>\n",
              "      <th>horsepower1</th>\n",
              "      <th>weight1</th>\n",
              "      <th>displacement1</th>\n",
              "      <th>year1</th>\n",
              "      <th>pred</th>\n",
              "    </tr>\n",
              "  </thead>\n",
              "  <tbody>\n",
              "    <tr>\n",
              "      <th>0</th>\n",
              "      <td>18.0</td>\n",
              "      <td>8</td>\n",
              "      <td>3070</td>\n",
              "      <td>130.0</td>\n",
              "      <td>3504</td>\n",
              "      <td>120</td>\n",
              "      <td>70</td>\n",
              "      <td>1</td>\n",
              "      <td>chevrolet chevelle malibu</td>\n",
              "      <td>0.663285</td>\n",
              "      <td>0.619748</td>\n",
              "      <td>-0.275392</td>\n",
              "      <td>-1.623241</td>\n",
              "      <td>14.785027</td>\n",
              "    </tr>\n",
              "    <tr>\n",
              "      <th>1</th>\n",
              "      <td>15.0</td>\n",
              "      <td>8</td>\n",
              "      <td>3500</td>\n",
              "      <td>165.0</td>\n",
              "      <td>3693</td>\n",
              "      <td>115</td>\n",
              "      <td>70</td>\n",
              "      <td>1</td>\n",
              "      <td>buick skylark 320</td>\n",
              "      <td>1.572585</td>\n",
              "      <td>0.842258</td>\n",
              "      <td>-0.133721</td>\n",
              "      <td>-1.623241</td>\n",
              "      <td>13.432295</td>\n",
              "    </tr>\n",
              "    <tr>\n",
              "      <th>2</th>\n",
              "      <td>18.0</td>\n",
              "      <td>8</td>\n",
              "      <td>3180</td>\n",
              "      <td>150.0</td>\n",
              "      <td>3436</td>\n",
              "      <td>110</td>\n",
              "      <td>70</td>\n",
              "      <td>1</td>\n",
              "      <td>plymouth satellite</td>\n",
              "      <td>1.182885</td>\n",
              "      <td>0.539692</td>\n",
              "      <td>-0.239150</td>\n",
              "      <td>-1.623241</td>\n",
              "      <td>14.496378</td>\n",
              "    </tr>\n",
              "    <tr>\n",
              "      <th>3</th>\n",
              "      <td>16.0</td>\n",
              "      <td>8</td>\n",
              "      <td>3040</td>\n",
              "      <td>150.0</td>\n",
              "      <td>3433</td>\n",
              "      <td>120</td>\n",
              "      <td>70</td>\n",
              "      <td>1</td>\n",
              "      <td>amc rebel sst</td>\n",
              "      <td>1.182885</td>\n",
              "      <td>0.536160</td>\n",
              "      <td>-0.285276</td>\n",
              "      <td>-1.623241</td>\n",
              "      <td>14.517534</td>\n",
              "    </tr>\n",
              "    <tr>\n",
              "      <th>4</th>\n",
              "      <td>17.0</td>\n",
              "      <td>8</td>\n",
              "      <td>3020</td>\n",
              "      <td>140.0</td>\n",
              "      <td>3449</td>\n",
              "      <td>105</td>\n",
              "      <td>70</td>\n",
              "      <td>1</td>\n",
              "      <td>ford torino</td>\n",
              "      <td>0.923085</td>\n",
              "      <td>0.554997</td>\n",
              "      <td>-0.291865</td>\n",
              "      <td>-1.623241</td>\n",
              "      <td>14.684856</td>\n",
              "    </tr>\n",
              "  </tbody>\n",
              "</table>\n",
              "</div>"
            ],
            "text/plain": [
              "    mpg  cylinders  displacement  ...  displacement1     year1       pred\n",
              "0  18.0          8          3070  ...      -0.275392 -1.623241  14.785027\n",
              "1  15.0          8          3500  ...      -0.133721 -1.623241  13.432295\n",
              "2  18.0          8          3180  ...      -0.239150 -1.623241  14.496378\n",
              "3  16.0          8          3040  ...      -0.285276 -1.623241  14.517534\n",
              "4  17.0          8          3020  ...      -0.291865 -1.623241  14.684856\n",
              "\n",
              "[5 rows x 14 columns]"
            ]
          },
          "metadata": {
            "tags": []
          },
          "execution_count": 32
        }
      ]
    },
    {
      "cell_type": "markdown",
      "metadata": {
        "id": "QhTURi-cEDXr",
        "colab_type": "text"
      },
      "source": [
        "Vamos fazer a predição do consumo do carro \"chevrolet chevelle malibu\", o primeiro do Dataset, que tem 120HP de potência e 3504Kg (consumo=18mpg). Temos que standardizar as features..."
      ]
    },
    {
      "cell_type": "code",
      "metadata": {
        "id": "Y5kbZ0BGEDXs",
        "colab_type": "code",
        "colab": {
          "base_uri": "https://localhost:8080/",
          "height": 375
        },
        "outputId": "04b770e2-ef69-470b-a9e4-e4db38dc0467"
      },
      "source": [
        "pot_s=(120-mh)/dh\n",
        "peso_s=(3504-mw)/dw\n",
        "pot_sq=pot_s**2\n",
        "peso_sq=peso_s**2\n",
        "rl.predict([[pot_s,peso_s,pot_sq,peso_sq]])"
      ],
      "execution_count": 20,
      "outputs": [
        {
          "output_type": "error",
          "ename": "ValueError",
          "evalue": "ignored",
          "traceback": [
            "\u001b[0;31m---------------------------------------------------------------------------\u001b[0m",
            "\u001b[0;31mValueError\u001b[0m                                Traceback (most recent call last)",
            "\u001b[0;32m<ipython-input-20-c8cd9c51d2d9>\u001b[0m in \u001b[0;36m<module>\u001b[0;34m()\u001b[0m\n\u001b[1;32m      3\u001b[0m \u001b[0mpot_sq\u001b[0m\u001b[0;34m=\u001b[0m\u001b[0mpot_s\u001b[0m\u001b[0;34m**\u001b[0m\u001b[0;36m2\u001b[0m\u001b[0;34m\u001b[0m\u001b[0;34m\u001b[0m\u001b[0m\n\u001b[1;32m      4\u001b[0m \u001b[0mpeso_sq\u001b[0m\u001b[0;34m=\u001b[0m\u001b[0mpeso_s\u001b[0m\u001b[0;34m**\u001b[0m\u001b[0;36m2\u001b[0m\u001b[0;34m\u001b[0m\u001b[0;34m\u001b[0m\u001b[0m\n\u001b[0;32m----> 5\u001b[0;31m \u001b[0mrl\u001b[0m\u001b[0;34m.\u001b[0m\u001b[0mpredict\u001b[0m\u001b[0;34m(\u001b[0m\u001b[0;34m[\u001b[0m\u001b[0;34m[\u001b[0m\u001b[0mpot_s\u001b[0m\u001b[0;34m,\u001b[0m\u001b[0mpeso_s\u001b[0m\u001b[0;34m,\u001b[0m\u001b[0mpot_sq\u001b[0m\u001b[0;34m,\u001b[0m\u001b[0mpeso_sq\u001b[0m\u001b[0;34m]\u001b[0m\u001b[0;34m]\u001b[0m\u001b[0;34m)\u001b[0m\u001b[0;34m\u001b[0m\u001b[0;34m\u001b[0m\u001b[0m\n\u001b[0m",
            "\u001b[0;32m/usr/local/lib/python3.6/dist-packages/sklearn/linear_model/base.py\u001b[0m in \u001b[0;36mpredict\u001b[0;34m(self, X)\u001b[0m\n\u001b[1;32m    219\u001b[0m             \u001b[0mReturns\u001b[0m \u001b[0mpredicted\u001b[0m \u001b[0mvalues\u001b[0m\u001b[0;34m.\u001b[0m\u001b[0;34m\u001b[0m\u001b[0;34m\u001b[0m\u001b[0m\n\u001b[1;32m    220\u001b[0m         \"\"\"\n\u001b[0;32m--> 221\u001b[0;31m         \u001b[0;32mreturn\u001b[0m \u001b[0mself\u001b[0m\u001b[0;34m.\u001b[0m\u001b[0m_decision_function\u001b[0m\u001b[0;34m(\u001b[0m\u001b[0mX\u001b[0m\u001b[0;34m)\u001b[0m\u001b[0;34m\u001b[0m\u001b[0;34m\u001b[0m\u001b[0m\n\u001b[0m\u001b[1;32m    222\u001b[0m \u001b[0;34m\u001b[0m\u001b[0m\n\u001b[1;32m    223\u001b[0m     \u001b[0m_preprocess_data\u001b[0m \u001b[0;34m=\u001b[0m \u001b[0mstaticmethod\u001b[0m\u001b[0;34m(\u001b[0m\u001b[0m_preprocess_data\u001b[0m\u001b[0;34m)\u001b[0m\u001b[0;34m\u001b[0m\u001b[0;34m\u001b[0m\u001b[0m\n",
            "\u001b[0;32m/usr/local/lib/python3.6/dist-packages/sklearn/linear_model/base.py\u001b[0m in \u001b[0;36m_decision_function\u001b[0;34m(self, X)\u001b[0m\n\u001b[1;32m    204\u001b[0m         \u001b[0mX\u001b[0m \u001b[0;34m=\u001b[0m \u001b[0mcheck_array\u001b[0m\u001b[0;34m(\u001b[0m\u001b[0mX\u001b[0m\u001b[0;34m,\u001b[0m \u001b[0maccept_sparse\u001b[0m\u001b[0;34m=\u001b[0m\u001b[0;34m[\u001b[0m\u001b[0;34m'csr'\u001b[0m\u001b[0;34m,\u001b[0m \u001b[0;34m'csc'\u001b[0m\u001b[0;34m,\u001b[0m \u001b[0;34m'coo'\u001b[0m\u001b[0;34m]\u001b[0m\u001b[0;34m)\u001b[0m\u001b[0;34m\u001b[0m\u001b[0;34m\u001b[0m\u001b[0m\n\u001b[1;32m    205\u001b[0m         return safe_sparse_dot(X, self.coef_.T,\n\u001b[0;32m--> 206\u001b[0;31m                                dense_output=True) + self.intercept_\n\u001b[0m\u001b[1;32m    207\u001b[0m \u001b[0;34m\u001b[0m\u001b[0m\n\u001b[1;32m    208\u001b[0m     \u001b[0;32mdef\u001b[0m \u001b[0mpredict\u001b[0m\u001b[0;34m(\u001b[0m\u001b[0mself\u001b[0m\u001b[0;34m,\u001b[0m \u001b[0mX\u001b[0m\u001b[0;34m)\u001b[0m\u001b[0;34m:\u001b[0m\u001b[0;34m\u001b[0m\u001b[0;34m\u001b[0m\u001b[0m\n",
            "\u001b[0;32m/usr/local/lib/python3.6/dist-packages/sklearn/utils/extmath.py\u001b[0m in \u001b[0;36msafe_sparse_dot\u001b[0;34m(a, b, dense_output)\u001b[0m\n\u001b[1;32m    140\u001b[0m         \u001b[0;32mreturn\u001b[0m \u001b[0mret\u001b[0m\u001b[0;34m\u001b[0m\u001b[0;34m\u001b[0m\u001b[0m\n\u001b[1;32m    141\u001b[0m     \u001b[0;32melse\u001b[0m\u001b[0;34m:\u001b[0m\u001b[0;34m\u001b[0m\u001b[0;34m\u001b[0m\u001b[0m\n\u001b[0;32m--> 142\u001b[0;31m         \u001b[0;32mreturn\u001b[0m \u001b[0mnp\u001b[0m\u001b[0;34m.\u001b[0m\u001b[0mdot\u001b[0m\u001b[0;34m(\u001b[0m\u001b[0ma\u001b[0m\u001b[0;34m,\u001b[0m \u001b[0mb\u001b[0m\u001b[0;34m)\u001b[0m\u001b[0;34m\u001b[0m\u001b[0;34m\u001b[0m\u001b[0m\n\u001b[0m\u001b[1;32m    143\u001b[0m \u001b[0;34m\u001b[0m\u001b[0m\n\u001b[1;32m    144\u001b[0m \u001b[0;34m\u001b[0m\u001b[0m\n",
            "\u001b[0;32m<__array_function__ internals>\u001b[0m in \u001b[0;36mdot\u001b[0;34m(*args, **kwargs)\u001b[0m\n",
            "\u001b[0;31mValueError\u001b[0m: shapes (1,4) and (6,) not aligned: 4 (dim 1) != 6 (dim 0)"
          ]
        }
      ]
    },
    {
      "cell_type": "markdown",
      "metadata": {
        "collapsed": true,
        "id": "9eJo0il1EDXw",
        "colab_type": "text"
      },
      "source": [
        "Finalmente, vamos mostrar os parâmetros theta0,theta1,theta2,theta3 e theta4 do modelo"
      ]
    },
    {
      "cell_type": "code",
      "metadata": {
        "id": "Bkq67zpNEDXy",
        "colab_type": "code",
        "colab": {},
        "outputId": "5f32088b-1731-41dd-f85e-de45ab308279"
      },
      "source": [
        "rl.intercept_,rl.coef_"
      ],
      "execution_count": 0,
      "outputs": [
        {
          "output_type": "execute_result",
          "data": {
            "text/plain": [
              "(21.694558679184244,\n",
              " array([-3.72121804, -4.35032298,  0.84856164,  0.90727723]))"
            ]
          },
          "metadata": {
            "tags": []
          },
          "execution_count": 22
        }
      ]
    }
  ]
}