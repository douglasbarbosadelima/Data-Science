{
  "nbformat": 4,
  "nbformat_minor": 0,
  "metadata": {
    "colab": {
      "name": "apto.ipynb",
      "provenance": [],
      "include_colab_link": true
    },
    "kernelspec": {
      "name": "python3",
      "display_name": "Python 3"
    }
  },
  "cells": [
    {
      "cell_type": "markdown",
      "metadata": {
        "id": "view-in-github",
        "colab_type": "text"
      },
      "source": [
        "<a href=\"https://colab.research.google.com/github/douglasbarbosadelima/Data-Science/blob/master/apto.ipynb\" target=\"_parent\"><img src=\"https://colab.research.google.com/assets/colab-badge.svg\" alt=\"Open In Colab\"/></a>"
      ]
    },
    {
      "cell_type": "markdown",
      "metadata": {
        "id": "06D_2Q-CbZBn",
        "colab_type": "text"
      },
      "source": [
        "Regressão linear com sklearn"
      ]
    },
    {
      "cell_type": "code",
      "metadata": {
        "id": "mGgmKKHQ8hng",
        "colab_type": "code",
        "colab": {}
      },
      "source": [
        "import pandas as pd #biblioteca para processamento de dados\n",
        "import numpy as np #biblioteca para computação científica\n",
        "import matplotlib.pyplot as plt #gráficos\n",
        "from sklearn.linear_model import LinearRegression #Modelo de regresão linear\n",
        "from sklearn.metrics import mean_squared_error, accuracy_score #erro médio quadrático\n"
      ],
      "execution_count": 0,
      "outputs": []
    },
    {
      "cell_type": "markdown",
      "metadata": {
        "id": "ITw4v89_gBDE",
        "colab_type": "text"
      },
      "source": [
        "Qual diretório estou?\n"
      ]
    },
    {
      "cell_type": "code",
      "metadata": {
        "id": "1wvfKFFJgHhN",
        "colab_type": "code",
        "colab": {
          "base_uri": "https://localhost:8080/",
          "height": 34
        },
        "outputId": "ebc798ab-c1b7-41e8-e1d6-01639e202136"
      },
      "source": [
        "!pwd"
      ],
      "execution_count": 27,
      "outputs": [
        {
          "output_type": "stream",
          "text": [
            "/content\n"
          ],
          "name": "stdout"
        }
      ]
    },
    {
      "cell_type": "markdown",
      "metadata": {
        "id": "Xtl_Rf-4gKU6",
        "colab_type": "text"
      },
      "source": [
        "Qual o conteúdo do diretório corrente?\n",
        "\n"
      ]
    },
    {
      "cell_type": "code",
      "metadata": {
        "id": "-jQsFTdnboBz",
        "colab_type": "code",
        "colab": {
          "base_uri": "https://localhost:8080/",
          "height": 34
        },
        "outputId": "528a8d04-1feb-4590-d862-facfedcd2829"
      },
      "source": [
        "!ls"
      ],
      "execution_count": 28,
      "outputs": [
        {
          "output_type": "stream",
          "text": [
            "apto.csv  sample_data\n"
          ],
          "name": "stdout"
        }
      ]
    },
    {
      "cell_type": "markdown",
      "metadata": {
        "id": "83yLZx1JgZxH",
        "colab_type": "text"
      },
      "source": [
        "Faça o download do arquivo apto.csv para o diretório corrente"
      ]
    },
    {
      "cell_type": "code",
      "metadata": {
        "id": "98Ws_-3qb19w",
        "colab_type": "code",
        "colab": {
          "base_uri": "https://localhost:8080/",
          "height": 204
        },
        "outputId": "23135943-a482-48d4-ba96-676f9a607480"
      },
      "source": [
        "!wget http://www.linkededucation.com.br/dl/apto.csv"
      ],
      "execution_count": 29,
      "outputs": [
        {
          "output_type": "stream",
          "text": [
            "--2020-02-11 23:24:56--  http://www.linkededucation.com.br/dl/apto.csv\n",
            "Resolving www.linkededucation.com.br (www.linkededucation.com.br)... 186.202.149.227\n",
            "Connecting to www.linkededucation.com.br (www.linkededucation.com.br)|186.202.149.227|:80... connected.\n",
            "HTTP request sent, awaiting response... 200 OK\n",
            "Length: 121 [application/octet-stream]\n",
            "Saving to: ‘apto.csv.1’\n",
            "\n",
            "\rapto.csv.1            0%[                    ]       0  --.-KB/s               \rapto.csv.1          100%[===================>]     121  --.-KB/s    in 0s      \n",
            "\n",
            "2020-02-11 23:24:57 (25.4 MB/s) - ‘apto.csv.1’ saved [121/121]\n",
            "\n"
          ],
          "name": "stdout"
        }
      ]
    },
    {
      "cell_type": "code",
      "metadata": {
        "id": "-ix5_kzSb9rg",
        "colab_type": "code",
        "colab": {
          "base_uri": "https://localhost:8080/",
          "height": 34
        },
        "outputId": "b2f5afee-952f-4a45-dd6c-a4bb899f6cfa"
      },
      "source": [
        "!ls"
      ],
      "execution_count": 30,
      "outputs": [
        {
          "output_type": "stream",
          "text": [
            "apto.csv  apto.csv.1  sample_data\n"
          ],
          "name": "stdout"
        }
      ]
    },
    {
      "cell_type": "markdown",
      "metadata": {
        "id": "jm75WYodgoZv",
        "colab_type": "text"
      },
      "source": [
        "Carregue o csv em um dataframe do Pandas"
      ]
    },
    {
      "cell_type": "code",
      "metadata": {
        "id": "NNDR9_jS8yUs",
        "colab_type": "code",
        "colab": {
          "base_uri": "https://localhost:8080/",
          "height": 204
        },
        "outputId": "1e46493a-1b63-4387-9c42-ac356caf3433"
      },
      "source": [
        "df = pd.read_csv('./apto.csv', sep=';')\n",
        "\n",
        "df.head()"
      ],
      "execution_count": 31,
      "outputs": [
        {
          "output_type": "execute_result",
          "data": {
            "text/html": [
              "<div>\n",
              "<style scoped>\n",
              "    .dataframe tbody tr th:only-of-type {\n",
              "        vertical-align: middle;\n",
              "    }\n",
              "\n",
              "    .dataframe tbody tr th {\n",
              "        vertical-align: top;\n",
              "    }\n",
              "\n",
              "    .dataframe thead th {\n",
              "        text-align: right;\n",
              "    }\n",
              "</style>\n",
              "<table border=\"1\" class=\"dataframe\">\n",
              "  <thead>\n",
              "    <tr style=\"text-align: right;\">\n",
              "      <th></th>\n",
              "      <th>Area</th>\n",
              "      <th>Quartos</th>\n",
              "      <th>Preco</th>\n",
              "    </tr>\n",
              "  </thead>\n",
              "  <tbody>\n",
              "    <tr>\n",
              "      <th>0</th>\n",
              "      <td>50</td>\n",
              "      <td>2</td>\n",
              "      <td>100</td>\n",
              "    </tr>\n",
              "    <tr>\n",
              "      <th>1</th>\n",
              "      <td>80</td>\n",
              "      <td>3</td>\n",
              "      <td>120</td>\n",
              "    </tr>\n",
              "    <tr>\n",
              "      <th>2</th>\n",
              "      <td>120</td>\n",
              "      <td>3</td>\n",
              "      <td>170</td>\n",
              "    </tr>\n",
              "    <tr>\n",
              "      <th>3</th>\n",
              "      <td>200</td>\n",
              "      <td>3</td>\n",
              "      <td>230</td>\n",
              "    </tr>\n",
              "    <tr>\n",
              "      <th>4</th>\n",
              "      <td>70</td>\n",
              "      <td>2</td>\n",
              "      <td>120</td>\n",
              "    </tr>\n",
              "  </tbody>\n",
              "</table>\n",
              "</div>"
            ],
            "text/plain": [
              "   Area  Quartos  Preco\n",
              "0    50        2    100\n",
              "1    80        3    120\n",
              "2   120        3    170\n",
              "3   200        3    230\n",
              "4    70        2    120"
            ]
          },
          "metadata": {
            "tags": []
          },
          "execution_count": 31
        }
      ]
    },
    {
      "cell_type": "markdown",
      "metadata": {
        "id": "cxV38jRqi_k3",
        "colab_type": "text"
      },
      "source": [
        "Fazer Scatter plot das features x Target observando eventuais relações lineares"
      ]
    },
    {
      "cell_type": "code",
      "metadata": {
        "id": "6J-yzzoEaB2p",
        "colab_type": "code",
        "colab": {
          "base_uri": "https://localhost:8080/",
          "height": 265
        },
        "outputId": "45eb9fc0-1e17-4106-c43a-2b2c6c34ff2e"
      },
      "source": [
        "plt.scatter(df['Area'], df['Preco'])\n",
        "plt.show()"
      ],
      "execution_count": 32,
      "outputs": [
        {
          "output_type": "display_data",
          "data": {
            "image/png": "[encoded data removed]",
            "text/plain": [
              "<Figure size 432x288 with 1 Axes>"
            ]
          },
          "metadata": {
            "tags": []
          }
        }
      ]
    },
    {
      "cell_type": "markdown",
      "metadata": {
        "id": "FLoDO61sjRvk",
        "colab_type": "text"
      },
      "source": [
        "Criar o target y como a série Preco do dataframe\n",
        "Retirar a série Preco do dataframe\n"
      ]
    },
    {
      "cell_type": "code",
      "metadata": {
        "id": "wPrCq10Jd7eS",
        "colab_type": "code",
        "colab": {
          "base_uri": "https://localhost:8080/",
          "height": 359
        },
        "outputId": "85e44686-712b-447e-969d-8a95bb860294"
      },
      "source": [
        "y = df['Preco']\n",
        "df = df.drop(columns='Preco', axis=1)\n",
        "\n",
        "df"
      ],
      "execution_count": 33,
      "outputs": [
        {
          "output_type": "execute_result",
          "data": {
            "text/html": [
              "<div>\n",
              "<style scoped>\n",
              "    .dataframe tbody tr th:only-of-type {\n",
              "        vertical-align: middle;\n",
              "    }\n",
              "\n",
              "    .dataframe tbody tr th {\n",
              "        vertical-align: top;\n",
              "    }\n",
              "\n",
              "    .dataframe thead th {\n",
              "        text-align: right;\n",
              "    }\n",
              "</style>\n",
              "<table border=\"1\" class=\"dataframe\">\n",
              "  <thead>\n",
              "    <tr style=\"text-align: right;\">\n",
              "      <th></th>\n",
              "      <th>Area</th>\n",
              "      <th>Quartos</th>\n",
              "    </tr>\n",
              "  </thead>\n",
              "  <tbody>\n",
              "    <tr>\n",
              "      <th>0</th>\n",
              "      <td>50</td>\n",
              "      <td>2</td>\n",
              "    </tr>\n",
              "    <tr>\n",
              "      <th>1</th>\n",
              "      <td>80</td>\n",
              "      <td>3</td>\n",
              "    </tr>\n",
              "    <tr>\n",
              "      <th>2</th>\n",
              "      <td>120</td>\n",
              "      <td>3</td>\n",
              "    </tr>\n",
              "    <tr>\n",
              "      <th>3</th>\n",
              "      <td>200</td>\n",
              "      <td>3</td>\n",
              "    </tr>\n",
              "    <tr>\n",
              "      <th>4</th>\n",
              "      <td>70</td>\n",
              "      <td>2</td>\n",
              "    </tr>\n",
              "    <tr>\n",
              "      <th>5</th>\n",
              "      <td>50</td>\n",
              "      <td>1</td>\n",
              "    </tr>\n",
              "    <tr>\n",
              "      <th>6</th>\n",
              "      <td>30</td>\n",
              "      <td>1</td>\n",
              "    </tr>\n",
              "    <tr>\n",
              "      <th>7</th>\n",
              "      <td>90</td>\n",
              "      <td>3</td>\n",
              "    </tr>\n",
              "    <tr>\n",
              "      <th>8</th>\n",
              "      <td>40</td>\n",
              "      <td>2</td>\n",
              "    </tr>\n",
              "    <tr>\n",
              "      <th>9</th>\n",
              "      <td>60</td>\n",
              "      <td>1</td>\n",
              "    </tr>\n",
              "  </tbody>\n",
              "</table>\n",
              "</div>"
            ],
            "text/plain": [
              "   Area  Quartos\n",
              "0    50        2\n",
              "1    80        3\n",
              "2   120        3\n",
              "3   200        3\n",
              "4    70        2\n",
              "5    50        1\n",
              "6    30        1\n",
              "7    90        3\n",
              "8    40        2\n",
              "9    60        1"
            ]
          },
          "metadata": {
            "tags": []
          },
          "execution_count": 33
        }
      ]
    },
    {
      "cell_type": "markdown",
      "metadata": {
        "id": "lo3lhcALje1m",
        "colab_type": "text"
      },
      "source": [
        "Converter dataframe e tagret para arrays (X e y)"
      ]
    },
    {
      "cell_type": "code",
      "metadata": {
        "id": "NJdyHo8xeZDN",
        "colab_type": "code",
        "colab": {
          "base_uri": "https://localhost:8080/",
          "height": 204
        },
        "outputId": "eaf20881-976c-4f6a-eb6f-88d32f08192a"
      },
      "source": [
        "X = np.array(df)\n",
        "y = np.array(y)\n",
        "\n",
        "X, y"
      ],
      "execution_count": 34,
      "outputs": [
        {
          "output_type": "execute_result",
          "data": {
            "text/plain": [
              "(array([[ 50,   2],\n",
              "        [ 80,   3],\n",
              "        [120,   3],\n",
              "        [200,   3],\n",
              "        [ 70,   2],\n",
              "        [ 50,   1],\n",
              "        [ 30,   1],\n",
              "        [ 90,   3],\n",
              "        [ 40,   2],\n",
              "        [ 60,   1]]),\n",
              " array([100, 120, 170, 230, 120,  80,  60, 170,  85,  90]))"
            ]
          },
          "metadata": {
            "tags": []
          },
          "execution_count": 34
        }
      ]
    },
    {
      "cell_type": "markdown",
      "metadata": {
        "id": "StrQ65lHj3vH",
        "colab_type": "text"
      },
      "source": [
        "Instanciar Modelo de Regressão Linear\n",
        "Treiná-lo (fit)\n",
        "Gerar predição para todo o dataset (ye)\n",
        "Verificar erro médio quadrático na amostra de treinamento (toda a amostra)"
      ]
    },
    {
      "cell_type": "markdown",
      "metadata": {
        "id": "KE5w4DN_kP0v",
        "colab_type": "text"
      },
      "source": [
        "Criar no Dataframe novas séries com valores previstos e reais para comparação"
      ]
    },
    {
      "cell_type": "code",
      "metadata": {
        "id": "1cfoDTQBfqHn",
        "colab_type": "code",
        "colab": {}
      },
      "source": [
        "model = LinearRegression()\n",
        "model.fit(X[:7], y[:7])\n",
        "ye_tr = model.predict(X[:7])\n",
        "ye_tst = model.predict(X[6:])"
      ],
      "execution_count": 0,
      "outputs": []
    },
    {
      "cell_type": "code",
      "metadata": {
        "id": "h2i3_uJdjiQA",
        "colab_type": "code",
        "colab": {
          "base_uri": "https://localhost:8080/",
          "height": 34
        },
        "outputId": "b5201c7b-5489-49a2-bed5-e5fade0857b7"
      },
      "source": [
        "e_tr = mean_squared_error(ye_tr, y[:7])\n",
        "e_tst = mean_squared_error(ye_tst, y[6:])\n",
        "\n",
        "e_tr, e_tst"
      ],
      "execution_count": 44,
      "outputs": [
        {
          "output_type": "execute_result",
          "data": {
            "text/plain": [
              "(43.95604395604393, 244.11982248520715)"
            ]
          },
          "metadata": {
            "tags": []
          },
          "execution_count": 44
        }
      ]
    },
    {
      "cell_type": "code",
      "metadata": {
        "id": "3hncdPxHkF3F",
        "colab_type": "code",
        "colab": {
          "base_uri": "https://localhost:8080/",
          "height": 359
        },
        "outputId": "09df36b5-f60e-4516-9cf3-6c176dfd9dbc"
      },
      "source": [
        "df['ye'] = ye\n",
        "df['y'] = y\n",
        "\n",
        "df"
      ],
      "execution_count": 37,
      "outputs": [
        {
          "output_type": "execute_result",
          "data": {
            "text/html": [
              "<div>\n",
              "<style scoped>\n",
              "    .dataframe tbody tr th:only-of-type {\n",
              "        vertical-align: middle;\n",
              "    }\n",
              "\n",
              "    .dataframe tbody tr th {\n",
              "        vertical-align: top;\n",
              "    }\n",
              "\n",
              "    .dataframe thead th {\n",
              "        text-align: right;\n",
              "    }\n",
              "</style>\n",
              "<table border=\"1\" class=\"dataframe\">\n",
              "  <thead>\n",
              "    <tr style=\"text-align: right;\">\n",
              "      <th></th>\n",
              "      <th>Area</th>\n",
              "      <th>Quartos</th>\n",
              "      <th>ye</th>\n",
              "      <th>y</th>\n",
              "    </tr>\n",
              "  </thead>\n",
              "  <tbody>\n",
              "    <tr>\n",
              "      <th>0</th>\n",
              "      <td>50</td>\n",
              "      <td>2</td>\n",
              "      <td>97.989968</td>\n",
              "      <td>100</td>\n",
              "    </tr>\n",
              "    <tr>\n",
              "      <th>1</th>\n",
              "      <td>80</td>\n",
              "      <td>3</td>\n",
              "      <td>139.645217</td>\n",
              "      <td>120</td>\n",
              "    </tr>\n",
              "    <tr>\n",
              "      <th>2</th>\n",
              "      <td>120</td>\n",
              "      <td>3</td>\n",
              "      <td>170.944458</td>\n",
              "      <td>170</td>\n",
              "    </tr>\n",
              "    <tr>\n",
              "      <th>3</th>\n",
              "      <td>200</td>\n",
              "      <td>3</td>\n",
              "      <td>233.542941</td>\n",
              "      <td>230</td>\n",
              "    </tr>\n",
              "    <tr>\n",
              "      <th>4</th>\n",
              "      <td>70</td>\n",
              "      <td>2</td>\n",
              "      <td>113.639589</td>\n",
              "      <td>120</td>\n",
              "    </tr>\n",
              "    <tr>\n",
              "      <th>5</th>\n",
              "      <td>50</td>\n",
              "      <td>1</td>\n",
              "      <td>79.809151</td>\n",
              "      <td>80</td>\n",
              "    </tr>\n",
              "    <tr>\n",
              "      <th>6</th>\n",
              "      <td>30</td>\n",
              "      <td>1</td>\n",
              "      <td>64.159530</td>\n",
              "      <td>60</td>\n",
              "    </tr>\n",
              "    <tr>\n",
              "      <th>7</th>\n",
              "      <td>90</td>\n",
              "      <td>3</td>\n",
              "      <td>147.470027</td>\n",
              "      <td>170</td>\n",
              "    </tr>\n",
              "    <tr>\n",
              "      <th>8</th>\n",
              "      <td>40</td>\n",
              "      <td>2</td>\n",
              "      <td>90.165158</td>\n",
              "      <td>85</td>\n",
              "    </tr>\n",
              "    <tr>\n",
              "      <th>9</th>\n",
              "      <td>60</td>\n",
              "      <td>1</td>\n",
              "      <td>87.633961</td>\n",
              "      <td>90</td>\n",
              "    </tr>\n",
              "  </tbody>\n",
              "</table>\n",
              "</div>"
            ],
            "text/plain": [
              "   Area  Quartos          ye    y\n",
              "0    50        2   97.989968  100\n",
              "1    80        3  139.645217  120\n",
              "2   120        3  170.944458  170\n",
              "3   200        3  233.542941  230\n",
              "4    70        2  113.639589  120\n",
              "5    50        1   79.809151   80\n",
              "6    30        1   64.159530   60\n",
              "7    90        3  147.470027  170\n",
              "8    40        2   90.165158   85\n",
              "9    60        1   87.633961   90"
            ]
          },
          "metadata": {
            "tags": []
          },
          "execution_count": 37
        }
      ]
    }
  ]
}