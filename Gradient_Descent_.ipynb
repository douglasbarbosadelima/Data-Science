{
  "nbformat": 4,
  "nbformat_minor": 0,
  "metadata": {
    "kernelspec": {
      "display_name": "Python 3",
      "language": "python",
      "name": "python3"
    },
    "language_info": {
      "codemirror_mode": {
        "name": "ipython",
        "version": 3
      },
      "file_extension": ".py",
      "mimetype": "text/x-python",
      "name": "python",
      "nbconvert_exporter": "python",
      "pygments_lexer": "ipython3",
      "version": "3.6.3"
    },
    "colab": {
      "name": "Gradient+Descent .ipynb",
      "provenance": [],
      "collapsed_sections": [],
      "include_colab_link": true
    }
  },
  "cells": [
    {
      "cell_type": "markdown",
      "metadata": {
        "id": "view-in-github",
        "colab_type": "text"
      },
      "source": [
        "<a href=\"https://colab.research.google.com/github/douglasbarbosadelima/Data-Science/blob/master/Gradient_Descent_.ipynb\" target=\"_parent\"><img src=\"https://colab.research.google.com/assets/colab-badge.svg\" alt=\"Open In Colab\"/></a>"
      ]
    },
    {
      "cell_type": "markdown",
      "metadata": {
        "id": "DOHsWobyH5X7",
        "colab_type": "text"
      },
      "source": [
        "# Gradient Descent "
      ]
    },
    {
      "cell_type": "markdown",
      "metadata": {
        "id": "0qtI2W2UH5X-",
        "colab_type": "text"
      },
      "source": [
        "Vamos aprender a minimizar uma função de várias variáveis usando o algoritmo Gradient Descent"
      ]
    },
    {
      "cell_type": "markdown",
      "metadata": {
        "id": "-d7LQeubH5X-",
        "colab_type": "text"
      },
      "source": [
        "Primeiro vamos falar de derivadas e observar a função seno(x)...vamos fazer um gráfico"
      ]
    },
    {
      "cell_type": "code",
      "metadata": {
        "id": "FPNsqvlJH5X_",
        "colab_type": "code",
        "colab": {}
      },
      "source": [
        "import matplotlib.pyplot as plt\n",
        "import math"
      ],
      "execution_count": 0,
      "outputs": []
    },
    {
      "cell_type": "markdown",
      "metadata": {
        "id": "x1FgyYgwH5YB",
        "colab_type": "text"
      },
      "source": [
        "A derivada de uma função f em x0 é o limite (quando x tende a zero) de\n",
        "(f(x0+x)-f(x0))/x"
      ]
    },
    {
      "cell_type": "markdown",
      "metadata": {
        "id": "L5FuKFq-H5YC",
        "colab_type": "text"
      },
      "source": [
        "Por exemplo, sabemos que a derivada do sen(x) é cos(x)...quando x=PI/2, o sen(x) é 1 e o cos(x) é zero. Vamos ver esse valor (0) sendo atingido pela definição de derivada."
      ]
    },
    {
      "cell_type": "code",
      "metadata": {
        "collapsed": true,
        "id": "0zVvwR_fH5YD",
        "colab_type": "code",
        "colab": {
          "base_uri": "https://localhost:8080/",
          "height": 170
        },
        "outputId": "7710f378-e8e3-47b3-9c83-58ed992b5200"
      },
      "source": [
        "x0 = math.pi * 0.5\n",
        "for i in range(1, 10):\n",
        "  x = 1 / (10 ** i)\n",
        "  print((math.sin(x0 + x) - math.sin(x0)) / x)"
      ],
      "execution_count": 4,
      "outputs": [
        {
          "output_type": "stream",
          "text": [
            "-0.049958347219742905\n",
            "-0.004999958333473664\n",
            "-0.0004999999583255033\n",
            "-4.999999969612645e-05\n",
            "-5.000000413701855e-06\n",
            "-5.000444502911705e-07\n",
            "-4.9960036108132044e-08\n",
            "0.0\n",
            "0.0\n"
          ],
          "name": "stdout"
        }
      ]
    },
    {
      "cell_type": "code",
      "metadata": {
        "id": "NYLJruevH5YF",
        "colab_type": "code",
        "colab": {
          "base_uri": "https://localhost:8080/",
          "height": 269
        },
        "outputId": "f9508d4d-27ab-41dc-eb83-ea4d4fb802e5"
      },
      "source": [
        "y=[]\n",
        "x=[]\n",
        "for i in range(721):\n",
        "    x.append(math.radians(i))\n",
        "    y.append(math.sin(x[i]))\n",
        "plt.plot(x,y)\n",
        "plt.show()"
      ],
      "execution_count": 5,
      "outputs": [
        {
          "output_type": "display_data",
          "data": {
            "image/png": "[encoded data removed]",
            "text/plain": [
              "<Figure size 432x288 with 1 Axes>"
            ]
          },
          "metadata": {
            "tags": []
          }
        }
      ]
    },
    {
      "cell_type": "markdown",
      "metadata": {
        "id": "V67sxnLEH5YH",
        "colab_type": "text"
      },
      "source": [
        "Discussão de derivadas....vamos plotar a derivada do seno (azul), junto com ele (vermelho).."
      ]
    },
    {
      "cell_type": "code",
      "metadata": {
        "id": "cRCsgsVkH5YI",
        "colab_type": "code",
        "colab": {
          "base_uri": "https://localhost:8080/",
          "height": 269
        },
        "outputId": "dd4ad3cc-b35d-4c8c-c9c4-09c687d99ae3"
      },
      "source": [
        "y=[]\n",
        "y1=[]\n",
        "x=[]\n",
        "for i in range(721):\n",
        "    x.append(math.radians(i))\n",
        "    y.append(math.sin(x[i]))\n",
        "    y1.append(math.cos(x[i]))\n",
        "    plt.plot(x,y,'bo')\n",
        "    plt.plot(x,y1,'ro')\n",
        "    \n",
        "plt.plot([-1,13],[0,0],color='black')\n",
        "\n",
        "plt.show()"
      ],
      "execution_count": 6,
      "outputs": [
        {
          "output_type": "display_data",
          "data": {
            "image/png": "[encoded data removed]",
            "text/plain": [
              "<Figure size 432x288 with 1 Axes>"
            ]
          },
          "metadata": {
            "tags": []
          }
        }
      ]
    },
    {
      "cell_type": "markdown",
      "metadata": {
        "id": "3P9su9-FH5YK",
        "colab_type": "text"
      },
      "source": [
        "Notem mínimos locais nessa função abaixo....\n"
      ]
    },
    {
      "cell_type": "code",
      "metadata": {
        "id": "JMS6zY48H5YK",
        "colab_type": "code",
        "colab": {
          "base_uri": "https://localhost:8080/",
          "height": 269
        },
        "outputId": "ea7a0e7f-a3d1-4745-9dd7-029636b4891c"
      },
      "source": [
        "y=[]\n",
        "x=[]\n",
        "for i in range(721):\n",
        "    x.append(math.radians(i))\n",
        "    y.append(x[i]*math.sin(x[i]))\n",
        "plt.plot(x,y)\n",
        "plt.show()"
      ],
      "execution_count": 7,
      "outputs": [
        {
          "output_type": "display_data",
          "data": {
            "image/png": "[encoded data removed]",
            "text/plain": [
              "<Figure size 432x288 with 1 Axes>"
            ]
          },
          "metadata": {
            "tags": []
          }
        }
      ]
    },
    {
      "cell_type": "markdown",
      "metadata": {
        "id": "5KGG34RfH5YM",
        "colab_type": "text"
      },
      "source": [
        "O gradiente de uma função de várias variáveis de um vetor onde cada elemento é a derivada parcial da função em relação àquela variável...<br/>\n",
        "Exemplo: f(x,y)=x**2 + 3*y<br/>\n",
        "O gradiente de f é o vetor<br/>\n",
        "gradf=(2*x,3)\n",
        "O gradiente dá a direção e o sentido do maior crescimento da função...se queremos\n",
        "minimizá-la, temos que ir em sentido contrário..\n",
        "\n"
      ]
    },
    {
      "cell_type": "markdown",
      "metadata": {
        "id": "61sXwNVUH5YN",
        "colab_type": "text"
      },
      "source": [
        "A idéia do gradient descent é partir de um ponto e caminhar no sentido oposto ao gradiente uma pequena distância, reclacular o gradiente...dar novo passo..até chegar a um mínimo (que pode ser local)."
      ]
    },
    {
      "cell_type": "markdown",
      "metadata": {
        "id": "OPFWkcktH5YN",
        "colab_type": "text"
      },
      "source": [
        "Vamos, com gradient descent, encontrar o mínimo da função f(x,y)=x**2+y**2-200 (até eu sei)...vamos também fazer o gráfico de x X y"
      ]
    },
    {
      "cell_type": "code",
      "metadata": {
        "id": "ObkflUVcH5YO",
        "colab_type": "code",
        "colab": {}
      },
      "source": [
        "def f(x, y):\n",
        "  return (x**2 + y**2) - 200\n",
        "\n",
        "def gradF(x, y):\n",
        "  return (2*x, 2*y)"
      ],
      "execution_count": 0,
      "outputs": []
    },
    {
      "cell_type": "code",
      "metadata": {
        "collapsed": true,
        "id": "q1on0z2cH5YQ",
        "colab_type": "code",
        "colab": {
          "base_uri": "https://localhost:8080/",
          "height": 949
        },
        "outputId": "c700bf16-b7fb-4e57-be0c-b5bc55f648dc"
      },
      "source": [
        "learningReigth = 0.1\n",
        "x = 80\n",
        "y = 190\n",
        "\n",
        "for i in range(40):\n",
        "  g = gradF(x, y)\n",
        "  x -= learningReigth * g[0]\n",
        "  y -= learningReigth * g[1]\n",
        "  plt.plot(x, y, 'bo')\n",
        "  print('x - ', x, 'y - ', y, f(x, y))\n",
        "  \n",
        "plt.show()"
      ],
      "execution_count": 17,
      "outputs": [
        {
          "output_type": "stream",
          "text": [
            "x -  64.0 y -  152.0 27000.0\n",
            "x -  51.2 y -  121.6 17208.0\n",
            "x -  40.96 y -  97.28 10941.12\n",
            "x -  32.768 y -  77.824 6930.3168\n",
            "x -  26.2144 y -  62.2592 4363.402752\n",
            "x -  20.97152 y -  49.80736 2720.5777612800002\n",
            "x -  16.777216000000003 y -  39.845888 1669.1697672192004\n",
            "x -  13.421772800000003 y -  31.8767104 996.2686510202882\n",
            "x -  10.737418240000002 y -  25.50136832 565.6119366529845\n",
            "x -  8.589934592000002 y -  20.401094656 289.9916394579101\n",
            "x -  6.871947673600002 y -  16.3208757248 113.59464925306241\n",
            "x -  5.497558138880001 y -  13.056700579840001 0.7005755219599621\n",
            "x -  4.398046511104001 y -  10.445360463872001 -71.55163166594562\n",
            "x -  3.5184372088832006 y -  8.356288371097602 -117.79304426620519\n",
            "x -  2.8147497671065604 y -  6.685030696878082 -147.38754833037132\n",
            "x -  2.251799813685248 y -  5.348024557502465 -166.32803093143764\n",
            "x -  1.8014398509481986 y -  4.278419646001972 -178.44993979612008\n",
            "x -  1.4411518807585588 y -  3.422735716801578 -186.20796146951685\n",
            "x -  1.152921504606847 y -  2.7381885734412625 -191.1730953404908\n",
            "x -  0.9223372036854777 y -  2.19055085875301 -194.3507810179141\n",
            "x -  0.7378697629483821 y -  1.752440687002408 -196.38449985146502\n",
            "x -  0.5902958103587057 y -  1.4019525496019265 -197.68607990493763\n",
            "x -  0.47223664828696454 y -  1.1215620396815411 -198.51909113916008\n",
            "x -  0.37778931862957166 y -  0.8972496317452329 -199.05221832906244\n",
            "x -  0.3022314549036573 y -  0.7177997053961863 -199.39341973059996\n",
            "x -  0.24178516392292587 y -  0.574239764316949 -199.611788627584\n",
            "x -  0.1934281311383407 y -  0.45939181145355923 -199.75154472165374\n",
            "x -  0.15474250491067257 y -  0.3675134491628474 -199.8409886218584\n",
            "x -  0.12379400392853805 y -  0.2940107593302779 -199.89823271798937\n",
            "x -  0.09903520314283044 y -  0.23520860746422234 -199.9348689395132\n",
            "x -  0.07922816251426436 y -  0.18816688597137787 -199.95831612128845\n",
            "x -  0.06338253001141149 y -  0.1505335087771023 -199.9733223176246\n",
            "x -  0.05070602400912919 y -  0.12042680702168185 -199.98292628327974\n",
            "x -  0.04056481920730336 y -  0.09634144561734548 -199.98907282129903\n",
            "x -  0.032451855365842684 y -  0.07707315649387639 -199.9930066056314\n",
            "x -  0.02596148429267415 y -  0.06165852519510111 -199.99552422760408\n",
            "x -  0.02076918743413932 y -  0.049326820156080885 -199.99713550566662\n",
            "x -  0.016615349947311456 y -  0.03946145612486471 -199.99816672362664\n",
            "x -  0.013292279957849165 y -  0.03156916489989177 -199.99882670312104\n",
            "x -  0.010633823966279331 y -  0.025255331919913415 -199.99924908999748\n"
          ],
          "name": "stdout"
        },
        {
          "output_type": "display_data",
          "data": {
            "image/png": "[encoded data removed]",
            "text/plain": [
              "<Figure size 432x288 with 1 Axes>"
            ]
          },
          "metadata": {
            "tags": []
          }
        }
      ]
    },
    {
      "cell_type": "markdown",
      "metadata": {
        "id": "LcKI5k0uH5YR",
        "colab_type": "text"
      },
      "source": [
        "Agora, o gráfico!"
      ]
    },
    {
      "cell_type": "code",
      "metadata": {
        "collapsed": true,
        "id": "5kyNvHniH5YS",
        "colab_type": "code",
        "colab": {},
        "outputId": "e0c31e07-0810-4545-9929-c8b7465bfccb"
      },
      "source": [
        ""
      ],
      "execution_count": 0,
      "outputs": [
        {
          "output_type": "display_data",
          "data": {
            "image/png": "[encoded data removed]",
            "text/plain": [
              "<Figure size 432x288 with 1 Axes>"
            ]
          },
          "metadata": {
            "tags": []
          }
        }
      ]
    },
    {
      "cell_type": "markdown",
      "metadata": {
        "id": "i0EOD3AYH5YU",
        "colab_type": "text"
      },
      "source": [
        "Vamos minimizar o erro médio quadrático de uma regressão linear com 2 parâmetros :\n",
        "t0 e t1.\n",
        "Assim ye=t0+t1x\n",
        "As amostras são:\n",
        "x=1,y=3\n",
        "x=2,y=5.5\n",
        "x=3,y=9.5\n",
        "x=4,y=13.8\n",
        "\n",
        "O EMQ=(1/4)*((t0+t1*1-3)**2+(t0+t1*2-5.5)**2+(t0+t1*3-9.5)**2+(t0+t1*4-13.8)**2)\n",
        "O gradiente de EMQ (derivada parcial em relação a t0 e t1) é:\n",
        "Derivada parcial em relação a t0 (DPt0):\n",
        "(1/4)*(2*(t0+t1*1-3)+2*(t0+t1*2-5.5)+2*(t0+t1*3-9.5)+2*(t0+t1*4-13.8))\n",
        "Derivada parcial em relação a t1 (DPt1):      \n",
        "(1/4)*(2*(t0+t1*1-3)+2*(t0+t1*2-5.5)*2+2*(t0+t1*3-9.5)*3+2*(t0+t1*4-13.8)*4)\n",
        "\n",
        "Assim, o Gradiente de EMQ é (DPt0,DPt1)\n",
        "\n",
        "Vamos partir de t0=t1=0.5 e, por gradient descent, encontrar os t0 e t1 que \n",
        "minimizam o EMQ\n",
        "    "
      ]
    },
    {
      "cell_type": "code",
      "metadata": {
        "collapsed": true,
        "id": "kcB6it-FH5YU",
        "colab_type": "code",
        "colab": {}
      },
      "source": [
        "def erroMedioQuad(t0, t1):\n",
        "  return (1 / 4)*((t0 + t1 * 1 - 3) **2 + (t0 + t1 * 2 - 5.5) ** 2 + (t0 + t1 * 3 - 9.5) ** 2 + ( t0 + t1 * 4 -13.8) **2)"
      ],
      "execution_count": 0,
      "outputs": []
    },
    {
      "cell_type": "markdown",
      "metadata": {
        "id": "Kp3yNVFcH5YW",
        "colab_type": "text"
      },
      "source": [
        "Vamos fazer o gráfico Modelo X Real"
      ]
    },
    {
      "cell_type": "code",
      "metadata": {
        "collapsed": true,
        "id": "3le0JSBHH5YW",
        "colab_type": "code",
        "colab": {
          "base_uri": "https://localhost:8080/",
          "height": 796
        },
        "outputId": "40fa8562-fe67-4567-bde3-58ed2767964c"
      },
      "source": [
        "def gradientErroMedioQuad(t0, t1):\n",
        "  derivParcT0 = (1/4)*(2 *(t0+t1*1-3)+ 2 *(t0+t1*2-5.5)+ 2 *(t0+t1*3-9.5) + 2 *(t0+t1*4-13.8))\n",
        "  derivParcT1 = (1/4)*(2 *(t0+t1*1-3)+ 2 *(t0+t1*2-5.5) * 2 + 2 *(t0+t1*3-9.5) * 3 + 2 *(t0+t1*4-13.8) * 4)\n",
        "  \n",
        "  return (derivParcT0, derivParcT1)\n",
        "  \n",
        "t0 = 0.5\n",
        "t1 = 0.5\n",
        "print(t0, t1, erroMedioQuad(t0, t1))\n",
        "for i in range(30):\n",
        "  g = gradientErroMedioQuad(t0, t1)\n",
        "  t0 = t0 - learningReigth * g[0]\n",
        "  t1 = t1 - learningReigth * g[1]\n",
        "  print(t0, t1, erroMedioQuad(t0, t1))\n",
        "  \n",
        "x = [1, 2, 3, 4]\n",
        "y = [3, 5.5, 9.5, 13.8]\n",
        "ye = [t0 + t1 * i for i in x]\n",
        "plt.plot(x, y, 'bo')\n",
        "plt.plot(x, ye, color='red')\n",
        "plt.show()"
      ],
      "execution_count": 22,
      "outputs": [
        {
          "output_type": "stream",
          "text": [
            "0.5 0.5 50.985\n",
            "1.7400000000000002 4.385 23.5005375\n",
            "0.7895000000000003 1.8224999999999998 11.131750875000003\n",
            "1.3103500000000006 3.5790000000000006 5.5513228725000054\n",
            "0.8487800000000003 2.4403249999999996 3.0203402980875054\n",
            "1.0488615000000006 3.2404475 1.8600053507103778\n",
            "0.8088654500000003 2.7403454999999997 1.3164799115454537\n",
            "0.8669196100000005 3.1103945250000002 1.0512210663730466\n",
            "0.7283384255000004 2.8963429325 0.9121507696305801\n",
            "0.7244992741500003 3.0726593209999997 0.8309149192438943\n",
            "0.6332697588200004 2.9864207024250002 0.7767542875800925\n",
            "0.6034054558435001 3.0751547693775 0.735793156355784\n",
            "0.5351469799860502 3.0457198873895 0.70174005083195\n",
            "0.49525764029409014 3.094566566312225 0.6717123120960927\n",
            "0.4389228290791596 3.0900878966968426 0.6443611923370698\n",
            "0.3960943149149065 3.1204946371119995 0.6190298554879273\n",
            "0.3466281333759255 3.1267055239865473 0.5953751453658068\n",
            "0.3039497447074667 3.1483331713187637 0.5731975881148226\n",
            "0.25899321010659165 3.158858541986885 0.5523648985625501\n",
            "0.21776529709183073 3.1760741239532617 0.5327774780234323\n",
            "0.1761751756968338 3.1880802894774543 0.5143527748098928\n",
            "0.13689999581874 3.202872267412856 0.49701812252085176\n",
            "0.09808386294856408 3.2151138683842024 0.480707392946804\n",
            "0.060910156166750086 3.228401134333617 0.4653593694309974\n",
            "0.024527557766591525 3.2403443547498165 0.4509168999890617\n",
            "-0.010550131161634987 3.252564043741796 0.43732640740019946\n",
            "-0.04472212680020599 3.2639930437099194 0.4245375660408985\n",
            "-0.0777742232951244 3.2753645415451436 0.41250305967026474\n",
            "-0.10990164940867123 3.2862048408749907 0.4011783812893884\n",
            "-0.14102373996443224 3.2968484042668407 0.39052165728156274\n",
            "-0.17124319410496613 3.307087667848796 0.3804934875266057\n"
          ],
          "name": "stdout"
        },
        {
          "output_type": "display_data",
          "data": {
            "image/png": "[encoded data removed]",
            "text/plain": [
              "<Figure size 432x288 with 1 Axes>"
            ]
          },
          "metadata": {
            "tags": []
          }
        }
      ]
    }
  ]
}