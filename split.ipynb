{
  "nbformat": 4,
  "nbformat_minor": 0,
  "metadata": {
    "kernelspec": {
      "display_name": "Python 3",
      "language": "python",
      "name": "python3"
    },
    "language_info": {
      "codemirror_mode": {
        "name": "ipython",
        "version": 3
      },
      "file_extension": ".py",
      "mimetype": "text/x-python",
      "name": "python",
      "nbconvert_exporter": "python",
      "pygments_lexer": "ipython3",
      "version": "3.6.3"
    },
    "colab": {
      "name": "split.ipynb",
      "provenance": [],
      "include_colab_link": true
    }
  },
  "cells": [
    {
      "cell_type": "markdown",
      "metadata": {
        "id": "view-in-github",
        "colab_type": "text"
      },
      "source": [
        "<a href=\"https://colab.research.google.com/github/douglasbarbosadelima/Data-Science/blob/master/split.ipynb\" target=\"_parent\"><img src=\"https://colab.research.google.com/assets/colab-badge.svg\" alt=\"Open In Colab\"/></a>"
      ]
    },
    {
      "cell_type": "markdown",
      "metadata": {
        "id": "a_tWgymt3IuN",
        "colab_type": "text"
      },
      "source": [
        "# Split_res\n"
      ]
    },
    {
      "cell_type": "code",
      "metadata": {
        "id": "-D-2zmJP3IuQ",
        "colab_type": "code",
        "colab": {}
      },
      "source": [
        "import numpy as np\n",
        "from sklearn.linear_model import LinearRegression\n",
        "import pandas as pd\n",
        "from sklearn.model_selection import train_test_split #novidade\n",
        "from sklearn.metrics import mean_squared_error \n"
      ],
      "execution_count": 0,
      "outputs": []
    },
    {
      "cell_type": "code",
      "metadata": {
        "id": "alRfU84h3IuV",
        "colab_type": "code",
        "colab": {}
      },
      "source": [
        "def standard(s):\n",
        "    m=s.mean()\n",
        "    d=s.std()\n",
        "    s=(s-m)/d\n",
        "    return s"
      ],
      "execution_count": 0,
      "outputs": []
    },
    {
      "cell_type": "markdown",
      "metadata": {
        "id": "sZQBZ91_3IuZ",
        "colab_type": "text"
      },
      "source": [
        "Importação do DataSet com  Pandas"
      ]
    },
    {
      "cell_type": "code",
      "metadata": {
        "id": "oGHawkHD3Iua",
        "colab_type": "code",
        "colab": {
          "base_uri": "https://localhost:8080/",
          "height": 204
        },
        "outputId": "be439267-ad37-4469-d95a-2e1048725cca"
      },
      "source": [
        "df=pd.read_csv('https://raw.githubusercontent.com/douglasbarbosadelima/Data-Science/master/cars-uci-linked.csv')\n",
        "df=df.dropna()\n",
        "df.head()"
      ],
      "execution_count": 5,
      "outputs": [
        {
          "output_type": "execute_result",
          "data": {
            "text/html": [
              "<div>\n",
              "<style scoped>\n",
              "    .dataframe tbody tr th:only-of-type {\n",
              "        vertical-align: middle;\n",
              "    }\n",
              "\n",
              "    .dataframe tbody tr th {\n",
              "        vertical-align: top;\n",
              "    }\n",
              "\n",
              "    .dataframe thead th {\n",
              "        text-align: right;\n",
              "    }\n",
              "</style>\n",
              "<table border=\"1\" class=\"dataframe\">\n",
              "  <thead>\n",
              "    <tr style=\"text-align: right;\">\n",
              "      <th></th>\n",
              "      <th>mpg</th>\n",
              "      <th>cylinders</th>\n",
              "      <th>displacement</th>\n",
              "      <th>horsepower</th>\n",
              "      <th>weight</th>\n",
              "      <th>acceleration</th>\n",
              "      <th>year</th>\n",
              "      <th>origin</th>\n",
              "      <th>name</th>\n",
              "    </tr>\n",
              "  </thead>\n",
              "  <tbody>\n",
              "    <tr>\n",
              "      <th>0</th>\n",
              "      <td>18.0</td>\n",
              "      <td>8</td>\n",
              "      <td>3070</td>\n",
              "      <td>130.0</td>\n",
              "      <td>3504</td>\n",
              "      <td>120</td>\n",
              "      <td>70</td>\n",
              "      <td>1</td>\n",
              "      <td>chevrolet chevelle malibu</td>\n",
              "    </tr>\n",
              "    <tr>\n",
              "      <th>1</th>\n",
              "      <td>15.0</td>\n",
              "      <td>8</td>\n",
              "      <td>3500</td>\n",
              "      <td>165.0</td>\n",
              "      <td>3693</td>\n",
              "      <td>115</td>\n",
              "      <td>70</td>\n",
              "      <td>1</td>\n",
              "      <td>buick skylark 320</td>\n",
              "    </tr>\n",
              "    <tr>\n",
              "      <th>2</th>\n",
              "      <td>18.0</td>\n",
              "      <td>8</td>\n",
              "      <td>3180</td>\n",
              "      <td>150.0</td>\n",
              "      <td>3436</td>\n",
              "      <td>110</td>\n",
              "      <td>70</td>\n",
              "      <td>1</td>\n",
              "      <td>plymouth satellite</td>\n",
              "    </tr>\n",
              "    <tr>\n",
              "      <th>3</th>\n",
              "      <td>16.0</td>\n",
              "      <td>8</td>\n",
              "      <td>3040</td>\n",
              "      <td>150.0</td>\n",
              "      <td>3433</td>\n",
              "      <td>120</td>\n",
              "      <td>70</td>\n",
              "      <td>1</td>\n",
              "      <td>amc rebel sst</td>\n",
              "    </tr>\n",
              "    <tr>\n",
              "      <th>4</th>\n",
              "      <td>17.0</td>\n",
              "      <td>8</td>\n",
              "      <td>3020</td>\n",
              "      <td>140.0</td>\n",
              "      <td>3449</td>\n",
              "      <td>105</td>\n",
              "      <td>70</td>\n",
              "      <td>1</td>\n",
              "      <td>ford torino</td>\n",
              "    </tr>\n",
              "  </tbody>\n",
              "</table>\n",
              "</div>"
            ],
            "text/plain": [
              "    mpg  cylinders  displacement  ...  year  origin                       name\n",
              "0  18.0          8          3070  ...    70       1  chevrolet chevelle malibu\n",
              "1  15.0          8          3500  ...    70       1          buick skylark 320\n",
              "2  18.0          8          3180  ...    70       1         plymouth satellite\n",
              "3  16.0          8          3040  ...    70       1              amc rebel sst\n",
              "4  17.0          8          3020  ...    70       1                ford torino\n",
              "\n",
              "[5 rows x 9 columns]"
            ]
          },
          "metadata": {
            "tags": []
          },
          "execution_count": 5
        }
      ]
    },
    {
      "cell_type": "markdown",
      "metadata": {
        "id": "mnUgpykx3Iud",
        "colab_type": "text"
      },
      "source": [
        "Standardização da feature potência e criação de hps no dataframe"
      ]
    },
    {
      "cell_type": "code",
      "metadata": {
        "id": "F9HtsF0Y3Iud",
        "colab_type": "code",
        "colab": {
          "base_uri": "https://localhost:8080/",
          "height": 204
        },
        "outputId": "48bb19dd-4f62-49a6-e9ba-2ad98301c900"
      },
      "source": [
        "df['hps']=standard(df['horsepower'])\n",
        "df.head()"
      ],
      "execution_count": 21,
      "outputs": [
        {
          "output_type": "execute_result",
          "data": {
            "text/html": [
              "<div>\n",
              "<style scoped>\n",
              "    .dataframe tbody tr th:only-of-type {\n",
              "        vertical-align: middle;\n",
              "    }\n",
              "\n",
              "    .dataframe tbody tr th {\n",
              "        vertical-align: top;\n",
              "    }\n",
              "\n",
              "    .dataframe thead th {\n",
              "        text-align: right;\n",
              "    }\n",
              "</style>\n",
              "<table border=\"1\" class=\"dataframe\">\n",
              "  <thead>\n",
              "    <tr style=\"text-align: right;\">\n",
              "      <th></th>\n",
              "      <th>mpg</th>\n",
              "      <th>cylinders</th>\n",
              "      <th>displacement</th>\n",
              "      <th>horsepower</th>\n",
              "      <th>weight</th>\n",
              "      <th>acceleration</th>\n",
              "      <th>year</th>\n",
              "      <th>origin</th>\n",
              "      <th>name</th>\n",
              "      <th>hps</th>\n",
              "    </tr>\n",
              "  </thead>\n",
              "  <tbody>\n",
              "    <tr>\n",
              "      <th>0</th>\n",
              "      <td>18.0</td>\n",
              "      <td>8</td>\n",
              "      <td>3070</td>\n",
              "      <td>130.0</td>\n",
              "      <td>3504</td>\n",
              "      <td>120</td>\n",
              "      <td>70</td>\n",
              "      <td>1</td>\n",
              "      <td>chevrolet chevelle malibu</td>\n",
              "      <td>0.663285</td>\n",
              "    </tr>\n",
              "    <tr>\n",
              "      <th>1</th>\n",
              "      <td>15.0</td>\n",
              "      <td>8</td>\n",
              "      <td>3500</td>\n",
              "      <td>165.0</td>\n",
              "      <td>3693</td>\n",
              "      <td>115</td>\n",
              "      <td>70</td>\n",
              "      <td>1</td>\n",
              "      <td>buick skylark 320</td>\n",
              "      <td>1.572585</td>\n",
              "    </tr>\n",
              "    <tr>\n",
              "      <th>2</th>\n",
              "      <td>18.0</td>\n",
              "      <td>8</td>\n",
              "      <td>3180</td>\n",
              "      <td>150.0</td>\n",
              "      <td>3436</td>\n",
              "      <td>110</td>\n",
              "      <td>70</td>\n",
              "      <td>1</td>\n",
              "      <td>plymouth satellite</td>\n",
              "      <td>1.182885</td>\n",
              "    </tr>\n",
              "    <tr>\n",
              "      <th>3</th>\n",
              "      <td>16.0</td>\n",
              "      <td>8</td>\n",
              "      <td>3040</td>\n",
              "      <td>150.0</td>\n",
              "      <td>3433</td>\n",
              "      <td>120</td>\n",
              "      <td>70</td>\n",
              "      <td>1</td>\n",
              "      <td>amc rebel sst</td>\n",
              "      <td>1.182885</td>\n",
              "    </tr>\n",
              "    <tr>\n",
              "      <th>4</th>\n",
              "      <td>17.0</td>\n",
              "      <td>8</td>\n",
              "      <td>3020</td>\n",
              "      <td>140.0</td>\n",
              "      <td>3449</td>\n",
              "      <td>105</td>\n",
              "      <td>70</td>\n",
              "      <td>1</td>\n",
              "      <td>ford torino</td>\n",
              "      <td>0.923085</td>\n",
              "    </tr>\n",
              "  </tbody>\n",
              "</table>\n",
              "</div>"
            ],
            "text/plain": [
              "    mpg  cylinders  displacement  ...  origin                       name       hps\n",
              "0  18.0          8          3070  ...       1  chevrolet chevelle malibu  0.663285\n",
              "1  15.0          8          3500  ...       1          buick skylark 320  1.572585\n",
              "2  18.0          8          3180  ...       1         plymouth satellite  1.182885\n",
              "3  16.0          8          3040  ...       1              amc rebel sst  1.182885\n",
              "4  17.0          8          3020  ...       1                ford torino  0.923085\n",
              "\n",
              "[5 rows x 10 columns]"
            ]
          },
          "metadata": {
            "tags": []
          },
          "execution_count": 21
        }
      ]
    },
    {
      "cell_type": "markdown",
      "metadata": {
        "id": "R30KnnIi3Iug",
        "colab_type": "text"
      },
      "source": [
        "Montagem da Matriz X (como usaremos sklearn, não precisamos da coluna de 1´s)"
      ]
    },
    {
      "cell_type": "code",
      "metadata": {
        "id": "49mpM8bw3Iuh",
        "colab_type": "code",
        "colab": {}
      },
      "source": [
        "X=np.zeros((len(df),1))\n",
        "X[:,0]=df['hps']\n",
        "y=df['mpg']"
      ],
      "execution_count": 0,
      "outputs": []
    },
    {
      "cell_type": "markdown",
      "metadata": {
        "id": "hYI1eHUf3Iuk",
        "colab_type": "text"
      },
      "source": [
        "Criação do modelo de regressão linear"
      ]
    },
    {
      "cell_type": "code",
      "metadata": {
        "id": "gs7u9Bnx3Iul",
        "colab_type": "code",
        "colab": {}
      },
      "source": [
        "lr1=LinearRegression()"
      ],
      "execution_count": 0,
      "outputs": []
    },
    {
      "cell_type": "markdown",
      "metadata": {
        "id": "bCxmxsxa3Iuo",
        "colab_type": "text"
      },
      "source": [
        "erro médio quadrático na amostra de treinamento"
      ]
    },
    {
      "cell_type": "code",
      "metadata": {
        "id": "nWlFtQWh3Iup",
        "colab_type": "code",
        "colab": {
          "base_uri": "https://localhost:8080/",
          "height": 34
        },
        "outputId": "d65a76f8-ec9c-496f-a0ac-d39c53a80735"
      },
      "source": [
        "X_train, X_test, y_train, y_test = train_test_split(\n",
        "    X, y, test_size=0.3,random_state=42)\n",
        "lr1.fit(X_train,y_train)\n",
        "ye=lr1.predict(X_train)\n",
        "e_train=mean_squared_error(ye,y_train)\n",
        "print('erro train :',e_train)"
      ],
      "execution_count": 9,
      "outputs": [
        {
          "output_type": "stream",
          "text": [
            "erro train : 23.929910691172378\n"
          ],
          "name": "stdout"
        }
      ]
    },
    {
      "cell_type": "markdown",
      "metadata": {
        "id": "hK1avq9k3Iur",
        "colab_type": "text"
      },
      "source": [
        "erro médio quadrático na amostra de testes"
      ]
    },
    {
      "cell_type": "code",
      "metadata": {
        "id": "8PnBGIwW3Ius",
        "colab_type": "code",
        "colab": {
          "base_uri": "https://localhost:8080/",
          "height": 34
        },
        "outputId": "6852f2ce-87fb-4e7e-8d33-39bac01c0a1c"
      },
      "source": [
        "yet=lr1.predict(X_test)\n",
        "e_test=mean_squared_error(yet,y_test)\n",
        "print('erro test :',e_test)"
      ],
      "execution_count": 10,
      "outputs": [
        {
          "output_type": "stream",
          "text": [
            "erro test : 24.556123551125147\n"
          ],
          "name": "stdout"
        }
      ]
    },
    {
      "cell_type": "markdown",
      "metadata": {
        "id": "6_jMsxy_3Iuu",
        "colab_type": "text"
      },
      "source": [
        "Mostre a variação do erro (%) de treino para testes"
      ]
    },
    {
      "cell_type": "code",
      "metadata": {
        "id": "8VUu2C1Q3Iuu",
        "colab_type": "code",
        "colab": {
          "base_uri": "https://localhost:8080/",
          "height": 34
        },
        "outputId": "94c142bc-ecd5-4800-ee73-5cf9b4a5e385"
      },
      "source": [
        "100*(e_test-e_train)/e_train"
      ],
      "execution_count": 11,
      "outputs": [
        {
          "output_type": "execute_result",
          "data": {
            "text/plain": [
              "2.6168625033096173"
            ]
          },
          "metadata": {
            "tags": []
          },
          "execution_count": 11
        }
      ]
    },
    {
      "cell_type": "markdown",
      "metadata": {
        "id": "QawmDrx93Iux",
        "colab_type": "text"
      },
      "source": [
        "Faça agora com Regressão com potência + de quadrado à décima potência da potência, comece criando a matriz X"
      ]
    },
    {
      "cell_type": "code",
      "metadata": {
        "id": "j8jRa2yF3Iuy",
        "colab_type": "code",
        "colab": {
          "base_uri": "https://localhost:8080/",
          "height": 119
        },
        "outputId": "ce456185-584f-41a7-b55d-a16d6f6ce7d7"
      },
      "source": [
        "XP=np.zeros((len(df),10))\n",
        "for i in range(10):\n",
        "    XP[:,i]=df['hps']**(i+1)\n",
        "y=df['mpg']\n",
        "XP[:2]"
      ],
      "execution_count": 23,
      "outputs": [
        {
          "output_type": "execute_result",
          "data": {
            "text/plain": [
              "array([[6.63285084e-01, 4.39947103e-01, 2.91810351e-01, 1.93553453e-01,\n",
              "        1.28381118e-01, 8.51532808e-02, 5.64809010e-02, 3.74629392e-02,\n",
              "        2.48486087e-02, 1.64817115e-02],\n",
              "       [1.57258478e+00, 2.47302289e+00, 3.88903815e+00, 6.11584220e+00,\n",
              "        9.61768036e+00, 1.51246177e+01, 2.37847437e+01, 3.74035259e+01,\n",
              "        5.88202155e+01, 9.24997755e+01]])"
            ]
          },
          "metadata": {
            "tags": []
          },
          "execution_count": 23
        }
      ]
    },
    {
      "cell_type": "code",
      "metadata": {
        "id": "sXvDgvna3Iu1",
        "colab_type": "code",
        "colab": {}
      },
      "source": [
        ""
      ],
      "execution_count": 0,
      "outputs": []
    },
    {
      "cell_type": "markdown",
      "metadata": {
        "id": "gpMpnYWF3Iu4",
        "colab_type": "text"
      },
      "source": [
        "Mostre os erros no dataset de Treinamento e de testes"
      ]
    },
    {
      "cell_type": "code",
      "metadata": {
        "id": "Le6Q0vXm3Iu4",
        "colab_type": "code",
        "colab": {}
      },
      "source": [
        "lr2=LinearRegression()"
      ],
      "execution_count": 0,
      "outputs": []
    },
    {
      "cell_type": "code",
      "metadata": {
        "id": "fXJdc60g3Iu7",
        "colab_type": "code",
        "colab": {
          "base_uri": "https://localhost:8080/",
          "height": 34
        },
        "outputId": "f8233b88-7416-48ec-b6bb-353166a72b4d"
      },
      "source": [
        "X_train, X_test, y_train, y_test = train_test_split(\n",
        "    XP, y, test_size=0.3,random_state=42)\n",
        "lr2.fit(X_train,y_train)\n",
        "ye=lr2.predict(X_train)\n",
        "e_train=mean_squared_error(ye,y_train)\n",
        "print('erro train :',e_train)"
      ],
      "execution_count": 15,
      "outputs": [
        {
          "output_type": "stream",
          "text": [
            "erro train : 16.844105211147603\n"
          ],
          "name": "stdout"
        }
      ]
    },
    {
      "cell_type": "code",
      "metadata": {
        "id": "Gaa7RDHA3Iu9",
        "colab_type": "code",
        "colab": {
          "base_uri": "https://localhost:8080/",
          "height": 34
        },
        "outputId": "c829feed-050a-469c-86c2-077470eb4c40"
      },
      "source": [
        "yet=lr2.predict(X_test)\n",
        "e_test=mean_squared_error(yet,y_test)\n",
        "print('erro test :',e_test)"
      ],
      "execution_count": 17,
      "outputs": [
        {
          "output_type": "stream",
          "text": [
            "erro test : 30.205270240620678\n"
          ],
          "name": "stdout"
        }
      ]
    },
    {
      "cell_type": "markdown",
      "metadata": {
        "id": "Y-zGojXo3Iu_",
        "colab_type": "text"
      },
      "source": [
        "Mostre a variação do erro (%) de treino para testes"
      ]
    },
    {
      "cell_type": "code",
      "metadata": {
        "id": "2GKKIms93Iu_",
        "colab_type": "code",
        "colab": {
          "base_uri": "https://localhost:8080/",
          "height": 34
        },
        "outputId": "d02e9790-c7af-43c0-dd24-0cfe975aabe7"
      },
      "source": [
        "100*(e_test-e_train)/e_train"
      ],
      "execution_count": 18,
      "outputs": [
        {
          "output_type": "execute_result",
          "data": {
            "text/plain": [
              "79.32249806080834"
            ]
          },
          "metadata": {
            "tags": []
          },
          "execution_count": 18
        }
      ]
    },
    {
      "cell_type": "markdown",
      "metadata": {
        "id": "twf9Sxku3IvD",
        "colab_type": "text"
      },
      "source": [
        "Faça o Gráfico Pot X Consumo para os dois modelos para a a mostra toda, além da própria amostra"
      ]
    },
    {
      "cell_type": "code",
      "metadata": {
        "id": "ohs4Gx603IvE",
        "colab_type": "code",
        "colab": {}
      },
      "source": [
        "yp1=lr1.predict(X)\n",
        "yp2=lr2.predict(XP)"
      ],
      "execution_count": 0,
      "outputs": []
    },
    {
      "cell_type": "code",
      "metadata": {
        "id": "HWUIKDIy3IvI",
        "colab_type": "code",
        "colab": {
          "base_uri": "https://localhost:8080/",
          "height": 265
        },
        "outputId": "077661f7-c93b-4ea3-e9f0-1ed912110866"
      },
      "source": [
        "import matplotlib.pyplot as plt\n",
        "plt.plot(df['horsepower'],df['mpg'],'yo')\n",
        "plt.plot(df['horsepower'],yp1,'bo')\n",
        "plt.plot(df['horsepower'],yp2,'ro')\n",
        "plt.show()"
      ],
      "execution_count": 20,
      "outputs": [
        {
          "output_type": "display_data",
          "data": {
            "image/png": "[encoded data removed]",
            "text/plain": [
              "<Figure size 432x288 with 1 Axes>"
            ]
          },
          "metadata": {
            "tags": []
          }
        }
      ]
    }
  ]
}