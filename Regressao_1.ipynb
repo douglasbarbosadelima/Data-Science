{
  "nbformat": 4,
  "nbformat_minor": 0,
  "metadata": {
    "kernelspec": {
      "display_name": "Python 3",
      "language": "python",
      "name": "python3"
    },
    "language_info": {
      "codemirror_mode": {
        "name": "ipython",
        "version": 3
      },
      "file_extension": ".py",
      "mimetype": "text/x-python",
      "name": "python",
      "nbconvert_exporter": "python",
      "pygments_lexer": "ipython3",
      "version": "3.6.5"
    },
    "colab": {
      "name": "Regressao_1.ipynb",
      "provenance": [],
      "collapsed_sections": [],
      "include_colab_link": true
    }
  },
  "cells": [
    {
      "cell_type": "markdown",
      "metadata": {
        "id": "view-in-github",
        "colab_type": "text"
      },
      "source": [
        "<a href=\"https://colab.research.google.com/github/douglasbarbosadelima/Data-Science/blob/master/Regressao_1.ipynb\" target=\"_parent\"><img src=\"https://colab.research.google.com/assets/colab-badge.svg\" alt=\"Open In Colab\"/></a>"
      ]
    },
    {
      "cell_type": "markdown",
      "metadata": {
        "id": "GeF-ltIot-_Q",
        "colab_type": "text"
      },
      "source": [
        "# Regressao_1\n"
      ]
    },
    {
      "cell_type": "code",
      "metadata": {
        "id": "6XyquIlat-_S",
        "colab_type": "code",
        "colab": {}
      },
      "source": [
        "import numpy as np\n",
        "import pandas as pd\n",
        "import matplotlib.pyplot as plt"
      ],
      "execution_count": 0,
      "outputs": []
    },
    {
      "cell_type": "code",
      "metadata": {
        "id": "Ah0zgpEmt-_V",
        "colab_type": "code",
        "colab": {
          "base_uri": "https://localhost:8080/",
          "height": 204
        },
        "outputId": "b14b19e0-9598-4264-9cfc-53d613b0382a"
      },
      "source": [
        "df=pd.read_csv('https://raw.githubusercontent.com/douglasbarbosadelima/Data-Science/master/cars-uci-linked.csv')\n",
        "df=df.dropna()\n",
        "df.head()"
      ],
      "execution_count": 41,
      "outputs": [
        {
          "output_type": "execute_result",
          "data": {
            "text/html": [
              "<div>\n",
              "<style scoped>\n",
              "    .dataframe tbody tr th:only-of-type {\n",
              "        vertical-align: middle;\n",
              "    }\n",
              "\n",
              "    .dataframe tbody tr th {\n",
              "        vertical-align: top;\n",
              "    }\n",
              "\n",
              "    .dataframe thead th {\n",
              "        text-align: right;\n",
              "    }\n",
              "</style>\n",
              "<table border=\"1\" class=\"dataframe\">\n",
              "  <thead>\n",
              "    <tr style=\"text-align: right;\">\n",
              "      <th></th>\n",
              "      <th>mpg</th>\n",
              "      <th>cylinders</th>\n",
              "      <th>displacement</th>\n",
              "      <th>horsepower</th>\n",
              "      <th>weight</th>\n",
              "      <th>acceleration</th>\n",
              "      <th>year</th>\n",
              "      <th>origin</th>\n",
              "      <th>name</th>\n",
              "    </tr>\n",
              "  </thead>\n",
              "  <tbody>\n",
              "    <tr>\n",
              "      <th>0</th>\n",
              "      <td>18.0</td>\n",
              "      <td>8</td>\n",
              "      <td>3070</td>\n",
              "      <td>130.0</td>\n",
              "      <td>3504</td>\n",
              "      <td>120</td>\n",
              "      <td>70</td>\n",
              "      <td>1</td>\n",
              "      <td>chevrolet chevelle malibu</td>\n",
              "    </tr>\n",
              "    <tr>\n",
              "      <th>1</th>\n",
              "      <td>15.0</td>\n",
              "      <td>8</td>\n",
              "      <td>3500</td>\n",
              "      <td>165.0</td>\n",
              "      <td>3693</td>\n",
              "      <td>115</td>\n",
              "      <td>70</td>\n",
              "      <td>1</td>\n",
              "      <td>buick skylark 320</td>\n",
              "    </tr>\n",
              "    <tr>\n",
              "      <th>2</th>\n",
              "      <td>18.0</td>\n",
              "      <td>8</td>\n",
              "      <td>3180</td>\n",
              "      <td>150.0</td>\n",
              "      <td>3436</td>\n",
              "      <td>110</td>\n",
              "      <td>70</td>\n",
              "      <td>1</td>\n",
              "      <td>plymouth satellite</td>\n",
              "    </tr>\n",
              "    <tr>\n",
              "      <th>3</th>\n",
              "      <td>16.0</td>\n",
              "      <td>8</td>\n",
              "      <td>3040</td>\n",
              "      <td>150.0</td>\n",
              "      <td>3433</td>\n",
              "      <td>120</td>\n",
              "      <td>70</td>\n",
              "      <td>1</td>\n",
              "      <td>amc rebel sst</td>\n",
              "    </tr>\n",
              "    <tr>\n",
              "      <th>4</th>\n",
              "      <td>17.0</td>\n",
              "      <td>8</td>\n",
              "      <td>3020</td>\n",
              "      <td>140.0</td>\n",
              "      <td>3449</td>\n",
              "      <td>105</td>\n",
              "      <td>70</td>\n",
              "      <td>1</td>\n",
              "      <td>ford torino</td>\n",
              "    </tr>\n",
              "  </tbody>\n",
              "</table>\n",
              "</div>"
            ],
            "text/plain": [
              "    mpg  cylinders  displacement  ...  year  origin                       name\n",
              "0  18.0          8          3070  ...    70       1  chevrolet chevelle malibu\n",
              "1  15.0          8          3500  ...    70       1          buick skylark 320\n",
              "2  18.0          8          3180  ...    70       1         plymouth satellite\n",
              "3  16.0          8          3040  ...    70       1              amc rebel sst\n",
              "4  17.0          8          3020  ...    70       1                ford torino\n",
              "\n",
              "[5 rows x 9 columns]"
            ]
          },
          "metadata": {
            "tags": []
          },
          "execution_count": 41
        }
      ]
    },
    {
      "cell_type": "markdown",
      "metadata": {
        "id": "EGcLGyBPt-_Y",
        "colab_type": "text"
      },
      "source": [
        "Vamos fazer a regressão só com a feature potência (horsepower)"
      ]
    },
    {
      "cell_type": "markdown",
      "metadata": {
        "id": "z7uwrb4it-_Z",
        "colab_type": "text"
      },
      "source": [
        "Inicialmente, vamos standardizar horsepower (conserve media e desvio padrão, serão necessários no final)"
      ]
    },
    {
      "cell_type": "code",
      "metadata": {
        "id": "Heqlv1iyt-_Z",
        "colab_type": "code",
        "colab": {
          "base_uri": "https://localhost:8080/",
          "height": 221
        },
        "outputId": "ae80041e-e63d-43a2-e3d2-ed472bf4162f"
      },
      "source": [
        "def standard(f):\n",
        "  me = f.mean()\n",
        "  dp=f.std()\n",
        "  return me, dp, (f - me) / dp\n",
        "\n",
        "med, dp, df['hps'] = fs = standard(df['horsepower'])\n",
        "med, dp, df['hps']"
      ],
      "execution_count": 42,
      "outputs": [
        {
          "output_type": "execute_result",
          "data": {
            "text/plain": [
              "(104.46938775510205, 38.49115993282855, 0      0.663285\n",
              " 1      1.572585\n",
              " 2      1.182885\n",
              " 3      1.182885\n",
              " 4      0.923085\n",
              "          ...   \n",
              " 401   -0.479835\n",
              " 402   -1.363154\n",
              " 403   -0.531795\n",
              " 404   -0.661694\n",
              " 405   -0.583754\n",
              " Name: hps, Length: 392, dtype: float64)"
            ]
          },
          "metadata": {
            "tags": []
          },
          "execution_count": 42
        }
      ]
    },
    {
      "cell_type": "markdown",
      "metadata": {
        "id": "T7HtygC6t-_e",
        "colab_type": "text"
      },
      "source": [
        "Vamos agora montar a matriz X e o vetor y(target)"
      ]
    },
    {
      "cell_type": "code",
      "metadata": {
        "id": "JPFvAcRHt-_e",
        "colab_type": "code",
        "colab": {
          "base_uri": "https://localhost:8080/",
          "height": 1000
        },
        "outputId": "0ef8fe7f-d7db-486a-d042-375835c33a9a"
      },
      "source": [
        "X = np.ones((len(df), 2))\n",
        "X[:,1] = df['hps']\n",
        "y = df['mpg'].copy()\n",
        "X, y"
      ],
      "execution_count": 43,
      "outputs": [
        {
          "output_type": "execute_result",
          "data": {
            "text/plain": [
              "(array([[ 1.        ,  0.66328508],\n",
              "        [ 1.        ,  1.57258478],\n",
              "        [ 1.        ,  1.18288491],\n",
              "        [ 1.        ,  1.18288491],\n",
              "        [ 1.        ,  0.923085  ],\n",
              "        [ 1.        ,  2.42992449],\n",
              "        [ 1.        ,  3.0014843 ],\n",
              "        [ 1.        ,  2.87158434],\n",
              "        [ 1.        ,  3.13138426],\n",
              "        [ 1.        ,  2.22208456],\n",
              "        [ 1.        ,  1.70248474],\n",
              "        [ 1.        ,  1.44268482],\n",
              "        [ 1.        ,  1.18288491],\n",
              "        [ 1.        ,  3.13138426],\n",
              "        [ 1.        , -0.24601461],\n",
              "        [ 1.        , -0.24601461],\n",
              "        [ 1.        , -0.19405463],\n",
              "        [ 1.        , -0.50581452],\n",
              "        [ 1.        , -0.42787455],\n",
              "        [ 1.        , -1.51903418],\n",
              "        [ 1.        , -0.45385454],\n",
              "        [ 1.        , -0.37591457],\n",
              "        [ 1.        , -0.24601461],\n",
              "        [ 1.        ,  0.22162523],\n",
              "        [ 1.        , -0.37591457],\n",
              "        [ 1.        ,  2.87158434],\n",
              "        [ 1.        ,  2.48188447],\n",
              "        [ 1.        ,  2.74168439],\n",
              "        [ 1.        ,  2.30002454],\n",
              "        [ 1.        , -0.42787455],\n",
              "        [ 1.        , -0.37591457],\n",
              "        [ 1.        , -0.24601461],\n",
              "        [ 1.        , -0.11611465],\n",
              "        [ 1.        ,  0.0137853 ],\n",
              "        [ 1.        , -0.11611465],\n",
              "        [ 1.        , -0.42787455],\n",
              "        [ 1.        , -0.11611465],\n",
              "        [ 1.        ,  1.57258478],\n",
              "        [ 1.        ,  1.83238469],\n",
              "        [ 1.        ,  1.26082488],\n",
              "        [ 1.        ,  1.18288491],\n",
              "        [ 1.        ,  1.96228465],\n",
              "        [ 1.        ,  1.70248474],\n",
              "        [ 1.        ,  1.83238469],\n",
              "        [ 1.        ,  0.14368526],\n",
              "        [ 1.        , -0.84355441],\n",
              "        [ 1.        , -0.11611465],\n",
              "        [ 1.        , -0.42787455],\n",
              "        [ 1.        , -0.47983453],\n",
              "        [ 1.        , -0.37591457],\n",
              "        [ 1.        , -0.89551439],\n",
              "        [ 1.        , -0.73963445],\n",
              "        [ 1.        , -1.02541435],\n",
              "        [ 1.        , -0.92149439],\n",
              "        [ 1.        , -1.15531431],\n",
              "        [ 1.        , -0.89551439],\n",
              "        [ 1.        , -0.24601461],\n",
              "        [ 1.        , -0.63571448],\n",
              "        [ 1.        , -1.31119425],\n",
              "        [ 1.        , -0.37591457],\n",
              "        [ 1.        , -0.47983453],\n",
              "        [ 1.        ,  1.57258478],\n",
              "        [ 1.        ,  1.83238469],\n",
              "        [ 1.        ,  1.18288491],\n",
              "        [ 1.        ,  1.26082488],\n",
              "        [ 1.        ,  1.18288491],\n",
              "        [ 1.        ,  2.6897244 ],\n",
              "        [ 1.        ,  1.31278487],\n",
              "        [ 1.        ,  1.44268482],\n",
              "        [ 1.        ,  2.22208456],\n",
              "        [ 1.        , -0.19405463],\n",
              "        [ 1.        ,  1.18288491],\n",
              "        [ 1.        ,  0.66328508],\n",
              "        [ 1.        ,  0.923085  ],\n",
              "        [ 1.        ,  1.18288491],\n",
              "        [ 1.        ,  0.19564524],\n",
              "        [ 1.        , -0.73963445],\n",
              "        [ 1.        , -0.45385454],\n",
              "        [ 1.        , -0.92149439],\n",
              "        [ 1.        , -0.47983453],\n",
              "        [ 1.        , -0.32395459],\n",
              "        [ 1.        , -0.19405463],\n",
              "        [ 1.        , -0.63571448],\n",
              "        [ 1.        , -0.42787455],\n",
              "        [ 1.        ,  1.83238469],\n",
              "        [ 1.        ,  1.18288491],\n",
              "        [ 1.        ,  1.05298495],\n",
              "        [ 1.        ,  0.84514502],\n",
              "        [ 1.        ,  1.18288491],\n",
              "        [ 1.        ,  2.42992449],\n",
              "        [ 1.        ,  1.18288491],\n",
              "        [ 1.        ,  1.39072484],\n",
              "        [ 1.        ,  1.18288491],\n",
              "        [ 1.        ,  2.87158434],\n",
              "        [ 1.        ,  3.13138426],\n",
              "        [ 1.        ,  1.83238469],\n",
              "        [ 1.        ,  0.0137853 ],\n",
              "        [ 1.        , -0.11611465],\n",
              "        [ 1.        , -0.11611465],\n",
              "        [ 1.        , -0.42787455],\n",
              "        [ 1.        , -0.24601461],\n",
              "        [ 1.        , -1.51903418],\n",
              "        [ 1.        ,  1.18288491],\n",
              "        [ 1.        ,  1.62454476],\n",
              "        [ 1.        ,  1.70248474],\n",
              "        [ 1.        ,  1.96228465],\n",
              "        [ 1.        , -0.11611465],\n",
              "        [ 1.        , -0.42787455],\n",
              "        [ 1.        , -0.84355441],\n",
              "        [ 1.        , -0.2719946 ],\n",
              "        [ 1.        , -0.37591457],\n",
              "        [ 1.        , -0.50581452],\n",
              "        [ 1.        ,  0.06574528],\n",
              "        [ 1.        , -0.37591457],\n",
              "        [ 1.        ,  1.05298495],\n",
              "        [ 1.        ,  3.26128421],\n",
              "        [ 1.        , -1.44109421],\n",
              "        [ 1.        , -0.76561444],\n",
              "        [ 1.        , -0.34993458],\n",
              "        [ 1.        ,  0.19564524],\n",
              "        [ 1.        ,  1.18288491],\n",
              "        [ 1.        ,  0.14368526],\n",
              "        [ 1.        ,  0.45544515],\n",
              "        [ 1.        ,  1.96228465],\n",
              "        [ 1.        , -0.24601461],\n",
              "        [ 1.        , -0.11611465],\n",
              "        [ 1.        , -0.11611465],\n",
              "        [ 1.        , -0.97345437],\n",
              "        [ 1.        , -0.63571448],\n",
              "        [ 1.        , -1.02541435],\n",
              "        [ 1.        , -0.76561444],\n",
              "        [ 1.        , -0.11611465],\n",
              "        [ 1.        ,  0.14368526],\n",
              "        [ 1.        ,  0.0137853 ],\n",
              "        [ 1.        ,  0.923085  ],\n",
              "        [ 1.        ,  1.18288491],\n",
              "        [ 1.        ,  1.18288491],\n",
              "        [ 1.        ,  0.923085  ],\n",
              "        [ 1.        ,  1.18288491],\n",
              "        [ 1.        , -0.55777451],\n",
              "        [ 1.        , -0.97345437],\n",
              "        [ 1.        , -0.68767446],\n",
              "        [ 1.        , -1.36315424],\n",
              "        [ 1.        , -1.12933432],\n",
              "        [ 1.        , -0.76561444],\n",
              "        [ 1.        , -0.76561444],\n",
              "        [ 1.        , -0.76561444],\n",
              "        [ 1.        , -0.19405463],\n",
              "        [ 1.        , -0.29797459],\n",
              "        [ 1.        , -0.97345437],\n",
              "        [ 1.        , -0.24601461],\n",
              "        [ 1.        ,  0.0137853 ],\n",
              "        [ 1.        , -0.84355441],\n",
              "        [ 1.        , -0.84355441],\n",
              "        [ 1.        ,  1.70248474],\n",
              "        [ 1.        ,  1.05298495],\n",
              "        [ 1.        ,  1.18288491],\n",
              "        [ 1.        ,  1.13092493],\n",
              "        [ 1.        ,  0.14368526],\n",
              "        [ 1.        ,  0.0137853 ],\n",
              "        [ 1.        ,  0.14368526],\n",
              "        [ 1.        , -0.24601461],\n",
              "        [ 1.        ,  0.14368526],\n",
              "        [ 1.        ,  0.14368526],\n",
              "        [ 1.        ,  0.63730509],\n",
              "        [ 1.        , -0.76561444],\n",
              "        [ 1.        , -0.55777451],\n",
              "        [ 1.        , -0.11611465],\n",
              "        [ 1.        , -0.68767446],\n",
              "        [ 1.        , -0.22003462],\n",
              "        [ 1.        , -0.8695344 ],\n",
              "        [ 1.        , -0.19405463],\n",
              "        [ 1.        , -0.19405463],\n",
              "        [ 1.        , -0.89551439],\n",
              "        [ 1.        , -0.37591457],\n",
              "        [ 1.        , -0.24601461],\n",
              "        [ 1.        , -0.42787455],\n",
              "        [ 1.        , -0.16807464],\n",
              "        [ 1.        ,  0.27358521],\n",
              "        [ 1.        , -1.33717425],\n",
              "        [ 1.        , -0.47983453],\n",
              "        [ 1.        , -0.60973449],\n",
              "        [ 1.        , -0.32395459],\n",
              "        [ 1.        , -0.66169447],\n",
              "        [ 1.        , -0.55777451],\n",
              "        [ 1.        ,  0.923085  ],\n",
              "        [ 1.        ,  1.18288491],\n",
              "        [ 1.        ,  0.40348517],\n",
              "        [ 1.        ,  1.23484489],\n",
              "        [ 1.        , -0.11611465],\n",
              "        [ 1.        ,  0.0137853 ],\n",
              "        [ 1.        , -0.60973449],\n",
              "        [ 1.        , -0.37591457],\n",
              "        [ 1.        , -1.36315424],\n",
              "        [ 1.        , -1.15531431],\n",
              "        [ 1.        , -0.89551439],\n",
              "        [ 1.        , -1.33717425],\n",
              "        [ 1.        , -0.11611465],\n",
              "        [ 1.        , -0.68767446],\n",
              "        [ 1.        ,  0.14368526],\n",
              "        [ 1.        , -0.24601461],\n",
              "        [ 1.        , -0.8695344 ],\n",
              "        [ 1.        , -0.89551439],\n",
              "        [ 1.        , -0.76561444],\n",
              "        [ 1.        , -0.84355441],\n",
              "        [ 1.        , -0.06415467],\n",
              "        [ 1.        ,  1.18288491],\n",
              "        [ 1.        , -0.42787455],\n",
              "        [ 1.        ,  0.09172528],\n",
              "        [ 1.        ,  0.40348517],\n",
              "        [ 1.        ,  1.96228465],\n",
              "        [ 1.        ,  1.05298495],\n",
              "        [ 1.        ,  0.66328508],\n",
              "        [ 1.        ,  1.18288491],\n",
              "        [ 1.        , -0.94747438],\n",
              "        [ 1.        , -0.63571448],\n",
              "        [ 1.        , -1.20727429],\n",
              "        [ 1.        , -0.22003462],\n",
              "        [ 1.        , -0.89551439],\n",
              "        [ 1.        ,  1.05298495],\n",
              "        [ 1.        ,  0.14368526],\n",
              "        [ 1.        ,  1.05298495],\n",
              "        [ 1.        ,  0.66328508],\n",
              "        [ 1.        ,  0.14368526],\n",
              "        [ 1.        ,  0.0137853 ],\n",
              "        [ 1.        , -0.11611465],\n",
              "        [ 1.        , -0.16807464],\n",
              "        [ 1.        ,  1.96228465],\n",
              "        [ 1.        ,  1.70248474],\n",
              "        [ 1.        ,  2.22208456],\n",
              "        [ 1.        ,  1.15690492],\n",
              "        [ 1.        , -0.68767446],\n",
              "        [ 1.        , -0.42787455],\n",
              "        [ 1.        , -0.76561444],\n",
              "        [ 1.        , -0.40189456],\n",
              "        [ 1.        , -1.07737433],\n",
              "        [ 1.        , -0.55777451],\n",
              "        [ 1.        , -0.97345437],\n",
              "        [ 1.        , -0.68767446],\n",
              "        [ 1.        , -0.19405463],\n",
              "        [ 1.        ,  0.14368526],\n",
              "        [ 1.        ,  0.14368526],\n",
              "        [ 1.        , -1.4670742 ],\n",
              "        [ 1.        , -0.99943436],\n",
              "        [ 1.        , -1.36315424],\n",
              "        [ 1.        , -0.89551439],\n",
              "        [ 1.        , -1.15531431],\n",
              "        [ 1.        ,  0.14368526],\n",
              "        [ 1.        ,  0.923085  ],\n",
              "        [ 1.        ,  0.89710501],\n",
              "        [ 1.        ,  0.0137853 ],\n",
              "        [ 1.        , -0.24601461],\n",
              "        [ 1.        , -0.50581452],\n",
              "        [ 1.        , -0.42787455],\n",
              "        [ 1.        , -0.11611465],\n",
              "        [ 1.        , -0.37591457],\n",
              "        [ 1.        ,  0.0137853 ],\n",
              "        [ 1.        , -0.50581452],\n",
              "        [ 1.        ,  0.14368526],\n",
              "        [ 1.        ,  0.40348517],\n",
              "        [ 1.        ,  1.05298495],\n",
              "        [ 1.        ,  1.57258478],\n",
              "        [ 1.        ,  0.89710501],\n",
              "        [ 1.        ,  0.923085  ],\n",
              "        [ 1.        , -0.94747438],\n",
              "        [ 1.        , -0.24601461],\n",
              "        [ 1.        , -0.19405463],\n",
              "        [ 1.        , -0.76561444],\n",
              "        [ 1.        , -0.24601461],\n",
              "        [ 1.        ,  0.0137853 ],\n",
              "        [ 1.        , -0.50581452],\n",
              "        [ 1.        , -0.19405463],\n",
              "        [ 1.        , -0.03817468],\n",
              "        [ 1.        ,  0.53338513],\n",
              "        [ 1.        ,  0.27358521],\n",
              "        [ 1.        ,  0.74122506],\n",
              "        [ 1.        , -0.8695344 ],\n",
              "        [ 1.        , -0.94747438],\n",
              "        [ 1.        ,  0.27358521],\n",
              "        [ 1.        , -0.50581452],\n",
              "        [ 1.        , -0.42787455],\n",
              "        [ 1.        , -0.37591457],\n",
              "        [ 1.        ,  0.14368526],\n",
              "        [ 1.        ,  0.66328508],\n",
              "        [ 1.        ,  0.63730509],\n",
              "        [ 1.        ,  0.87112501],\n",
              "        [ 1.        ,  0.79318504],\n",
              "        [ 1.        ,  1.31278487],\n",
              "        [ 1.        ,  0.97504498],\n",
              "        [ 1.        ,  0.53338513],\n",
              "        [ 1.        ,  1.18288491],\n",
              "        [ 1.        , -0.8695344 ],\n",
              "        [ 1.        , -1.02541435],\n",
              "        [ 1.        , -0.63571448],\n",
              "        [ 1.        , -0.63571448],\n",
              "        [ 1.        , -0.71365445],\n",
              "        [ 1.        ,  0.53338513],\n",
              "        [ 1.        , -0.8695344 ],\n",
              "        [ 1.        , -0.37591457],\n",
              "        [ 1.        , -0.89551439],\n",
              "        [ 1.        , -0.89551439],\n",
              "        [ 1.        , -1.02541435],\n",
              "        [ 1.        , -0.92149439],\n",
              "        [ 1.        , -0.37591457],\n",
              "        [ 1.        ,  0.27358521],\n",
              "        [ 1.        ,  0.27358521],\n",
              "        [ 1.        , -0.37591457],\n",
              "        [ 1.        , -0.73963445],\n",
              "        [ 1.        , -1.15531431],\n",
              "        [ 1.        , -0.89551439],\n",
              "        [ 1.        , -1.02541435],\n",
              "        [ 1.        , -0.37591457],\n",
              "        [ 1.        , -0.42787455],\n",
              "        [ 1.        , -0.37591457],\n",
              "        [ 1.        , -0.37591457],\n",
              "        [ 1.        , -0.68767446],\n",
              "        [ 1.        , -0.37591457],\n",
              "        [ 1.        , -0.76561444],\n",
              "        [ 1.        , -0.32395459],\n",
              "        [ 1.        , -0.76561444],\n",
              "        [ 1.        , -1.02541435],\n",
              "        [ 1.        ,  0.0137853 ],\n",
              "        [ 1.        , -1.02541435],\n",
              "        [ 1.        , -1.4670742 ],\n",
              "        [ 1.        , -1.4670742 ],\n",
              "        [ 1.        , -0.97345437],\n",
              "        [ 1.        , -0.97345437],\n",
              "        [ 1.        , -0.97345437],\n",
              "        [ 1.        , -0.97345437],\n",
              "        [ 1.        , -1.10335432],\n",
              "        [ 1.        ,  0.71524507],\n",
              "        [ 1.        , -0.11611465],\n",
              "        [ 1.        , -0.42787455],\n",
              "        [ 1.        , -0.84355441],\n",
              "        [ 1.        , -0.53179452],\n",
              "        [ 1.        , -0.53179452],\n",
              "        [ 1.        , -0.32395459],\n",
              "        [ 1.        ,  0.14368526],\n",
              "        [ 1.        , -0.53179452],\n",
              "        [ 1.        , -1.20727429],\n",
              "        [ 1.        , -1.05139434],\n",
              "        [ 1.        , -1.15531431],\n",
              "        [ 1.        , -0.97345437],\n",
              "        [ 1.        , -1.02541435],\n",
              "        [ 1.        , -1.10335432],\n",
              "        [ 1.        , -0.94747438],\n",
              "        [ 1.        , -1.07737433],\n",
              "        [ 1.        , -1.02541435],\n",
              "        [ 1.        , -1.02541435],\n",
              "        [ 1.        , -0.79159443],\n",
              "        [ 1.        , -0.76561444],\n",
              "        [ 1.        , -0.76561444],\n",
              "        [ 1.        , -0.11611465],\n",
              "        [ 1.        , -0.79159443],\n",
              "        [ 1.        , -0.63571448],\n",
              "        [ 1.        , -0.73963445],\n",
              "        [ 1.        ,  0.29956521],\n",
              "        [ 1.        ,  0.40348517],\n",
              "        [ 1.        ,  0.14368526],\n",
              "        [ 1.        ,  0.0137853 ],\n",
              "        [ 1.        , -0.42787455],\n",
              "        [ 1.        , -0.50581452],\n",
              "        [ 1.        , -0.42787455],\n",
              "        [ 1.        , -0.42787455],\n",
              "        [ 1.        , -0.42787455],\n",
              "        [ 1.        , -0.50581452],\n",
              "        [ 1.        , -0.53179452],\n",
              "        [ 1.        , -0.37591457],\n",
              "        [ 1.        , -0.32395459],\n",
              "        [ 1.        , -0.79159443],\n",
              "        [ 1.        , -0.94747438],\n",
              "        [ 1.        , -0.94747438],\n",
              "        [ 1.        , -1.07737433],\n",
              "        [ 1.        , -0.89551439],\n",
              "        [ 1.        , -0.42787455],\n",
              "        [ 1.        , -0.76561444],\n",
              "        [ 1.        , -0.89551439],\n",
              "        [ 1.        , -0.97345437],\n",
              "        [ 1.        , -0.97345437],\n",
              "        [ 1.        , -0.97345437],\n",
              "        [ 1.        ,  0.14368526],\n",
              "        [ 1.        , -0.50581452],\n",
              "        [ 1.        , -0.32395459],\n",
              "        [ 1.        ,  0.19564524],\n",
              "        [ 1.        , -0.22003462],\n",
              "        [ 1.        , -0.53179452],\n",
              "        [ 1.        , -0.37591457],\n",
              "        [ 1.        , -0.47983453],\n",
              "        [ 1.        , -1.36315424],\n",
              "        [ 1.        , -0.53179452],\n",
              "        [ 1.        , -0.66169447],\n",
              "        [ 1.        , -0.5837545 ]]), 0      18.0\n",
              " 1      15.0\n",
              " 2      18.0\n",
              " 3      16.0\n",
              " 4      17.0\n",
              "        ... \n",
              " 401    27.0\n",
              " 402    44.0\n",
              " 403    32.0\n",
              " 404    28.0\n",
              " 405    31.0\n",
              " Name: mpg, Length: 392, dtype: float64)"
            ]
          },
          "metadata": {
            "tags": []
          },
          "execution_count": 43
        }
      ]
    },
    {
      "cell_type": "markdown",
      "metadata": {
        "id": "UtUpLA55t-_g",
        "colab_type": "text"
      },
      "source": [
        "Para usarmos Gradient Descent, vamos obter a função gradiente do erro médio quadrático gradEMQ(X,theta,y)"
      ]
    },
    {
      "cell_type": "code",
      "metadata": {
        "id": "iywyoCwXt-_h",
        "colab_type": "code",
        "colab": {}
      },
      "source": [
        "def gradEMQ(x, theta, y):\n",
        "  return (1 / len(y)) * np.dot(X.T, np.dot(X, theta) - y)"
      ],
      "execution_count": 0,
      "outputs": []
    },
    {
      "cell_type": "markdown",
      "metadata": {
        "id": "_1uciSqot-_j",
        "colab_type": "text"
      },
      "source": [
        "Vamos criar a função erro médio quadrático também emq(ye,y)"
      ]
    },
    {
      "cell_type": "code",
      "metadata": {
        "id": "-tjUo4Wlt-_j",
        "colab_type": "code",
        "colab": {}
      },
      "source": [
        "def emq(ye, y):\n",
        "  dif = ye - y\n",
        "  return (1 / len(y)) * np.inner(dif, dif)"
      ],
      "execution_count": 0,
      "outputs": []
    },
    {
      "cell_type": "markdown",
      "metadata": {
        "id": "jQD_n-iSt-_m",
        "colab_type": "text"
      },
      "source": [
        "Agora, aplicaremos Gradient Descent (criar lista de custos), com theta0 e theta1 começando com 1 e 0.5"
      ]
    },
    {
      "cell_type": "code",
      "metadata": {
        "collapsed": true,
        "id": "kfttM0NAt-_m",
        "colab_type": "code",
        "colab": {
          "base_uri": "https://localhost:8080/",
          "height": 34
        },
        "outputId": "d0f301ec-ac65-4336-d5bb-c18d11f5df2d"
      },
      "source": [
        "lc = []\n",
        "lr = 0.01\n",
        "theta = np.array([1.0, 0.5])\n",
        "lc.append(emq(np.dot(X, theta), y))\n",
        "for i in range(2000):\n",
        "  g = gradEMQ(X, theta, y)\n",
        "  theta -= (lr * g)\n",
        "  lc.append(emq(np.dot(X, theta), y))\n",
        "theta\n",
        "                                      "
      ],
      "execution_count": 51,
      "outputs": [
        {
          "output_type": "execute_result",
          "data": {
            "text/plain": [
              "array([23.44591833, -6.07562686])"
            ]
          },
          "metadata": {
            "tags": []
          },
          "execution_count": 51
        }
      ]
    },
    {
      "cell_type": "markdown",
      "metadata": {
        "collapsed": true,
        "id": "rVSF6zNRt-_o",
        "colab_type": "text"
      },
      "source": [
        "Vamos fazer o gráfico do custo ao longo das iterações do Grad. Desc."
      ]
    },
    {
      "cell_type": "code",
      "metadata": {
        "collapsed": true,
        "id": "5Cvuvnfyt-_p",
        "colab_type": "code",
        "colab": {
          "base_uri": "https://localhost:8080/",
          "height": 265
        },
        "outputId": "fd05a3a9-3598-4714-dc60-00eb09c4c364"
      },
      "source": [
        "plt.plot(lc[:500], color='blue')\n",
        "plt.show()"
      ],
      "execution_count": 52,
      "outputs": [
        {
          "output_type": "display_data",
          "data": {
            "image/png": "[encoded data removed]",
            "text/plain": [
              "<Figure size 432x288 with 1 Axes>"
            ]
          },
          "metadata": {
            "tags": []
          }
        }
      ]
    },
    {
      "cell_type": "markdown",
      "metadata": {
        "id": "21QGBUgXt-_r",
        "colab_type": "text"
      },
      "source": [
        "Finalmente, vamos fazer a função predict(pot,theta,md,dp) que retorna a predição do consumo para a potência"
      ]
    },
    {
      "cell_type": "code",
      "metadata": {
        "id": "_h0MOCt5t-_s",
        "colab_type": "code",
        "colab": {}
      },
      "source": [
        "def predict(pot,theta,md,dp):\n",
        "  pots = (pot - md) / dp\n",
        "  return theta[0] + theta[1] * pots\n"
      ],
      "execution_count": 0,
      "outputs": []
    },
    {
      "cell_type": "markdown",
      "metadata": {
        "id": "FypWPlaFt-_t",
        "colab_type": "text"
      },
      "source": [
        "Faça a predição para potência de 160HP"
      ]
    },
    {
      "cell_type": "code",
      "metadata": {
        "collapsed": true,
        "id": "fLSvFRESt-_u",
        "colab_type": "code",
        "colab": {
          "base_uri": "https://localhost:8080/",
          "height": 34
        },
        "outputId": "672548f8-5098-461e-a486-aafbf1036afe"
      },
      "source": [
        "predict(160,theta,med,dp)"
      ],
      "execution_count": 37,
      "outputs": [
        {
          "output_type": "execute_result",
          "data": {
            "text/plain": [
              "14.680703661367856"
            ]
          },
          "metadata": {
            "tags": []
          },
          "execution_count": 37
        }
      ]
    },
    {
      "cell_type": "markdown",
      "metadata": {
        "id": "OCvb1lOlt-_x",
        "colab_type": "text"
      },
      "source": [
        "mostre a média de consumo para potência=160 no dataset"
      ]
    },
    {
      "cell_type": "code",
      "metadata": {
        "collapsed": true,
        "id": "v0xU-M2Tt-_x",
        "colab_type": "code",
        "colab": {
          "base_uri": "https://localhost:8080/",
          "height": 34
        },
        "outputId": "f5f10ea1-7942-4a75-d967-7f1af3006272"
      },
      "source": [
        "df[df['horsepower'] == 160]['mpg'].mean()"
      ],
      "execution_count": 50,
      "outputs": [
        {
          "output_type": "execute_result",
          "data": {
            "text/plain": [
              "13.0"
            ]
          },
          "metadata": {
            "tags": []
          },
          "execution_count": 50
        }
      ]
    }
  ]
}