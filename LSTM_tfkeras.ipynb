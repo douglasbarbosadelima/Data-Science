{
  "nbformat": 4,
  "nbformat_minor": 0,
  "metadata": {
    "colab": {
      "name": "LSTM_tfkeras.ipynb",
      "provenance": [],
      "include_colab_link": true
    },
    "kernelspec": {
      "name": "python3",
      "display_name": "Python 3"
    },
    "accelerator": "GPU"
  },
  "cells": [
    {
      "cell_type": "markdown",
      "metadata": {
        "id": "view-in-github",
        "colab_type": "text"
      },
      "source": [
        "<a href=\"https://colab.research.google.com/github/douglasbarbosadelima/Data-Science/blob/master/LSTM_tfkeras.ipynb\" target=\"_parent\"><img src=\"https://colab.research.google.com/assets/colab-badge.svg\" alt=\"Open In Colab\"/></a>"
      ]
    },
    {
      "cell_type": "markdown",
      "metadata": {
        "id": "ePVO9pOJ6jgh",
        "colab_type": "text"
      },
      "source": [
        "# LSTM_Keras"
      ]
    },
    {
      "cell_type": "code",
      "metadata": {
        "id": "MEe1t8yPs8Zf",
        "colab_type": "code",
        "outputId": "f9c8d3ff-3a1e-48ae-bd3e-5baddf3548ba",
        "colab": {
          "base_uri": "https://localhost:8080/",
          "height": 904
        }
      },
      "source": [
        "!pip install tensorflow-gpu===2.1.0"
      ],
      "execution_count": 1,
      "outputs": [
        {
          "output_type": "stream",
          "text": [
            "Collecting tensorflow-gpu===2.1.0\n",
            "\u001b[?25l  Downloading https://files.pythonhosted.org/packages/0a/93/c7bca39b23aae45cd2e85ad3871c81eccc63b9c5276e926511e2e5b0879d/tensorflow_gpu-2.1.0-cp36-cp36m-manylinux2010_x86_64.whl (421.8MB)\n",
            "\u001b[K     |████████████████████████████████| 421.8MB 40kB/s \n",
            "\u001b[?25hRequirement already satisfied: astor>=0.6.0 in /usr/local/lib/python3.6/dist-packages (from tensorflow-gpu===2.1.0) (0.8.1)\n",
            "Requirement already satisfied: numpy<2.0,>=1.16.0 in /usr/local/lib/python3.6/dist-packages (from tensorflow-gpu===2.1.0) (1.17.5)\n",
            "Requirement already satisfied: grpcio>=1.8.6 in /usr/local/lib/python3.6/dist-packages (from tensorflow-gpu===2.1.0) (1.27.1)\n",
            "Requirement already satisfied: absl-py>=0.7.0 in /usr/local/lib/python3.6/dist-packages (from tensorflow-gpu===2.1.0) (0.9.0)\n",
            "Collecting tensorboard<2.2.0,>=2.1.0\n",
            "\u001b[?25l  Downloading https://files.pythonhosted.org/packages/d9/41/bbf49b61370e4f4d245d4c6051dfb6db80cec672605c91b1652ac8cc3d38/tensorboard-2.1.1-py3-none-any.whl (3.8MB)\n",
            "\u001b[K     |████████████████████████████████| 3.9MB 40.7MB/s \n",
            "\u001b[?25hRequirement already satisfied: google-pasta>=0.1.6 in /usr/local/lib/python3.6/dist-packages (from tensorflow-gpu===2.1.0) (0.1.8)\n",
            "Requirement already satisfied: termcolor>=1.1.0 in /usr/local/lib/python3.6/dist-packages (from tensorflow-gpu===2.1.0) (1.1.0)\n",
            "Requirement already satisfied: keras-applications>=1.0.8 in /usr/local/lib/python3.6/dist-packages (from tensorflow-gpu===2.1.0) (1.0.8)\n",
            "Requirement already satisfied: keras-preprocessing>=1.1.0 in /usr/local/lib/python3.6/dist-packages (from tensorflow-gpu===2.1.0) (1.1.0)\n",
            "Collecting tensorflow-estimator<2.2.0,>=2.1.0rc0\n",
            "\u001b[?25l  Downloading https://files.pythonhosted.org/packages/18/90/b77c328a1304437ab1310b463e533fa7689f4bfc41549593056d812fab8e/tensorflow_estimator-2.1.0-py2.py3-none-any.whl (448kB)\n",
            "\u001b[K     |████████████████████████████████| 450kB 46.3MB/s \n",
            "\u001b[?25hRequirement already satisfied: protobuf>=3.8.0 in /usr/local/lib/python3.6/dist-packages (from tensorflow-gpu===2.1.0) (3.10.0)\n",
            "Requirement already satisfied: scipy==1.4.1; python_version >= \"3\" in /usr/local/lib/python3.6/dist-packages (from tensorflow-gpu===2.1.0) (1.4.1)\n",
            "Requirement already satisfied: six>=1.12.0 in /usr/local/lib/python3.6/dist-packages (from tensorflow-gpu===2.1.0) (1.12.0)\n",
            "Requirement already satisfied: wrapt>=1.11.1 in /usr/local/lib/python3.6/dist-packages (from tensorflow-gpu===2.1.0) (1.11.2)\n",
            "Requirement already satisfied: wheel>=0.26; python_version >= \"3\" in /usr/local/lib/python3.6/dist-packages (from tensorflow-gpu===2.1.0) (0.34.2)\n",
            "Requirement already satisfied: gast==0.2.2 in /usr/local/lib/python3.6/dist-packages (from tensorflow-gpu===2.1.0) (0.2.2)\n",
            "Requirement already satisfied: opt-einsum>=2.3.2 in /usr/local/lib/python3.6/dist-packages (from tensorflow-gpu===2.1.0) (3.1.0)\n",
            "Requirement already satisfied: werkzeug>=0.11.15 in /usr/local/lib/python3.6/dist-packages (from tensorboard<2.2.0,>=2.1.0->tensorflow-gpu===2.1.0) (1.0.0)\n",
            "Requirement already satisfied: setuptools>=41.0.0 in /usr/local/lib/python3.6/dist-packages (from tensorboard<2.2.0,>=2.1.0->tensorflow-gpu===2.1.0) (45.2.0)\n",
            "Requirement already satisfied: google-auth-oauthlib<0.5,>=0.4.1 in /usr/local/lib/python3.6/dist-packages (from tensorboard<2.2.0,>=2.1.0->tensorflow-gpu===2.1.0) (0.4.1)\n",
            "Requirement already satisfied: requests<3,>=2.21.0 in /usr/local/lib/python3.6/dist-packages (from tensorboard<2.2.0,>=2.1.0->tensorflow-gpu===2.1.0) (2.21.0)\n",
            "Requirement already satisfied: markdown>=2.6.8 in /usr/local/lib/python3.6/dist-packages (from tensorboard<2.2.0,>=2.1.0->tensorflow-gpu===2.1.0) (3.2.1)\n",
            "Requirement already satisfied: google-auth<2,>=1.6.3 in /usr/local/lib/python3.6/dist-packages (from tensorboard<2.2.0,>=2.1.0->tensorflow-gpu===2.1.0) (1.7.2)\n",
            "Requirement already satisfied: h5py in /usr/local/lib/python3.6/dist-packages (from keras-applications>=1.0.8->tensorflow-gpu===2.1.0) (2.8.0)\n",
            "Requirement already satisfied: requests-oauthlib>=0.7.0 in /usr/local/lib/python3.6/dist-packages (from google-auth-oauthlib<0.5,>=0.4.1->tensorboard<2.2.0,>=2.1.0->tensorflow-gpu===2.1.0) (1.3.0)\n",
            "Requirement already satisfied: urllib3<1.25,>=1.21.1 in /usr/local/lib/python3.6/dist-packages (from requests<3,>=2.21.0->tensorboard<2.2.0,>=2.1.0->tensorflow-gpu===2.1.0) (1.24.3)\n",
            "Requirement already satisfied: idna<2.9,>=2.5 in /usr/local/lib/python3.6/dist-packages (from requests<3,>=2.21.0->tensorboard<2.2.0,>=2.1.0->tensorflow-gpu===2.1.0) (2.8)\n",
            "Requirement already satisfied: chardet<3.1.0,>=3.0.2 in /usr/local/lib/python3.6/dist-packages (from requests<3,>=2.21.0->tensorboard<2.2.0,>=2.1.0->tensorflow-gpu===2.1.0) (3.0.4)\n",
            "Requirement already satisfied: certifi>=2017.4.17 in /usr/local/lib/python3.6/dist-packages (from requests<3,>=2.21.0->tensorboard<2.2.0,>=2.1.0->tensorflow-gpu===2.1.0) (2019.11.28)\n",
            "Requirement already satisfied: pyasn1-modules>=0.2.1 in /usr/local/lib/python3.6/dist-packages (from google-auth<2,>=1.6.3->tensorboard<2.2.0,>=2.1.0->tensorflow-gpu===2.1.0) (0.2.8)\n",
            "Requirement already satisfied: rsa<4.1,>=3.1.4 in /usr/local/lib/python3.6/dist-packages (from google-auth<2,>=1.6.3->tensorboard<2.2.0,>=2.1.0->tensorflow-gpu===2.1.0) (4.0)\n",
            "Requirement already satisfied: cachetools<3.2,>=2.0.0 in /usr/local/lib/python3.6/dist-packages (from google-auth<2,>=1.6.3->tensorboard<2.2.0,>=2.1.0->tensorflow-gpu===2.1.0) (3.1.1)\n",
            "Requirement already satisfied: oauthlib>=3.0.0 in /usr/local/lib/python3.6/dist-packages (from requests-oauthlib>=0.7.0->google-auth-oauthlib<0.5,>=0.4.1->tensorboard<2.2.0,>=2.1.0->tensorflow-gpu===2.1.0) (3.1.0)\n",
            "Requirement already satisfied: pyasn1<0.5.0,>=0.4.6 in /usr/local/lib/python3.6/dist-packages (from pyasn1-modules>=0.2.1->google-auth<2,>=1.6.3->tensorboard<2.2.0,>=2.1.0->tensorflow-gpu===2.1.0) (0.4.8)\n",
            "\u001b[31mERROR: tensorflow 1.15.0 has requirement tensorboard<1.16.0,>=1.15.0, but you'll have tensorboard 2.1.1 which is incompatible.\u001b[0m\n",
            "\u001b[31mERROR: tensorflow 1.15.0 has requirement tensorflow-estimator==1.15.1, but you'll have tensorflow-estimator 2.1.0 which is incompatible.\u001b[0m\n",
            "Installing collected packages: tensorboard, tensorflow-estimator, tensorflow-gpu\n",
            "  Found existing installation: tensorboard 1.15.0\n",
            "    Uninstalling tensorboard-1.15.0:\n",
            "      Successfully uninstalled tensorboard-1.15.0\n",
            "  Found existing installation: tensorflow-estimator 1.15.1\n",
            "    Uninstalling tensorflow-estimator-1.15.1:\n",
            "      Successfully uninstalled tensorflow-estimator-1.15.1\n",
            "Successfully installed tensorboard-2.1.1 tensorflow-estimator-2.1.0 tensorflow-gpu-2.1.0\n"
          ],
          "name": "stdout"
        }
      ]
    },
    {
      "cell_type": "code",
      "metadata": {
        "id": "KHL2w9KxTFRg",
        "colab_type": "code",
        "colab": {
          "base_uri": "https://localhost:8080/",
          "height": 34
        },
        "outputId": "862da62a-7d1b-4206-bc4e-a8db5716965b"
      },
      "source": [
        "import pandas as pd\n",
        "import numpy as np\n",
        "import matplotlib.pyplot as plt\n",
        "import tensorflow as tf\n",
        "from sklearn.model_selection import train_test_split\n",
        "\n",
        "tf.__version__"
      ],
      "execution_count": 5,
      "outputs": [
        {
          "output_type": "execute_result",
          "data": {
            "text/plain": [
              "'2.1.0'"
            ]
          },
          "metadata": {
            "tags": []
          },
          "execution_count": 5
        }
      ]
    },
    {
      "cell_type": "code",
      "metadata": {
        "id": "Gwilz_qnTIdP",
        "colab_type": "code",
        "outputId": "bfe07397-d9f2-4920-a522-620faa2606ad",
        "colab": {
          "base_uri": "https://localhost:8080/",
          "height": 204
        }
      },
      "source": [
        "df = pd.read_csv('http://linkededucation.com.br/temp/google_stock_price.csv')\n",
        "df.head()"
      ],
      "execution_count": 6,
      "outputs": [
        {
          "output_type": "execute_result",
          "data": {
            "text/html": [
              "<div>\n",
              "<style scoped>\n",
              "    .dataframe tbody tr th:only-of-type {\n",
              "        vertical-align: middle;\n",
              "    }\n",
              "\n",
              "    .dataframe tbody tr th {\n",
              "        vertical-align: top;\n",
              "    }\n",
              "\n",
              "    .dataframe thead th {\n",
              "        text-align: right;\n",
              "    }\n",
              "</style>\n",
              "<table border=\"1\" class=\"dataframe\">\n",
              "  <thead>\n",
              "    <tr style=\"text-align: right;\">\n",
              "      <th></th>\n",
              "      <th>Stock_Price</th>\n",
              "    </tr>\n",
              "  </thead>\n",
              "  <tbody>\n",
              "    <tr>\n",
              "      <th>0</th>\n",
              "      <td>50.12</td>\n",
              "    </tr>\n",
              "    <tr>\n",
              "      <th>1</th>\n",
              "      <td>54.10</td>\n",
              "    </tr>\n",
              "    <tr>\n",
              "      <th>2</th>\n",
              "      <td>54.65</td>\n",
              "    </tr>\n",
              "    <tr>\n",
              "      <th>3</th>\n",
              "      <td>52.38</td>\n",
              "    </tr>\n",
              "    <tr>\n",
              "      <th>4</th>\n",
              "      <td>52.95</td>\n",
              "    </tr>\n",
              "  </tbody>\n",
              "</table>\n",
              "</div>"
            ],
            "text/plain": [
              "   Stock_Price\n",
              "0        50.12\n",
              "1        54.10\n",
              "2        54.65\n",
              "3        52.38\n",
              "4        52.95"
            ]
          },
          "metadata": {
            "tags": []
          },
          "execution_count": 6
        }
      ]
    },
    {
      "cell_type": "code",
      "metadata": {
        "id": "ffSOCQl4SmKK",
        "colab_type": "code",
        "outputId": "d719a74b-326c-4fbb-9fa4-785577a1cfcc",
        "colab": {
          "base_uri": "https://localhost:8080/",
          "height": 119
        }
      },
      "source": [
        "df.info()"
      ],
      "execution_count": 7,
      "outputs": [
        {
          "output_type": "stream",
          "text": [
            "<class 'pandas.core.frame.DataFrame'>\n",
            "RangeIndex: 3012 entries, 0 to 3011\n",
            "Data columns (total 1 columns):\n",
            "Stock_Price    3012 non-null float64\n",
            "dtypes: float64(1)\n",
            "memory usage: 23.7 KB\n"
          ],
          "name": "stdout"
        }
      ]
    },
    {
      "cell_type": "code",
      "metadata": {
        "id": "rE_ISeZOSsd7",
        "colab_type": "code",
        "outputId": "1ac9eb1d-11f6-4327-dcbf-d032fac620a9",
        "colab": {
          "base_uri": "https://localhost:8080/",
          "height": 170
        }
      },
      "source": [
        "df['Stock_Price'].describe()"
      ],
      "execution_count": 8,
      "outputs": [
        {
          "output_type": "execute_result",
          "data": {
            "text/plain": [
              "count    3012.000000\n",
              "mean      334.310093\n",
              "std       173.187205\n",
              "min        49.950000\n",
              "25%       218.045000\n",
              "50%       283.315000\n",
              "75%       443.000000\n",
              "max       782.220000\n",
              "Name: Stock_Price, dtype: float64"
            ]
          },
          "metadata": {
            "tags": []
          },
          "execution_count": 8
        }
      ]
    },
    {
      "cell_type": "code",
      "metadata": {
        "id": "Lia45O3Nu9LY",
        "colab_type": "code",
        "colab": {
          "base_uri": "https://localhost:8080/",
          "height": 265
        },
        "outputId": "567b7bc8-26ab-44e7-b68b-f180ec615f7f"
      },
      "source": [
        "#Gráfico do ativo\n",
        "plt.plot(df,color='blue')\n",
        "plt.show()"
      ],
      "execution_count": 9,
      "outputs": [
        {
          "output_type": "display_data",
          "data": {
            "image/png": "[encoded data removed]",
            "text/plain": [
              "<Figure size 432x288 with 1 Axes>"
            ]
          },
          "metadata": {
            "tags": []
          }
        }
      ]
    },
    {
      "cell_type": "code",
      "metadata": {
        "id": "deSSXB4xXymi",
        "colab_type": "code",
        "outputId": "bb0b18f9-c6ae-4a84-99e0-56b312cf50cd",
        "colab": {
          "base_uri": "https://localhost:8080/",
          "height": 204
        }
      },
      "source": [
        "#Criação das janelas de 8 dias no dataframe..inicializadas com zero\n",
        "df['d1']=0.0\n",
        "df['d2']=0.0\n",
        "df['d3']=0.0\n",
        "df['d4']=0.0\n",
        "df['d5']=0.0\n",
        "df['d6']=0.0\n",
        "df['d7']=0.0\n",
        "df['target']=0.0\n",
        "\n",
        "df.head()"
      ],
      "execution_count": 11,
      "outputs": [
        {
          "output_type": "execute_result",
          "data": {
            "text/html": [
              "<div>\n",
              "<style scoped>\n",
              "    .dataframe tbody tr th:only-of-type {\n",
              "        vertical-align: middle;\n",
              "    }\n",
              "\n",
              "    .dataframe tbody tr th {\n",
              "        vertical-align: top;\n",
              "    }\n",
              "\n",
              "    .dataframe thead th {\n",
              "        text-align: right;\n",
              "    }\n",
              "</style>\n",
              "<table border=\"1\" class=\"dataframe\">\n",
              "  <thead>\n",
              "    <tr style=\"text-align: right;\">\n",
              "      <th></th>\n",
              "      <th>Stock_Price</th>\n",
              "      <th>d1</th>\n",
              "      <th>d2</th>\n",
              "      <th>d3</th>\n",
              "      <th>d4</th>\n",
              "      <th>d5</th>\n",
              "      <th>d6</th>\n",
              "      <th>d7</th>\n",
              "      <th>target</th>\n",
              "    </tr>\n",
              "  </thead>\n",
              "  <tbody>\n",
              "    <tr>\n",
              "      <th>0</th>\n",
              "      <td>50.12</td>\n",
              "      <td>0.0</td>\n",
              "      <td>0.0</td>\n",
              "      <td>0.0</td>\n",
              "      <td>0.0</td>\n",
              "      <td>0.0</td>\n",
              "      <td>0.0</td>\n",
              "      <td>0.0</td>\n",
              "      <td>0.0</td>\n",
              "    </tr>\n",
              "    <tr>\n",
              "      <th>1</th>\n",
              "      <td>54.10</td>\n",
              "      <td>0.0</td>\n",
              "      <td>0.0</td>\n",
              "      <td>0.0</td>\n",
              "      <td>0.0</td>\n",
              "      <td>0.0</td>\n",
              "      <td>0.0</td>\n",
              "      <td>0.0</td>\n",
              "      <td>0.0</td>\n",
              "    </tr>\n",
              "    <tr>\n",
              "      <th>2</th>\n",
              "      <td>54.65</td>\n",
              "      <td>0.0</td>\n",
              "      <td>0.0</td>\n",
              "      <td>0.0</td>\n",
              "      <td>0.0</td>\n",
              "      <td>0.0</td>\n",
              "      <td>0.0</td>\n",
              "      <td>0.0</td>\n",
              "      <td>0.0</td>\n",
              "    </tr>\n",
              "    <tr>\n",
              "      <th>3</th>\n",
              "      <td>52.38</td>\n",
              "      <td>0.0</td>\n",
              "      <td>0.0</td>\n",
              "      <td>0.0</td>\n",
              "      <td>0.0</td>\n",
              "      <td>0.0</td>\n",
              "      <td>0.0</td>\n",
              "      <td>0.0</td>\n",
              "      <td>0.0</td>\n",
              "    </tr>\n",
              "    <tr>\n",
              "      <th>4</th>\n",
              "      <td>52.95</td>\n",
              "      <td>0.0</td>\n",
              "      <td>0.0</td>\n",
              "      <td>0.0</td>\n",
              "      <td>0.0</td>\n",
              "      <td>0.0</td>\n",
              "      <td>0.0</td>\n",
              "      <td>0.0</td>\n",
              "      <td>0.0</td>\n",
              "    </tr>\n",
              "  </tbody>\n",
              "</table>\n",
              "</div>"
            ],
            "text/plain": [
              "   Stock_Price   d1   d2   d3   d4   d5   d6   d7  target\n",
              "0        50.12  0.0  0.0  0.0  0.0  0.0  0.0  0.0     0.0\n",
              "1        54.10  0.0  0.0  0.0  0.0  0.0  0.0  0.0     0.0\n",
              "2        54.65  0.0  0.0  0.0  0.0  0.0  0.0  0.0     0.0\n",
              "3        52.38  0.0  0.0  0.0  0.0  0.0  0.0  0.0     0.0\n",
              "4        52.95  0.0  0.0  0.0  0.0  0.0  0.0  0.0     0.0"
            ]
          },
          "metadata": {
            "tags": []
          },
          "execution_count": 11
        }
      ]
    },
    {
      "cell_type": "code",
      "metadata": {
        "id": "bYvadJQK7TlP",
        "colab_type": "code",
        "colab": {
          "base_uri": "https://localhost:8080/",
          "height": 204
        },
        "outputId": "1a5fb624-75fd-4cf8-d02f-110c2e8c2dc2"
      },
      "source": [
        "#populando as janelas temporais\n",
        "for i in range(2900):\n",
        "  df.iloc[i,1]=df.iloc[i+1,0]\n",
        "  df.iloc[i,2]=df.iloc[i+2,0]\n",
        "  df.iloc[i,3]=df.iloc[i+3,0]\n",
        "  df.iloc[i,4]=df.iloc[i+4,0]\n",
        "  df.iloc[i,5]=df.iloc[i+5,0]\n",
        "  df.iloc[i,6]=df.iloc[i+6,0]\n",
        "  df.iloc[i,7]=df.iloc[i+7,0]\n",
        "  df.iloc[i,8]=df.iloc[i+8,0]\n",
        "\n",
        "ndf=df[:2800].copy()\n",
        "y=np.array(ndf['target'])\n",
        "ndf=ndf.drop(columns='target',axis=1)\n",
        "ndf.rename(columns={\"Stock_Price\": \"d0\"},inplace=True)\n",
        "ndf.head()"
      ],
      "execution_count": 12,
      "outputs": [
        {
          "output_type": "execute_result",
          "data": {
            "text/html": [
              "<div>\n",
              "<style scoped>\n",
              "    .dataframe tbody tr th:only-of-type {\n",
              "        vertical-align: middle;\n",
              "    }\n",
              "\n",
              "    .dataframe tbody tr th {\n",
              "        vertical-align: top;\n",
              "    }\n",
              "\n",
              "    .dataframe thead th {\n",
              "        text-align: right;\n",
              "    }\n",
              "</style>\n",
              "<table border=\"1\" class=\"dataframe\">\n",
              "  <thead>\n",
              "    <tr style=\"text-align: right;\">\n",
              "      <th></th>\n",
              "      <th>d0</th>\n",
              "      <th>d1</th>\n",
              "      <th>d2</th>\n",
              "      <th>d3</th>\n",
              "      <th>d4</th>\n",
              "      <th>d5</th>\n",
              "      <th>d6</th>\n",
              "      <th>d7</th>\n",
              "    </tr>\n",
              "  </thead>\n",
              "  <tbody>\n",
              "    <tr>\n",
              "      <th>0</th>\n",
              "      <td>50.12</td>\n",
              "      <td>54.10</td>\n",
              "      <td>54.65</td>\n",
              "      <td>52.38</td>\n",
              "      <td>52.95</td>\n",
              "      <td>53.90</td>\n",
              "      <td>53.02</td>\n",
              "      <td>50.95</td>\n",
              "    </tr>\n",
              "    <tr>\n",
              "      <th>1</th>\n",
              "      <td>54.10</td>\n",
              "      <td>54.65</td>\n",
              "      <td>52.38</td>\n",
              "      <td>52.95</td>\n",
              "      <td>53.90</td>\n",
              "      <td>53.02</td>\n",
              "      <td>50.95</td>\n",
              "      <td>51.13</td>\n",
              "    </tr>\n",
              "    <tr>\n",
              "      <th>2</th>\n",
              "      <td>54.65</td>\n",
              "      <td>52.38</td>\n",
              "      <td>52.95</td>\n",
              "      <td>53.90</td>\n",
              "      <td>53.02</td>\n",
              "      <td>50.95</td>\n",
              "      <td>51.13</td>\n",
              "      <td>50.07</td>\n",
              "    </tr>\n",
              "    <tr>\n",
              "      <th>3</th>\n",
              "      <td>52.38</td>\n",
              "      <td>52.95</td>\n",
              "      <td>53.90</td>\n",
              "      <td>53.02</td>\n",
              "      <td>50.95</td>\n",
              "      <td>51.13</td>\n",
              "      <td>50.07</td>\n",
              "      <td>50.70</td>\n",
              "    </tr>\n",
              "    <tr>\n",
              "      <th>4</th>\n",
              "      <td>52.95</td>\n",
              "      <td>53.90</td>\n",
              "      <td>53.02</td>\n",
              "      <td>50.95</td>\n",
              "      <td>51.13</td>\n",
              "      <td>50.07</td>\n",
              "      <td>50.70</td>\n",
              "      <td>49.95</td>\n",
              "    </tr>\n",
              "  </tbody>\n",
              "</table>\n",
              "</div>"
            ],
            "text/plain": [
              "      d0     d1     d2     d3     d4     d5     d6     d7\n",
              "0  50.12  54.10  54.65  52.38  52.95  53.90  53.02  50.95\n",
              "1  54.10  54.65  52.38  52.95  53.90  53.02  50.95  51.13\n",
              "2  54.65  52.38  52.95  53.90  53.02  50.95  51.13  50.07\n",
              "3  52.38  52.95  53.90  53.02  50.95  51.13  50.07  50.70\n",
              "4  52.95  53.90  53.02  50.95  51.13  50.07  50.70  49.95"
            ]
          },
          "metadata": {
            "tags": []
          },
          "execution_count": 12
        }
      ]
    },
    {
      "cell_type": "code",
      "metadata": {
        "id": "8Dbi_kKLy3JN",
        "colab_type": "code",
        "colab": {
          "base_uri": "https://localhost:8080/",
          "height": 561
        },
        "outputId": "fa333a26-0a9d-4827-c9ac-81977fbf0cba"
      },
      "source": [
        "X=np.array(ndf)\n",
        "print(X.shape)\n",
        "print(X[:3])\n",
        "print(X.shape)\n",
        "X=X[:,:,np.newaxis]\n",
        "print(X.shape)\n",
        "X[:3],y[:3]"
      ],
      "execution_count": 14,
      "outputs": [
        {
          "output_type": "stream",
          "text": [
            "(2800, 8)\n",
            "[[50.12 54.1  54.65 52.38 52.95 53.9  53.02 50.95]\n",
            " [54.1  54.65 52.38 52.95 53.9  53.02 50.95 51.13]\n",
            " [54.65 52.38 52.95 53.9  53.02 50.95 51.13 50.07]]\n",
            "(2800, 8)\n",
            "(2800, 8, 1)\n"
          ],
          "name": "stdout"
        },
        {
          "output_type": "execute_result",
          "data": {
            "text/plain": [
              "(array([[[50.12],\n",
              "         [54.1 ],\n",
              "         [54.65],\n",
              "         [52.38],\n",
              "         [52.95],\n",
              "         [53.9 ],\n",
              "         [53.02],\n",
              "         [50.95]],\n",
              " \n",
              "        [[54.1 ],\n",
              "         [54.65],\n",
              "         [52.38],\n",
              "         [52.95],\n",
              "         [53.9 ],\n",
              "         [53.02],\n",
              "         [50.95],\n",
              "         [51.13]],\n",
              " \n",
              "        [[54.65],\n",
              "         [52.38],\n",
              "         [52.95],\n",
              "         [53.9 ],\n",
              "         [53.02],\n",
              "         [50.95],\n",
              "         [51.13],\n",
              "         [50.07]]]), array([51.13, 50.07, 50.7 ]))"
            ]
          },
          "metadata": {
            "tags": []
          },
          "execution_count": 14
        }
      ]
    },
    {
      "cell_type": "code",
      "metadata": {
        "id": "FoGVBvNra5sr",
        "colab_type": "code",
        "colab": {}
      },
      "source": [
        "X_train, X_test, y_train, y_test = train_test_split(\n",
        "    X, y, test_size=0.33, random_state=42)"
      ],
      "execution_count": 0,
      "outputs": []
    },
    {
      "cell_type": "code",
      "metadata": {
        "id": "E0xZXvYnambF",
        "colab_type": "code",
        "colab": {}
      },
      "source": [
        "model = tf.keras.Sequential()\n",
        "model.add(tf.keras.layers.LSTM(40, input_shape=(None, 1)))\n",
        "model.add(tf.keras.layers.Dense(20, activation='relu'))\n",
        "model.add(tf.keras.layers.Dense(10, activation='relu'))\n",
        "model.add(tf.keras.layers.Dense(1, activation=lambda x: x))\n",
        "\n",
        "model.compile(optimizer='adam', loss='mse')"
      ],
      "execution_count": 0,
      "outputs": []
    },
    {
      "cell_type": "code",
      "metadata": {
        "id": "H_hadnsmayJj",
        "colab_type": "code",
        "colab": {
          "base_uri": "https://localhost:8080/",
          "height": 527
        },
        "outputId": "73322a1a-55b8-4027-94bd-a4d6b7d5588f"
      },
      "source": [
        "model.layers[0].get_config()"
      ],
      "execution_count": 21,
      "outputs": [
        {
          "output_type": "execute_result",
          "data": {
            "text/plain": [
              "{'activation': 'tanh',\n",
              " 'activity_regularizer': None,\n",
              " 'batch_input_shape': (None, None, 1),\n",
              " 'bias_constraint': None,\n",
              " 'bias_initializer': {'class_name': 'Zeros', 'config': {}},\n",
              " 'bias_regularizer': None,\n",
              " 'dropout': 0.0,\n",
              " 'dtype': 'float32',\n",
              " 'go_backwards': False,\n",
              " 'implementation': 2,\n",
              " 'kernel_constraint': None,\n",
              " 'kernel_initializer': {'class_name': 'GlorotUniform',\n",
              "  'config': {'seed': None}},\n",
              " 'kernel_regularizer': None,\n",
              " 'name': 'lstm_1',\n",
              " 'recurrent_activation': 'sigmoid',\n",
              " 'recurrent_constraint': None,\n",
              " 'recurrent_dropout': 0.0,\n",
              " 'recurrent_initializer': {'class_name': 'Orthogonal',\n",
              "  'config': {'gain': 1.0, 'seed': None}},\n",
              " 'recurrent_regularizer': None,\n",
              " 'return_sequences': False,\n",
              " 'return_state': False,\n",
              " 'stateful': False,\n",
              " 'time_major': False,\n",
              " 'trainable': True,\n",
              " 'unit_forget_bias': True,\n",
              " 'units': 40,\n",
              " 'unroll': False,\n",
              " 'use_bias': True}"
            ]
          },
          "metadata": {
            "tags": []
          },
          "execution_count": 21
        }
      ]
    },
    {
      "cell_type": "code",
      "metadata": {
        "id": "NiboFPPua2Zg",
        "colab_type": "code",
        "colab": {
          "base_uri": "https://localhost:8080/",
          "height": 1000
        },
        "outputId": "386e1113-fcf3-4656-9439-2670f72f9a1e"
      },
      "source": [
        "model.fit(X_train, y_train, epochs=100, verbose=1)"
      ],
      "execution_count": 22,
      "outputs": [
        {
          "output_type": "stream",
          "text": [
            "Train on 1876 samples\n",
            "Epoch 1/100\n",
            "1876/1876 [==============================] - 7s 4ms/sample - loss: 114482.2825\n",
            "Epoch 2/100\n",
            "1876/1876 [==============================] - 0s 121us/sample - loss: 109695.6818\n",
            "Epoch 3/100\n",
            "1876/1876 [==============================] - 0s 125us/sample - loss: 88019.0511\n",
            "Epoch 4/100\n",
            "1876/1876 [==============================] - 0s 116us/sample - loss: 55474.9249\n",
            "Epoch 5/100\n",
            "1876/1876 [==============================] - 0s 111us/sample - loss: 29254.6319\n",
            "Epoch 6/100\n",
            "1876/1876 [==============================] - 0s 118us/sample - loss: 14462.1832\n",
            "Epoch 7/100\n",
            "1876/1876 [==============================] - 0s 123us/sample - loss: 6906.5132\n",
            "Epoch 8/100\n",
            "1876/1876 [==============================] - 0s 125us/sample - loss: 3061.6034\n",
            "Epoch 9/100\n",
            "1876/1876 [==============================] - 0s 121us/sample - loss: 1331.8591\n",
            "Epoch 10/100\n",
            "1876/1876 [==============================] - 0s 111us/sample - loss: 630.7403\n",
            "Epoch 11/100\n",
            "1876/1876 [==============================] - 0s 118us/sample - loss: 381.7854\n",
            "Epoch 12/100\n",
            "1876/1876 [==============================] - 0s 122us/sample - loss: 246.1588\n",
            "Epoch 13/100\n",
            "1876/1876 [==============================] - 0s 111us/sample - loss: 208.8431\n",
            "Epoch 14/100\n",
            "1876/1876 [==============================] - 0s 114us/sample - loss: 175.5065\n",
            "Epoch 15/100\n",
            "1876/1876 [==============================] - 0s 117us/sample - loss: 168.1633\n",
            "Epoch 16/100\n",
            "1876/1876 [==============================] - 0s 115us/sample - loss: 150.9174\n",
            "Epoch 17/100\n",
            "1876/1876 [==============================] - 0s 118us/sample - loss: 152.4479\n",
            "Epoch 18/100\n",
            "1876/1876 [==============================] - 0s 110us/sample - loss: 120.6974\n",
            "Epoch 19/100\n",
            "1876/1876 [==============================] - 0s 109us/sample - loss: 107.1688\n",
            "Epoch 20/100\n",
            "1876/1876 [==============================] - 0s 112us/sample - loss: 99.9107\n",
            "Epoch 21/100\n",
            "1876/1876 [==============================] - 0s 117us/sample - loss: 90.3805\n",
            "Epoch 22/100\n",
            "1876/1876 [==============================] - 0s 121us/sample - loss: 78.0502\n",
            "Epoch 23/100\n",
            "1876/1876 [==============================] - 0s 115us/sample - loss: 85.7053\n",
            "Epoch 24/100\n",
            "1876/1876 [==============================] - 0s 116us/sample - loss: 93.2545\n",
            "Epoch 25/100\n",
            "1876/1876 [==============================] - 0s 117us/sample - loss: 98.2119\n",
            "Epoch 26/100\n",
            "1876/1876 [==============================] - 0s 138us/sample - loss: 122.6306\n",
            "Epoch 27/100\n",
            "1876/1876 [==============================] - 0s 123us/sample - loss: 88.5131\n",
            "Epoch 28/100\n",
            "1876/1876 [==============================] - 0s 111us/sample - loss: 86.8341\n",
            "Epoch 29/100\n",
            "1876/1876 [==============================] - 0s 114us/sample - loss: 85.9678\n",
            "Epoch 30/100\n",
            "1876/1876 [==============================] - 0s 123us/sample - loss: 62.5805\n",
            "Epoch 31/100\n",
            "1876/1876 [==============================] - 0s 123us/sample - loss: 66.4089\n",
            "Epoch 32/100\n",
            "1876/1876 [==============================] - 0s 111us/sample - loss: 68.9719\n",
            "Epoch 33/100\n",
            "1876/1876 [==============================] - 0s 108us/sample - loss: 73.9170\n",
            "Epoch 34/100\n",
            "1876/1876 [==============================] - 0s 119us/sample - loss: 70.1866\n",
            "Epoch 35/100\n",
            "1876/1876 [==============================] - 0s 114us/sample - loss: 89.8856\n",
            "Epoch 36/100\n",
            "1876/1876 [==============================] - 0s 122us/sample - loss: 64.3177\n",
            "Epoch 37/100\n",
            "1876/1876 [==============================] - 0s 116us/sample - loss: 79.2088\n",
            "Epoch 38/100\n",
            "1876/1876 [==============================] - 0s 112us/sample - loss: 59.0571\n",
            "Epoch 39/100\n",
            "1876/1876 [==============================] - 0s 113us/sample - loss: 58.0623\n",
            "Epoch 40/100\n",
            "1876/1876 [==============================] - 0s 122us/sample - loss: 68.7235\n",
            "Epoch 41/100\n",
            "1876/1876 [==============================] - 0s 117us/sample - loss: 53.3635\n",
            "Epoch 42/100\n",
            "1876/1876 [==============================] - 0s 111us/sample - loss: 56.4683\n",
            "Epoch 43/100\n",
            "1876/1876 [==============================] - 0s 122us/sample - loss: 55.0538\n",
            "Epoch 44/100\n",
            "1876/1876 [==============================] - 0s 117us/sample - loss: 69.3128\n",
            "Epoch 45/100\n",
            "1876/1876 [==============================] - 0s 120us/sample - loss: 54.8498\n",
            "Epoch 46/100\n",
            "1876/1876 [==============================] - 0s 108us/sample - loss: 52.5315\n",
            "Epoch 47/100\n",
            "1876/1876 [==============================] - 0s 112us/sample - loss: 53.7504\n",
            "Epoch 48/100\n",
            "1876/1876 [==============================] - 0s 113us/sample - loss: 52.2611\n",
            "Epoch 49/100\n",
            "1876/1876 [==============================] - 0s 115us/sample - loss: 63.9289\n",
            "Epoch 50/100\n",
            "1876/1876 [==============================] - 0s 119us/sample - loss: 52.9339\n",
            "Epoch 51/100\n",
            "1876/1876 [==============================] - 0s 111us/sample - loss: 73.6272\n",
            "Epoch 52/100\n",
            "1876/1876 [==============================] - 0s 110us/sample - loss: 60.5726\n",
            "Epoch 53/100\n",
            "1876/1876 [==============================] - 0s 112us/sample - loss: 52.5928\n",
            "Epoch 54/100\n",
            "1876/1876 [==============================] - 0s 115us/sample - loss: 51.1444\n",
            "Epoch 55/100\n",
            "1876/1876 [==============================] - 0s 133us/sample - loss: 51.3448\n",
            "Epoch 56/100\n",
            "1876/1876 [==============================] - 0s 118us/sample - loss: 66.9017\n",
            "Epoch 57/100\n",
            "1876/1876 [==============================] - 0s 114us/sample - loss: 69.4687\n",
            "Epoch 58/100\n",
            "1876/1876 [==============================] - 0s 113us/sample - loss: 50.6174\n",
            "Epoch 59/100\n",
            "1876/1876 [==============================] - 0s 122us/sample - loss: 53.6982\n",
            "Epoch 60/100\n",
            "1876/1876 [==============================] - 0s 117us/sample - loss: 55.9575\n",
            "Epoch 61/100\n",
            "1876/1876 [==============================] - 0s 116us/sample - loss: 56.0146\n",
            "Epoch 62/100\n",
            "1876/1876 [==============================] - 0s 107us/sample - loss: 52.5447\n",
            "Epoch 63/100\n",
            "1876/1876 [==============================] - 0s 111us/sample - loss: 52.5547\n",
            "Epoch 64/100\n",
            "1876/1876 [==============================] - 0s 121us/sample - loss: 58.8982\n",
            "Epoch 65/100\n",
            "1876/1876 [==============================] - 0s 115us/sample - loss: 51.1100\n",
            "Epoch 66/100\n",
            "1876/1876 [==============================] - 0s 112us/sample - loss: 48.3083\n",
            "Epoch 67/100\n",
            "1876/1876 [==============================] - 0s 110us/sample - loss: 55.2739\n",
            "Epoch 68/100\n",
            "1876/1876 [==============================] - 0s 120us/sample - loss: 49.0065\n",
            "Epoch 69/100\n",
            "1876/1876 [==============================] - 0s 117us/sample - loss: 47.4643\n",
            "Epoch 70/100\n",
            "1876/1876 [==============================] - 0s 118us/sample - loss: 48.8120\n",
            "Epoch 71/100\n",
            "1876/1876 [==============================] - 0s 108us/sample - loss: 47.2715\n",
            "Epoch 72/100\n",
            "1876/1876 [==============================] - 0s 109us/sample - loss: 50.1975\n",
            "Epoch 73/100\n",
            "1876/1876 [==============================] - 0s 118us/sample - loss: 46.4970\n",
            "Epoch 74/100\n",
            "1876/1876 [==============================] - 0s 130us/sample - loss: 54.4922\n",
            "Epoch 75/100\n",
            "1876/1876 [==============================] - 0s 130us/sample - loss: 55.0955\n",
            "Epoch 76/100\n",
            "1876/1876 [==============================] - 0s 114us/sample - loss: 49.7360\n",
            "Epoch 77/100\n",
            "1876/1876 [==============================] - 0s 113us/sample - loss: 52.5548\n",
            "Epoch 78/100\n",
            "1876/1876 [==============================] - 0s 120us/sample - loss: 49.9438\n",
            "Epoch 79/100\n",
            "1876/1876 [==============================] - 0s 120us/sample - loss: 42.3900\n",
            "Epoch 80/100\n",
            "1876/1876 [==============================] - 0s 116us/sample - loss: 46.9194\n",
            "Epoch 81/100\n",
            "1876/1876 [==============================] - 0s 118us/sample - loss: 59.8809\n",
            "Epoch 82/100\n",
            "1876/1876 [==============================] - 0s 130us/sample - loss: 47.9949\n",
            "Epoch 83/100\n",
            "1876/1876 [==============================] - 0s 119us/sample - loss: 49.0706\n",
            "Epoch 84/100\n",
            "1876/1876 [==============================] - 0s 122us/sample - loss: 47.4090\n",
            "Epoch 85/100\n",
            "1876/1876 [==============================] - 0s 122us/sample - loss: 50.2448\n",
            "Epoch 86/100\n",
            "1876/1876 [==============================] - 0s 118us/sample - loss: 49.2209\n",
            "Epoch 87/100\n",
            "1876/1876 [==============================] - 0s 125us/sample - loss: 52.6027\n",
            "Epoch 88/100\n",
            "1876/1876 [==============================] - 0s 122us/sample - loss: 64.8510\n",
            "Epoch 89/100\n",
            "1876/1876 [==============================] - 0s 118us/sample - loss: 59.9615\n",
            "Epoch 90/100\n",
            "1876/1876 [==============================] - 0s 120us/sample - loss: 47.5659\n",
            "Epoch 91/100\n",
            "1876/1876 [==============================] - 0s 121us/sample - loss: 69.2704\n",
            "Epoch 92/100\n",
            "1876/1876 [==============================] - 0s 117us/sample - loss: 46.5313\n",
            "Epoch 93/100\n",
            "1876/1876 [==============================] - 0s 119us/sample - loss: 49.8924\n",
            "Epoch 94/100\n",
            "1876/1876 [==============================] - 0s 118us/sample - loss: 52.3728\n",
            "Epoch 95/100\n",
            "1876/1876 [==============================] - 0s 114us/sample - loss: 52.1394\n",
            "Epoch 96/100\n",
            "1876/1876 [==============================] - 0s 124us/sample - loss: 55.4464\n",
            "Epoch 97/100\n",
            "1876/1876 [==============================] - 0s 124us/sample - loss: 50.3027\n",
            "Epoch 98/100\n",
            "1876/1876 [==============================] - 0s 119us/sample - loss: 57.3558\n",
            "Epoch 99/100\n",
            "1876/1876 [==============================] - 0s 124us/sample - loss: 45.1443\n",
            "Epoch 100/100\n",
            "1876/1876 [==============================] - 0s 120us/sample - loss: 45.7575\n"
          ],
          "name": "stdout"
        },
        {
          "output_type": "execute_result",
          "data": {
            "text/plain": [
              "<tensorflow.python.keras.callbacks.History at 0x7fa8e03522e8>"
            ]
          },
          "metadata": {
            "tags": []
          },
          "execution_count": 22
        }
      ]
    },
    {
      "cell_type": "code",
      "metadata": {
        "id": "REnw5ycfVw1K",
        "colab_type": "code",
        "colab": {
          "base_uri": "https://localhost:8080/",
          "height": 51
        },
        "outputId": "4d7d32dd-8544-47ea-ecde-04175130b5c4"
      },
      "source": [
        "model.evaluate(X_test,y_test)"
      ],
      "execution_count": 23,
      "outputs": [
        {
          "output_type": "stream",
          "text": [
            "924/924 [==============================] - 0s 329us/sample - loss: 35.3585\n"
          ],
          "name": "stdout"
        },
        {
          "output_type": "execute_result",
          "data": {
            "text/plain": [
              "35.35851993395653"
            ]
          },
          "metadata": {
            "tags": []
          },
          "execution_count": 23
        }
      ]
    },
    {
      "cell_type": "code",
      "metadata": {
        "id": "Uk2nFGgDePsc",
        "colab_type": "code",
        "colab": {}
      },
      "source": [
        "model1 = tf.keras.Sequential()\n",
        "#crie um modelo MLP para comparar"
      ],
      "execution_count": 0,
      "outputs": []
    },
    {
      "cell_type": "code",
      "metadata": {
        "id": "sIvT8Qng1729",
        "colab_type": "code",
        "colab": {
          "base_uri": "https://localhost:8080/",
          "height": 493
        },
        "outputId": "3d3581a9-8d0d-4aad-8d1f-23da55a4906e"
      },
      "source": [
        "model.layers[1].get_config(), model.layers[2].get_config()"
      ],
      "execution_count": 25,
      "outputs": [
        {
          "output_type": "execute_result",
          "data": {
            "text/plain": [
              "({'activation': 'relu',\n",
              "  'activity_regularizer': None,\n",
              "  'bias_constraint': None,\n",
              "  'bias_initializer': {'class_name': 'Zeros', 'config': {}},\n",
              "  'bias_regularizer': None,\n",
              "  'dtype': 'float32',\n",
              "  'kernel_constraint': None,\n",
              "  'kernel_initializer': {'class_name': 'GlorotUniform',\n",
              "   'config': {'seed': None}},\n",
              "  'kernel_regularizer': None,\n",
              "  'name': 'dense_3',\n",
              "  'trainable': True,\n",
              "  'units': 20,\n",
              "  'use_bias': True},\n",
              " {'activation': 'relu',\n",
              "  'activity_regularizer': None,\n",
              "  'bias_constraint': None,\n",
              "  'bias_initializer': {'class_name': 'Zeros', 'config': {}},\n",
              "  'bias_regularizer': None,\n",
              "  'dtype': 'float32',\n",
              "  'kernel_constraint': None,\n",
              "  'kernel_initializer': {'class_name': 'GlorotUniform',\n",
              "   'config': {'seed': None}},\n",
              "  'kernel_regularizer': None,\n",
              "  'name': 'dense_4',\n",
              "  'trainable': True,\n",
              "  'units': 10,\n",
              "  'use_bias': True})"
            ]
          },
          "metadata": {
            "tags": []
          },
          "execution_count": 25
        }
      ]
    },
    {
      "cell_type": "code",
      "metadata": {
        "id": "3qFJJVmR0X9m",
        "colab_type": "code",
        "colab": {}
      },
      "source": [
        "# fit model\n",
        "model1.fit(X_train, y_train, epochs=100, verbose=1)"
      ],
      "execution_count": 0,
      "outputs": []
    },
    {
      "cell_type": "code",
      "metadata": {
        "id": "vxK-GOQrW8e7",
        "colab_type": "code",
        "colab": {}
      },
      "source": [
        "model1.evaluate(X_test,y_test)"
      ],
      "execution_count": 0,
      "outputs": []
    },
    {
      "cell_type": "code",
      "metadata": {
        "id": "NQyxzjJwV0p-",
        "colab_type": "code",
        "colab": {
          "base_uri": "https://localhost:8080/",
          "height": 136
        },
        "outputId": "7598039e-00c0-4971-bec7-e390b2a57cab"
      },
      "source": [
        "X[0][0], X[0][1], X[0][2], X[0][3], X[0][4], model.predict(np.array([[X[0][0], X[0][1], X[0][2], X[0][3], X[0][4]]])), X[0][5]"
      ],
      "execution_count": 33,
      "outputs": [
        {
          "output_type": "execute_result",
          "data": {
            "text/plain": [
              "(array([50.12]),\n",
              " array([54.1]),\n",
              " array([54.65]),\n",
              " array([52.38]),\n",
              " array([52.95]),\n",
              " array([[52.469894]], dtype=float32),\n",
              " array([53.9]))"
            ]
          },
          "metadata": {
            "tags": []
          },
          "execution_count": 33
        }
      ]
    },
    {
      "cell_type": "code",
      "metadata": {
        "id": "P-PkNcmj9sgF",
        "colab_type": "code",
        "colab": {
          "base_uri": "https://localhost:8080/",
          "height": 268
        },
        "outputId": "35ff78d4-09e4-4e1b-8ccf-ab63249104fd"
      },
      "source": [
        "ye=model.predict(X)\n",
        "import matplotlib.pyplot as plt\n",
        "plt.plot(ye,color='blue')\n",
        "plt.plot(y,color='red')\n",
        "plt.show()"
      ],
      "execution_count": 34,
      "outputs": [
        {
          "output_type": "display_data",
          "data": {
            "image/png": "[encoded data removed]",
            "text/plain": [
              "<Figure size 432x288 with 1 Axes>"
            ]
          },
          "metadata": {
            "tags": []
          }
        }
      ]
    },
    {
      "cell_type": "code",
      "metadata": {
        "id": "SJHgPfEfW-br",
        "colab_type": "code",
        "colab": {
          "base_uri": "https://localhost:8080/",
          "height": 1000
        },
        "outputId": "88c17749-252e-4c50-93c2-ef61612e32e8"
      },
      "source": [
        "# Example using a Default Neural Network instead of LSTM Network. The result is terrible.\n",
        "\n",
        "model1 = tf.keras.Sequential()\n",
        "model1.add(tf.keras.layers.Dense(1000, activation='relu', input_shape=(None, 1)))\n",
        "model1.add(tf.keras.layers.Dense(1, activation=lambda x: x))\n",
        "\n",
        "model1.compile(optimizer='adam', loss='mse')\n",
        "\n",
        "model1.fit(X_train, y_train, epochs=100, verbose=True)\n",
        "\n",
        "model1.evaluate(X_test, y_test)"
      ],
      "execution_count": 48,
      "outputs": [
        {
          "output_type": "stream",
          "text": [
            "Train on 1876 samples\n",
            "Epoch 1/100\n",
            "1876/1876 [==============================] - 1s 402us/sample - loss: 7391.1935\n",
            "Epoch 2/100\n",
            "1876/1876 [==============================] - 0s 146us/sample - loss: 178.9784\n",
            "Epoch 3/100\n",
            "1876/1876 [==============================] - 0s 143us/sample - loss: 165.9232\n",
            "Epoch 4/100\n",
            "1876/1876 [==============================] - 0s 136us/sample - loss: 158.8149\n",
            "Epoch 5/100\n",
            "1876/1876 [==============================] - 0s 142us/sample - loss: 157.4934\n",
            "Epoch 6/100\n",
            "1876/1876 [==============================] - 0s 145us/sample - loss: 165.5580\n",
            "Epoch 7/100\n",
            "1876/1876 [==============================] - 0s 130us/sample - loss: 166.6896\n",
            "Epoch 8/100\n",
            "1876/1876 [==============================] - 0s 138us/sample - loss: 158.3200\n",
            "Epoch 9/100\n",
            "1876/1876 [==============================] - 0s 154us/sample - loss: 161.4313\n",
            "Epoch 10/100\n",
            "1876/1876 [==============================] - 0s 141us/sample - loss: 159.1509\n",
            "Epoch 11/100\n",
            "1876/1876 [==============================] - 0s 133us/sample - loss: 164.3945\n",
            "Epoch 12/100\n",
            "1876/1876 [==============================] - 0s 140us/sample - loss: 178.1679\n",
            "Epoch 13/100\n",
            "1876/1876 [==============================] - 0s 134us/sample - loss: 159.8202\n",
            "Epoch 14/100\n",
            "1876/1876 [==============================] - 0s 144us/sample - loss: 180.3295\n",
            "Epoch 15/100\n",
            "1876/1876 [==============================] - 0s 138us/sample - loss: 183.0410\n",
            "Epoch 16/100\n",
            "1876/1876 [==============================] - 0s 139us/sample - loss: 170.5067\n",
            "Epoch 17/100\n",
            "1876/1876 [==============================] - 0s 136us/sample - loss: 184.4725\n",
            "Epoch 18/100\n",
            "1876/1876 [==============================] - 0s 139us/sample - loss: 170.7991\n",
            "Epoch 19/100\n",
            "1876/1876 [==============================] - 0s 136us/sample - loss: 172.5980\n",
            "Epoch 20/100\n",
            "1876/1876 [==============================] - 0s 159us/sample - loss: 169.3840\n",
            "Epoch 21/100\n",
            "1876/1876 [==============================] - 0s 162us/sample - loss: 181.7924\n",
            "Epoch 22/100\n",
            "1876/1876 [==============================] - 0s 147us/sample - loss: 188.3277\n",
            "Epoch 23/100\n",
            "1876/1876 [==============================] - 0s 141us/sample - loss: 185.6512\n",
            "Epoch 24/100\n",
            "1876/1876 [==============================] - 0s 128us/sample - loss: 190.3376\n",
            "Epoch 25/100\n",
            "1876/1876 [==============================] - 0s 136us/sample - loss: 186.8859\n",
            "Epoch 26/100\n",
            "1876/1876 [==============================] - 0s 139us/sample - loss: 196.8242\n",
            "Epoch 27/100\n",
            "1876/1876 [==============================] - 0s 140us/sample - loss: 178.4514\n",
            "Epoch 28/100\n",
            "1876/1876 [==============================] - 0s 147us/sample - loss: 167.3308\n",
            "Epoch 29/100\n",
            "1876/1876 [==============================] - 0s 140us/sample - loss: 184.0410\n",
            "Epoch 30/100\n",
            "1876/1876 [==============================] - 0s 135us/sample - loss: 198.3622\n",
            "Epoch 31/100\n",
            "1876/1876 [==============================] - 0s 140us/sample - loss: 179.8524\n",
            "Epoch 32/100\n",
            "1876/1876 [==============================] - 0s 134us/sample - loss: 185.0433\n",
            "Epoch 33/100\n",
            "1876/1876 [==============================] - 0s 162us/sample - loss: 189.8444\n",
            "Epoch 34/100\n",
            "1876/1876 [==============================] - 0s 153us/sample - loss: 172.0296\n",
            "Epoch 35/100\n",
            "1876/1876 [==============================] - 0s 154us/sample - loss: 167.4392\n",
            "Epoch 36/100\n",
            "1876/1876 [==============================] - 0s 138us/sample - loss: 271.0653\n",
            "Epoch 37/100\n",
            "1876/1876 [==============================] - 0s 159us/sample - loss: 171.9157\n",
            "Epoch 38/100\n",
            "1876/1876 [==============================] - 0s 152us/sample - loss: 171.3347\n",
            "Epoch 39/100\n",
            "1876/1876 [==============================] - 0s 150us/sample - loss: 165.8323\n",
            "Epoch 40/100\n",
            "1876/1876 [==============================] - 0s 145us/sample - loss: 238.0606\n",
            "Epoch 41/100\n",
            "1876/1876 [==============================] - 0s 134us/sample - loss: 178.2784\n",
            "Epoch 42/100\n",
            "1876/1876 [==============================] - 0s 135us/sample - loss: 212.1704\n",
            "Epoch 43/100\n",
            "1876/1876 [==============================] - 0s 138us/sample - loss: 194.3137\n",
            "Epoch 44/100\n",
            "1876/1876 [==============================] - 0s 140us/sample - loss: 165.3330\n",
            "Epoch 45/100\n",
            "1876/1876 [==============================] - 0s 168us/sample - loss: 188.7656\n",
            "Epoch 46/100\n",
            "1876/1876 [==============================] - 0s 154us/sample - loss: 211.7472\n",
            "Epoch 47/100\n",
            "1876/1876 [==============================] - 0s 144us/sample - loss: 180.6008\n",
            "Epoch 48/100\n",
            "1876/1876 [==============================] - 0s 155us/sample - loss: 197.5942\n",
            "Epoch 49/100\n",
            "1876/1876 [==============================] - 0s 132us/sample - loss: 160.9850\n",
            "Epoch 50/100\n",
            "1876/1876 [==============================] - 0s 137us/sample - loss: 209.5151\n",
            "Epoch 51/100\n",
            "1876/1876 [==============================] - 0s 146us/sample - loss: 217.9061\n",
            "Epoch 52/100\n",
            "1876/1876 [==============================] - 0s 138us/sample - loss: 181.0586\n",
            "Epoch 53/100\n",
            "1876/1876 [==============================] - 0s 132us/sample - loss: 182.7468\n",
            "Epoch 54/100\n",
            "1876/1876 [==============================] - 0s 139us/sample - loss: 191.5530\n",
            "Epoch 55/100\n",
            "1876/1876 [==============================] - 0s 144us/sample - loss: 164.7693\n",
            "Epoch 56/100\n",
            "1876/1876 [==============================] - 0s 139us/sample - loss: 184.7624\n",
            "Epoch 57/100\n",
            "1876/1876 [==============================] - 0s 133us/sample - loss: 169.1566\n",
            "Epoch 58/100\n",
            "1876/1876 [==============================] - 0s 140us/sample - loss: 214.2619\n",
            "Epoch 59/100\n",
            "1876/1876 [==============================] - 0s 139us/sample - loss: 171.8634\n",
            "Epoch 60/100\n",
            "1876/1876 [==============================] - 0s 140us/sample - loss: 168.3226\n",
            "Epoch 61/100\n",
            "1876/1876 [==============================] - 0s 136us/sample - loss: 176.2197\n",
            "Epoch 62/100\n",
            "1876/1876 [==============================] - 0s 139us/sample - loss: 190.4138\n",
            "Epoch 63/100\n",
            "1876/1876 [==============================] - 0s 140us/sample - loss: 163.3277\n",
            "Epoch 64/100\n",
            "1876/1876 [==============================] - 0s 134us/sample - loss: 273.7738\n",
            "Epoch 65/100\n",
            "1876/1876 [==============================] - 0s 139us/sample - loss: 214.1745\n",
            "Epoch 66/100\n",
            "1876/1876 [==============================] - 0s 141us/sample - loss: 170.4358\n",
            "Epoch 67/100\n",
            "1876/1876 [==============================] - 0s 145us/sample - loss: 160.1631\n",
            "Epoch 68/100\n",
            "1876/1876 [==============================] - 0s 137us/sample - loss: 164.6340\n",
            "Epoch 69/100\n",
            "1876/1876 [==============================] - 0s 134us/sample - loss: 168.1040\n",
            "Epoch 70/100\n",
            "1876/1876 [==============================] - 0s 133us/sample - loss: 191.6844\n",
            "Epoch 71/100\n",
            "1876/1876 [==============================] - 0s 141us/sample - loss: 181.1433\n",
            "Epoch 72/100\n",
            "1876/1876 [==============================] - 0s 138us/sample - loss: 189.2232\n",
            "Epoch 73/100\n",
            "1876/1876 [==============================] - 0s 138us/sample - loss: 183.4852\n",
            "Epoch 74/100\n",
            "1876/1876 [==============================] - 0s 130us/sample - loss: 176.1598\n",
            "Epoch 75/100\n",
            "1876/1876 [==============================] - 0s 134us/sample - loss: 180.6844\n",
            "Epoch 76/100\n",
            "1876/1876 [==============================] - 0s 132us/sample - loss: 180.6138\n",
            "Epoch 77/100\n",
            "1876/1876 [==============================] - 0s 138us/sample - loss: 169.5300\n",
            "Epoch 78/100\n",
            "1876/1876 [==============================] - 0s 139us/sample - loss: 174.9607\n",
            "Epoch 79/100\n",
            "1876/1876 [==============================] - 0s 139us/sample - loss: 166.7392\n",
            "Epoch 80/100\n",
            "1876/1876 [==============================] - 0s 131us/sample - loss: 197.9246\n",
            "Epoch 81/100\n",
            "1876/1876 [==============================] - 0s 135us/sample - loss: 166.4394\n",
            "Epoch 82/100\n",
            "1876/1876 [==============================] - 0s 130us/sample - loss: 164.6234\n",
            "Epoch 83/100\n",
            "1876/1876 [==============================] - 0s 141us/sample - loss: 241.8426\n",
            "Epoch 84/100\n",
            "1876/1876 [==============================] - 0s 135us/sample - loss: 183.1791\n",
            "Epoch 85/100\n",
            "1876/1876 [==============================] - 0s 136us/sample - loss: 197.4335\n",
            "Epoch 86/100\n",
            "1876/1876 [==============================] - 0s 135us/sample - loss: 180.9390\n",
            "Epoch 87/100\n",
            "1876/1876 [==============================] - 0s 138us/sample - loss: 192.1338\n",
            "Epoch 88/100\n",
            "1876/1876 [==============================] - 0s 134us/sample - loss: 174.6005\n",
            "Epoch 89/100\n",
            "1876/1876 [==============================] - 0s 153us/sample - loss: 194.1545\n",
            "Epoch 90/100\n",
            "1876/1876 [==============================] - 0s 140us/sample - loss: 179.5915\n",
            "Epoch 91/100\n",
            "1876/1876 [==============================] - 0s 138us/sample - loss: 198.9345\n",
            "Epoch 92/100\n",
            "1876/1876 [==============================] - 0s 129us/sample - loss: 184.8821\n",
            "Epoch 93/100\n",
            "1876/1876 [==============================] - 0s 138us/sample - loss: 182.2736\n",
            "Epoch 94/100\n",
            "1876/1876 [==============================] - 0s 140us/sample - loss: 184.3332\n",
            "Epoch 95/100\n",
            "1876/1876 [==============================] - 0s 147us/sample - loss: 169.3698\n",
            "Epoch 96/100\n",
            "1876/1876 [==============================] - 0s 139us/sample - loss: 173.8056\n",
            "Epoch 97/100\n",
            "1876/1876 [==============================] - 0s 136us/sample - loss: 202.2436\n",
            "Epoch 98/100\n",
            "1876/1876 [==============================] - 0s 138us/sample - loss: 162.4639\n",
            "Epoch 99/100\n",
            "1876/1876 [==============================] - 0s 138us/sample - loss: 166.4308\n",
            "Epoch 100/100\n",
            "1876/1876 [==============================] - 0s 139us/sample - loss: 179.0470\n",
            "924/924 [==============================] - 0s 240us/sample - loss: 166.1257\n"
          ],
          "name": "stdout"
        },
        {
          "output_type": "execute_result",
          "data": {
            "text/plain": [
              "166.1257368475844"
            ]
          },
          "metadata": {
            "tags": []
          },
          "execution_count": 48
        }
      ]
    },
    {
      "cell_type": "code",
      "metadata": {
        "id": "XIqHSFH7dAnJ",
        "colab_type": "code",
        "colab": {
          "base_uri": "https://localhost:8080/",
          "height": 283
        },
        "outputId": "a90af9be-15cc-4148-a944-d4db96eda167"
      },
      "source": [
        "ye1=model1.predict(X)\n",
        "\n",
        "ye1[1]\n",
        "\n",
        "ye_test = []\n",
        "for i in range(len(ye1)):\n",
        "  ye_test.append(ye1[i][len(ye1[i]) - 1][0])\n",
        "\n",
        "ye_test[:3], ye1\n",
        "\n",
        "import matplotlib.pyplot as plt\n",
        "plt.plot(ye_test,color='blue')\n",
        "plt.plot(y,color='red')\n",
        "plt.show()\n",
        "\n",
        "ye1.shape, y.shape\n",
        "\n"
      ],
      "execution_count": 79,
      "outputs": [
        {
          "output_type": "display_data",
          "data": {
            "image/png": "[encoded data removed]",
            "text/plain": [
              "<Figure size 432x288 with 1 Axes>"
            ]
          },
          "metadata": {
            "tags": []
          }
        },
        {
          "output_type": "execute_result",
          "data": {
            "text/plain": [
              "((2800, 8, 1), (2800,))"
            ]
          },
          "metadata": {
            "tags": []
          },
          "execution_count": 79
        }
      ]
    }
  ]
}