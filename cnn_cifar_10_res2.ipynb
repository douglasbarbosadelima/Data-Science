{
  "nbformat": 4,
  "nbformat_minor": 0,
  "metadata": {
    "colab": {
      "name": "cnn_cifar_10_res2.ipynb",
      "provenance": [],
      "include_colab_link": true
    },
    "kernelspec": {
      "name": "python3",
      "display_name": "Python 3"
    },
    "accelerator": "GPU"
  },
  "cells": [
    {
      "cell_type": "markdown",
      "metadata": {
        "id": "view-in-github",
        "colab_type": "text"
      },
      "source": [
        "<a href=\"https://colab.research.google.com/github/douglasbarbosadelima/Data-Science/blob/master/cnn_cifar_10_res2.ipynb\" target=\"_parent\"><img src=\"https://colab.research.google.com/assets/colab-badge.svg\" alt=\"Open In Colab\"/></a>"
      ]
    },
    {
      "cell_type": "markdown",
      "metadata": {
        "id": "HK32P8jz17Gp",
        "colab_type": "text"
      },
      "source": [
        "Usando o Dataset Cifar 10 (classes) em uma CNN"
      ]
    },
    {
      "cell_type": "code",
      "metadata": {
        "id": "4Bu8Om2GQ5Wj",
        "colab_type": "code",
        "outputId": "506bee3f-ecaf-4550-9c0b-11f025cc678a",
        "colab": {
          "base_uri": "https://localhost:8080/",
          "height": 887
        }
      },
      "source": [
        "!pip install tensorflow-gpu==2.0.0 "
      ],
      "execution_count": 1,
      "outputs": [
        {
          "output_type": "stream",
          "text": [
            "Collecting tensorflow-gpu==2.0.0\n",
            "\u001b[?25l  Downloading https://files.pythonhosted.org/packages/25/44/47f0722aea081697143fbcf5d2aa60d1aee4aaacb5869aee2b568974777b/tensorflow_gpu-2.0.0-cp36-cp36m-manylinux2010_x86_64.whl (380.8MB)\n",
            "\u001b[K     |████████████████████████████████| 380.8MB 36kB/s \n",
            "\u001b[?25hRequirement already satisfied: keras-applications>=1.0.8 in /usr/local/lib/python3.6/dist-packages (from tensorflow-gpu==2.0.0) (1.0.8)\n",
            "Requirement already satisfied: numpy<2.0,>=1.16.0 in /usr/local/lib/python3.6/dist-packages (from tensorflow-gpu==2.0.0) (1.17.5)\n",
            "Requirement already satisfied: keras-preprocessing>=1.0.5 in /usr/local/lib/python3.6/dist-packages (from tensorflow-gpu==2.0.0) (1.1.0)\n",
            "Requirement already satisfied: astor>=0.6.0 in /usr/local/lib/python3.6/dist-packages (from tensorflow-gpu==2.0.0) (0.8.1)\n",
            "Requirement already satisfied: protobuf>=3.6.1 in /usr/local/lib/python3.6/dist-packages (from tensorflow-gpu==2.0.0) (3.10.0)\n",
            "Requirement already satisfied: google-pasta>=0.1.6 in /usr/local/lib/python3.6/dist-packages (from tensorflow-gpu==2.0.0) (0.1.8)\n",
            "Requirement already satisfied: opt-einsum>=2.3.2 in /usr/local/lib/python3.6/dist-packages (from tensorflow-gpu==2.0.0) (3.1.0)\n",
            "Collecting tensorboard<2.1.0,>=2.0.0\n",
            "\u001b[?25l  Downloading https://files.pythonhosted.org/packages/76/54/99b9d5d52d5cb732f099baaaf7740403e83fe6b0cedde940fabd2b13d75a/tensorboard-2.0.2-py3-none-any.whl (3.8MB)\n",
            "\u001b[K     |████████████████████████████████| 3.8MB 46.2MB/s \n",
            "\u001b[?25hRequirement already satisfied: wrapt>=1.11.1 in /usr/local/lib/python3.6/dist-packages (from tensorflow-gpu==2.0.0) (1.11.2)\n",
            "Requirement already satisfied: grpcio>=1.8.6 in /usr/local/lib/python3.6/dist-packages (from tensorflow-gpu==2.0.0) (1.27.1)\n",
            "Requirement already satisfied: wheel>=0.26 in /usr/local/lib/python3.6/dist-packages (from tensorflow-gpu==2.0.0) (0.34.2)\n",
            "Requirement already satisfied: termcolor>=1.1.0 in /usr/local/lib/python3.6/dist-packages (from tensorflow-gpu==2.0.0) (1.1.0)\n",
            "Collecting tensorflow-estimator<2.1.0,>=2.0.0\n",
            "\u001b[?25l  Downloading https://files.pythonhosted.org/packages/fc/08/8b927337b7019c374719145d1dceba21a8bb909b93b1ad6f8fb7d22c1ca1/tensorflow_estimator-2.0.1-py2.py3-none-any.whl (449kB)\n",
            "\u001b[K     |████████████████████████████████| 450kB 49.9MB/s \n",
            "\u001b[?25hRequirement already satisfied: gast==0.2.2 in /usr/local/lib/python3.6/dist-packages (from tensorflow-gpu==2.0.0) (0.2.2)\n",
            "Requirement already satisfied: six>=1.10.0 in /usr/local/lib/python3.6/dist-packages (from tensorflow-gpu==2.0.0) (1.12.0)\n",
            "Requirement already satisfied: absl-py>=0.7.0 in /usr/local/lib/python3.6/dist-packages (from tensorflow-gpu==2.0.0) (0.9.0)\n",
            "Requirement already satisfied: h5py in /usr/local/lib/python3.6/dist-packages (from keras-applications>=1.0.8->tensorflow-gpu==2.0.0) (2.8.0)\n",
            "Requirement already satisfied: setuptools in /usr/local/lib/python3.6/dist-packages (from protobuf>=3.6.1->tensorflow-gpu==2.0.0) (45.1.0)\n",
            "Requirement already satisfied: requests<3,>=2.21.0 in /usr/local/lib/python3.6/dist-packages (from tensorboard<2.1.0,>=2.0.0->tensorflow-gpu==2.0.0) (2.21.0)\n",
            "Requirement already satisfied: werkzeug>=0.11.15 in /usr/local/lib/python3.6/dist-packages (from tensorboard<2.1.0,>=2.0.0->tensorflow-gpu==2.0.0) (1.0.0)\n",
            "Requirement already satisfied: markdown>=2.6.8 in /usr/local/lib/python3.6/dist-packages (from tensorboard<2.1.0,>=2.0.0->tensorflow-gpu==2.0.0) (3.2.1)\n",
            "Requirement already satisfied: google-auth<2,>=1.6.3 in /usr/local/lib/python3.6/dist-packages (from tensorboard<2.1.0,>=2.0.0->tensorflow-gpu==2.0.0) (1.7.2)\n",
            "Requirement already satisfied: google-auth-oauthlib<0.5,>=0.4.1 in /usr/local/lib/python3.6/dist-packages (from tensorboard<2.1.0,>=2.0.0->tensorflow-gpu==2.0.0) (0.4.1)\n",
            "Requirement already satisfied: certifi>=2017.4.17 in /usr/local/lib/python3.6/dist-packages (from requests<3,>=2.21.0->tensorboard<2.1.0,>=2.0.0->tensorflow-gpu==2.0.0) (2019.11.28)\n",
            "Requirement already satisfied: idna<2.9,>=2.5 in /usr/local/lib/python3.6/dist-packages (from requests<3,>=2.21.0->tensorboard<2.1.0,>=2.0.0->tensorflow-gpu==2.0.0) (2.8)\n",
            "Requirement already satisfied: urllib3<1.25,>=1.21.1 in /usr/local/lib/python3.6/dist-packages (from requests<3,>=2.21.0->tensorboard<2.1.0,>=2.0.0->tensorflow-gpu==2.0.0) (1.24.3)\n",
            "Requirement already satisfied: chardet<3.1.0,>=3.0.2 in /usr/local/lib/python3.6/dist-packages (from requests<3,>=2.21.0->tensorboard<2.1.0,>=2.0.0->tensorflow-gpu==2.0.0) (3.0.4)\n",
            "Requirement already satisfied: pyasn1-modules>=0.2.1 in /usr/local/lib/python3.6/dist-packages (from google-auth<2,>=1.6.3->tensorboard<2.1.0,>=2.0.0->tensorflow-gpu==2.0.0) (0.2.8)\n",
            "Requirement already satisfied: cachetools<3.2,>=2.0.0 in /usr/local/lib/python3.6/dist-packages (from google-auth<2,>=1.6.3->tensorboard<2.1.0,>=2.0.0->tensorflow-gpu==2.0.0) (3.1.1)\n",
            "Requirement already satisfied: rsa<4.1,>=3.1.4 in /usr/local/lib/python3.6/dist-packages (from google-auth<2,>=1.6.3->tensorboard<2.1.0,>=2.0.0->tensorflow-gpu==2.0.0) (4.0)\n",
            "Requirement already satisfied: requests-oauthlib>=0.7.0 in /usr/local/lib/python3.6/dist-packages (from google-auth-oauthlib<0.5,>=0.4.1->tensorboard<2.1.0,>=2.0.0->tensorflow-gpu==2.0.0) (1.3.0)\n",
            "Requirement already satisfied: pyasn1<0.5.0,>=0.4.6 in /usr/local/lib/python3.6/dist-packages (from pyasn1-modules>=0.2.1->google-auth<2,>=1.6.3->tensorboard<2.1.0,>=2.0.0->tensorflow-gpu==2.0.0) (0.4.8)\n",
            "Requirement already satisfied: oauthlib>=3.0.0 in /usr/local/lib/python3.6/dist-packages (from requests-oauthlib>=0.7.0->google-auth-oauthlib<0.5,>=0.4.1->tensorboard<2.1.0,>=2.0.0->tensorflow-gpu==2.0.0) (3.1.0)\n",
            "\u001b[31mERROR: tensorflow 1.15.0 has requirement tensorboard<1.16.0,>=1.15.0, but you'll have tensorboard 2.0.2 which is incompatible.\u001b[0m\n",
            "\u001b[31mERROR: tensorflow 1.15.0 has requirement tensorflow-estimator==1.15.1, but you'll have tensorflow-estimator 2.0.1 which is incompatible.\u001b[0m\n",
            "Installing collected packages: tensorboard, tensorflow-estimator, tensorflow-gpu\n",
            "  Found existing installation: tensorboard 1.15.0\n",
            "    Uninstalling tensorboard-1.15.0:\n",
            "      Successfully uninstalled tensorboard-1.15.0\n",
            "  Found existing installation: tensorflow-estimator 1.15.1\n",
            "    Uninstalling tensorflow-estimator-1.15.1:\n",
            "      Successfully uninstalled tensorflow-estimator-1.15.1\n",
            "Successfully installed tensorboard-2.0.2 tensorflow-estimator-2.0.1 tensorflow-gpu-2.0.0\n"
          ],
          "name": "stdout"
        }
      ]
    },
    {
      "cell_type": "code",
      "metadata": {
        "id": "-fy4xT_SRHED",
        "colab_type": "code",
        "outputId": "ee72f14c-14e2-421f-a841-9b5ee7b5d5a8",
        "colab": {
          "base_uri": "https://localhost:8080/",
          "height": 34
        }
      },
      "source": [
        "import tensorflow as tf\n",
        "import numpy as np\n",
        "import matplotlib.pyplot as plt\n",
        "tf.__version__"
      ],
      "execution_count": 2,
      "outputs": [
        {
          "output_type": "execute_result",
          "data": {
            "text/plain": [
              "'2.0.0'"
            ]
          },
          "metadata": {
            "tags": []
          },
          "execution_count": 2
        }
      ]
    },
    {
      "cell_type": "markdown",
      "metadata": {
        "id": "A70Bfeh1R1uq",
        "colab_type": "text"
      },
      "source": [
        "Usando o dataset cifar 10 (10 classes)"
      ]
    },
    {
      "cell_type": "code",
      "metadata": {
        "id": "0gi789U5Rv39",
        "colab_type": "code",
        "outputId": "aa1531a8-8504-45ab-e3c8-ad3be6a79c3b",
        "colab": {
          "base_uri": "https://localhost:8080/",
          "height": 51
        }
      },
      "source": [
        "(x_train, y_train), (x_test, y_test) = tf.keras.datasets.cifar10.load_data()"
      ],
      "execution_count": 3,
      "outputs": [
        {
          "output_type": "stream",
          "text": [
            "Downloading data from https://www.cs.toronto.edu/~kriz/cifar-10-python.tar.gz\n",
            "170500096/170498071 [==============================] - 6s 0us/step\n"
          ],
          "name": "stdout"
        }
      ]
    },
    {
      "cell_type": "code",
      "metadata": {
        "id": "936qfAj7R7NV",
        "colab_type": "code",
        "outputId": "5c2133b7-d9e8-48dc-f45f-35bf6fcd9642",
        "colab": {
          "base_uri": "https://localhost:8080/",
          "height": 34
        }
      },
      "source": [
        "x_train.shape,y_train.shape,x_test.shape,y_test.shape"
      ],
      "execution_count": 4,
      "outputs": [
        {
          "output_type": "execute_result",
          "data": {
            "text/plain": [
              "((50000, 32, 32, 3), (50000, 1), (10000, 32, 32, 3), (10000, 1))"
            ]
          },
          "metadata": {
            "tags": []
          },
          "execution_count": 4
        }
      ]
    },
    {
      "cell_type": "code",
      "metadata": {
        "id": "VMPd6D1QSJOG",
        "colab_type": "code",
        "outputId": "b8c9f878-ef9d-409e-a7c9-455b18c94deb",
        "colab": {
          "base_uri": "https://localhost:8080/",
          "height": 34
        }
      },
      "source": [
        "y_train[0]"
      ],
      "execution_count": 5,
      "outputs": [
        {
          "output_type": "execute_result",
          "data": {
            "text/plain": [
              "array([6], dtype=uint8)"
            ]
          },
          "metadata": {
            "tags": []
          },
          "execution_count": 5
        }
      ]
    },
    {
      "cell_type": "code",
      "metadata": {
        "id": "cnOXAk3PSkL5",
        "colab_type": "code",
        "colab": {}
      },
      "source": [
        "class_names = ['airplane', 'automobile', 'bird', 'cat', 'deer',\n",
        "               'dog', 'frog', 'horse', 'ship', 'truck']\n"
      ],
      "execution_count": 0,
      "outputs": []
    },
    {
      "cell_type": "code",
      "metadata": {
        "id": "cVhkuQc5SoZ8",
        "colab_type": "code",
        "outputId": "52ecac07-f113-4c88-9861-8375f73c662e",
        "colab": {
          "base_uri": "https://localhost:8080/",
          "height": 283
        }
      },
      "source": [
        "plt.imshow(x_train[6])"
      ],
      "execution_count": 7,
      "outputs": [
        {
          "output_type": "execute_result",
          "data": {
            "text/plain": [
              "<matplotlib.image.AxesImage at 0x7f719051f710>"
            ]
          },
          "metadata": {
            "tags": []
          },
          "execution_count": 7
        },
        {
          "output_type": "display_data",
          "data": {
            "image/png": "[encoded data removed]",
            "text/plain": [
              "<Figure size 432x288 with 1 Axes>"
            ]
          },
          "metadata": {
            "tags": []
          }
        }
      ]
    },
    {
      "cell_type": "markdown",
      "metadata": {
        "id": "2qOV2z3cUSHy",
        "colab_type": "text"
      },
      "source": [
        "Verificando balanceamento entre as classes"
      ]
    },
    {
      "cell_type": "code",
      "metadata": {
        "id": "Z3PI-MScTHmY",
        "colab_type": "code",
        "outputId": "c0ac8dfd-10cd-44cc-aaec-26839ebf297e",
        "colab": {
          "base_uri": "https://localhost:8080/",
          "height": 34
        }
      },
      "source": [
        "lytr=list(y_train)\n",
        "[lytr.count(i) for i in range(10)]"
      ],
      "execution_count": 8,
      "outputs": [
        {
          "output_type": "execute_result",
          "data": {
            "text/plain": [
              "[5000, 5000, 5000, 5000, 5000, 5000, 5000, 5000, 5000, 5000]"
            ]
          },
          "metadata": {
            "tags": []
          },
          "execution_count": 8
        }
      ]
    },
    {
      "cell_type": "code",
      "metadata": {
        "id": "xe3xYTnIUHtH",
        "colab_type": "code",
        "outputId": "9e8f9a91-b04a-464d-b3b3-5ca5f27c2c1d",
        "colab": {
          "base_uri": "https://localhost:8080/",
          "height": 34
        }
      },
      "source": [
        "lyts=list(y_test)\n",
        "[lyts.count(i) for i in range(10)]"
      ],
      "execution_count": 9,
      "outputs": [
        {
          "output_type": "execute_result",
          "data": {
            "text/plain": [
              "[1000, 1000, 1000, 1000, 1000, 1000, 1000, 1000, 1000, 1000]"
            ]
          },
          "metadata": {
            "tags": []
          },
          "execution_count": 9
        }
      ]
    },
    {
      "cell_type": "code",
      "metadata": {
        "id": "DAfS_8pfVmvN",
        "colab_type": "code",
        "colab": {}
      },
      "source": [
        "#one-hot encode target column\n",
        "y_train_enc = tf.keras.utils.to_categorical(y_train)\n",
        "y_test_enc = tf.keras.utils.to_categorical(y_test)"
      ],
      "execution_count": 0,
      "outputs": []
    },
    {
      "cell_type": "code",
      "metadata": {
        "id": "PsqmUWWeUeT8",
        "colab_type": "code",
        "colab": {}
      },
      "source": [
        "model=tf.keras.Sequential()\n",
        "model.add(tf.keras.layers.Convolution2D(80,kernel_size=3, activation='relu', input_shape=(32,32,3),use_bias=False))\n",
        "model.add(tf.keras.layers.MaxPool2D(pool_size=(2, 2)))\n",
        "model.add(tf.keras.layers.Dropout(0.10))\n",
        "model.add(tf.keras.layers.Convolution2D(80,kernel_size=3, activation='relu',use_bias=False))\n",
        "model.add(tf.keras.layers.MaxPool2D(pool_size=(2, 2)))\n",
        "model.add(tf.keras.layers.Dropout(0.10))\n",
        "model.add(tf.keras.layers.Convolution2D(80,kernel_size=3, activation='relu',use_bias=False))\n",
        "model.add(tf.keras.layers.MaxPool2D(pool_size=(2, 2)))\n",
        "model.add(tf.keras.layers.Dropout(0.10))\n",
        "model.add(tf.keras.layers.Flatten())\n",
        "#model.add(tf.keras.layers.Dropout(0.10))\n",
        "model.add(tf.keras.layers.Dense(50, activation='relu',kernel_regularizer=tf.keras.regularizers.l2(0.01)))\n",
        "model.add(tf.keras.layers.Dropout(0.10))\n",
        "model.add(tf.keras.layers.Dense(40, activation='relu',kernel_regularizer=tf.keras.regularizers.l2(0.01)))\n",
        "model.add(tf.keras.layers.Dense(10, activation='softmax'))"
      ],
      "execution_count": 0,
      "outputs": []
    },
    {
      "cell_type": "code",
      "metadata": {
        "id": "gJgWy0APdWIv",
        "colab_type": "code",
        "outputId": "8262856c-1744-4d91-b036-44822a8f643f",
        "colab": {
          "base_uri": "https://localhost:8080/",
          "height": 629
        }
      },
      "source": [
        "model.summary()"
      ],
      "execution_count": 12,
      "outputs": [
        {
          "output_type": "stream",
          "text": [
            "Model: \"sequential\"\n",
            "_________________________________________________________________\n",
            "Layer (type)                 Output Shape              Param #   \n",
            "=================================================================\n",
            "conv2d (Conv2D)              (None, 30, 30, 80)        2160      \n",
            "_________________________________________________________________\n",
            "max_pooling2d (MaxPooling2D) (None, 15, 15, 80)        0         \n",
            "_________________________________________________________________\n",
            "dropout (Dropout)            (None, 15, 15, 80)        0         \n",
            "_________________________________________________________________\n",
            "conv2d_1 (Conv2D)            (None, 13, 13, 80)        57600     \n",
            "_________________________________________________________________\n",
            "max_pooling2d_1 (MaxPooling2 (None, 6, 6, 80)          0         \n",
            "_________________________________________________________________\n",
            "dropout_1 (Dropout)          (None, 6, 6, 80)          0         \n",
            "_________________________________________________________________\n",
            "conv2d_2 (Conv2D)            (None, 4, 4, 80)          57600     \n",
            "_________________________________________________________________\n",
            "max_pooling2d_2 (MaxPooling2 (None, 2, 2, 80)          0         \n",
            "_________________________________________________________________\n",
            "dropout_2 (Dropout)          (None, 2, 2, 80)          0         \n",
            "_________________________________________________________________\n",
            "flatten (Flatten)            (None, 320)               0         \n",
            "_________________________________________________________________\n",
            "dense (Dense)                (None, 50)                16050     \n",
            "_________________________________________________________________\n",
            "dropout_3 (Dropout)          (None, 50)                0         \n",
            "_________________________________________________________________\n",
            "dense_1 (Dense)              (None, 40)                2040      \n",
            "_________________________________________________________________\n",
            "dense_2 (Dense)              (None, 10)                410       \n",
            "=================================================================\n",
            "Total params: 135,860\n",
            "Trainable params: 135,860\n",
            "Non-trainable params: 0\n",
            "_________________________________________________________________\n"
          ],
          "name": "stdout"
        }
      ]
    },
    {
      "cell_type": "code",
      "metadata": {
        "id": "C50luz0WVMEd",
        "colab_type": "code",
        "colab": {}
      },
      "source": [
        "#compile model using accuracy to measure model performance\n",
        "model.compile(optimizer='adam', loss=tf.keras.losses.categorical_crossentropy, metrics=['accuracy'])"
      ],
      "execution_count": 0,
      "outputs": []
    },
    {
      "cell_type": "code",
      "metadata": {
        "id": "ZSuZXwyGVNzL",
        "colab_type": "code",
        "outputId": "1b05e87c-d06a-4894-d6b6-fe33d85acedc",
        "colab": {
          "base_uri": "https://localhost:8080/",
          "height": 1000
        }
      },
      "source": [
        "hist=model.fit(x_train, y_train_enc, validation_data=(x_test, y_test_enc), epochs=100)"
      ],
      "execution_count": 14,
      "outputs": [
        {
          "output_type": "stream",
          "text": [
            "Train on 50000 samples, validate on 10000 samples\n",
            "Epoch 1/100\n",
            "50000/50000 [==============================] - 16s 322us/sample - loss: 2.5965 - accuracy: 0.3089 - val_loss: 1.8791 - val_accuracy: 0.4473\n",
            "Epoch 2/100\n",
            "50000/50000 [==============================] - 8s 166us/sample - loss: 1.6328 - accuracy: 0.4901 - val_loss: 1.4800 - val_accuracy: 0.5313\n",
            "Epoch 3/100\n",
            "50000/50000 [==============================] - 9s 171us/sample - loss: 1.3646 - accuracy: 0.5554 - val_loss: 1.2170 - val_accuracy: 0.6039\n",
            "Epoch 4/100\n",
            "50000/50000 [==============================] - 8s 167us/sample - loss: 1.2469 - accuracy: 0.5921 - val_loss: 1.1890 - val_accuracy: 0.6191\n",
            "Epoch 5/100\n",
            "50000/50000 [==============================] - 8s 167us/sample - loss: 1.1759 - accuracy: 0.6199 - val_loss: 1.0670 - val_accuracy: 0.6591\n",
            "Epoch 6/100\n",
            "50000/50000 [==============================] - 8s 165us/sample - loss: 1.1155 - accuracy: 0.6396 - val_loss: 1.0235 - val_accuracy: 0.6820\n",
            "Epoch 7/100\n",
            "50000/50000 [==============================] - 8s 168us/sample - loss: 1.0745 - accuracy: 0.6542 - val_loss: 1.0146 - val_accuracy: 0.6815\n",
            "Epoch 8/100\n",
            "50000/50000 [==============================] - 8s 164us/sample - loss: 1.0430 - accuracy: 0.6676 - val_loss: 1.0295 - val_accuracy: 0.6787\n",
            "Epoch 9/100\n",
            "50000/50000 [==============================] - 8s 165us/sample - loss: 1.0078 - accuracy: 0.6815 - val_loss: 0.9846 - val_accuracy: 0.6884\n",
            "Epoch 10/100\n",
            "50000/50000 [==============================] - 8s 166us/sample - loss: 0.9926 - accuracy: 0.6869 - val_loss: 0.9276 - val_accuracy: 0.7108\n",
            "Epoch 11/100\n",
            "50000/50000 [==============================] - 8s 162us/sample - loss: 0.9712 - accuracy: 0.6934 - val_loss: 0.9368 - val_accuracy: 0.7131\n",
            "Epoch 12/100\n",
            "50000/50000 [==============================] - 8s 161us/sample - loss: 0.9480 - accuracy: 0.7038 - val_loss: 0.9275 - val_accuracy: 0.7127\n",
            "Epoch 13/100\n",
            "50000/50000 [==============================] - 8s 165us/sample - loss: 0.9266 - accuracy: 0.7103 - val_loss: 0.9148 - val_accuracy: 0.7171\n",
            "Epoch 14/100\n",
            "50000/50000 [==============================] - 8s 165us/sample - loss: 0.9167 - accuracy: 0.7144 - val_loss: 0.9562 - val_accuracy: 0.7038\n",
            "Epoch 15/100\n",
            "50000/50000 [==============================] - 8s 162us/sample - loss: 0.9031 - accuracy: 0.7215 - val_loss: 0.8893 - val_accuracy: 0.7298\n",
            "Epoch 16/100\n",
            "50000/50000 [==============================] - 8s 162us/sample - loss: 0.8936 - accuracy: 0.7232 - val_loss: 0.9041 - val_accuracy: 0.7233\n",
            "Epoch 17/100\n",
            "50000/50000 [==============================] - 8s 165us/sample - loss: 0.8792 - accuracy: 0.7299 - val_loss: 0.9746 - val_accuracy: 0.7010\n",
            "Epoch 18/100\n",
            "50000/50000 [==============================] - 8s 163us/sample - loss: 0.8693 - accuracy: 0.7313 - val_loss: 0.8972 - val_accuracy: 0.7292\n",
            "Epoch 19/100\n",
            "50000/50000 [==============================] - 8s 169us/sample - loss: 0.8619 - accuracy: 0.7352 - val_loss: 0.9445 - val_accuracy: 0.7134\n",
            "Epoch 20/100\n",
            "50000/50000 [==============================] - 8s 165us/sample - loss: 0.8391 - accuracy: 0.7426 - val_loss: 0.8838 - val_accuracy: 0.7318\n",
            "Epoch 21/100\n",
            "50000/50000 [==============================] - 8s 168us/sample - loss: 0.8404 - accuracy: 0.7429 - val_loss: 0.8869 - val_accuracy: 0.7332\n",
            "Epoch 22/100\n",
            "50000/50000 [==============================] - 8s 163us/sample - loss: 0.8251 - accuracy: 0.7480 - val_loss: 0.8925 - val_accuracy: 0.7286\n",
            "Epoch 23/100\n",
            "50000/50000 [==============================] - 8s 162us/sample - loss: 0.8155 - accuracy: 0.7521 - val_loss: 0.8909 - val_accuracy: 0.7324\n",
            "Epoch 24/100\n",
            "50000/50000 [==============================] - 8s 163us/sample - loss: 0.8136 - accuracy: 0.7531 - val_loss: 0.8930 - val_accuracy: 0.7242\n",
            "Epoch 25/100\n",
            "50000/50000 [==============================] - 8s 162us/sample - loss: 0.8115 - accuracy: 0.7538 - val_loss: 0.8880 - val_accuracy: 0.7323\n",
            "Epoch 26/100\n",
            "50000/50000 [==============================] - 8s 162us/sample - loss: 0.8015 - accuracy: 0.7550 - val_loss: 0.9171 - val_accuracy: 0.7190\n",
            "Epoch 27/100\n",
            "50000/50000 [==============================] - 8s 161us/sample - loss: 0.7913 - accuracy: 0.7618 - val_loss: 0.8733 - val_accuracy: 0.7337\n",
            "Epoch 28/100\n",
            "50000/50000 [==============================] - 8s 163us/sample - loss: 0.7904 - accuracy: 0.7595 - val_loss: 0.8841 - val_accuracy: 0.7410\n",
            "Epoch 29/100\n",
            "50000/50000 [==============================] - 8s 165us/sample - loss: 0.7783 - accuracy: 0.7647 - val_loss: 0.8722 - val_accuracy: 0.7375\n",
            "Epoch 30/100\n",
            "50000/50000 [==============================] - 8s 161us/sample - loss: 0.7694 - accuracy: 0.7671 - val_loss: 0.8787 - val_accuracy: 0.7422\n",
            "Epoch 31/100\n",
            "50000/50000 [==============================] - 8s 160us/sample - loss: 0.7661 - accuracy: 0.7703 - val_loss: 0.8708 - val_accuracy: 0.7379\n",
            "Epoch 32/100\n",
            "50000/50000 [==============================] - 8s 162us/sample - loss: 0.7626 - accuracy: 0.7690 - val_loss: 0.8438 - val_accuracy: 0.7517\n",
            "Epoch 33/100\n",
            "50000/50000 [==============================] - 8s 161us/sample - loss: 0.7572 - accuracy: 0.7712 - val_loss: 0.8408 - val_accuracy: 0.7541\n",
            "Epoch 34/100\n",
            "50000/50000 [==============================] - 8s 161us/sample - loss: 0.7575 - accuracy: 0.7728 - val_loss: 0.8844 - val_accuracy: 0.7415\n",
            "Epoch 35/100\n",
            "50000/50000 [==============================] - 8s 163us/sample - loss: 0.7481 - accuracy: 0.7744 - val_loss: 0.8712 - val_accuracy: 0.7473\n",
            "Epoch 36/100\n",
            "50000/50000 [==============================] - 8s 165us/sample - loss: 0.7401 - accuracy: 0.7779 - val_loss: 0.8718 - val_accuracy: 0.7489\n",
            "Epoch 37/100\n",
            "50000/50000 [==============================] - 8s 161us/sample - loss: 0.7435 - accuracy: 0.7791 - val_loss: 0.8467 - val_accuracy: 0.7536\n",
            "Epoch 38/100\n",
            "50000/50000 [==============================] - 8s 162us/sample - loss: 0.7318 - accuracy: 0.7802 - val_loss: 0.8525 - val_accuracy: 0.7471\n",
            "Epoch 39/100\n",
            "50000/50000 [==============================] - 8s 162us/sample - loss: 0.7257 - accuracy: 0.7831 - val_loss: 0.8635 - val_accuracy: 0.7447\n",
            "Epoch 40/100\n",
            "50000/50000 [==============================] - 8s 164us/sample - loss: 0.7221 - accuracy: 0.7845 - val_loss: 0.8503 - val_accuracy: 0.7485\n",
            "Epoch 41/100\n",
            "50000/50000 [==============================] - 8s 162us/sample - loss: 0.7164 - accuracy: 0.7873 - val_loss: 0.8436 - val_accuracy: 0.7580\n",
            "Epoch 42/100\n",
            "50000/50000 [==============================] - 8s 160us/sample - loss: 0.7202 - accuracy: 0.7871 - val_loss: 0.8626 - val_accuracy: 0.7483\n",
            "Epoch 43/100\n",
            "50000/50000 [==============================] - 8s 162us/sample - loss: 0.7183 - accuracy: 0.7880 - val_loss: 0.8629 - val_accuracy: 0.7517\n",
            "Epoch 44/100\n",
            "50000/50000 [==============================] - 8s 163us/sample - loss: 0.7109 - accuracy: 0.7902 - val_loss: 0.8470 - val_accuracy: 0.7531\n",
            "Epoch 45/100\n",
            "50000/50000 [==============================] - 8s 160us/sample - loss: 0.7127 - accuracy: 0.7874 - val_loss: 0.8553 - val_accuracy: 0.7466\n",
            "Epoch 46/100\n",
            "50000/50000 [==============================] - 8s 159us/sample - loss: 0.7100 - accuracy: 0.7889 - val_loss: 0.8691 - val_accuracy: 0.7500\n",
            "Epoch 47/100\n",
            "50000/50000 [==============================] - 8s 161us/sample - loss: 0.6996 - accuracy: 0.7934 - val_loss: 0.8500 - val_accuracy: 0.7562\n",
            "Epoch 48/100\n",
            "50000/50000 [==============================] - 8s 160us/sample - loss: 0.6932 - accuracy: 0.7951 - val_loss: 0.8349 - val_accuracy: 0.7589\n",
            "Epoch 49/100\n",
            "50000/50000 [==============================] - 8s 159us/sample - loss: 0.6872 - accuracy: 0.7952 - val_loss: 0.8944 - val_accuracy: 0.7401\n",
            "Epoch 50/100\n",
            "50000/50000 [==============================] - 8s 161us/sample - loss: 0.6904 - accuracy: 0.7934 - val_loss: 0.8704 - val_accuracy: 0.7526\n",
            "Epoch 51/100\n",
            "50000/50000 [==============================] - 8s 163us/sample - loss: 0.6801 - accuracy: 0.7970 - val_loss: 0.8573 - val_accuracy: 0.7557\n",
            "Epoch 52/100\n",
            "50000/50000 [==============================] - 8s 160us/sample - loss: 0.6749 - accuracy: 0.8027 - val_loss: 0.8520 - val_accuracy: 0.7565\n",
            "Epoch 53/100\n",
            "50000/50000 [==============================] - 8s 160us/sample - loss: 0.6846 - accuracy: 0.7991 - val_loss: 0.8295 - val_accuracy: 0.7533\n",
            "Epoch 54/100\n",
            "50000/50000 [==============================] - 8s 160us/sample - loss: 0.6711 - accuracy: 0.8025 - val_loss: 0.8261 - val_accuracy: 0.7629\n",
            "Epoch 55/100\n",
            "50000/50000 [==============================] - 8s 158us/sample - loss: 0.6753 - accuracy: 0.8011 - val_loss: 0.8611 - val_accuracy: 0.7532\n",
            "Epoch 56/100\n",
            "50000/50000 [==============================] - 8s 157us/sample - loss: 0.6698 - accuracy: 0.8027 - val_loss: 0.8704 - val_accuracy: 0.7531\n",
            "Epoch 57/100\n",
            "50000/50000 [==============================] - 8s 164us/sample - loss: 0.6714 - accuracy: 0.8034 - val_loss: 0.8824 - val_accuracy: 0.7486\n",
            "Epoch 58/100\n",
            "50000/50000 [==============================] - 8s 166us/sample - loss: 0.6737 - accuracy: 0.8032 - val_loss: 0.8688 - val_accuracy: 0.7511\n",
            "Epoch 59/100\n",
            "50000/50000 [==============================] - 8s 161us/sample - loss: 0.6752 - accuracy: 0.8022 - val_loss: 0.8522 - val_accuracy: 0.7546\n",
            "Epoch 60/100\n",
            "50000/50000 [==============================] - 8s 161us/sample - loss: 0.6630 - accuracy: 0.8069 - val_loss: 0.8620 - val_accuracy: 0.7518\n",
            "Epoch 61/100\n",
            "50000/50000 [==============================] - 8s 159us/sample - loss: 0.6629 - accuracy: 0.8076 - val_loss: 0.9014 - val_accuracy: 0.7437\n",
            "Epoch 62/100\n",
            "50000/50000 [==============================] - 8s 159us/sample - loss: 0.6573 - accuracy: 0.8078 - val_loss: 0.8709 - val_accuracy: 0.7537\n",
            "Epoch 63/100\n",
            "50000/50000 [==============================] - 8s 158us/sample - loss: 0.6528 - accuracy: 0.8101 - val_loss: 0.8376 - val_accuracy: 0.7554\n",
            "Epoch 64/100\n",
            "50000/50000 [==============================] - 8s 158us/sample - loss: 0.6508 - accuracy: 0.8104 - val_loss: 0.8770 - val_accuracy: 0.7604\n",
            "Epoch 65/100\n",
            "50000/50000 [==============================] - 8s 160us/sample - loss: 0.6525 - accuracy: 0.8089 - val_loss: 0.8493 - val_accuracy: 0.7605\n",
            "Epoch 66/100\n",
            "50000/50000 [==============================] - 8s 161us/sample - loss: 0.6479 - accuracy: 0.8121 - val_loss: 0.9003 - val_accuracy: 0.7474\n",
            "Epoch 67/100\n",
            "50000/50000 [==============================] - 8s 160us/sample - loss: 0.6470 - accuracy: 0.8136 - val_loss: 0.8505 - val_accuracy: 0.7625\n",
            "Epoch 68/100\n",
            "50000/50000 [==============================] - 8s 159us/sample - loss: 0.6433 - accuracy: 0.8130 - val_loss: 0.8416 - val_accuracy: 0.7592\n",
            "Epoch 69/100\n",
            "50000/50000 [==============================] - 8s 160us/sample - loss: 0.6422 - accuracy: 0.8124 - val_loss: 0.8612 - val_accuracy: 0.7567\n",
            "Epoch 70/100\n",
            "50000/50000 [==============================] - 8s 160us/sample - loss: 0.6410 - accuracy: 0.8159 - val_loss: 0.8667 - val_accuracy: 0.7532\n",
            "Epoch 71/100\n",
            "50000/50000 [==============================] - 8s 160us/sample - loss: 0.6364 - accuracy: 0.8152 - val_loss: 0.8556 - val_accuracy: 0.7565\n",
            "Epoch 72/100\n",
            "50000/50000 [==============================] - 8s 157us/sample - loss: 0.6371 - accuracy: 0.8139 - val_loss: 0.8458 - val_accuracy: 0.7565\n",
            "Epoch 73/100\n",
            "50000/50000 [==============================] - 8s 159us/sample - loss: 0.6346 - accuracy: 0.8155 - val_loss: 0.8440 - val_accuracy: 0.7608\n",
            "Epoch 74/100\n",
            "50000/50000 [==============================] - 8s 162us/sample - loss: 0.6360 - accuracy: 0.8170 - val_loss: 0.8953 - val_accuracy: 0.7453\n",
            "Epoch 75/100\n",
            "50000/50000 [==============================] - 8s 159us/sample - loss: 0.6295 - accuracy: 0.8187 - val_loss: 0.8683 - val_accuracy: 0.7538\n",
            "Epoch 76/100\n",
            "50000/50000 [==============================] - 8s 158us/sample - loss: 0.6282 - accuracy: 0.8196 - val_loss: 0.8724 - val_accuracy: 0.7564\n",
            "Epoch 77/100\n",
            "50000/50000 [==============================] - 8s 159us/sample - loss: 0.6252 - accuracy: 0.8222 - val_loss: 0.8590 - val_accuracy: 0.7644\n",
            "Epoch 78/100\n",
            "50000/50000 [==============================] - 8s 160us/sample - loss: 0.6217 - accuracy: 0.8223 - val_loss: 0.9315 - val_accuracy: 0.7319\n",
            "Epoch 79/100\n",
            "50000/50000 [==============================] - 8s 161us/sample - loss: 0.6239 - accuracy: 0.8195 - val_loss: 0.8380 - val_accuracy: 0.7620\n",
            "Epoch 80/100\n",
            "50000/50000 [==============================] - 8s 161us/sample - loss: 0.6176 - accuracy: 0.8210 - val_loss: 0.8962 - val_accuracy: 0.7438\n",
            "Epoch 81/100\n",
            "50000/50000 [==============================] - 8s 161us/sample - loss: 0.6234 - accuracy: 0.8205 - val_loss: 0.8546 - val_accuracy: 0.7706\n",
            "Epoch 82/100\n",
            "50000/50000 [==============================] - 8s 157us/sample - loss: 0.6232 - accuracy: 0.8193 - val_loss: 0.8511 - val_accuracy: 0.7628\n",
            "Epoch 83/100\n",
            "50000/50000 [==============================] - 8s 158us/sample - loss: 0.6083 - accuracy: 0.8250 - val_loss: 0.8657 - val_accuracy: 0.7593\n",
            "Epoch 84/100\n",
            "50000/50000 [==============================] - 8s 158us/sample - loss: 0.6147 - accuracy: 0.8242 - val_loss: 0.8707 - val_accuracy: 0.7553\n",
            "Epoch 85/100\n",
            "50000/50000 [==============================] - 8s 160us/sample - loss: 0.6114 - accuracy: 0.8256 - val_loss: 0.9052 - val_accuracy: 0.7558\n",
            "Epoch 86/100\n",
            "50000/50000 [==============================] - 8s 157us/sample - loss: 0.6173 - accuracy: 0.8235 - val_loss: 0.8443 - val_accuracy: 0.7636\n",
            "Epoch 87/100\n",
            "50000/50000 [==============================] - 8s 157us/sample - loss: 0.6044 - accuracy: 0.8254 - val_loss: 0.8926 - val_accuracy: 0.7475\n",
            "Epoch 88/100\n",
            "50000/50000 [==============================] - 8s 158us/sample - loss: 0.6077 - accuracy: 0.8246 - val_loss: 0.8723 - val_accuracy: 0.7574\n",
            "Epoch 89/100\n",
            "50000/50000 [==============================] - 8s 159us/sample - loss: 0.6099 - accuracy: 0.8252 - val_loss: 0.8688 - val_accuracy: 0.7590\n",
            "Epoch 90/100\n",
            "50000/50000 [==============================] - 8s 156us/sample - loss: 0.6067 - accuracy: 0.8258 - val_loss: 0.8528 - val_accuracy: 0.7661\n",
            "Epoch 91/100\n",
            "50000/50000 [==============================] - 8s 158us/sample - loss: 0.6006 - accuracy: 0.8285 - val_loss: 0.8706 - val_accuracy: 0.7588\n",
            "Epoch 92/100\n",
            "50000/50000 [==============================] - 8s 159us/sample - loss: 0.5997 - accuracy: 0.8296 - val_loss: 0.9012 - val_accuracy: 0.7521\n",
            "Epoch 93/100\n",
            "50000/50000 [==============================] - 8s 156us/sample - loss: 0.6046 - accuracy: 0.8289 - val_loss: 0.8661 - val_accuracy: 0.7581\n",
            "Epoch 94/100\n",
            "50000/50000 [==============================] - 8s 156us/sample - loss: 0.5960 - accuracy: 0.8292 - val_loss: 0.8935 - val_accuracy: 0.7590\n",
            "Epoch 95/100\n",
            "50000/50000 [==============================] - 8s 158us/sample - loss: 0.5982 - accuracy: 0.8304 - val_loss: 0.9510 - val_accuracy: 0.7423\n",
            "Epoch 96/100\n",
            "50000/50000 [==============================] - 8s 163us/sample - loss: 0.5980 - accuracy: 0.8310 - val_loss: 0.8563 - val_accuracy: 0.7605\n",
            "Epoch 97/100\n",
            "50000/50000 [==============================] - 8s 159us/sample - loss: 0.6043 - accuracy: 0.8278 - val_loss: 0.8835 - val_accuracy: 0.7597\n",
            "Epoch 98/100\n",
            "50000/50000 [==============================] - 8s 155us/sample - loss: 0.5982 - accuracy: 0.8280 - val_loss: 0.8926 - val_accuracy: 0.7542\n",
            "Epoch 99/100\n",
            "50000/50000 [==============================] - 8s 156us/sample - loss: 0.5920 - accuracy: 0.8299 - val_loss: 0.8461 - val_accuracy: 0.7636\n",
            "Epoch 100/100\n",
            "50000/50000 [==============================] - 8s 158us/sample - loss: 0.5922 - accuracy: 0.8312 - val_loss: 0.8767 - val_accuracy: 0.7558\n"
          ],
          "name": "stdout"
        }
      ]
    },
    {
      "cell_type": "code",
      "metadata": {
        "id": "tNbwybKacDVB",
        "colab_type": "code",
        "outputId": "c49d46b5-068e-4ae2-f7a5-64d6605b09e4",
        "colab": {
          "base_uri": "https://localhost:8080/",
          "height": 265
        }
      },
      "source": [
        "plt.plot(hist.history['accuracy'])\n",
        "plt.plot(hist.history['val_accuracy'])\n",
        "plt.show()"
      ],
      "execution_count": 15,
      "outputs": [
        {
          "output_type": "display_data",
          "data": {
            "image/png": "[encoded data removed]",
            "text/plain": [
              "<Figure size 432x288 with 1 Axes>"
            ]
          },
          "metadata": {
            "tags": []
          }
        }
      ]
    },
    {
      "cell_type": "code",
      "metadata": {
        "id": "cEWdLLZGcPAR",
        "colab_type": "code",
        "outputId": "62960086-5a5b-469f-c845-ae89e66f4fe9",
        "colab": {
          "base_uri": "https://localhost:8080/",
          "height": 265
        }
      },
      "source": [
        "plt.plot(hist.history['loss'])\n",
        "plt.plot(hist.history['val_loss'])\n",
        "plt.show()"
      ],
      "execution_count": 16,
      "outputs": [
        {
          "output_type": "display_data",
          "data": {
            "image/png": "[encoded data removed]",
            "text/plain": [
              "<Figure size 432x288 with 1 Axes>"
            ]
          },
          "metadata": {
            "tags": []
          }
        }
      ]
    },
    {
      "cell_type": "markdown",
      "metadata": {
        "id": "S2JMCm50l6Qm",
        "colab_type": "text"
      },
      "source": [
        "O modelo, depois das mudanças arquiteturais, regularizações e dropouts, aparenta não ter overfitting, mas a acurácia em torno de 70% no teste será o limite? Vamos estudar melhor.\n"
      ]
    },
    {
      "cell_type": "markdown",
      "metadata": {
        "id": "wkcAAsr9miOL",
        "colab_type": "text"
      },
      "source": [
        "Sim. Foi possível melhorá-lo com técnicas de regularização.\n"
      ]
    },
    {
      "cell_type": "code",
      "metadata": {
        "id": "1BcWer3Ll9cF",
        "colab_type": "code",
        "colab": {}
      },
      "source": [
        ""
      ],
      "execution_count": 0,
      "outputs": []
    }
  ]
}