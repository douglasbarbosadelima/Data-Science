{
  "nbformat": 4,
  "nbformat_minor": 0,
  "metadata": {
    "colab": {
      "name": "bow_res.ipynb",
      "provenance": [],
      "include_colab_link": true
    },
    "kernelspec": {
      "name": "python3",
      "display_name": "Python 3"
    }
  },
  "cells": [
    {
      "cell_type": "markdown",
      "metadata": {
        "id": "view-in-github",
        "colab_type": "text"
      },
      "source": [
        "<a href=\"https://colab.research.google.com/github/douglasbarbosadelima/Data-Science/blob/master/bow_res.ipynb\" target=\"_parent\"><img src=\"https://colab.research.google.com/assets/colab-badge.svg\" alt=\"Open In Colab\"/></a>"
      ]
    },
    {
      "cell_type": "code",
      "metadata": {
        "id": "NY8mUmhXaD-q",
        "colab_type": "code",
        "outputId": "d134aa5b-7235-480b-c8ae-2a3a33018f84",
        "colab": {
          "base_uri": "https://localhost:8080/",
          "height": 124
        }
      },
      "source": [
        "from sklearn.feature_extraction.text import CountVectorizer\n",
        "from sklearn.feature_extraction.text import TfidfVectorizer\n",
        "import math\n",
        "import numpy as np\n",
        "texto = [\n",
        "        \"O cavalo foi encontrado próximo à fazenda\",\n",
        "        \"Os donos se assustaram com a polícia na fazenda\",\n",
        "        \"Os ladrões já conheciam a região\"\n",
        "        ]\n",
        "\n",
        "vectorizer = CountVectorizer(stop_words=['o','se','na','a','os','já','com','à'])\n",
        "vectorizer.fit(texto)\n",
        "print(vectorizer.vocabulary_)\n",
        "vector = vectorizer.transform(texto)#transforma em vetores encoded para  \"sparse\"\n",
        "print('O tipo de vector é ',type(vector))\n",
        "print(vector.shape)\n",
        "print(vector.toarray())"
      ],
      "execution_count": 1,
      "outputs": [
        {
          "output_type": "stream",
          "text": [
            "{'cavalo': 1, 'foi': 6, 'encontrado': 4, 'próximo': 9, 'fazenda': 5, 'donos': 3, 'assustaram': 0, 'polícia': 8, 'ladrões': 7, 'conheciam': 2, 'região': 10}\n",
            "O tipo de vector é  <class 'scipy.sparse.csr.csr_matrix'>\n",
            "(3, 11)\n",
            "[[0 1 0 0 1 1 1 0 0 1 0]\n",
            " [1 0 0 1 0 1 0 0 1 0 0]\n",
            " [0 0 1 0 0 0 0 1 0 0 1]]\n"
          ],
          "name": "stdout"
        }
      ]
    },
    {
      "cell_type": "code",
      "metadata": {
        "id": "ZD7I8DIiaxES",
        "colab_type": "code",
        "outputId": "ee42813b-b06b-4e02-836c-4a32ae1417dc",
        "colab": {
          "base_uri": "https://localhost:8080/",
          "height": 35
        }
      },
      "source": [
        "nova_amostra=[\"É uma região de cavalo,cavalo e fazenda, fazendas\"]\n",
        "v2=vectorizer.transform(nova_amostra)#observe a falta do stemming\n",
        "print(v2.toarray())"
      ],
      "execution_count": 2,
      "outputs": [
        {
          "output_type": "stream",
          "text": [
            "[[0 2 0 0 0 1 0 0 0 0 1]]\n"
          ],
          "name": "stdout"
        }
      ]
    },
    {
      "cell_type": "code",
      "metadata": {
        "id": "NX15kKCtbKa-",
        "colab_type": "code",
        "outputId": "ef0766b5-1346-4636-8715-05e38ac38955",
        "colab": {
          "base_uri": "https://localhost:8080/",
          "height": 159
        }
      },
      "source": [
        "#Agora será feita uma versão de encoding com tfidf\n",
        "vect2 = TfidfVectorizer(stop_words=['o','se','na','a','os','já','com','à'],norm=None,smooth_idf=False)\n",
        "vect2.fit(texto)\n",
        "print(vect2.vocabulary_)\n",
        "v2 = vect2.transform(texto)#transforma em vetores encoded para  \"sparse\"\n",
        "print('O tipo de vector é ',type(v2))\n",
        "print(v2.toarray())\n"
      ],
      "execution_count": 4,
      "outputs": [
        {
          "output_type": "stream",
          "text": [
            "{'cavalo': 1, 'foi': 6, 'encontrado': 4, 'próximo': 9, 'fazenda': 5, 'donos': 3, 'assustaram': 0, 'polícia': 8, 'ladrões': 7, 'conheciam': 2, 'região': 10}\n",
            "O tipo de vector é  <class 'scipy.sparse.csr.csr_matrix'>\n",
            "[[0.         2.09861229 0.         0.         2.09861229 1.40546511\n",
            "  2.09861229 0.         0.         2.09861229 0.        ]\n",
            " [2.09861229 0.         0.         2.09861229 0.         1.40546511\n",
            "  0.         0.         2.09861229 0.         0.        ]\n",
            " [0.         0.         2.09861229 0.         0.         0.\n",
            "  0.         2.09861229 0.         0.         2.09861229]]\n"
          ],
          "name": "stdout"
        }
      ]
    },
    {
      "cell_type": "code",
      "metadata": {
        "id": "FZg1SnwPBaK5",
        "colab_type": "code",
        "outputId": "cde4a4aa-28bf-44d8-d1bf-9f2d2e660949",
        "colab": {
          "base_uri": "https://localhost:8080/",
          "height": 88
        }
      },
      "source": [
        "v3=vect2.transform(nova_amostra)\n",
        "v3a=v3.toarray()\n",
        "print(v3a)\n",
        "v3tfidf=np.array([0,2*(math.log(3)+1),0,0,0,1*math.log(1.5)+1,0,0,0,0,1*math.log(3)+1])\n",
        "print(v3tfidf)"
      ],
      "execution_count": 5,
      "outputs": [
        {
          "output_type": "stream",
          "text": [
            "[[0.         4.19722458 0.         0.         0.         1.40546511\n",
            "  0.         0.         0.         0.         2.09861229]]\n",
            "[0.         4.19722458 0.         0.         0.         1.40546511\n",
            " 0.         0.         0.         0.         2.09861229]\n"
          ],
          "name": "stdout"
        }
      ]
    },
    {
      "cell_type": "code",
      "metadata": {
        "id": "j-SX5qljELsf",
        "colab_type": "code",
        "colab": {}
      },
      "source": [
        ""
      ],
      "execution_count": 0,
      "outputs": []
    }
  ]
}