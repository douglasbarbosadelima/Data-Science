{
  "nbformat": 4,
  "nbformat_minor": 0,
  "metadata": {
    "kernelspec": {
      "display_name": "Python 3",
      "language": "python",
      "name": "python3"
    },
    "language_info": {
      "codemirror_mode": {
        "name": "ipython",
        "version": 3
      },
      "file_extension": ".py",
      "mimetype": "text/x-python",
      "name": "python",
      "nbconvert_exporter": "python",
      "pygments_lexer": "ipython3",
      "version": "3.6.3"
    },
    "colab": {
      "name": "Lista+Data+Science.ipynb",
      "provenance": []
    }
  },
  "cells": [
    {
      "cell_type": "markdown",
      "metadata": {
        "id": "ZGtnzPN1g5ad",
        "colab_type": "text"
      },
      "source": [
        "# Lista de exercícios Data Science"
      ]
    },
    {
      "cell_type": "markdown",
      "metadata": {
        "id": "e4WjQeL9g5af",
        "colab_type": "text"
      },
      "source": [
        "lt é uma lista de tuplas \"t\", sendo que t[0] é o id e t[1] a número de horas do serviço utilizado pelo usuário. Transforme em um dicionário com chaves \"id\" e valor somatória de horas de uso. por exemplo, no dicionário, o id 1 terá valor 18 (2+9+7). Dica: percorra a lista (for t in ls:) e se t[0] estiver no dicionário faça isso, caso contrário, faça aquilo...\n",
        "\n",
        "\n",
        "lt=[(1,2),(2,5),(1,9),(2,1),(3,2),(4,9),(1,7)]\n"
      ]
    },
    {
      "cell_type": "code",
      "metadata": {
        "collapsed": true,
        "id": "9zDUx6vzg5ag",
        "colab_type": "code",
        "outputId": "98c3d512-dcde-490e-86c1-90b8c8d4a292",
        "colab": {
          "base_uri": "https://localhost:8080/",
          "height": 34
        }
      },
      "source": [
        "lt = [(1,2),(2,5),(1,9),(2,1),(3,2),(4,9),(1,7)]\n",
        "dictionary = {}\n",
        "\n",
        "for i in range(len(lt)):\n",
        "  if(lt[i][0] in dictionary):\n",
        "    dictionary[lt[i][0]] += lt[i][1]\n",
        "  else:\n",
        "    dictionary[lt[i][0]] = lt[i][1]\n",
        "\n",
        "dictionary\n"
      ],
      "execution_count": 1,
      "outputs": [
        {
          "output_type": "execute_result",
          "data": {
            "text/plain": [
              "{1: 18, 2: 6, 3: 2, 4: 9}"
            ]
          },
          "metadata": {
            "tags": []
          },
          "execution_count": 1
        }
      ]
    },
    {
      "cell_type": "markdown",
      "metadata": {
        "id": "gE0OW34eg5aj",
        "colab_type": "text"
      },
      "source": [
        "Abra o dataframe dos carros e crie um novo campo 'potpeso' (produto da potência pelo peso. Depois, faça a standardização de potência,peso e potpeso (pots,pesos,potpesos).Mostre que as médias são zero e desvio padrão 1 após a standardização.Use dropna()"
      ]
    },
    {
      "cell_type": "markdown",
      "metadata": {
        "id": "xSbyY30Hriv9",
        "colab_type": "text"
      },
      "source": [
        ""
      ]
    },
    {
      "cell_type": "code",
      "metadata": {
        "collapsed": true,
        "id": "ix4vwHghg5ak",
        "colab_type": "code",
        "outputId": "897ca199-f198-4378-ef9c-914c79ff7fec",
        "colab": {
          "base_uri": "https://localhost:8080/",
          "height": 221
        }
      },
      "source": [
        "import pandas as pd\n",
        "import numpy as np\n",
        "import matplotlib.pyplot as plt\n",
        "from sklearn.metrics import mean_squared_error\n",
        "\n",
        "model = pd.read_csv('https://raw.githubusercontent.com/douglasbarbosadelima/Data-Science/master/cars-uci-linked.csv')\n",
        "model.describe()\n",
        "model = model.dropna()\n",
        "model = model.reset_index() # prevent non existent index into DataFrame\n",
        "\n",
        "model['potpeso'] = model['horsepower'] * model['weight']\n",
        "\n",
        "def standardization(product):\n",
        "  mean = product.mean()\n",
        "  std = product.std()\n",
        "  product = (product - mean) / std\n",
        "  return (product)\n",
        "\n",
        "model['pots'] = standardization(model['horsepower'])\n",
        "model['pesos'] = standardization(model['weight'])\n",
        "model['potpesos'] = standardization(model['potpeso'])\n",
        "\n",
        "\n",
        "print([(model['pots'].mean(), model['pots'].std()), (model['pesos'].mean(), model['pesos'].std())])\n",
        "model.head()"
      ],
      "execution_count": 9,
      "outputs": [
        {
          "output_type": "stream",
          "text": [
            "[(-3.231542018105366e-16, 0.9999999999999972), (1.2815712210277636e-16, 1.0000000000000004)]\n"
          ],
          "name": "stdout"
        },
        {
          "output_type": "execute_result",
          "data": {
            "text/html": [
              "<div>\n",
              "<style scoped>\n",
              "    .dataframe tbody tr th:only-of-type {\n",
              "        vertical-align: middle;\n",
              "    }\n",
              "\n",
              "    .dataframe tbody tr th {\n",
              "        vertical-align: top;\n",
              "    }\n",
              "\n",
              "    .dataframe thead th {\n",
              "        text-align: right;\n",
              "    }\n",
              "</style>\n",
              "<table border=\"1\" class=\"dataframe\">\n",
              "  <thead>\n",
              "    <tr style=\"text-align: right;\">\n",
              "      <th></th>\n",
              "      <th>index</th>\n",
              "      <th>mpg</th>\n",
              "      <th>cylinders</th>\n",
              "      <th>displacement</th>\n",
              "      <th>horsepower</th>\n",
              "      <th>weight</th>\n",
              "      <th>acceleration</th>\n",
              "      <th>year</th>\n",
              "      <th>origin</th>\n",
              "      <th>name</th>\n",
              "      <th>potpeso</th>\n",
              "      <th>pots</th>\n",
              "      <th>pesos</th>\n",
              "      <th>potpesos</th>\n",
              "    </tr>\n",
              "  </thead>\n",
              "  <tbody>\n",
              "    <tr>\n",
              "      <th>0</th>\n",
              "      <td>0</td>\n",
              "      <td>18.0</td>\n",
              "      <td>8</td>\n",
              "      <td>3070</td>\n",
              "      <td>130.0</td>\n",
              "      <td>3504</td>\n",
              "      <td>120</td>\n",
              "      <td>70</td>\n",
              "      <td>1</td>\n",
              "      <td>chevrolet chevelle malibu</td>\n",
              "      <td>455520.0</td>\n",
              "      <td>0.663285</td>\n",
              "      <td>0.619748</td>\n",
              "      <td>0.527908</td>\n",
              "    </tr>\n",
              "    <tr>\n",
              "      <th>1</th>\n",
              "      <td>1</td>\n",
              "      <td>15.0</td>\n",
              "      <td>8</td>\n",
              "      <td>3500</td>\n",
              "      <td>165.0</td>\n",
              "      <td>3693</td>\n",
              "      <td>115</td>\n",
              "      <td>70</td>\n",
              "      <td>1</td>\n",
              "      <td>buick skylark 320</td>\n",
              "      <td>609345.0</td>\n",
              "      <td>1.572585</td>\n",
              "      <td>0.842258</td>\n",
              "      <td>1.226388</td>\n",
              "    </tr>\n",
              "    <tr>\n",
              "      <th>2</th>\n",
              "      <td>2</td>\n",
              "      <td>18.0</td>\n",
              "      <td>8</td>\n",
              "      <td>3180</td>\n",
              "      <td>150.0</td>\n",
              "      <td>3436</td>\n",
              "      <td>110</td>\n",
              "      <td>70</td>\n",
              "      <td>1</td>\n",
              "      <td>plymouth satellite</td>\n",
              "      <td>515400.0</td>\n",
              "      <td>1.182885</td>\n",
              "      <td>0.539692</td>\n",
              "      <td>0.799808</td>\n",
              "    </tr>\n",
              "    <tr>\n",
              "      <th>3</th>\n",
              "      <td>3</td>\n",
              "      <td>16.0</td>\n",
              "      <td>8</td>\n",
              "      <td>3040</td>\n",
              "      <td>150.0</td>\n",
              "      <td>3433</td>\n",
              "      <td>120</td>\n",
              "      <td>70</td>\n",
              "      <td>1</td>\n",
              "      <td>amc rebel sst</td>\n",
              "      <td>514950.0</td>\n",
              "      <td>1.182885</td>\n",
              "      <td>0.536160</td>\n",
              "      <td>0.797764</td>\n",
              "    </tr>\n",
              "    <tr>\n",
              "      <th>4</th>\n",
              "      <td>4</td>\n",
              "      <td>17.0</td>\n",
              "      <td>8</td>\n",
              "      <td>3020</td>\n",
              "      <td>140.0</td>\n",
              "      <td>3449</td>\n",
              "      <td>105</td>\n",
              "      <td>70</td>\n",
              "      <td>1</td>\n",
              "      <td>ford torino</td>\n",
              "      <td>482860.0</td>\n",
              "      <td>0.923085</td>\n",
              "      <td>0.554997</td>\n",
              "      <td>0.652052</td>\n",
              "    </tr>\n",
              "  </tbody>\n",
              "</table>\n",
              "</div>"
            ],
            "text/plain": [
              "   index   mpg  cylinders  displacement  ...   potpeso      pots     pesos  potpesos\n",
              "0      0  18.0          8          3070  ...  455520.0  0.663285  0.619748  0.527908\n",
              "1      1  15.0          8          3500  ...  609345.0  1.572585  0.842258  1.226388\n",
              "2      2  18.0          8          3180  ...  515400.0  1.182885  0.539692  0.799808\n",
              "3      3  16.0          8          3040  ...  514950.0  1.182885  0.536160  0.797764\n",
              "4      4  17.0          8          3020  ...  482860.0  0.923085  0.554997  0.652052\n",
              "\n",
              "[5 rows x 14 columns]"
            ]
          },
          "metadata": {
            "tags": []
          },
          "execution_count": 9
        }
      ]
    },
    {
      "cell_type": "markdown",
      "metadata": {
        "id": "ST3-ICKSg5an",
        "colab_type": "text"
      },
      "source": [
        "Quantas amostras de peso estão acima da média em 2* desvio padrão ? O que isso significa?"
      ]
    },
    {
      "cell_type": "code",
      "metadata": {
        "collapsed": true,
        "id": "Jxdmlwv1g5ao",
        "colab_type": "code",
        "outputId": "99339c08-60eb-4ef1-b9ba-114471abb0cf",
        "colab": {
          "base_uri": "https://localhost:8080/",
          "height": 51
        }
      },
      "source": [
        "gtHorse = len([i for i in range(len(model)) if model['horsepower'][i] > model['horsepower'].std() * 2])\n",
        "gtWeight = len([i for i in range(len(model)) if model['weight'][i] > model['weight'].std() * 2])\n",
        "\n",
        "print('Horsepower Greather than Mean: ' + str(gtHorse), 'Horsepower Length: ' + str(len(model['horsepower'])))\n",
        "print('Horsepower Greather than Mean: ' + str(gtWeight), 'Horsepower Length: ' + str(len(model['weight'])))"
      ],
      "execution_count": 3,
      "outputs": [
        {
          "output_type": "stream",
          "text": [
            "Horsepower Greather than Mean: 289 Horsepower Length: 392\n",
            "Horsepower Greather than Mean: 390 Horsepower Length: 392\n"
          ],
          "name": "stdout"
        }
      ]
    },
    {
      "cell_type": "markdown",
      "metadata": {
        "id": "01_eKlXCg5ar",
        "colab_type": "text"
      },
      "source": [
        " Crie uma regressão linear (raiz, com gradiente descent, para calcular mpg) com peso, pot e peso x pot e verifique o erro médio quadrático final (200000 iterações, thetas iniciais 0.5 e learning rate 0.01). A função gradiente do EMQ já está fornecida.Faça o gráfico do EMQ ao longo das iterações"
      ]
    },
    {
      "cell_type": "code",
      "metadata": {
        "id": "K1V0-VSng5as",
        "colab_type": "code",
        "colab": {}
      },
      "source": [
        "def grad(X,y,theta):\n",
        "    return (1 / len(y)) * np.dot(X.T, np.dot(X, theta) - y)"
      ],
      "execution_count": 0,
      "outputs": []
    },
    {
      "cell_type": "code",
      "metadata": {
        "id": "eaXUwzTxg5av",
        "colab_type": "code",
        "outputId": "15af7df9-b754-4c70-e6c1-a2ea94bbb196",
        "colab": {
          "base_uri": "https://localhost:8080/",
          "height": 323
        }
      },
      "source": [
        "#monte X e y\n",
        "\n",
        "X = np.ones((len(model), 4)) # list of length equals 4, because of baias.\n",
        "X[:, 1] = model['pots']\n",
        "X[:, 2] = model['pesos']\n",
        "X[:, 3] = model['pots'] * model['pesos']\n",
        "\n",
        "y = model['mpg'].copy() # yEstimate\n",
        "\n",
        "X, y"
      ],
      "execution_count": 5,
      "outputs": [
        {
          "output_type": "execute_result",
          "data": {
            "text/plain": [
              "(array([[ 1.        ,  0.66328508,  0.61974833,  0.41106982],\n",
              "        [ 1.        ,  1.57258478,  0.84225766,  1.32452158],\n",
              "        [ 1.        ,  1.18288491,  0.53969206,  0.63839359],\n",
              "        ...,\n",
              "        [ 1.        , -0.53179452, -0.80360505,  0.42735276],\n",
              "        [ 1.        , -0.66169447, -0.41509668,  0.27466718],\n",
              "        [ 1.        , -0.5837545 , -0.30325336,  0.17702552]]), 0      18.0\n",
              " 1      15.0\n",
              " 2      18.0\n",
              " 3      16.0\n",
              " 4      17.0\n",
              "        ... \n",
              " 387    27.0\n",
              " 388    44.0\n",
              " 389    32.0\n",
              " 390    28.0\n",
              " 391    31.0\n",
              " Name: mpg, Length: 392, dtype: float64)"
            ]
          },
          "metadata": {
            "tags": []
          },
          "execution_count": 5
        }
      ]
    },
    {
      "cell_type": "code",
      "metadata": {
        "id": "x3IvDsd9g5ax",
        "colab_type": "code",
        "outputId": "ab948ffc-cdb9-47b6-ff01-fe9c034ddae6",
        "colab": {
          "base_uri": "https://localhost:8080/",
          "height": 34
        }
      },
      "source": [
        "#Gradient descent\n",
        "\n",
        "arr_regression = []\n",
        "theta = [0.5, 0.5, 0.5, 0.5]\n",
        "learning_rate = 0.01\n",
        "interactions = 50000\n",
        "\n",
        "arr_regression.append(mean_squared_error(y, np.dot(X, theta)))\n",
        "for i in range(interactions):\n",
        "  grad_calc = grad(X, y, theta)\n",
        "  theta = theta - (learning_rate * grad_calc)\n",
        "  arr_regression.append(mean_squared_error(y, np.dot(X, theta)))\n",
        "\n",
        "print(theta)"
      ],
      "execution_count": 6,
      "outputs": [
        {
          "output_type": "stream",
          "text": [
            "[21.93604919 -3.51721788 -4.39793539  1.75091343]\n"
          ],
          "name": "stdout"
        }
      ]
    },
    {
      "cell_type": "code",
      "metadata": {
        "id": "RFjwKe2Mg5a0",
        "colab_type": "code",
        "outputId": "e91fb63a-9b0e-4702-aeea-155171b98ea7",
        "colab": {
          "base_uri": "https://localhost:8080/",
          "height": 265
        }
      },
      "source": [
        "#faça o gráfico do erro nas iterações\n",
        "plt.plot(arr_regression[:500], color='black')\n",
        "plt.show()"
      ],
      "execution_count": 7,
      "outputs": [
        {
          "output_type": "display_data",
          "data": {
            "image/png": "[encoded data removed]",
            "text/plain": [
              "<Figure size 432x288 with 1 Axes>"
            ]
          },
          "metadata": {
            "tags": []
          }
        }
      ]
    },
    {
      "cell_type": "markdown",
      "metadata": {
        "id": "ug9E-RfPg5a2",
        "colab_type": "text"
      },
      "source": [
        "Calcule, com base no modelo, o consumo (mpg) para um carro de 150HP e 2000kg"
      ]
    },
    {
      "cell_type": "code",
      "metadata": {
        "collapsed": true,
        "id": "wuzpbXYRg5a3",
        "colab_type": "code",
        "outputId": "db1870f8-245e-4d6a-9ed0-89103ca10f51",
        "colab": {
          "base_uri": "https://localhost:8080/",
          "height": 97
        }
      },
      "source": [
        "med = model['horsepower'].mean()\n",
        "mew = model['weight'].mean()\n",
        "\n",
        "dp = model['horsepower'].std()\n",
        "dpw = model['weight'].std()\n",
        "\n",
        "def predict(pot, peso):\n",
        "  pots = (pot - med) / dp\n",
        "  pesos = (peso - mew) / dpw\n",
        "  return theta[0] + theta[1] * pots + theta[2] * pesos\n",
        "\n",
        "print(predict(200, 2000)) # Here we predict of a car with 150 horserpower and 2000kg will spend 22.83l of gasoline.\n",
        "model[model['weight'] == 2000] # filter inside model the data's weight equals 2000 to metrify the assert of Neural Network."
      ],
      "execution_count": 21,
      "outputs": [
        {
          "output_type": "stream",
          "text": [
            "18.26833967288956\n"
          ],
          "name": "stdout"
        },
        {
          "output_type": "execute_result",
          "data": {
            "text/html": [
              "<div>\n",
              "<style scoped>\n",
              "    .dataframe tbody tr th:only-of-type {\n",
              "        vertical-align: middle;\n",
              "    }\n",
              "\n",
              "    .dataframe tbody tr th {\n",
              "        vertical-align: top;\n",
              "    }\n",
              "\n",
              "    .dataframe thead th {\n",
              "        text-align: right;\n",
              "    }\n",
              "</style>\n",
              "<table border=\"1\" class=\"dataframe\">\n",
              "  <thead>\n",
              "    <tr style=\"text-align: right;\">\n",
              "      <th></th>\n",
              "      <th>index</th>\n",
              "      <th>mpg</th>\n",
              "      <th>cylinders</th>\n",
              "      <th>displacement</th>\n",
              "      <th>horsepower</th>\n",
              "      <th>weight</th>\n",
              "      <th>acceleration</th>\n",
              "      <th>year</th>\n",
              "      <th>origin</th>\n",
              "      <th>name</th>\n",
              "      <th>potpeso</th>\n",
              "      <th>pots</th>\n",
              "      <th>pesos</th>\n",
              "      <th>potpesos</th>\n",
              "    </tr>\n",
              "  </thead>\n",
              "  <tbody>\n",
              "    <tr>\n",
              "      <th>149</th>\n",
              "      <td>158</td>\n",
              "      <td>31.0</td>\n",
              "      <td>4</td>\n",
              "      <td>7900</td>\n",
              "      <td>67.0</td>\n",
              "      <td>2000</td>\n",
              "      <td>160</td>\n",
              "      <td>74</td>\n",
              "      <td>2</td>\n",
              "      <td>fiat x1.9</td>\n",
              "      <td>134000.0</td>\n",
              "      <td>-0.973454</td>\n",
              "      <td>-1.150908</td>\n",
              "      <td>-0.932033</td>\n",
              "    </tr>\n",
              "  </tbody>\n",
              "</table>\n",
              "</div>"
            ],
            "text/plain": [
              "     index   mpg  cylinders  ...      pots     pesos  potpesos\n",
              "149    158  31.0          4  ... -0.973454 -1.150908 -0.932033\n",
              "\n",
              "[1 rows x 14 columns]"
            ]
          },
          "metadata": {
            "tags": []
          },
          "execution_count": 21
        }
      ]
    },
    {
      "cell_type": "markdown",
      "metadata": {
        "id": "fdEnGuvgg5a6",
        "colab_type": "text"
      },
      "source": [
        "Refaça o exemplo com sklearn, primeiro para obter emq"
      ]
    },
    {
      "cell_type": "code",
      "metadata": {
        "collapsed": true,
        "id": "hqN717VOg5a7",
        "colab_type": "code",
        "colab": {}
      },
      "source": [
        "from sklearn.linear_model import LinearRegression\n",
        "sk_linear = LinearRegression()\n",
        "sk_linear.fit(X, y)\n",
        "y_estimate = sk_linear.predict(X)"
      ],
      "execution_count": 0,
      "outputs": []
    },
    {
      "cell_type": "markdown",
      "metadata": {
        "id": "GeIdFkG6g5bI",
        "colab_type": "text"
      },
      "source": [
        "Agora, refaça a predição"
      ]
    },
    {
      "cell_type": "code",
      "metadata": {
        "collapsed": true,
        "id": "XMaXan2Vg5bJ",
        "colab_type": "code",
        "outputId": "9744596d-9628-4f41-f315-c8be4802ab37",
        "colab": {
          "base_uri": "https://localhost:8080/",
          "height": 34
        }
      },
      "source": [
        "mean_squared_error(y_estimate, y)"
      ],
      "execution_count": 26,
      "outputs": [
        {
          "output_type": "execute_result",
          "data": {
            "text/plain": [
              "15.285769484105506"
            ]
          },
          "metadata": {
            "tags": []
          },
          "execution_count": 26
        }
      ]
    },
    {
      "cell_type": "markdown",
      "metadata": {
        "id": "v3kfflJVg5bM",
        "colab_type": "text"
      },
      "source": [
        "Faça, com sklearn split train test 70-30 (random_state=42) e apresente os erros no dataset de treino e de teste. Comente-os."
      ]
    },
    {
      "cell_type": "code",
      "metadata": {
        "id": "Kc00M7kmg5bN",
        "colab_type": "code",
        "colab": {}
      },
      "source": [
        "from sklearn.model_selection import train_test_split"
      ],
      "execution_count": 0,
      "outputs": []
    },
    {
      "cell_type": "code",
      "metadata": {
        "collapsed": true,
        "id": "66Oc1hVFg5bP",
        "colab_type": "code",
        "outputId": "0e4fa70d-e02e-498a-ae03-e955c2f246d4",
        "colab": {
          "base_uri": "https://localhost:8080/",
          "height": 51
        }
      },
      "source": [
        "X_train, X_test, y_train, y_test = train_test_split(X, y, random_state = 42)\n",
        "linear_split = sk_linear.fit(X_train, y_train)\n",
        "y_estimate = sk_linear.predict(X_train)\n",
        "error_train = mean_squared_error(y_estimate, y_train)\n",
        "\n",
        "print('Train Error: ' + str(error_train))\n",
        "\n",
        "yet = sk_linear.predict(X_test)\n",
        "e_test = mean_squared_error(yet, y_test)\n",
        "print('Test Error : ' +  str(e_test))"
      ],
      "execution_count": 36,
      "outputs": [
        {
          "output_type": "stream",
          "text": [
            "Train Error: 15.60149755399519\n",
            "Test Error : 14.71391756814036\n"
          ],
          "name": "stdout"
        }
      ]
    },
    {
      "cell_type": "markdown",
      "metadata": {
        "id": "fXe3R3dbg5bS",
        "colab_type": "text"
      },
      "source": [
        "Resposta:"
      ]
    }
  ]
}