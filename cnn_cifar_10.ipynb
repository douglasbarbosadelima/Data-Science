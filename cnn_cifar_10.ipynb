{
  "nbformat": 4,
  "nbformat_minor": 0,
  "metadata": {
    "colab": {
      "name": "cnn_cifar_10.ipynb",
      "provenance": [],
      "include_colab_link": true
    },
    "kernelspec": {
      "name": "python3",
      "display_name": "Python 3"
    },
    "accelerator": "GPU"
  },
  "cells": [
    {
      "cell_type": "markdown",
      "metadata": {
        "id": "view-in-github",
        "colab_type": "text"
      },
      "source": [
        "<a href=\"https://colab.research.google.com/github/douglasbarbosadelima/Data-Science/blob/master/cnn_cifar_10.ipynb\" target=\"_parent\"><img src=\"https://colab.research.google.com/assets/colab-badge.svg\" alt=\"Open In Colab\"/></a>"
      ]
    },
    {
      "cell_type": "markdown",
      "metadata": {
        "id": "HK32P8jz17Gp",
        "colab_type": "text"
      },
      "source": [
        "Usando o Dataset Cifar 10 (classes) em uma CNN"
      ]
    },
    {
      "cell_type": "code",
      "metadata": {
        "id": "4Bu8Om2GQ5Wj",
        "colab_type": "code",
        "outputId": "54938cc8-35fc-43a6-e479-642ecb903cc3",
        "colab": {
          "base_uri": "https://localhost:8080/",
          "height": 615
        }
      },
      "source": [
        "!pip install tensorflow-gpu==2.0.0 "
      ],
      "execution_count": 31,
      "outputs": [
        {
          "output_type": "stream",
          "text": [
            "Requirement already satisfied: tensorflow-gpu==2.0.0 in /usr/local/lib/python3.6/dist-packages (2.0.0)\n",
            "Requirement already satisfied: grpcio>=1.8.6 in /usr/local/lib/python3.6/dist-packages (from tensorflow-gpu==2.0.0) (1.27.1)\n",
            "Requirement already satisfied: gast==0.2.2 in /usr/local/lib/python3.6/dist-packages (from tensorflow-gpu==2.0.0) (0.2.2)\n",
            "Requirement already satisfied: protobuf>=3.6.1 in /usr/local/lib/python3.6/dist-packages (from tensorflow-gpu==2.0.0) (3.10.0)\n",
            "Requirement already satisfied: keras-preprocessing>=1.0.5 in /usr/local/lib/python3.6/dist-packages (from tensorflow-gpu==2.0.0) (1.1.0)\n",
            "Requirement already satisfied: opt-einsum>=2.3.2 in /usr/local/lib/python3.6/dist-packages (from tensorflow-gpu==2.0.0) (3.1.0)\n",
            "Requirement already satisfied: six>=1.10.0 in /usr/local/lib/python3.6/dist-packages (from tensorflow-gpu==2.0.0) (1.12.0)\n",
            "Requirement already satisfied: tensorflow-estimator<2.1.0,>=2.0.0 in /usr/local/lib/python3.6/dist-packages (from tensorflow-gpu==2.0.0) (2.0.1)\n",
            "Requirement already satisfied: termcolor>=1.1.0 in /usr/local/lib/python3.6/dist-packages (from tensorflow-gpu==2.0.0) (1.1.0)\n",
            "Requirement already satisfied: wrapt>=1.11.1 in /usr/local/lib/python3.6/dist-packages (from tensorflow-gpu==2.0.0) (1.11.2)\n",
            "Requirement already satisfied: wheel>=0.26 in /usr/local/lib/python3.6/dist-packages (from tensorflow-gpu==2.0.0) (0.34.2)\n",
            "Requirement already satisfied: absl-py>=0.7.0 in /usr/local/lib/python3.6/dist-packages (from tensorflow-gpu==2.0.0) (0.9.0)\n",
            "Requirement already satisfied: google-pasta>=0.1.6 in /usr/local/lib/python3.6/dist-packages (from tensorflow-gpu==2.0.0) (0.1.8)\n",
            "Requirement already satisfied: numpy<2.0,>=1.16.0 in /usr/local/lib/python3.6/dist-packages (from tensorflow-gpu==2.0.0) (1.17.5)\n",
            "Requirement already satisfied: keras-applications>=1.0.8 in /usr/local/lib/python3.6/dist-packages (from tensorflow-gpu==2.0.0) (1.0.8)\n",
            "Requirement already satisfied: tensorboard<2.1.0,>=2.0.0 in /usr/local/lib/python3.6/dist-packages (from tensorflow-gpu==2.0.0) (2.0.2)\n",
            "Requirement already satisfied: astor>=0.6.0 in /usr/local/lib/python3.6/dist-packages (from tensorflow-gpu==2.0.0) (0.8.1)\n",
            "Requirement already satisfied: setuptools in /usr/local/lib/python3.6/dist-packages (from protobuf>=3.6.1->tensorflow-gpu==2.0.0) (45.1.0)\n",
            "Requirement already satisfied: h5py in /usr/local/lib/python3.6/dist-packages (from keras-applications>=1.0.8->tensorflow-gpu==2.0.0) (2.8.0)\n",
            "Requirement already satisfied: google-auth-oauthlib<0.5,>=0.4.1 in /usr/local/lib/python3.6/dist-packages (from tensorboard<2.1.0,>=2.0.0->tensorflow-gpu==2.0.0) (0.4.1)\n",
            "Requirement already satisfied: werkzeug>=0.11.15 in /usr/local/lib/python3.6/dist-packages (from tensorboard<2.1.0,>=2.0.0->tensorflow-gpu==2.0.0) (1.0.0)\n",
            "Requirement already satisfied: requests<3,>=2.21.0 in /usr/local/lib/python3.6/dist-packages (from tensorboard<2.1.0,>=2.0.0->tensorflow-gpu==2.0.0) (2.21.0)\n",
            "Requirement already satisfied: markdown>=2.6.8 in /usr/local/lib/python3.6/dist-packages (from tensorboard<2.1.0,>=2.0.0->tensorflow-gpu==2.0.0) (3.2.1)\n",
            "Requirement already satisfied: google-auth<2,>=1.6.3 in /usr/local/lib/python3.6/dist-packages (from tensorboard<2.1.0,>=2.0.0->tensorflow-gpu==2.0.0) (1.7.2)\n",
            "Requirement already satisfied: requests-oauthlib>=0.7.0 in /usr/local/lib/python3.6/dist-packages (from google-auth-oauthlib<0.5,>=0.4.1->tensorboard<2.1.0,>=2.0.0->tensorflow-gpu==2.0.0) (1.3.0)\n",
            "Requirement already satisfied: idna<2.9,>=2.5 in /usr/local/lib/python3.6/dist-packages (from requests<3,>=2.21.0->tensorboard<2.1.0,>=2.0.0->tensorflow-gpu==2.0.0) (2.8)\n",
            "Requirement already satisfied: chardet<3.1.0,>=3.0.2 in /usr/local/lib/python3.6/dist-packages (from requests<3,>=2.21.0->tensorboard<2.1.0,>=2.0.0->tensorflow-gpu==2.0.0) (3.0.4)\n",
            "Requirement already satisfied: urllib3<1.25,>=1.21.1 in /usr/local/lib/python3.6/dist-packages (from requests<3,>=2.21.0->tensorboard<2.1.0,>=2.0.0->tensorflow-gpu==2.0.0) (1.24.3)\n",
            "Requirement already satisfied: certifi>=2017.4.17 in /usr/local/lib/python3.6/dist-packages (from requests<3,>=2.21.0->tensorboard<2.1.0,>=2.0.0->tensorflow-gpu==2.0.0) (2019.11.28)\n",
            "Requirement already satisfied: cachetools<3.2,>=2.0.0 in /usr/local/lib/python3.6/dist-packages (from google-auth<2,>=1.6.3->tensorboard<2.1.0,>=2.0.0->tensorflow-gpu==2.0.0) (3.1.1)\n",
            "Requirement already satisfied: rsa<4.1,>=3.1.4 in /usr/local/lib/python3.6/dist-packages (from google-auth<2,>=1.6.3->tensorboard<2.1.0,>=2.0.0->tensorflow-gpu==2.0.0) (4.0)\n",
            "Requirement already satisfied: pyasn1-modules>=0.2.1 in /usr/local/lib/python3.6/dist-packages (from google-auth<2,>=1.6.3->tensorboard<2.1.0,>=2.0.0->tensorflow-gpu==2.0.0) (0.2.8)\n",
            "Requirement already satisfied: oauthlib>=3.0.0 in /usr/local/lib/python3.6/dist-packages (from requests-oauthlib>=0.7.0->google-auth-oauthlib<0.5,>=0.4.1->tensorboard<2.1.0,>=2.0.0->tensorflow-gpu==2.0.0) (3.1.0)\n",
            "Requirement already satisfied: pyasn1>=0.1.3 in /usr/local/lib/python3.6/dist-packages (from rsa<4.1,>=3.1.4->google-auth<2,>=1.6.3->tensorboard<2.1.0,>=2.0.0->tensorflow-gpu==2.0.0) (0.4.8)\n"
          ],
          "name": "stdout"
        }
      ]
    },
    {
      "cell_type": "code",
      "metadata": {
        "id": "-fy4xT_SRHED",
        "colab_type": "code",
        "outputId": "08be2220-dfa7-4bc8-aa35-8bcb64a63660",
        "colab": {
          "base_uri": "https://localhost:8080/",
          "height": 34
        }
      },
      "source": [
        "import tensorflow as tf\n",
        "import numpy as np\n",
        "import matplotlib.pyplot as plt\n",
        "tf.__version__"
      ],
      "execution_count": 32,
      "outputs": [
        {
          "output_type": "execute_result",
          "data": {
            "text/plain": [
              "'2.0.0'"
            ]
          },
          "metadata": {
            "tags": []
          },
          "execution_count": 32
        }
      ]
    },
    {
      "cell_type": "markdown",
      "metadata": {
        "id": "A70Bfeh1R1uq",
        "colab_type": "text"
      },
      "source": [
        "Usando o dataset cifar 10 (10 classes)"
      ]
    },
    {
      "cell_type": "code",
      "metadata": {
        "id": "0gi789U5Rv39",
        "colab_type": "code",
        "colab": {}
      },
      "source": [
        "(x_train, y_train), (x_test, y_test) = tf.keras.datasets.cifar10.load_data()"
      ],
      "execution_count": 0,
      "outputs": []
    },
    {
      "cell_type": "code",
      "metadata": {
        "id": "936qfAj7R7NV",
        "colab_type": "code",
        "outputId": "f1faf7bb-c8e8-4c5c-8ec8-5e71876c769c",
        "colab": {
          "base_uri": "https://localhost:8080/",
          "height": 34
        }
      },
      "source": [
        "x_train.shape,y_train.shape,x_test.shape,y_test.shape"
      ],
      "execution_count": 34,
      "outputs": [
        {
          "output_type": "execute_result",
          "data": {
            "text/plain": [
              "((50000, 32, 32, 3), (50000, 1), (10000, 32, 32, 3), (10000, 1))"
            ]
          },
          "metadata": {
            "tags": []
          },
          "execution_count": 34
        }
      ]
    },
    {
      "cell_type": "code",
      "metadata": {
        "id": "VMPd6D1QSJOG",
        "colab_type": "code",
        "outputId": "edb0644f-4ce4-46ec-e60f-b6d191bcd356",
        "colab": {
          "base_uri": "https://localhost:8080/",
          "height": 34
        }
      },
      "source": [
        "y_train[0]"
      ],
      "execution_count": 35,
      "outputs": [
        {
          "output_type": "execute_result",
          "data": {
            "text/plain": [
              "array([6], dtype=uint8)"
            ]
          },
          "metadata": {
            "tags": []
          },
          "execution_count": 35
        }
      ]
    },
    {
      "cell_type": "code",
      "metadata": {
        "id": "cnOXAk3PSkL5",
        "colab_type": "code",
        "colab": {}
      },
      "source": [
        "class_names = ['airplane', 'automobile', 'bird', 'cat', 'deer',\n",
        "               'dog', 'frog', 'horse', 'ship', 'truck']\n"
      ],
      "execution_count": 0,
      "outputs": []
    },
    {
      "cell_type": "code",
      "metadata": {
        "id": "cVhkuQc5SoZ8",
        "colab_type": "code",
        "outputId": "728ddaf5-8f1a-4b27-d435-8d6d3cac4ca5",
        "colab": {
          "base_uri": "https://localhost:8080/",
          "height": 283
        }
      },
      "source": [
        "plt.imshow(x_train[6]), y_train[6]"
      ],
      "execution_count": 37,
      "outputs": [
        {
          "output_type": "execute_result",
          "data": {
            "text/plain": [
              "(<matplotlib.image.AxesImage at 0x7ff49a6afeb8>, array([2], dtype=uint8))"
            ]
          },
          "metadata": {
            "tags": []
          },
          "execution_count": 37
        },
        {
          "output_type": "display_data",
          "data": {
            "image/png": "[encoded data removed]",
            "text/plain": [
              "<Figure size 432x288 with 1 Axes>"
            ]
          },
          "metadata": {
            "tags": []
          }
        }
      ]
    },
    {
      "cell_type": "markdown",
      "metadata": {
        "id": "2qOV2z3cUSHy",
        "colab_type": "text"
      },
      "source": [
        "Verificando balanceamento entre as classes"
      ]
    },
    {
      "cell_type": "code",
      "metadata": {
        "id": "Z3PI-MScTHmY",
        "colab_type": "code",
        "colab": {
          "base_uri": "https://localhost:8080/",
          "height": 34
        },
        "outputId": "8cec23c5-2e42-4465-be7b-6616e229ff3f"
      },
      "source": [
        "lytr=list(y_train)\n",
        "#coloque seu código aqui..uma lista com a quantidade de amostras por classe\n",
        "[lytr.count(i) for i in range(10)]"
      ],
      "execution_count": 38,
      "outputs": [
        {
          "output_type": "execute_result",
          "data": {
            "text/plain": [
              "[5000, 5000, 5000, 5000, 5000, 5000, 5000, 5000, 5000, 5000]"
            ]
          },
          "metadata": {
            "tags": []
          },
          "execution_count": 38
        }
      ]
    },
    {
      "cell_type": "code",
      "metadata": {
        "id": "xe3xYTnIUHtH",
        "colab_type": "code",
        "colab": {
          "base_uri": "https://localhost:8080/",
          "height": 34
        },
        "outputId": "bb55573e-e02d-4603-d792-8858ed9643df"
      },
      "source": [
        "lyts=list(y_test)\n",
        "#coloque seu código aqui..uma lista com a quantidade de amostras por classe\n",
        "[lyts.count(i) for i in range(10)]"
      ],
      "execution_count": 39,
      "outputs": [
        {
          "output_type": "execute_result",
          "data": {
            "text/plain": [
              "[1000, 1000, 1000, 1000, 1000, 1000, 1000, 1000, 1000, 1000]"
            ]
          },
          "metadata": {
            "tags": []
          },
          "execution_count": 39
        }
      ]
    },
    {
      "cell_type": "code",
      "metadata": {
        "id": "DAfS_8pfVmvN",
        "colab_type": "code",
        "colab": {}
      },
      "source": [
        "#one-hot encode target column\n",
        "y_train_enc = tf.keras.utils.to_categorical(y_train)\n",
        "y_test_enc = tf.keras.utils.to_categorical(y_test)"
      ],
      "execution_count": 0,
      "outputs": []
    },
    {
      "cell_type": "code",
      "metadata": {
        "id": "PsqmUWWeUeT8",
        "colab_type": "code",
        "colab": {}
      },
      "source": [
        "model=tf.keras.Sequential()\n",
        "model.add(tf.keras.layers.Convolution2D(100,kernel_size=3, activation='relu', input_shape=(32,32,3),use_bias=False))\n",
        "model.add(tf.keras.layers.MaxPool2D(pool_size=(2, 2)))\n",
        "model.add(tf.keras.layers.Convolution2D(100,kernel_size=3, activation='relu',use_bias=False))\n",
        "model.add(tf.keras.layers.MaxPool2D(pool_size=(2, 2)))\n",
        "model.add(tf.keras.layers.Convolution2D(100,kernel_size=3, activation='relu',use_bias=False))\n",
        "model.add(tf.keras.layers.MaxPool2D(pool_size=(2, 2)))\n",
        "model.add(tf.keras.layers.Flatten())\n",
        "model.add(tf.keras.layers.Dense(100, activation='relu', kernel_regularizer=tf.keras.regularizers.l1(0.005))) #prevent overfitting\n",
        "model.add(tf.keras.layers.Dropout(0.1)) #prevent overfitting\n",
        "model.add(tf.keras.layers.Dense(50, activation='relu', kernel_regularizer=tf.keras.regularizers.l1(0.005))) #prevent overfitting\n",
        "model.add(tf.keras.layers.Dropout(0.1)) #prevent overfitting\n",
        "model.add(tf.keras.layers.Dense(10, activation='softmax'))"
      ],
      "execution_count": 0,
      "outputs": []
    },
    {
      "cell_type": "code",
      "metadata": {
        "id": "gJgWy0APdWIv",
        "colab_type": "code",
        "outputId": "4a1175f7-d3e7-49f1-d60d-c5bce4618f29",
        "colab": {
          "base_uri": "https://localhost:8080/",
          "height": 561
        }
      },
      "source": [
        "model.summary()"
      ],
      "execution_count": 59,
      "outputs": [
        {
          "output_type": "stream",
          "text": [
            "Model: \"sequential_15\"\n",
            "_________________________________________________________________\n",
            "Layer (type)                 Output Shape              Param #   \n",
            "=================================================================\n",
            "conv2d_35 (Conv2D)           (None, 30, 30, 100)       2700      \n",
            "_________________________________________________________________\n",
            "max_pooling2d_35 (MaxPooling (None, 15, 15, 100)       0         \n",
            "_________________________________________________________________\n",
            "conv2d_36 (Conv2D)           (None, 13, 13, 100)       90000     \n",
            "_________________________________________________________________\n",
            "max_pooling2d_36 (MaxPooling (None, 6, 6, 100)         0         \n",
            "_________________________________________________________________\n",
            "conv2d_37 (Conv2D)           (None, 4, 4, 100)         90000     \n",
            "_________________________________________________________________\n",
            "max_pooling2d_37 (MaxPooling (None, 2, 2, 100)         0         \n",
            "_________________________________________________________________\n",
            "flatten_10 (Flatten)         (None, 400)               0         \n",
            "_________________________________________________________________\n",
            "dense_18 (Dense)             (None, 100)               40100     \n",
            "_________________________________________________________________\n",
            "dropout_18 (Dropout)         (None, 100)               0         \n",
            "_________________________________________________________________\n",
            "dense_19 (Dense)             (None, 50)                5050      \n",
            "_________________________________________________________________\n",
            "dropout_19 (Dropout)         (None, 50)                0         \n",
            "_________________________________________________________________\n",
            "dense_20 (Dense)             (None, 10)                510       \n",
            "=================================================================\n",
            "Total params: 228,360\n",
            "Trainable params: 228,360\n",
            "Non-trainable params: 0\n",
            "_________________________________________________________________\n"
          ],
          "name": "stdout"
        }
      ]
    },
    {
      "cell_type": "code",
      "metadata": {
        "id": "C50luz0WVMEd",
        "colab_type": "code",
        "colab": {}
      },
      "source": [
        "#compile model using accuracy to measure model performance\n",
        "model.compile(optimizer='adam', loss=tf.keras.losses.categorical_crossentropy, metrics=['accuracy'])"
      ],
      "execution_count": 0,
      "outputs": []
    },
    {
      "cell_type": "code",
      "metadata": {
        "id": "ZSuZXwyGVNzL",
        "colab_type": "code",
        "outputId": "66518d54-c19f-4240-ac00-41efe1533350",
        "colab": {
          "base_uri": "https://localhost:8080/",
          "height": 714
        }
      },
      "source": [
        "hist=model.fit(x_train, y_train_enc, validation_data=(x_test, y_test_enc), epochs=20)"
      ],
      "execution_count": 61,
      "outputs": [
        {
          "output_type": "stream",
          "text": [
            "Train on 50000 samples, validate on 10000 samples\n",
            "Epoch 1/20\n",
            "50000/50000 [==============================] - 11s 215us/sample - loss: 4.4032 - accuracy: 0.3577 - val_loss: 1.8453 - val_accuracy: 0.4954\n",
            "Epoch 2/20\n",
            "50000/50000 [==============================] - 10s 201us/sample - loss: 1.6794 - accuracy: 0.4986 - val_loss: 1.5836 - val_accuracy: 0.5031\n",
            "Epoch 3/20\n",
            "50000/50000 [==============================] - 10s 200us/sample - loss: 1.4704 - accuracy: 0.5496 - val_loss: 1.3827 - val_accuracy: 0.5814\n",
            "Epoch 4/20\n",
            "50000/50000 [==============================] - 10s 199us/sample - loss: 1.3798 - accuracy: 0.5845 - val_loss: 1.2960 - val_accuracy: 0.6176\n",
            "Epoch 5/20\n",
            "50000/50000 [==============================] - 10s 201us/sample - loss: 1.3123 - accuracy: 0.6131 - val_loss: 1.3216 - val_accuracy: 0.6096\n",
            "Epoch 6/20\n",
            "50000/50000 [==============================] - 10s 200us/sample - loss: 1.2584 - accuracy: 0.6356 - val_loss: 1.2132 - val_accuracy: 0.6487\n",
            "Epoch 7/20\n",
            "50000/50000 [==============================] - 10s 200us/sample - loss: 1.2165 - accuracy: 0.6529 - val_loss: 1.2702 - val_accuracy: 0.6576\n",
            "Epoch 8/20\n",
            "50000/50000 [==============================] - 10s 200us/sample - loss: 1.1911 - accuracy: 0.6660 - val_loss: 1.1669 - val_accuracy: 0.6712\n",
            "Epoch 9/20\n",
            "50000/50000 [==============================] - 10s 200us/sample - loss: 1.1485 - accuracy: 0.6846 - val_loss: 1.1755 - val_accuracy: 0.6717\n",
            "Epoch 10/20\n",
            "50000/50000 [==============================] - 10s 202us/sample - loss: 1.1142 - accuracy: 0.6935 - val_loss: 1.1751 - val_accuracy: 0.6710\n",
            "Epoch 11/20\n",
            "50000/50000 [==============================] - 10s 202us/sample - loss: 1.0926 - accuracy: 0.7065 - val_loss: 1.1949 - val_accuracy: 0.6731\n",
            "Epoch 12/20\n",
            "50000/50000 [==============================] - 10s 200us/sample - loss: 1.0673 - accuracy: 0.7146 - val_loss: 1.1693 - val_accuracy: 0.6830\n",
            "Epoch 13/20\n",
            "50000/50000 [==============================] - 10s 203us/sample - loss: 1.0461 - accuracy: 0.7235 - val_loss: 1.1320 - val_accuracy: 0.6958\n",
            "Epoch 14/20\n",
            "50000/50000 [==============================] - 10s 207us/sample - loss: 1.0363 - accuracy: 0.7302 - val_loss: 1.1798 - val_accuracy: 0.6951\n",
            "Epoch 15/20\n",
            "50000/50000 [==============================] - 10s 201us/sample - loss: 1.0088 - accuracy: 0.7366 - val_loss: 1.1501 - val_accuracy: 0.7039\n",
            "Epoch 16/20\n",
            "50000/50000 [==============================] - 10s 200us/sample - loss: 0.9909 - accuracy: 0.7425 - val_loss: 1.2149 - val_accuracy: 0.6848\n",
            "Epoch 17/20\n",
            "50000/50000 [==============================] - 10s 202us/sample - loss: 0.9837 - accuracy: 0.7482 - val_loss: 1.1489 - val_accuracy: 0.6977\n",
            "Epoch 18/20\n",
            "50000/50000 [==============================] - 10s 202us/sample - loss: 0.9670 - accuracy: 0.7535 - val_loss: 1.2422 - val_accuracy: 0.6857\n",
            "Epoch 19/20\n",
            "50000/50000 [==============================] - 10s 200us/sample - loss: 0.9542 - accuracy: 0.7586 - val_loss: 1.1861 - val_accuracy: 0.6977\n",
            "Epoch 20/20\n",
            "50000/50000 [==============================] - 10s 200us/sample - loss: 0.9259 - accuracy: 0.7644 - val_loss: 1.1295 - val_accuracy: 0.7003\n"
          ],
          "name": "stdout"
        }
      ]
    },
    {
      "cell_type": "code",
      "metadata": {
        "id": "tNbwybKacDVB",
        "colab_type": "code",
        "outputId": "f6e5a42c-8287-47f7-bfd2-f752c89dc31a",
        "colab": {
          "base_uri": "https://localhost:8080/",
          "height": 265
        }
      },
      "source": [
        "plt.plot(hist.history['accuracy'])\n",
        "plt.plot(hist.history['val_accuracy'])\n",
        "plt.show()"
      ],
      "execution_count": 64,
      "outputs": [
        {
          "output_type": "display_data",
          "data": {
            "image/png": "[encoded data removed]",
            "text/plain": [
              "<Figure size 432x288 with 1 Axes>"
            ]
          },
          "metadata": {
            "tags": []
          }
        }
      ]
    },
    {
      "cell_type": "code",
      "metadata": {
        "id": "cEWdLLZGcPAR",
        "colab_type": "code",
        "outputId": "5c32d58e-0218-4c16-a92f-376cc9f06aa5",
        "colab": {
          "base_uri": "https://localhost:8080/",
          "height": 265
        }
      },
      "source": [
        "plt.plot(hist.history['loss'])\n",
        "plt.plot(hist.history['val_loss'])\n",
        "plt.show()"
      ],
      "execution_count": 65,
      "outputs": [
        {
          "output_type": "display_data",
          "data": {
            "image/png": "[encoded data removed]",
            "text/plain": [
              "<Figure size 432x288 with 1 Axes>"
            ]
          },
          "metadata": {
            "tags": []
          }
        }
      ]
    },
    {
      "cell_type": "markdown",
      "metadata": {
        "id": "S2JMCm50l6Qm",
        "colab_type": "text"
      },
      "source": [
        "Analise os gráficos do treinamento e testes... o que acha?\n"
      ]
    },
    {
      "cell_type": "code",
      "metadata": {
        "id": "1BcWer3Ll9cF",
        "colab_type": "code",
        "colab": {}
      },
      "source": [
        "# Overfitting\n",
        "# How to solve?\n",
        "# Dropout, Regularization (Check by length of input, case too long, there's a possible overfitting caused by variance.),"
      ],
      "execution_count": 0,
      "outputs": []
    }
  ]
}