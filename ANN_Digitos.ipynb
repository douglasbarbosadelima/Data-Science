{
  "nbformat": 4,
  "nbformat_minor": 0,
  "metadata": {
    "kernelspec": {
      "display_name": "Python 3",
      "language": "python",
      "name": "python3"
    },
    "language_info": {
      "codemirror_mode": {
        "name": "ipython",
        "version": 3
      },
      "file_extension": ".py",
      "mimetype": "text/x-python",
      "name": "python",
      "nbconvert_exporter": "python",
      "pygments_lexer": "ipython3",
      "version": "3.6.3"
    },
    "colab": {
      "name": "ANN_Digitos.ipynb",
      "provenance": [],
      "collapsed_sections": [],
      "include_colab_link": true
    }
  },
  "cells": [
    {
      "cell_type": "markdown",
      "metadata": {
        "id": "view-in-github",
        "colab_type": "text"
      },
      "source": [
        "<a href=\"https://colab.research.google.com/github/douglasbarbosadelima/Data-Science/blob/master/ANN_Digitos.ipynb\" target=\"_parent\"><img src=\"https://colab.research.google.com/assets/colab-badge.svg\" alt=\"Open In Colab\"/></a>"
      ]
    },
    {
      "cell_type": "markdown",
      "metadata": {
        "id": "e2a2UKPGe_Xu",
        "colab_type": "text"
      },
      "source": [
        "# Rede Neural para identificar dígitos feitos à mão"
      ]
    },
    {
      "cell_type": "code",
      "metadata": {
        "id": "oSkhVxEOe_Xv",
        "colab_type": "code",
        "colab": {}
      },
      "source": [
        "# -*- coding: utf-8 -*-\n",
        "\"\"\"\n",
        "\n",
        "Linked Education\n",
        "\n",
        "\"\"\"\n",
        "import numpy as np\n",
        "from sklearn.model_selection import train_test_split\n",
        "from sklearn.datasets import load_digits\n",
        "from sklearn.neural_network import MLPClassifier\n",
        "import matplotlib.pyplot as plt\n",
        "import random as r\n",
        "from sklearn.metrics import accuracy_score\n"
      ],
      "execution_count": 0,
      "outputs": []
    },
    {
      "cell_type": "code",
      "metadata": {
        "id": "BjmxcayUqeRF",
        "colab_type": "code",
        "colab": {}
      },
      "source": [
        "def muda_tom(X, m):\n",
        "  for i in range(len(X)):\n",
        "    for k in range(len(X[0])):\n",
        "      X[i,k] += m\n",
        "      if X[i, k] > 15: X[i, k] = 15\n",
        "      if X[i, k] < 0: X[i, k] = 0\n",
        "  return X"
      ],
      "execution_count": 0,
      "outputs": []
    },
    {
      "cell_type": "code",
      "metadata": {
        "collapsed": true,
        "id": "KxZ5flyve_Xy",
        "colab_type": "code",
        "colab": {
          "base_uri": "https://localhost:8080/",
          "height": 829
        },
        "outputId": "47b62a05-3ca7-4278-cd3c-f129570305cb"
      },
      "source": [
        "\n",
        "\n",
        "#importa a base de dígitos em formato \"dataset\"\n",
        "\n",
        "#importa a base de dígitos em tupla\n",
        "\n",
        "digits1 = load_digits(return_X_y=True)\n",
        "# em digits1[0] : vetores da imagem\n",
        "# em digits1[1] : classes reais das imagens (dígitos)\n",
        "X=np.array(list(digits1[0]))\n",
        "\n",
        "Y=np.array(list(digits1[1]))\n",
        "\n",
        "plt.gray() \n",
        "plt.imshow(X[0].reshape((8,8))) \n",
        "plt.show() \n",
        "\n",
        "X = muda_tom(X, q3)\n",
        "\n",
        "plt.gray() \n",
        "plt.imshow(X[0].reshape((8,8))) \n",
        "plt.show() \n",
        "\n",
        "#Obtenha a quantidade de amostras por classe\n",
        "yl = list(Y)\n",
        "dict_classifier = {}\n",
        "\n",
        "for i in range(len(yl)):\n",
        "  if yl.count(i) > 0: dict_classifier[i] = yl.count(i)\n",
        "\n",
        "print(dict_classifier)\n",
        "\n",
        "#Obtenha acurácia com amostra toda e com split 70 30\n",
        "ann_d = MLPClassifier(hidden_layer_sizes=(2000,), max_iter=3000, random_state=42, activation='relu')\n",
        "ann_d.fit(X, Y)\n",
        "ye=ann_d.predict(X)\n",
        "\n",
        "certos = 0\n",
        "\n",
        "for i in range(len(Y)):\n",
        "  if ye[i] == Y[i]: certos += 1\n",
        "  else:\n",
        "    plt.gray() \n",
        "    plt.imshow(X[i].reshape((8,8))) \n",
        "    plt.show()\n",
        "    print(Y[i], ye[i])\n",
        "\n",
        "print(certos/len(Y))\n",
        "\n",
        "print(accuracy_score(ye, Y))\n",
        "\n",
        "x_train, x_test, y_train, y_test = train_test_split(X, Y, test_size=0.30, random_state=42)\n",
        "ann_d.fit(x_train, y_train)\n",
        "yet = ann_d.predict(x_test)\n",
        "\n",
        "print(accuracy_score(yet, y_test))\n",
        "\n",
        "plt.plot(yet, 'bo')\n",
        "plt.plot(y_test, 'ro')\n",
        "plt.show()\n",
        "\n",
        "#evolua o modelo"
      ],
      "execution_count": 25,
      "outputs": [
        {
          "output_type": "display_data",
          "data": {
            "image/png": "[encoded data removed]",
            "text/plain": [
              "<Figure size 432x288 with 1 Axes>"
            ]
          },
          "metadata": {
            "tags": []
          }
        },
        {
          "output_type": "display_data",
          "data": {
            "image/png": "[encoded data removed]",
            "text/plain": [
              "<Figure size 432x288 with 1 Axes>"
            ]
          },
          "metadata": {
            "tags": []
          }
        },
        {
          "output_type": "stream",
          "text": [
            "{0: 178, 1: 182, 2: 177, 3: 183, 4: 181, 5: 182, 6: 181, 7: 179, 8: 174, 9: 180}\n",
            "1.0\n",
            "1.0\n",
            "0.987037037037037\n"
          ],
          "name": "stdout"
        },
        {
          "output_type": "display_data",
          "data": {
            "image/png": "[encoded data removed]",
            "text/plain": [
              "<Figure size 432x288 with 1 Axes>"
            ]
          },
          "metadata": {
            "tags": []
          }
        }
      ]
    },
    {
      "cell_type": "markdown",
      "metadata": {
        "id": "mjOhFu7se_X0",
        "colab_type": "text"
      },
      "source": [
        "Tente melhorar!"
      ]
    },
    {
      "cell_type": "code",
      "metadata": {
        "id": "ipfHOa6De_X1",
        "colab_type": "code",
        "colab": {
          "base_uri": "https://localhost:8080/",
          "height": 265
        },
        "outputId": "c1a8abec-384c-4372-bb1d-6bf85efe5fe7"
      },
      "source": [
        "m_fig = np.zeros((64,))\n",
        "plt.gray() \n",
        "plt.imshow(m_fig.reshape((8,8))) \n",
        "plt.show() "
      ],
      "execution_count": 32,
      "outputs": [
        {
          "output_type": "display_data",
          "data": {
            "image/png": "[encoded data removed]",
            "text/plain": [
              "<Figure size 432x288 with 1 Axes>"
            ]
          },
          "metadata": {
            "tags": []
          }
        }
      ]
    },
    {
      "cell_type": "code",
      "metadata": {
        "id": "h2oSqCrfsoGj",
        "colab_type": "code",
        "colab": {
          "base_uri": "https://localhost:8080/",
          "height": 265
        },
        "outputId": "213860fd-b09a-475b-f400-05c290736f2d"
      },
      "source": [
        "m_fig8 = m_fig.reshape((8, 8))\n",
        "m_fig8[0:8, 3:5] = 15\n",
        "plt.imshow(m_fig8.reshape((8,8))) \n",
        "plt.show()"
      ],
      "execution_count": 39,
      "outputs": [
        {
          "output_type": "display_data",
          "data": {
            "image/png": "[encoded data removed]",
            "text/plain": [
              "<Figure size 432x288 with 1 Axes>"
            ]
          },
          "metadata": {
            "tags": []
          }
        }
      ]
    },
    {
      "cell_type": "code",
      "metadata": {
        "id": "voZoZysktHjg",
        "colab_type": "code",
        "colab": {
          "base_uri": "https://localhost:8080/",
          "height": 34
        },
        "outputId": "0cd6ffee-cf55-4922-90c2-ebbb7a530ca6"
      },
      "source": [
        "mfig = m_fig.reshape((64, ))\n",
        "ann_d.predict([m_fig])"
      ],
      "execution_count": 37,
      "outputs": [
        {
          "output_type": "execute_result",
          "data": {
            "text/plain": [
              "array([1])"
            ]
          },
          "metadata": {
            "tags": []
          },
          "execution_count": 37
        }
      ]
    }
  ]
}