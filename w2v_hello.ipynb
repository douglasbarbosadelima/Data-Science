{
  "nbformat": 4,
  "nbformat_minor": 0,
  "metadata": {
    "colab": {
      "name": "w2v_hello.ipynb",
      "provenance": [],
      "include_colab_link": true
    },
    "kernelspec": {
      "name": "python3",
      "display_name": "Python 3"
    }
  },
  "cells": [
    {
      "cell_type": "markdown",
      "metadata": {
        "id": "view-in-github",
        "colab_type": "text"
      },
      "source": [
        "<a href=\"https://colab.research.google.com/github/douglasbarbosadelima/Data-Science/blob/master/w2v_hello.ipynb\" target=\"_parent\"><img src=\"https://colab.research.google.com/assets/colab-badge.svg\" alt=\"Open In Colab\"/></a>"
      ]
    },
    {
      "cell_type": "code",
      "metadata": {
        "id": "8A9ptJ0FAn3w",
        "colab_type": "code",
        "outputId": "388233c3-b82e-4804-e3af-647d7baa18bc",
        "colab": {
          "base_uri": "https://localhost:8080/",
          "height": 321
        }
      },
      "source": [
        "from gensim.models import Word2Vec\n",
        "\n",
        "frases = [['cachorro', 'gosta', 'osso'],\n",
        "['carro', 'custa', 'dinheiro'],\n",
        "['cachorro', 'morde', 'pessoas'],\n",
        "['carro', 'corre', 'muito'],\n",
        "['cachorro', 'gosta', 'dono'],\n",
        "['carro', 'transporta', 'pessoas']]\n",
        "model = Word2Vec(frases, min_count=1,size=2,window=1)#embedding com x e y para fazer gráfico. Normalmente, muitas dimensões\n",
        "print(model)\n",
        "words = list(model.wv.vocab)\n",
        "print(words)\n",
        "print(model.wv.get_vector('cachorro'))#encoding para cachorro\n",
        "\n",
        "import matplotlib.pyplot as plt\n",
        "for palavra in words:\n",
        "  rep = model.wv.get_vector(palavra)\n",
        "  plt.plot(rep[0], rep[1], 'bo')\n",
        "  plt.text(rep[0] + 0.01, rep[1] + 0.01, palavra)\n",
        "plt.show()"
      ],
      "execution_count": 8,
      "outputs": [
        {
          "output_type": "stream",
          "text": [
            "Word2Vec(vocab=12, size=2, alpha=0.025)\n",
            "['cachorro', 'gosta', 'osso', 'carro', 'custa', 'dinheiro', 'morde', 'pessoas', 'corre', 'muito', 'dono', 'transporta']\n",
            "[-0.22561029  0.12609954]\n"
          ],
          "name": "stdout"
        },
        {
          "output_type": "display_data",
          "data": {
            "image/png": "[encoded data removed]",
            "text/plain": [
              "<Figure size 432x288 with 1 Axes>"
            ]
          },
          "metadata": {
            "tags": []
          }
        }
      ]
    },
    {
      "cell_type": "code",
      "metadata": {
        "id": "d3WHyR6eEbpR",
        "colab_type": "code",
        "colab": {}
      },
      "source": [
        ""
      ],
      "execution_count": 0,
      "outputs": []
    }
  ]
}