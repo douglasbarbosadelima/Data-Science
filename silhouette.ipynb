{
  "nbformat": 4,
  "nbformat_minor": 0,
  "metadata": {
    "kernelspec": {
      "display_name": "Python 3",
      "language": "python",
      "name": "python3"
    },
    "language_info": {
      "codemirror_mode": {
        "name": "ipython",
        "version": 3
      },
      "file_extension": ".py",
      "mimetype": "text/x-python",
      "name": "python",
      "nbconvert_exporter": "python",
      "pygments_lexer": "ipython3",
      "version": "3.6.5"
    },
    "colab": {
      "name": "silhouette.ipynb",
      "provenance": [],
      "include_colab_link": true
    }
  },
  "cells": [
    {
      "cell_type": "markdown",
      "metadata": {
        "id": "view-in-github",
        "colab_type": "text"
      },
      "source": [
        "<a href=\"https://colab.research.google.com/github/douglasbarbosadelima/Data-Science/blob/master/silhouette.ipynb\" target=\"_parent\"><img src=\"https://colab.research.google.com/assets/colab-badge.svg\" alt=\"Open In Colab\"/></a>"
      ]
    },
    {
      "cell_type": "markdown",
      "metadata": {
        "id": "nsOPDLZOy67J",
        "colab_type": "text"
      },
      "source": [
        "# Índice de qualidade de cluster Silhouette\n"
      ]
    },
    {
      "cell_type": "code",
      "metadata": {
        "id": "VT09dgXpy67L",
        "colab_type": "code",
        "colab": {}
      },
      "source": [
        "from sklearn.cluster import KMeans\n",
        "from sklearn.metrics import silhouette_samples, silhouette_score\n",
        "import numpy as np"
      ],
      "execution_count": 0,
      "outputs": []
    },
    {
      "cell_type": "code",
      "metadata": {
        "id": "MBjkidxfy67O",
        "colab_type": "code",
        "colab": {}
      },
      "source": [
        "X = np.array([[1, 1], [2, 2], [5, 5],\n",
        "              [5, 6], [1,5], [2, 6]])"
      ],
      "execution_count": 0,
      "outputs": []
    },
    {
      "cell_type": "code",
      "metadata": {
        "id": "acBjJe_Ay67Q",
        "colab_type": "code",
        "colab": {}
      },
      "source": [
        "def dist(v1,v2):\n",
        "    return np.linalg.norm(v2-v1)"
      ],
      "execution_count": 0,
      "outputs": []
    },
    {
      "cell_type": "code",
      "metadata": {
        "id": "vIB5k1zay67S",
        "colab_type": "code",
        "colab": {
          "base_uri": "https://localhost:8080/",
          "height": 255
        },
        "outputId": "8feca4e4-deb3-4bb1-96d4-87eb98aa79f3"
      },
      "source": [
        "k=2\n",
        "kmeans = KMeans(n_clusters=k, random_state=0).fit(X)\n",
        "print('Cluster de cada Ponto...',kmeans.labels_)\n",
        "\n",
        "print('Centróides dos Clusters', kmeans.cluster_centers_)\n",
        "\n",
        "silhouette_avg = silhouette_score(X, kmeans.labels_)\n",
        "print('Média Silhouette Geral :',silhouette_avg)\n",
        "sample_silhouette_values = np.array(silhouette_samples(X,kmeans.labels_))\n",
        "\n",
        "for i in range(k):\n",
        "    l=[v for v in sample_silhouette_values]\n",
        "    l_index=[j for j in range(len(l)) if kmeans.labels_[j]==i]\n",
        "    s=[l[j] for j in l_index]\n",
        "    print('Numero de elementos do cluster ',i,'=',len(s))\n",
        "    print('Silhouette médio do cluster ',i,'=',np.array(s).mean())\n",
        "    \n",
        "for i in range(len(X)):\n",
        "    print('Silhouette do ponto ',i,'=',sample_silhouette_values[i])"
      ],
      "execution_count": 4,
      "outputs": [
        {
          "output_type": "stream",
          "text": [
            "Cluster de cada Ponto... [1 1 0 0 0 0]\n",
            "Centróides dos Clusters [[3.25 5.5 ]\n",
            " [1.5  1.5 ]]\n",
            "Média Silhouette Geral : 0.48673192668404397\n",
            "Numero de elementos do cluster  0 = 4\n",
            "Silhouette médio do cluster  0 = 0.38314202532297703\n",
            "Numero de elementos do cluster  1 = 2\n",
            "Silhouette médio do cluster  1 = 0.6939117294061781\n",
            "Silhouette do ponto  0 = 0.7326501827093188\n",
            "Silhouette do ponto  1 = 0.6551732761030373\n",
            "Silhouette do ponto  2 = 0.45032363014928306\n",
            "Silhouette do ponto  3 = 0.5250947338945307\n",
            "Silhouette do ponto  4 = 0.1122638504572634\n",
            "Silhouette do ponto  5 = 0.44488588679083096\n"
          ],
          "name": "stdout"
        }
      ]
    },
    {
      "cell_type": "code",
      "metadata": {
        "id": "55yZErI-y67U",
        "colab_type": "code",
        "colab": {
          "base_uri": "https://localhost:8080/",
          "height": 34
        },
        "outputId": "1daa437f-cb54-4d42-8c11-61b6a3dcb80d"
      },
      "source": [
        "dist(X[0],X[1])"
      ],
      "execution_count": 5,
      "outputs": [
        {
          "output_type": "execute_result",
          "data": {
            "text/plain": [
              "1.4142135623730951"
            ]
          },
          "metadata": {
            "tags": []
          },
          "execution_count": 5
        }
      ]
    }
  ]
}