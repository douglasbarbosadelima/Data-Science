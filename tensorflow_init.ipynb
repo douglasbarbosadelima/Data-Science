{
  "nbformat": 4,
  "nbformat_minor": 0,
  "metadata": {
    "colab": {
      "name": "tensorflow-init.ipynb",
      "provenance": [],
      "include_colab_link": true
    },
    "kernelspec": {
      "name": "python3",
      "display_name": "Python 3"
    }
  },
  "cells": [
    {
      "cell_type": "markdown",
      "metadata": {
        "id": "view-in-github",
        "colab_type": "text"
      },
      "source": [
        "<a href=\"https://colab.research.google.com/github/douglasbarbosadelima/Data-Science/blob/master/tensorflow_init.ipynb\" target=\"_parent\"><img src=\"https://colab.research.google.com/assets/colab-badge.svg\" alt=\"Open In Colab\"/></a>"
      ]
    },
    {
      "cell_type": "code",
      "metadata": {
        "id": "yUYhePLECBtn",
        "colab_type": "code",
        "colab": {
          "base_uri": "https://localhost:8080/",
          "height": 34
        },
        "outputId": "37d97aac-fccc-4cdb-8b3e-28a25b1e74f4"
      },
      "source": [
        "import tensorflow as tf\n",
        "\n",
        "a = tf.Variable(15, dtype=tf.int32)\n",
        "b = tf.Variable(5, dtype=tf.int32)\n",
        "\n",
        "dv = tf.divide(tf.multiply(a, b), tf.add(a, b))\n",
        "\n",
        "print('Antes da Session', dv)"
      ],
      "execution_count": 5,
      "outputs": [
        {
          "output_type": "stream",
          "text": [
            "Antes da Session Tensor(\"truediv:0\", shape=(), dtype=float64)\n"
          ],
          "name": "stdout"
        }
      ]
    },
    {
      "cell_type": "code",
      "metadata": {
        "id": "zJ0MUVVPCdwk",
        "colab_type": "code",
        "colab": {
          "base_uri": "https://localhost:8080/",
          "height": 34
        },
        "outputId": "0a6e79e8-eb80-4785-bc81-617c56dc6cf1"
      },
      "source": [
        "with tf.Session() as sess:\n",
        "  sess.run(tf.initializers.global_variables())\n",
        "  print(sess.run(a), sess.run(b), sess.run(dv))"
      ],
      "execution_count": 8,
      "outputs": [
        {
          "output_type": "stream",
          "text": [
            "15 5 3.75\n"
          ],
          "name": "stdout"
        }
      ]
    }
  ]
}