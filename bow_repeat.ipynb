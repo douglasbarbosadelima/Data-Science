{
  "nbformat": 4,
  "nbformat_minor": 0,
  "metadata": {
    "colab": {
      "name": "bow_repeat.ipynb",
      "provenance": [],
      "collapsed_sections": [],
      "include_colab_link": true
    },
    "kernelspec": {
      "name": "python3",
      "display_name": "Python 3"
    }
  },
  "cells": [
    {
      "cell_type": "markdown",
      "metadata": {
        "id": "view-in-github",
        "colab_type": "text"
      },
      "source": [
        "<a href=\"https://colab.research.google.com/github/douglasbarbosadelima/Data-Science/blob/master/bow_repeat.ipynb\" target=\"_parent\"><img src=\"https://colab.research.google.com/assets/colab-badge.svg\" alt=\"Open In Colab\"/></a>"
      ]
    },
    {
      "cell_type": "markdown",
      "metadata": {
        "id": "2z6XBTUaTukn",
        "colab_type": "text"
      },
      "source": [
        "Bag of words, conceitos básicos + tf*idf"
      ]
    },
    {
      "cell_type": "code",
      "metadata": {
        "id": "NY8mUmhXaD-q",
        "colab_type": "code",
        "colab": {
          "base_uri": "https://localhost:8080/",
          "height": 119
        },
        "outputId": "e8ffe63f-7080-4d0c-fa7b-795741974203"
      },
      "source": [
        "from sklearn.feature_extraction.text import CountVectorizer\n",
        "from sklearn.feature_extraction.text import TfidfVectorizer\n",
        "import math\n",
        "import numpy as np\n",
        "texto = [\n",
        "        \"O cavalo foi encontrado próximo à fazenda na fazenda com fazenda\",\n",
        "        \"Os donos se assustaram com a polícia na fazenda\",\n",
        "        \"Os ladrões já conheciam a região\"\n",
        "        ]\n",
        "\n",
        "vectorizer = CountVectorizer(stop_words=['o','se','na','a','os','já','com','à'])\n",
        "vectorizer.fit(texto)\n",
        "print(vectorizer.vocabulary_)\n",
        "vector = vectorizer.transform(texto)#transforma em vetores encoded para \"sparse\"\n",
        "print('O tipo de vector é ',type(vector))\n",
        "print(vector.shape)\n",
        "print(vector.toarray()) #Check occurrency numbers // [0 1 0 0 1 *** 3 *** 1 0 0 1 0]"
      ],
      "execution_count": 3,
      "outputs": [
        {
          "output_type": "stream",
          "text": [
            "{'cavalo': 1, 'foi': 6, 'encontrado': 4, 'próximo': 9, 'fazenda': 5, 'donos': 3, 'assustaram': 0, 'polícia': 8, 'ladrões': 7, 'conheciam': 2, 'região': 10}\n",
            "O tipo de vector é  <class 'scipy.sparse.csr.csr_matrix'>\n",
            "(3, 11)\n",
            "[[0 1 0 0 1 3 1 0 0 1 0]\n",
            " [1 0 0 1 0 1 0 0 1 0 0]\n",
            " [0 0 1 0 0 0 0 1 0 0 1]]\n"
          ],
          "name": "stdout"
        }
      ]
    },
    {
      "cell_type": "code",
      "metadata": {
        "id": "ZD7I8DIiaxES",
        "colab_type": "code",
        "outputId": "6bcd4ad5-e5e4-4348-f43d-3b604ebd0445",
        "colab": {
          "base_uri": "https://localhost:8080/",
          "height": 34
        }
      },
      "source": [
        "nova_amostra=[\"É uma região de cavalo,cavalo e fazenda, fazendas\"]\n",
        "v2=vectorizer.transform(nova_amostra)#observe a falta do stemming, \"fazenda\" e \"fazendas\" são palavras distintas.\n",
        "print(v2.toarray())"
      ],
      "execution_count": 5,
      "outputs": [
        {
          "output_type": "stream",
          "text": [
            "[[0 2 0 0 0 1 0 0 0 0 1]]\n"
          ],
          "name": "stdout"
        }
      ]
    },
    {
      "cell_type": "code",
      "metadata": {
        "id": "NX15kKCtbKa-",
        "colab_type": "code",
        "colab": {
          "base_uri": "https://localhost:8080/",
          "height": 153
        },
        "outputId": "9ca80379-479b-4bb6-9355-24f461700cba"
      },
      "source": [
        "#Agora será feita uma versão de encoding com tfidf (Mensurador de palavras \"chave\" em um contexto(palavras).)\n",
        "vect2 = TfidfVectorizer(stop_words=['o','se','na','a','os','já','com','à'],norm=None,smooth_idf=False)\n",
        "vect2.fit(texto)\n",
        "print(vect2.vocabulary_)\n",
        "v2 = vect2.transform(texto)#transforma em vetores encoded para  \"sparse\"\n",
        "print('O tipo de vector é ',type(v2))\n",
        "print(v2.toarray())\n"
      ],
      "execution_count": 6,
      "outputs": [
        {
          "output_type": "stream",
          "text": [
            "{'cavalo': 1, 'foi': 6, 'encontrado': 4, 'próximo': 9, 'fazenda': 5, 'donos': 3, 'assustaram': 0, 'polícia': 8, 'ladrões': 7, 'conheciam': 2, 'região': 10}\n",
            "O tipo de vector é  <class 'scipy.sparse.csr.csr_matrix'>\n",
            "[[0.         2.09861229 0.         0.         2.09861229 4.21639532\n",
            "  2.09861229 0.         0.         2.09861229 0.        ]\n",
            " [2.09861229 0.         0.         2.09861229 0.         1.40546511\n",
            "  0.         0.         2.09861229 0.         0.        ]\n",
            " [0.         0.         2.09861229 0.         0.         0.\n",
            "  0.         2.09861229 0.         0.         2.09861229]]\n"
          ],
          "name": "stdout"
        }
      ]
    },
    {
      "cell_type": "code",
      "metadata": {
        "id": "FZg1SnwPBaK5",
        "colab_type": "code",
        "colab": {
          "base_uri": "https://localhost:8080/",
          "height": 51
        },
        "outputId": "c8de0a93-e262-4206-8f24-46991d4b3815"
      },
      "source": [
        "v3=vect2.transform(nova_amostra)\n",
        "v3a=v3.toarray()\n",
        "print(v3a)\n"
      ],
      "execution_count": 7,
      "outputs": [
        {
          "output_type": "stream",
          "text": [
            "[[0.         4.19722458 0.         0.         0.         1.40546511\n",
            "  0.         0.         0.         0.         2.09861229]]\n"
          ],
          "name": "stdout"
        }
      ]
    },
    {
      "cell_type": "code",
      "metadata": {
        "id": "j-SX5qljELsf",
        "colab_type": "code",
        "colab": {}
      },
      "source": [
        "#Mostre na mão o cálculo do tf-idf"
      ],
      "execution_count": 0,
      "outputs": []
    }
  ]
}