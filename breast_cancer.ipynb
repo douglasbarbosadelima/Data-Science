{
  "nbformat": 4,
  "nbformat_minor": 0,
  "metadata": {
    "colab": {
      "name": "breast_cancer.ipynb",
      "provenance": [],
      "collapsed_sections": [],
      "include_colab_link": true
    },
    "kernelspec": {
      "name": "python3",
      "display_name": "Python 3"
    }
  },
  "cells": [
    {
      "cell_type": "markdown",
      "metadata": {
        "id": "view-in-github",
        "colab_type": "text"
      },
      "source": [
        "<a href=\"https://colab.research.google.com/github/douglasbarbosadelima/Data-Science/blob/master/breast_cancer.ipynb\" target=\"_parent\"><img src=\"https://colab.research.google.com/assets/colab-badge.svg\" alt=\"Open In Colab\"/></a>"
      ]
    },
    {
      "cell_type": "code",
      "metadata": {
        "id": "Px0fm6u4ZMYv",
        "colab_type": "code",
        "colab": {
          "base_uri": "https://localhost:8080/",
          "height": 34
        },
        "outputId": "b8e404d3-b232-4c6f-aa89-ee69360e11d0"
      },
      "source": [
        "'''\n",
        "  This notebook will proprose an NeuralNetwork solution for predict if X data represents a Cancer or not.\n",
        "'''"
      ],
      "execution_count": 59,
      "outputs": [
        {
          "output_type": "execute_result",
          "data": {
            "text/plain": [
              "'\\n  This notebook will proprose an NeuralNetwork solution for predict if X data represents a Cancer or not.\\n'"
            ]
          },
          "metadata": {
            "tags": []
          },
          "execution_count": 59
        }
      ]
    },
    {
      "cell_type": "code",
      "metadata": {
        "id": "5CoM7HR3ZXe7",
        "colab_type": "code",
        "colab": {}
      },
      "source": [
        "import numpy as np\n",
        "from sklearn.neural_network import MLPClassifier\n",
        "from sklearn.metrics import accuracy_score\n",
        "from sklearn.datasets import load_breast_cancer\n",
        "from sklearn.model_selection import train_test_split\n",
        "import matplotlib.pyplot as plt"
      ],
      "execution_count": 0,
      "outputs": []
    },
    {
      "cell_type": "code",
      "metadata": {
        "id": "mVaGx4cKZxZn",
        "colab_type": "code",
        "outputId": "0637aa47-5281-415a-f6f1-21f07fde47e2",
        "colab": {
          "base_uri": "https://localhost:8080/",
          "height": 282
        }
      },
      "source": [
        "X, y = load_breast_cancer(return_X_y = True)\n",
        "\n",
        "# This model results from same data from test and train\n",
        "model = MLPClassifier(activation='logistic', max_iter=10000)\n",
        "#Teaching Model to handle with our data's\n",
        "model.fit(X, y)\n",
        "prediction = model.predict(X)\n",
        "print('The accuracy is: ' + str(accuracy_score(prediction, y) * 100))\n",
        "\n",
        "plt.plot(prediction[:500], 'bx')\n",
        "plt.plot(y[:500], 'yo')\n",
        "plt.show()"
      ],
      "execution_count": 61,
      "outputs": [
        {
          "output_type": "stream",
          "text": [
            "The accuracy is: 95.43057996485061\n"
          ],
          "name": "stdout"
        },
        {
          "output_type": "display_data",
          "data": {
            "image/png": "[encoded data removed]",
            "text/plain": [
              "<Figure size 432x288 with 1 Axes>"
            ]
          },
          "metadata": {
            "tags": []
          }
        }
      ]
    },
    {
      "cell_type": "code",
      "metadata": {
        "id": "FZhRHS34dW9P",
        "colab_type": "code",
        "outputId": "11c92267-6588-4ea5-e851-5686617d34b0",
        "colab": {
          "base_uri": "https://localhost:8080/",
          "height": 265
        }
      },
      "source": [
        "X_split, y_split = load_breast_cancer(return_X_y=True)\n",
        "\n",
        "# This model will handle with splittable Datas\n",
        "\n",
        "model_split = MLPClassifier(activation='relu', max_iter=10000)\n",
        "\n",
        "x_train, x_test, y_train, y_test = train_test_split(X, y)\n",
        "\n",
        "model_split.fit(x_train, y_train)\n",
        "\n",
        "split_prediction = model_split.predict(x_test)\n",
        "\n",
        "accuracy_score(y_test, split_prediction) * 100\n",
        "\n",
        "plt.plot(split_prediction[:500], 'bo')\n",
        "plt.plot(y_test[:500], 'ro')\n",
        "plt.show()"
      ],
      "execution_count": 62,
      "outputs": [
        {
          "output_type": "display_data",
          "data": {
            "image/png": "[encoded data removed]",
            "text/plain": [
              "<Figure size 432x288 with 1 Axes>"
            ]
          },
          "metadata": {
            "tags": []
          }
        }
      ]
    },
    {
      "cell_type": "code",
      "metadata": {
        "id": "fyy1hVS2gVb_",
        "colab_type": "code",
        "outputId": "6b7c15ba-d6b3-40c6-89a6-85bfd18c9428",
        "colab": {
          "base_uri": "https://localhost:8080/",
          "height": 391
        }
      },
      "source": [
        "load_breast_cancer().feature_names\n",
        "print(X[1], prediction[1]) # Note below of first Array Data, if the person have this characteriscs, probably will have an Cancer.\n",
        "\n",
        "target = load_breast_cancer().target_names\n",
        "target_description = [*map(lambda x: target[x], prediction)] # Map to target_names.\n",
        "\n",
        "# Correlation of X and target\n",
        "print(X[17:20])\n",
        "print(target_description[17:20])\n",
        "\n",
        "# Count of Malign and Benign cases\n",
        "cases_obj = { 'malignant': 0, 'benign': 0 }\n",
        "for i in range(len(target_description)):\n",
        "  cases_obj[target_description[i]] += 1\n",
        "\n",
        "cases_obj"
      ],
      "execution_count": 95,
      "outputs": [
        {
          "output_type": "stream",
          "text": [
            "[2.057e+01 1.777e+01 1.329e+02 1.326e+03 8.474e-02 7.864e-02 8.690e-02\n",
            " 7.017e-02 1.812e-01 5.667e-02 5.435e-01 7.339e-01 3.398e+00 7.408e+01\n",
            " 5.225e-03 1.308e-02 1.860e-02 1.340e-02 1.389e-02 3.532e-03 2.499e+01\n",
            " 2.341e+01 1.588e+02 1.956e+03 1.238e-01 1.866e-01 2.416e-01 1.860e-01\n",
            " 2.750e-01 8.902e-02] 0\n",
            "[[1.613e+01 2.068e+01 1.081e+02 7.988e+02 1.170e-01 2.022e-01 1.722e-01\n",
            "  1.028e-01 2.164e-01 7.356e-02 5.692e-01 1.073e+00 3.854e+00 5.418e+01\n",
            "  7.026e-03 2.501e-02 3.188e-02 1.297e-02 1.689e-02 4.142e-03 2.096e+01\n",
            "  3.148e+01 1.368e+02 1.315e+03 1.789e-01 4.233e-01 4.784e-01 2.073e-01\n",
            "  3.706e-01 1.142e-01]\n",
            " [1.981e+01 2.215e+01 1.300e+02 1.260e+03 9.831e-02 1.027e-01 1.479e-01\n",
            "  9.498e-02 1.582e-01 5.395e-02 7.582e-01 1.017e+00 5.865e+00 1.124e+02\n",
            "  6.494e-03 1.893e-02 3.391e-02 1.521e-02 1.356e-02 1.997e-03 2.732e+01\n",
            "  3.088e+01 1.868e+02 2.398e+03 1.512e-01 3.150e-01 5.372e-01 2.388e-01\n",
            "  2.768e-01 7.615e-02]\n",
            " [1.354e+01 1.436e+01 8.746e+01 5.663e+02 9.779e-02 8.129e-02 6.664e-02\n",
            "  4.781e-02 1.885e-01 5.766e-02 2.699e-01 7.886e-01 2.058e+00 2.356e+01\n",
            "  8.462e-03 1.460e-02 2.387e-02 1.315e-02 1.980e-02 2.300e-03 1.511e+01\n",
            "  1.926e+01 9.970e+01 7.112e+02 1.440e-01 1.773e-01 2.390e-01 1.288e-01\n",
            "  2.977e-01 7.259e-02]]\n",
            "['malignant', 'malignant', 'benign']\n"
          ],
          "name": "stdout"
        },
        {
          "output_type": "execute_result",
          "data": {
            "text/plain": [
              "{'benign': 357, 'malignant': 212}"
            ]
          },
          "metadata": {
            "tags": []
          },
          "execution_count": 95
        }
      ]
    }
  ]
}