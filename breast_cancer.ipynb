{
  "nbformat": 4,
  "nbformat_minor": 0,
  "metadata": {
    "colab": {
      "name": "breast-cancer.ipynb",
      "provenance": [],
      "collapsed_sections": [],
      "include_colab_link": true
    },
    "kernelspec": {
      "name": "python3",
      "display_name": "Python 3"
    }
  },
  "cells": [
    {
      "cell_type": "markdown",
      "metadata": {
        "id": "view-in-github",
        "colab_type": "text"
      },
      "source": [
        "<a href=\"https://colab.research.google.com/github/douglasbarbosadelima/Data-Science/blob/master/breast_cancer.ipynb\" target=\"_parent\"><img src=\"https://colab.research.google.com/assets/colab-badge.svg\" alt=\"Open In Colab\"/></a>"
      ]
    },
    {
      "cell_type": "code",
      "metadata": {
        "id": "Px0fm6u4ZMYv",
        "colab_type": "code",
        "colab": {}
      },
      "source": [
        "'''\n",
        "  This notebook will proprose an NeuralNetwork solution for predict if X data represents a Cancer or not.\n",
        "'''"
      ],
      "execution_count": 0,
      "outputs": []
    },
    {
      "cell_type": "code",
      "metadata": {
        "id": "5CoM7HR3ZXe7",
        "colab_type": "code",
        "colab": {}
      },
      "source": [
        "import numpy as np\n",
        "from sklearn.neural_network import MLPClassifier\n",
        "from sklearn.metrics import accuracy_score\n",
        "from sklearn.datasets import load_breast_cancer\n",
        "from sklearn.model_selection import train_test_split\n",
        "import matplotlib.pyplot as plt"
      ],
      "execution_count": 0,
      "outputs": []
    },
    {
      "cell_type": "code",
      "metadata": {
        "id": "mVaGx4cKZxZn",
        "colab_type": "code",
        "colab": {
          "base_uri": "https://localhost:8080/",
          "height": 282
        },
        "outputId": "5163239e-a951-404a-d40d-ff8988725917"
      },
      "source": [
        "X, y = load_breast_cancer(return_X_y = True)\n",
        "\n",
        "# This model results from same data from test and train\n",
        "model = MLPClassifier(activation='logistic', max_iter=10000)\n",
        "model.fit(X, y)\n",
        "prediction = model.predict(X)\n",
        "print('The accuracy is: ' + str(accuracy_score(prediction, y) * 100))\n",
        "\n",
        "plt.plot(prediction[:500], 'bx')\n",
        "plt.plot(y[:500], 'yo')\n",
        "plt.show()"
      ],
      "execution_count": 35,
      "outputs": [
        {
          "output_type": "stream",
          "text": [
            "The accuracy is: 93.84885764499121\n"
          ],
          "name": "stdout"
        },
        {
          "output_type": "display_data",
          "data": {
            "image/png": "[encoded data removed]",
            "text/plain": [
              "<Figure size 432x288 with 1 Axes>"
            ]
          },
          "metadata": {
            "tags": []
          }
        }
      ]
    },
    {
      "cell_type": "code",
      "metadata": {
        "id": "FZhRHS34dW9P",
        "colab_type": "code",
        "colab": {
          "base_uri": "https://localhost:8080/",
          "height": 265
        },
        "outputId": "cc327664-b660-4340-91e8-cc5ab1260ffd"
      },
      "source": [
        "X_split, y_split = load_breast_cancer(return_X_y=True)\n",
        "\n",
        "# This model will handle with splittable Datas\n",
        "\n",
        "model_split = MLPClassifier(activation='relu', max_iter=10000)\n",
        "\n",
        "x_train, x_test, y_train, y_test = train_test_split(X, y)\n",
        "\n",
        "model_split.fit(x_train, y_train)\n",
        "\n",
        "split_prediction = model_split.predict(x_test)\n",
        "\n",
        "accuracy_score(y_test, split_prediction) * 100\n",
        "\n",
        "plt.plot(split_prediction[:500], 'bo')\n",
        "plt.plot(y_test[:500], 'ro')\n",
        "plt.show()"
      ],
      "execution_count": 44,
      "outputs": [
        {
          "output_type": "display_data",
          "data": {
            "image/png": "[encoded data removed]",
            "text/plain": [
              "<Figure size 432x288 with 1 Axes>"
            ]
          },
          "metadata": {
            "tags": []
          }
        }
      ]
    }
  ]
}