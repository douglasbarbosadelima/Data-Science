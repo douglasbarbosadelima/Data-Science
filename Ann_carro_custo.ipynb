{
  "nbformat": 4,
  "nbformat_minor": 0,
  "metadata": {
    "kernelspec": {
      "display_name": "Python 3",
      "language": "python",
      "name": "python3"
    },
    "language_info": {
      "codemirror_mode": {
        "name": "ipython",
        "version": 3
      },
      "file_extension": ".py",
      "mimetype": "text/x-python",
      "name": "python",
      "nbconvert_exporter": "python",
      "pygments_lexer": "ipython3",
      "version": "3.6.5"
    },
    "colab": {
      "name": "Ann-carro-custo.ipynb",
      "provenance": [],
      "include_colab_link": true
    }
  },
  "cells": [
    {
      "cell_type": "markdown",
      "metadata": {
        "id": "view-in-github",
        "colab_type": "text"
      },
      "source": [
        "<a href=\"https://colab.research.google.com/github/douglasbarbosadelima/Data-Science/blob/master/Ann_carro_custo.ipynb\" target=\"_parent\"><img src=\"https://colab.research.google.com/assets/colab-badge.svg\" alt=\"Open In Colab\"/></a>"
      ]
    },
    {
      "cell_type": "markdown",
      "metadata": {
        "id": "PvviHNeGTWy-",
        "colab_type": "text"
      },
      "source": [
        "# Redes neurais para avaliação do consumo do carro"
      ]
    },
    {
      "cell_type": "code",
      "metadata": {
        "id": "bGHJg3KeTWy_",
        "colab_type": "code",
        "colab": {}
      },
      "source": [
        "import pandas as pd\n",
        "import numpy as np\n",
        "from sklearn.neural_network import MLPRegressor\n",
        "from sklearn.preprocessing import StandardScaler\n",
        "import matplotlib.pyplot as plt\n",
        "from sklearn.metrics import mean_squared_error\n",
        "from sklearn.model_selection import train_test_split\n",
        "import matplotlib.pyplot as plt\n"
      ],
      "execution_count": 0,
      "outputs": []
    },
    {
      "cell_type": "code",
      "metadata": {
        "id": "whBzY0_CTWzC",
        "colab_type": "code",
        "colab": {
          "base_uri": "https://localhost:8080/",
          "height": 255
        },
        "outputId": "b49d672c-3b61-45d9-8e78-350fa0589da7"
      },
      "source": [
        "df=pd.read_csv('https://raw.githubusercontent.com/douglasbarbosadelima/Data-Science/master/cars-uci-linked.csv')\n",
        "y=df['name']\n",
        "df=df.dropna()\n",
        "df.info()\n",
        "\n"
      ],
      "execution_count": 29,
      "outputs": [
        {
          "output_type": "stream",
          "text": [
            "<class 'pandas.core.frame.DataFrame'>\n",
            "Int64Index: 392 entries, 0 to 405\n",
            "Data columns (total 9 columns):\n",
            "mpg             392 non-null float64\n",
            "cylinders       392 non-null int64\n",
            "displacement    392 non-null int64\n",
            "horsepower      392 non-null float64\n",
            "weight          392 non-null int64\n",
            "acceleration    392 non-null int64\n",
            "year            392 non-null int64\n",
            "origin          392 non-null int64\n",
            "name            392 non-null object\n",
            "dtypes: float64(2), int64(6), object(1)\n",
            "memory usage: 30.6+ KB\n"
          ],
          "name": "stdout"
        }
      ]
    },
    {
      "cell_type": "code",
      "metadata": {
        "id": "n7Mu8-UWTWzG",
        "colab_type": "code",
        "colab": {}
      },
      "source": [
        "df=df.drop(labels=['name'],axis=1)\n",
        "y=df['mpg']\n",
        "df=df.drop(labels=['mpg'],axis=1)"
      ],
      "execution_count": 0,
      "outputs": []
    },
    {
      "cell_type": "code",
      "metadata": {
        "id": "v7Tc7vfhTWzJ",
        "colab_type": "code",
        "colab": {}
      },
      "source": [
        "scaler = StandardScaler()\n",
        "scaler.fit(df)\n",
        "X=scaler.transform(df)\n"
      ],
      "execution_count": 0,
      "outputs": []
    },
    {
      "cell_type": "markdown",
      "metadata": {
        "id": "0dtJKQyFTWzL",
        "colab_type": "text"
      },
      "source": [
        "Estime o erro médio quadrático na amostra de treinamento toda com 10 perceptrons random_state=42"
      ]
    },
    {
      "cell_type": "code",
      "metadata": {
        "id": "z40HyIjdTWzL",
        "colab_type": "code",
        "colab": {
          "base_uri": "https://localhost:8080/",
          "height": 34
        },
        "outputId": "9aed06dc-6ca4-4773-adae-94814cac07aa"
      },
      "source": [
        "ann_car = MLPRegressor(hidden_layer_sizes=(10,), random_state=42, max_iter=50000)\n",
        "ann_car.fit(X, y)\n",
        "ye = ann_car.predict(X)\n",
        "\n",
        "mean_squared_error(ye, y)"
      ],
      "execution_count": 32,
      "outputs": [
        {
          "output_type": "execute_result",
          "data": {
            "text/plain": [
              "6.054650498706597"
            ]
          },
          "metadata": {
            "tags": []
          },
          "execution_count": 32
        }
      ]
    },
    {
      "cell_type": "markdown",
      "metadata": {
        "id": "EQCQEPRqTWzP",
        "colab_type": "text"
      },
      "source": [
        " Obtenha o número de perceptrons (2,10,50,100,200 ou 500) na hidden layer que minimize o erro em split 30%. Faça gráfico."
      ]
    },
    {
      "cell_type": "code",
      "metadata": {
        "id": "cNNYsLYNTWzP",
        "colab_type": "code",
        "colab": {}
      },
      "source": [
        "lh = [2, 10, 50, 100, 200, 500]\n",
        "X_train, X_test, y_train, y_test = train_test_split(X, y, test_size=0.3, random_state=42)"
      ],
      "execution_count": 0,
      "outputs": []
    },
    {
      "cell_type": "code",
      "metadata": {
        "collapsed": true,
        "id": "zUmxvE43TWzR",
        "colab_type": "code",
        "colab": {}
      },
      "source": [
        "le = []\n",
        "le_train = []\n",
        "for n in lh:\n",
        "  ann_car = MLPRegressor(hidden_layer_sizes=(n,), random_state=42, max_iter=5000)\n",
        "  ann_car.fit(X_train, y_train)\n",
        "  ye = ann_car.predict(X_test)\n",
        "  le.append(mean_squared_error(ye, y_test))\n",
        "  yet = ann_car.predict(X_train)\n",
        "  le_train.append(mean_squared_error(yet, y_train))\n",
        "\n",
        "  le, le_train"
      ],
      "execution_count": 0,
      "outputs": []
    },
    {
      "cell_type": "code",
      "metadata": {
        "collapsed": true,
        "id": "8vwbZpfPTWzU",
        "colab_type": "code",
        "colab": {
          "base_uri": "https://localhost:8080/",
          "height": 265
        },
        "outputId": "510f7031-65d6-401e-e4ed-5c050d5f9d20"
      },
      "source": [
        "plt.plot(lh, le, 'bo')\n",
        "plt.plot(lh, le_train, 'ro')\n",
        "plt.show()"
      ],
      "execution_count": 40,
      "outputs": [
        {
          "output_type": "display_data",
          "data": {
            "image/png": "[encoded data removed]",
            "text/plain": [
              "<Figure size 432x288 with 1 Axes>"
            ]
          },
          "metadata": {
            "tags": []
          }
        }
      ]
    },
    {
      "cell_type": "markdown",
      "metadata": {
        "id": "PqwoWy8iTWzX",
        "colab_type": "text"
      },
      "source": [
        "Agora é com você. Tente um erro nos testes menor que o atual.....mexer nas features? Avaliar relevância delas?"
      ]
    }
  ]
}