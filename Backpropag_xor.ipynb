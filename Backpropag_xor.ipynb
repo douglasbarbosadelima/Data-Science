{
  "nbformat": 4,
  "nbformat_minor": 0,
  "metadata": {
    "kernelspec": {
      "display_name": "Python 3",
      "language": "python",
      "name": "python3"
    },
    "language_info": {
      "codemirror_mode": {
        "name": "ipython",
        "version": 3
      },
      "file_extension": ".py",
      "mimetype": "text/x-python",
      "name": "python",
      "nbconvert_exporter": "python",
      "pygments_lexer": "ipython3",
      "version": "3.6.3"
    },
    "colab": {
      "name": "Backpropag-xor.ipynb",
      "provenance": [],
      "collapsed_sections": [],
      "include_colab_link": true
    }
  },
  "cells": [
    {
      "cell_type": "markdown",
      "metadata": {
        "id": "view-in-github",
        "colab_type": "text"
      },
      "source": [
        "<a href=\"https://colab.research.google.com/github/douglasbarbosadelima/Data-Science/blob/master/Backpropag_xor.ipynb\" target=\"_parent\"><img src=\"https://colab.research.google.com/assets/colab-badge.svg\" alt=\"Open In Colab\"/></a>"
      ]
    },
    {
      "cell_type": "markdown",
      "metadata": {
        "id": "OMkTrGuJK9sI",
        "colab_type": "text"
      },
      "source": [
        "# Backpropagation-xor\n"
      ]
    },
    {
      "cell_type": "code",
      "metadata": {
        "id": "aBFGNjiKK9sJ",
        "colab_type": "code",
        "colab": {}
      },
      "source": [
        "\"\"\"\n",
        "\n",
        "Linked Education\n",
        "\n",
        "Backpropagation XOR  saída linear (identidade)\n",
        "hidden layer: 2 perceptrons com\n",
        "ativação sigmoid\n",
        "\n",
        "Código complementa planilha ANN-backprop.xlsm\n",
        "\n",
        "Código adaptado de :\n",
        "https://brilliant.org/wiki/backpropagation/\n",
        "\n",
        "Atividade 1 : analisar código\n",
        "\n",
        "Atividade 2: comparar resultados com a planilha ANN-backprop.xlsm\n",
        "\n",
        "Atividade 3 : criar função custo (erro médio quadrático)\n",
        "e traçar gáfico : iterações x custo\n",
        "\n",
        "Atividade 4: inicializar com pesos randômicos (semente fixa)\n",
        "e verificar número de iterações até a convergência\n",
        "\n",
        "\n",
        "@author: Linked\n",
        "\"\"\"\n",
        "\n",
        "import numpy as np\n",
        "import matplotlib.pyplot as plt"
      ],
      "execution_count": 0,
      "outputs": []
    },
    {
      "cell_type": "code",
      "metadata": {
        "id": "hbb-0gmkK9sN",
        "colab_type": "code",
        "colab": {}
      },
      "source": [
        "\n",
        "\n",
        "#função custo\n",
        "\n",
        "def cost(ye,y):\n",
        "    diff = ye - y\n",
        "    return (1 / (2 *len(y))) * np.inner(diff, diff)\n",
        "\n",
        "# sigmoid \n",
        "def sigmoid(x, derivative=False):\n",
        "\n",
        "    if (derivative == True):\n",
        "        return x * (1 - x)\n",
        "    else:\n",
        "        return 1 / (1 + np.exp(-x))\n",
        "\n",
        "# pesos randômicos fixos..não utlizados\n",
        "np.random.seed(1)\n",
        "\n",
        "# learning rate\n",
        "alpha = .1 \n",
        "\n",
        "# nós na camada hidden\n",
        "num_hidden = 2\n",
        "\n",
        "# inputs\n",
        "X = np.array([  \n",
        "    [0, 0],\n",
        "    [0, 1],\n",
        "    [1, 0],\n",
        "    [1, 1]\n",
        "  \n",
        "])\n",
        "\n",
        "\n",
        "y = np.array([[0, 1, 1, 0]]).T\n",
        "\n",
        "\n",
        "\n",
        "hidden_weights=np.array([[(np.random.random() * 2) - 1,  (np.random.random() * 2) - 1],\n",
        "[(np.random.random() * 2) - 1, (np.random.random() * 2) - 1],\n",
        "[(np.random.random() * 2) - 1, (np.random.random() * 2) - 1]\n",
        "])\n",
        "\n",
        "\n",
        "output_weights=np.array([[(np.random.random() * 2) - 1],[(np.random.random() * 2) - 1],[(np.random.random() * 2) - 1]])\n",
        "\n",
        "# número de iterações : Gradient Descent\n",
        "num_iterations = 15000 \n",
        "\n",
        "costs=[]\n",
        "\n",
        "\n",
        "\n"
      ],
      "execution_count": 0,
      "outputs": []
    },
    {
      "cell_type": "code",
      "metadata": {
        "id": "H4KsjpM7K9sP",
        "colab_type": "code",
        "colab": {
          "base_uri": "https://localhost:8080/",
          "height": 707
        },
        "outputId": "dfc1407b-4c47-4095-ea67-dece23083fe4"
      },
      "source": [
        "for i in range(num_iterations):\n",
        "\n",
        "    # fase forward: obtem os outputs de todas as camadas\n",
        "    # cria uma coluna de 1 (np.stack) no X (bias)\n",
        "    input_layer_outputs = np.hstack((np.ones((X.shape[0], 1)), X))\n",
        "    hidden_layer_outputs = np.hstack((np.ones((X.shape[0], 1)), sigmoid(np.dot(input_layer_outputs, hidden_weights))))\n",
        "    output_layer_outputs = np.dot(hidden_layer_outputs, output_weights)\n",
        "\n",
        "    costs.append(cost(output_layer_outputs.reshape((4,)),y.reshape((4,))))  \n",
        "    # backward phase\n",
        "    # Erro Output \n",
        "    output_error = output_layer_outputs - y\n",
        "    # \n",
        "    # Bias não entra no cálculo\n",
        "    hidden_error = hidden_layer_outputs[:, 1:] * (1 - hidden_layer_outputs[:, 1:]) * np.dot(output_error, output_weights.T[:, 1:])\n",
        "\n",
        "    # Gradiente acumulado       \n",
        "    hidden_pd = input_layer_outputs[:, :, np.newaxis] * hidden_error[: , np.newaxis, :]\n",
        "    output_pd = hidden_layer_outputs[:, :, np.newaxis] * output_error[:, np.newaxis, :]\n",
        "\n",
        "    # Gradiente médio (final)\n",
        "    total_hidden_gradient = np.average(hidden_pd, axis=0)\n",
        "    total_output_gradient = np.average(output_pd, axis=0)\n",
        "\n",
        "    # update weights\n",
        "    hidden_weights += - alpha * total_hidden_gradient\n",
        "    output_weights += - alpha * total_output_gradient\n",
        "\n",
        "print(\n",
        "    'total_hidden_gradient:\\n', total_hidden_gradient, \n",
        "    '\\n\\ntotal_output_gradient:\\n', total_output_gradient, \n",
        "    '\\n\\nhidden_weights:\\n', hidden_weights, \n",
        "    '\\n\\noutput_weights:\\n', output_weights)\n",
        "\n",
        "print('\\n\\noutput_layer_outputs:\\n', output_layer_outputs)\n",
        "plt.plot(costs, 'bo')\n",
        "plt.show()"
      ],
      "execution_count": 36,
      "outputs": [
        {
          "output_type": "stream",
          "text": [
            "total_hidden_gradient:\n",
            " [[-8.53231138e-16 -2.11661531e-15]\n",
            " [ 9.81426196e-16  8.67949391e-16]\n",
            " [ 9.37786309e-16  8.92931688e-16]] \n",
            "\n",
            "total_output_gradient:\n",
            " [[ 8.04911693e-16]\n",
            " [ 1.55466244e-15]\n",
            " [-2.06395251e-15]] \n",
            "\n",
            "hidden_weights:\n",
            " [[ 0.41655707  2.37733631]\n",
            " [-3.1820842  -1.74503488]\n",
            " [-3.2191845  -1.75503155]] \n",
            "\n",
            "output_weights:\n",
            " [[-0.7050418 ]\n",
            " [-3.24100544]\n",
            " [ 2.90494319]]\n",
            "\n",
            "\n",
            "output_layer_outputs:\n",
            " [[1.46549439e-14]\n",
            " [1.00000000e+00]\n",
            " [1.00000000e+00]\n",
            " [3.49720253e-14]]\n"
          ],
          "name": "stdout"
        },
        {
          "output_type": "display_data",
          "data": {
            "image/png": "[encoded data removed]",
            "text/plain": [
              "<Figure size 432x288 with 1 Axes>"
            ]
          },
          "metadata": {
            "tags": []
          }
        }
      ]
    }
  ]
}