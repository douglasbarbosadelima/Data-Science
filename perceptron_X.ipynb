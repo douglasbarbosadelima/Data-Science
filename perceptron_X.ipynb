{
  "nbformat": 4,
  "nbformat_minor": 0,
  "metadata": {
    "colab": {
      "name": "perceptron_X.ipynb",
      "provenance": [],
      "include_colab_link": true
    },
    "kernelspec": {
      "name": "python3",
      "display_name": "Python 3"
    }
  },
  "cells": [
    {
      "cell_type": "markdown",
      "metadata": {
        "id": "view-in-github",
        "colab_type": "text"
      },
      "source": [
        "<a href=\"https://colab.research.google.com/github/douglasbarbosadelima/Data-Science/blob/master/perceptron_X.ipynb\" target=\"_parent\"><img src=\"https://colab.research.google.com/assets/colab-badge.svg\" alt=\"Open In Colab\"/></a>"
      ]
    },
    {
      "cell_type": "markdown",
      "metadata": {
        "id": "OG0LBWhrnCEh",
        "colab_type": "text"
      },
      "source": [
        "Criação de um perceptron, apresentação de funções de ativação clássicas"
      ]
    },
    {
      "cell_type": "code",
      "metadata": {
        "id": "rzrg2kfTm7AO",
        "colab_type": "code",
        "colab": {}
      },
      "source": [
        "import numpy as np\n",
        "import matplotlib.pyplot as plt\n",
        "import math\n"
      ],
      "execution_count": 0,
      "outputs": []
    },
    {
      "cell_type": "markdown",
      "metadata": {
        "id": "waXY3RwQnXdY",
        "colab_type": "text"
      },
      "source": [
        "Criar a função perceptron com  inputs (inp) pesos (w), bias (b) e função ativadora (fativ)"
      ]
    },
    {
      "cell_type": "code",
      "metadata": {
        "id": "I2WMPWTLnQcy",
        "colab_type": "code",
        "colab": {}
      },
      "source": [
        "def perceptron(inp, w, b, f):\n",
        "  return f(np.inner(inp, w) + b)"
      ],
      "execution_count": 0,
      "outputs": []
    },
    {
      "cell_type": "markdown",
      "metadata": {
        "id": "KbG6MGZJoAEh",
        "colab_type": "text"
      },
      "source": [
        "Criar a função ativadora sigmoid"
      ]
    },
    {
      "cell_type": "code",
      "metadata": {
        "id": "SnF1cgEln7K6",
        "colab_type": "code",
        "colab": {}
      },
      "source": [
        "def sigmoid(x):\n",
        "  return 1/(1 + math.exp(-x))"
      ],
      "execution_count": 0,
      "outputs": []
    },
    {
      "cell_type": "markdown",
      "metadata": {
        "id": "ZsI4Tg3poPEQ",
        "colab_type": "text"
      },
      "source": [
        "Fazer Gráfico de sigmoid"
      ]
    },
    {
      "cell_type": "code",
      "metadata": {
        "id": "9Rg9fLgroSi8",
        "colab_type": "code",
        "colab": {
          "base_uri": "https://localhost:8080/",
          "height": 265
        },
        "outputId": "572515d2-6781-462f-a7d5-ce3615048781"
      },
      "source": [
        "for i in range (-60, 61):\n",
        "  plt.plot(.1 * i, sigmoid(.1 * i), 'bo')\n",
        "\n",
        "plt.show()"
      ],
      "execution_count": 8,
      "outputs": [
        {
          "output_type": "display_data",
          "data": {
            "image/png": "[encoded data removed]",
            "text/plain": [
              "<Figure size 432x288 with 1 Axes>"
            ]
          },
          "metadata": {
            "tags": []
          }
        }
      ]
    },
    {
      "cell_type": "markdown",
      "metadata": {
        "id": "qYSpTx4vpMbp",
        "colab_type": "text"
      },
      "source": [
        "Criar função ativadora Tanh"
      ]
    },
    {
      "cell_type": "code",
      "metadata": {
        "id": "uIvBtoP7pPOd",
        "colab_type": "code",
        "colab": {}
      },
      "source": [
        "def tanh(x):\n",
        "  return 2/(1 + math.exp(-2 * x)) - 1"
      ],
      "execution_count": 0,
      "outputs": []
    },
    {
      "cell_type": "markdown",
      "metadata": {
        "id": "pSoTAZ_-p89F",
        "colab_type": "text"
      },
      "source": [
        "Fazer Gráfico de Tanh"
      ]
    },
    {
      "cell_type": "code",
      "metadata": {
        "id": "uMLHr9hRp3AE",
        "colab_type": "code",
        "colab": {
          "base_uri": "https://localhost:8080/",
          "height": 265
        },
        "outputId": "9ad35e18-b04d-4771-f3c2-208f1966ec11"
      },
      "source": [
        "for i in range(-60, 60):\n",
        "  plt.plot(.1 * i, tanh(.1 * i), 'bo')\n",
        "\n",
        "plt.show()"
      ],
      "execution_count": 12,
      "outputs": [
        {
          "output_type": "display_data",
          "data": {
            "image/png": "[encoded data removed]",
            "text/plain": [
              "<Figure size 432x288 with 1 Axes>"
            ]
          },
          "metadata": {
            "tags": []
          }
        }
      ]
    },
    {
      "cell_type": "markdown",
      "metadata": {
        "id": "fkfnRoCPqBL5",
        "colab_type": "text"
      },
      "source": [
        "Criar função ativadora Relu"
      ]
    },
    {
      "cell_type": "code",
      "metadata": {
        "id": "VglaRimZp6UB",
        "colab_type": "code",
        "colab": {}
      },
      "source": [
        "def relu(x):\n",
        "  if x <= 0: return 0\n",
        "  return x"
      ],
      "execution_count": 0,
      "outputs": []
    },
    {
      "cell_type": "markdown",
      "metadata": {
        "id": "lNHlv1wQqZH7",
        "colab_type": "text"
      },
      "source": [
        "Fazer Gráfico de Relu"
      ]
    },
    {
      "cell_type": "code",
      "metadata": {
        "id": "JaoEcRLHqX-w",
        "colab_type": "code",
        "colab": {
          "base_uri": "https://localhost:8080/",
          "height": 265
        },
        "outputId": "1b2f4411-b8cf-4e97-d73c-5da5248bd37f"
      },
      "source": [
        "for i in range(-60, 60):\n",
        "  plt.plot(.1 * i, relu(.1 * i), 'bo')\n",
        "\n",
        "plt.show()"
      ],
      "execution_count": 14,
      "outputs": [
        {
          "output_type": "display_data",
          "data": {
            "image/png": "[encoded data removed]",
            "text/plain": [
              "<Figure size 432x288 with 1 Axes>"
            ]
          },
          "metadata": {
            "tags": []
          }
        }
      ]
    },
    {
      "cell_type": "markdown",
      "metadata": {
        "id": "-PKNVtDNqmmI",
        "colab_type": "text"
      },
      "source": [
        "Testar o perceptron com input =[1,-1,1], pesos w=[0.2,0.2,-0.1] e bias 1...com as três ativações implementadas."
      ]
    },
    {
      "cell_type": "code",
      "metadata": {
        "id": "DMf72eEVqiuU",
        "colab_type": "code",
        "colab": {
          "base_uri": "https://localhost:8080/",
          "height": 68
        },
        "outputId": "c9527183-20d5-40b5-e35d-473552f5b629"
      },
      "source": [
        "inp=np.array([1,-1,1])\n",
        "w=np.array([0.2,0.2,-0.1])\n",
        "bias=1\n",
        "print(perceptron(inp,w,bias,sigmoid))\n",
        "print(perceptron(inp,w,bias,tanh))\n",
        "print(perceptron(inp,w,bias,relu))"
      ],
      "execution_count": 16,
      "outputs": [
        {
          "output_type": "stream",
          "text": [
            "0.7109495026250039\n",
            "0.7162978701990246\n",
            "0.9\n"
          ],
          "name": "stdout"
        }
      ]
    },
    {
      "cell_type": "code",
      "metadata": {
        "id": "o3GOGT71rPGT",
        "colab_type": "code",
        "colab": {}
      },
      "source": [
        ""
      ],
      "execution_count": 0,
      "outputs": []
    }
  ]
}