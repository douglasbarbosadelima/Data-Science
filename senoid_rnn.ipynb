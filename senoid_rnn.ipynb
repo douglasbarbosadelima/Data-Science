{
  "nbformat": 4,
  "nbformat_minor": 0,
  "metadata": {
    "colab": {
      "name": "senoid_rnn.ipynb",
      "provenance": [],
      "collapsed_sections": [],
      "include_colab_link": true
    },
    "kernelspec": {
      "name": "python3",
      "display_name": "Python 3"
    },
    "accelerator": "GPU"
  },
  "cells": [
    {
      "cell_type": "markdown",
      "metadata": {
        "id": "view-in-github",
        "colab_type": "text"
      },
      "source": [
        "<a href=\"https://colab.research.google.com/github/douglasbarbosadelima/Data-Science/blob/master/senoid_rnn.ipynb\" target=\"_parent\"><img src=\"https://colab.research.google.com/assets/colab-badge.svg\" alt=\"Open In Colab\"/></a>"
      ]
    },
    {
      "cell_type": "code",
      "metadata": {
        "id": "k44HDMiO3i9u",
        "colab_type": "code",
        "outputId": "cd27505d-f1dd-4913-849a-7e61816fa82a",
        "colab": {
          "base_uri": "https://localhost:8080/",
          "height": 887
        }
      },
      "source": [
        "!pip install tensorflow-gpu==2.0.0 "
      ],
      "execution_count": 1,
      "outputs": [
        {
          "output_type": "stream",
          "text": [
            "Collecting tensorflow-gpu==2.0.0\n",
            "\u001b[?25l  Downloading https://files.pythonhosted.org/packages/25/44/47f0722aea081697143fbcf5d2aa60d1aee4aaacb5869aee2b568974777b/tensorflow_gpu-2.0.0-cp36-cp36m-manylinux2010_x86_64.whl (380.8MB)\n",
            "\u001b[K     |████████████████████████████████| 380.8MB 46kB/s \n",
            "\u001b[?25hRequirement already satisfied: numpy<2.0,>=1.16.0 in /usr/local/lib/python3.6/dist-packages (from tensorflow-gpu==2.0.0) (1.17.5)\n",
            "Collecting tensorboard<2.1.0,>=2.0.0\n",
            "\u001b[?25l  Downloading https://files.pythonhosted.org/packages/76/54/99b9d5d52d5cb732f099baaaf7740403e83fe6b0cedde940fabd2b13d75a/tensorboard-2.0.2-py3-none-any.whl (3.8MB)\n",
            "\u001b[K     |████████████████████████████████| 3.8MB 42.3MB/s \n",
            "\u001b[?25hRequirement already satisfied: termcolor>=1.1.0 in /usr/local/lib/python3.6/dist-packages (from tensorflow-gpu==2.0.0) (1.1.0)\n",
            "Requirement already satisfied: wrapt>=1.11.1 in /usr/local/lib/python3.6/dist-packages (from tensorflow-gpu==2.0.0) (1.11.2)\n",
            "Requirement already satisfied: grpcio>=1.8.6 in /usr/local/lib/python3.6/dist-packages (from tensorflow-gpu==2.0.0) (1.27.1)\n",
            "Requirement already satisfied: google-pasta>=0.1.6 in /usr/local/lib/python3.6/dist-packages (from tensorflow-gpu==2.0.0) (0.1.8)\n",
            "Requirement already satisfied: gast==0.2.2 in /usr/local/lib/python3.6/dist-packages (from tensorflow-gpu==2.0.0) (0.2.2)\n",
            "Requirement already satisfied: wheel>=0.26 in /usr/local/lib/python3.6/dist-packages (from tensorflow-gpu==2.0.0) (0.34.2)\n",
            "Requirement already satisfied: opt-einsum>=2.3.2 in /usr/local/lib/python3.6/dist-packages (from tensorflow-gpu==2.0.0) (3.1.0)\n",
            "Requirement already satisfied: keras-preprocessing>=1.0.5 in /usr/local/lib/python3.6/dist-packages (from tensorflow-gpu==2.0.0) (1.1.0)\n",
            "Requirement already satisfied: six>=1.10.0 in /usr/local/lib/python3.6/dist-packages (from tensorflow-gpu==2.0.0) (1.12.0)\n",
            "Collecting tensorflow-estimator<2.1.0,>=2.0.0\n",
            "\u001b[?25l  Downloading https://files.pythonhosted.org/packages/fc/08/8b927337b7019c374719145d1dceba21a8bb909b93b1ad6f8fb7d22c1ca1/tensorflow_estimator-2.0.1-py2.py3-none-any.whl (449kB)\n",
            "\u001b[K     |████████████████████████████████| 450kB 57.7MB/s \n",
            "\u001b[?25hRequirement already satisfied: astor>=0.6.0 in /usr/local/lib/python3.6/dist-packages (from tensorflow-gpu==2.0.0) (0.8.1)\n",
            "Requirement already satisfied: protobuf>=3.6.1 in /usr/local/lib/python3.6/dist-packages (from tensorflow-gpu==2.0.0) (3.10.0)\n",
            "Requirement already satisfied: absl-py>=0.7.0 in /usr/local/lib/python3.6/dist-packages (from tensorflow-gpu==2.0.0) (0.9.0)\n",
            "Requirement already satisfied: keras-applications>=1.0.8 in /usr/local/lib/python3.6/dist-packages (from tensorflow-gpu==2.0.0) (1.0.8)\n",
            "Requirement already satisfied: google-auth-oauthlib<0.5,>=0.4.1 in /usr/local/lib/python3.6/dist-packages (from tensorboard<2.1.0,>=2.0.0->tensorflow-gpu==2.0.0) (0.4.1)\n",
            "Requirement already satisfied: setuptools>=41.0.0 in /usr/local/lib/python3.6/dist-packages (from tensorboard<2.1.0,>=2.0.0->tensorflow-gpu==2.0.0) (45.1.0)\n",
            "Requirement already satisfied: google-auth<2,>=1.6.3 in /usr/local/lib/python3.6/dist-packages (from tensorboard<2.1.0,>=2.0.0->tensorflow-gpu==2.0.0) (1.7.2)\n",
            "Requirement already satisfied: markdown>=2.6.8 in /usr/local/lib/python3.6/dist-packages (from tensorboard<2.1.0,>=2.0.0->tensorflow-gpu==2.0.0) (3.2.1)\n",
            "Requirement already satisfied: werkzeug>=0.11.15 in /usr/local/lib/python3.6/dist-packages (from tensorboard<2.1.0,>=2.0.0->tensorflow-gpu==2.0.0) (1.0.0)\n",
            "Requirement already satisfied: requests<3,>=2.21.0 in /usr/local/lib/python3.6/dist-packages (from tensorboard<2.1.0,>=2.0.0->tensorflow-gpu==2.0.0) (2.21.0)\n",
            "Requirement already satisfied: h5py in /usr/local/lib/python3.6/dist-packages (from keras-applications>=1.0.8->tensorflow-gpu==2.0.0) (2.8.0)\n",
            "Requirement already satisfied: requests-oauthlib>=0.7.0 in /usr/local/lib/python3.6/dist-packages (from google-auth-oauthlib<0.5,>=0.4.1->tensorboard<2.1.0,>=2.0.0->tensorflow-gpu==2.0.0) (1.3.0)\n",
            "Requirement already satisfied: cachetools<3.2,>=2.0.0 in /usr/local/lib/python3.6/dist-packages (from google-auth<2,>=1.6.3->tensorboard<2.1.0,>=2.0.0->tensorflow-gpu==2.0.0) (3.1.1)\n",
            "Requirement already satisfied: rsa<4.1,>=3.1.4 in /usr/local/lib/python3.6/dist-packages (from google-auth<2,>=1.6.3->tensorboard<2.1.0,>=2.0.0->tensorflow-gpu==2.0.0) (4.0)\n",
            "Requirement already satisfied: pyasn1-modules>=0.2.1 in /usr/local/lib/python3.6/dist-packages (from google-auth<2,>=1.6.3->tensorboard<2.1.0,>=2.0.0->tensorflow-gpu==2.0.0) (0.2.8)\n",
            "Requirement already satisfied: urllib3<1.25,>=1.21.1 in /usr/local/lib/python3.6/dist-packages (from requests<3,>=2.21.0->tensorboard<2.1.0,>=2.0.0->tensorflow-gpu==2.0.0) (1.24.3)\n",
            "Requirement already satisfied: chardet<3.1.0,>=3.0.2 in /usr/local/lib/python3.6/dist-packages (from requests<3,>=2.21.0->tensorboard<2.1.0,>=2.0.0->tensorflow-gpu==2.0.0) (3.0.4)\n",
            "Requirement already satisfied: certifi>=2017.4.17 in /usr/local/lib/python3.6/dist-packages (from requests<3,>=2.21.0->tensorboard<2.1.0,>=2.0.0->tensorflow-gpu==2.0.0) (2019.11.28)\n",
            "Requirement already satisfied: idna<2.9,>=2.5 in /usr/local/lib/python3.6/dist-packages (from requests<3,>=2.21.0->tensorboard<2.1.0,>=2.0.0->tensorflow-gpu==2.0.0) (2.8)\n",
            "Requirement already satisfied: oauthlib>=3.0.0 in /usr/local/lib/python3.6/dist-packages (from requests-oauthlib>=0.7.0->google-auth-oauthlib<0.5,>=0.4.1->tensorboard<2.1.0,>=2.0.0->tensorflow-gpu==2.0.0) (3.1.0)\n",
            "Requirement already satisfied: pyasn1>=0.1.3 in /usr/local/lib/python3.6/dist-packages (from rsa<4.1,>=3.1.4->google-auth<2,>=1.6.3->tensorboard<2.1.0,>=2.0.0->tensorflow-gpu==2.0.0) (0.4.8)\n",
            "\u001b[31mERROR: tensorflow 1.15.0 has requirement tensorboard<1.16.0,>=1.15.0, but you'll have tensorboard 2.0.2 which is incompatible.\u001b[0m\n",
            "\u001b[31mERROR: tensorflow 1.15.0 has requirement tensorflow-estimator==1.15.1, but you'll have tensorflow-estimator 2.0.1 which is incompatible.\u001b[0m\n",
            "Installing collected packages: tensorboard, tensorflow-estimator, tensorflow-gpu\n",
            "  Found existing installation: tensorboard 1.15.0\n",
            "    Uninstalling tensorboard-1.15.0:\n",
            "      Successfully uninstalled tensorboard-1.15.0\n",
            "  Found existing installation: tensorflow-estimator 1.15.1\n",
            "    Uninstalling tensorflow-estimator-1.15.1:\n",
            "      Successfully uninstalled tensorflow-estimator-1.15.1\n",
            "Successfully installed tensorboard-2.0.2 tensorflow-estimator-2.0.1 tensorflow-gpu-2.0.0\n"
          ],
          "name": "stdout"
        }
      ]
    },
    {
      "cell_type": "code",
      "metadata": {
        "id": "2keceUB04Fm-",
        "colab_type": "code",
        "colab": {}
      },
      "source": [
        "import tensorflow as tf\n",
        "import math\n",
        "import numpy as np\n",
        "import random\n"
      ],
      "execution_count": 0,
      "outputs": []
    },
    {
      "cell_type": "markdown",
      "metadata": {
        "id": "sAeslB954fS4",
        "colab_type": "text"
      },
      "source": [
        "Vmos dividir o período de pi em 10\n",
        " partes"
      ]
    },
    {
      "cell_type": "code",
      "metadata": {
        "id": "Yiv5sFSh4Qi5",
        "colab_type": "code",
        "outputId": "765ccaff-bff6-4bd9-f8fe-8e1be266d15c",
        "colab": {
          "base_uri": "https://localhost:8080/",
          "height": 34
        }
      },
      "source": [
        "delta=math.pi*0.1\n",
        "delta"
      ],
      "execution_count": 4,
      "outputs": [
        {
          "output_type": "execute_result",
          "data": {
            "text/plain": [
              "0.3141592653589793"
            ]
          },
          "metadata": {
            "tags": []
          },
          "execution_count": 4
        }
      ]
    },
    {
      "cell_type": "markdown",
      "metadata": {
        "id": "zS1JsH7y557g",
        "colab_type": "text"
      },
      "source": [
        "Agora vamos criar sequências de 4 sen(deltas), começando com um a 40 deltas. O target será o sen(quinto delta)"
      ]
    },
    {
      "cell_type": "code",
      "metadata": {
        "id": "GH2fzhNi6IBg",
        "colab_type": "code",
        "colab": {}
      },
      "source": [
        "X=[]\n",
        "y=[]\n",
        "random.seed(42)\n",
        "for i in range(100):\n",
        "  ini=random.randint(1,40)\n",
        "  seq=[]\n",
        "  for j in range(4):\n",
        "    seq.append([math.sin((ini+j)*delta)])\n",
        "  X.append(seq)\n",
        "  y.append([math.sin((ini+4)*delta)])\n",
        "X=np.array(X)\n",
        "y=np.array(y)\n",
        "\n",
        "\n"
      ],
      "execution_count": 0,
      "outputs": []
    },
    {
      "cell_type": "code",
      "metadata": {
        "id": "182B_zEA7xaX",
        "colab_type": "code",
        "colab": {}
      },
      "source": [
        "model=tf.keras.Sequential()\n",
        "model.add(tf.keras.layers.SimpleRNN(1,input_shape=(None,1),activation=lambda x:x))"
      ],
      "execution_count": 0,
      "outputs": []
    },
    {
      "cell_type": "code",
      "metadata": {
        "id": "x1J-6uKU-B0S",
        "colab_type": "code",
        "colab": {}
      },
      "source": [
        "model.compile(loss='mean_squared_error', optimizer='sgd', metrics=['mse'])"
      ],
      "execution_count": 0,
      "outputs": []
    },
    {
      "cell_type": "code",
      "metadata": {
        "id": "aBQpzcGf7mLv",
        "colab_type": "code",
        "outputId": "ffcc159d-3808-40b3-c574-d1097e78c964",
        "colab": {
          "base_uri": "https://localhost:8080/",
          "height": 187
        }
      },
      "source": [
        "model.summary()"
      ],
      "execution_count": 10,
      "outputs": [
        {
          "output_type": "stream",
          "text": [
            "Model: \"sequential\"\n",
            "_________________________________________________________________\n",
            "Layer (type)                 Output Shape              Param #   \n",
            "=================================================================\n",
            "simple_rnn (SimpleRNN)       (None, 1)                 3         \n",
            "=================================================================\n",
            "Total params: 3\n",
            "Trainable params: 3\n",
            "Non-trainable params: 0\n",
            "_________________________________________________________________\n"
          ],
          "name": "stdout"
        }
      ]
    },
    {
      "cell_type": "code",
      "metadata": {
        "id": "4WgfIH19-OKh",
        "colab_type": "code",
        "outputId": "99be6db5-41ee-4dc6-e758-6d23fa8c6cbe",
        "colab": {
          "base_uri": "https://localhost:8080/",
          "height": 1000
        }
      },
      "source": [
        "model.fit(X, y, epochs=300)"
      ],
      "execution_count": 11,
      "outputs": [
        {
          "output_type": "stream",
          "text": [
            "Train on 100 samples\n",
            "Epoch 1/300\n",
            "100/100 [==============================] - 2s 21ms/sample - loss: 0.9974 - mse: 0.9974\n",
            "Epoch 2/300\n",
            "100/100 [==============================] - 0s 291us/sample - loss: 0.9738 - mse: 0.9738\n",
            "Epoch 3/300\n",
            "100/100 [==============================] - 0s 243us/sample - loss: 0.9540 - mse: 0.9540\n",
            "Epoch 4/300\n",
            "100/100 [==============================] - 0s 223us/sample - loss: 0.9336 - mse: 0.9336\n",
            "Epoch 5/300\n",
            "100/100 [==============================] - 0s 226us/sample - loss: 0.9136 - mse: 0.9136\n",
            "Epoch 6/300\n",
            "100/100 [==============================] - 0s 228us/sample - loss: 0.8953 - mse: 0.8953\n",
            "Epoch 7/300\n",
            "100/100 [==============================] - 0s 219us/sample - loss: 0.8807 - mse: 0.8807\n",
            "Epoch 8/300\n",
            "100/100 [==============================] - 0s 227us/sample - loss: 0.8641 - mse: 0.8641\n",
            "Epoch 9/300\n",
            "100/100 [==============================] - 0s 254us/sample - loss: 0.8481 - mse: 0.8481\n",
            "Epoch 10/300\n",
            "100/100 [==============================] - 0s 239us/sample - loss: 0.8318 - mse: 0.8318\n",
            "Epoch 11/300\n",
            "100/100 [==============================] - 0s 249us/sample - loss: 0.8161 - mse: 0.8161\n",
            "Epoch 12/300\n",
            "100/100 [==============================] - 0s 264us/sample - loss: 0.8019 - mse: 0.8019\n",
            "Epoch 13/300\n",
            "100/100 [==============================] - 0s 250us/sample - loss: 0.7887 - mse: 0.7887\n",
            "Epoch 14/300\n",
            "100/100 [==============================] - 0s 246us/sample - loss: 0.7752 - mse: 0.7752\n",
            "Epoch 15/300\n",
            "100/100 [==============================] - 0s 226us/sample - loss: 0.7611 - mse: 0.7611\n",
            "Epoch 16/300\n",
            "100/100 [==============================] - 0s 227us/sample - loss: 0.7476 - mse: 0.7476\n",
            "Epoch 17/300\n",
            "100/100 [==============================] - 0s 237us/sample - loss: 0.7328 - mse: 0.7328\n",
            "Epoch 18/300\n",
            "100/100 [==============================] - 0s 241us/sample - loss: 0.7189 - mse: 0.7189\n",
            "Epoch 19/300\n",
            "100/100 [==============================] - 0s 279us/sample - loss: 0.7080 - mse: 0.7080\n",
            "Epoch 20/300\n",
            "100/100 [==============================] - 0s 306us/sample - loss: 0.6937 - mse: 0.6937\n",
            "Epoch 21/300\n",
            "100/100 [==============================] - 0s 254us/sample - loss: 0.6841 - mse: 0.6841\n",
            "Epoch 22/300\n",
            "100/100 [==============================] - 0s 217us/sample - loss: 0.6709 - mse: 0.6709\n",
            "Epoch 23/300\n",
            "100/100 [==============================] - 0s 241us/sample - loss: 0.6600 - mse: 0.6600\n",
            "Epoch 24/300\n",
            "100/100 [==============================] - 0s 224us/sample - loss: 0.6496 - mse: 0.6496\n",
            "Epoch 25/300\n",
            "100/100 [==============================] - 0s 242us/sample - loss: 0.6363 - mse: 0.6363\n",
            "Epoch 26/300\n",
            "100/100 [==============================] - 0s 234us/sample - loss: 0.6246 - mse: 0.6246\n",
            "Epoch 27/300\n",
            "100/100 [==============================] - 0s 226us/sample - loss: 0.6149 - mse: 0.6149\n",
            "Epoch 28/300\n",
            "100/100 [==============================] - 0s 251us/sample - loss: 0.6049 - mse: 0.6049\n",
            "Epoch 29/300\n",
            "100/100 [==============================] - 0s 306us/sample - loss: 0.5952 - mse: 0.5952\n",
            "Epoch 30/300\n",
            "100/100 [==============================] - 0s 240us/sample - loss: 0.5858 - mse: 0.5858\n",
            "Epoch 31/300\n",
            "100/100 [==============================] - 0s 265us/sample - loss: 0.5764 - mse: 0.5764\n",
            "Epoch 32/300\n",
            "100/100 [==============================] - 0s 231us/sample - loss: 0.5679 - mse: 0.5679\n",
            "Epoch 33/300\n",
            "100/100 [==============================] - 0s 238us/sample - loss: 0.5598 - mse: 0.5598\n",
            "Epoch 34/300\n",
            "100/100 [==============================] - 0s 230us/sample - loss: 0.5506 - mse: 0.5506\n",
            "Epoch 35/300\n",
            "100/100 [==============================] - 0s 215us/sample - loss: 0.5422 - mse: 0.5422\n",
            "Epoch 36/300\n",
            "100/100 [==============================] - 0s 249us/sample - loss: 0.5352 - mse: 0.5352\n",
            "Epoch 37/300\n",
            "100/100 [==============================] - 0s 228us/sample - loss: 0.5266 - mse: 0.5266\n",
            "Epoch 38/300\n",
            "100/100 [==============================] - 0s 244us/sample - loss: 0.5190 - mse: 0.5190\n",
            "Epoch 39/300\n",
            "100/100 [==============================] - 0s 248us/sample - loss: 0.5118 - mse: 0.5118\n",
            "Epoch 40/300\n",
            "100/100 [==============================] - 0s 283us/sample - loss: 0.5049 - mse: 0.5049\n",
            "Epoch 41/300\n",
            "100/100 [==============================] - 0s 272us/sample - loss: 0.4992 - mse: 0.4992\n",
            "Epoch 42/300\n",
            "100/100 [==============================] - 0s 226us/sample - loss: 0.4931 - mse: 0.4931\n",
            "Epoch 43/300\n",
            "100/100 [==============================] - 0s 213us/sample - loss: 0.4866 - mse: 0.4866\n",
            "Epoch 44/300\n",
            "100/100 [==============================] - 0s 278us/sample - loss: 0.4808 - mse: 0.4808\n",
            "Epoch 45/300\n",
            "100/100 [==============================] - 0s 229us/sample - loss: 0.4738 - mse: 0.4738\n",
            "Epoch 46/300\n",
            "100/100 [==============================] - 0s 215us/sample - loss: 0.4682 - mse: 0.4682\n",
            "Epoch 47/300\n",
            "100/100 [==============================] - 0s 236us/sample - loss: 0.4622 - mse: 0.4622\n",
            "Epoch 48/300\n",
            "100/100 [==============================] - 0s 252us/sample - loss: 0.4566 - mse: 0.4566\n",
            "Epoch 49/300\n",
            "100/100 [==============================] - 0s 225us/sample - loss: 0.4523 - mse: 0.4523\n",
            "Epoch 50/300\n",
            "100/100 [==============================] - 0s 273us/sample - loss: 0.4475 - mse: 0.4475\n",
            "Epoch 51/300\n",
            "100/100 [==============================] - 0s 254us/sample - loss: 0.4439 - mse: 0.4439\n",
            "Epoch 52/300\n",
            "100/100 [==============================] - 0s 280us/sample - loss: 0.4384 - mse: 0.4384\n",
            "Epoch 53/300\n",
            "100/100 [==============================] - 0s 221us/sample - loss: 0.4336 - mse: 0.4336\n",
            "Epoch 54/300\n",
            "100/100 [==============================] - 0s 228us/sample - loss: 0.4300 - mse: 0.4300\n",
            "Epoch 55/300\n",
            "100/100 [==============================] - 0s 217us/sample - loss: 0.4265 - mse: 0.4265\n",
            "Epoch 56/300\n",
            "100/100 [==============================] - 0s 239us/sample - loss: 0.4226 - mse: 0.4226\n",
            "Epoch 57/300\n",
            "100/100 [==============================] - 0s 224us/sample - loss: 0.4201 - mse: 0.4201\n",
            "Epoch 58/300\n",
            "100/100 [==============================] - 0s 204us/sample - loss: 0.4171 - mse: 0.4171\n",
            "Epoch 59/300\n",
            "100/100 [==============================] - 0s 314us/sample - loss: 0.4134 - mse: 0.4134\n",
            "Epoch 60/300\n",
            "100/100 [==============================] - 0s 234us/sample - loss: 0.4102 - mse: 0.4102\n",
            "Epoch 61/300\n",
            "100/100 [==============================] - 0s 237us/sample - loss: 0.4063 - mse: 0.4063\n",
            "Epoch 62/300\n",
            "100/100 [==============================] - 0s 270us/sample - loss: 0.4022 - mse: 0.4022\n",
            "Epoch 63/300\n",
            "100/100 [==============================] - 0s 247us/sample - loss: 0.3998 - mse: 0.3998\n",
            "Epoch 64/300\n",
            "100/100 [==============================] - 0s 267us/sample - loss: 0.3980 - mse: 0.3980\n",
            "Epoch 65/300\n",
            "100/100 [==============================] - 0s 224us/sample - loss: 0.3952 - mse: 0.3952\n",
            "Epoch 66/300\n",
            "100/100 [==============================] - 0s 240us/sample - loss: 0.3930 - mse: 0.3930\n",
            "Epoch 67/300\n",
            "100/100 [==============================] - 0s 230us/sample - loss: 0.3904 - mse: 0.3904\n",
            "Epoch 68/300\n",
            "100/100 [==============================] - 0s 228us/sample - loss: 0.3882 - mse: 0.3882\n",
            "Epoch 69/300\n",
            "100/100 [==============================] - 0s 259us/sample - loss: 0.3858 - mse: 0.3858\n",
            "Epoch 70/300\n",
            "100/100 [==============================] - 0s 279us/sample - loss: 0.3832 - mse: 0.3832\n",
            "Epoch 71/300\n",
            "100/100 [==============================] - 0s 226us/sample - loss: 0.3813 - mse: 0.3813\n",
            "Epoch 72/300\n",
            "100/100 [==============================] - 0s 299us/sample - loss: 0.3787 - mse: 0.3787\n",
            "Epoch 73/300\n",
            "100/100 [==============================] - 0s 249us/sample - loss: 0.3759 - mse: 0.3759\n",
            "Epoch 74/300\n",
            "100/100 [==============================] - 0s 267us/sample - loss: 0.3724 - mse: 0.3724\n",
            "Epoch 75/300\n",
            "100/100 [==============================] - 0s 258us/sample - loss: 0.3697 - mse: 0.3697\n",
            "Epoch 76/300\n",
            "100/100 [==============================] - 0s 232us/sample - loss: 0.3665 - mse: 0.3665\n",
            "Epoch 77/300\n",
            "100/100 [==============================] - 0s 245us/sample - loss: 0.3635 - mse: 0.3635\n",
            "Epoch 78/300\n",
            "100/100 [==============================] - 0s 212us/sample - loss: 0.3601 - mse: 0.3601\n",
            "Epoch 79/300\n",
            "100/100 [==============================] - 0s 220us/sample - loss: 0.3562 - mse: 0.3562\n",
            "Epoch 80/300\n",
            "100/100 [==============================] - 0s 269us/sample - loss: 0.3528 - mse: 0.3528\n",
            "Epoch 81/300\n",
            "100/100 [==============================] - 0s 267us/sample - loss: 0.3493 - mse: 0.3493\n",
            "Epoch 82/300\n",
            "100/100 [==============================] - 0s 258us/sample - loss: 0.3449 - mse: 0.3449\n",
            "Epoch 83/300\n",
            "100/100 [==============================] - 0s 267us/sample - loss: 0.3409 - mse: 0.3409\n",
            "Epoch 84/300\n",
            "100/100 [==============================] - 0s 258us/sample - loss: 0.3379 - mse: 0.3379\n",
            "Epoch 85/300\n",
            "100/100 [==============================] - 0s 264us/sample - loss: 0.3333 - mse: 0.3333\n",
            "Epoch 86/300\n",
            "100/100 [==============================] - 0s 212us/sample - loss: 0.3286 - mse: 0.3286\n",
            "Epoch 87/300\n",
            "100/100 [==============================] - 0s 230us/sample - loss: 0.3247 - mse: 0.3247\n",
            "Epoch 88/300\n",
            "100/100 [==============================] - 0s 248us/sample - loss: 0.3202 - mse: 0.3202\n",
            "Epoch 89/300\n",
            "100/100 [==============================] - 0s 238us/sample - loss: 0.3154 - mse: 0.3154\n",
            "Epoch 90/300\n",
            "100/100 [==============================] - 0s 222us/sample - loss: 0.3100 - mse: 0.3100\n",
            "Epoch 91/300\n",
            "100/100 [==============================] - 0s 252us/sample - loss: 0.3058 - mse: 0.3058\n",
            "Epoch 92/300\n",
            "100/100 [==============================] - 0s 244us/sample - loss: 0.3011 - mse: 0.3011\n",
            "Epoch 93/300\n",
            "100/100 [==============================] - 0s 250us/sample - loss: 0.2963 - mse: 0.2963\n",
            "Epoch 94/300\n",
            "100/100 [==============================] - 0s 228us/sample - loss: 0.2902 - mse: 0.2902\n",
            "Epoch 95/300\n",
            "100/100 [==============================] - 0s 223us/sample - loss: 0.2845 - mse: 0.2845\n",
            "Epoch 96/300\n",
            "100/100 [==============================] - 0s 226us/sample - loss: 0.2791 - mse: 0.2791\n",
            "Epoch 97/300\n",
            "100/100 [==============================] - 0s 229us/sample - loss: 0.2733 - mse: 0.2733\n",
            "Epoch 98/300\n",
            "100/100 [==============================] - 0s 293us/sample - loss: 0.2678 - mse: 0.2678\n",
            "Epoch 99/300\n",
            "100/100 [==============================] - 0s 210us/sample - loss: 0.2627 - mse: 0.2627\n",
            "Epoch 100/300\n",
            "100/100 [==============================] - 0s 261us/sample - loss: 0.2577 - mse: 0.2577\n",
            "Epoch 101/300\n",
            "100/100 [==============================] - 0s 253us/sample - loss: 0.2528 - mse: 0.2528\n",
            "Epoch 102/300\n",
            "100/100 [==============================] - 0s 234us/sample - loss: 0.2477 - mse: 0.2477\n",
            "Epoch 103/300\n",
            "100/100 [==============================] - 0s 228us/sample - loss: 0.2423 - mse: 0.2423\n",
            "Epoch 104/300\n",
            "100/100 [==============================] - 0s 201us/sample - loss: 0.2362 - mse: 0.2362\n",
            "Epoch 105/300\n",
            "100/100 [==============================] - 0s 269us/sample - loss: 0.2308 - mse: 0.2308\n",
            "Epoch 106/300\n",
            "100/100 [==============================] - 0s 218us/sample - loss: 0.2257 - mse: 0.2257\n",
            "Epoch 107/300\n",
            "100/100 [==============================] - 0s 262us/sample - loss: 0.2205 - mse: 0.2205\n",
            "Epoch 108/300\n",
            "100/100 [==============================] - 0s 321us/sample - loss: 0.2156 - mse: 0.2156\n",
            "Epoch 109/300\n",
            "100/100 [==============================] - 0s 231us/sample - loss: 0.2100 - mse: 0.2100\n",
            "Epoch 110/300\n",
            "100/100 [==============================] - 0s 270us/sample - loss: 0.2049 - mse: 0.2049\n",
            "Epoch 111/300\n",
            "100/100 [==============================] - 0s 251us/sample - loss: 0.1991 - mse: 0.1991\n",
            "Epoch 112/300\n",
            "100/100 [==============================] - 0s 225us/sample - loss: 0.1935 - mse: 0.1935\n",
            "Epoch 113/300\n",
            "100/100 [==============================] - 0s 239us/sample - loss: 0.1883 - mse: 0.1883\n",
            "Epoch 114/300\n",
            "100/100 [==============================] - 0s 233us/sample - loss: 0.1835 - mse: 0.1835\n",
            "Epoch 115/300\n",
            "100/100 [==============================] - 0s 239us/sample - loss: 0.1782 - mse: 0.1782\n",
            "Epoch 116/300\n",
            "100/100 [==============================] - 0s 307us/sample - loss: 0.1732 - mse: 0.1732\n",
            "Epoch 117/300\n",
            "100/100 [==============================] - 0s 295us/sample - loss: 0.1685 - mse: 0.1685\n",
            "Epoch 118/300\n",
            "100/100 [==============================] - 0s 254us/sample - loss: 0.1632 - mse: 0.1632\n",
            "Epoch 119/300\n",
            "100/100 [==============================] - 0s 207us/sample - loss: 0.1582 - mse: 0.1582\n",
            "Epoch 120/300\n",
            "100/100 [==============================] - 0s 233us/sample - loss: 0.1539 - mse: 0.1539\n",
            "Epoch 121/300\n",
            "100/100 [==============================] - 0s 259us/sample - loss: 0.1491 - mse: 0.1491\n",
            "Epoch 122/300\n",
            "100/100 [==============================] - 0s 280us/sample - loss: 0.1443 - mse: 0.1443\n",
            "Epoch 123/300\n",
            "100/100 [==============================] - 0s 244us/sample - loss: 0.1407 - mse: 0.1407\n",
            "Epoch 124/300\n",
            "100/100 [==============================] - 0s 224us/sample - loss: 0.1365 - mse: 0.1365\n",
            "Epoch 125/300\n",
            "100/100 [==============================] - 0s 273us/sample - loss: 0.1320 - mse: 0.1320\n",
            "Epoch 126/300\n",
            "100/100 [==============================] - 0s 221us/sample - loss: 0.1278 - mse: 0.1278\n",
            "Epoch 127/300\n",
            "100/100 [==============================] - 0s 225us/sample - loss: 0.1240 - mse: 0.1240\n",
            "Epoch 128/300\n",
            "100/100 [==============================] - 0s 285us/sample - loss: 0.1202 - mse: 0.1202\n",
            "Epoch 129/300\n",
            "100/100 [==============================] - 0s 271us/sample - loss: 0.1165 - mse: 0.1165\n",
            "Epoch 130/300\n",
            "100/100 [==============================] - 0s 216us/sample - loss: 0.1134 - mse: 0.1134\n",
            "Epoch 131/300\n",
            "100/100 [==============================] - 0s 243us/sample - loss: 0.1098 - mse: 0.1098\n",
            "Epoch 132/300\n",
            "100/100 [==============================] - 0s 220us/sample - loss: 0.1054 - mse: 0.1054\n",
            "Epoch 133/300\n",
            "100/100 [==============================] - 0s 247us/sample - loss: 0.1018 - mse: 0.1018\n",
            "Epoch 134/300\n",
            "100/100 [==============================] - 0s 232us/sample - loss: 0.0991 - mse: 0.0991\n",
            "Epoch 135/300\n",
            "100/100 [==============================] - 0s 231us/sample - loss: 0.0960 - mse: 0.0960\n",
            "Epoch 136/300\n",
            "100/100 [==============================] - 0s 253us/sample - loss: 0.0933 - mse: 0.0933\n",
            "Epoch 137/300\n",
            "100/100 [==============================] - 0s 278us/sample - loss: 0.0908 - mse: 0.0908\n",
            "Epoch 138/300\n",
            "100/100 [==============================] - 0s 271us/sample - loss: 0.0879 - mse: 0.0879\n",
            "Epoch 139/300\n",
            "100/100 [==============================] - 0s 233us/sample - loss: 0.0848 - mse: 0.0848\n",
            "Epoch 140/300\n",
            "100/100 [==============================] - 0s 248us/sample - loss: 0.0823 - mse: 0.0823\n",
            "Epoch 141/300\n",
            "100/100 [==============================] - 0s 244us/sample - loss: 0.0796 - mse: 0.0796\n",
            "Epoch 142/300\n",
            "100/100 [==============================] - 0s 226us/sample - loss: 0.0772 - mse: 0.0772\n",
            "Epoch 143/300\n",
            "100/100 [==============================] - 0s 245us/sample - loss: 0.0749 - mse: 0.0749\n",
            "Epoch 144/300\n",
            "100/100 [==============================] - 0s 224us/sample - loss: 0.0729 - mse: 0.0729\n",
            "Epoch 145/300\n",
            "100/100 [==============================] - 0s 218us/sample - loss: 0.0710 - mse: 0.0710\n",
            "Epoch 146/300\n",
            "100/100 [==============================] - 0s 253us/sample - loss: 0.0692 - mse: 0.0692\n",
            "Epoch 147/300\n",
            "100/100 [==============================] - 0s 224us/sample - loss: 0.0666 - mse: 0.0666\n",
            "Epoch 148/300\n",
            "100/100 [==============================] - 0s 224us/sample - loss: 0.0650 - mse: 0.0650\n",
            "Epoch 149/300\n",
            "100/100 [==============================] - 0s 213us/sample - loss: 0.0630 - mse: 0.0630\n",
            "Epoch 150/300\n",
            "100/100 [==============================] - 0s 232us/sample - loss: 0.0613 - mse: 0.0613\n",
            "Epoch 151/300\n",
            "100/100 [==============================] - 0s 224us/sample - loss: 0.0597 - mse: 0.0597\n",
            "Epoch 152/300\n",
            "100/100 [==============================] - 0s 254us/sample - loss: 0.0578 - mse: 0.0578\n",
            "Epoch 153/300\n",
            "100/100 [==============================] - 0s 279us/sample - loss: 0.0561 - mse: 0.0561\n",
            "Epoch 154/300\n",
            "100/100 [==============================] - 0s 252us/sample - loss: 0.0547 - mse: 0.0547\n",
            "Epoch 155/300\n",
            "100/100 [==============================] - 0s 211us/sample - loss: 0.0531 - mse: 0.0531\n",
            "Epoch 156/300\n",
            "100/100 [==============================] - 0s 238us/sample - loss: 0.0517 - mse: 0.0517\n",
            "Epoch 157/300\n",
            "100/100 [==============================] - 0s 212us/sample - loss: 0.0502 - mse: 0.0502\n",
            "Epoch 158/300\n",
            "100/100 [==============================] - 0s 231us/sample - loss: 0.0489 - mse: 0.0489\n",
            "Epoch 159/300\n",
            "100/100 [==============================] - 0s 211us/sample - loss: 0.0475 - mse: 0.0475\n",
            "Epoch 160/300\n",
            "100/100 [==============================] - 0s 238us/sample - loss: 0.0464 - mse: 0.0464\n",
            "Epoch 161/300\n",
            "100/100 [==============================] - 0s 224us/sample - loss: 0.0452 - mse: 0.0452\n",
            "Epoch 162/300\n",
            "100/100 [==============================] - 0s 268us/sample - loss: 0.0441 - mse: 0.0441\n",
            "Epoch 163/300\n",
            "100/100 [==============================] - 0s 288us/sample - loss: 0.0431 - mse: 0.0431\n",
            "Epoch 164/300\n",
            "100/100 [==============================] - 0s 232us/sample - loss: 0.0423 - mse: 0.0423\n",
            "Epoch 165/300\n",
            "100/100 [==============================] - 0s 211us/sample - loss: 0.0414 - mse: 0.0414\n",
            "Epoch 166/300\n",
            "100/100 [==============================] - 0s 240us/sample - loss: 0.0405 - mse: 0.0405\n",
            "Epoch 167/300\n",
            "100/100 [==============================] - 0s 234us/sample - loss: 0.0396 - mse: 0.0396\n",
            "Epoch 168/300\n",
            "100/100 [==============================] - 0s 292us/sample - loss: 0.0386 - mse: 0.0386\n",
            "Epoch 169/300\n",
            "100/100 [==============================] - 0s 226us/sample - loss: 0.0378 - mse: 0.0378\n",
            "Epoch 170/300\n",
            "100/100 [==============================] - 0s 243us/sample - loss: 0.0370 - mse: 0.0370\n",
            "Epoch 171/300\n",
            "100/100 [==============================] - 0s 271us/sample - loss: 0.0361 - mse: 0.0361\n",
            "Epoch 172/300\n",
            "100/100 [==============================] - 0s 220us/sample - loss: 0.0355 - mse: 0.0355\n",
            "Epoch 173/300\n",
            "100/100 [==============================] - 0s 215us/sample - loss: 0.0348 - mse: 0.0348\n",
            "Epoch 174/300\n",
            "100/100 [==============================] - 0s 231us/sample - loss: 0.0342 - mse: 0.0342\n",
            "Epoch 175/300\n",
            "100/100 [==============================] - 0s 221us/sample - loss: 0.0337 - mse: 0.0337\n",
            "Epoch 176/300\n",
            "100/100 [==============================] - 0s 273us/sample - loss: 0.0331 - mse: 0.0331\n",
            "Epoch 177/300\n",
            "100/100 [==============================] - 0s 301us/sample - loss: 0.0325 - mse: 0.0325\n",
            "Epoch 178/300\n",
            "100/100 [==============================] - 0s 261us/sample - loss: 0.0319 - mse: 0.0319\n",
            "Epoch 179/300\n",
            "100/100 [==============================] - 0s 220us/sample - loss: 0.0314 - mse: 0.0314\n",
            "Epoch 180/300\n",
            "100/100 [==============================] - 0s 264us/sample - loss: 0.0308 - mse: 0.0308\n",
            "Epoch 181/300\n",
            "100/100 [==============================] - 0s 210us/sample - loss: 0.0304 - mse: 0.0304\n",
            "Epoch 182/300\n",
            "100/100 [==============================] - 0s 212us/sample - loss: 0.0299 - mse: 0.0299\n",
            "Epoch 183/300\n",
            "100/100 [==============================] - 0s 234us/sample - loss: 0.0294 - mse: 0.0294\n",
            "Epoch 184/300\n",
            "100/100 [==============================] - 0s 261us/sample - loss: 0.0290 - mse: 0.0290\n",
            "Epoch 185/300\n",
            "100/100 [==============================] - 0s 223us/sample - loss: 0.0285 - mse: 0.0285\n",
            "Epoch 186/300\n",
            "100/100 [==============================] - 0s 258us/sample - loss: 0.0281 - mse: 0.0281\n",
            "Epoch 187/300\n",
            "100/100 [==============================] - 0s 241us/sample - loss: 0.0278 - mse: 0.0278\n",
            "Epoch 188/300\n",
            "100/100 [==============================] - 0s 260us/sample - loss: 0.0274 - mse: 0.0274\n",
            "Epoch 189/300\n",
            "100/100 [==============================] - 0s 345us/sample - loss: 0.0270 - mse: 0.0270\n",
            "Epoch 190/300\n",
            "100/100 [==============================] - 0s 269us/sample - loss: 0.0267 - mse: 0.0267\n",
            "Epoch 191/300\n",
            "100/100 [==============================] - 0s 318us/sample - loss: 0.0263 - mse: 0.0263\n",
            "Epoch 192/300\n",
            "100/100 [==============================] - 0s 300us/sample - loss: 0.0260 - mse: 0.0260\n",
            "Epoch 193/300\n",
            "100/100 [==============================] - 0s 278us/sample - loss: 0.0256 - mse: 0.0256\n",
            "Epoch 194/300\n",
            "100/100 [==============================] - 0s 241us/sample - loss: 0.0254 - mse: 0.0254\n",
            "Epoch 195/300\n",
            "100/100 [==============================] - 0s 228us/sample - loss: 0.0250 - mse: 0.0250\n",
            "Epoch 196/300\n",
            "100/100 [==============================] - 0s 212us/sample - loss: 0.0247 - mse: 0.0247\n",
            "Epoch 197/300\n",
            "100/100 [==============================] - 0s 273us/sample - loss: 0.0244 - mse: 0.0244\n",
            "Epoch 198/300\n",
            "100/100 [==============================] - 0s 275us/sample - loss: 0.0241 - mse: 0.0241\n",
            "Epoch 199/300\n",
            "100/100 [==============================] - 0s 234us/sample - loss: 0.0238 - mse: 0.0238\n",
            "Epoch 200/300\n",
            "100/100 [==============================] - 0s 217us/sample - loss: 0.0237 - mse: 0.0237\n",
            "Epoch 201/300\n",
            "100/100 [==============================] - 0s 253us/sample - loss: 0.0234 - mse: 0.0234\n",
            "Epoch 202/300\n",
            "100/100 [==============================] - 0s 262us/sample - loss: 0.0232 - mse: 0.0232\n",
            "Epoch 203/300\n",
            "100/100 [==============================] - 0s 256us/sample - loss: 0.0230 - mse: 0.0230\n",
            "Epoch 204/300\n",
            "100/100 [==============================] - 0s 234us/sample - loss: 0.0227 - mse: 0.0227\n",
            "Epoch 205/300\n",
            "100/100 [==============================] - 0s 251us/sample - loss: 0.0224 - mse: 0.0224\n",
            "Epoch 206/300\n",
            "100/100 [==============================] - 0s 286us/sample - loss: 0.0222 - mse: 0.0222\n",
            "Epoch 207/300\n",
            "100/100 [==============================] - 0s 248us/sample - loss: 0.0220 - mse: 0.0220\n",
            "Epoch 208/300\n",
            "100/100 [==============================] - 0s 233us/sample - loss: 0.0218 - mse: 0.0218\n",
            "Epoch 209/300\n",
            "100/100 [==============================] - 0s 267us/sample - loss: 0.0216 - mse: 0.0216\n",
            "Epoch 210/300\n",
            "100/100 [==============================] - 0s 262us/sample - loss: 0.0214 - mse: 0.0214\n",
            "Epoch 211/300\n",
            "100/100 [==============================] - 0s 229us/sample - loss: 0.0211 - mse: 0.0211\n",
            "Epoch 212/300\n",
            "100/100 [==============================] - 0s 220us/sample - loss: 0.0209 - mse: 0.0209\n",
            "Epoch 213/300\n",
            "100/100 [==============================] - 0s 213us/sample - loss: 0.0207 - mse: 0.0207\n",
            "Epoch 214/300\n",
            "100/100 [==============================] - 0s 250us/sample - loss: 0.0206 - mse: 0.0206\n",
            "Epoch 215/300\n",
            "100/100 [==============================] - 0s 219us/sample - loss: 0.0204 - mse: 0.0204\n",
            "Epoch 216/300\n",
            "100/100 [==============================] - 0s 310us/sample - loss: 0.0202 - mse: 0.0202\n",
            "Epoch 217/300\n",
            "100/100 [==============================] - 0s 219us/sample - loss: 0.0200 - mse: 0.0200\n",
            "Epoch 218/300\n",
            "100/100 [==============================] - 0s 249us/sample - loss: 0.0198 - mse: 0.0198\n",
            "Epoch 219/300\n",
            "100/100 [==============================] - 0s 275us/sample - loss: 0.0196 - mse: 0.0196\n",
            "Epoch 220/300\n",
            "100/100 [==============================] - 0s 229us/sample - loss: 0.0194 - mse: 0.0194\n",
            "Epoch 221/300\n",
            "100/100 [==============================] - 0s 230us/sample - loss: 0.0193 - mse: 0.0193\n",
            "Epoch 222/300\n",
            "100/100 [==============================] - 0s 226us/sample - loss: 0.0191 - mse: 0.0191\n",
            "Epoch 223/300\n",
            "100/100 [==============================] - 0s 252us/sample - loss: 0.0189 - mse: 0.0189\n",
            "Epoch 224/300\n",
            "100/100 [==============================] - 0s 213us/sample - loss: 0.0188 - mse: 0.0188\n",
            "Epoch 225/300\n",
            "100/100 [==============================] - 0s 239us/sample - loss: 0.0186 - mse: 0.0186\n",
            "Epoch 226/300\n",
            "100/100 [==============================] - 0s 241us/sample - loss: 0.0185 - mse: 0.0185\n",
            "Epoch 227/300\n",
            "100/100 [==============================] - 0s 260us/sample - loss: 0.0183 - mse: 0.0183\n",
            "Epoch 228/300\n",
            "100/100 [==============================] - 0s 302us/sample - loss: 0.0181 - mse: 0.0181\n",
            "Epoch 229/300\n",
            "100/100 [==============================] - 0s 275us/sample - loss: 0.0180 - mse: 0.0180\n",
            "Epoch 230/300\n",
            "100/100 [==============================] - 0s 239us/sample - loss: 0.0178 - mse: 0.0178\n",
            "Epoch 231/300\n",
            "100/100 [==============================] - 0s 226us/sample - loss: 0.0176 - mse: 0.0176\n",
            "Epoch 232/300\n",
            "100/100 [==============================] - 0s 232us/sample - loss: 0.0175 - mse: 0.0175\n",
            "Epoch 233/300\n",
            "100/100 [==============================] - 0s 215us/sample - loss: 0.0173 - mse: 0.0173\n",
            "Epoch 234/300\n",
            "100/100 [==============================] - 0s 243us/sample - loss: 0.0171 - mse: 0.0171\n",
            "Epoch 235/300\n",
            "100/100 [==============================] - 0s 275us/sample - loss: 0.0170 - mse: 0.0170\n",
            "Epoch 236/300\n",
            "100/100 [==============================] - 0s 382us/sample - loss: 0.0168 - mse: 0.0168\n",
            "Epoch 237/300\n",
            "100/100 [==============================] - 0s 238us/sample - loss: 0.0166 - mse: 0.0166\n",
            "Epoch 238/300\n",
            "100/100 [==============================] - 0s 217us/sample - loss: 0.0164 - mse: 0.0164\n",
            "Epoch 239/300\n",
            "100/100 [==============================] - 0s 213us/sample - loss: 0.0162 - mse: 0.0162\n",
            "Epoch 240/300\n",
            "100/100 [==============================] - 0s 232us/sample - loss: 0.0161 - mse: 0.0161\n",
            "Epoch 241/300\n",
            "100/100 [==============================] - 0s 264us/sample - loss: 0.0159 - mse: 0.0159\n",
            "Epoch 242/300\n",
            "100/100 [==============================] - 0s 252us/sample - loss: 0.0157 - mse: 0.0157\n",
            "Epoch 243/300\n",
            "100/100 [==============================] - 0s 243us/sample - loss: 0.0156 - mse: 0.0156\n",
            "Epoch 244/300\n",
            "100/100 [==============================] - 0s 233us/sample - loss: 0.0155 - mse: 0.0155\n",
            "Epoch 245/300\n",
            "100/100 [==============================] - 0s 214us/sample - loss: 0.0153 - mse: 0.0153\n",
            "Epoch 246/300\n",
            "100/100 [==============================] - 0s 209us/sample - loss: 0.0151 - mse: 0.0151\n",
            "Epoch 247/300\n",
            "100/100 [==============================] - 0s 275us/sample - loss: 0.0149 - mse: 0.0149\n",
            "Epoch 248/300\n",
            "100/100 [==============================] - 0s 239us/sample - loss: 0.0148 - mse: 0.0148\n",
            "Epoch 249/300\n",
            "100/100 [==============================] - 0s 260us/sample - loss: 0.0146 - mse: 0.0146\n",
            "Epoch 250/300\n",
            "100/100 [==============================] - 0s 284us/sample - loss: 0.0145 - mse: 0.0145\n",
            "Epoch 251/300\n",
            "100/100 [==============================] - 0s 259us/sample - loss: 0.0143 - mse: 0.0143\n",
            "Epoch 252/300\n",
            "100/100 [==============================] - 0s 263us/sample - loss: 0.0142 - mse: 0.0142\n",
            "Epoch 253/300\n",
            "100/100 [==============================] - 0s 232us/sample - loss: 0.0140 - mse: 0.0140\n",
            "Epoch 254/300\n",
            "100/100 [==============================] - 0s 288us/sample - loss: 0.0139 - mse: 0.0139\n",
            "Epoch 255/300\n",
            "100/100 [==============================] - 0s 353us/sample - loss: 0.0137 - mse: 0.0137\n",
            "Epoch 256/300\n",
            "100/100 [==============================] - 0s 298us/sample - loss: 0.0136 - mse: 0.0136\n",
            "Epoch 257/300\n",
            "100/100 [==============================] - 0s 255us/sample - loss: 0.0134 - mse: 0.0134\n",
            "Epoch 258/300\n",
            "100/100 [==============================] - 0s 350us/sample - loss: 0.0132 - mse: 0.0132\n",
            "Epoch 259/300\n",
            "100/100 [==============================] - 0s 268us/sample - loss: 0.0131 - mse: 0.0131\n",
            "Epoch 260/300\n",
            "100/100 [==============================] - 0s 208us/sample - loss: 0.0130 - mse: 0.0130\n",
            "Epoch 261/300\n",
            "100/100 [==============================] - 0s 221us/sample - loss: 0.0128 - mse: 0.0128\n",
            "Epoch 262/300\n",
            "100/100 [==============================] - 0s 230us/sample - loss: 0.0127 - mse: 0.0127\n",
            "Epoch 263/300\n",
            "100/100 [==============================] - 0s 241us/sample - loss: 0.0125 - mse: 0.0125\n",
            "Epoch 264/300\n",
            "100/100 [==============================] - 0s 220us/sample - loss: 0.0124 - mse: 0.0124\n",
            "Epoch 265/300\n",
            "100/100 [==============================] - 0s 283us/sample - loss: 0.0122 - mse: 0.0122\n",
            "Epoch 266/300\n",
            "100/100 [==============================] - 0s 250us/sample - loss: 0.0121 - mse: 0.0121\n",
            "Epoch 267/300\n",
            "100/100 [==============================] - 0s 226us/sample - loss: 0.0119 - mse: 0.0119\n",
            "Epoch 268/300\n",
            "100/100 [==============================] - 0s 230us/sample - loss: 0.0118 - mse: 0.0118\n",
            "Epoch 269/300\n",
            "100/100 [==============================] - 0s 257us/sample - loss: 0.0117 - mse: 0.0117\n",
            "Epoch 270/300\n",
            "100/100 [==============================] - 0s 281us/sample - loss: 0.0115 - mse: 0.0115\n",
            "Epoch 271/300\n",
            "100/100 [==============================] - 0s 276us/sample - loss: 0.0114 - mse: 0.0114\n",
            "Epoch 272/300\n",
            "100/100 [==============================] - 0s 242us/sample - loss: 0.0113 - mse: 0.0113\n",
            "Epoch 273/300\n",
            "100/100 [==============================] - 0s 229us/sample - loss: 0.0111 - mse: 0.0111\n",
            "Epoch 274/300\n",
            "100/100 [==============================] - 0s 221us/sample - loss: 0.0110 - mse: 0.0110\n",
            "Epoch 275/300\n",
            "100/100 [==============================] - 0s 241us/sample - loss: 0.0108 - mse: 0.0108\n",
            "Epoch 276/300\n",
            "100/100 [==============================] - 0s 264us/sample - loss: 0.0107 - mse: 0.0107\n",
            "Epoch 277/300\n",
            "100/100 [==============================] - 0s 234us/sample - loss: 0.0106 - mse: 0.0106\n",
            "Epoch 278/300\n",
            "100/100 [==============================] - 0s 245us/sample - loss: 0.0104 - mse: 0.0104\n",
            "Epoch 279/300\n",
            "100/100 [==============================] - 0s 257us/sample - loss: 0.0103 - mse: 0.0103\n",
            "Epoch 280/300\n",
            "100/100 [==============================] - 0s 216us/sample - loss: 0.0102 - mse: 0.0102\n",
            "Epoch 281/300\n",
            "100/100 [==============================] - 0s 285us/sample - loss: 0.0100 - mse: 0.0100\n",
            "Epoch 282/300\n",
            "100/100 [==============================] - 0s 217us/sample - loss: 0.0099 - mse: 0.0099\n",
            "Epoch 283/300\n",
            "100/100 [==============================] - 0s 233us/sample - loss: 0.0098 - mse: 0.0098\n",
            "Epoch 284/300\n",
            "100/100 [==============================] - 0s 284us/sample - loss: 0.0096 - mse: 0.0096\n",
            "Epoch 285/300\n",
            "100/100 [==============================] - 0s 239us/sample - loss: 0.0095 - mse: 0.0095\n",
            "Epoch 286/300\n",
            "100/100 [==============================] - 0s 254us/sample - loss: 0.0094 - mse: 0.0094\n",
            "Epoch 287/300\n",
            "100/100 [==============================] - 0s 244us/sample - loss: 0.0092 - mse: 0.0092\n",
            "Epoch 288/300\n",
            "100/100 [==============================] - 0s 232us/sample - loss: 0.0091 - mse: 0.0091\n",
            "Epoch 289/300\n",
            "100/100 [==============================] - 0s 239us/sample - loss: 0.0090 - mse: 0.0090\n",
            "Epoch 290/300\n",
            "100/100 [==============================] - 0s 251us/sample - loss: 0.0089 - mse: 0.0089\n",
            "Epoch 291/300\n",
            "100/100 [==============================] - 0s 257us/sample - loss: 0.0088 - mse: 0.0088\n",
            "Epoch 292/300\n",
            "100/100 [==============================] - 0s 337us/sample - loss: 0.0086 - mse: 0.0086\n",
            "Epoch 293/300\n",
            "100/100 [==============================] - 0s 376us/sample - loss: 0.0085 - mse: 0.0085\n",
            "Epoch 294/300\n",
            "100/100 [==============================] - 0s 283us/sample - loss: 0.0084 - mse: 0.0084\n",
            "Epoch 295/300\n",
            "100/100 [==============================] - 0s 245us/sample - loss: 0.0083 - mse: 0.0083\n",
            "Epoch 296/300\n",
            "100/100 [==============================] - 0s 237us/sample - loss: 0.0082 - mse: 0.0082\n",
            "Epoch 297/300\n",
            "100/100 [==============================] - 0s 212us/sample - loss: 0.0081 - mse: 0.0081\n",
            "Epoch 298/300\n",
            "100/100 [==============================] - 0s 233us/sample - loss: 0.0079 - mse: 0.0079\n",
            "Epoch 299/300\n",
            "100/100 [==============================] - 0s 264us/sample - loss: 0.0078 - mse: 0.0078\n",
            "Epoch 300/300\n",
            "100/100 [==============================] - 0s 245us/sample - loss: 0.0077 - mse: 0.0077\n"
          ],
          "name": "stdout"
        },
        {
          "output_type": "execute_result",
          "data": {
            "text/plain": [
              "<tensorflow.python.keras.callbacks.History at 0x7f4949eddba8>"
            ]
          },
          "metadata": {
            "tags": []
          },
          "execution_count": 11
        }
      ]
    },
    {
      "cell_type": "code",
      "metadata": {
        "id": "132nTFbp-9bX",
        "colab_type": "code",
        "outputId": "124be843-e261-44e4-c3d4-37d2593369aa",
        "colab": {
          "base_uri": "https://localhost:8080/",
          "height": 265
        }
      },
      "source": [
        "import matplotlib.pyplot as plt\n",
        "lv=[]\n",
        "lvr=[]\n",
        "for i in range(100):\n",
        "  seq=[[math.sin((i+j)*delta)] for j in range(4)]\n",
        "  lv.append(model.predict([seq])[0][0])\n",
        "  lvr.append(math.sin((i+4)*delta))\n",
        "plt.plot(lv,color='blue')#previsão\n",
        "plt.plot(lvr,color='red')#real\n",
        "plt.show()"
      ],
      "execution_count": 12,
      "outputs": [
        {
          "output_type": "display_data",
          "data": {
            "image/png": "[encoded data removed]",
            "text/plain": [
              "<Figure size 432x288 with 1 Axes>"
            ]
          },
          "metadata": {
            "tags": []
          }
        }
      ]
    },
    {
      "cell_type": "code",
      "metadata": {
        "id": "SZ3k1gyulkXw",
        "colab_type": "code",
        "outputId": "61bf8f13-76c9-41d2-8618-d2bb72608680",
        "colab": {
          "base_uri": "https://localhost:8080/",
          "height": 68
        }
      },
      "source": [
        "w=model.get_weights()\n",
        "w"
      ],
      "execution_count": 13,
      "outputs": [
        {
          "output_type": "execute_result",
          "data": {
            "text/plain": [
              "[array([[1.4513222]], dtype=float32),\n",
              " array([[-0.58284885]], dtype=float32),\n",
              " array([0.01524529], dtype=float32)]"
            ]
          },
          "metadata": {
            "tags": []
          },
          "execution_count": 13
        }
      ]
    },
    {
      "cell_type": "code",
      "metadata": {
        "id": "cWXncDGjFHxH",
        "colab_type": "code",
        "colab": {
          "base_uri": "https://localhost:8080/",
          "height": 34
        },
        "outputId": "c74f808b-c44c-4886-9130-ec32db338f7b"
      },
      "source": [
        "model.predict([[[math.sin(delta)]]])"
      ],
      "execution_count": 14,
      "outputs": [
        {
          "output_type": "execute_result",
          "data": {
            "text/plain": [
              "array([[0.46372852]], dtype=float32)"
            ]
          },
          "metadata": {
            "tags": []
          },
          "execution_count": 14
        }
      ]
    },
    {
      "cell_type": "code",
      "metadata": {
        "id": "BafDsri0FMSh",
        "colab_type": "code",
        "colab": {
          "base_uri": "https://localhost:8080/",
          "height": 34
        },
        "outputId": "4b3b4b4e-4841-4b6c-fef9-66ff5cebf793"
      },
      "source": [
        "# First time\n",
        "\n",
        "out = math.sin(delta)*1.4513222+0.01524529\n",
        "out"
      ],
      "execution_count": 16,
      "outputs": [
        {
          "output_type": "execute_result",
          "data": {
            "text/plain": [
              "0.46372851411363625"
            ]
          },
          "metadata": {
            "tags": []
          },
          "execution_count": 16
        }
      ]
    },
    {
      "cell_type": "code",
      "metadata": {
        "id": "bjHV6DkzFhno",
        "colab_type": "code",
        "colab": {
          "base_uri": "https://localhost:8080/",
          "height": 34
        },
        "outputId": "59140145-9486-4490-c69c-d464aaf8e6d4"
      },
      "source": [
        "model.predict([[[math.sin(delta)], [math.sin(2*delta)]]])"
      ],
      "execution_count": 17,
      "outputs": [
        {
          "output_type": "execute_result",
          "data": {
            "text/plain": [
              "array([[0.59802747]], dtype=float32)"
            ]
          },
          "metadata": {
            "tags": []
          },
          "execution_count": 17
        }
      ]
    },
    {
      "cell_type": "code",
      "metadata": {
        "id": "Y0Sh6iVXFqQv",
        "colab_type": "code",
        "colab": {
          "base_uri": "https://localhost:8080/",
          "height": 34
        },
        "outputId": "010ef6ec-1c16-46f7-bbb2-506188ea0d86"
      },
      "source": [
        "# Second time\n",
        "out1 = math.sin(2 * delta) * 1.4513222 + out * (-0.58284885) + 0.01524529\n",
        "out1 "
      ],
      "execution_count": 21,
      "outputs": [
        {
          "output_type": "execute_result",
          "data": {
            "text/plain": [
              "0.5980274443213254"
            ]
          },
          "metadata": {
            "tags": []
          },
          "execution_count": 21
        }
      ]
    },
    {
      "cell_type": "code",
      "metadata": {
        "id": "nHzMeZUqGPbe",
        "colab_type": "code",
        "colab": {
          "base_uri": "https://localhost:8080/",
          "height": 34
        },
        "outputId": "35d5e3fd-8180-457f-951d-0103a92fc78f"
      },
      "source": [
        "model.predict([[[math.sin(delta)], [math.sin(2*delta)], [math.sin(3*delta)]]])"
      ],
      "execution_count": 22,
      "outputs": [
        {
          "output_type": "execute_result",
          "data": {
            "text/plain": [
              "array([[0.8408301]], dtype=float32)"
            ]
          },
          "metadata": {
            "tags": []
          },
          "execution_count": 22
        }
      ]
    },
    {
      "cell_type": "code",
      "metadata": {
        "id": "awrC054xGIw0",
        "colab_type": "code",
        "colab": {
          "base_uri": "https://localhost:8080/",
          "height": 34
        },
        "outputId": "573b702b-0de8-43d2-c9e2-175cf7ea9d1e"
      },
      "source": [
        "# Third time\n",
        "\n",
        "out2 = math.sin(3 * delta) * 1.4513222 + out1 * (-0.58284885) + 0.01524529\n",
        "out2"
      ],
      "execution_count": 23,
      "outputs": [
        {
          "output_type": "execute_result",
          "data": {
            "text/plain": [
              "0.8408300059225127"
            ]
          },
          "metadata": {
            "tags": []
          },
          "execution_count": 23
        }
      ]
    }
  ]
}