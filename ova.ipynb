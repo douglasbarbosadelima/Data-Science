{
  "nbformat": 4,
  "nbformat_minor": 0,
  "metadata": {
    "kernelspec": {
      "display_name": "Python 3",
      "language": "python",
      "name": "python3"
    },
    "language_info": {
      "codemirror_mode": {
        "name": "ipython",
        "version": 3
      },
      "file_extension": ".py",
      "mimetype": "text/x-python",
      "name": "python",
      "nbconvert_exporter": "python",
      "pygments_lexer": "ipython3",
      "version": "3.6.3"
    },
    "colab": {
      "name": "ova.ipynb",
      "provenance": [],
      "collapsed_sections": [],
      "include_colab_link": true
    }
  },
  "cells": [
    {
      "cell_type": "markdown",
      "metadata": {
        "id": "view-in-github",
        "colab_type": "text"
      },
      "source": [
        "<a href=\"https://colab.research.google.com/github/douglasbarbosadelima/Data-Science/blob/master/ova.ipynb\" target=\"_parent\"><img src=\"https://colab.research.google.com/assets/colab-badge.svg\" alt=\"Open In Colab\"/></a>"
      ]
    },
    {
      "cell_type": "code",
      "metadata": {
        "id": "p8Zsiu5QCSzA",
        "colab_type": "code",
        "colab": {},
        "outputId": "6c5073bb-50b3-4877-c8e9-b2022e5b2640"
      },
      "source": [
        "Mullticlassifcação OVA para Iris_res"
      ],
      "execution_count": 0,
      "outputs": [
        {
          "output_type": "error",
          "ename": "SyntaxError",
          "evalue": "invalid syntax (<ipython-input-51-347d15a26c32>, line 1)",
          "traceback": [
            "\u001b[1;36m  File \u001b[1;32m\"<ipython-input-51-347d15a26c32>\"\u001b[1;36m, line \u001b[1;32m1\u001b[0m\n\u001b[1;33m    Mullticlassifcação OVA para Iris_res\u001b[0m\n\u001b[1;37m                         ^\u001b[0m\n\u001b[1;31mSyntaxError\u001b[0m\u001b[1;31m:\u001b[0m invalid syntax\n"
          ]
        }
      ]
    },
    {
      "cell_type": "code",
      "metadata": {
        "id": "M57tP4gyCSzL",
        "colab_type": "code",
        "colab": {}
      },
      "source": [
        "import pandas as pd\n",
        "import numpy as np\n",
        "from sklearn.linear_model import LogisticRegression\n",
        "from sklearn.metrics import accuracy_score\n",
        "\n",
        "df=pd.read_csv('c:\\\\dados\\\\iris.txt',names=['m1','m2','m3','m4','esp'])\n",
        "df.head()"
      ],
      "execution_count": 0,
      "outputs": []
    },
    {
      "cell_type": "markdown",
      "metadata": {
        "id": "oFfichgSCSzQ",
        "colab_type": "text"
      },
      "source": [
        "Montar a Matriz X  e os vetores y, y_setosa, y_virginica e y_versicolor (com zeros e uns)"
      ]
    },
    {
      "cell_type": "code",
      "metadata": {
        "id": "CEO9lFIFCSzR",
        "colab_type": "code",
        "colab": {}
      },
      "source": [
        "X=np.zeros((len(df),4))\n",
        "X[:,0]=df['m1']\n",
        "X[:,1]=df['m2']\n",
        "X[:,2]=df['m3']\n",
        "X[:,3]=df['m4']\n",
        "y=df['esp']\n",
        "\n",
        "y_setosa=np.zeros((len(df),))\n",
        "for i in range(len(df)):\n",
        "    if y[i]=='Iris-setosa':y_setosa[i]=1\n",
        "    \n",
        "    \n",
        "y_virginica=np.zeros((len(df),))\n",
        "for i in range(len(df)):\n",
        "    if y[i]=='Iris-virginica':y_virginica[i]=1\n",
        "    \n",
        "    \n",
        "y_versicolor=np.zeros((len(df),))\n",
        "for i in range(len(df)):\n",
        "    if y[i]=='Iris-versicolor':y_versicolor[i]=1\n",
        "        \n",
        "y_setosa.sum(),y_virginica.sum(),y_versicolor.sum(),\n",
        "    "
      ],
      "execution_count": 0,
      "outputs": []
    },
    {
      "cell_type": "markdown",
      "metadata": {
        "id": "NgpIO5EqCSzW",
        "colab_type": "text"
      },
      "source": [
        "Criar os 3 classificadores binários "
      ]
    },
    {
      "cell_type": "code",
      "metadata": {
        "id": "pQW1yFPnCSzX",
        "colab_type": "code",
        "colab": {}
      },
      "source": [
        "cl_setosa=LogisticRegression()\n",
        "cl_versicolor=LogisticRegression()\n",
        "cl_virginica=LogisticRegression()\n",
        "\n"
      ],
      "execution_count": 0,
      "outputs": []
    },
    {
      "cell_type": "markdown",
      "metadata": {
        "id": "N8jd3C_xCSzb",
        "colab_type": "text"
      },
      "source": [
        "Treinar os 3 modelos"
      ]
    },
    {
      "cell_type": "code",
      "metadata": {
        "id": "nUAJ_UjZCSzd",
        "colab_type": "code",
        "colab": {}
      },
      "source": [
        "cl_setosa.fit(X,y_setosa)\n",
        "cl_versicolor.fit(X,y_versicolor)\n",
        "cl_virginica.fit(X,y_virginica)\n"
      ],
      "execution_count": 0,
      "outputs": []
    },
    {
      "cell_type": "markdown",
      "metadata": {
        "id": "VPYeY466CSzh",
        "colab_type": "text"
      },
      "source": [
        "Fazer as 3 predições"
      ]
    },
    {
      "cell_type": "code",
      "metadata": {
        "id": "stSGn6QrCSzi",
        "colab_type": "code",
        "colab": {}
      },
      "source": [
        "ye_setosa=cl_setosa.predict(X)\n",
        "ye_versicolor=cl_versicolor.predict(X)\n",
        "ye_virginica=cl_virginica.predict(X)\n"
      ],
      "execution_count": 0,
      "outputs": []
    },
    {
      "cell_type": "markdown",
      "metadata": {
        "id": "eTfATtE2CSzn",
        "colab_type": "text"
      },
      "source": [
        "Calcular as 3 acurácias"
      ]
    },
    {
      "cell_type": "code",
      "metadata": {
        "id": "sXSN8VabCSzo",
        "colab_type": "code",
        "colab": {}
      },
      "source": [
        "accuracy_score(ye_setosa,y_setosa),accuracy_score(ye_versicolor,y_versicolor),accuracy_score(ye_virginica,y_virginica)"
      ],
      "execution_count": 0,
      "outputs": []
    },
    {
      "cell_type": "markdown",
      "metadata": {
        "id": "cuF_RvkKCSzs",
        "colab_type": "text"
      },
      "source": [
        "Recriar o modelo com os thetas para geraras predições sem threshold\n"
      ]
    },
    {
      "cell_type": "code",
      "metadata": {
        "id": "DQDwQlpECSzt",
        "colab_type": "code",
        "colab": {}
      },
      "source": [
        "theta_set=np.zeros((5,))\n",
        "theta_set[0]=cl_setosa.intercept_\n",
        "for i in range(1,5):\n",
        "    theta_set[i]=cl_setosa.coef_[0][i-1]\n",
        "    \n",
        "theta_ver=np.zeros((5,))\n",
        "theta_ver[0]=cl_versicolor.intercept_\n",
        "for i in range(1,5):\n",
        "    theta_ver[i]=cl_versicolor.coef_[0][i-1]\n",
        "    \n",
        "theta_vir=np.zeros((5,))\n",
        "theta_vir[0]=cl_virginica.intercept_\n",
        "for i in range(1,5):\n",
        "    theta_vir[i]=cl_virginica.coef_[0][i-1]\n"
      ],
      "execution_count": 0,
      "outputs": []
    },
    {
      "cell_type": "code",
      "metadata": {
        "id": "0lKS861cCSzy",
        "colab_type": "code",
        "colab": {}
      },
      "source": [
        "#sigmoide\n",
        "import math\n",
        "def sig(x):\n",
        "    return 1/(1+math.exp(-x))"
      ],
      "execution_count": 0,
      "outputs": []
    },
    {
      "cell_type": "code",
      "metadata": {
        "id": "ZvJEui9LCSz2",
        "colab_type": "code",
        "colab": {}
      },
      "source": [
        "#predições"
      ],
      "execution_count": 0,
      "outputs": []
    },
    {
      "cell_type": "code",
      "metadata": {
        "id": "bbwh0SfpCSz6",
        "colab_type": "code",
        "colab": {}
      },
      "source": [
        "x=X[0] #escolha um x em X\n",
        "x1=np.zeros((5,))\n",
        "x1[0]=1\n",
        "for i in range(1,5):\n",
        "    x1[i]=x[i-1]\n",
        "\n",
        "pred_set=sig(np.inner(theta_set,x1))\n",
        "pred_ver=sig(np.inner(theta_ver,x1))\n",
        "pred_vir=sig(np.inner(theta_vir,x1))\n",
        "\n",
        "pred_set,pred_ver,pred_vir\n"
      ],
      "execution_count": 0,
      "outputs": []
    }
  ]
}